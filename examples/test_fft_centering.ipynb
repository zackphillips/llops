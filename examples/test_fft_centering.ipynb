{
 "cells": [
  {
   "cell_type": "code",
   "execution_count": 8,
   "metadata": {
    "ExecuteTime": {
     "end_time": "2018-10-31T15:57:08.469124Z",
     "start_time": "2018-10-31T15:57:08.445448Z"
    }
   },
   "outputs": [
    {
     "name": "stdout",
     "output_type": "stream",
     "text": [
      "The autoreload extension is already loaded. To reload it, use:\n",
      "  %reload_ext autoreload\n",
      "llops backend is numpy\n",
      "FFT Backend is fftw\n"
     ]
    }
   ],
   "source": [
    "%matplotlib notebook\n",
    "%load_ext autoreload\n",
    "%autoreload 2\n",
    "\n",
    "import matplotlib.pyplot as plt\n",
    "import llops as yp\n",
    "\n",
    "print('llops backend is %s' % yp.config.default_backend)\n",
    "print('FFT Backend is %s' % yp.config.default_fft_backend)"
   ]
  },
  {
   "cell_type": "markdown",
   "metadata": {},
   "source": [
    "# Generate Object"
   ]
  },
  {
   "cell_type": "code",
   "execution_count": 83,
   "metadata": {
    "ExecuteTime": {
     "end_time": "2018-10-31T16:14:34.513250Z",
     "start_time": "2018-10-31T16:14:34.477232Z"
    }
   },
   "outputs": [],
   "source": [
    "x_even = yp.simulation.cameraman(shape=(100, 100))\n",
    "x_odd = yp.simulation.cameraman(shape=(101, 101))"
   ]
  },
  {
   "cell_type": "markdown",
   "metadata": {},
   "source": [
    "# Ensure FFT is Unitary for Even and Odd array sizes"
   ]
  },
  {
   "cell_type": "code",
   "execution_count": 84,
   "metadata": {
    "ExecuteTime": {
     "end_time": "2018-10-31T16:14:35.061696Z",
     "start_time": "2018-10-31T16:14:35.039523Z"
    }
   },
   "outputs": [],
   "source": [
    "yp.assert_equality(x_even, yp.iFt(yp.Ft(x_even)))\n",
    "yp.assert_equality(x_odd, yp.iFt(yp.Ft(x_odd)))"
   ]
  },
  {
   "cell_type": "markdown",
   "metadata": {},
   "source": [
    "# Ensure Centering is Correct"
   ]
  },
  {
   "cell_type": "code",
   "execution_count": 85,
   "metadata": {
    "ExecuteTime": {
     "end_time": "2018-10-31T16:14:35.625305Z",
     "start_time": "2018-10-31T16:14:35.601498Z"
    }
   },
   "outputs": [],
   "source": [
    "test_even = yp.zeros((100,100))\n",
    "test_even[50,50] = 1\n",
    "test_odd = yp.zeros((101,101))\n",
    "test_odd[51,51] = 1\n",
    "\n",
    "assert yp.sum(yp.abs(yp.angle(yp.Ft(test_even)))) < 1e-2\n",
    "assert yp.sum(yp.abs(yp.angle(yp.Ft(test_odd))))  < 1e-2"
   ]
  }
 ],
 "metadata": {
  "kernelspec": {
   "display_name": "Python 3",
   "language": "python",
   "name": "python3"
  },
  "language_info": {
   "codemirror_mode": {
    "name": "ipython",
    "version": 3
   },
   "file_extension": ".py",
   "mimetype": "text/x-python",
   "name": "python",
   "nbconvert_exporter": "python",
   "pygments_lexer": "ipython3",
   "version": "3.7.0"
  }
 },
 "nbformat": 4,
 "nbformat_minor": 2
}
