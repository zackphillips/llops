{
 "cells": [
  {
   "cell_type": "markdown",
   "metadata": {},
   "source": [
    "## llops Crop and Pad Examples"
   ]
  },
  {
   "cell_type": "code",
   "execution_count": null,
   "metadata": {
    "ExecuteTime": {
     "end_time": "2018-10-12T22:10:29.985812Z",
     "start_time": "2018-10-12T22:10:29.946077Z"
    }
   },
   "outputs": [],
   "source": [
    "%load_ext autoreload\n",
    "%autoreload 2\n",
    "%matplotlib notebook\n",
    "\n",
    "import matplotlib.pyplot as plt\n",
    "import llops as yp\n",
    "import imageio"
   ]
  },
  {
   "cell_type": "markdown",
   "metadata": {},
   "source": [
    "## Load Test Object"
   ]
  },
  {
   "cell_type": "code",
   "execution_count": null,
   "metadata": {
    "ExecuteTime": {
     "end_time": "2018-10-12T22:10:32.577288Z",
     "start_time": "2018-10-12T22:10:32.496495Z"
    }
   },
   "outputs": [],
   "source": [
    "image_filename = '../resources/test_object.tiff'\n",
    "x = yp.asarray(imageio.imread(image_filename), backend='numpy', dtype='float32')\n",
    "plt.figure(figsize=(5,3))\n",
    "plt.imshow(yp.real(x))"
   ]
  },
  {
   "cell_type": "markdown",
   "metadata": {},
   "source": [
    "## Test Crop"
   ]
  },
  {
   "cell_type": "code",
   "execution_count": null,
   "metadata": {
    "ExecuteTime": {
     "end_time": "2018-10-12T22:10:35.604079Z",
     "start_time": "2018-10-12T22:10:35.533613Z"
    }
   },
   "outputs": [],
   "source": [
    "full_size = yp.shape(x)\n",
    "crop_size = (200,200)\n",
    "crop_start = (100,100)\n",
    "\n",
    "# Create x\n",
    "x_np = yp.zeros(full_size, backend='numpy')\n",
    "x_np[25:75,25:75] = 1\n",
    "\n",
    "# Crop\n",
    "x_np_crop = yp.crop(x_np, crop_size, crop_start)\n",
    "\n",
    "if 'arrayfire' in yp.valid_backends:\n",
    "    x_af = yp.asbackend(x_np, 'arrayfire')\n",
    "    \n",
    "    x_af_crop = yp.crop(x_af, crop_size, crop_start)\n",
    "    \n",
    "    yp.assert_equality(x_af_crop, x_np_crop)"
   ]
  },
  {
   "cell_type": "markdown",
   "metadata": {},
   "source": [
    "## Test Padding (Numpy)"
   ]
  },
  {
   "cell_type": "code",
   "execution_count": null,
   "metadata": {
    "ExecuteTime": {
     "end_time": "2018-10-12T22:25:53.828534Z",
     "start_time": "2018-10-12T22:25:52.906776Z"
    }
   },
   "outputs": [],
   "source": [
    "padded_size = [int(1.5 * s) for s in yp.shape(x)]\n",
    "\n",
    "# Pad with numpy backend\n",
    "x_np_padded_zero = yp.pad(x, padded_size, pad_value=0)\n",
    "x_np_padded_mean = yp.pad(x, padded_size, pad_value='mean')\n",
    "x_np_padded_repeat = yp.pad(x, padded_size, pad_value='repeat')\n",
    "x_np_padded_reflect = yp.pad(x, padded_size, pad_value='reflect')\n",
    "x_np_padded_edge = yp.pad(x, padded_size, pad_value='edge')\n",
    "x_np_padded_median = yp.pad(x, padded_size, pad_value='median')\n",
    "x_np_padded_maximum = yp.pad(x, padded_size, pad_value='maximum')\n",
    "x_np_padded_minimum = yp.pad(x, padded_size, pad_value='minimum')\n",
    "x_np_padded_rand = yp.pad(x, padded_size, pad_value='rand')\n",
    "x_np_padded_randn = yp.pad(x, padded_size, pad_value='randn')\n",
    "\n",
    "plt.figure(figsize=(12,4))\n",
    "plt.subplot(251)\n",
    "plt.imshow(x_np_padded_zero)\n",
    "plt.title('Zero-Pad')\n",
    "plt.subplot(252)\n",
    "plt.imshow(x_np_padded_mean)\n",
    "plt.title('Mean-Pad')\n",
    "plt.subplot(253)\n",
    "plt.imshow(x_np_padded_repeat)\n",
    "plt.title('Repeat-Pad')\n",
    "plt.subplot(254)\n",
    "plt.imshow(x_np_padded_reflect)\n",
    "plt.title('Reflect-Pad')\n",
    "plt.subplot(255)\n",
    "plt.imshow(x_np_padded_edge)\n",
    "plt.title('Edge-Pad')\n",
    "plt.subplot(256)\n",
    "plt.imshow(x_np_padded_median)\n",
    "plt.title('Median-Pad')\n",
    "plt.subplot(257)\n",
    "plt.imshow(x_np_padded_maximum)\n",
    "plt.title('Maximum-Pad')\n",
    "plt.subplot(258)\n",
    "plt.imshow(x_np_padded_minimum)\n",
    "plt.title('Mininum-Pad')\n",
    "plt.subplot(259)\n",
    "plt.imshow(x_np_padded_rand)\n",
    "plt.title('Random (Uniform) Pad')\n",
    "plt.subplot(2,5,10)\n",
    "plt.imshow(x_np_padded_randn)\n",
    "plt.title('Random (Normal) Pad')"
   ]
  },
  {
   "cell_type": "code",
   "execution_count": null,
   "metadata": {
    "ExecuteTime": {
     "end_time": "2018-10-12T22:25:31.812824Z",
     "start_time": "2018-10-12T22:25:31.220645Z"
    }
   },
   "outputs": [],
   "source": [
    "padded_size = [int(1.5 * s) for s in yp.shape(x)]\n",
    "\n",
    "# Convert to arrayfire backend\n",
    "x_af = yp.asbackend(x, 'arrayfire')\n",
    "\n",
    "# Pad with numpy backend\n",
    "x_af_padded_zero = yp.pad(x_af, padded_size, pad_value=0)\n",
    "x_af_padded_mean = yp.pad(x_af, padded_size, pad_value='mean')\n",
    "x_af_padded_repeat = yp.pad(x_af, padded_size, pad_value='repeat')\n",
    "x_af_padded_reflect = yp.pad(x_af, padded_size, pad_value='reflect')\n",
    "x_af_padded_edge = yp.pad(x_af, padded_size, pad_value='edge')\n",
    "x_af_padded_median = yp.pad(x_af, padded_size, pad_value='median')\n",
    "x_af_padded_maximum = yp.pad(x_af, padded_size, pad_value='maximum')\n",
    "x_af_padded_minimum = yp.pad(x_af, padded_size, pad_value='minimum')\n",
    "x_af_padded_rand = yp.pad(x_af, padded_size, pad_value='rand')\n",
    "x_af_padded_randn = yp.pad(x_af, padded_size, pad_value='randn')\n",
    "\n",
    "plt.figure(figsize=(12,4))\n",
    "plt.subplot(251)\n",
    "plt.imshow(yp.real(x_af_padded_zero))\n",
    "plt.title('Zero-Pad')\n",
    "plt.subplot(252)\n",
    "plt.imshow(yp.real(x_af_padded_mean))\n",
    "plt.title('Mean-Pad')\n",
    "plt.subplot(253)\n",
    "plt.imshow(yp.real(x_af_padded_repeat))\n",
    "plt.title('Repeat-Pad')\n",
    "plt.subplot(254)\n",
    "plt.imshow(yp.real(x_af_padded_reflect))\n",
    "plt.title('Reflect-Pad')\n",
    "plt.subplot(255)\n",
    "plt.imshow(yp.real(x_af_padded_edge))\n",
    "plt.title('Edge-Pad')\n",
    "plt.subplot(256)\n",
    "plt.imshow(yp.real(x_af_padded_median))\n",
    "plt.title('Median-Pad')\n",
    "plt.subplot(257)\n",
    "plt.imshow(yp.real(x_af_padded_maximum))\n",
    "plt.title('Maximum-Pad')\n",
    "plt.subplot(258)\n",
    "plt.imshow(yp.real(x_af_padded_minimum))\n",
    "plt.title('Mininum-Pad')\n",
    "plt.subplot(259)\n",
    "plt.imshow(yp.real(x_af_padded_rand))\n",
    "plt.title('Random (Uniform) Pad')\n",
    "plt.subplot(2,5,10)\n",
    "plt.imshow(yp.real(x_af_padded_randn))\n",
    "plt.title('Random (Normal) Pad')"
   ]
  }
 ],
 "metadata": {
  "kernelspec": {
   "display_name": "Python 3",
   "language": "python",
   "name": "python3"
  },
  "language_info": {
   "codemirror_mode": {
    "name": "ipython",
    "version": 3
   },
   "file_extension": ".py",
   "mimetype": "text/x-python",
   "name": "python",
   "nbconvert_exporter": "python",
   "pygments_lexer": "ipython3",
   "version": "3.6.5"
  }
 },
 "nbformat": 4,
 "nbformat_minor": 2
}
