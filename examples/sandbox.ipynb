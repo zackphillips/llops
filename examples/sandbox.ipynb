{
 "cells": [
  {
   "cell_type": "code",
   "execution_count": 1,
   "metadata": {
    "ExecuteTime": {
     "end_time": "2018-08-31T16:46:01.658772Z",
     "start_time": "2018-08-31T16:45:59.272492Z"
    }
   },
   "outputs": [],
   "source": [
    "%load_ext autoreload\n",
    "%autoreload 2\n",
    "\n",
    "import llops as yp\n",
    "import numpy as np\n",
    "import arrayfire"
   ]
  },
  {
   "cell_type": "markdown",
   "metadata": {},
   "source": [
    "## Where function"
   ]
  },
  {
   "cell_type": "code",
   "execution_count": 3,
   "metadata": {
    "ExecuteTime": {
     "end_time": "2018-08-31T16:46:06.712122Z",
     "start_time": "2018-08-31T16:46:06.680279Z"
    }
   },
   "outputs": [
    {
     "name": "stdout",
     "output_type": "stream",
     "text": [
      "((50, 51), (52, 53))\n",
      "((50, 51), (52, 53))\n"
     ]
    }
   ],
   "source": [
    "a = yp.zeros(sz, backend='numpy')\n",
    "a[50,51] = 1\n",
    "a[52,53] = 1\n",
    "\n",
    "# Numpy\n",
    "print(tuple([(i[0], i[1]) for i in np.asarray(np.where(a)).T]))\n",
    "print(yp.where(a))"
   ]
  },
  {
   "cell_type": "code",
   "execution_count": 7,
   "metadata": {
    "ExecuteTime": {
     "end_time": "2018-08-31T16:46:52.773093Z",
     "start_time": "2018-08-31T16:46:52.734981Z"
    }
   },
   "outputs": [
    {
     "name": "stdout",
     "output_type": "stream",
     "text": [
      "((50, 51), (52, 53))\n",
      "((50, 51), (52, 53))\n"
     ]
    }
   ],
   "source": [
    "x = yp.zeros(sz, backend='arrayfire')\n",
    "x[50,51] = 1\n",
    "x[52,53] = 1\n",
    "\n",
    "\n",
    "print(tuple([tuple(reversed(np.unravel_index(i, x.shape))) for i in np.asarray(arrayfire.algorithm.where(x))]))\n",
    "print(yp.where(x))\n",
    "# Numpy\n",
    "# print(tuple([(i[0], i[1]) for i in np.asarray(np.where(a)).T]))"
   ]
  }
 ],
 "metadata": {
  "kernelspec": {
   "display_name": "Python 3",
   "language": "python",
   "name": "python3"
  },
  "language_info": {
   "codemirror_mode": {
    "name": "ipython",
    "version": 3
   },
   "file_extension": ".py",
   "mimetype": "text/x-python",
   "name": "python",
   "nbconvert_exporter": "python",
   "pygments_lexer": "ipython3",
   "version": "3.6.5"
  }
 },
 "nbformat": 4,
 "nbformat_minor": 2
}
