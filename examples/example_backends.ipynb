{
 "cells": [
  {
   "cell_type": "code",
   "execution_count": 22,
   "metadata": {
    "ExecuteTime": {
     "end_time": "2019-03-08T06:28:07.956741Z",
     "start_time": "2019-03-08T06:28:07.888249Z"
    }
   },
   "outputs": [
    {
     "name": "stdout",
     "output_type": "stream",
     "text": [
      "The autoreload extension is already loaded. To reload it, use:\n",
      "  %reload_ext autoreload\n"
     ]
    }
   ],
   "source": [
    "%load_ext autoreload\n",
    "%autoreload 2\n",
    "\n",
    "import llops as yp\n",
    "import torch"
   ]
  },
  {
   "cell_type": "code",
   "execution_count": 15,
   "metadata": {
    "ExecuteTime": {
     "end_time": "2019-03-08T06:18:43.630211Z",
     "start_time": "2019-03-08T06:18:43.587329Z"
    }
   },
   "outputs": [
    {
     "data": {
      "text/plain": [
       "tensor([5, 0, 5, 1, 3, 8, 6, 2, 9, 0])"
      ]
     },
     "execution_count": 15,
     "metadata": {},
     "output_type": "execute_result"
    }
   ],
   "source": [
    "torch.argmax(q, dim=1)"
   ]
  },
  {
   "cell_type": "code",
   "execution_count": 18,
   "metadata": {
    "ExecuteTime": {
     "end_time": "2019-03-08T06:20:30.164704Z",
     "start_time": "2019-03-08T06:20:30.119262Z"
    }
   },
   "outputs": [
    {
     "data": {
      "text/plain": [
       "tensor(80)"
      ]
     },
     "execution_count": 18,
     "metadata": {},
     "output_type": "execute_result"
    }
   ],
   "source": [
    "q = yp.rand((10,10), backend='torch', dtype='float32')\n",
    "yp.argmin(q)"
   ]
  },
  {
   "cell_type": "code",
   "execution_count": 21,
   "metadata": {
    "ExecuteTime": {
     "end_time": "2019-03-08T06:22:44.121744Z",
     "start_time": "2019-03-08T06:22:44.076174Z"
    }
   },
   "outputs": [
    {
     "name": "stdout",
     "output_type": "stream",
     "text": [
      "tensor([[0.4011, 0.2577, 0.4640, 0.7352, 0.6586, 0.1390, 0.7052, 0.5657, 0.0001,\n",
      "         0.9537],\n",
      "        [0.0748, 0.7208, 0.1957, 0.0973, 0.3704, 0.4656, 0.3475, 0.9610, 0.6662,\n",
      "         0.0897],\n",
      "        [0.2841, 0.9095, 0.7088, 0.7494, 0.6894, 0.5536, 0.3102, 0.0100, 0.0362,\n",
      "         0.0107],\n",
      "        [0.6485, 0.4799, 0.1844, 0.6970, 0.4505, 0.7456, 0.6142, 0.3773, 0.1804,\n",
      "         0.5487],\n",
      "        [0.5553, 0.7234, 0.4875, 0.4413, 0.3122, 0.7062, 0.2399, 0.8506, 0.8856,\n",
      "         0.8199],\n",
      "        [0.7650, 0.7566, 0.2588, 0.3636, 0.4177, 0.7355, 0.5272, 0.1048, 0.0212,\n",
      "         0.1357],\n",
      "        [0.3896, 0.6275, 0.3378, 0.4627, 0.1211, 0.1604, 0.8281, 0.8688, 0.9954,\n",
      "         0.1339],\n",
      "        [0.5401, 0.6361, 0.0324, 0.6292, 0.6517, 0.4286, 0.6559, 0.2049, 0.6067,\n",
      "         0.8211],\n",
      "        [0.1842, 0.4254, 0.9095, 0.1150, 0.3586, 0.4544, 0.2598, 0.8823, 0.4973,\n",
      "         0.9878],\n",
      "        [0.0138, 0.5898, 0.9062, 0.1403, 0.6208, 0.3324, 0.2244, 0.7773, 0.6138,\n",
      "         0.1952]])\n",
      "tensor([[0.4011, 0.0748, 0.2841, 0.6485, 0.5553, 0.7650, 0.3896, 0.5401, 0.1842,\n",
      "         0.0138],\n",
      "        [0.2577, 0.7208, 0.9095, 0.4799, 0.7234, 0.7566, 0.6275, 0.6361, 0.4254,\n",
      "         0.5898],\n",
      "        [0.4640, 0.1957, 0.7088, 0.1844, 0.4875, 0.2588, 0.3378, 0.0324, 0.9095,\n",
      "         0.9062],\n",
      "        [0.7352, 0.0973, 0.7494, 0.6970, 0.4413, 0.3636, 0.4627, 0.6292, 0.1150,\n",
      "         0.1403],\n",
      "        [0.6586, 0.3704, 0.6894, 0.4505, 0.3122, 0.4177, 0.1211, 0.6517, 0.3586,\n",
      "         0.6208],\n",
      "        [0.1390, 0.4656, 0.5536, 0.7456, 0.7062, 0.7355, 0.1604, 0.4286, 0.4544,\n",
      "         0.3324],\n",
      "        [0.7052, 0.3475, 0.3102, 0.6142, 0.2399, 0.5272, 0.8281, 0.6559, 0.2598,\n",
      "         0.2244],\n",
      "        [0.5657, 0.9610, 0.0100, 0.3773, 0.8506, 0.1048, 0.8688, 0.2049, 0.8823,\n",
      "         0.7773],\n",
      "        [0.0001, 0.6662, 0.0362, 0.1804, 0.8856, 0.0212, 0.9954, 0.6067, 0.4973,\n",
      "         0.6138],\n",
      "        [0.9537, 0.0897, 0.0107, 0.5487, 0.8199, 0.1357, 0.1339, 0.8211, 0.9878,\n",
      "         0.1952]])\n"
     ]
    }
   ],
   "source": [
    "print(q.transpose(-1,0))\n",
    "print(q)"
   ]
  },
  {
   "cell_type": "code",
   "execution_count": 2,
   "metadata": {
    "ExecuteTime": {
     "end_time": "2019-03-08T06:14:48.031533Z",
     "start_time": "2019-03-08T06:14:48.000817Z"
    }
   },
   "outputs": [
    {
     "data": {
      "text/plain": [
       "tensor([[1., 1., 1., 1., 1., 1., 1., 1., 1., 1.],\n",
       "        [1., 1., 1., 1., 1., 1., 1., 1., 1., 1.],\n",
       "        [1., 1., 1., 1., 1., 1., 1., 1., 1., 1.],\n",
       "        [1., 1., 1., 1., 1., 1., 1., 1., 1., 1.],\n",
       "        [1., 1., 1., 1., 1., 1., 1., 1., 1., 1.],\n",
       "        [1., 1., 1., 1., 1., 1., 1., 1., 1., 1.],\n",
       "        [1., 1., 1., 1., 1., 1., 1., 1., 1., 1.],\n",
       "        [1., 1., 1., 1., 1., 1., 1., 1., 1., 1.],\n",
       "        [1., 1., 1., 1., 1., 1., 1., 1., 1., 1.],\n",
       "        [1., 1., 1., 1., 1., 1., 1., 1., 1., 1.]])"
      ]
     },
     "execution_count": 2,
     "metadata": {},
     "output_type": "execute_result"
    }
   ],
   "source": [
    "torch.ones((10,10))"
   ]
  },
  {
   "cell_type": "code",
   "execution_count": null,
   "metadata": {
    "ExecuteTime": {
     "end_time": "2019-03-08T00:39:52.054021Z",
     "start_time": "2019-03-08T00:39:52.043540Z"
    }
   },
   "outputs": [],
   "source": [
    "torch.un"
   ]
  },
  {
   "cell_type": "code",
   "execution_count": null,
   "metadata": {},
   "outputs": [],
   "source": [
    "bool_\tBoolean (True or False) stored as a byte\n",
    "int_\tDefault integer type (same as C long; normally either int64 or int32)\n",
    "intc\tIdentical to C int (normally int32 or int64)\n",
    "intp\tInteger used for indexing (same as C ssize_t; normally either int32 or int64)\n",
    "int8\tByte (-128 to 127)\n",
    "int16\tInteger (-32768 to 32767)\n",
    "int32\tInteger (-2147483648 to 2147483647)\n",
    "int64\tInteger (-9223372036854775808 to 9223372036854775807)\n",
    "uint8\tUnsigned integer (0 to 255)\n",
    "uint16\tUnsigned integer (0 to 65535)\n",
    "uint32\tUnsigned integer (0 to 4294967295)\n",
    "uint64\tUnsigned integer (0 to 18446744073709551615)\n",
    "float_\tShorthand for float64.\n",
    "float16\tHalf precision float: sign bit, 5 bits exponent, 10 bits mantissa\n",
    "float32\tSingle precision float: sign bit, 8 bits exponent, 23 bits mantissa\n",
    "float64\tDouble precision float: sign bit, 11 bits exponent, 52 bits mantissa\n",
    "complex_\tShorthand for complex128.\n",
    "complex64\tComplex number, represented by two 32-bit floats\n",
    "complex128\tComplex number, represented by two 64-bit floats"
   ]
  },
  {
   "cell_type": "code",
   "execution_count": null,
   "metadata": {
    "ExecuteTime": {
     "end_time": "2019-02-28T04:31:38.101373Z",
     "start_time": "2019-02-28T04:31:37.884691Z"
    }
   },
   "outputs": [],
   "source": [
    "import torch"
   ]
  },
  {
   "cell_type": "code",
   "execution_count": null,
   "metadata": {},
   "outputs": [],
   "source": [
    "import nump"
   ]
  }
 ],
 "metadata": {
  "kernelspec": {
   "display_name": "Python 3",
   "language": "python",
   "name": "python3"
  },
  "language_info": {
   "codemirror_mode": {
    "name": "ipython",
    "version": 3
   },
   "file_extension": ".py",
   "mimetype": "text/x-python",
   "name": "python",
   "nbconvert_exporter": "python",
   "pygments_lexer": "ipython3",
   "version": "3.7.1"
  }
 },
 "nbformat": 4,
 "nbformat_minor": 2
}
