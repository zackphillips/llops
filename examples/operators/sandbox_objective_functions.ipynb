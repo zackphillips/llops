{
 "metadata": {
  "language_info": {
   "codemirror_mode": {
    "name": "ipython",
    "version": 3
   },
   "file_extension": ".py",
   "mimetype": "text/x-python",
   "name": "python",
   "nbconvert_exporter": "python",
   "pygments_lexer": "ipython3",
   "version": "3.7.3-final"
  },
  "orig_nbformat": 2,
  "kernelspec": {
   "name": "python_defaultSpec_1598078574706",
   "display_name": "Python 3.7.3 64-bit ('base': conda)"
  }
 },
 "nbformat": 4,
 "nbformat_minor": 2,
 "cells": [
  {
   "cell_type": "code",
   "execution_count": 1,
   "metadata": {
    "tags": []
   },
   "outputs": [],
   "source": [
    "%matplotlib widget\n",
    "%load_ext autoreload\n",
    "%autoreload 2\n",
    "\n",
    "import numpy as np\n",
    "import scipy as sp\n",
    "import matplotlib.pyplot as plt\n",
    "import scipy.misc as misc\n",
    "import math\n",
    "import imageio\n",
    "\n",
    "# Project Imports\n",
    "import llops as yp\n",
    "import llops.operators as ops\n",
    "from llops.solvers import objectivefunctions, regularizers, iterative\n",
    "import llops.simulation as sim\n",
    "\n",
    "# Set default backend and dtype\n",
    "ops.setDefaultBackend('numpy') # arrayfire or numpy\n",
    "ops.setDefaultDatatype('complex32')"
   ]
  },
  {
   "cell_type": "markdown",
   "metadata": {},
   "source": [
    "# Generate Simple Forward Model"
   ]
  },
  {
   "cell_type": "code",
   "execution_count": 2,
   "metadata": {},
   "outputs": [
    {
     "output_type": "display_data",
     "data": {
      "text/plain": "Canvas(toolbar=Toolbar(toolitems=[('Home', 'Reset original view', 'home', 'home'), ('Back', 'Back to previous …",
      "application/vnd.jupyter.widget-view+json": {
       "version_major": 2,
       "version_minor": 0,
       "model_id": "8b6b753b122f4e899980683243bb9455"
      }
     },
     "metadata": {}
    },
    {
     "output_type": "execute_result",
     "data": {
      "text/plain": "<matplotlib.image.AxesImage at 0x133b3c390>"
     },
     "metadata": {},
     "execution_count": 2
    }
   ],
   "source": [
    "# Image size to simulate\n",
    "image_size = np.array([128, 256])\n",
    "\n",
    "# Create test object\n",
    "x = sim.brain(image_size)\n",
    "\n",
    "# Generate convolution kernel h\n",
    "h_size = np.array([4, 4])\n",
    "h = yp.zeros(image_size)\n",
    "h[image_size[0] // 2 - h_size[0] // 2:image_size[0] // 2 + h_size[0] // 2,\n",
    "  image_size[1] // 2 - h_size[1] // 2:image_size[1] // 2 + h_size[1] // 2] = yp.randn((h_size[0], h_size[1]))\n",
    "h /= yp.sum(h)\n",
    "\n",
    "# Generate Convolution Kernel\n",
    "C = ops.Convolution(h)\n",
    "\n",
    "# Generate Measurement\n",
    "y = C * x\n",
    "\n",
    "# Display Result\n",
    "plt.figure()\n",
    "plt.subplot(121)\n",
    "plt.imshow(yp.abs(x))\n",
    "plt.subplot(122)\n",
    "plt.imshow(yp.abs(y))"
   ]
  },
  {
   "cell_type": "code",
   "execution_count": 16,
   "metadata": {
    "tags": []
   },
   "outputs": [
    {
     "output_type": "stream",
     "name": "stdout",
     "text": "(5399502848, False)\n(5399502848, False)\n(5485363200, False)\n(5485363200, False)\n(5399502848, False)\n(5399502848, False)\n"
    }
   ],
   "source": [
    "\n",
    "# Generate two different diagonal operators\n",
    "d0, d1 = yp.randn(image_size), yp.randn(image_size)\n",
    "D0 = ops.Diagonalize(d0, dtype='complex32')\n",
    "D1 = ops.Diagonalize(d1, dtype='complex32')\n",
    "F = ops.FourierTransform(image_size)\n",
    "\n",
    "# Combine into a single operator\n",
    "A = D0 * F * D1\n",
    "\n",
    "print(A.get_argument(D0).__array_interface__['data'])\n",
    "print(d0.__array_interface__['data'])\n",
    "print(A.get_argument(D1).__array_interface__['data'])\n",
    "print(d1.__array_interface__['data'])\n",
    "\n",
    "# Ensure we can get arguments\n",
    "yp.assert_equality(A.get_argument(D0), d0)\n",
    "yp.assert_equality(A.get_argument(D1), d1)\n",
    "\n",
    "# Try to set d1 to d0\n",
    "A.set_argument(d0, D1)\n",
    "print(A.get_argument(D1).__array_interface__['data'])\n",
    "print(d0.__array_interface__['data'])"
   ]
  },
  {
   "cell_type": "code",
   "execution_count": 1,
   "metadata": {},
   "outputs": [
    {
     "output_type": "error",
     "ename": "NameError",
     "evalue": "name 'yp' is not defined",
     "traceback": [
      "\u001b[0;31m---------------------------------------------------------------------------\u001b[0m",
      "\u001b[0;31mNameError\u001b[0m                                 Traceback (most recent call last)",
      "\u001b[0;32m<ipython-input-1-40643ae25a1b>\u001b[0m in \u001b[0;36m<module>\u001b[0;34m\u001b[0m\n\u001b[1;32m     46\u001b[0m \u001b[0;34m\u001b[0m\u001b[0m\n\u001b[1;32m     47\u001b[0m \u001b[0;31m# Generate two different diagonal operators\u001b[0m\u001b[0;34m\u001b[0m\u001b[0;34m\u001b[0m\u001b[0;34m\u001b[0m\u001b[0m\n\u001b[0;32m---> 48\u001b[0;31m \u001b[0md\u001b[0m\u001b[0;34m,\u001b[0m \u001b[0mx\u001b[0m \u001b[0;34m=\u001b[0m \u001b[0myp\u001b[0m\u001b[0;34m.\u001b[0m\u001b[0mrandn\u001b[0m\u001b[0;34m(\u001b[0m\u001b[0mimage_size\u001b[0m\u001b[0;34m)\u001b[0m\u001b[0;34m,\u001b[0m \u001b[0myp\u001b[0m\u001b[0;34m.\u001b[0m\u001b[0mrandn\u001b[0m\u001b[0;34m(\u001b[0m\u001b[0mimage_size\u001b[0m\u001b[0;34m)\u001b[0m\u001b[0;34m\u001b[0m\u001b[0;34m\u001b[0m\u001b[0m\n\u001b[0m\u001b[1;32m     49\u001b[0m \u001b[0mD\u001b[0m \u001b[0;34m=\u001b[0m \u001b[0mops\u001b[0m\u001b[0;34m.\u001b[0m\u001b[0mDiagonalize\u001b[0m\u001b[0;34m(\u001b[0m\u001b[0md\u001b[0m\u001b[0;34m,\u001b[0m \u001b[0mdtype\u001b[0m\u001b[0;34m=\u001b[0m\u001b[0;34m'complex32'\u001b[0m\u001b[0;34m)\u001b[0m\u001b[0;34m\u001b[0m\u001b[0;34m\u001b[0m\u001b[0m\n\u001b[1;32m     50\u001b[0m \u001b[0mX\u001b[0m \u001b[0;34m=\u001b[0m \u001b[0mops\u001b[0m\u001b[0;34m.\u001b[0m\u001b[0mDiagonalize\u001b[0m\u001b[0;34m(\u001b[0m\u001b[0mx\u001b[0m\u001b[0;34m,\u001b[0m \u001b[0mdtype\u001b[0m\u001b[0;34m=\u001b[0m\u001b[0;34m'complex32'\u001b[0m\u001b[0;34m)\u001b[0m\u001b[0;34m\u001b[0m\u001b[0;34m\u001b[0m\u001b[0m\n",
      "\u001b[0;31mNameError\u001b[0m: name 'yp' is not defined"
     ]
    }
   ],
   "source": [
    "from llops.operators import Operator\n",
    "\n",
    "class ObjectiveFunction(Operator):\n",
    "    \"\"\"An objective function class. This class is mostly the same as an \n",
    "       llops.operators.Operator, but also supports gradients with respect \n",
    "       to multiple variables.\"\"\"\n",
    "\n",
    "    def __init__(self, operator, label='O'):\n",
    "\n",
    "        # Check if this objective is multivariate, based on type(operator)\n",
    "        if type(operator) in (list, tuple):\n",
    "            self._operator_list = [op[0] for op in operator]\n",
    "            self._operand_list = [op[1] for op in operator]\n",
    "        else:\n",
    "            self._operator_list = [operator]\n",
    "            self._operand_list = None\n",
    "\n",
    "        super().__init__(shape=self._operator_list[0].shape,\n",
    "                         dtype=self._operator_list[0].dtype,\n",
    "                         backend=self._operator_list[0].backend,\n",
    "                         cost=self._operator_list[0].cost,\n",
    "                         label=label,\n",
    "                         repr_latex=self._operator_list[0].repr_latex,\n",
    "                         repr_str=self._operator_list[0].repr_str,\n",
    "                         convex=self._operator_list[0].convex,\n",
    "                         smooth=self._operator_list[0].smooth)\n",
    "\n",
    "    def _forward(self, *x, y=None):\n",
    "        self.operator_list[0]._forward(x, y)\n",
    "    \n",
    "    def _adjoint(self, *x, y=None):\n",
    "        self.operator_list[0]._adjoint(x, y)\n",
    "\n",
    "    def _inverse(self, *x, y=None):\n",
    "        self.operator_list[0]._inverse(x, y)\n",
    "\n",
    "    def _gradient(self, *x, y=None):\n",
    "        self.operator_list[0]._gradient(x, y)\n",
    "        \n",
    "    def _proximal(self, *x, y=None):\n",
    "        self.operator_list[0]._proximal(x, y)\n",
    "\n",
    "    @property\n",
    "    def multivariate(self):\n",
    "        return self.operand_list is not None\n",
    "\n",
    "# Generate two different diagonal operators\n",
    "d, x = yp.randn(image_size), yp.randn(image_size)\n",
    "D = ops.Diagonalize(d, dtype='complex32')\n",
    "X = ops.Diagonalize(x, dtype='complex32')\n",
    "F = ops.FourierTransform(image_size)\n",
    "L2 = ops.L2Norm(image_size)\n",
    "\n",
    "# Combine into a single operator\n",
    "Ax = L2 * (F.H * D * F)\n",
    "Ad = L2 * (F.H * X * F)\n",
    "\n",
    "operator_list = [(Ax, X), (Ad, D)]\n",
    "\n",
    "objective = ObjectiveFunction(operator_list)\n"
   ]
  }
 ]
}