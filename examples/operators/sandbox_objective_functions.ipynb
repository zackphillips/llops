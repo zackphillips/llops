{
 "metadata": {
  "language_info": {
   "codemirror_mode": {
    "name": "ipython",
    "version": 3
   },
   "file_extension": ".py",
   "mimetype": "text/x-python",
   "name": "python",
   "nbconvert_exporter": "python",
   "pygments_lexer": "ipython3",
   "version": "3.7.3-final"
  },
  "orig_nbformat": 2,
  "kernelspec": {
   "name": "python_defaultSpec_1597715077000",
   "display_name": "Python 3.7.3 64-bit ('base': conda)"
  }
 },
 "nbformat": 4,
 "nbformat_minor": 2,
 "cells": [
  {
   "cell_type": "code",
   "execution_count": 1,
   "metadata": {
    "tags": []
   },
   "outputs": [],
   "source": [
    "%matplotlib widget\n",
    "%load_ext autoreload\n",
    "%autoreload 2\n",
    "\n",
    "import numpy as np\n",
    "import scipy as sp\n",
    "import matplotlib.pyplot as plt\n",
    "import scipy.misc as misc\n",
    "import math\n",
    "import imageio\n",
    "\n",
    "# Project Imports\n",
    "import llops as yp\n",
    "import llops.operators as ops\n",
    "from llops.solvers import objectivefunctions, regularizers, iterative\n",
    "import llops.simulation as sim\n",
    "\n",
    "# Set default backend and dtype\n",
    "ops.setDefaultBackend('numpy') # arrayfire or numpy\n",
    "ops.setDefaultDatatype('complex32')"
   ]
  },
  {
   "cell_type": "markdown",
   "metadata": {},
   "source": [
    "# Generate Simple Forward Model"
   ]
  },
  {
   "cell_type": "code",
   "execution_count": 24,
   "metadata": {},
   "outputs": [
    {
     "output_type": "display_data",
     "data": {
      "text/plain": "Canvas(toolbar=Toolbar(toolitems=[('Home', 'Reset original view', 'home', 'home'), ('Back', 'Back to previous …",
      "application/vnd.jupyter.widget-view+json": {
       "version_major": 2,
       "version_minor": 0,
       "model_id": "bd3b7b7ce46340c1b4cce21b464bfa75"
      }
     },
     "metadata": {}
    },
    {
     "output_type": "execute_result",
     "data": {
      "text/plain": "<matplotlib.image.AxesImage at 0x1391443c8>"
     },
     "metadata": {},
     "execution_count": 24
    }
   ],
   "source": [
    "# Image size to simulate\n",
    "image_size = np.array([128, 256])\n",
    "\n",
    "# Create test object\n",
    "x = sim.brain(image_size)\n",
    "\n",
    "# Generate convolution kernel h\n",
    "h_size = np.array([4, 4])\n",
    "h = yp.zeros(image_size)\n",
    "h[image_size[0] // 2 - h_size[0] // 2:image_size[0] // 2 + h_size[0] // 2,\n",
    "  image_size[1] // 2 - h_size[1] // 2:image_size[1] // 2 + h_size[1] // 2] = yp.randn((h_size[0], h_size[1]))\n",
    "h /= yp.sum(h)\n",
    "\n",
    "# Generate Convolution Kernel\n",
    "C = ops.Convolution(h)\n",
    "\n",
    "# Generate Measurement\n",
    "y = C * x\n",
    "\n",
    "# Display Result\n",
    "plt.figure()\n",
    "plt.subplot(121)\n",
    "plt.imshow(yp.abs(x))\n",
    "plt.subplot(122)\n",
    "plt.imshow(yp.abs(y))"
   ]
  },
  {
   "cell_type": "code",
   "execution_count": 23,
   "metadata": {},
   "outputs": [
    {
     "output_type": "display_data",
     "data": {
      "text/plain": "<IPython.core.display.Latex object>",
      "text/latex": "$C(\\vec{x}) = C \\times \\vec{x}$"
     },
     "metadata": {}
    }
   ],
   "source": [
    "C.latex()"
   ]
  },
  {
   "cell_type": "code",
   "execution_count": 25,
   "metadata": {},
   "outputs": [
    {
     "output_type": "execute_result",
     "data": {
      "text/plain": "[<C: (128, 256)x(128, 256) Convolution NUMPY operator with dtype=complex32>]"
     },
     "metadata": {},
     "execution_count": 25
    }
   ],
   "source": [
    "C"
   ]
  },
  {
   "cell_type": "code",
   "execution_count": null,
   "metadata": {},
   "outputs": [],
   "source": [
    "yp.is"
   ]
  },
  {
   "cell_type": "code",
   "execution_count": 14,
   "metadata": {},
   "outputs": [
    {
     "output_type": "execute_result",
     "data": {
      "text/plain": "array([[0.942219  +0.j, 1.0046186 +0.j, 1.007985  +0.j, ...,\n        0.97764397+0.j, 1.002749  +0.j, 1.0113766 +0.j],\n       [1.0600861 +0.j, 0.9978062 +0.j, 0.9911985 +0.j, ...,\n        1.0641291 +0.j, 1.0128345 +0.j, 1.0029546 +0.j],\n       [1.0173366 +0.j, 1.0124779 +0.j, 1.0031376 +0.j, ...,\n        1.0427309 +0.j, 0.95603675+0.j, 0.9669237 +0.j],\n       ...,\n       [1.0077353 +0.j, 1.0391666 +0.j, 0.9509164 +0.j, ...,\n        1.0168316 +0.j, 1.0082844 +0.j, 1.0230091 +0.j],\n       [1.0071073 +0.j, 1.0722712 +0.j, 1.0082763 +0.j, ...,\n        1.0033957 +0.j, 1.0243622 +0.j, 1.0199288 +0.j],\n       [1.0459895 +0.j, 1.0030985 +0.j, 1.0204476 +0.j, ...,\n        0.98377657+0.j, 0.99668974+0.j, 0.95140725+0.j]], dtype=complex64)"
     },
     "metadata": {},
     "execution_count": 14
    }
   ],
   "source": [
    "J.arguments['elements']"
   ]
  },
  {
   "cell_type": "code",
   "execution_count": 16,
   "metadata": {},
   "outputs": [
    {
     "output_type": "execute_result",
     "data": {
      "text/plain": "(('c',\n  <C: (128, 256)x(128, 256) Convolution NUMPY operator with dtype=complex32>,\n  'kernel'),\n ('j',\n  <d: (128, 256)x(128, 256) Diagonalize NUMPY operator with dtype=complex32>,\n  'elements'))"
     },
     "metadata": {},
     "execution_count": 16
    }
   ],
   "source": [
    "('c', C, 'kernel'), ('j', J, 'elements')"
   ]
  },
  {
   "cell_type": "code",
   "execution_count": 6,
   "metadata": {},
   "outputs": [],
   "source": [
    "from llops.operators import Operator\n",
    "\n",
    "class ObjectiveFunction(Operator):\n",
    "    \"\"\"An objective function class. This class is mostly the same as an \n",
    "       llops.operators.Operator, but also supports gradients with respect \n",
    "       to multiple variables.\"\"\"\n",
    "\n",
    "    def __init__(self, operator_list, variable_set_function_list=None):\n",
    "\n",
    "        # Convert operator_list to a list, if only a single operator is provided\n",
    "        self.operator_list = operator_list\n",
    "        self.variable_set_function_list = variable_set_function_list\n",
    "\n",
    "        # Determine if this objective function is multivariate\n",
    "        self.is_multivariate = type(operator_list) in [list, tuple]\n",
    "\n",
    "        if self.is_multivariate:\n",
    "            self.operator = self.operator_list[0]\n",
    "            self.shape = [operator.shape for operator in self.operator_list]\n",
    "        else:\n",
    "            self.operator = self.operator_list\n",
    "            self.shape = self.operator_list[0].shape\n",
    "\n",
    "\n",
    "\n",
    "\n"
   ]
  }
 ]
}