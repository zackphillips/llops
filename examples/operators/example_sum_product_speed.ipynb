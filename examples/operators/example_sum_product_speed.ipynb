{
 "cells": [
  {
   "cell_type": "code",
   "execution_count": 1,
   "metadata": {
    "ExecuteTime": {
     "end_time": "2019-05-09T15:54:28.856576Z",
     "start_time": "2019-05-09T15:54:25.201389Z"
    }
   },
   "outputs": [
    {
     "output_type": "error",
     "ename": "ModuleNotFoundError",
     "evalue": "No module named 'llops'",
     "traceback": [
      "\u001b[0;31m---------------------------------------------------------------------------\u001b[0m",
      "\u001b[0;31mModuleNotFoundError\u001b[0m                       Traceback (most recent call last)",
      "\u001b[0;32m<ipython-input-1-62e872838c32>\u001b[0m in \u001b[0;36m<module>\u001b[0;34m\u001b[0m\n\u001b[1;32m     14\u001b[0m \u001b[0;32mimport\u001b[0m \u001b[0mnumpy\u001b[0m \u001b[0;32mas\u001b[0m \u001b[0mnp\u001b[0m\u001b[0;34m\u001b[0m\u001b[0;34m\u001b[0m\u001b[0m\n\u001b[1;32m     15\u001b[0m \u001b[0;34m\u001b[0m\u001b[0m\n\u001b[0;32m---> 16\u001b[0;31m \u001b[0;32mimport\u001b[0m \u001b[0mllops\u001b[0m \u001b[0;32mas\u001b[0m \u001b[0myp\u001b[0m\u001b[0;34m\u001b[0m\u001b[0;34m\u001b[0m\u001b[0m\n\u001b[0m\u001b[1;32m     17\u001b[0m \u001b[0;32mimport\u001b[0m \u001b[0mllops\u001b[0m\u001b[0;34m.\u001b[0m\u001b[0moperators\u001b[0m \u001b[0;32mas\u001b[0m \u001b[0mops\u001b[0m\u001b[0;34m\u001b[0m\u001b[0;34m\u001b[0m\u001b[0m\n\u001b[1;32m     18\u001b[0m \u001b[0;34m\u001b[0m\u001b[0m\n",
      "\u001b[0;31mModuleNotFoundError\u001b[0m: No module named 'llops'"
     ]
    }
   ],
   "source": [
    "%load_ext autoreload\n",
    "%autoreload 2\n",
    "%matplotlib notebook\n",
    "\n",
    "import matplotlib.pyplot as plt\n",
    "\n",
    "try:\n",
    "    import pyfftw as fftw\n",
    "except:\n",
    "    pass\n",
    "\n",
    "\n",
    "import scipy as sp\n",
    "import numpy as np\n",
    "\n",
    "import llops as yp\n",
    "import llops.operators as ops\n",
    "\n",
    "yp.setDefaultDatatype('complex32')"
   ]
  },
  {
   "cell_type": "markdown",
   "metadata": {},
   "source": [
    "# Numpy-Based Operators"
   ]
  },
  {
   "cell_type": "markdown",
   "metadata": {},
   "source": [
    "## Create Object"
   ]
  },
  {
   "cell_type": "code",
   "execution_count": 3,
   "metadata": {
    "ExecuteTime": {
     "end_time": "2019-05-09T15:54:58.139453Z",
     "start_time": "2019-05-09T15:54:58.014958Z"
    }
   },
   "outputs": [],
   "source": [
    "sz = (2000, 2000)\n",
    "x = yp.rand(sz)"
   ]
  },
  {
   "cell_type": "markdown",
   "metadata": {},
   "source": [
    "## CPU/Numpy FFT Function Test"
   ]
  },
  {
   "cell_type": "code",
   "execution_count": 4,
   "metadata": {
    "ExecuteTime": {
     "end_time": "2019-05-02T22:51:06.416507Z",
     "start_time": "2019-05-02T22:51:03.070377Z"
    },
    "tags": []
   },
   "outputs": [
    {
     "output_type": "stream",
     "name": "stdout",
     "text": "<function numpy_fft at 0x116f95a60>\n25.1 ms ± 476 µs per loop (mean ± std. dev. of 7 runs, 10 loops each)\n63.4 ms ± 543 µs per loop (mean ± std. dev. of 7 runs, 10 loops each)\n73 ms ± 549 µs per loop (mean ± std. dev. of 7 runs, 10 loops each)\n<function scipy_fft at 0x116f95c80>\n142 ms ± 612 µs per loop (mean ± std. dev. of 7 runs, 10 loops each)\n396 ms ± 9.85 ms per loop (mean ± std. dev. of 7 runs, 1 loop each)\n435 ms ± 1.63 ms per loop (mean ± std. dev. of 7 runs, 1 loop each)\n<function fftw_fft at 0x11702a7b8>\n73.8 ms ± 748 µs per loop (mean ± std. dev. of 7 runs, 10 loops each)\n279 ms ± 3.24 ms per loop (mean ± std. dev. of 7 runs, 1 loop each)\n232 ms ± 1.68 ms per loop (mean ± std. dev. of 7 runs, 1 loop each)\n"
    }
   ],
   "source": [
    "fftw.interfaces.cache.enable()\n",
    "\n",
    "def numpy_fft(x):\n",
    "    return np.fft.fft2(x) / sz[0]\n",
    "\n",
    "def scipy_fft(x):\n",
    "    return sp.fftpack.fft2(x) / sz[0]\n",
    "\n",
    "def fftw_fft(x):\n",
    "    return fftw.interfaces.numpy_fft.fft2(x) / sz[0]\n",
    "\n",
    "for f in [numpy_fft, scipy_fft, fftw_fft]:\n",
    "    print(f)\n",
    "    %timeit f(x)\n",
    "    %timeit f(f(f(x)))\n",
    "    %timeit f(x) + f(x) + f(x)"
   ]
  },
  {
   "cell_type": "markdown",
   "metadata": {},
   "source": [
    "## CPU/Numpy FFT Operator Test"
   ]
  },
  {
   "cell_type": "code",
   "execution_count": 9,
   "metadata": {
    "ExecuteTime": {
     "end_time": "2019-05-02T22:44:56.704557Z",
     "start_time": "2019-05-02T22:44:51.298871Z"
    },
    "tags": []
   },
   "outputs": [
    {
     "output_type": "stream",
     "name": "stdout",
     "text": "<F: (2000, 2000)x(2000, 2000) FourierTransform NUMPY operator with dtype=complex32>\n29 ms ± 510 µs per loop (mean ± std. dev. of 7 runs, 10 loops each)\n291 ms ± 15.6 ms per loop (mean ± std. dev. of 7 runs, 1 loop each)\n337 ms ± 22.3 ms per loop (mean ± std. dev. of 7 runs, 1 loop each)\n<F: (2000, 2000)x(2000, 2000) FourierTransform NUMPY operator with dtype=complex32>\n172 ms ± 3.87 ms per loop (mean ± std. dev. of 7 runs, 10 loops each)\n284 ms ± 6.01 ms per loop (mean ± std. dev. of 7 runs, 1 loop each)\n323 ms ± 1.07 ms per loop (mean ± std. dev. of 7 runs, 1 loop each)\n<F: (2000, 2000)x(2000, 2000) FourierTransform NUMPY operator with dtype=complex32>\n97 ms ± 2.54 ms per loop (mean ± std. dev. of 7 runs, 10 loops each)\n279 ms ± 4.74 ms per loop (mean ± std. dev. of 7 runs, 1 loop each)\n316 ms ± 8.4 ms per loop (mean ± std. dev. of 7 runs, 1 loop each)\n"
    }
   ],
   "source": [
    "F_np = ops.FourierTransform(sz, backend='numpy', fft_backend='numpy', center=False, normalize=False)\n",
    "F_sp = ops.FourierTransform(sz, backend='numpy', fft_backend='scipy', center=False, normalize=False)\n",
    "F_fftw = ops.FourierTransform(sz, backend='numpy', fft_backend='fftw', center=False, normalize=False)\n",
    "\n",
    "F_prod = (F * F * F)\n",
    "F_sum = F + F + F\n",
    "for F in [F_np, F_sp, F_fftw]:\n",
    "    print(F)\n",
    "    %timeit F * x\n",
    "    %timeit F_prod * x\n",
    "    %timeit F_sum * x\n",
    "    "
   ]
  },
  {
   "cell_type": "markdown",
   "metadata": {},
   "source": [
    "## Test Bottlenecks"
   ]
  },
  {
   "cell_type": "code",
   "execution_count": null,
   "metadata": {
    "ExecuteTime": {
     "end_time": "2019-05-02T22:47:05.919000Z",
     "start_time": "2019-05-02T22:46:55.870801Z"
    }
   },
   "outputs": [],
   "source": [
    "F = ops.FourierTransform(sz, backend='numpy', fft_backend='numpy', center=False, normalize=False)\n",
    "Fc = ops.FourierTransform(sz, backend='numpy', fft_backend='numpy', center=True, normalize=False)\n",
    "_x = yp.rand(sz)\n",
    "y = yp.zeros_like(_x)\n",
    "\n",
    "%timeit np.fft.fft2(_x) / 1000\n",
    "# # %timeit yp.Ft(_x)\n",
    "# %timeit F.fft_fun(_x)\n",
    "# %timeit Fc.fft_fun(_x)\n",
    "%timeit F._forward(_x, y)\n",
    "%timeit F.forward(_x, y)\n",
    "%timeit F * _x"
   ]
  },
  {
   "cell_type": "code",
   "execution_count": null,
   "metadata": {
    "ExecuteTime": {
     "end_time": "2019-05-02T22:48:12.830939Z",
     "start_time": "2019-05-02T22:48:12.772048Z"
    }
   },
   "outputs": [],
   "source": [
    "sz_0 = (100,100)\n",
    "sz_1 = (50,50)\n",
    "\n",
    "# Create fake object\n",
    "x = yp.rand(sz_0)\n",
    "# x[sz_1[0] // 4: 3* sz_1[0] // 4, sz_1[1] // 4: 3* sz_1[1] // 4] = yp.rand((sz_1[0] // 2, sz_1[1] // 2))\n",
    "x /= yp.mean(yp.abs(x))\n",
    "\n",
    "# Generate FFT operators\n",
    "F_list_n = []\n",
    "F_list_un = []\n",
    "for fft_backend in yp.valid_fft_backends:\n",
    "    F_list_n.append(ops.FourierTransform(sz_0, backend='numpy', fft_backend=fft_backend, center=True, normalize=True))\n",
    "    F_list_un.append(ops.FourierTransform(sz_0, backend='numpy', fft_backend=fft_backend, center=True, normalize=False))\n",
    "\n",
    "# Check inversion\n",
    "assert all([yp.scalar(yp.sum(yp.abs(F.H * F * x - x))) < 1e-6 for F in F_list_un])\n",
    "assert all([yp.scalar(yp.sum(yp.abs(F.H * F * x - x))) < 1e-6 for F in F_list_n])\n",
    "\n",
    "# Check energy in Fourier domain\n",
    "x_energy = yp.sum(yp.abs(x) ** 2)\n",
    "energies_unnormalized = [yp.sum(yp.abs(F * x) ** 2) for F in F_list_n]\n",
    "energies_normalized = [yp.sum(yp.abs(F * x) ** 2) for F in F_list_un]\n",
    "\n",
    "print(x_energy)\n",
    "print(energies_normalized)\n",
    "print(energies_unnormalized)\n",
    "\n",
    "assert all([abs(energy_normalized / yp.size(x) - x_energy) < 1e-1 for energy_normalized in energies_normalized])\n",
    "assert all([abs(energy_unnormalized - x_energy) < 1e-4 * x_energy for energy_unnormalized in energies_unnormalized])"
   ]
  },
  {
   "cell_type": "markdown",
   "metadata": {},
   "source": [
    "## Convolution Test"
   ]
  },
  {
   "cell_type": "code",
   "execution_count": null,
   "metadata": {
    "ExecuteTime": {
     "end_time": "2019-05-02T22:48:23.279214Z",
     "start_time": "2019-05-02T22:48:23.125464Z"
    }
   },
   "outputs": [],
   "source": [
    "# Create blur kernel\n",
    "h = yp.zeros(sz_0)\n",
    "h[sz_1[0] // 2:sz_1[0] // 2 + 1, sz_1[1] // 4: 3* sz_1[1] // 4,] = 1\n",
    "\n",
    "# Create fake object\n",
    "x = yp.zeros(h.shape)\n",
    "x[sz_1[0] // 4: 3* sz_1[0] // 4, sz_1[1] // 4: 3* sz_1[1] // 4] = yp.rand((sz_1[0] // 2, sz_1[1] // 2))\n",
    "\n",
    "# Generate forward operators\n",
    "A_list = [F.H * ops.Diagonalize(F * h) * F for F in F_list_un]\n",
    "\n",
    "# Generate measurements\n",
    "y_list = [A * x for A in A_list]\n",
    "y_sum = [yp.scalar(yp.sum(yp.abs(A * x))) for A in A_list]\n",
    "\n",
    "# Check values\n",
    "assert all([delta < 1e-3 for delta in yp.sum(yp.abs(x)) * yp.sum(yp.abs(h)) - y_sum])\n",
    "\n",
    "plt.figure(figsize=(8,4))\n",
    "plt.subplot(121)\n",
    "plt.imshow(np.abs(x))\n",
    "plt.colorbar()\n",
    "plt.subplot(122)\n",
    "plt.imshow(np.abs(y_list[0]))\n",
    "plt.colorbar()"
   ]
  },
  {
   "cell_type": "markdown",
   "metadata": {},
   "source": [
    "# Arrayfire-Based Operators"
   ]
  },
  {
   "cell_type": "code",
   "execution_count": null,
   "metadata": {
    "ExecuteTime": {
     "end_time": "2019-05-09T15:55:07.068292Z",
     "start_time": "2019-05-09T15:55:07.042744Z"
    }
   },
   "outputs": [],
   "source": [
    "sz = (2000, 2000)"
   ]
  },
  {
   "cell_type": "markdown",
   "metadata": {},
   "source": [
    "## GPU/Arrayfire FFT Functon test"
   ]
  },
  {
   "cell_type": "code",
   "execution_count": null,
   "metadata": {
    "ExecuteTime": {
     "end_time": "2019-05-09T15:55:08.512919Z",
     "start_time": "2019-05-09T15:55:07.618356Z"
    }
   },
   "outputs": [],
   "source": [
    "if 'opencl' in af.get_available_backends():\n",
    "    print('OpenCL:')\n",
    "    af.set_backend('opencl')\n",
    "    I2 = yp.rand(sz, backend='arrayfire')\n",
    "    %timeit af.signal.fft(I2)\n",
    "\n",
    "if 'cuda' in af.get_available_backends():\n",
    "    print('CUDA:')\n",
    "    af.set_backend('cuda')\n",
    "    I3 = yp.rand(sz, backend='arrayfire')\n",
    "    %timeit af.signal.fft(I3)"
   ]
  },
  {
   "cell_type": "code",
   "execution_count": null,
   "metadata": {
    "ExecuteTime": {
     "end_time": "2019-05-09T15:58:09.688331Z",
     "start_time": "2019-05-09T15:57:57.856384Z"
    }
   },
   "outputs": [],
   "source": [
    "%timeit af.signal.fft2_inplace(I2)"
   ]
  },
  {
   "cell_type": "code",
   "execution_count": null,
   "metadata": {
    "ExecuteTime": {
     "end_time": "2019-05-09T15:57:18.308040Z",
     "start_time": "2019-05-09T15:57:11.067158Z"
    }
   },
   "outputs": [],
   "source": [
    "x_af = yp.rand(sz, backend='arrayfire')\n",
    "y_af = yp.zeros(sz, backend='arrayfire')\n",
    "# %timeit af.signal.fft(x_af)\n",
    "# %timeit af.signal.fft(x_af, scale=10)\n",
    "\n",
    "\n",
    "F = ops.FourierTransform(sz, backend='arrayfire', center=False, normalize=False)\n",
    "%timeit F._forward(x_af, y_af)\n",
    "%timeit af.signal.fft2_inplace(I2)\n",
    "# F.f\n",
    "# F_ocl.forward(x_af)\n",
    "# x_af = yp.rand(sz, backend='arrayfire')\n",
    "# F_ocl.forward(I2)"
   ]
  },
  {
   "cell_type": "markdown",
   "metadata": {},
   "source": [
    "## GPU/Arrayfire Operator Test"
   ]
  },
  {
   "cell_type": "code",
   "execution_count": null,
   "metadata": {
    "ExecuteTime": {
     "end_time": "2019-05-02T22:49:42.994684Z",
     "start_time": "2019-05-02T22:48:45.508864Z"
    }
   },
   "outputs": [],
   "source": [
    "# af.set_backend('cpu:')\n",
    "# I1 = yp.rand(sz, backend='arrayfire')\n",
    "# F_cpu = ops.FourierTransform(sz, backend='arrayfire', center=False, normalize=False, pad=False)\n",
    "# print(af.get_backend_id(I1))\n",
    "# %timeit F_cpu * I1\n",
    "\n",
    "af.set_backend('opencl')\n",
    "I2 = yp.rand(sz, backend='arrayfire')\n",
    "F_ocl = ops.FourierTransform(sz, backend='arrayfire', center=False, normalize=False)\n",
    "print(af.get_backend_id(I2))\n",
    "%timeit F_ocl * I2\n",
    "\n",
    "# af.set_backend('cuda')\n",
    "# I3 = yp.rand(sz, backend='arrayfire')\n",
    "# F_cuda = ops.FourierTransform(sz, backend='arrayfire', center=False, normalize=False, pad=False)\n",
    "# print(af.get_backend_id(I3))\n",
    "# %timeit F_cuda * I3"
   ]
  },
  {
   "cell_type": "markdown",
   "metadata": {},
   "source": [
    "## GPU/Arrayfire Normalization Test"
   ]
  },
  {
   "cell_type": "code",
   "execution_count": null,
   "metadata": {
    "ExecuteTime": {
     "end_time": "2018-09-16T23:45:41.001418Z",
     "start_time": "2018-09-16T23:45:40.970824Z"
    }
   },
   "outputs": [],
   "source": [
    "backend = 'numpy'\n",
    "sz_0 = (100,100)\n",
    "sz_1 = (50,50)\n",
    "\n",
    "# Create fake object\n",
    "x = yp.zeros(sz_0, backend=backend)\n",
    "x[sz_1[0] // 4: 3* sz_1[0] // 4, sz_1[1] // 4: 3* sz_1[1] // 4] = yp.rand((sz_1[0] // 2, sz_1[1] // 2), backend=backend)\n",
    "x /= yp.mean(yp.abs(x))\n",
    "\n",
    "# Generate FFT operators\n",
    "F_list_n = []\n",
    "F_list_un = []\n",
    "\n",
    "for fft_backend in yp.valid_fft_backends:\n",
    "    F_list_n.append(ops.FourierTransform(sz_0, backend=backend, fft_backend=fft_backend, center=True, normalize=True, pad=False))\n",
    "    F_list_un.append(ops.FourierTransform(sz_0, backend=backend, fft_backend=fft_backend, center=True, normalize=False, pad=False))\n",
    "\n",
    "# Check energy in Fourier domain\n",
    "x_energy = yp.sum(yp.abs(x) ** 2)\n",
    "energies_unnormalized = [yp.sum(yp.abs(F * x) ** 2) / yp.size(x) for F in F_list_n]\n",
    "energies_normalized = [yp.sum(yp.abs(F * x) ** 2) / yp.size(x) for F in F_list_un]\n",
    "\n",
    "print(x_energy)\n",
    "print(energies_unnormalized)\n",
    "print(energies_normalized)\n",
    "\n",
    "assert all([abs(energy_normalized - x_energy) < 1e-5 * x_energy for energy_normalized in energies_normalized])\n",
    "assert all([abs(energy_unnormalized * yp.size(x) - x_energy) < 1e-4 * x_energy for energy_unnormalized in energies_unnormalized])\n",
    "\n",
    "# Check inversion\n",
    "assert all([yp.scalar(yp.sum(yp.abs(F.H * F * x - x))) < 1e-6  * x_energy for F in F_list_un])\n",
    "assert all([yp.scalar(yp.sum(yp.abs(F.H * F * x - x))) < 1e-6  * x_energy for F in F_list_n])\n",
    "\n"
   ]
  },
  {
   "cell_type": "markdown",
   "metadata": {},
   "source": [
    "## Numpy / Arrayfire Transform Similarity"
   ]
  },
  {
   "cell_type": "code",
   "execution_count": null,
   "metadata": {
    "ExecuteTime": {
     "end_time": "2018-09-16T23:46:31.837246Z",
     "start_time": "2018-09-16T23:46:31.646046Z"
    }
   },
   "outputs": [],
   "source": [
    "normalize = False\n",
    "sz = yp.shape(x)\n",
    "x = yp.changeBackend(x, 'arrayfire')\n",
    "F_af = ops.FourierTransform(sz, center=True, backend='arrayfire', normalize=normalize)\n",
    "F_np = ops.FourierTransform(sz, center=True, backend='numpy', normalize=normalize)\n",
    "\n",
    "plt.figure()\n",
    "plt.subplot(221)\n",
    "plt.imshow(yp.abs(yp.changeBackend(F_af * x, 'numpy')))\n",
    "plt.title('Foward, af')\n",
    "plt.colorbar()\n",
    "\n",
    "plt.subplot(222)\n",
    "plt.imshow(yp.abs(F_np * yp.changeBackend(x, 'numpy')))\n",
    "plt.title('Foward, numpy')\n",
    "plt.colorbar()\n",
    "\n",
    "plt.subplot(223)\n",
    "plt.imshow(yp.abs(yp.changeBackend(F_af.H * x, 'numpy')))\n",
    "plt.title('Inverse, af')\n",
    "plt.colorbar()\n",
    "\n",
    "plt.subplot(224)\n",
    "plt.imshow(yp.abs(F_np.H * yp.changeBackend(x, 'numpy')))\n",
    "plt.title('Inverse, numpy')\n",
    "plt.colorbar()"
   ]
  },
  {
   "cell_type": "markdown",
   "metadata": {},
   "source": [
    "## Convolution Test"
   ]
  },
  {
   "cell_type": "code",
   "execution_count": null,
   "metadata": {
    "ExecuteTime": {
     "end_time": "2018-09-17T00:10:10.022847Z",
     "start_time": "2018-09-17T00:10:09.777691Z"
    }
   },
   "outputs": [],
   "source": [
    "backend = 'arrayfire'\n",
    "\n",
    "h = yp.zeros(sz_0, backend=backend)\n",
    "h[sz_0[0] // 4 * 3, sz_0[1] // 4 * 3] = 1\n",
    "\n",
    "# Create blur kernel\n",
    "h = yp.changeBackend(h, backend)\n",
    "h /= yp.sum(yp.abs(h))\n",
    "\n",
    "# Generate forward operators\n",
    "F = ops.FourierTransform(sz_0, backend=backend, center=True, normalize=False, pad=False)\n",
    "A = F.H * ops.Diagonalize(h, inside_operator=F) * F\n",
    "\n",
    "# Generate measurements\n",
    "y = A * yp.changeBackend(x, backend)\n",
    "y_sum = yp.scalar(yp.sum(yp.abs(y)))\n",
    "\n",
    "# Check values\n",
    "assert yp.scalar(yp.sum(yp.abs(x)) * yp.sum(yp.abs(h))) - y_sum\n",
    "\n",
    "plt.figure(figsize=(11,4))\n",
    "plt.subplot(131)\n",
    "plt.imshow(np.abs(x))\n",
    "plt.colorbar()\n",
    "plt.subplot(132)\n",
    "plt.imshow(np.abs(h))\n",
    "plt.colorbar()\n",
    "plt.subplot(133)\n",
    "plt.imshow(np.abs(y))\n",
    "plt.colorbar()"
   ]
  },
  {
   "cell_type": "code",
   "execution_count": null,
   "metadata": {
    "ExecuteTime": {
     "end_time": "2018-09-16T23:46:38.859194Z",
     "start_time": "2018-09-16T23:46:38.708601Z"
    }
   },
   "outputs": [],
   "source": [
    "h = yp.zeros(sz_0)\n",
    "h[sz_1[0] // 2:sz_1[0] // 2 + 1, sz_1[1] // 4: 3* sz_1[1] // 4,] = 1\n",
    "\n",
    "# Create blur kernel\n",
    "h = yp.changeBackend(h, 'arrayfire')\n",
    "h /= yp.sum(yp.abs(h))\n",
    "\n",
    "# Generate forward operators\n",
    "F = ops.FourierTransform(sz_0, backend='arrayfire', center=False, normalize=False, pad=False)\n",
    "A = F.H * ops.Diagonalize(h, inside_operator=F) * F\n",
    "\n",
    "# Generate measurements\n",
    "y = A * x\n",
    "y_sum = yp.scalar(yp.sum(yp.abs(y)))\n",
    "\n",
    "# Check values\n",
    "assert yp.scalar(yp.sum(yp.abs(x)) * yp.sum(yp.abs(h))) - y_sum\n",
    "\n",
    "plt.figure(figsize=(8,4))\n",
    "plt.subplot(121)\n",
    "plt.imshow(np.abs(x))\n",
    "plt.colorbar()\n",
    "plt.subplot(122)\n",
    "plt.imshow(np.abs(y))\n",
    "plt.colorbar()"
   ]
  },
  {
   "cell_type": "code",
   "execution_count": null,
   "metadata": {},
   "outputs": [],
   "source": []
  }
 ],
 "metadata": {
  "kernelspec": {
   "display_name": "Python 3",
   "language": "python",
   "name": "python3"
  },
  "language_info": {
   "codemirror_mode": {
    "name": "ipython",
    "version": 3
   },
   "file_extension": ".py",
   "mimetype": "text/x-python",
   "name": "python",
   "nbconvert_exporter": "python",
   "pygments_lexer": "ipython3",
   "version": "3.8.3-final"
  },
  "latex_envs": {
   "LaTeX_envs_menu_present": true,
   "autocomplete": true,
   "bibliofile": "biblio.bib",
   "cite_by": "apalike",
   "current_citInitial": 1,
   "eqLabelWithNumbers": true,
   "eqNumInitial": 1,
   "hotkeys": {
    "equation": "Ctrl-E",
    "itemize": "Ctrl-I"
   },
   "labels_anchors": false,
   "latex_user_defs": false,
   "report_style_numbering": false,
   "user_envs_cfg": false
  },
  "varInspector": {
   "cols": {
    "lenName": 16,
    "lenType": 16,
    "lenVar": 40
   },
   "kernels_config": {
    "python": {
     "delete_cmd_postfix": "",
     "delete_cmd_prefix": "del ",
     "library": "var_list.py",
     "varRefreshCmd": "print(var_dic_list())"
    },
    "r": {
     "delete_cmd_postfix": ") ",
     "delete_cmd_prefix": "rm(",
     "library": "var_list.r",
     "varRefreshCmd": "cat(var_dic_list()) "
    }
   },
   "types_to_exclude": [
    "module",
    "function",
    "builtin_function_or_method",
    "instance",
    "_Feature"
   ],
   "window_display": true
  }
 },
 "nbformat": 4,
 "nbformat_minor": 2
}