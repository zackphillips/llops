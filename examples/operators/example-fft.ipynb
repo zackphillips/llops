{
 "cells": [
  {
   "cell_type": "code",
   "execution_count": null,
   "metadata": {
    "ExecuteTime": {
     "end_time": "2018-09-17T16:35:28.099102Z",
     "start_time": "2018-09-17T16:35:24.817166Z"
    }
   },
   "outputs": [],
   "source": [
    "%load_ext autoreload\n",
    "%autoreload 2\n",
    "%matplotlib notebook\n",
    "\n",
    "import matplotlib.pyplot as plt\n",
    "\n",
    "try:\n",
    "    import pyfftw as fftw\n",
    "except:\n",
    "    pass\n",
    "\n",
    "try:\n",
    "    import arrayfire as af\n",
    "except:\n",
    "    pass\n",
    "\n",
    "import scipy as sp\n",
    "import numpy as np\n",
    "\n",
    "import llops as yp\n",
    "import ndoperators as ops"
   ]
  },
  {
   "cell_type": "markdown",
   "metadata": {},
   "source": [
    "# Numpy-Based Operators"
   ]
  },
  {
   "cell_type": "markdown",
   "metadata": {},
   "source": [
    "## Create Object"
   ]
  },
  {
   "cell_type": "code",
   "execution_count": null,
   "metadata": {
    "ExecuteTime": {
     "end_time": "2018-09-16T23:41:55.147201Z",
     "start_time": "2018-09-16T23:41:55.022506Z"
    }
   },
   "outputs": [],
   "source": [
    "sz = (2000, 2000)\n",
    "x = yp.rand(sz)"
   ]
  },
  {
   "cell_type": "markdown",
   "metadata": {},
   "source": [
    "## CPU/Numpy FFT Function Test"
   ]
  },
  {
   "cell_type": "code",
   "execution_count": null,
   "metadata": {
    "ExecuteTime": {
     "end_time": "2018-09-16T23:42:09.734618Z",
     "start_time": "2018-09-16T23:41:56.326353Z"
    }
   },
   "outputs": [],
   "source": [
    "fftw.interfaces.cache.enable()\n",
    "\n",
    "def numpy_fft(x):\n",
    "    return np.fft.fft2(x)\n",
    "\n",
    "def scipy_fft(x):\n",
    "    return sp.fftpack.fft2(x)\n",
    "\n",
    "def fftw_fft(x):\n",
    "    return fftw.interfaces.numpy_fft.fft2(x)\n",
    "\n",
    "for f in [numpy_fft, scipy_fft, fftw_fft]:\n",
    "    print(f)\n",
    "    %timeit f(x)"
   ]
  },
  {
   "cell_type": "markdown",
   "metadata": {},
   "source": [
    "## CPU/Numpy FFT Operator Test"
   ]
  },
  {
   "cell_type": "code",
   "execution_count": null,
   "metadata": {
    "ExecuteTime": {
     "end_time": "2018-09-07T03:11:53.300837Z",
     "start_time": "2018-09-07T03:11:13.154229Z"
    }
   },
   "outputs": [],
   "source": [
    "F_np = ops.FourierTransform(sz, backend='numpy', fft_backend='numpy', center=False, normalize=False, pad=False)\n",
    "F_sp = ops.FourierTransform(sz, backend='numpy', fft_backend='scipy', center=False, normalize=False, pad=False)\n",
    "F_fftw = ops.FourierTransform(sz, backend='numpy', fft_backend='fftw', center=False, normalize=False, pad=False)\n",
    "\n",
    "print('Unvectorized versions:')\n",
    "for F in [F_np, F_sp, F_fftw]:\n",
    "    print(F)\n",
    "    %timeit F * x\n",
    "    \n",
    "print('Vectorized versions:')\n",
    "for F in [F_np, F_sp, F_fftw]:\n",
    "    print(F)\n",
    "    %timeit F * x.ravel()"
   ]
  },
  {
   "cell_type": "markdown",
   "metadata": {},
   "source": [
    "## Normalization Test"
   ]
  },
  {
   "cell_type": "code",
   "execution_count": null,
   "metadata": {
    "ExecuteTime": {
     "end_time": "2018-09-16T23:42:17.387367Z",
     "start_time": "2018-09-16T23:42:17.246245Z"
    }
   },
   "outputs": [],
   "source": [
    "sz_0 = (100,100)\n",
    "sz_1 = (50,50)\n",
    "\n",
    "# Create fake object\n",
    "x = yp.zeros(sz_0)\n",
    "x[sz_1[0] // 4: 3* sz_1[0] // 4, sz_1[1] // 4: 3* sz_1[1] // 4] = yp.rand((sz_1[0] // 2, sz_1[1] // 2))\n",
    "x /= yp.mean(yp.abs(x))\n",
    "\n",
    "# Generate FFT operators\n",
    "F_list_n = []\n",
    "F_list_un = []\n",
    "for fft_backend in yp.valid_fft_backends:\n",
    "    F_list_n.append(ops.FourierTransform(sz_0, backend='numpy', fft_backend=fft_backend, center=True, normalize=True, pad=False))\n",
    "    F_list_un.append(ops.FourierTransform(sz_0, backend='numpy', fft_backend=fft_backend, center=True, normalize=False, pad=False))\n",
    "\n",
    "# Check energy in Fourier domain\n",
    "x_energy = yp.sumb(yp.abs(x) ** 2)\n",
    "energies_unnormalized = [yp.sumb(yp.abs(F * x) ** 2) / yp.size(x) for F in F_list_n]\n",
    "energies_normalized = [yp.sumb(yp.abs(F * x) ** 2) / yp.size(x) for F in F_list_un]\n",
    "\n",
    "print(x_energy)\n",
    "print(energies_unnormalized)\n",
    "print(energies_normalized)\n",
    "\n",
    "assert all([abs(energy_normalized - x_energy) < 1e-5 * x_energy for energy_normalized in energies_normalized])\n",
    "assert all([abs(energy_unnormalized * yp.size(x) - x_energy) < 1e-4 * x_energy for energy_unnormalized in energies_unnormalized])\n",
    "\n",
    "# Check inversion\n",
    "assert all([yp.scalar(yp.sumb(yp.abs(F.H * F * x - x))) < 1e-6  * x_energy for F in F_list_un])\n",
    "assert all([yp.scalar(yp.sumb(yp.abs(F.H * F * x - x))) < 1e-6  * x_energy for F in F_list_n])\n"
   ]
  },
  {
   "cell_type": "markdown",
   "metadata": {},
   "source": [
    "## Convolution Test"
   ]
  },
  {
   "cell_type": "code",
   "execution_count": null,
   "metadata": {
    "ExecuteTime": {
     "end_time": "2018-09-16T23:42:27.896253Z",
     "start_time": "2018-09-16T23:42:27.763892Z"
    }
   },
   "outputs": [],
   "source": [
    "# Create blur kernel\n",
    "h = yp.zeros(sz_0)\n",
    "h[sz_1[0] // 2:sz_1[0] // 2 + 1, sz_1[1] // 4: 3* sz_1[1] // 4,] = 1\n",
    "\n",
    "# Create fake object\n",
    "x = yp.zeros(h.shape)\n",
    "x[sz_1[0] // 4: 3* sz_1[0] // 4, sz_1[1] // 4: 3* sz_1[1] // 4] = yp.rand((sz_1[0] // 2, sz_1[1] // 2))\n",
    "\n",
    "# Generate forward operators\n",
    "A_list = [F.H * ops.Diagonalize(F * h) * F for F in F_list_un]\n",
    "\n",
    "# Generate measurements\n",
    "y_list = [A * x for A in A_list]\n",
    "y_sum = [yp.scalar(yp.sumb(yp.abs(A * x))) for A in A_list]\n",
    "\n",
    "# Check values\n",
    "assert all([delta < 1e-3 for delta in yp.sumb(yp.abs(x)) * yp.sumb(yp.abs(h)) - y_sum])\n",
    "\n",
    "plt.figure(figsize=(8,4))\n",
    "plt.subplot(121)\n",
    "plt.imshow(np.abs(x))\n",
    "plt.colorbar()\n",
    "plt.subplot(122)\n",
    "plt.imshow(np.abs(y_list[0]))\n",
    "plt.colorbar()"
   ]
  },
  {
   "cell_type": "markdown",
   "metadata": {},
   "source": [
    "# Arrayfire-Based Operators"
   ]
  },
  {
   "cell_type": "code",
   "execution_count": null,
   "metadata": {
    "ExecuteTime": {
     "end_time": "2018-09-16T23:42:54.446242Z",
     "start_time": "2018-09-16T23:42:54.429734Z"
    }
   },
   "outputs": [],
   "source": [
    "sz = (2000, 2000)"
   ]
  },
  {
   "cell_type": "markdown",
   "metadata": {},
   "source": [
    "## GPU/Arrayfire FFT Functon test"
   ]
  },
  {
   "cell_type": "code",
   "execution_count": null,
   "metadata": {
    "ExecuteTime": {
     "end_time": "2018-09-07T04:03:15.201697Z",
     "start_time": "2018-09-07T04:03:14.502125Z"
    }
   },
   "outputs": [],
   "source": [
    "# print('CPU:')\n",
    "# af.set_backend('cpu')\n",
    "# I1 = yp.rand(sz, backend='arrayfire')\n",
    "# %timeit af.signal.fft2(I1)\n",
    "\n",
    "if 'opencl' in af.get_available_backends():\n",
    "    print('OpenCL:')\n",
    "    af.set_backend('opencl')\n",
    "    I2 = yp.rand(sz, backend='arrayfire')\n",
    "    %timeit af.signal.fft(I2)\n",
    "\n",
    "if 'cuda' in af.get_available_backends():\n",
    "    print('CUDA:')\n",
    "    af.set_backend('cuda')\n",
    "    I3 = yp.rand(sz, backend='arrayfire')\n",
    "    %timeit af.signal.fft(I3)"
   ]
  },
  {
   "cell_type": "markdown",
   "metadata": {},
   "source": [
    "## GPU/Arrayfire Operator Test"
   ]
  },
  {
   "cell_type": "code",
   "execution_count": null,
   "metadata": {
    "ExecuteTime": {
     "end_time": "2018-09-07T04:03:38.919977Z",
     "start_time": "2018-09-07T04:03:26.575751Z"
    }
   },
   "outputs": [],
   "source": [
    "# af.set_backend('cpu:')\n",
    "# I1 = yp.rand(sz, backend='arrayfire')\n",
    "# F_cpu = ops.FourierTransform(sz, backend='arrayfire', center=False, normalize=False, pad=False)\n",
    "# print(af.get_backend_id(I1))\n",
    "# %timeit F_cpu * I1\n",
    "\n",
    "af.set_backend('opencl')\n",
    "I2 = yp.rand(sz, backend='arrayfire')\n",
    "F_ocl = ops.FourierTransform(sz, backend='arrayfire', center=False, normalize=False, pad=False)\n",
    "print(af.get_backend_id(I2))\n",
    "%timeit F_ocl * I2\n",
    "\n",
    "af.set_backend('cuda')\n",
    "I3 = yp.rand(sz, backend='arrayfire')\n",
    "F_cuda = ops.FourierTransform(sz, backend='arrayfire', center=False, normalize=False, pad=False)\n",
    "print(af.get_backend_id(I3))\n",
    "%timeit F_cuda * I3"
   ]
  },
  {
   "cell_type": "markdown",
   "metadata": {},
   "source": [
    "## GPU/Arrayfire Normalization Test"
   ]
  },
  {
   "cell_type": "code",
   "execution_count": null,
   "metadata": {
    "ExecuteTime": {
     "end_time": "2018-09-16T23:45:41.001418Z",
     "start_time": "2018-09-16T23:45:40.970824Z"
    }
   },
   "outputs": [],
   "source": [
    "backend = 'numpy'\n",
    "sz_0 = (100,100)\n",
    "sz_1 = (50,50)\n",
    "\n",
    "# Create fake object\n",
    "x = yp.zeros(sz_0, backend=backend)\n",
    "x[sz_1[0] // 4: 3* sz_1[0] // 4, sz_1[1] // 4: 3* sz_1[1] // 4] = yp.rand((sz_1[0] // 2, sz_1[1] // 2), backend=backend)\n",
    "x /= yp.mean(yp.abs(x))\n",
    "\n",
    "# Generate FFT operators\n",
    "F_list_n = []\n",
    "F_list_un = []\n",
    "\n",
    "for fft_backend in yp.valid_fft_backends:\n",
    "    F_list_n.append(ops.FourierTransform(sz_0, backend=backend, fft_backend=fft_backend, center=True, normalize=True, pad=False))\n",
    "    F_list_un.append(ops.FourierTransform(sz_0, backend=backend, fft_backend=fft_backend, center=True, normalize=False, pad=False))\n",
    "\n",
    "# Check energy in Fourier domain\n",
    "x_energy = yp.sumb(yp.abs(x) ** 2)\n",
    "energies_unnormalized = [yp.sumb(yp.abs(F * x) ** 2) / yp.size(x) for F in F_list_n]\n",
    "energies_normalized = [yp.sumb(yp.abs(F * x) ** 2) / yp.size(x) for F in F_list_un]\n",
    "\n",
    "print(x_energy)\n",
    "print(energies_unnormalized)\n",
    "print(energies_normalized)\n",
    "\n",
    "assert all([abs(energy_normalized - x_energy) < 1e-5 * x_energy for energy_normalized in energies_normalized])\n",
    "assert all([abs(energy_unnormalized * yp.size(x) - x_energy) < 1e-4 * x_energy for energy_unnormalized in energies_unnormalized])\n",
    "\n",
    "# Check inversion\n",
    "assert all([yp.scalar(yp.sumb(yp.abs(F.H * F * x - x))) < 1e-6  * x_energy for F in F_list_un])\n",
    "assert all([yp.scalar(yp.sumb(yp.abs(F.H * F * x - x))) < 1e-6  * x_energy for F in F_list_n])\n",
    "\n"
   ]
  },
  {
   "cell_type": "markdown",
   "metadata": {},
   "source": [
    "## Numpy / Arrayfire Transform Similarity"
   ]
  },
  {
   "cell_type": "code",
   "execution_count": null,
   "metadata": {
    "ExecuteTime": {
     "end_time": "2018-09-16T23:46:31.837246Z",
     "start_time": "2018-09-16T23:46:31.646046Z"
    }
   },
   "outputs": [],
   "source": [
    "normalize = False\n",
    "sz = yp.shape(x)\n",
    "x = yp.changeBackend(x, 'arrayfire')\n",
    "F_af = ops.FourierTransform(sz, center=True, backend='arrayfire', normalize=normalize)\n",
    "F_np = ops.FourierTransform(sz, center=True, backend='numpy', normalize=normalize)\n",
    "\n",
    "plt.figure()\n",
    "plt.subplot(221)\n",
    "plt.imshow(yp.abs(yp.changeBackend(F_af * x, 'numpy')))\n",
    "plt.title('Foward, af')\n",
    "plt.colorbar()\n",
    "\n",
    "plt.subplot(222)\n",
    "plt.imshow(yp.abs(F_np * yp.changeBackend(x, 'numpy')))\n",
    "plt.title('Foward, numpy')\n",
    "plt.colorbar()\n",
    "\n",
    "plt.subplot(223)\n",
    "plt.imshow(yp.abs(yp.changeBackend(F_af.H * x, 'numpy')))\n",
    "plt.title('Inverse, af')\n",
    "plt.colorbar()\n",
    "\n",
    "plt.subplot(224)\n",
    "plt.imshow(yp.abs(F_np.H * yp.changeBackend(x, 'numpy')))\n",
    "plt.title('Inverse, numpy')\n",
    "plt.colorbar()"
   ]
  },
  {
   "cell_type": "markdown",
   "metadata": {},
   "source": [
    "## Convolution Test"
   ]
  },
  {
   "cell_type": "code",
   "execution_count": null,
   "metadata": {
    "ExecuteTime": {
     "end_time": "2018-09-17T00:10:10.022847Z",
     "start_time": "2018-09-17T00:10:09.777691Z"
    }
   },
   "outputs": [],
   "source": [
    "backend = 'arrayfire'\n",
    "\n",
    "h = yp.zeros(sz_0, backend=backend)\n",
    "h[sz_0[0] // 4 * 3, sz_0[1] // 4 * 3] = 1\n",
    "\n",
    "# Create blur kernel\n",
    "h = yp.changeBackend(h, backend)\n",
    "h /= yp.sumb(yp.abs(h))\n",
    "\n",
    "# Generate forward operators\n",
    "F = ops.FourierTransform(sz_0, backend=backend, center=True, normalize=False, pad=False)\n",
    "A = F.H * ops.Diagonalize(h, inside_operator=F) * F\n",
    "\n",
    "# Generate measurements\n",
    "y = A * yp.changeBackend(x, backend)\n",
    "y_sum = yp.scalar(yp.sumb(yp.abs(y)))\n",
    "\n",
    "# Check values\n",
    "assert yp.scalar(yp.sumb(yp.abs(x)) * yp.sumb(yp.abs(h))) - y_sum\n",
    "\n",
    "plt.figure(figsize=(11,4))\n",
    "plt.subplot(131)\n",
    "plt.imshow(np.abs(x))\n",
    "plt.colorbar()\n",
    "plt.subplot(132)\n",
    "plt.imshow(np.abs(h))\n",
    "plt.colorbar()\n",
    "plt.subplot(133)\n",
    "plt.imshow(np.abs(y))\n",
    "plt.colorbar()"
   ]
  },
  {
   "cell_type": "code",
   "execution_count": null,
   "metadata": {
    "ExecuteTime": {
     "end_time": "2018-09-16T23:46:38.859194Z",
     "start_time": "2018-09-16T23:46:38.708601Z"
    }
   },
   "outputs": [],
   "source": [
    "h = yp.zeros(sz_0)\n",
    "h[sz_1[0] // 2:sz_1[0] // 2 + 1, sz_1[1] // 4: 3* sz_1[1] // 4,] = 1\n",
    "\n",
    "# Create blur kernel\n",
    "h = yp.changeBackend(h, 'arrayfire')\n",
    "h /= yp.sumb(yp.abs(h))\n",
    "\n",
    "# Generate forward operators\n",
    "F = ops.FourierTransform(sz_0, backend='arrayfire', center=False, normalize=False, pad=False)\n",
    "A = F.H * ops.Diagonalize(h, inside_operator=F) * F\n",
    "\n",
    "# Generate measurements\n",
    "y = A * x\n",
    "y_sum = yp.scalar(yp.sumb(yp.abs(y)))\n",
    "\n",
    "# Check values\n",
    "assert yp.scalar(yp.sumb(yp.abs(x)) * yp.sumb(yp.abs(h))) - y_sum\n",
    "\n",
    "plt.figure(figsize=(8,4))\n",
    "plt.subplot(121)\n",
    "plt.imshow(np.abs(x))\n",
    "plt.colorbar()\n",
    "plt.subplot(122)\n",
    "plt.imshow(np.abs(y))\n",
    "plt.colorbar()"
   ]
  },
  {
   "cell_type": "code",
   "execution_count": null,
   "metadata": {},
   "outputs": [],
   "source": []
  }
 ],
 "metadata": {
  "kernelspec": {
   "display_name": "Python 3",
   "language": "python",
   "name": "python3"
  },
  "language_info": {
   "codemirror_mode": {
    "name": "ipython",
    "version": 3
   },
   "file_extension": ".py",
   "mimetype": "text/x-python",
   "name": "python",
   "nbconvert_exporter": "python",
   "pygments_lexer": "ipython3",
   "version": "3.6.5"
  },
  "latex_envs": {
   "LaTeX_envs_menu_present": true,
   "autocomplete": true,
   "bibliofile": "biblio.bib",
   "cite_by": "apalike",
   "current_citInitial": 1,
   "eqLabelWithNumbers": true,
   "eqNumInitial": 1,
   "hotkeys": {
    "equation": "Ctrl-E",
    "itemize": "Ctrl-I"
   },
   "labels_anchors": false,
   "latex_user_defs": false,
   "report_style_numbering": false,
   "user_envs_cfg": false
  },
  "varInspector": {
   "cols": {
    "lenName": 16,
    "lenType": 16,
    "lenVar": 40
   },
   "kernels_config": {
    "python": {
     "delete_cmd_postfix": "",
     "delete_cmd_prefix": "del ",
     "library": "var_list.py",
     "varRefreshCmd": "print(var_dic_list())"
    },
    "r": {
     "delete_cmd_postfix": ") ",
     "delete_cmd_prefix": "rm(",
     "library": "var_list.r",
     "varRefreshCmd": "cat(var_dic_list()) "
    }
   },
   "types_to_exclude": [
    "module",
    "function",
    "builtin_function_or_method",
    "instance",
    "_Feature"
   ],
   "window_display": true
  }
 },
 "nbformat": 4,
 "nbformat_minor": 2
}
