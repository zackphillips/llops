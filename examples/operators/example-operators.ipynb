{
 "cells": [
  {
   "cell_type": "code",
   "execution_count": 40,
   "metadata": {
    "ExecuteTime": {
     "end_time": "2019-05-02T18:47:00.735041Z",
     "start_time": "2019-05-02T18:47:00.670545Z"
    },
    "scrolled": false
   },
   "outputs": [
    {
     "name": "stdout",
     "output_type": "stream",
     "text": [
      "The autoreload extension is already loaded. To reload it, use:\n",
      "  %reload_ext autoreload\n"
     ]
    }
   ],
   "source": [
    "%matplotlib notebook\n",
    "%load_ext autoreload\n",
    "%autoreload 2\n",
    "\n",
    "import numpy as np\n",
    "import scipy as sp\n",
    "import matplotlib.pyplot as plt\n",
    "import scipy.misc as misc\n",
    "import math\n",
    "import imageio\n",
    "import time\n",
    "\n",
    "# Libwallerlab imports\n",
    "import llops.operators as ops\n",
    "import llops as yp\n",
    "import llops.simulation as sim\n",
    "from llops import vec"
   ]
  },
  {
   "cell_type": "markdown",
   "metadata": {},
   "source": [
    "## Define Backend and Datatype"
   ]
  },
  {
   "cell_type": "code",
   "execution_count": 41,
   "metadata": {
    "ExecuteTime": {
     "end_time": "2019-05-02T18:47:01.334007Z",
     "start_time": "2019-05-02T18:47:01.310562Z"
    },
    "scrolled": false
   },
   "outputs": [],
   "source": [
    "global_backend = 'numpy' # arrayfire or numpy\n",
    "global_dtype = 'complex32' # complex32 or complex64\n",
    "\n",
    "ops.setDefaultBackend(global_backend)\n",
    "ops.setDefaultDatatype(global_dtype)"
   ]
  },
  {
   "cell_type": "markdown",
   "metadata": {},
   "source": [
    "## Define Test Object and Forward Operator"
   ]
  },
  {
   "cell_type": "code",
   "execution_count": 42,
   "metadata": {
    "ExecuteTime": {
     "end_time": "2019-05-02T18:47:02.319694Z",
     "start_time": "2019-05-02T18:47:01.849710Z"
    },
    "scrolled": false
   },
   "outputs": [
    {
     "data": {
      "application/javascript": [
       "/* Put everything inside the global mpl namespace */\n",
       "window.mpl = {};\n",
       "\n",
       "\n",
       "mpl.get_websocket_type = function() {\n",
       "    if (typeof(WebSocket) !== 'undefined') {\n",
       "        return WebSocket;\n",
       "    } else if (typeof(MozWebSocket) !== 'undefined') {\n",
       "        return MozWebSocket;\n",
       "    } else {\n",
       "        alert('Your browser does not have WebSocket support. ' +\n",
       "              'Please try Chrome, Safari or Firefox ≥ 6. ' +\n",
       "              'Firefox 4 and 5 are also supported but you ' +\n",
       "              'have to enable WebSockets in about:config.');\n",
       "    };\n",
       "}\n",
       "\n",
       "mpl.figure = function(figure_id, websocket, ondownload, parent_element) {\n",
       "    this.id = figure_id;\n",
       "\n",
       "    this.ws = websocket;\n",
       "\n",
       "    this.supports_binary = (this.ws.binaryType != undefined);\n",
       "\n",
       "    if (!this.supports_binary) {\n",
       "        var warnings = document.getElementById(\"mpl-warnings\");\n",
       "        if (warnings) {\n",
       "            warnings.style.display = 'block';\n",
       "            warnings.textContent = (\n",
       "                \"This browser does not support binary websocket messages. \" +\n",
       "                    \"Performance may be slow.\");\n",
       "        }\n",
       "    }\n",
       "\n",
       "    this.imageObj = new Image();\n",
       "\n",
       "    this.context = undefined;\n",
       "    this.message = undefined;\n",
       "    this.canvas = undefined;\n",
       "    this.rubberband_canvas = undefined;\n",
       "    this.rubberband_context = undefined;\n",
       "    this.format_dropdown = undefined;\n",
       "\n",
       "    this.image_mode = 'full';\n",
       "\n",
       "    this.root = $('<div/>');\n",
       "    this._root_extra_style(this.root)\n",
       "    this.root.attr('style', 'display: inline-block');\n",
       "\n",
       "    $(parent_element).append(this.root);\n",
       "\n",
       "    this._init_header(this);\n",
       "    this._init_canvas(this);\n",
       "    this._init_toolbar(this);\n",
       "\n",
       "    var fig = this;\n",
       "\n",
       "    this.waiting = false;\n",
       "\n",
       "    this.ws.onopen =  function () {\n",
       "            fig.send_message(\"supports_binary\", {value: fig.supports_binary});\n",
       "            fig.send_message(\"send_image_mode\", {});\n",
       "            if (mpl.ratio != 1) {\n",
       "                fig.send_message(\"set_dpi_ratio\", {'dpi_ratio': mpl.ratio});\n",
       "            }\n",
       "            fig.send_message(\"refresh\", {});\n",
       "        }\n",
       "\n",
       "    this.imageObj.onload = function() {\n",
       "            if (fig.image_mode == 'full') {\n",
       "                // Full images could contain transparency (where diff images\n",
       "                // almost always do), so we need to clear the canvas so that\n",
       "                // there is no ghosting.\n",
       "                fig.context.clearRect(0, 0, fig.canvas.width, fig.canvas.height);\n",
       "            }\n",
       "            fig.context.drawImage(fig.imageObj, 0, 0);\n",
       "        };\n",
       "\n",
       "    this.imageObj.onunload = function() {\n",
       "        fig.ws.close();\n",
       "    }\n",
       "\n",
       "    this.ws.onmessage = this._make_on_message_function(this);\n",
       "\n",
       "    this.ondownload = ondownload;\n",
       "}\n",
       "\n",
       "mpl.figure.prototype._init_header = function() {\n",
       "    var titlebar = $(\n",
       "        '<div class=\"ui-dialog-titlebar ui-widget-header ui-corner-all ' +\n",
       "        'ui-helper-clearfix\"/>');\n",
       "    var titletext = $(\n",
       "        '<div class=\"ui-dialog-title\" style=\"width: 100%; ' +\n",
       "        'text-align: center; padding: 3px;\"/>');\n",
       "    titlebar.append(titletext)\n",
       "    this.root.append(titlebar);\n",
       "    this.header = titletext[0];\n",
       "}\n",
       "\n",
       "\n",
       "\n",
       "mpl.figure.prototype._canvas_extra_style = function(canvas_div) {\n",
       "\n",
       "}\n",
       "\n",
       "\n",
       "mpl.figure.prototype._root_extra_style = function(canvas_div) {\n",
       "\n",
       "}\n",
       "\n",
       "mpl.figure.prototype._init_canvas = function() {\n",
       "    var fig = this;\n",
       "\n",
       "    var canvas_div = $('<div/>');\n",
       "\n",
       "    canvas_div.attr('style', 'position: relative; clear: both; outline: 0');\n",
       "\n",
       "    function canvas_keyboard_event(event) {\n",
       "        return fig.key_event(event, event['data']);\n",
       "    }\n",
       "\n",
       "    canvas_div.keydown('key_press', canvas_keyboard_event);\n",
       "    canvas_div.keyup('key_release', canvas_keyboard_event);\n",
       "    this.canvas_div = canvas_div\n",
       "    this._canvas_extra_style(canvas_div)\n",
       "    this.root.append(canvas_div);\n",
       "\n",
       "    var canvas = $('<canvas/>');\n",
       "    canvas.addClass('mpl-canvas');\n",
       "    canvas.attr('style', \"left: 0; top: 0; z-index: 0; outline: 0\")\n",
       "\n",
       "    this.canvas = canvas[0];\n",
       "    this.context = canvas[0].getContext(\"2d\");\n",
       "\n",
       "    var backingStore = this.context.backingStorePixelRatio ||\n",
       "\tthis.context.webkitBackingStorePixelRatio ||\n",
       "\tthis.context.mozBackingStorePixelRatio ||\n",
       "\tthis.context.msBackingStorePixelRatio ||\n",
       "\tthis.context.oBackingStorePixelRatio ||\n",
       "\tthis.context.backingStorePixelRatio || 1;\n",
       "\n",
       "    mpl.ratio = (window.devicePixelRatio || 1) / backingStore;\n",
       "\n",
       "    var rubberband = $('<canvas/>');\n",
       "    rubberband.attr('style', \"position: absolute; left: 0; top: 0; z-index: 1;\")\n",
       "\n",
       "    var pass_mouse_events = true;\n",
       "\n",
       "    canvas_div.resizable({\n",
       "        start: function(event, ui) {\n",
       "            pass_mouse_events = false;\n",
       "        },\n",
       "        resize: function(event, ui) {\n",
       "            fig.request_resize(ui.size.width, ui.size.height);\n",
       "        },\n",
       "        stop: function(event, ui) {\n",
       "            pass_mouse_events = true;\n",
       "            fig.request_resize(ui.size.width, ui.size.height);\n",
       "        },\n",
       "    });\n",
       "\n",
       "    function mouse_event_fn(event) {\n",
       "        if (pass_mouse_events)\n",
       "            return fig.mouse_event(event, event['data']);\n",
       "    }\n",
       "\n",
       "    rubberband.mousedown('button_press', mouse_event_fn);\n",
       "    rubberband.mouseup('button_release', mouse_event_fn);\n",
       "    // Throttle sequential mouse events to 1 every 20ms.\n",
       "    rubberband.mousemove('motion_notify', mouse_event_fn);\n",
       "\n",
       "    rubberband.mouseenter('figure_enter', mouse_event_fn);\n",
       "    rubberband.mouseleave('figure_leave', mouse_event_fn);\n",
       "\n",
       "    canvas_div.on(\"wheel\", function (event) {\n",
       "        event = event.originalEvent;\n",
       "        event['data'] = 'scroll'\n",
       "        if (event.deltaY < 0) {\n",
       "            event.step = 1;\n",
       "        } else {\n",
       "            event.step = -1;\n",
       "        }\n",
       "        mouse_event_fn(event);\n",
       "    });\n",
       "\n",
       "    canvas_div.append(canvas);\n",
       "    canvas_div.append(rubberband);\n",
       "\n",
       "    this.rubberband = rubberband;\n",
       "    this.rubberband_canvas = rubberband[0];\n",
       "    this.rubberband_context = rubberband[0].getContext(\"2d\");\n",
       "    this.rubberband_context.strokeStyle = \"#000000\";\n",
       "\n",
       "    this._resize_canvas = function(width, height) {\n",
       "        // Keep the size of the canvas, canvas container, and rubber band\n",
       "        // canvas in synch.\n",
       "        canvas_div.css('width', width)\n",
       "        canvas_div.css('height', height)\n",
       "\n",
       "        canvas.attr('width', width * mpl.ratio);\n",
       "        canvas.attr('height', height * mpl.ratio);\n",
       "        canvas.attr('style', 'width: ' + width + 'px; height: ' + height + 'px;');\n",
       "\n",
       "        rubberband.attr('width', width);\n",
       "        rubberband.attr('height', height);\n",
       "    }\n",
       "\n",
       "    // Set the figure to an initial 600x600px, this will subsequently be updated\n",
       "    // upon first draw.\n",
       "    this._resize_canvas(600, 600);\n",
       "\n",
       "    // Disable right mouse context menu.\n",
       "    $(this.rubberband_canvas).bind(\"contextmenu\",function(e){\n",
       "        return false;\n",
       "    });\n",
       "\n",
       "    function set_focus () {\n",
       "        canvas.focus();\n",
       "        canvas_div.focus();\n",
       "    }\n",
       "\n",
       "    window.setTimeout(set_focus, 100);\n",
       "}\n",
       "\n",
       "mpl.figure.prototype._init_toolbar = function() {\n",
       "    var fig = this;\n",
       "\n",
       "    var nav_element = $('<div/>');\n",
       "    nav_element.attr('style', 'width: 100%');\n",
       "    this.root.append(nav_element);\n",
       "\n",
       "    // Define a callback function for later on.\n",
       "    function toolbar_event(event) {\n",
       "        return fig.toolbar_button_onclick(event['data']);\n",
       "    }\n",
       "    function toolbar_mouse_event(event) {\n",
       "        return fig.toolbar_button_onmouseover(event['data']);\n",
       "    }\n",
       "\n",
       "    for(var toolbar_ind in mpl.toolbar_items) {\n",
       "        var name = mpl.toolbar_items[toolbar_ind][0];\n",
       "        var tooltip = mpl.toolbar_items[toolbar_ind][1];\n",
       "        var image = mpl.toolbar_items[toolbar_ind][2];\n",
       "        var method_name = mpl.toolbar_items[toolbar_ind][3];\n",
       "\n",
       "        if (!name) {\n",
       "            // put a spacer in here.\n",
       "            continue;\n",
       "        }\n",
       "        var button = $('<button/>');\n",
       "        button.addClass('ui-button ui-widget ui-state-default ui-corner-all ' +\n",
       "                        'ui-button-icon-only');\n",
       "        button.attr('role', 'button');\n",
       "        button.attr('aria-disabled', 'false');\n",
       "        button.click(method_name, toolbar_event);\n",
       "        button.mouseover(tooltip, toolbar_mouse_event);\n",
       "\n",
       "        var icon_img = $('<span/>');\n",
       "        icon_img.addClass('ui-button-icon-primary ui-icon');\n",
       "        icon_img.addClass(image);\n",
       "        icon_img.addClass('ui-corner-all');\n",
       "\n",
       "        var tooltip_span = $('<span/>');\n",
       "        tooltip_span.addClass('ui-button-text');\n",
       "        tooltip_span.html(tooltip);\n",
       "\n",
       "        button.append(icon_img);\n",
       "        button.append(tooltip_span);\n",
       "\n",
       "        nav_element.append(button);\n",
       "    }\n",
       "\n",
       "    var fmt_picker_span = $('<span/>');\n",
       "\n",
       "    var fmt_picker = $('<select/>');\n",
       "    fmt_picker.addClass('mpl-toolbar-option ui-widget ui-widget-content');\n",
       "    fmt_picker_span.append(fmt_picker);\n",
       "    nav_element.append(fmt_picker_span);\n",
       "    this.format_dropdown = fmt_picker[0];\n",
       "\n",
       "    for (var ind in mpl.extensions) {\n",
       "        var fmt = mpl.extensions[ind];\n",
       "        var option = $(\n",
       "            '<option/>', {selected: fmt === mpl.default_extension}).html(fmt);\n",
       "        fmt_picker.append(option);\n",
       "    }\n",
       "\n",
       "    // Add hover states to the ui-buttons\n",
       "    $( \".ui-button\" ).hover(\n",
       "        function() { $(this).addClass(\"ui-state-hover\");},\n",
       "        function() { $(this).removeClass(\"ui-state-hover\");}\n",
       "    );\n",
       "\n",
       "    var status_bar = $('<span class=\"mpl-message\"/>');\n",
       "    nav_element.append(status_bar);\n",
       "    this.message = status_bar[0];\n",
       "}\n",
       "\n",
       "mpl.figure.prototype.request_resize = function(x_pixels, y_pixels) {\n",
       "    // Request matplotlib to resize the figure. Matplotlib will then trigger a resize in the client,\n",
       "    // which will in turn request a refresh of the image.\n",
       "    this.send_message('resize', {'width': x_pixels, 'height': y_pixels});\n",
       "}\n",
       "\n",
       "mpl.figure.prototype.send_message = function(type, properties) {\n",
       "    properties['type'] = type;\n",
       "    properties['figure_id'] = this.id;\n",
       "    this.ws.send(JSON.stringify(properties));\n",
       "}\n",
       "\n",
       "mpl.figure.prototype.send_draw_message = function() {\n",
       "    if (!this.waiting) {\n",
       "        this.waiting = true;\n",
       "        this.ws.send(JSON.stringify({type: \"draw\", figure_id: this.id}));\n",
       "    }\n",
       "}\n",
       "\n",
       "\n",
       "mpl.figure.prototype.handle_save = function(fig, msg) {\n",
       "    var format_dropdown = fig.format_dropdown;\n",
       "    var format = format_dropdown.options[format_dropdown.selectedIndex].value;\n",
       "    fig.ondownload(fig, format);\n",
       "}\n",
       "\n",
       "\n",
       "mpl.figure.prototype.handle_resize = function(fig, msg) {\n",
       "    var size = msg['size'];\n",
       "    if (size[0] != fig.canvas.width || size[1] != fig.canvas.height) {\n",
       "        fig._resize_canvas(size[0], size[1]);\n",
       "        fig.send_message(\"refresh\", {});\n",
       "    };\n",
       "}\n",
       "\n",
       "mpl.figure.prototype.handle_rubberband = function(fig, msg) {\n",
       "    var x0 = msg['x0'] / mpl.ratio;\n",
       "    var y0 = (fig.canvas.height - msg['y0']) / mpl.ratio;\n",
       "    var x1 = msg['x1'] / mpl.ratio;\n",
       "    var y1 = (fig.canvas.height - msg['y1']) / mpl.ratio;\n",
       "    x0 = Math.floor(x0) + 0.5;\n",
       "    y0 = Math.floor(y0) + 0.5;\n",
       "    x1 = Math.floor(x1) + 0.5;\n",
       "    y1 = Math.floor(y1) + 0.5;\n",
       "    var min_x = Math.min(x0, x1);\n",
       "    var min_y = Math.min(y0, y1);\n",
       "    var width = Math.abs(x1 - x0);\n",
       "    var height = Math.abs(y1 - y0);\n",
       "\n",
       "    fig.rubberband_context.clearRect(\n",
       "        0, 0, fig.canvas.width, fig.canvas.height);\n",
       "\n",
       "    fig.rubberband_context.strokeRect(min_x, min_y, width, height);\n",
       "}\n",
       "\n",
       "mpl.figure.prototype.handle_figure_label = function(fig, msg) {\n",
       "    // Updates the figure title.\n",
       "    fig.header.textContent = msg['label'];\n",
       "}\n",
       "\n",
       "mpl.figure.prototype.handle_cursor = function(fig, msg) {\n",
       "    var cursor = msg['cursor'];\n",
       "    switch(cursor)\n",
       "    {\n",
       "    case 0:\n",
       "        cursor = 'pointer';\n",
       "        break;\n",
       "    case 1:\n",
       "        cursor = 'default';\n",
       "        break;\n",
       "    case 2:\n",
       "        cursor = 'crosshair';\n",
       "        break;\n",
       "    case 3:\n",
       "        cursor = 'move';\n",
       "        break;\n",
       "    }\n",
       "    fig.rubberband_canvas.style.cursor = cursor;\n",
       "}\n",
       "\n",
       "mpl.figure.prototype.handle_message = function(fig, msg) {\n",
       "    fig.message.textContent = msg['message'];\n",
       "}\n",
       "\n",
       "mpl.figure.prototype.handle_draw = function(fig, msg) {\n",
       "    // Request the server to send over a new figure.\n",
       "    fig.send_draw_message();\n",
       "}\n",
       "\n",
       "mpl.figure.prototype.handle_image_mode = function(fig, msg) {\n",
       "    fig.image_mode = msg['mode'];\n",
       "}\n",
       "\n",
       "mpl.figure.prototype.updated_canvas_event = function() {\n",
       "    // Called whenever the canvas gets updated.\n",
       "    this.send_message(\"ack\", {});\n",
       "}\n",
       "\n",
       "// A function to construct a web socket function for onmessage handling.\n",
       "// Called in the figure constructor.\n",
       "mpl.figure.prototype._make_on_message_function = function(fig) {\n",
       "    return function socket_on_message(evt) {\n",
       "        if (evt.data instanceof Blob) {\n",
       "            /* FIXME: We get \"Resource interpreted as Image but\n",
       "             * transferred with MIME type text/plain:\" errors on\n",
       "             * Chrome.  But how to set the MIME type?  It doesn't seem\n",
       "             * to be part of the websocket stream */\n",
       "            evt.data.type = \"image/png\";\n",
       "\n",
       "            /* Free the memory for the previous frames */\n",
       "            if (fig.imageObj.src) {\n",
       "                (window.URL || window.webkitURL).revokeObjectURL(\n",
       "                    fig.imageObj.src);\n",
       "            }\n",
       "\n",
       "            fig.imageObj.src = (window.URL || window.webkitURL).createObjectURL(\n",
       "                evt.data);\n",
       "            fig.updated_canvas_event();\n",
       "            fig.waiting = false;\n",
       "            return;\n",
       "        }\n",
       "        else if (typeof evt.data === 'string' && evt.data.slice(0, 21) == \"data:image/png;base64\") {\n",
       "            fig.imageObj.src = evt.data;\n",
       "            fig.updated_canvas_event();\n",
       "            fig.waiting = false;\n",
       "            return;\n",
       "        }\n",
       "\n",
       "        var msg = JSON.parse(evt.data);\n",
       "        var msg_type = msg['type'];\n",
       "\n",
       "        // Call the  \"handle_{type}\" callback, which takes\n",
       "        // the figure and JSON message as its only arguments.\n",
       "        try {\n",
       "            var callback = fig[\"handle_\" + msg_type];\n",
       "        } catch (e) {\n",
       "            console.log(\"No handler for the '\" + msg_type + \"' message type: \", msg);\n",
       "            return;\n",
       "        }\n",
       "\n",
       "        if (callback) {\n",
       "            try {\n",
       "                // console.log(\"Handling '\" + msg_type + \"' message: \", msg);\n",
       "                callback(fig, msg);\n",
       "            } catch (e) {\n",
       "                console.log(\"Exception inside the 'handler_\" + msg_type + \"' callback:\", e, e.stack, msg);\n",
       "            }\n",
       "        }\n",
       "    };\n",
       "}\n",
       "\n",
       "// from http://stackoverflow.com/questions/1114465/getting-mouse-location-in-canvas\n",
       "mpl.findpos = function(e) {\n",
       "    //this section is from http://www.quirksmode.org/js/events_properties.html\n",
       "    var targ;\n",
       "    if (!e)\n",
       "        e = window.event;\n",
       "    if (e.target)\n",
       "        targ = e.target;\n",
       "    else if (e.srcElement)\n",
       "        targ = e.srcElement;\n",
       "    if (targ.nodeType == 3) // defeat Safari bug\n",
       "        targ = targ.parentNode;\n",
       "\n",
       "    // jQuery normalizes the pageX and pageY\n",
       "    // pageX,Y are the mouse positions relative to the document\n",
       "    // offset() returns the position of the element relative to the document\n",
       "    var x = e.pageX - $(targ).offset().left;\n",
       "    var y = e.pageY - $(targ).offset().top;\n",
       "\n",
       "    return {\"x\": x, \"y\": y};\n",
       "};\n",
       "\n",
       "/*\n",
       " * return a copy of an object with only non-object keys\n",
       " * we need this to avoid circular references\n",
       " * http://stackoverflow.com/a/24161582/3208463\n",
       " */\n",
       "function simpleKeys (original) {\n",
       "  return Object.keys(original).reduce(function (obj, key) {\n",
       "    if (typeof original[key] !== 'object')\n",
       "        obj[key] = original[key]\n",
       "    return obj;\n",
       "  }, {});\n",
       "}\n",
       "\n",
       "mpl.figure.prototype.mouse_event = function(event, name) {\n",
       "    var canvas_pos = mpl.findpos(event)\n",
       "\n",
       "    if (name === 'button_press')\n",
       "    {\n",
       "        this.canvas.focus();\n",
       "        this.canvas_div.focus();\n",
       "    }\n",
       "\n",
       "    var x = canvas_pos.x * mpl.ratio;\n",
       "    var y = canvas_pos.y * mpl.ratio;\n",
       "\n",
       "    this.send_message(name, {x: x, y: y, button: event.button,\n",
       "                             step: event.step,\n",
       "                             guiEvent: simpleKeys(event)});\n",
       "\n",
       "    /* This prevents the web browser from automatically changing to\n",
       "     * the text insertion cursor when the button is pressed.  We want\n",
       "     * to control all of the cursor setting manually through the\n",
       "     * 'cursor' event from matplotlib */\n",
       "    event.preventDefault();\n",
       "    return false;\n",
       "}\n",
       "\n",
       "mpl.figure.prototype._key_event_extra = function(event, name) {\n",
       "    // Handle any extra behaviour associated with a key event\n",
       "}\n",
       "\n",
       "mpl.figure.prototype.key_event = function(event, name) {\n",
       "\n",
       "    // Prevent repeat events\n",
       "    if (name == 'key_press')\n",
       "    {\n",
       "        if (event.which === this._key)\n",
       "            return;\n",
       "        else\n",
       "            this._key = event.which;\n",
       "    }\n",
       "    if (name == 'key_release')\n",
       "        this._key = null;\n",
       "\n",
       "    var value = '';\n",
       "    if (event.ctrlKey && event.which != 17)\n",
       "        value += \"ctrl+\";\n",
       "    if (event.altKey && event.which != 18)\n",
       "        value += \"alt+\";\n",
       "    if (event.shiftKey && event.which != 16)\n",
       "        value += \"shift+\";\n",
       "\n",
       "    value += 'k';\n",
       "    value += event.which.toString();\n",
       "\n",
       "    this._key_event_extra(event, name);\n",
       "\n",
       "    this.send_message(name, {key: value,\n",
       "                             guiEvent: simpleKeys(event)});\n",
       "    return false;\n",
       "}\n",
       "\n",
       "mpl.figure.prototype.toolbar_button_onclick = function(name) {\n",
       "    if (name == 'download') {\n",
       "        this.handle_save(this, null);\n",
       "    } else {\n",
       "        this.send_message(\"toolbar_button\", {name: name});\n",
       "    }\n",
       "};\n",
       "\n",
       "mpl.figure.prototype.toolbar_button_onmouseover = function(tooltip) {\n",
       "    this.message.textContent = tooltip;\n",
       "};\n",
       "mpl.toolbar_items = [[\"Home\", \"Reset original view\", \"fa fa-home icon-home\", \"home\"], [\"Back\", \"Back to previous view\", \"fa fa-arrow-left icon-arrow-left\", \"back\"], [\"Forward\", \"Forward to next view\", \"fa fa-arrow-right icon-arrow-right\", \"forward\"], [\"\", \"\", \"\", \"\"], [\"Pan\", \"Pan axes with left mouse, zoom with right\", \"fa fa-arrows icon-move\", \"pan\"], [\"Zoom\", \"Zoom to rectangle\", \"fa fa-square-o icon-check-empty\", \"zoom\"], [\"\", \"\", \"\", \"\"], [\"Download\", \"Download plot\", \"fa fa-floppy-o icon-save\", \"download\"]];\n",
       "\n",
       "mpl.extensions = [\"eps\", \"jpeg\", \"pdf\", \"png\", \"ps\", \"raw\", \"svg\", \"tif\"];\n",
       "\n",
       "mpl.default_extension = \"png\";var comm_websocket_adapter = function(comm) {\n",
       "    // Create a \"websocket\"-like object which calls the given IPython comm\n",
       "    // object with the appropriate methods. Currently this is a non binary\n",
       "    // socket, so there is still some room for performance tuning.\n",
       "    var ws = {};\n",
       "\n",
       "    ws.close = function() {\n",
       "        comm.close()\n",
       "    };\n",
       "    ws.send = function(m) {\n",
       "        //console.log('sending', m);\n",
       "        comm.send(m);\n",
       "    };\n",
       "    // Register the callback with on_msg.\n",
       "    comm.on_msg(function(msg) {\n",
       "        //console.log('receiving', msg['content']['data'], msg);\n",
       "        // Pass the mpl event to the overridden (by mpl) onmessage function.\n",
       "        ws.onmessage(msg['content']['data'])\n",
       "    });\n",
       "    return ws;\n",
       "}\n",
       "\n",
       "mpl.mpl_figure_comm = function(comm, msg) {\n",
       "    // This is the function which gets called when the mpl process\n",
       "    // starts-up an IPython Comm through the \"matplotlib\" channel.\n",
       "\n",
       "    var id = msg.content.data.id;\n",
       "    // Get hold of the div created by the display call when the Comm\n",
       "    // socket was opened in Python.\n",
       "    var element = $(\"#\" + id);\n",
       "    var ws_proxy = comm_websocket_adapter(comm)\n",
       "\n",
       "    function ondownload(figure, format) {\n",
       "        window.open(figure.imageObj.src);\n",
       "    }\n",
       "\n",
       "    var fig = new mpl.figure(id, ws_proxy,\n",
       "                           ondownload,\n",
       "                           element.get(0));\n",
       "\n",
       "    // Call onopen now - mpl needs it, as it is assuming we've passed it a real\n",
       "    // web socket which is closed, not our websocket->open comm proxy.\n",
       "    ws_proxy.onopen();\n",
       "\n",
       "    fig.parent_element = element.get(0);\n",
       "    fig.cell_info = mpl.find_output_cell(\"<div id='\" + id + \"'></div>\");\n",
       "    if (!fig.cell_info) {\n",
       "        console.error(\"Failed to find cell for figure\", id, fig);\n",
       "        return;\n",
       "    }\n",
       "\n",
       "    var output_index = fig.cell_info[2]\n",
       "    var cell = fig.cell_info[0];\n",
       "\n",
       "};\n",
       "\n",
       "mpl.figure.prototype.handle_close = function(fig, msg) {\n",
       "    var width = fig.canvas.width/mpl.ratio\n",
       "    fig.root.unbind('remove')\n",
       "\n",
       "    // Update the output cell to use the data from the current canvas.\n",
       "    fig.push_to_output();\n",
       "    var dataURL = fig.canvas.toDataURL();\n",
       "    // Re-enable the keyboard manager in IPython - without this line, in FF,\n",
       "    // the notebook keyboard shortcuts fail.\n",
       "    IPython.keyboard_manager.enable()\n",
       "    $(fig.parent_element).html('<img src=\"' + dataURL + '\" width=\"' + width + '\">');\n",
       "    fig.close_ws(fig, msg);\n",
       "}\n",
       "\n",
       "mpl.figure.prototype.close_ws = function(fig, msg){\n",
       "    fig.send_message('closing', msg);\n",
       "    // fig.ws.close()\n",
       "}\n",
       "\n",
       "mpl.figure.prototype.push_to_output = function(remove_interactive) {\n",
       "    // Turn the data on the canvas into data in the output cell.\n",
       "    var width = this.canvas.width/mpl.ratio\n",
       "    var dataURL = this.canvas.toDataURL();\n",
       "    this.cell_info[1]['text/html'] = '<img src=\"' + dataURL + '\" width=\"' + width + '\">';\n",
       "}\n",
       "\n",
       "mpl.figure.prototype.updated_canvas_event = function() {\n",
       "    // Tell IPython that the notebook contents must change.\n",
       "    IPython.notebook.set_dirty(true);\n",
       "    this.send_message(\"ack\", {});\n",
       "    var fig = this;\n",
       "    // Wait a second, then push the new image to the DOM so\n",
       "    // that it is saved nicely (might be nice to debounce this).\n",
       "    setTimeout(function () { fig.push_to_output() }, 1000);\n",
       "}\n",
       "\n",
       "mpl.figure.prototype._init_toolbar = function() {\n",
       "    var fig = this;\n",
       "\n",
       "    var nav_element = $('<div/>');\n",
       "    nav_element.attr('style', 'width: 100%');\n",
       "    this.root.append(nav_element);\n",
       "\n",
       "    // Define a callback function for later on.\n",
       "    function toolbar_event(event) {\n",
       "        return fig.toolbar_button_onclick(event['data']);\n",
       "    }\n",
       "    function toolbar_mouse_event(event) {\n",
       "        return fig.toolbar_button_onmouseover(event['data']);\n",
       "    }\n",
       "\n",
       "    for(var toolbar_ind in mpl.toolbar_items){\n",
       "        var name = mpl.toolbar_items[toolbar_ind][0];\n",
       "        var tooltip = mpl.toolbar_items[toolbar_ind][1];\n",
       "        var image = mpl.toolbar_items[toolbar_ind][2];\n",
       "        var method_name = mpl.toolbar_items[toolbar_ind][3];\n",
       "\n",
       "        if (!name) { continue; };\n",
       "\n",
       "        var button = $('<button class=\"btn btn-default\" href=\"#\" title=\"' + name + '\"><i class=\"fa ' + image + ' fa-lg\"></i></button>');\n",
       "        button.click(method_name, toolbar_event);\n",
       "        button.mouseover(tooltip, toolbar_mouse_event);\n",
       "        nav_element.append(button);\n",
       "    }\n",
       "\n",
       "    // Add the status bar.\n",
       "    var status_bar = $('<span class=\"mpl-message\" style=\"text-align:right; float: right;\"/>');\n",
       "    nav_element.append(status_bar);\n",
       "    this.message = status_bar[0];\n",
       "\n",
       "    // Add the close button to the window.\n",
       "    var buttongrp = $('<div class=\"btn-group inline pull-right\"></div>');\n",
       "    var button = $('<button class=\"btn btn-mini btn-primary\" href=\"#\" title=\"Stop Interaction\"><i class=\"fa fa-power-off icon-remove icon-large\"></i></button>');\n",
       "    button.click(function (evt) { fig.handle_close(fig, {}); } );\n",
       "    button.mouseover('Stop Interaction', toolbar_mouse_event);\n",
       "    buttongrp.append(button);\n",
       "    var titlebar = this.root.find($('.ui-dialog-titlebar'));\n",
       "    titlebar.prepend(buttongrp);\n",
       "}\n",
       "\n",
       "mpl.figure.prototype._root_extra_style = function(el){\n",
       "    var fig = this\n",
       "    el.on(\"remove\", function(){\n",
       "\tfig.close_ws(fig, {});\n",
       "    });\n",
       "}\n",
       "\n",
       "mpl.figure.prototype._canvas_extra_style = function(el){\n",
       "    // this is important to make the div 'focusable\n",
       "    el.attr('tabindex', 0)\n",
       "    // reach out to IPython and tell the keyboard manager to turn it's self\n",
       "    // off when our div gets focus\n",
       "\n",
       "    // location in version 3\n",
       "    if (IPython.notebook.keyboard_manager) {\n",
       "        IPython.notebook.keyboard_manager.register_events(el);\n",
       "    }\n",
       "    else {\n",
       "        // location in version 2\n",
       "        IPython.keyboard_manager.register_events(el);\n",
       "    }\n",
       "\n",
       "}\n",
       "\n",
       "mpl.figure.prototype._key_event_extra = function(event, name) {\n",
       "    var manager = IPython.notebook.keyboard_manager;\n",
       "    if (!manager)\n",
       "        manager = IPython.keyboard_manager;\n",
       "\n",
       "    // Check for shift+enter\n",
       "    if (event.shiftKey && event.which == 13) {\n",
       "        this.canvas_div.blur();\n",
       "        event.shiftKey = false;\n",
       "        // Send a \"J\" for go to next cell\n",
       "        event.which = 74;\n",
       "        event.keyCode = 74;\n",
       "        manager.command_mode();\n",
       "        manager.handle_keydown(event);\n",
       "    }\n",
       "}\n",
       "\n",
       "mpl.figure.prototype.handle_save = function(fig, msg) {\n",
       "    fig.ondownload(fig, null);\n",
       "}\n",
       "\n",
       "\n",
       "mpl.find_output_cell = function(html_output) {\n",
       "    // Return the cell and output element which can be found *uniquely* in the notebook.\n",
       "    // Note - this is a bit hacky, but it is done because the \"notebook_saving.Notebook\"\n",
       "    // IPython event is triggered only after the cells have been serialised, which for\n",
       "    // our purposes (turning an active figure into a static one), is too late.\n",
       "    var cells = IPython.notebook.get_cells();\n",
       "    var ncells = cells.length;\n",
       "    for (var i=0; i<ncells; i++) {\n",
       "        var cell = cells[i];\n",
       "        if (cell.cell_type === 'code'){\n",
       "            for (var j=0; j<cell.output_area.outputs.length; j++) {\n",
       "                var data = cell.output_area.outputs[j];\n",
       "                if (data.data) {\n",
       "                    // IPython >= 3 moved mimebundle to data attribute of output\n",
       "                    data = data.data;\n",
       "                }\n",
       "                if (data['text/html'] == html_output) {\n",
       "                    return [cell, data, j];\n",
       "                }\n",
       "            }\n",
       "        }\n",
       "    }\n",
       "}\n",
       "\n",
       "// Register the function which deals with the matplotlib target/channel.\n",
       "// The kernel may be null if the page has been refreshed.\n",
       "if (IPython.notebook.kernel != null) {\n",
       "    IPython.notebook.kernel.comm_manager.register_target('matplotlib', mpl.mpl_figure_comm);\n",
       "}\n"
      ],
      "text/plain": [
       "<IPython.core.display.Javascript object>"
      ]
     },
     "metadata": {},
     "output_type": "display_data"
    },
    {
     "data": {
      "text/html": [
       "<img src=\"data:image/png;base64,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\" width=\"1200\">"
      ],
      "text/plain": [
       "<IPython.core.display.HTML object>"
      ]
     },
     "metadata": {},
     "output_type": "display_data"
    }
   ],
   "source": [
    "# Image size to simulate\n",
    "image_size = np.array([64, 128])\n",
    "\n",
    "# Determine machine precision threshold\n",
    "eps = yp.precision(global_dtype) * np.prod(image_size)\n",
    "\n",
    "# Load object and crop to size\n",
    "x = sim.brain(image_size)\n",
    "\n",
    "# Generate convolution kernel h\n",
    "h_size = np.array([4, 4])\n",
    "h = yp.zeros(image_size, global_dtype, global_backend)\n",
    "h[image_size[0] // 2 - h_size[0] // 2:image_size[0] // 2 + h_size[0] // 2,\n",
    "  image_size[1] // 2 - h_size[1] // 2:image_size[1] // 2 + h_size[1] // 2] = yp.randn((h_size[0], h_size[1]), global_dtype, global_backend)\n",
    "\n",
    "h /= yp.scalar(yp.sum(yp.abs(h)))\n",
    "\n",
    "# Forward Operator\n",
    "A = ops.Convolution(h, mode='circular', pad_value='mean', invalid_support_value=0)\n",
    "A.inverse_regularizer = 1e-2\n",
    "\n",
    "# Generate Measurement\n",
    "y = A * x\n",
    "\n",
    "# Reconstruction\n",
    "x_star = A.inv * y\n",
    "\n",
    "# Show object and h\n",
    "plt.figure(figsize=(12,3))\n",
    "plt.subplot(141)\n",
    "plt.imshow(yp.abs(yp.changeBackend(x, 'numpy')), cmap='gray')\n",
    "plt.title('Object (x)')\n",
    "plt.subplot(142)\n",
    "plt.imshow(yp.abs(np.asarray(h)), cmap='gray')\n",
    "plt.title('h (A)')\n",
    "plt.subplot(143)\n",
    "plt.imshow((yp.abs(np.asarray(y))), cmap='gray')\n",
    "plt.title('Measurement (A * x)');\n",
    "plt.subplot(144)\n",
    "plt.imshow((yp.abs(np.asarray(x_star))), cmap='gray')\n",
    "plt.title('Recon (A.inv * A * x)');"
   ]
  },
  {
   "cell_type": "markdown",
   "metadata": {},
   "source": [
    "## Identity Operator"
   ]
  },
  {
   "cell_type": "code",
   "execution_count": 4,
   "metadata": {
    "ExecuteTime": {
     "end_time": "2019-05-02T17:11:20.083953Z",
     "start_time": "2019-05-02T17:11:20.055188Z"
    }
   },
   "outputs": [
    {
     "data": {
      "text/latex": [
       "$I(\\vec{x}) = I \\times \\vec{x}$"
      ],
      "text/plain": [
       "<IPython.core.display.Latex object>"
      ]
     },
     "metadata": {},
     "output_type": "display_data"
    },
    {
     "data": {
      "text/latex": [
       "$ \\nabla_xI(\\vec{x}) = I^H \\times \\vec{x}$"
      ],
      "text/plain": [
       "<IPython.core.display.Latex object>"
      ]
     },
     "metadata": {},
     "output_type": "display_data"
    }
   ],
   "source": [
    "I = ops.Identity(image_size)\n",
    "\n",
    "# Check forward operator\n",
    "assert yp.sum((I * x) - x) < eps\n",
    "\n",
    "# Check gradient\n",
    "I.gradient_check()\n",
    "\n",
    "# Render forward model\n",
    "I.latex()\n",
    "\n",
    "# Render gradient\n",
    "I.latex(gradient=True)"
   ]
  },
  {
   "cell_type": "markdown",
   "metadata": {},
   "source": [
    "## Diagonalization Operator"
   ]
  },
  {
   "cell_type": "code",
   "execution_count": 43,
   "metadata": {
    "ExecuteTime": {
     "end_time": "2019-05-02T18:47:04.107853Z",
     "start_time": "2019-05-02T18:47:04.078602Z"
    }
   },
   "outputs": [
    {
     "data": {
      "text/latex": [
       "$d(\\vec{x}) = diag(\\vec{d})\\times \\vec{x}$"
      ],
      "text/plain": [
       "<IPython.core.display.Latex object>"
      ]
     },
     "metadata": {},
     "output_type": "display_data"
    },
    {
     "data": {
      "text/latex": [
       "$ \\nabla_xd(\\vec{x}) = diag(\\vec{d})^H \\times \\vec{x}$"
      ],
      "text/plain": [
       "<IPython.core.display.Latex object>"
      ]
     },
     "metadata": {},
     "output_type": "display_data"
    }
   ],
   "source": [
    "K = ops.Diagonalize(h)\n",
    "\n",
    "# Check forward operator\n",
    "yp.assert_equality(K * x, h * x)\n",
    "\n",
    "# Check gradient\n",
    "K.gradient_check()\n",
    "\n",
    "# Render forward model\n",
    "K.latex()\n",
    "\n",
    "# Render gradient\n",
    "K.latex(gradient=True)"
   ]
  },
  {
   "cell_type": "markdown",
   "metadata": {},
   "source": [
    "## Matrix Multiplication Operator"
   ]
  },
  {
   "cell_type": "code",
   "execution_count": 44,
   "metadata": {
    "ExecuteTime": {
     "end_time": "2019-05-02T18:47:05.012574Z",
     "start_time": "2019-05-02T18:47:04.977889Z"
    }
   },
   "outputs": [
    {
     "data": {
      "text/latex": [
       "$A(\\vec{x}) = M\\vec{x}$"
      ],
      "text/plain": [
       "<IPython.core.display.Latex object>"
      ]
     },
     "metadata": {},
     "output_type": "display_data"
    },
    {
     "data": {
      "text/latex": [
       "$ \\nabla_xA(\\vec{x}) = M^H \\times \\vec{x}$"
      ],
      "text/plain": [
       "<IPython.core.display.Latex object>"
      ]
     },
     "metadata": {},
     "output_type": "display_data"
    }
   ],
   "source": [
    "matrix_size = (10,10)\n",
    "m = yp.rand(matrix_size, global_dtype, global_backend)\n",
    "xm = yp.rand(matrix_size[1], global_dtype, global_backend)\n",
    "M = ops.MatrixMultiply(m)\n",
    "\n",
    "# Check Forward operator\n",
    "assert yp.sum(yp.abs(yp.vec(yp.changeBackend(M * xm, 'numpy')) - yp.vec(yp.changeBackend(m, 'numpy').dot(yp.changeBackend(xm, 'numpy'))))) < eps, \"%f\" % yp.sum(yp.abs(yp.changeBackend(M * xm, 'numpy') - yp.changeBackend(m, 'numpy').dot(yp.changeBackend(xm, 'numpy'))[:, np.newaxis]))\n",
    "\n",
    "# Check Adjoint\n",
    "assert yp.sum(yp.abs(yp.vec(yp.changeBackend(M.H * xm, 'numpy')) - yp.vec(np.conj(yp.changeBackend(m, 'numpy').T).dot(yp.changeBackend(xm, 'numpy'))))) < eps, \"%f\" % yp.sum(yp.abs(yp.changeBackend(M.H * xm, 'numpy') - np.conj(yp.changeBackend(m, 'numpy').T).dot(yp.changeBackend(xm, 'numpy'))[:, np.newaxis]))\n",
    "\n",
    "# Check gradient\n",
    "M.gradient_check()\n",
    "\n",
    "# Render forward model\n",
    "M.latex()\n",
    "\n",
    "# Render gradient\n",
    "M.latex(gradient=True)"
   ]
  },
  {
   "cell_type": "markdown",
   "metadata": {},
   "source": [
    "## Circular Convolution Operator"
   ]
  },
  {
   "cell_type": "code",
   "execution_count": 45,
   "metadata": {
    "ExecuteTime": {
     "end_time": "2019-05-02T18:47:06.023133Z",
     "start_time": "2019-05-02T18:47:05.981383Z"
    }
   },
   "outputs": [
    {
     "data": {
      "text/latex": [
       "$C(\\vec{x}) = C \\times \\vec{x}$"
      ],
      "text/plain": [
       "<IPython.core.display.Latex object>"
      ]
     },
     "metadata": {},
     "output_type": "display_data"
    },
    {
     "data": {
      "text/latex": [
       "$ \\nabla_xC(\\vec{x}) = C^H \\times \\vec{x}$"
      ],
      "text/plain": [
       "<IPython.core.display.Latex object>"
      ]
     },
     "metadata": {},
     "output_type": "display_data"
    }
   ],
   "source": [
    "# Generate circular convolution operator\n",
    "C = ops.Convolution(h)\n",
    "\n",
    "# Test forward operator\n",
    "conv2 = lambda x, h: yp.changeBackend(np.fft.ifftshift((np.fft.ifft2(np.fft.fft2(x, axes=(0,1), norm='ortho') * np.fft.fft2(h, axes=(0,1), norm='ortho'), axes=(0,1), norm='ortho')), axes=(0,1)).astype(yp.getNativeDatatype(global_dtype, 'numpy')), global_backend)\n",
    "\n",
    "x_np = yp.changeBackend(x, 'numpy')\n",
    "h_np = yp.changeBackend(h, 'numpy')\n",
    "\n",
    "# Check gradient\n",
    "C.gradient_check(eps=1e-0)\n",
    "\n",
    "# Render forward model\n",
    "C.latex()\n",
    "\n",
    "# Render gradient\n",
    "C.latex(gradient=True)"
   ]
  },
  {
   "cell_type": "markdown",
   "metadata": {},
   "source": [
    "## Non-circular Convolution Operator"
   ]
  },
  {
   "cell_type": "code",
   "execution_count": 46,
   "metadata": {
    "ExecuteTime": {
     "end_time": "2019-05-02T18:47:06.768274Z",
     "start_time": "2019-05-02T18:47:06.665342Z"
    }
   },
   "outputs": [
    {
     "data": {
      "application/javascript": [
       "/* Put everything inside the global mpl namespace */\n",
       "window.mpl = {};\n",
       "\n",
       "\n",
       "mpl.get_websocket_type = function() {\n",
       "    if (typeof(WebSocket) !== 'undefined') {\n",
       "        return WebSocket;\n",
       "    } else if (typeof(MozWebSocket) !== 'undefined') {\n",
       "        return MozWebSocket;\n",
       "    } else {\n",
       "        alert('Your browser does not have WebSocket support. ' +\n",
       "              'Please try Chrome, Safari or Firefox ≥ 6. ' +\n",
       "              'Firefox 4 and 5 are also supported but you ' +\n",
       "              'have to enable WebSockets in about:config.');\n",
       "    };\n",
       "}\n",
       "\n",
       "mpl.figure = function(figure_id, websocket, ondownload, parent_element) {\n",
       "    this.id = figure_id;\n",
       "\n",
       "    this.ws = websocket;\n",
       "\n",
       "    this.supports_binary = (this.ws.binaryType != undefined);\n",
       "\n",
       "    if (!this.supports_binary) {\n",
       "        var warnings = document.getElementById(\"mpl-warnings\");\n",
       "        if (warnings) {\n",
       "            warnings.style.display = 'block';\n",
       "            warnings.textContent = (\n",
       "                \"This browser does not support binary websocket messages. \" +\n",
       "                    \"Performance may be slow.\");\n",
       "        }\n",
       "    }\n",
       "\n",
       "    this.imageObj = new Image();\n",
       "\n",
       "    this.context = undefined;\n",
       "    this.message = undefined;\n",
       "    this.canvas = undefined;\n",
       "    this.rubberband_canvas = undefined;\n",
       "    this.rubberband_context = undefined;\n",
       "    this.format_dropdown = undefined;\n",
       "\n",
       "    this.image_mode = 'full';\n",
       "\n",
       "    this.root = $('<div/>');\n",
       "    this._root_extra_style(this.root)\n",
       "    this.root.attr('style', 'display: inline-block');\n",
       "\n",
       "    $(parent_element).append(this.root);\n",
       "\n",
       "    this._init_header(this);\n",
       "    this._init_canvas(this);\n",
       "    this._init_toolbar(this);\n",
       "\n",
       "    var fig = this;\n",
       "\n",
       "    this.waiting = false;\n",
       "\n",
       "    this.ws.onopen =  function () {\n",
       "            fig.send_message(\"supports_binary\", {value: fig.supports_binary});\n",
       "            fig.send_message(\"send_image_mode\", {});\n",
       "            if (mpl.ratio != 1) {\n",
       "                fig.send_message(\"set_dpi_ratio\", {'dpi_ratio': mpl.ratio});\n",
       "            }\n",
       "            fig.send_message(\"refresh\", {});\n",
       "        }\n",
       "\n",
       "    this.imageObj.onload = function() {\n",
       "            if (fig.image_mode == 'full') {\n",
       "                // Full images could contain transparency (where diff images\n",
       "                // almost always do), so we need to clear the canvas so that\n",
       "                // there is no ghosting.\n",
       "                fig.context.clearRect(0, 0, fig.canvas.width, fig.canvas.height);\n",
       "            }\n",
       "            fig.context.drawImage(fig.imageObj, 0, 0);\n",
       "        };\n",
       "\n",
       "    this.imageObj.onunload = function() {\n",
       "        fig.ws.close();\n",
       "    }\n",
       "\n",
       "    this.ws.onmessage = this._make_on_message_function(this);\n",
       "\n",
       "    this.ondownload = ondownload;\n",
       "}\n",
       "\n",
       "mpl.figure.prototype._init_header = function() {\n",
       "    var titlebar = $(\n",
       "        '<div class=\"ui-dialog-titlebar ui-widget-header ui-corner-all ' +\n",
       "        'ui-helper-clearfix\"/>');\n",
       "    var titletext = $(\n",
       "        '<div class=\"ui-dialog-title\" style=\"width: 100%; ' +\n",
       "        'text-align: center; padding: 3px;\"/>');\n",
       "    titlebar.append(titletext)\n",
       "    this.root.append(titlebar);\n",
       "    this.header = titletext[0];\n",
       "}\n",
       "\n",
       "\n",
       "\n",
       "mpl.figure.prototype._canvas_extra_style = function(canvas_div) {\n",
       "\n",
       "}\n",
       "\n",
       "\n",
       "mpl.figure.prototype._root_extra_style = function(canvas_div) {\n",
       "\n",
       "}\n",
       "\n",
       "mpl.figure.prototype._init_canvas = function() {\n",
       "    var fig = this;\n",
       "\n",
       "    var canvas_div = $('<div/>');\n",
       "\n",
       "    canvas_div.attr('style', 'position: relative; clear: both; outline: 0');\n",
       "\n",
       "    function canvas_keyboard_event(event) {\n",
       "        return fig.key_event(event, event['data']);\n",
       "    }\n",
       "\n",
       "    canvas_div.keydown('key_press', canvas_keyboard_event);\n",
       "    canvas_div.keyup('key_release', canvas_keyboard_event);\n",
       "    this.canvas_div = canvas_div\n",
       "    this._canvas_extra_style(canvas_div)\n",
       "    this.root.append(canvas_div);\n",
       "\n",
       "    var canvas = $('<canvas/>');\n",
       "    canvas.addClass('mpl-canvas');\n",
       "    canvas.attr('style', \"left: 0; top: 0; z-index: 0; outline: 0\")\n",
       "\n",
       "    this.canvas = canvas[0];\n",
       "    this.context = canvas[0].getContext(\"2d\");\n",
       "\n",
       "    var backingStore = this.context.backingStorePixelRatio ||\n",
       "\tthis.context.webkitBackingStorePixelRatio ||\n",
       "\tthis.context.mozBackingStorePixelRatio ||\n",
       "\tthis.context.msBackingStorePixelRatio ||\n",
       "\tthis.context.oBackingStorePixelRatio ||\n",
       "\tthis.context.backingStorePixelRatio || 1;\n",
       "\n",
       "    mpl.ratio = (window.devicePixelRatio || 1) / backingStore;\n",
       "\n",
       "    var rubberband = $('<canvas/>');\n",
       "    rubberband.attr('style', \"position: absolute; left: 0; top: 0; z-index: 1;\")\n",
       "\n",
       "    var pass_mouse_events = true;\n",
       "\n",
       "    canvas_div.resizable({\n",
       "        start: function(event, ui) {\n",
       "            pass_mouse_events = false;\n",
       "        },\n",
       "        resize: function(event, ui) {\n",
       "            fig.request_resize(ui.size.width, ui.size.height);\n",
       "        },\n",
       "        stop: function(event, ui) {\n",
       "            pass_mouse_events = true;\n",
       "            fig.request_resize(ui.size.width, ui.size.height);\n",
       "        },\n",
       "    });\n",
       "\n",
       "    function mouse_event_fn(event) {\n",
       "        if (pass_mouse_events)\n",
       "            return fig.mouse_event(event, event['data']);\n",
       "    }\n",
       "\n",
       "    rubberband.mousedown('button_press', mouse_event_fn);\n",
       "    rubberband.mouseup('button_release', mouse_event_fn);\n",
       "    // Throttle sequential mouse events to 1 every 20ms.\n",
       "    rubberband.mousemove('motion_notify', mouse_event_fn);\n",
       "\n",
       "    rubberband.mouseenter('figure_enter', mouse_event_fn);\n",
       "    rubberband.mouseleave('figure_leave', mouse_event_fn);\n",
       "\n",
       "    canvas_div.on(\"wheel\", function (event) {\n",
       "        event = event.originalEvent;\n",
       "        event['data'] = 'scroll'\n",
       "        if (event.deltaY < 0) {\n",
       "            event.step = 1;\n",
       "        } else {\n",
       "            event.step = -1;\n",
       "        }\n",
       "        mouse_event_fn(event);\n",
       "    });\n",
       "\n",
       "    canvas_div.append(canvas);\n",
       "    canvas_div.append(rubberband);\n",
       "\n",
       "    this.rubberband = rubberband;\n",
       "    this.rubberband_canvas = rubberband[0];\n",
       "    this.rubberband_context = rubberband[0].getContext(\"2d\");\n",
       "    this.rubberband_context.strokeStyle = \"#000000\";\n",
       "\n",
       "    this._resize_canvas = function(width, height) {\n",
       "        // Keep the size of the canvas, canvas container, and rubber band\n",
       "        // canvas in synch.\n",
       "        canvas_div.css('width', width)\n",
       "        canvas_div.css('height', height)\n",
       "\n",
       "        canvas.attr('width', width * mpl.ratio);\n",
       "        canvas.attr('height', height * mpl.ratio);\n",
       "        canvas.attr('style', 'width: ' + width + 'px; height: ' + height + 'px;');\n",
       "\n",
       "        rubberband.attr('width', width);\n",
       "        rubberband.attr('height', height);\n",
       "    }\n",
       "\n",
       "    // Set the figure to an initial 600x600px, this will subsequently be updated\n",
       "    // upon first draw.\n",
       "    this._resize_canvas(600, 600);\n",
       "\n",
       "    // Disable right mouse context menu.\n",
       "    $(this.rubberband_canvas).bind(\"contextmenu\",function(e){\n",
       "        return false;\n",
       "    });\n",
       "\n",
       "    function set_focus () {\n",
       "        canvas.focus();\n",
       "        canvas_div.focus();\n",
       "    }\n",
       "\n",
       "    window.setTimeout(set_focus, 100);\n",
       "}\n",
       "\n",
       "mpl.figure.prototype._init_toolbar = function() {\n",
       "    var fig = this;\n",
       "\n",
       "    var nav_element = $('<div/>');\n",
       "    nav_element.attr('style', 'width: 100%');\n",
       "    this.root.append(nav_element);\n",
       "\n",
       "    // Define a callback function for later on.\n",
       "    function toolbar_event(event) {\n",
       "        return fig.toolbar_button_onclick(event['data']);\n",
       "    }\n",
       "    function toolbar_mouse_event(event) {\n",
       "        return fig.toolbar_button_onmouseover(event['data']);\n",
       "    }\n",
       "\n",
       "    for(var toolbar_ind in mpl.toolbar_items) {\n",
       "        var name = mpl.toolbar_items[toolbar_ind][0];\n",
       "        var tooltip = mpl.toolbar_items[toolbar_ind][1];\n",
       "        var image = mpl.toolbar_items[toolbar_ind][2];\n",
       "        var method_name = mpl.toolbar_items[toolbar_ind][3];\n",
       "\n",
       "        if (!name) {\n",
       "            // put a spacer in here.\n",
       "            continue;\n",
       "        }\n",
       "        var button = $('<button/>');\n",
       "        button.addClass('ui-button ui-widget ui-state-default ui-corner-all ' +\n",
       "                        'ui-button-icon-only');\n",
       "        button.attr('role', 'button');\n",
       "        button.attr('aria-disabled', 'false');\n",
       "        button.click(method_name, toolbar_event);\n",
       "        button.mouseover(tooltip, toolbar_mouse_event);\n",
       "\n",
       "        var icon_img = $('<span/>');\n",
       "        icon_img.addClass('ui-button-icon-primary ui-icon');\n",
       "        icon_img.addClass(image);\n",
       "        icon_img.addClass('ui-corner-all');\n",
       "\n",
       "        var tooltip_span = $('<span/>');\n",
       "        tooltip_span.addClass('ui-button-text');\n",
       "        tooltip_span.html(tooltip);\n",
       "\n",
       "        button.append(icon_img);\n",
       "        button.append(tooltip_span);\n",
       "\n",
       "        nav_element.append(button);\n",
       "    }\n",
       "\n",
       "    var fmt_picker_span = $('<span/>');\n",
       "\n",
       "    var fmt_picker = $('<select/>');\n",
       "    fmt_picker.addClass('mpl-toolbar-option ui-widget ui-widget-content');\n",
       "    fmt_picker_span.append(fmt_picker);\n",
       "    nav_element.append(fmt_picker_span);\n",
       "    this.format_dropdown = fmt_picker[0];\n",
       "\n",
       "    for (var ind in mpl.extensions) {\n",
       "        var fmt = mpl.extensions[ind];\n",
       "        var option = $(\n",
       "            '<option/>', {selected: fmt === mpl.default_extension}).html(fmt);\n",
       "        fmt_picker.append(option);\n",
       "    }\n",
       "\n",
       "    // Add hover states to the ui-buttons\n",
       "    $( \".ui-button\" ).hover(\n",
       "        function() { $(this).addClass(\"ui-state-hover\");},\n",
       "        function() { $(this).removeClass(\"ui-state-hover\");}\n",
       "    );\n",
       "\n",
       "    var status_bar = $('<span class=\"mpl-message\"/>');\n",
       "    nav_element.append(status_bar);\n",
       "    this.message = status_bar[0];\n",
       "}\n",
       "\n",
       "mpl.figure.prototype.request_resize = function(x_pixels, y_pixels) {\n",
       "    // Request matplotlib to resize the figure. Matplotlib will then trigger a resize in the client,\n",
       "    // which will in turn request a refresh of the image.\n",
       "    this.send_message('resize', {'width': x_pixels, 'height': y_pixels});\n",
       "}\n",
       "\n",
       "mpl.figure.prototype.send_message = function(type, properties) {\n",
       "    properties['type'] = type;\n",
       "    properties['figure_id'] = this.id;\n",
       "    this.ws.send(JSON.stringify(properties));\n",
       "}\n",
       "\n",
       "mpl.figure.prototype.send_draw_message = function() {\n",
       "    if (!this.waiting) {\n",
       "        this.waiting = true;\n",
       "        this.ws.send(JSON.stringify({type: \"draw\", figure_id: this.id}));\n",
       "    }\n",
       "}\n",
       "\n",
       "\n",
       "mpl.figure.prototype.handle_save = function(fig, msg) {\n",
       "    var format_dropdown = fig.format_dropdown;\n",
       "    var format = format_dropdown.options[format_dropdown.selectedIndex].value;\n",
       "    fig.ondownload(fig, format);\n",
       "}\n",
       "\n",
       "\n",
       "mpl.figure.prototype.handle_resize = function(fig, msg) {\n",
       "    var size = msg['size'];\n",
       "    if (size[0] != fig.canvas.width || size[1] != fig.canvas.height) {\n",
       "        fig._resize_canvas(size[0], size[1]);\n",
       "        fig.send_message(\"refresh\", {});\n",
       "    };\n",
       "}\n",
       "\n",
       "mpl.figure.prototype.handle_rubberband = function(fig, msg) {\n",
       "    var x0 = msg['x0'] / mpl.ratio;\n",
       "    var y0 = (fig.canvas.height - msg['y0']) / mpl.ratio;\n",
       "    var x1 = msg['x1'] / mpl.ratio;\n",
       "    var y1 = (fig.canvas.height - msg['y1']) / mpl.ratio;\n",
       "    x0 = Math.floor(x0) + 0.5;\n",
       "    y0 = Math.floor(y0) + 0.5;\n",
       "    x1 = Math.floor(x1) + 0.5;\n",
       "    y1 = Math.floor(y1) + 0.5;\n",
       "    var min_x = Math.min(x0, x1);\n",
       "    var min_y = Math.min(y0, y1);\n",
       "    var width = Math.abs(x1 - x0);\n",
       "    var height = Math.abs(y1 - y0);\n",
       "\n",
       "    fig.rubberband_context.clearRect(\n",
       "        0, 0, fig.canvas.width, fig.canvas.height);\n",
       "\n",
       "    fig.rubberband_context.strokeRect(min_x, min_y, width, height);\n",
       "}\n",
       "\n",
       "mpl.figure.prototype.handle_figure_label = function(fig, msg) {\n",
       "    // Updates the figure title.\n",
       "    fig.header.textContent = msg['label'];\n",
       "}\n",
       "\n",
       "mpl.figure.prototype.handle_cursor = function(fig, msg) {\n",
       "    var cursor = msg['cursor'];\n",
       "    switch(cursor)\n",
       "    {\n",
       "    case 0:\n",
       "        cursor = 'pointer';\n",
       "        break;\n",
       "    case 1:\n",
       "        cursor = 'default';\n",
       "        break;\n",
       "    case 2:\n",
       "        cursor = 'crosshair';\n",
       "        break;\n",
       "    case 3:\n",
       "        cursor = 'move';\n",
       "        break;\n",
       "    }\n",
       "    fig.rubberband_canvas.style.cursor = cursor;\n",
       "}\n",
       "\n",
       "mpl.figure.prototype.handle_message = function(fig, msg) {\n",
       "    fig.message.textContent = msg['message'];\n",
       "}\n",
       "\n",
       "mpl.figure.prototype.handle_draw = function(fig, msg) {\n",
       "    // Request the server to send over a new figure.\n",
       "    fig.send_draw_message();\n",
       "}\n",
       "\n",
       "mpl.figure.prototype.handle_image_mode = function(fig, msg) {\n",
       "    fig.image_mode = msg['mode'];\n",
       "}\n",
       "\n",
       "mpl.figure.prototype.updated_canvas_event = function() {\n",
       "    // Called whenever the canvas gets updated.\n",
       "    this.send_message(\"ack\", {});\n",
       "}\n",
       "\n",
       "// A function to construct a web socket function for onmessage handling.\n",
       "// Called in the figure constructor.\n",
       "mpl.figure.prototype._make_on_message_function = function(fig) {\n",
       "    return function socket_on_message(evt) {\n",
       "        if (evt.data instanceof Blob) {\n",
       "            /* FIXME: We get \"Resource interpreted as Image but\n",
       "             * transferred with MIME type text/plain:\" errors on\n",
       "             * Chrome.  But how to set the MIME type?  It doesn't seem\n",
       "             * to be part of the websocket stream */\n",
       "            evt.data.type = \"image/png\";\n",
       "\n",
       "            /* Free the memory for the previous frames */\n",
       "            if (fig.imageObj.src) {\n",
       "                (window.URL || window.webkitURL).revokeObjectURL(\n",
       "                    fig.imageObj.src);\n",
       "            }\n",
       "\n",
       "            fig.imageObj.src = (window.URL || window.webkitURL).createObjectURL(\n",
       "                evt.data);\n",
       "            fig.updated_canvas_event();\n",
       "            fig.waiting = false;\n",
       "            return;\n",
       "        }\n",
       "        else if (typeof evt.data === 'string' && evt.data.slice(0, 21) == \"data:image/png;base64\") {\n",
       "            fig.imageObj.src = evt.data;\n",
       "            fig.updated_canvas_event();\n",
       "            fig.waiting = false;\n",
       "            return;\n",
       "        }\n",
       "\n",
       "        var msg = JSON.parse(evt.data);\n",
       "        var msg_type = msg['type'];\n",
       "\n",
       "        // Call the  \"handle_{type}\" callback, which takes\n",
       "        // the figure and JSON message as its only arguments.\n",
       "        try {\n",
       "            var callback = fig[\"handle_\" + msg_type];\n",
       "        } catch (e) {\n",
       "            console.log(\"No handler for the '\" + msg_type + \"' message type: \", msg);\n",
       "            return;\n",
       "        }\n",
       "\n",
       "        if (callback) {\n",
       "            try {\n",
       "                // console.log(\"Handling '\" + msg_type + \"' message: \", msg);\n",
       "                callback(fig, msg);\n",
       "            } catch (e) {\n",
       "                console.log(\"Exception inside the 'handler_\" + msg_type + \"' callback:\", e, e.stack, msg);\n",
       "            }\n",
       "        }\n",
       "    };\n",
       "}\n",
       "\n",
       "// from http://stackoverflow.com/questions/1114465/getting-mouse-location-in-canvas\n",
       "mpl.findpos = function(e) {\n",
       "    //this section is from http://www.quirksmode.org/js/events_properties.html\n",
       "    var targ;\n",
       "    if (!e)\n",
       "        e = window.event;\n",
       "    if (e.target)\n",
       "        targ = e.target;\n",
       "    else if (e.srcElement)\n",
       "        targ = e.srcElement;\n",
       "    if (targ.nodeType == 3) // defeat Safari bug\n",
       "        targ = targ.parentNode;\n",
       "\n",
       "    // jQuery normalizes the pageX and pageY\n",
       "    // pageX,Y are the mouse positions relative to the document\n",
       "    // offset() returns the position of the element relative to the document\n",
       "    var x = e.pageX - $(targ).offset().left;\n",
       "    var y = e.pageY - $(targ).offset().top;\n",
       "\n",
       "    return {\"x\": x, \"y\": y};\n",
       "};\n",
       "\n",
       "/*\n",
       " * return a copy of an object with only non-object keys\n",
       " * we need this to avoid circular references\n",
       " * http://stackoverflow.com/a/24161582/3208463\n",
       " */\n",
       "function simpleKeys (original) {\n",
       "  return Object.keys(original).reduce(function (obj, key) {\n",
       "    if (typeof original[key] !== 'object')\n",
       "        obj[key] = original[key]\n",
       "    return obj;\n",
       "  }, {});\n",
       "}\n",
       "\n",
       "mpl.figure.prototype.mouse_event = function(event, name) {\n",
       "    var canvas_pos = mpl.findpos(event)\n",
       "\n",
       "    if (name === 'button_press')\n",
       "    {\n",
       "        this.canvas.focus();\n",
       "        this.canvas_div.focus();\n",
       "    }\n",
       "\n",
       "    var x = canvas_pos.x * mpl.ratio;\n",
       "    var y = canvas_pos.y * mpl.ratio;\n",
       "\n",
       "    this.send_message(name, {x: x, y: y, button: event.button,\n",
       "                             step: event.step,\n",
       "                             guiEvent: simpleKeys(event)});\n",
       "\n",
       "    /* This prevents the web browser from automatically changing to\n",
       "     * the text insertion cursor when the button is pressed.  We want\n",
       "     * to control all of the cursor setting manually through the\n",
       "     * 'cursor' event from matplotlib */\n",
       "    event.preventDefault();\n",
       "    return false;\n",
       "}\n",
       "\n",
       "mpl.figure.prototype._key_event_extra = function(event, name) {\n",
       "    // Handle any extra behaviour associated with a key event\n",
       "}\n",
       "\n",
       "mpl.figure.prototype.key_event = function(event, name) {\n",
       "\n",
       "    // Prevent repeat events\n",
       "    if (name == 'key_press')\n",
       "    {\n",
       "        if (event.which === this._key)\n",
       "            return;\n",
       "        else\n",
       "            this._key = event.which;\n",
       "    }\n",
       "    if (name == 'key_release')\n",
       "        this._key = null;\n",
       "\n",
       "    var value = '';\n",
       "    if (event.ctrlKey && event.which != 17)\n",
       "        value += \"ctrl+\";\n",
       "    if (event.altKey && event.which != 18)\n",
       "        value += \"alt+\";\n",
       "    if (event.shiftKey && event.which != 16)\n",
       "        value += \"shift+\";\n",
       "\n",
       "    value += 'k';\n",
       "    value += event.which.toString();\n",
       "\n",
       "    this._key_event_extra(event, name);\n",
       "\n",
       "    this.send_message(name, {key: value,\n",
       "                             guiEvent: simpleKeys(event)});\n",
       "    return false;\n",
       "}\n",
       "\n",
       "mpl.figure.prototype.toolbar_button_onclick = function(name) {\n",
       "    if (name == 'download') {\n",
       "        this.handle_save(this, null);\n",
       "    } else {\n",
       "        this.send_message(\"toolbar_button\", {name: name});\n",
       "    }\n",
       "};\n",
       "\n",
       "mpl.figure.prototype.toolbar_button_onmouseover = function(tooltip) {\n",
       "    this.message.textContent = tooltip;\n",
       "};\n",
       "mpl.toolbar_items = [[\"Home\", \"Reset original view\", \"fa fa-home icon-home\", \"home\"], [\"Back\", \"Back to previous view\", \"fa fa-arrow-left icon-arrow-left\", \"back\"], [\"Forward\", \"Forward to next view\", \"fa fa-arrow-right icon-arrow-right\", \"forward\"], [\"\", \"\", \"\", \"\"], [\"Pan\", \"Pan axes with left mouse, zoom with right\", \"fa fa-arrows icon-move\", \"pan\"], [\"Zoom\", \"Zoom to rectangle\", \"fa fa-square-o icon-check-empty\", \"zoom\"], [\"\", \"\", \"\", \"\"], [\"Download\", \"Download plot\", \"fa fa-floppy-o icon-save\", \"download\"]];\n",
       "\n",
       "mpl.extensions = [\"eps\", \"jpeg\", \"pdf\", \"png\", \"ps\", \"raw\", \"svg\", \"tif\"];\n",
       "\n",
       "mpl.default_extension = \"png\";var comm_websocket_adapter = function(comm) {\n",
       "    // Create a \"websocket\"-like object which calls the given IPython comm\n",
       "    // object with the appropriate methods. Currently this is a non binary\n",
       "    // socket, so there is still some room for performance tuning.\n",
       "    var ws = {};\n",
       "\n",
       "    ws.close = function() {\n",
       "        comm.close()\n",
       "    };\n",
       "    ws.send = function(m) {\n",
       "        //console.log('sending', m);\n",
       "        comm.send(m);\n",
       "    };\n",
       "    // Register the callback with on_msg.\n",
       "    comm.on_msg(function(msg) {\n",
       "        //console.log('receiving', msg['content']['data'], msg);\n",
       "        // Pass the mpl event to the overridden (by mpl) onmessage function.\n",
       "        ws.onmessage(msg['content']['data'])\n",
       "    });\n",
       "    return ws;\n",
       "}\n",
       "\n",
       "mpl.mpl_figure_comm = function(comm, msg) {\n",
       "    // This is the function which gets called when the mpl process\n",
       "    // starts-up an IPython Comm through the \"matplotlib\" channel.\n",
       "\n",
       "    var id = msg.content.data.id;\n",
       "    // Get hold of the div created by the display call when the Comm\n",
       "    // socket was opened in Python.\n",
       "    var element = $(\"#\" + id);\n",
       "    var ws_proxy = comm_websocket_adapter(comm)\n",
       "\n",
       "    function ondownload(figure, format) {\n",
       "        window.open(figure.imageObj.src);\n",
       "    }\n",
       "\n",
       "    var fig = new mpl.figure(id, ws_proxy,\n",
       "                           ondownload,\n",
       "                           element.get(0));\n",
       "\n",
       "    // Call onopen now - mpl needs it, as it is assuming we've passed it a real\n",
       "    // web socket which is closed, not our websocket->open comm proxy.\n",
       "    ws_proxy.onopen();\n",
       "\n",
       "    fig.parent_element = element.get(0);\n",
       "    fig.cell_info = mpl.find_output_cell(\"<div id='\" + id + \"'></div>\");\n",
       "    if (!fig.cell_info) {\n",
       "        console.error(\"Failed to find cell for figure\", id, fig);\n",
       "        return;\n",
       "    }\n",
       "\n",
       "    var output_index = fig.cell_info[2]\n",
       "    var cell = fig.cell_info[0];\n",
       "\n",
       "};\n",
       "\n",
       "mpl.figure.prototype.handle_close = function(fig, msg) {\n",
       "    var width = fig.canvas.width/mpl.ratio\n",
       "    fig.root.unbind('remove')\n",
       "\n",
       "    // Update the output cell to use the data from the current canvas.\n",
       "    fig.push_to_output();\n",
       "    var dataURL = fig.canvas.toDataURL();\n",
       "    // Re-enable the keyboard manager in IPython - without this line, in FF,\n",
       "    // the notebook keyboard shortcuts fail.\n",
       "    IPython.keyboard_manager.enable()\n",
       "    $(fig.parent_element).html('<img src=\"' + dataURL + '\" width=\"' + width + '\">');\n",
       "    fig.close_ws(fig, msg);\n",
       "}\n",
       "\n",
       "mpl.figure.prototype.close_ws = function(fig, msg){\n",
       "    fig.send_message('closing', msg);\n",
       "    // fig.ws.close()\n",
       "}\n",
       "\n",
       "mpl.figure.prototype.push_to_output = function(remove_interactive) {\n",
       "    // Turn the data on the canvas into data in the output cell.\n",
       "    var width = this.canvas.width/mpl.ratio\n",
       "    var dataURL = this.canvas.toDataURL();\n",
       "    this.cell_info[1]['text/html'] = '<img src=\"' + dataURL + '\" width=\"' + width + '\">';\n",
       "}\n",
       "\n",
       "mpl.figure.prototype.updated_canvas_event = function() {\n",
       "    // Tell IPython that the notebook contents must change.\n",
       "    IPython.notebook.set_dirty(true);\n",
       "    this.send_message(\"ack\", {});\n",
       "    var fig = this;\n",
       "    // Wait a second, then push the new image to the DOM so\n",
       "    // that it is saved nicely (might be nice to debounce this).\n",
       "    setTimeout(function () { fig.push_to_output() }, 1000);\n",
       "}\n",
       "\n",
       "mpl.figure.prototype._init_toolbar = function() {\n",
       "    var fig = this;\n",
       "\n",
       "    var nav_element = $('<div/>');\n",
       "    nav_element.attr('style', 'width: 100%');\n",
       "    this.root.append(nav_element);\n",
       "\n",
       "    // Define a callback function for later on.\n",
       "    function toolbar_event(event) {\n",
       "        return fig.toolbar_button_onclick(event['data']);\n",
       "    }\n",
       "    function toolbar_mouse_event(event) {\n",
       "        return fig.toolbar_button_onmouseover(event['data']);\n",
       "    }\n",
       "\n",
       "    for(var toolbar_ind in mpl.toolbar_items){\n",
       "        var name = mpl.toolbar_items[toolbar_ind][0];\n",
       "        var tooltip = mpl.toolbar_items[toolbar_ind][1];\n",
       "        var image = mpl.toolbar_items[toolbar_ind][2];\n",
       "        var method_name = mpl.toolbar_items[toolbar_ind][3];\n",
       "\n",
       "        if (!name) { continue; };\n",
       "\n",
       "        var button = $('<button class=\"btn btn-default\" href=\"#\" title=\"' + name + '\"><i class=\"fa ' + image + ' fa-lg\"></i></button>');\n",
       "        button.click(method_name, toolbar_event);\n",
       "        button.mouseover(tooltip, toolbar_mouse_event);\n",
       "        nav_element.append(button);\n",
       "    }\n",
       "\n",
       "    // Add the status bar.\n",
       "    var status_bar = $('<span class=\"mpl-message\" style=\"text-align:right; float: right;\"/>');\n",
       "    nav_element.append(status_bar);\n",
       "    this.message = status_bar[0];\n",
       "\n",
       "    // Add the close button to the window.\n",
       "    var buttongrp = $('<div class=\"btn-group inline pull-right\"></div>');\n",
       "    var button = $('<button class=\"btn btn-mini btn-primary\" href=\"#\" title=\"Stop Interaction\"><i class=\"fa fa-power-off icon-remove icon-large\"></i></button>');\n",
       "    button.click(function (evt) { fig.handle_close(fig, {}); } );\n",
       "    button.mouseover('Stop Interaction', toolbar_mouse_event);\n",
       "    buttongrp.append(button);\n",
       "    var titlebar = this.root.find($('.ui-dialog-titlebar'));\n",
       "    titlebar.prepend(buttongrp);\n",
       "}\n",
       "\n",
       "mpl.figure.prototype._root_extra_style = function(el){\n",
       "    var fig = this\n",
       "    el.on(\"remove\", function(){\n",
       "\tfig.close_ws(fig, {});\n",
       "    });\n",
       "}\n",
       "\n",
       "mpl.figure.prototype._canvas_extra_style = function(el){\n",
       "    // this is important to make the div 'focusable\n",
       "    el.attr('tabindex', 0)\n",
       "    // reach out to IPython and tell the keyboard manager to turn it's self\n",
       "    // off when our div gets focus\n",
       "\n",
       "    // location in version 3\n",
       "    if (IPython.notebook.keyboard_manager) {\n",
       "        IPython.notebook.keyboard_manager.register_events(el);\n",
       "    }\n",
       "    else {\n",
       "        // location in version 2\n",
       "        IPython.keyboard_manager.register_events(el);\n",
       "    }\n",
       "\n",
       "}\n",
       "\n",
       "mpl.figure.prototype._key_event_extra = function(event, name) {\n",
       "    var manager = IPython.notebook.keyboard_manager;\n",
       "    if (!manager)\n",
       "        manager = IPython.keyboard_manager;\n",
       "\n",
       "    // Check for shift+enter\n",
       "    if (event.shiftKey && event.which == 13) {\n",
       "        this.canvas_div.blur();\n",
       "        event.shiftKey = false;\n",
       "        // Send a \"J\" for go to next cell\n",
       "        event.which = 74;\n",
       "        event.keyCode = 74;\n",
       "        manager.command_mode();\n",
       "        manager.handle_keydown(event);\n",
       "    }\n",
       "}\n",
       "\n",
       "mpl.figure.prototype.handle_save = function(fig, msg) {\n",
       "    fig.ondownload(fig, null);\n",
       "}\n",
       "\n",
       "\n",
       "mpl.find_output_cell = function(html_output) {\n",
       "    // Return the cell and output element which can be found *uniquely* in the notebook.\n",
       "    // Note - this is a bit hacky, but it is done because the \"notebook_saving.Notebook\"\n",
       "    // IPython event is triggered only after the cells have been serialised, which for\n",
       "    // our purposes (turning an active figure into a static one), is too late.\n",
       "    var cells = IPython.notebook.get_cells();\n",
       "    var ncells = cells.length;\n",
       "    for (var i=0; i<ncells; i++) {\n",
       "        var cell = cells[i];\n",
       "        if (cell.cell_type === 'code'){\n",
       "            for (var j=0; j<cell.output_area.outputs.length; j++) {\n",
       "                var data = cell.output_area.outputs[j];\n",
       "                if (data.data) {\n",
       "                    // IPython >= 3 moved mimebundle to data attribute of output\n",
       "                    data = data.data;\n",
       "                }\n",
       "                if (data['text/html'] == html_output) {\n",
       "                    return [cell, data, j];\n",
       "                }\n",
       "            }\n",
       "        }\n",
       "    }\n",
       "}\n",
       "\n",
       "// Register the function which deals with the matplotlib target/channel.\n",
       "// The kernel may be null if the page has been refreshed.\n",
       "if (IPython.notebook.kernel != null) {\n",
       "    IPython.notebook.kernel.comm_manager.register_target('matplotlib', mpl.mpl_figure_comm);\n",
       "}\n"
      ],
      "text/plain": [
       "<IPython.core.display.Javascript object>"
      ]
     },
     "metadata": {},
     "output_type": "display_data"
    },
    {
     "data": {
      "text/html": [
       "<img src=\"data:image/png;base64,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\" width=\"1000\">"
      ],
      "text/plain": [
       "<IPython.core.display.HTML object>"
      ]
     },
     "metadata": {},
     "output_type": "display_data"
    },
    {
     "name": "stdout",
     "output_type": "stream",
     "text": [
      "SSD is 9.24E+03\n"
     ]
    },
    {
     "data": {
      "text/latex": [
       "$C(\\vec{x}) = C \\times \\vec{x}$"
      ],
      "text/plain": [
       "<IPython.core.display.Latex object>"
      ]
     },
     "metadata": {},
     "output_type": "display_data"
    },
    {
     "data": {
      "text/latex": [
       "$ \\nabla_xC(\\vec{x}) = C^H \\times \\vec{x}$"
      ],
      "text/plain": [
       "<IPython.core.display.Latex object>"
      ]
     },
     "metadata": {},
     "output_type": "display_data"
    }
   ],
   "source": [
    "pad_value = 0\n",
    "\n",
    "# Windowed Convolution\n",
    "C_full = ops.Convolution(h, mode='same', pad_value=pad_value, dtype=global_dtype, backend=global_backend)\n",
    "y_full = yp.changeBackend(yp.abs(C_full * x), 'numpy')\n",
    "\n",
    "# Circular Convolution\n",
    "C = ops.Convolution(h,  dtype=global_dtype, backend=global_backend)\n",
    "y5 = yp.abs(yp.changeBackend(C * x, 'numpy'))\n",
    "\n",
    "plt.figure(figsize=(10,2))\n",
    "plt.subplot(131)\n",
    "plt.imshow(yp.real(y5))\n",
    "plt.title('FFT')\n",
    "plt.subplot(132)\n",
    "plt.imshow(yp.real(y_full))\n",
    "plt.title('Windowed')\n",
    "plt.subplot(133)\n",
    "plt.imshow(yp.abs(y_full - y5))\n",
    "plt.title('|FFT - windowed|');\n",
    "plt.colorbar()\n",
    "\n",
    "print('SSD is %.2E' % yp.sum(yp.abs(y_full - y5)) ** 2)\n",
    "\n",
    "# Check Gradient\n",
    "C_full.gradient_check()\n",
    "\n",
    "# Render forward model\n",
    "C_full.latex()\n",
    "\n",
    "# Render gradient\n",
    "C_full.latex(gradient=True)"
   ]
  },
  {
   "cell_type": "markdown",
   "metadata": {},
   "source": [
    "## Cross-Correlation Operator"
   ]
  },
  {
   "cell_type": "code",
   "execution_count": 47,
   "metadata": {
    "ExecuteTime": {
     "end_time": "2019-05-02T18:47:07.904806Z",
     "start_time": "2019-05-02T18:47:07.867847Z"
    }
   },
   "outputs": [
    {
     "data": {
      "text/latex": [
       "$X(\\vec{x}) = X \\times \\vec{x}$"
      ],
      "text/plain": [
       "<IPython.core.display.Latex object>"
      ]
     },
     "metadata": {},
     "output_type": "display_data"
    },
    {
     "data": {
      "text/latex": [
       "$ \\nabla_xX(\\vec{x}) = X^H \\times \\vec{x}$"
      ],
      "text/plain": [
       "<IPython.core.display.Latex object>"
      ]
     },
     "metadata": {},
     "output_type": "display_data"
    }
   ],
   "source": [
    "XC = ops.CrossCorrelation(h)\n",
    "\n",
    "xc = lambda x, h: np.fft.ifftshift((np.fft.ifft2(np.fft.fft2(x, axes=(0,1), norm='ortho') \\\n",
    "                                                                * np.conj(np.fft.fft2(h, axes=(0,1), norm='ortho')), axes=(0,1), norm='ortho')), axes=(0,1)).astype(np.complex64)\n",
    "\n",
    "# Check forward operator\n",
    "# y1 = yp.changeBackend(XC * vec(x), 'numpy')\n",
    "# y2 = xc(yp.changeBackend(x, 'numpy'), yp.changeBackend(h, 'numpy'))\n",
    "# assert yp.sum(yp.abs(y1 - y2.reshape(-1))) < eps\n",
    "\n",
    "# Check gradient\n",
    "XC.gradient_check()\n",
    "\n",
    "# Render forward model\n",
    "XC.latex()\n",
    "\n",
    "# Render gradient\n",
    "XC.latex(gradient=True)"
   ]
  },
  {
   "cell_type": "markdown",
   "metadata": {},
   "source": [
    "## Crop Operator: Centered"
   ]
  },
  {
   "cell_type": "code",
   "execution_count": 48,
   "metadata": {
    "ExecuteTime": {
     "end_time": "2019-05-02T18:47:08.919902Z",
     "start_time": "2019-05-02T18:47:08.886708Z"
    }
   },
   "outputs": [
    {
     "data": {
      "text/latex": [
       "$CR(\\vec{x}) = CR_{(64, 128) \\longrightarrow (32, 64)} \\times \\vec{x}$"
      ],
      "text/plain": [
       "<IPython.core.display.Latex object>"
      ]
     },
     "metadata": {},
     "output_type": "display_data"
    },
    {
     "data": {
      "text/latex": [
       "$ \\nabla_xCR(\\vec{x}) = CR_{(64, 128) \\longrightarrow (32, 64)}^H \\times \\vec{x}$"
      ],
      "text/plain": [
       "<IPython.core.display.Latex object>"
      ]
     },
     "metadata": {},
     "output_type": "display_data"
    }
   ],
   "source": [
    "# Generate Crop Operator\n",
    "crop_size = (image_size[0] // 2, image_size[1] // 2)\n",
    "crop_start = tuple(np.asarray(image_size) // 2 - np.asarray(crop_size) // 2)\n",
    "CR = ops.Crop(image_size, crop_size, pad_value=0, crop_start=crop_start, dtype=global_dtype, backend=global_backend)\n",
    "\n",
    "# Check forward operator\n",
    "y_1 = yp.changeBackend(CR * x, 'numpy')\n",
    "y_2 = yp.changeBackend(yp.crop(x, crop_size, crop_start), 'numpy')\n",
    "assert yp.sum(yp.abs(y_1 - y_2)) < eps\n",
    "\n",
    "# Check Adjoint Operator\n",
    "pad_size = [int((image_size[i] - crop_size[i]) / 2) for i in range(len(image_size))]\n",
    "y_3 = yp.pad(yp.crop(x, crop_size, crop_start), image_size, crop_start, pad_value=0)\n",
    "y_4 = CR.H * CR * x\n",
    "assert yp.sum(yp.abs(y_3 - y_4)) < eps\n",
    "\n",
    "# Check gradient\n",
    "CR.gradient_check()\n",
    "\n",
    "# Render forward model\n",
    "CR.latex()\n",
    "\n",
    "# Render gradient\n",
    "CR.latex(gradient=True)"
   ]
  },
  {
   "cell_type": "markdown",
   "metadata": {},
   "source": [
    "## Crop Operator: Non-Centered"
   ]
  },
  {
   "cell_type": "code",
   "execution_count": 49,
   "metadata": {
    "ExecuteTime": {
     "end_time": "2019-05-02T18:47:09.805114Z",
     "start_time": "2019-05-02T18:47:09.770210Z"
    }
   },
   "outputs": [
    {
     "data": {
      "text/latex": [
       "$CR(\\vec{x}) = CR_{(64, 128) \\longrightarrow (32, 64)} \\times \\vec{x}$"
      ],
      "text/plain": [
       "<IPython.core.display.Latex object>"
      ]
     },
     "metadata": {},
     "output_type": "display_data"
    },
    {
     "data": {
      "text/latex": [
       "$ \\nabla_xCR(\\vec{x}) = CR_{(64, 128) \\longrightarrow (32, 64)}^H \\times \\vec{x}$"
      ],
      "text/plain": [
       "<IPython.core.display.Latex object>"
      ]
     },
     "metadata": {},
     "output_type": "display_data"
    }
   ],
   "source": [
    "# Generate Crop Operator\n",
    "crop_size = (image_size[0] // 2, image_size[1] // 2)\n",
    "crop_start = (6, 6)\n",
    "CR = ops.Crop(image_size, crop_size, pad_value=0,  dtype=global_dtype, backend=global_backend, crop_start=crop_start)\n",
    "\n",
    "# Check forward operator\n",
    "y_1 = yp.changeBackend(CR * x, 'numpy')\n",
    "y_2 = yp.changeBackend(yp.crop(x, crop_size, crop_start), 'numpy')\n",
    "assert yp.sum(yp.abs(y_1 - y_2)) < eps\n",
    "\n",
    "# Check Adjoint Operator\n",
    "pad_size = [int((image_size[i] - crop_size[i]) / 2) for i in range(len(image_size))]\n",
    "y_3 = yp.pad(yp.crop(x, crop_size, crop_start), image_size, crop_start, pad_value=0)\n",
    "y_4 = yp.reshape(CR.H * CR * x, image_size)\n",
    "assert yp.sum(yp.abs(y_3 - y_4)) < eps\n",
    "\n",
    "# Check gradient\n",
    "CR.gradient_check()\n",
    "\n",
    "# Render forward model\n",
    "CR.latex()\n",
    "\n",
    "# Render gradient\n",
    "CR.latex(gradient=True)"
   ]
  },
  {
   "cell_type": "markdown",
   "metadata": {},
   "source": [
    "## Shift Operator"
   ]
  },
  {
   "cell_type": "code",
   "execution_count": 50,
   "metadata": {
    "ExecuteTime": {
     "end_time": "2019-05-02T18:47:10.644833Z",
     "start_time": "2019-05-02T18:47:10.613573Z"
    }
   },
   "outputs": [
    {
     "data": {
      "text/latex": [
       "$S(\\vec{x}) = S \\times \\vec{x}$"
      ],
      "text/plain": [
       "<IPython.core.display.Latex object>"
      ]
     },
     "metadata": {},
     "output_type": "display_data"
    },
    {
     "data": {
      "text/latex": [
       "$ \\nabla_xS(\\vec{x}) = S^H \\times \\vec{x}$"
      ],
      "text/plain": [
       "<IPython.core.display.Latex object>"
      ]
     },
     "metadata": {},
     "output_type": "display_data"
    }
   ],
   "source": [
    "# Normal shift\n",
    "shift = (0, 10) # should be y, x\n",
    "T = ops.Shift(image_size, shift)\n",
    "\n",
    "def shift_func(x, shift):\n",
    "    x = yp.changeBackend(x, 'numpy')\n",
    "    for ax, sh in enumerate(shift):\n",
    "        x = np.roll(x, int(sh), axis=ax)\n",
    "    return(x)\n",
    " \n",
    "# Check Forward Operator\n",
    "y_1 = yp.changeBackend(T * x, 'numpy')\n",
    "y_2 = shift_func(yp.changeBackend(x, 'numpy'), shift)\n",
    "assert yp.sum(yp.abs(y_1 - y_2)) < eps\n",
    "\n",
    "# Check Adjoint Operator\n",
    "assert yp.sum(yp.abs(T.H * T * x - x)) < eps\n",
    "\n",
    "# Check gradient\n",
    "T.gradient_check()\n",
    "\n",
    "# Render forward model\n",
    "T.latex()\n",
    "\n",
    "# Render gradient\n",
    "T.latex(gradient=True)"
   ]
  },
  {
   "cell_type": "markdown",
   "metadata": {},
   "source": [
    "## Summation Operator"
   ]
  },
  {
   "cell_type": "code",
   "execution_count": 51,
   "metadata": {
    "ExecuteTime": {
     "end_time": "2019-05-02T18:47:11.648339Z",
     "start_time": "2019-05-02T18:47:11.617879Z"
    }
   },
   "outputs": [
    {
     "data": {
      "text/latex": [
       "$Σ(\\vec{x}) = \\sum_{axes=[0, 1]} $"
      ],
      "text/plain": [
       "<IPython.core.display.Latex object>"
      ]
     },
     "metadata": {},
     "output_type": "display_data"
    },
    {
     "data": {
      "text/latex": [
       "$ \\nabla_xΣ(\\vec{x}) = \\sum_{axes=[0, 1]} ^H \\times \\vec{x}$"
      ],
      "text/plain": [
       "<IPython.core.display.Latex object>"
      ]
     },
     "metadata": {},
     "output_type": "display_data"
    }
   ],
   "source": [
    "axis_to_sum = (0,1)\n",
    "Σ = ops.Sum(image_size)\n",
    "\n",
    "# Check forward operator\n",
    "y_1 = yp.changeBackend(Σ * x, 'numpy')\n",
    "y_2 = yp.sum(yp.changeBackend(x, 'numpy'), axis=axis_to_sum)\n",
    "assert yp.abs(yp.sum(y_1 - y_2)) < eps\n",
    "\n",
    "# Check adjoint operator\n",
    "y_3 = yp.changeBackend(Σ.H * Σ * x, 'numpy')\n",
    "reps = [1, ] * len(image_size)\n",
    "axes = list(range(len(image_size))) if axis_to_sum is 'all' else axis_to_sum\n",
    "scale = 1\n",
    "for axis in axes:\n",
    "    reps[axis] = image_size[axis]\n",
    "    scale *= 1 / image_size[axis]\n",
    "y_4 = yp.tile(y_2, reps) * scale\n",
    "assert yp.sum(yp.abs(y_3 - y_4)) < eps\n",
    "\n",
    "# Check gradient\n",
    "# Σ.gradient_check(eps=1)\n",
    "\n",
    "# Render forward model\n",
    "Σ.latex()\n",
    "\n",
    "# Render gradient\n",
    "Σ.latex(gradient=True)"
   ]
  },
  {
   "cell_type": "markdown",
   "metadata": {},
   "source": [
    "## Mean Operator"
   ]
  },
  {
   "cell_type": "code",
   "execution_count": null,
   "metadata": {},
   "outputs": [],
   "source": []
  },
  {
   "cell_type": "markdown",
   "metadata": {},
   "source": [
    "## Intensity Operator"
   ]
  },
  {
   "cell_type": "code",
   "execution_count": 52,
   "metadata": {
    "ExecuteTime": {
     "end_time": "2019-05-02T18:48:10.035501Z",
     "start_time": "2019-05-02T18:48:10.004223Z"
    }
   },
   "outputs": [
    {
     "data": {
      "text/latex": [
       "$I(\\vec{x}) = |\\vec{x}|^2$"
      ],
      "text/plain": [
       "<IPython.core.display.Latex object>"
      ]
     },
     "metadata": {},
     "output_type": "display_data"
    },
    {
     "data": {
      "text/latex": [
       "$ \\nabla_xI(\\vec{x}) = diag(\\vec{d})\\times \\vec{x}$"
      ],
      "text/plain": [
       "<IPython.core.display.Latex object>"
      ]
     },
     "metadata": {},
     "output_type": "display_data"
    }
   ],
   "source": [
    "I = ops.Intensity(image_size)\n",
    "\n",
    "# Check forward operator\n",
    "assert yp.sum(yp.abs((yp.abs(yp.changeBackend(x, 'numpy')) ** 2) - yp.changeBackend(I * x, 'numpy'))) < eps\n",
    "\n",
    "# Check gradient\n",
    "I.gradient_check()\n",
    "\n",
    "# Render forward model\n",
    "I.latex()\n",
    "\n",
    "# Render gradient\n",
    "I.latex(gradient=True)"
   ]
  },
  {
   "cell_type": "markdown",
   "metadata": {},
   "source": [
    "## Flip Operator"
   ]
  },
  {
   "cell_type": "code",
   "execution_count": 53,
   "metadata": {
    "ExecuteTime": {
     "end_time": "2019-05-02T18:48:10.751512Z",
     "start_time": "2019-05-02T18:48:10.723162Z"
    }
   },
   "outputs": [
    {
     "data": {
      "text/latex": [
       "$L(\\vec{x}) = L \\times \\vec{x}$"
      ],
      "text/plain": [
       "<IPython.core.display.Latex object>"
      ]
     },
     "metadata": {},
     "output_type": "display_data"
    },
    {
     "data": {
      "text/latex": [
       "$ \\nabla_xL(\\vec{x}) = L^H \\times \\vec{x}$"
      ],
      "text/plain": [
       "<IPython.core.display.Latex object>"
      ]
     },
     "metadata": {},
     "output_type": "display_data"
    }
   ],
   "source": [
    "flip_axis = 0\n",
    "L = ops.Flip(image_size, axis=flip_axis)\n",
    "\n",
    "# Check forward operator\n",
    "assert yp.sum(yp.abs(L * x - yp.flip(x, flip_axis))) < eps, \"%f\" % yp.sum(yp.abs(L * x - vec(yp.flip(x, flip_axis)))) \n",
    "\n",
    "# Check gradient\n",
    "L.gradient_check()\n",
    "\n",
    "# Render forward model\n",
    "L.latex()\n",
    "\n",
    "# Render gradient\n",
    "L.latex(gradient=True)"
   ]
  },
  {
   "cell_type": "markdown",
   "metadata": {},
   "source": [
    "## $\\ell2$ Norm Operator"
   ]
  },
  {
   "cell_type": "code",
   "execution_count": 54,
   "metadata": {
    "ExecuteTime": {
     "end_time": "2019-05-02T18:48:11.394723Z",
     "start_time": "2019-05-02T18:48:11.365214Z"
    }
   },
   "outputs": [
    {
     "data": {
      "text/latex": [
       "$L2(\\vec{x}) = \\frac{1}{2} ||\\vec{x}||_2^2$"
      ],
      "text/plain": [
       "<IPython.core.display.Latex object>"
      ]
     },
     "metadata": {},
     "output_type": "display_data"
    },
    {
     "data": {
      "text/latex": [
       "$ \\nabla_xL2(\\vec{x}) = I \\times \\vec{x}$"
      ],
      "text/plain": [
       "<IPython.core.display.Latex object>"
      ]
     },
     "metadata": {},
     "output_type": "display_data"
    }
   ],
   "source": [
    "L2 = ops.L2Norm(image_size)\n",
    "\n",
    "# Check forward operator\n",
    "assert yp.sum(yp.abs(L2 * x - 0.5 * yp.norm(x) ** 2)) < eps, '%f' % yp.sum(yp.abs(L2 * x - 0.5 * np.linalg.norm(x) ** 2))\n",
    "\n",
    "# Check gradient\n",
    "L2.gradient_check()\n",
    "\n",
    "# Render forward model\n",
    "L2.latex()\n",
    "\n",
    "# Render gradient\n",
    "L2.latex(gradient=True)"
   ]
  },
  {
   "cell_type": "markdown",
   "metadata": {},
   "source": [
    "## $\\ell1 $ Norm Operator"
   ]
  },
  {
   "cell_type": "code",
   "execution_count": 55,
   "metadata": {
    "ExecuteTime": {
     "end_time": "2019-05-02T18:48:12.085930Z",
     "start_time": "2019-05-02T18:48:12.061265Z"
    }
   },
   "outputs": [
    {
     "data": {
      "text/latex": [
       "$L1(\\vec{x}) = ||\\vec{x}||_1$"
      ],
      "text/plain": [
       "<IPython.core.display.Latex object>"
      ]
     },
     "metadata": {},
     "output_type": "display_data"
    }
   ],
   "source": [
    "L1 = ops.L1Norm(image_size)\n",
    "\n",
    "# Forward operator\n",
    "assert L1 * x - yp.sum(yp.abs(x)) < eps\n",
    "\n",
    "# Render forward model\n",
    "L1.latex()"
   ]
  },
  {
   "cell_type": "markdown",
   "metadata": {},
   "source": [
    "## Wavelet Transform"
   ]
  },
  {
   "cell_type": "code",
   "execution_count": 56,
   "metadata": {
    "ExecuteTime": {
     "end_time": "2019-05-02T18:48:12.852598Z",
     "start_time": "2019-05-02T18:48:12.772086Z"
    }
   },
   "outputs": [
    {
     "data": {
      "text/latex": [
       "$W_{db1}(\\vec{x}) = W_{db1} \\times \\vec{x}$"
      ],
      "text/plain": [
       "<IPython.core.display.Latex object>"
      ]
     },
     "metadata": {},
     "output_type": "display_data"
    },
    {
     "data": {
      "text/latex": [
       "$W_{haar}(\\vec{x}) = W_{haar} \\times \\vec{x}$"
      ],
      "text/plain": [
       "<IPython.core.display.Latex object>"
      ]
     },
     "metadata": {},
     "output_type": "display_data"
    },
    {
     "data": {
      "text/latex": [
       "$W_{rbio1.1}(\\vec{x}) = W_{rbio1.1} \\times \\vec{x}$"
      ],
      "text/plain": [
       "<IPython.core.display.Latex object>"
      ]
     },
     "metadata": {},
     "output_type": "display_data"
    },
    {
     "data": {
      "text/latex": [
       "$W_{bior1.1}(\\vec{x}) = W_{bior1.1} \\times \\vec{x}$"
      ],
      "text/plain": [
       "<IPython.core.display.Latex object>"
      ]
     },
     "metadata": {},
     "output_type": "display_data"
    },
    {
     "name": "stdout",
     "output_type": "stream",
     "text": [
      "WARNING: Wavelet Transform output cannot be tightly packed, reshaping from ([ 64 128]) to ((80, 144))\n"
     ]
    },
    {
     "data": {
      "text/latex": [
       "$W_{bior4.4}(\\vec{x}) = W_{bior4.4} \\times \\vec{x}$"
      ],
      "text/plain": [
       "<IPython.core.display.Latex object>"
      ]
     },
     "metadata": {},
     "output_type": "display_data"
    },
    {
     "name": "stdout",
     "output_type": "stream",
     "text": [
      "WARNING: Wavelet Transform output cannot be tightly packed, reshaping from ([ 64 128]) to ((86, 150))\n"
     ]
    },
    {
     "data": {
      "text/latex": [
       "$W_{sym12}(\\vec{x}) = W_{sym12} \\times \\vec{x}$"
      ],
      "text/plain": [
       "<IPython.core.display.Latex object>"
      ]
     },
     "metadata": {},
     "output_type": "display_data"
    }
   ],
   "source": [
    "import pywt\n",
    "wavelet_list = ['db1', 'haar', 'rbio1.1', 'bior1.1', 'bior4.4', 'sym12']\n",
    "for wavelet_test in wavelet_list:\n",
    "    # Wavelet Transform\n",
    "    W = ops.WaveletTransform(image_size, wavelet_type=wavelet_test, use_cycle_spinning=False)\n",
    "\n",
    "    # Check forward operation\n",
    "    coeffs = pywt.wavedecn(x, wavelet=wavelet_test)\n",
    "    x_wavelet, coeff_slices = pywt.coeffs_to_array(coeffs)\n",
    "    assert yp.sum(yp.abs(yp.changeBackend(W * x, 'numpy') - x_wavelet)) < eps, \"Difference %.6e\"\n",
    "\n",
    "    # Check inverse operation\n",
    "    coeffs_from_arr = pywt.array_to_coeffs(x_wavelet, coeff_slices)\n",
    "    cam_recon = pywt.waverecn(coeffs_from_arr, wavelet=wavelet_test)\n",
    "    assert yp.sum(yp.abs(W.H * W * x - x)) < 1e-2\n",
    "\n",
    "    # Ensure that the wavelet transform isn't just identity (weird bug)\n",
    "    if W.shape[1] is yp.size(x):\n",
    "        assert yp.sum(yp.abs(W * yp.vec(x) - yp.vec(x))) > 1e-2, \"%s\" % wavelet_test\n",
    "\n",
    "    # Check gradient \n",
    "    W.gradient_check()\n",
    "\n",
    "    # Render forward model\n",
    "    W.latex()"
   ]
  },
  {
   "cell_type": "markdown",
   "metadata": {},
   "source": [
    "## Exponential Operator"
   ]
  },
  {
   "cell_type": "code",
   "execution_count": 57,
   "metadata": {
    "ExecuteTime": {
     "end_time": "2019-05-02T18:48:13.722339Z",
     "start_time": "2019-05-02T18:48:13.681996Z"
    }
   },
   "outputs": [
    {
     "data": {
      "text/latex": [
       "$EXP(\\vec{x}) = e^{\\vec{x}}$"
      ],
      "text/plain": [
       "<IPython.core.display.Latex object>"
      ]
     },
     "metadata": {},
     "output_type": "display_data"
    },
    {
     "data": {
      "text/latex": [
       "$ \\nabla_xEXP(\\vec{x}) = diag(\\vec{D_{e^x}})\\times \\vec{x}$"
      ],
      "text/plain": [
       "<IPython.core.display.Latex object>"
      ]
     },
     "metadata": {},
     "output_type": "display_data"
    }
   ],
   "source": [
    "L2 = ops.L2Norm(image_size)\n",
    "F = ops.FourierTransform(image_size)\n",
    "EXP = ops.Exponential(image_size)\n",
    "\n",
    "# Forward model\n",
    "assert yp.sum(yp.abs(yp.changeBackend(EXP * x, 'numpy') - np.exp(yp.changeBackend(x, 'numpy')))) < eps\n",
    "\n",
    "# Check gradient\n",
    "EXP.gradient_check()\n",
    "\n",
    "# Generate composite operator\n",
    "D = ops.Diagonalize(h)\n",
    "L2 = ops.L2Norm(image_size)\n",
    "\n",
    "EXP_COMP = L2 * F * EXP\n",
    "EXP_COMP.gradient_check()\n",
    "\n",
    "EXP_COMP_2 = L2 * F * EXP * D\n",
    "EXP_COMP_2.gradient_check()\n",
    "\n",
    "# Render forward model\n",
    "EXP.latex()\n",
    "\n",
    "# Render gradient\n",
    "EXP.latex(gradient=True)"
   ]
  },
  {
   "cell_type": "markdown",
   "metadata": {},
   "source": [
    "## Phase Ramp Operator"
   ]
  },
  {
   "cell_type": "code",
   "execution_count": 58,
   "metadata": {
    "ExecuteTime": {
     "end_time": "2019-05-02T18:48:14.508011Z",
     "start_time": "2019-05-02T18:48:14.466033Z"
    }
   },
   "outputs": [
    {
     "name": "stdout",
     "output_type": "stream",
     "text": [
      "0.07615586\n"
     ]
    },
    {
     "data": {
      "text/latex": [
       "$R(\\vec{x}) = e^{-i2\\pi \\vec{k} \\vec{x}}$"
      ],
      "text/plain": [
       "<IPython.core.display.Latex object>"
      ]
     },
     "metadata": {},
     "output_type": "display_data"
    },
    {
     "data": {
      "text/latex": [
       "$ \\nabla_xR(\\vec{x}) = \\begin{bmatrix}\\sum_{axes=[0, 1]}  \\cr \\sum_{axes=[0, 1]} \\end{bmatrix} \\times \\vec{x}$"
      ],
      "text/plain": [
       "<IPython.core.display.Latex object>"
      ]
     },
     "metadata": {},
     "output_type": "display_data"
    }
   ],
   "source": [
    "eps_phase_ramp = 1e-4\n",
    "shift = yp.changeBackend(np.asarray((-5,3)).astype(yp.getNativeDatatype(global_dtype, 'numpy')), global_backend)\n",
    "\n",
    "# Generate phase ramp\n",
    "R = ops.PhaseRamp(image_size)\n",
    "r = R * shift\n",
    "\n",
    "F = ops.FourierTransform(image_size, dtype=global_dtype, normalize=False, backend=global_backend)\n",
    "D_R = ops.Diagonalize(r, dtype=global_dtype)\n",
    "S_R = F.H * D_R * F\n",
    "\n",
    "# Pixel-wise shift operator\n",
    "S = ops.Shift(image_size, shift)\n",
    "\n",
    "\n",
    "# Check gradient of phase ramp convolution\n",
    "S_R.gradient_check()\n",
    "\n",
    "# Check gradient of phase ramp\n",
    "print(R.gradient_check(eps=1))\n",
    "\n",
    "# Render forward model\n",
    "R.latex()\n",
    "\n",
    "# Render gradient\n",
    "R.latex(gradient=True)\n",
    "\n",
    "# plt.figure()\n",
    "# plt.subplot(131)\n",
    "# plt.imshow(yp.abs(yp.reshape(yp.changeBackend(S_R * vec(x), 'numpy'), image_size)))\n",
    "# plt.subplot(132)\n",
    "# plt.imshow(yp.abs(yp.reshape(yp.changeBackend(S * vec(x), 'numpy'), image_size)))\n",
    "# plt.subplot(133)\n",
    "# plt.imshow(yp.abs(yp.reshape(yp.changeBackend(S * vec(x) - S_R * vec(x), 'numpy'), image_size)))"
   ]
  },
  {
   "cell_type": "markdown",
   "metadata": {},
   "source": [
    "## Derivative Operator"
   ]
  },
  {
   "cell_type": "code",
   "execution_count": 59,
   "metadata": {
    "ExecuteTime": {
     "end_time": "2019-05-02T18:48:15.567492Z",
     "start_time": "2019-05-02T18:48:15.515600Z"
    }
   },
   "outputs": [
    {
     "data": {
      "text/latex": [
       "$∂x(\\vec{x}) = \\frac{\\partial}{\\partial x} \\times \\vec{x}$"
      ],
      "text/plain": [
       "<IPython.core.display.Latex object>"
      ]
     },
     "metadata": {},
     "output_type": "display_data"
    },
    {
     "data": {
      "text/latex": [
       "$∂y(\\vec{x}) = \\frac{\\partial}{\\partial y} \\times \\vec{x}$"
      ],
      "text/plain": [
       "<IPython.core.display.Latex object>"
      ]
     },
     "metadata": {},
     "output_type": "display_data"
    },
    {
     "data": {
      "text/latex": [
       "$ \\nabla_x∂x(\\vec{x}) = F^H \\times diag(\\vec{d})^H \\times F \\times \\vec{x}$"
      ],
      "text/plain": [
       "<IPython.core.display.Latex object>"
      ]
     },
     "metadata": {},
     "output_type": "display_data"
    },
    {
     "data": {
      "text/latex": [
       "$ \\nabla_x∂y(\\vec{x}) = F^H \\times diag(\\vec{d})^H \\times F \\times \\vec{x}$"
      ],
      "text/plain": [
       "<IPython.core.display.Latex object>"
      ]
     },
     "metadata": {},
     "output_type": "display_data"
    }
   ],
   "source": [
    "# Derivatie operator in x\n",
    "Dx = ops.Derivative(image_size, dtype=global_dtype, backend=global_backend, axis=1)\n",
    "xd = Dx * x\n",
    "\n",
    "# Derivative operator in y\n",
    "Dy = ops.Derivative(image_size, dtype=global_dtype, backend=global_backend, axis=0)\n",
    "yd = Dy * x\n",
    "\n",
    "# True derivative grids for comparison\n",
    "N = image_size\n",
    "r_x = np.arange(-N[1] / 2, N[1] / 2, 1.0) / N[1]\n",
    "r_y = np.arange(-N[0] / 2, N[0] / 2, 1.0) / N[0]\n",
    "grid_np = np.meshgrid(r_x, r_y)\n",
    "\n",
    "grid = []\n",
    "for g in grid_np:\n",
    "    grid.append(yp.changeBackend(g.astype(yp.getNativeDatatype(global_dtype, 'numpy')), global_backend))\n",
    "\n",
    "# from libwallerlab.operators.fft import Ft, iFt\n",
    "Ft = lambda x: np.fft.fftshift(np.fft.fft2(np.fft.fftshift(x, axes=(0, 1)), axes=(0, 1), norm='ortho'), axes=(0, 1))\n",
    "iFt = lambda x: np.fft.fftshift(np.fft.ifft2(np.fft.fftshift(x, axes=(0, 1)), axes=(0, 1), norm='ortho'), axes=(0, 1))\n",
    "\n",
    "dx_func = lambda x: iFt(Ft(x) * grid[1].reshape(image_size))\n",
    "dy_func = lambda x: iFt(Ft(x) * grid[0].reshape(image_size))\n",
    "\n",
    "# assert yp.sum(yp.abs(dx_func(x) - xd.reshape(image_size))) < eps, \"X derivative was not equal! (%.4e)\" % yp.sum(yp.abs(dx_func(x) - xd.reshape(image_size)))\n",
    "# assert yp.sum(yp.abs(dy_func(x) - yd.reshape(image_size))) < eps, \"Y derivative was not equal! (%.4e)\" % yp.sum(yp.abs(dy_func(x) - yd.reshape(image_size)))\n",
    "\n",
    "# Check Gradient\n",
    "Dx.gradient_check()\n",
    "Dy.gradient_check()\n",
    "\n",
    "# Render forward models\n",
    "Dx.latex()\n",
    "Dy.latex()\n",
    "\n",
    "# Render gradients\n",
    "Dx.latex(gradient=True)\n",
    "Dy.latex(gradient=True)"
   ]
  },
  {
   "cell_type": "markdown",
   "metadata": {},
   "source": [
    "## Power Operator"
   ]
  },
  {
   "cell_type": "code",
   "execution_count": 60,
   "metadata": {
    "ExecuteTime": {
     "end_time": "2019-05-02T18:48:16.589699Z",
     "start_time": "2019-05-02T18:48:16.561377Z"
    }
   },
   "outputs": [
    {
     "data": {
      "text/latex": [
       "$P(\\vec{x}) = \\vec{x}^2$"
      ],
      "text/plain": [
       "<IPython.core.display.Latex object>"
      ]
     },
     "metadata": {},
     "output_type": "display_data"
    },
    {
     "data": {
      "text/latex": [
       "$ \\nabla_xΣ(\\vec{x}) = \\sum_{axes=[0, 1]} ^H \\times \\vec{x}$"
      ],
      "text/plain": [
       "<IPython.core.display.Latex object>"
      ]
     },
     "metadata": {},
     "output_type": "display_data"
    }
   ],
   "source": [
    "power = 2\n",
    "P = ops.Power(image_size, power,dtype=global_dtype, backend=global_backend)\n",
    "assert yp.sum(yp.abs(yp.changeBackend(P * x, 'numpy') - yp.changeBackend(x, 'numpy') ** power)) < eps, \"%f\" % yp.sum(yp.abs(yp.changeBackend(P * x, 'numpy') - yp.changeBackend(x, 'numpy') ** power)) \n",
    "\n",
    "# Render forward model\n",
    "P.latex()\n",
    "\n",
    "# Render gradient\n",
    "Σ.latex(gradient=True)"
   ]
  },
  {
   "cell_type": "markdown",
   "metadata": {},
   "source": [
    "## FFTShift Operator"
   ]
  },
  {
   "cell_type": "code",
   "execution_count": 61,
   "metadata": {
    "ExecuteTime": {
     "end_time": "2019-05-02T18:48:17.312476Z",
     "start_time": "2019-05-02T18:48:17.281907Z"
    }
   },
   "outputs": [
    {
     "data": {
      "text/latex": [
       "$S(\\vec{x}) = S \\times \\vec{x}$"
      ],
      "text/plain": [
       "<IPython.core.display.Latex object>"
      ]
     },
     "metadata": {},
     "output_type": "display_data"
    },
    {
     "data": {
      "text/latex": [
       "$ \\nabla_xS(\\vec{x}) = S^H \\times \\vec{x}$"
      ],
      "text/plain": [
       "<IPython.core.display.Latex object>"
      ]
     },
     "metadata": {},
     "output_type": "display_data"
    }
   ],
   "source": [
    "S = ops.FFTShift(image_size)\n",
    "\n",
    "yp.assert_equality(S * x, yp.fftshift(x))\n",
    "yp.assert_equality(S.H * S * x, x)\n",
    "\n",
    "# Check Gradient\n",
    "S.gradient_check()\n",
    "\n",
    "# Render Latex\n",
    "S.latex()\n",
    "\n",
    "# Render gradient\n",
    "S.latex(gradient=True)\n",
    "\n",
    "# plt.figure()\n",
    "# plt.subplot(131)\n",
    "# plt.imshow(yp.abs(x))\n",
    "# plt.subplot(132)\n",
    "# plt.imshow(yp.abs(S * x))\n",
    "# plt.subplot(133)\n",
    "# plt.imshow(yp.abs(S.H * S *  x))"
   ]
  },
  {
   "cell_type": "markdown",
   "metadata": {},
   "source": [
    "## Image Segmentation Operator"
   ]
  },
  {
   "cell_type": "code",
   "execution_count": 62,
   "metadata": {
    "ExecuteTime": {
     "end_time": "2019-05-02T18:48:18.361332Z",
     "start_time": "2019-05-02T18:48:18.276213Z"
    }
   },
   "outputs": [
    {
     "data": {
      "application/javascript": [
       "/* Put everything inside the global mpl namespace */\n",
       "window.mpl = {};\n",
       "\n",
       "\n",
       "mpl.get_websocket_type = function() {\n",
       "    if (typeof(WebSocket) !== 'undefined') {\n",
       "        return WebSocket;\n",
       "    } else if (typeof(MozWebSocket) !== 'undefined') {\n",
       "        return MozWebSocket;\n",
       "    } else {\n",
       "        alert('Your browser does not have WebSocket support. ' +\n",
       "              'Please try Chrome, Safari or Firefox ≥ 6. ' +\n",
       "              'Firefox 4 and 5 are also supported but you ' +\n",
       "              'have to enable WebSockets in about:config.');\n",
       "    };\n",
       "}\n",
       "\n",
       "mpl.figure = function(figure_id, websocket, ondownload, parent_element) {\n",
       "    this.id = figure_id;\n",
       "\n",
       "    this.ws = websocket;\n",
       "\n",
       "    this.supports_binary = (this.ws.binaryType != undefined);\n",
       "\n",
       "    if (!this.supports_binary) {\n",
       "        var warnings = document.getElementById(\"mpl-warnings\");\n",
       "        if (warnings) {\n",
       "            warnings.style.display = 'block';\n",
       "            warnings.textContent = (\n",
       "                \"This browser does not support binary websocket messages. \" +\n",
       "                    \"Performance may be slow.\");\n",
       "        }\n",
       "    }\n",
       "\n",
       "    this.imageObj = new Image();\n",
       "\n",
       "    this.context = undefined;\n",
       "    this.message = undefined;\n",
       "    this.canvas = undefined;\n",
       "    this.rubberband_canvas = undefined;\n",
       "    this.rubberband_context = undefined;\n",
       "    this.format_dropdown = undefined;\n",
       "\n",
       "    this.image_mode = 'full';\n",
       "\n",
       "    this.root = $('<div/>');\n",
       "    this._root_extra_style(this.root)\n",
       "    this.root.attr('style', 'display: inline-block');\n",
       "\n",
       "    $(parent_element).append(this.root);\n",
       "\n",
       "    this._init_header(this);\n",
       "    this._init_canvas(this);\n",
       "    this._init_toolbar(this);\n",
       "\n",
       "    var fig = this;\n",
       "\n",
       "    this.waiting = false;\n",
       "\n",
       "    this.ws.onopen =  function () {\n",
       "            fig.send_message(\"supports_binary\", {value: fig.supports_binary});\n",
       "            fig.send_message(\"send_image_mode\", {});\n",
       "            if (mpl.ratio != 1) {\n",
       "                fig.send_message(\"set_dpi_ratio\", {'dpi_ratio': mpl.ratio});\n",
       "            }\n",
       "            fig.send_message(\"refresh\", {});\n",
       "        }\n",
       "\n",
       "    this.imageObj.onload = function() {\n",
       "            if (fig.image_mode == 'full') {\n",
       "                // Full images could contain transparency (where diff images\n",
       "                // almost always do), so we need to clear the canvas so that\n",
       "                // there is no ghosting.\n",
       "                fig.context.clearRect(0, 0, fig.canvas.width, fig.canvas.height);\n",
       "            }\n",
       "            fig.context.drawImage(fig.imageObj, 0, 0);\n",
       "        };\n",
       "\n",
       "    this.imageObj.onunload = function() {\n",
       "        fig.ws.close();\n",
       "    }\n",
       "\n",
       "    this.ws.onmessage = this._make_on_message_function(this);\n",
       "\n",
       "    this.ondownload = ondownload;\n",
       "}\n",
       "\n",
       "mpl.figure.prototype._init_header = function() {\n",
       "    var titlebar = $(\n",
       "        '<div class=\"ui-dialog-titlebar ui-widget-header ui-corner-all ' +\n",
       "        'ui-helper-clearfix\"/>');\n",
       "    var titletext = $(\n",
       "        '<div class=\"ui-dialog-title\" style=\"width: 100%; ' +\n",
       "        'text-align: center; padding: 3px;\"/>');\n",
       "    titlebar.append(titletext)\n",
       "    this.root.append(titlebar);\n",
       "    this.header = titletext[0];\n",
       "}\n",
       "\n",
       "\n",
       "\n",
       "mpl.figure.prototype._canvas_extra_style = function(canvas_div) {\n",
       "\n",
       "}\n",
       "\n",
       "\n",
       "mpl.figure.prototype._root_extra_style = function(canvas_div) {\n",
       "\n",
       "}\n",
       "\n",
       "mpl.figure.prototype._init_canvas = function() {\n",
       "    var fig = this;\n",
       "\n",
       "    var canvas_div = $('<div/>');\n",
       "\n",
       "    canvas_div.attr('style', 'position: relative; clear: both; outline: 0');\n",
       "\n",
       "    function canvas_keyboard_event(event) {\n",
       "        return fig.key_event(event, event['data']);\n",
       "    }\n",
       "\n",
       "    canvas_div.keydown('key_press', canvas_keyboard_event);\n",
       "    canvas_div.keyup('key_release', canvas_keyboard_event);\n",
       "    this.canvas_div = canvas_div\n",
       "    this._canvas_extra_style(canvas_div)\n",
       "    this.root.append(canvas_div);\n",
       "\n",
       "    var canvas = $('<canvas/>');\n",
       "    canvas.addClass('mpl-canvas');\n",
       "    canvas.attr('style', \"left: 0; top: 0; z-index: 0; outline: 0\")\n",
       "\n",
       "    this.canvas = canvas[0];\n",
       "    this.context = canvas[0].getContext(\"2d\");\n",
       "\n",
       "    var backingStore = this.context.backingStorePixelRatio ||\n",
       "\tthis.context.webkitBackingStorePixelRatio ||\n",
       "\tthis.context.mozBackingStorePixelRatio ||\n",
       "\tthis.context.msBackingStorePixelRatio ||\n",
       "\tthis.context.oBackingStorePixelRatio ||\n",
       "\tthis.context.backingStorePixelRatio || 1;\n",
       "\n",
       "    mpl.ratio = (window.devicePixelRatio || 1) / backingStore;\n",
       "\n",
       "    var rubberband = $('<canvas/>');\n",
       "    rubberband.attr('style', \"position: absolute; left: 0; top: 0; z-index: 1;\")\n",
       "\n",
       "    var pass_mouse_events = true;\n",
       "\n",
       "    canvas_div.resizable({\n",
       "        start: function(event, ui) {\n",
       "            pass_mouse_events = false;\n",
       "        },\n",
       "        resize: function(event, ui) {\n",
       "            fig.request_resize(ui.size.width, ui.size.height);\n",
       "        },\n",
       "        stop: function(event, ui) {\n",
       "            pass_mouse_events = true;\n",
       "            fig.request_resize(ui.size.width, ui.size.height);\n",
       "        },\n",
       "    });\n",
       "\n",
       "    function mouse_event_fn(event) {\n",
       "        if (pass_mouse_events)\n",
       "            return fig.mouse_event(event, event['data']);\n",
       "    }\n",
       "\n",
       "    rubberband.mousedown('button_press', mouse_event_fn);\n",
       "    rubberband.mouseup('button_release', mouse_event_fn);\n",
       "    // Throttle sequential mouse events to 1 every 20ms.\n",
       "    rubberband.mousemove('motion_notify', mouse_event_fn);\n",
       "\n",
       "    rubberband.mouseenter('figure_enter', mouse_event_fn);\n",
       "    rubberband.mouseleave('figure_leave', mouse_event_fn);\n",
       "\n",
       "    canvas_div.on(\"wheel\", function (event) {\n",
       "        event = event.originalEvent;\n",
       "        event['data'] = 'scroll'\n",
       "        if (event.deltaY < 0) {\n",
       "            event.step = 1;\n",
       "        } else {\n",
       "            event.step = -1;\n",
       "        }\n",
       "        mouse_event_fn(event);\n",
       "    });\n",
       "\n",
       "    canvas_div.append(canvas);\n",
       "    canvas_div.append(rubberband);\n",
       "\n",
       "    this.rubberband = rubberband;\n",
       "    this.rubberband_canvas = rubberband[0];\n",
       "    this.rubberband_context = rubberband[0].getContext(\"2d\");\n",
       "    this.rubberband_context.strokeStyle = \"#000000\";\n",
       "\n",
       "    this._resize_canvas = function(width, height) {\n",
       "        // Keep the size of the canvas, canvas container, and rubber band\n",
       "        // canvas in synch.\n",
       "        canvas_div.css('width', width)\n",
       "        canvas_div.css('height', height)\n",
       "\n",
       "        canvas.attr('width', width * mpl.ratio);\n",
       "        canvas.attr('height', height * mpl.ratio);\n",
       "        canvas.attr('style', 'width: ' + width + 'px; height: ' + height + 'px;');\n",
       "\n",
       "        rubberband.attr('width', width);\n",
       "        rubberband.attr('height', height);\n",
       "    }\n",
       "\n",
       "    // Set the figure to an initial 600x600px, this will subsequently be updated\n",
       "    // upon first draw.\n",
       "    this._resize_canvas(600, 600);\n",
       "\n",
       "    // Disable right mouse context menu.\n",
       "    $(this.rubberband_canvas).bind(\"contextmenu\",function(e){\n",
       "        return false;\n",
       "    });\n",
       "\n",
       "    function set_focus () {\n",
       "        canvas.focus();\n",
       "        canvas_div.focus();\n",
       "    }\n",
       "\n",
       "    window.setTimeout(set_focus, 100);\n",
       "}\n",
       "\n",
       "mpl.figure.prototype._init_toolbar = function() {\n",
       "    var fig = this;\n",
       "\n",
       "    var nav_element = $('<div/>');\n",
       "    nav_element.attr('style', 'width: 100%');\n",
       "    this.root.append(nav_element);\n",
       "\n",
       "    // Define a callback function for later on.\n",
       "    function toolbar_event(event) {\n",
       "        return fig.toolbar_button_onclick(event['data']);\n",
       "    }\n",
       "    function toolbar_mouse_event(event) {\n",
       "        return fig.toolbar_button_onmouseover(event['data']);\n",
       "    }\n",
       "\n",
       "    for(var toolbar_ind in mpl.toolbar_items) {\n",
       "        var name = mpl.toolbar_items[toolbar_ind][0];\n",
       "        var tooltip = mpl.toolbar_items[toolbar_ind][1];\n",
       "        var image = mpl.toolbar_items[toolbar_ind][2];\n",
       "        var method_name = mpl.toolbar_items[toolbar_ind][3];\n",
       "\n",
       "        if (!name) {\n",
       "            // put a spacer in here.\n",
       "            continue;\n",
       "        }\n",
       "        var button = $('<button/>');\n",
       "        button.addClass('ui-button ui-widget ui-state-default ui-corner-all ' +\n",
       "                        'ui-button-icon-only');\n",
       "        button.attr('role', 'button');\n",
       "        button.attr('aria-disabled', 'false');\n",
       "        button.click(method_name, toolbar_event);\n",
       "        button.mouseover(tooltip, toolbar_mouse_event);\n",
       "\n",
       "        var icon_img = $('<span/>');\n",
       "        icon_img.addClass('ui-button-icon-primary ui-icon');\n",
       "        icon_img.addClass(image);\n",
       "        icon_img.addClass('ui-corner-all');\n",
       "\n",
       "        var tooltip_span = $('<span/>');\n",
       "        tooltip_span.addClass('ui-button-text');\n",
       "        tooltip_span.html(tooltip);\n",
       "\n",
       "        button.append(icon_img);\n",
       "        button.append(tooltip_span);\n",
       "\n",
       "        nav_element.append(button);\n",
       "    }\n",
       "\n",
       "    var fmt_picker_span = $('<span/>');\n",
       "\n",
       "    var fmt_picker = $('<select/>');\n",
       "    fmt_picker.addClass('mpl-toolbar-option ui-widget ui-widget-content');\n",
       "    fmt_picker_span.append(fmt_picker);\n",
       "    nav_element.append(fmt_picker_span);\n",
       "    this.format_dropdown = fmt_picker[0];\n",
       "\n",
       "    for (var ind in mpl.extensions) {\n",
       "        var fmt = mpl.extensions[ind];\n",
       "        var option = $(\n",
       "            '<option/>', {selected: fmt === mpl.default_extension}).html(fmt);\n",
       "        fmt_picker.append(option);\n",
       "    }\n",
       "\n",
       "    // Add hover states to the ui-buttons\n",
       "    $( \".ui-button\" ).hover(\n",
       "        function() { $(this).addClass(\"ui-state-hover\");},\n",
       "        function() { $(this).removeClass(\"ui-state-hover\");}\n",
       "    );\n",
       "\n",
       "    var status_bar = $('<span class=\"mpl-message\"/>');\n",
       "    nav_element.append(status_bar);\n",
       "    this.message = status_bar[0];\n",
       "}\n",
       "\n",
       "mpl.figure.prototype.request_resize = function(x_pixels, y_pixels) {\n",
       "    // Request matplotlib to resize the figure. Matplotlib will then trigger a resize in the client,\n",
       "    // which will in turn request a refresh of the image.\n",
       "    this.send_message('resize', {'width': x_pixels, 'height': y_pixels});\n",
       "}\n",
       "\n",
       "mpl.figure.prototype.send_message = function(type, properties) {\n",
       "    properties['type'] = type;\n",
       "    properties['figure_id'] = this.id;\n",
       "    this.ws.send(JSON.stringify(properties));\n",
       "}\n",
       "\n",
       "mpl.figure.prototype.send_draw_message = function() {\n",
       "    if (!this.waiting) {\n",
       "        this.waiting = true;\n",
       "        this.ws.send(JSON.stringify({type: \"draw\", figure_id: this.id}));\n",
       "    }\n",
       "}\n",
       "\n",
       "\n",
       "mpl.figure.prototype.handle_save = function(fig, msg) {\n",
       "    var format_dropdown = fig.format_dropdown;\n",
       "    var format = format_dropdown.options[format_dropdown.selectedIndex].value;\n",
       "    fig.ondownload(fig, format);\n",
       "}\n",
       "\n",
       "\n",
       "mpl.figure.prototype.handle_resize = function(fig, msg) {\n",
       "    var size = msg['size'];\n",
       "    if (size[0] != fig.canvas.width || size[1] != fig.canvas.height) {\n",
       "        fig._resize_canvas(size[0], size[1]);\n",
       "        fig.send_message(\"refresh\", {});\n",
       "    };\n",
       "}\n",
       "\n",
       "mpl.figure.prototype.handle_rubberband = function(fig, msg) {\n",
       "    var x0 = msg['x0'] / mpl.ratio;\n",
       "    var y0 = (fig.canvas.height - msg['y0']) / mpl.ratio;\n",
       "    var x1 = msg['x1'] / mpl.ratio;\n",
       "    var y1 = (fig.canvas.height - msg['y1']) / mpl.ratio;\n",
       "    x0 = Math.floor(x0) + 0.5;\n",
       "    y0 = Math.floor(y0) + 0.5;\n",
       "    x1 = Math.floor(x1) + 0.5;\n",
       "    y1 = Math.floor(y1) + 0.5;\n",
       "    var min_x = Math.min(x0, x1);\n",
       "    var min_y = Math.min(y0, y1);\n",
       "    var width = Math.abs(x1 - x0);\n",
       "    var height = Math.abs(y1 - y0);\n",
       "\n",
       "    fig.rubberband_context.clearRect(\n",
       "        0, 0, fig.canvas.width, fig.canvas.height);\n",
       "\n",
       "    fig.rubberband_context.strokeRect(min_x, min_y, width, height);\n",
       "}\n",
       "\n",
       "mpl.figure.prototype.handle_figure_label = function(fig, msg) {\n",
       "    // Updates the figure title.\n",
       "    fig.header.textContent = msg['label'];\n",
       "}\n",
       "\n",
       "mpl.figure.prototype.handle_cursor = function(fig, msg) {\n",
       "    var cursor = msg['cursor'];\n",
       "    switch(cursor)\n",
       "    {\n",
       "    case 0:\n",
       "        cursor = 'pointer';\n",
       "        break;\n",
       "    case 1:\n",
       "        cursor = 'default';\n",
       "        break;\n",
       "    case 2:\n",
       "        cursor = 'crosshair';\n",
       "        break;\n",
       "    case 3:\n",
       "        cursor = 'move';\n",
       "        break;\n",
       "    }\n",
       "    fig.rubberband_canvas.style.cursor = cursor;\n",
       "}\n",
       "\n",
       "mpl.figure.prototype.handle_message = function(fig, msg) {\n",
       "    fig.message.textContent = msg['message'];\n",
       "}\n",
       "\n",
       "mpl.figure.prototype.handle_draw = function(fig, msg) {\n",
       "    // Request the server to send over a new figure.\n",
       "    fig.send_draw_message();\n",
       "}\n",
       "\n",
       "mpl.figure.prototype.handle_image_mode = function(fig, msg) {\n",
       "    fig.image_mode = msg['mode'];\n",
       "}\n",
       "\n",
       "mpl.figure.prototype.updated_canvas_event = function() {\n",
       "    // Called whenever the canvas gets updated.\n",
       "    this.send_message(\"ack\", {});\n",
       "}\n",
       "\n",
       "// A function to construct a web socket function for onmessage handling.\n",
       "// Called in the figure constructor.\n",
       "mpl.figure.prototype._make_on_message_function = function(fig) {\n",
       "    return function socket_on_message(evt) {\n",
       "        if (evt.data instanceof Blob) {\n",
       "            /* FIXME: We get \"Resource interpreted as Image but\n",
       "             * transferred with MIME type text/plain:\" errors on\n",
       "             * Chrome.  But how to set the MIME type?  It doesn't seem\n",
       "             * to be part of the websocket stream */\n",
       "            evt.data.type = \"image/png\";\n",
       "\n",
       "            /* Free the memory for the previous frames */\n",
       "            if (fig.imageObj.src) {\n",
       "                (window.URL || window.webkitURL).revokeObjectURL(\n",
       "                    fig.imageObj.src);\n",
       "            }\n",
       "\n",
       "            fig.imageObj.src = (window.URL || window.webkitURL).createObjectURL(\n",
       "                evt.data);\n",
       "            fig.updated_canvas_event();\n",
       "            fig.waiting = false;\n",
       "            return;\n",
       "        }\n",
       "        else if (typeof evt.data === 'string' && evt.data.slice(0, 21) == \"data:image/png;base64\") {\n",
       "            fig.imageObj.src = evt.data;\n",
       "            fig.updated_canvas_event();\n",
       "            fig.waiting = false;\n",
       "            return;\n",
       "        }\n",
       "\n",
       "        var msg = JSON.parse(evt.data);\n",
       "        var msg_type = msg['type'];\n",
       "\n",
       "        // Call the  \"handle_{type}\" callback, which takes\n",
       "        // the figure and JSON message as its only arguments.\n",
       "        try {\n",
       "            var callback = fig[\"handle_\" + msg_type];\n",
       "        } catch (e) {\n",
       "            console.log(\"No handler for the '\" + msg_type + \"' message type: \", msg);\n",
       "            return;\n",
       "        }\n",
       "\n",
       "        if (callback) {\n",
       "            try {\n",
       "                // console.log(\"Handling '\" + msg_type + \"' message: \", msg);\n",
       "                callback(fig, msg);\n",
       "            } catch (e) {\n",
       "                console.log(\"Exception inside the 'handler_\" + msg_type + \"' callback:\", e, e.stack, msg);\n",
       "            }\n",
       "        }\n",
       "    };\n",
       "}\n",
       "\n",
       "// from http://stackoverflow.com/questions/1114465/getting-mouse-location-in-canvas\n",
       "mpl.findpos = function(e) {\n",
       "    //this section is from http://www.quirksmode.org/js/events_properties.html\n",
       "    var targ;\n",
       "    if (!e)\n",
       "        e = window.event;\n",
       "    if (e.target)\n",
       "        targ = e.target;\n",
       "    else if (e.srcElement)\n",
       "        targ = e.srcElement;\n",
       "    if (targ.nodeType == 3) // defeat Safari bug\n",
       "        targ = targ.parentNode;\n",
       "\n",
       "    // jQuery normalizes the pageX and pageY\n",
       "    // pageX,Y are the mouse positions relative to the document\n",
       "    // offset() returns the position of the element relative to the document\n",
       "    var x = e.pageX - $(targ).offset().left;\n",
       "    var y = e.pageY - $(targ).offset().top;\n",
       "\n",
       "    return {\"x\": x, \"y\": y};\n",
       "};\n",
       "\n",
       "/*\n",
       " * return a copy of an object with only non-object keys\n",
       " * we need this to avoid circular references\n",
       " * http://stackoverflow.com/a/24161582/3208463\n",
       " */\n",
       "function simpleKeys (original) {\n",
       "  return Object.keys(original).reduce(function (obj, key) {\n",
       "    if (typeof original[key] !== 'object')\n",
       "        obj[key] = original[key]\n",
       "    return obj;\n",
       "  }, {});\n",
       "}\n",
       "\n",
       "mpl.figure.prototype.mouse_event = function(event, name) {\n",
       "    var canvas_pos = mpl.findpos(event)\n",
       "\n",
       "    if (name === 'button_press')\n",
       "    {\n",
       "        this.canvas.focus();\n",
       "        this.canvas_div.focus();\n",
       "    }\n",
       "\n",
       "    var x = canvas_pos.x * mpl.ratio;\n",
       "    var y = canvas_pos.y * mpl.ratio;\n",
       "\n",
       "    this.send_message(name, {x: x, y: y, button: event.button,\n",
       "                             step: event.step,\n",
       "                             guiEvent: simpleKeys(event)});\n",
       "\n",
       "    /* This prevents the web browser from automatically changing to\n",
       "     * the text insertion cursor when the button is pressed.  We want\n",
       "     * to control all of the cursor setting manually through the\n",
       "     * 'cursor' event from matplotlib */\n",
       "    event.preventDefault();\n",
       "    return false;\n",
       "}\n",
       "\n",
       "mpl.figure.prototype._key_event_extra = function(event, name) {\n",
       "    // Handle any extra behaviour associated with a key event\n",
       "}\n",
       "\n",
       "mpl.figure.prototype.key_event = function(event, name) {\n",
       "\n",
       "    // Prevent repeat events\n",
       "    if (name == 'key_press')\n",
       "    {\n",
       "        if (event.which === this._key)\n",
       "            return;\n",
       "        else\n",
       "            this._key = event.which;\n",
       "    }\n",
       "    if (name == 'key_release')\n",
       "        this._key = null;\n",
       "\n",
       "    var value = '';\n",
       "    if (event.ctrlKey && event.which != 17)\n",
       "        value += \"ctrl+\";\n",
       "    if (event.altKey && event.which != 18)\n",
       "        value += \"alt+\";\n",
       "    if (event.shiftKey && event.which != 16)\n",
       "        value += \"shift+\";\n",
       "\n",
       "    value += 'k';\n",
       "    value += event.which.toString();\n",
       "\n",
       "    this._key_event_extra(event, name);\n",
       "\n",
       "    this.send_message(name, {key: value,\n",
       "                             guiEvent: simpleKeys(event)});\n",
       "    return false;\n",
       "}\n",
       "\n",
       "mpl.figure.prototype.toolbar_button_onclick = function(name) {\n",
       "    if (name == 'download') {\n",
       "        this.handle_save(this, null);\n",
       "    } else {\n",
       "        this.send_message(\"toolbar_button\", {name: name});\n",
       "    }\n",
       "};\n",
       "\n",
       "mpl.figure.prototype.toolbar_button_onmouseover = function(tooltip) {\n",
       "    this.message.textContent = tooltip;\n",
       "};\n",
       "mpl.toolbar_items = [[\"Home\", \"Reset original view\", \"fa fa-home icon-home\", \"home\"], [\"Back\", \"Back to previous view\", \"fa fa-arrow-left icon-arrow-left\", \"back\"], [\"Forward\", \"Forward to next view\", \"fa fa-arrow-right icon-arrow-right\", \"forward\"], [\"\", \"\", \"\", \"\"], [\"Pan\", \"Pan axes with left mouse, zoom with right\", \"fa fa-arrows icon-move\", \"pan\"], [\"Zoom\", \"Zoom to rectangle\", \"fa fa-square-o icon-check-empty\", \"zoom\"], [\"\", \"\", \"\", \"\"], [\"Download\", \"Download plot\", \"fa fa-floppy-o icon-save\", \"download\"]];\n",
       "\n",
       "mpl.extensions = [\"eps\", \"jpeg\", \"pdf\", \"png\", \"ps\", \"raw\", \"svg\", \"tif\"];\n",
       "\n",
       "mpl.default_extension = \"png\";var comm_websocket_adapter = function(comm) {\n",
       "    // Create a \"websocket\"-like object which calls the given IPython comm\n",
       "    // object with the appropriate methods. Currently this is a non binary\n",
       "    // socket, so there is still some room for performance tuning.\n",
       "    var ws = {};\n",
       "\n",
       "    ws.close = function() {\n",
       "        comm.close()\n",
       "    };\n",
       "    ws.send = function(m) {\n",
       "        //console.log('sending', m);\n",
       "        comm.send(m);\n",
       "    };\n",
       "    // Register the callback with on_msg.\n",
       "    comm.on_msg(function(msg) {\n",
       "        //console.log('receiving', msg['content']['data'], msg);\n",
       "        // Pass the mpl event to the overridden (by mpl) onmessage function.\n",
       "        ws.onmessage(msg['content']['data'])\n",
       "    });\n",
       "    return ws;\n",
       "}\n",
       "\n",
       "mpl.mpl_figure_comm = function(comm, msg) {\n",
       "    // This is the function which gets called when the mpl process\n",
       "    // starts-up an IPython Comm through the \"matplotlib\" channel.\n",
       "\n",
       "    var id = msg.content.data.id;\n",
       "    // Get hold of the div created by the display call when the Comm\n",
       "    // socket was opened in Python.\n",
       "    var element = $(\"#\" + id);\n",
       "    var ws_proxy = comm_websocket_adapter(comm)\n",
       "\n",
       "    function ondownload(figure, format) {\n",
       "        window.open(figure.imageObj.src);\n",
       "    }\n",
       "\n",
       "    var fig = new mpl.figure(id, ws_proxy,\n",
       "                           ondownload,\n",
       "                           element.get(0));\n",
       "\n",
       "    // Call onopen now - mpl needs it, as it is assuming we've passed it a real\n",
       "    // web socket which is closed, not our websocket->open comm proxy.\n",
       "    ws_proxy.onopen();\n",
       "\n",
       "    fig.parent_element = element.get(0);\n",
       "    fig.cell_info = mpl.find_output_cell(\"<div id='\" + id + \"'></div>\");\n",
       "    if (!fig.cell_info) {\n",
       "        console.error(\"Failed to find cell for figure\", id, fig);\n",
       "        return;\n",
       "    }\n",
       "\n",
       "    var output_index = fig.cell_info[2]\n",
       "    var cell = fig.cell_info[0];\n",
       "\n",
       "};\n",
       "\n",
       "mpl.figure.prototype.handle_close = function(fig, msg) {\n",
       "    var width = fig.canvas.width/mpl.ratio\n",
       "    fig.root.unbind('remove')\n",
       "\n",
       "    // Update the output cell to use the data from the current canvas.\n",
       "    fig.push_to_output();\n",
       "    var dataURL = fig.canvas.toDataURL();\n",
       "    // Re-enable the keyboard manager in IPython - without this line, in FF,\n",
       "    // the notebook keyboard shortcuts fail.\n",
       "    IPython.keyboard_manager.enable()\n",
       "    $(fig.parent_element).html('<img src=\"' + dataURL + '\" width=\"' + width + '\">');\n",
       "    fig.close_ws(fig, msg);\n",
       "}\n",
       "\n",
       "mpl.figure.prototype.close_ws = function(fig, msg){\n",
       "    fig.send_message('closing', msg);\n",
       "    // fig.ws.close()\n",
       "}\n",
       "\n",
       "mpl.figure.prototype.push_to_output = function(remove_interactive) {\n",
       "    // Turn the data on the canvas into data in the output cell.\n",
       "    var width = this.canvas.width/mpl.ratio\n",
       "    var dataURL = this.canvas.toDataURL();\n",
       "    this.cell_info[1]['text/html'] = '<img src=\"' + dataURL + '\" width=\"' + width + '\">';\n",
       "}\n",
       "\n",
       "mpl.figure.prototype.updated_canvas_event = function() {\n",
       "    // Tell IPython that the notebook contents must change.\n",
       "    IPython.notebook.set_dirty(true);\n",
       "    this.send_message(\"ack\", {});\n",
       "    var fig = this;\n",
       "    // Wait a second, then push the new image to the DOM so\n",
       "    // that it is saved nicely (might be nice to debounce this).\n",
       "    setTimeout(function () { fig.push_to_output() }, 1000);\n",
       "}\n",
       "\n",
       "mpl.figure.prototype._init_toolbar = function() {\n",
       "    var fig = this;\n",
       "\n",
       "    var nav_element = $('<div/>');\n",
       "    nav_element.attr('style', 'width: 100%');\n",
       "    this.root.append(nav_element);\n",
       "\n",
       "    // Define a callback function for later on.\n",
       "    function toolbar_event(event) {\n",
       "        return fig.toolbar_button_onclick(event['data']);\n",
       "    }\n",
       "    function toolbar_mouse_event(event) {\n",
       "        return fig.toolbar_button_onmouseover(event['data']);\n",
       "    }\n",
       "\n",
       "    for(var toolbar_ind in mpl.toolbar_items){\n",
       "        var name = mpl.toolbar_items[toolbar_ind][0];\n",
       "        var tooltip = mpl.toolbar_items[toolbar_ind][1];\n",
       "        var image = mpl.toolbar_items[toolbar_ind][2];\n",
       "        var method_name = mpl.toolbar_items[toolbar_ind][3];\n",
       "\n",
       "        if (!name) { continue; };\n",
       "\n",
       "        var button = $('<button class=\"btn btn-default\" href=\"#\" title=\"' + name + '\"><i class=\"fa ' + image + ' fa-lg\"></i></button>');\n",
       "        button.click(method_name, toolbar_event);\n",
       "        button.mouseover(tooltip, toolbar_mouse_event);\n",
       "        nav_element.append(button);\n",
       "    }\n",
       "\n",
       "    // Add the status bar.\n",
       "    var status_bar = $('<span class=\"mpl-message\" style=\"text-align:right; float: right;\"/>');\n",
       "    nav_element.append(status_bar);\n",
       "    this.message = status_bar[0];\n",
       "\n",
       "    // Add the close button to the window.\n",
       "    var buttongrp = $('<div class=\"btn-group inline pull-right\"></div>');\n",
       "    var button = $('<button class=\"btn btn-mini btn-primary\" href=\"#\" title=\"Stop Interaction\"><i class=\"fa fa-power-off icon-remove icon-large\"></i></button>');\n",
       "    button.click(function (evt) { fig.handle_close(fig, {}); } );\n",
       "    button.mouseover('Stop Interaction', toolbar_mouse_event);\n",
       "    buttongrp.append(button);\n",
       "    var titlebar = this.root.find($('.ui-dialog-titlebar'));\n",
       "    titlebar.prepend(buttongrp);\n",
       "}\n",
       "\n",
       "mpl.figure.prototype._root_extra_style = function(el){\n",
       "    var fig = this\n",
       "    el.on(\"remove\", function(){\n",
       "\tfig.close_ws(fig, {});\n",
       "    });\n",
       "}\n",
       "\n",
       "mpl.figure.prototype._canvas_extra_style = function(el){\n",
       "    // this is important to make the div 'focusable\n",
       "    el.attr('tabindex', 0)\n",
       "    // reach out to IPython and tell the keyboard manager to turn it's self\n",
       "    // off when our div gets focus\n",
       "\n",
       "    // location in version 3\n",
       "    if (IPython.notebook.keyboard_manager) {\n",
       "        IPython.notebook.keyboard_manager.register_events(el);\n",
       "    }\n",
       "    else {\n",
       "        // location in version 2\n",
       "        IPython.keyboard_manager.register_events(el);\n",
       "    }\n",
       "\n",
       "}\n",
       "\n",
       "mpl.figure.prototype._key_event_extra = function(event, name) {\n",
       "    var manager = IPython.notebook.keyboard_manager;\n",
       "    if (!manager)\n",
       "        manager = IPython.keyboard_manager;\n",
       "\n",
       "    // Check for shift+enter\n",
       "    if (event.shiftKey && event.which == 13) {\n",
       "        this.canvas_div.blur();\n",
       "        event.shiftKey = false;\n",
       "        // Send a \"J\" for go to next cell\n",
       "        event.which = 74;\n",
       "        event.keyCode = 74;\n",
       "        manager.command_mode();\n",
       "        manager.handle_keydown(event);\n",
       "    }\n",
       "}\n",
       "\n",
       "mpl.figure.prototype.handle_save = function(fig, msg) {\n",
       "    fig.ondownload(fig, null);\n",
       "}\n",
       "\n",
       "\n",
       "mpl.find_output_cell = function(html_output) {\n",
       "    // Return the cell and output element which can be found *uniquely* in the notebook.\n",
       "    // Note - this is a bit hacky, but it is done because the \"notebook_saving.Notebook\"\n",
       "    // IPython event is triggered only after the cells have been serialised, which for\n",
       "    // our purposes (turning an active figure into a static one), is too late.\n",
       "    var cells = IPython.notebook.get_cells();\n",
       "    var ncells = cells.length;\n",
       "    for (var i=0; i<ncells; i++) {\n",
       "        var cell = cells[i];\n",
       "        if (cell.cell_type === 'code'){\n",
       "            for (var j=0; j<cell.output_area.outputs.length; j++) {\n",
       "                var data = cell.output_area.outputs[j];\n",
       "                if (data.data) {\n",
       "                    // IPython >= 3 moved mimebundle to data attribute of output\n",
       "                    data = data.data;\n",
       "                }\n",
       "                if (data['text/html'] == html_output) {\n",
       "                    return [cell, data, j];\n",
       "                }\n",
       "            }\n",
       "        }\n",
       "    }\n",
       "}\n",
       "\n",
       "// Register the function which deals with the matplotlib target/channel.\n",
       "// The kernel may be null if the page has been refreshed.\n",
       "if (IPython.notebook.kernel != null) {\n",
       "    IPython.notebook.kernel.comm_manager.register_target('matplotlib', mpl.mpl_figure_comm);\n",
       "}\n"
      ],
      "text/plain": [
       "<IPython.core.display.Javascript object>"
      ]
     },
     "metadata": {},
     "output_type": "display_data"
    },
    {
     "data": {
      "text/html": [
       "<img src=\"data:image/png;base64,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\" width=\"1200\">"
      ],
      "text/plain": [
       "<IPython.core.display.HTML object>"
      ]
     },
     "metadata": {},
     "output_type": "display_data"
    },
    {
     "data": {
      "text/latex": [
       "$G(\\vec{x}) = G_{\\begin{bmatrix}{[(0, 64), (0, 64)]} \\cr {[(0, 64), (32, 96)]} \\cr {[(0, 64), (64, 128)]}\\end{bmatrix}} \\times \\vec{x}$"
      ],
      "text/plain": [
       "<IPython.core.display.Latex object>"
      ]
     },
     "metadata": {},
     "output_type": "display_data"
    },
    {
     "data": {
      "text/latex": [
       "$ \\nabla_xG(\\vec{x}) = G_{\\begin{bmatrix}{[(0, 64), (0, 64)]} \\cr {[(0, 64), (32, 96)]} \\cr {[(0, 64), (64, 128)]}\\end{bmatrix}}^H \\times \\vec{x}$"
      ],
      "text/plain": [
       "<IPython.core.display.Latex object>"
      ]
     },
     "metadata": {},
     "output_type": "display_data"
    }
   ],
   "source": [
    "crop_size = crop_size = (image_size[0], image_size[0])\n",
    "\n",
    "roi_list = [yp.Roi(crop_size, start=(0,0), input_shape=image_size),\n",
    "            yp.Roi(crop_size, start=(0,image_size[1] // 4), input_shape=image_size),\n",
    "            yp.Roi(crop_size, start=(0,image_size[1] // 2), input_shape=image_size)]\n",
    "\n",
    "# roi_list[0] -= 5\n",
    "\n",
    "# Create segmentation operatoe\n",
    "G = ops.Segmentation(roi_list, image_size, alpha_blend_size=0, backend=None)\n",
    "\n",
    "# Generate measurements\n",
    "y = G * x\n",
    "\n",
    "# Apply some mis-calibration to measurement\n",
    "y_list = ops.VecSplit(y, len(roi_list))\n",
    "\n",
    "# y_list[1] = yp.circshift(y_list[1], (3, -1))\n",
    "# y_list[1] *= 1.1\n",
    "# y_list[2] *= 0.9\n",
    "\n",
    "y = ops.VecStack(y_list)\n",
    "\n",
    "# Show figures\n",
    "plt.figure()\n",
    "plt.subplot(131)\n",
    "plt.imshow(yp.real(y))\n",
    "plt.title('Forward')\n",
    "plt.subplot(132)\n",
    "plt.imshow(yp.real(G.H * y))\n",
    "plt.title('Adjoint * Forward')\n",
    "plt.subplot(133)\n",
    "plt.imshow(yp.real(G.inv * y))\n",
    "plt.title('Inverse * Forward')\n",
    "\n",
    "# Perform gradient check\n",
    "G.gradient_check()\n",
    "\n",
    "# Show latex\n",
    "G.latex()\n",
    "\n",
    "# Show latex\n",
    "G.latex(gradient=True)"
   ]
  },
  {
   "cell_type": "markdown",
   "metadata": {},
   "source": [
    "## Registration Operator"
   ]
  },
  {
   "cell_type": "code",
   "execution_count": 63,
   "metadata": {
    "ExecuteTime": {
     "end_time": "2019-05-02T18:48:19.353138Z",
     "start_time": "2019-05-02T18:48:19.317712Z"
    }
   },
   "outputs": [
    {
     "data": {
      "text/latex": [
       "$A(\\vec{x}) = F^H \\times diag(F \\times x)\\times e^{-i2\\pi \\vec{k} \\vec{x}}$"
      ],
      "text/plain": [
       "<IPython.core.display.Latex object>"
      ]
     },
     "metadata": {},
     "output_type": "display_data"
    },
    {
     "data": {
      "text/latex": [
       "$ \\nabla_xA(\\vec{x}) = \\begin{bmatrix}\\sum_{axes=[0, 1]}  \\cr \\sum_{axes=[0, 1]} \\end{bmatrix} \\times diag(F \\times x)^H \\times F \\times \\vec{x}$"
      ],
      "text/plain": [
       "<IPython.core.display.Latex object>"
      ]
     },
     "metadata": {},
     "output_type": "display_data"
    }
   ],
   "source": [
    "# Define known shift\n",
    "known_shift = yp.asarray((3, 10))\n",
    "\n",
    "# Create registration operator\n",
    "R = ops.Registration(x, debug=False)\n",
    "\n",
    "# Check forward operation\n",
    "yp.assert_equality(R * yp.asarray(known_shift), yp.roll(x, known_shift))\n",
    "\n",
    "# Check inverse operation\n",
    "yp.assert_equality(R.inv * (R * yp.asarray(known_shift)), yp.asarray(known_shift))\n",
    "\n",
    "# Render latex\n",
    "R.latex()\n",
    "\n",
    "# Render gradient\n",
    "R.latex(gradient=True)"
   ]
  },
  {
   "cell_type": "markdown",
   "metadata": {},
   "source": [
    "# Operator Algebra"
   ]
  },
  {
   "cell_type": "markdown",
   "metadata": {},
   "source": [
    "## Inner Operators"
   ]
  },
  {
   "cell_type": "code",
   "execution_count": 64,
   "metadata": {
    "ExecuteTime": {
     "end_time": "2019-05-02T18:48:21.071829Z",
     "start_time": "2019-05-02T18:48:21.038703Z"
    }
   },
   "outputs": [
    {
     "data": {
      "text/latex": [
       "$d(\\vec{x}) = diag(e^{-i2\\pi \\vec{k} d})\\times \\vec{x}$"
      ],
      "text/plain": [
       "<IPython.core.display.Latex object>"
      ]
     },
     "metadata": {},
     "output_type": "display_data"
    },
    {
     "data": {
      "text/latex": [
       "$ \\nabla_xd(\\vec{x}) = diag(e^{-i2\\pi \\vec{k} d})^H \\times \\vec{x}$"
      ],
      "text/plain": [
       "<IPython.core.display.Latex object>"
      ]
     },
     "metadata": {},
     "output_type": "display_data"
    }
   ],
   "source": [
    "# Create phase ramp to diagonalize\n",
    "H = ops.PhaseRamp(image_size)\n",
    "s = yp.rand((2,1))\n",
    "\n",
    "# Create diagonalized phase ramp operator\n",
    "D = ops.Diagonalize(s, inside_operator=H)\n",
    "\n",
    "# Check that inside operator is set correctly\n",
    "assert yp.sum(yp.abs(D * x - ((H * s) * x))) == 0.0\n",
    "\n",
    "# Check gradient\n",
    "D.gradient_check()\n",
    "\n",
    "# Render Latex\n",
    "D.latex()\n",
    "\n",
    "# Render gradient\n",
    "D.latex(gradient=True)"
   ]
  },
  {
   "cell_type": "markdown",
   "metadata": {},
   "source": [
    "## Operator-Vector Sum"
   ]
  },
  {
   "cell_type": "code",
   "execution_count": 65,
   "metadata": {
    "ExecuteTime": {
     "end_time": "2019-05-02T18:48:21.940933Z",
     "start_time": "2019-05-02T18:48:21.900133Z"
    },
    "scrolled": false
   },
   "outputs": [
    {
     "data": {
      "text/latex": [
       "$A(\\vec{x}) = (C \\times \\vec{x} + \\vec{y} )$"
      ],
      "text/plain": [
       "<IPython.core.display.Latex object>"
      ]
     },
     "metadata": {},
     "output_type": "display_data"
    },
    {
     "data": {
      "text/latex": [
       "$ \\nabla_xA(\\vec{x}) = C^H \\times \\vec{x}$"
      ],
      "text/plain": [
       "<IPython.core.display.Latex object>"
      ]
     },
     "metadata": {},
     "output_type": "display_data"
    }
   ],
   "source": [
    "# Test sum operations here\n",
    "F = ops.FourierTransform(image_size, center=False)\n",
    "y = F * x\n",
    "A_s = A + y\n",
    "\n",
    "# Forward operator\n",
    "assert yp.sum(yp.abs(A_s * x - (A * x + y))) < eps\n",
    "\n",
    "# Adjoint\n",
    "assert yp.sum(yp.abs(A_s.H * x - A.H * x)) < eps\n",
    "\n",
    "# Gradient Numerical Check\n",
    "A.gradient_check()\n",
    "  \n",
    "# Render forward model\n",
    "A_s.latex()\n",
    "\n",
    "# Render gradient\n",
    "A_s.latex(gradient=True)"
   ]
  },
  {
   "cell_type": "markdown",
   "metadata": {},
   "source": [
    "# Operator Mechanics"
   ]
  },
  {
   "cell_type": "markdown",
   "metadata": {},
   "source": [
    "## Linearity Flag"
   ]
  },
  {
   "cell_type": "code",
   "execution_count": 66,
   "metadata": {
    "ExecuteTime": {
     "end_time": "2019-05-02T18:48:22.919021Z",
     "start_time": "2019-05-02T18:48:22.893755Z"
    }
   },
   "outputs": [],
   "source": [
    "F = ops.FourierTransform(image_size) # Linear Operator\n",
    "L2 = ops.L2Norm(image_size[0] * image_size[1]) # Non-linear operator\n",
    "\n",
    "assert F.linear\n",
    "assert not L2.linear\n",
    "assert not (L2 * F).linear\n",
    "assert (F + F).linear\n",
    "assert not (L2 * F + L2 * F).linear"
   ]
  },
  {
   "cell_type": "markdown",
   "metadata": {},
   "source": [
    "## Smoothness Flag"
   ]
  },
  {
   "cell_type": "code",
   "execution_count": 67,
   "metadata": {
    "ExecuteTime": {
     "end_time": "2019-05-02T18:48:23.605364Z",
     "start_time": "2019-05-02T18:48:23.579978Z"
    }
   },
   "outputs": [],
   "source": [
    "F = ops.FourierTransform(image_size) # Linear Operator\n",
    "L1 = ops.L1Norm(image_size) # Non-linear operator\n",
    "\n",
    "assert F.smooth\n",
    "assert not L1.smooth\n",
    "assert not (L1 * F).smooth\n",
    "assert (F + F).smooth\n",
    "assert not (L1 * F + L2 * F).smooth\n",
    "assert not (L1 * F + L1 * F).smooth"
   ]
  },
  {
   "cell_type": "markdown",
   "metadata": {},
   "source": [
    "## Operator Indexing (Suboperators)"
   ]
  },
  {
   "cell_type": "code",
   "execution_count": 68,
   "metadata": {
    "ExecuteTime": {
     "end_time": "2019-05-02T18:48:24.217838Z",
     "start_time": "2019-05-02T18:48:24.189379Z"
    }
   },
   "outputs": [
    {
     "data": {
      "text/latex": [
       "$A(\\vec{x}) = F^H \\times diag(\\vec{K})\\times F \\times \\vec{x}$"
      ],
      "text/plain": [
       "<IPython.core.display.Latex object>"
      ]
     },
     "metadata": {},
     "output_type": "display_data"
    },
    {
     "data": {
      "text/latex": [
       "$ \\nabla_xA(\\vec{x}) = F^H \\times diag(\\vec{K})^H \\times F \\times \\vec{x}$"
      ],
      "text/plain": [
       "<IPython.core.display.Latex object>"
      ]
     },
     "metadata": {},
     "output_type": "display_data"
    }
   ],
   "source": [
    "K = ops.Diagonalize(h, label='K')\n",
    "K_2 = ops.Diagonalize(h, label='Q')\n",
    "F = ops.FourierTransform(image_size)\n",
    "\n",
    "A = F.H * K * F\n",
    "A.label = 'A'\n",
    "\n",
    "A.suboperators[1].argument = yp.ones(h.shape)\n",
    "\n",
    "# Render forward model\n",
    "A.latex()\n",
    "\n",
    "# Render gradient\n",
    "A.latex(gradient=True)"
   ]
  },
  {
   "cell_type": "markdown",
   "metadata": {},
   "source": [
    "# Condition Number Calculation\n",
    "The condition number of a matrix product $AB$ is bounded by the following relation:\n",
    "$$\\kappa\\{AB\\} \\geq \\kappa\\{B\\}\\kappa\\{B\\}$$\n",
    "\n",
    "Unless either $A$ or $B$ is unitary ($\\kappa\\{\\cdot\\}=1$), we cannot know the condition number exactly since the spectrum basis (eigenvectors) are not common between these two matricies. In the future, we could store the whole spectrum and check this, but this would be complicated to implement."
   ]
  },
  {
   "cell_type": "code",
   "execution_count": 69,
   "metadata": {
    "ExecuteTime": {
     "end_time": "2019-05-02T18:48:24.983571Z",
     "start_time": "2019-05-02T18:48:24.953437Z"
    }
   },
   "outputs": [],
   "source": [
    "# Unitary Matrix\n",
    "F = ops.FourierTransform(image_size)\n",
    "assert F.condition_number == 1\n",
    "assert not F.condition_number_is_upper_bound\n",
    "\n",
    "# Matrix with a condition number\n",
    "hh = yp.changeBackend((np.random.rand(image_size[0], image_size[1]) + 0.1).astype(np.complex64), global_backend)\n",
    "D = ops.Diagonalize(hh) \n",
    "assert not D.condition_number_is_upper_bound\n",
    "\n",
    "# Product of two unitary matricies\n",
    "assert (F * F).condition_number == 1\n",
    "# assert not (F * F).condition_number_is_upper_bound\n",
    "\n",
    "# Product of one unitary and one non-singular matrix\n",
    "assert (F * D).condition_number == D.condition_number\n",
    "# assert not (F * D).condition_number_is_upper_bound # because one matrix is unitary, this condition number is NOT an upper bound. This can be checked numerically.\n",
    "\n",
    "# Product of two non-singular matricies.\n",
    "hh_2 = yp.changeBackend((np.random.rand(image_size[0], image_size[1]) + 0.1).astype(np.complex64), global_backend)\n",
    "D2 = ops.Diagonalize(hh_2) \n",
    "assert (D * D2).condition_number >= D.condition_number\n",
    "# assert not (D * D2).condition_number_is_upper_bound\n",
    "\n",
    "# Product of two diagonal matricies seperated by a F.T.\n",
    "assert (D * F * D2).condition_number >= D.condition_number\n",
    "assert (D * F * D2).condition_number_is_upper_bound"
   ]
  },
  {
   "cell_type": "markdown",
   "metadata": {},
   "source": [
    "## Check if an Operator is the Inverse of another operator"
   ]
  },
  {
   "cell_type": "code",
   "execution_count": 70,
   "metadata": {
    "ExecuteTime": {
     "end_time": "2019-05-02T18:48:25.626386Z",
     "start_time": "2019-05-02T18:48:25.600629Z"
    }
   },
   "outputs": [
    {
     "name": "stdout",
     "output_type": "stream",
     "text": [
      "True\n",
      "True\n"
     ]
    }
   ],
   "source": [
    "F = ops.FourierTransform(h.shape)\n",
    "F = ops.FourierTransform(h.shape)\n",
    "print(F.isAdjointOf(F.H))\n",
    "print((F.isInverseOf(F.H)))"
   ]
  },
  {
   "cell_type": "markdown",
   "metadata": {},
   "source": [
    "## Removal of Inverses and Redundant Products"
   ]
  },
  {
   "cell_type": "code",
   "execution_count": 71,
   "metadata": {
    "ExecuteTime": {
     "end_time": "2019-05-02T18:48:26.588277Z",
     "start_time": "2019-05-02T18:48:26.560957Z"
    }
   },
   "outputs": [],
   "source": [
    "F = ops.FourierTransform(image_size)\n",
    "D = ops.Diagonalize(h)\n",
    "L2 = ops.L2Norm(h.shape)\n",
    "I = ops.Identity(image_size)\n",
    "y = F * x\n",
    "\n",
    "# Simple introspection\n",
    "A = F.H * F\n",
    "assert 'Identity' in str(A)\n",
    "\n",
    "# Introspection with extra operators on right\n",
    "A = F.H * F * D\n",
    "assert 'Fourier' not in str(A)\n",
    "\n",
    "# Introspection with extra operators on left\n",
    "A = D * F.H * F\n",
    "assert 'Fourier' not in str(A)\n",
    "\n",
    "# Introspection wiht several opposites\n",
    "A = F.H * F * D * F.H * F\n",
    "assert 'Fourier' not in str(A)"
   ]
  },
  {
   "cell_type": "markdown",
   "metadata": {},
   "source": [
    "# Inverses"
   ]
  },
  {
   "cell_type": "markdown",
   "metadata": {},
   "source": [
    "## Linear Inverses"
   ]
  },
  {
   "cell_type": "code",
   "execution_count": 72,
   "metadata": {
    "ExecuteTime": {
     "end_time": "2019-05-02T18:48:27.731681Z",
     "start_time": "2019-05-02T18:48:27.697546Z"
    }
   },
   "outputs": [],
   "source": [
    "# Fourier Transform\n",
    "A = ops.FourierTransform(x.shape)\n",
    "assert yp.sum(yp.abs(A.inv * A * x - x)) < 1e-3\n",
    "\n",
    "# Identity\n",
    "A = ops.Identity(x.shape)\n",
    "assert yp.sum(yp.abs(A.inv * A * x - x)) < 1e-3\n",
    "\n",
    "# Shift\n",
    "A = ops.Shift(x.shape, (10,10))\n",
    "assert yp.sum(yp.abs(A.inv * A * x - x)) < 1e-3\n",
    "\n",
    "# Convolution (explicit)\n",
    "F = ops.FourierTransform(h.shape)\n",
    "A = F.H * ops.Diagonalize((F * h), inverse_regularizer=1e-10) * F\n",
    "assert yp.sum(yp.abs(A.inv * A * x - x)) < 1\n",
    "\n",
    "# Convolution (implicit)\n",
    "A = ops.Convolution(h, inverse_regularizer=0)\n",
    "assert yp.sum(yp.abs(A.inv * A * x - x)) < 1e-3"
   ]
  },
  {
   "cell_type": "markdown",
   "metadata": {},
   "source": [
    "# Gradients"
   ]
  },
  {
   "cell_type": "markdown",
   "metadata": {},
   "source": [
    "## Gradients of Linear Operators\n",
    "We'll assume that if the adjoint is provided, the gradient operator is just the adjoint operating on the input (x), or current iterate. This allows us to specify either the adjoint (linear operator) OR the gradient (non-linear operator) for each operator, and the rest will be handled by the metaclass."
   ]
  },
  {
   "cell_type": "code",
   "execution_count": 73,
   "metadata": {
    "ExecuteTime": {
     "end_time": "2019-05-02T18:48:29.051072Z",
     "start_time": "2019-05-02T18:48:29.020836Z"
    },
    "scrolled": false
   },
   "outputs": [
    {
     "data": {
      "text/latex": [
       "$F(\\vec{x}) = F \\times \\vec{x}$"
      ],
      "text/plain": [
       "<IPython.core.display.Latex object>"
      ]
     },
     "metadata": {},
     "output_type": "display_data"
    },
    {
     "data": {
      "text/latex": [
       "$ \\nabla_xF(\\vec{x}) = F^H \\times \\vec{x}$"
      ],
      "text/plain": [
       "<IPython.core.display.Latex object>"
      ]
     },
     "metadata": {},
     "output_type": "display_data"
    }
   ],
   "source": [
    "# Simple test case (linear operator)\n",
    "A = ops.FourierTransform(image_size)\n",
    "\n",
    "# Check validity of gradient operator (and several short-hand pass-through functions)\n",
    "A.gradient_check()\n",
    "\n",
    "# Render forward model\n",
    "A.latex()\n",
    "\n",
    "# Render gradient\n",
    "A.latex(gradient=True)"
   ]
  },
  {
   "cell_type": "markdown",
   "metadata": {},
   "source": [
    "## Chained Linear Gradients"
   ]
  },
  {
   "cell_type": "code",
   "execution_count": 74,
   "metadata": {
    "ExecuteTime": {
     "end_time": "2019-05-02T18:48:29.857002Z",
     "start_time": "2019-05-02T18:48:29.823908Z"
    },
    "scrolled": false
   },
   "outputs": [
    {
     "data": {
      "text/latex": [
       "$A(\\vec{x}) = F^H \\times diag(\\vec{d})\\times F \\times \\vec{x}$"
      ],
      "text/plain": [
       "<IPython.core.display.Latex object>"
      ]
     },
     "metadata": {},
     "output_type": "display_data"
    },
    {
     "data": {
      "text/latex": [
       "$ \\nabla_xA(\\vec{x}) = F^H \\times diag(\\vec{d})^H \\times F \\times \\vec{x}$"
      ],
      "text/plain": [
       "<IPython.core.display.Latex object>"
      ]
     },
     "metadata": {},
     "output_type": "display_data"
    }
   ],
   "source": [
    "# Chained linear operators\n",
    "F = ops.FourierTransform(image_size)\n",
    "D = ops.Diagonalize(yp.asbackend(h, global_backend))\n",
    "A = F.H * D * F\n",
    "A.label = 'A'\n",
    "\n",
    "# Check gradient numerically\n",
    "A.gradient_check()\n",
    "\n",
    "# Render forward model\n",
    "A.latex()\n",
    "\n",
    "# Render gradient\n",
    "A.latex(gradient=True)"
   ]
  },
  {
   "cell_type": "markdown",
   "metadata": {},
   "source": [
    "## Chained Nonlinear Gradients"
   ]
  },
  {
   "cell_type": "markdown",
   "metadata": {},
   "source": [
    "### Inner convolution (linear) operator with outer L2 Norm (non-linear) operator"
   ]
  },
  {
   "cell_type": "code",
   "execution_count": 75,
   "metadata": {
    "ExecuteTime": {
     "end_time": "2019-05-02T18:48:31.058012Z",
     "start_time": "2019-05-02T18:48:31.021528Z"
    },
    "scrolled": false
   },
   "outputs": [
    {
     "data": {
      "text/latex": [
       "$A(\\vec{x}) = \\frac{1}{2} ||F^H \\times diag(\\vec{d})\\times F \\times \\vec{x}||_2^2$"
      ],
      "text/plain": [
       "<IPython.core.display.Latex object>"
      ]
     },
     "metadata": {},
     "output_type": "display_data"
    },
    {
     "data": {
      "text/latex": [
       "$ \\nabla_xA(\\vec{x}) = F^H \\times diag(\\vec{d})^H \\times F \\times F^H \\times diag(\\vec{d})\\times F \\times \\vec{x}$"
      ],
      "text/plain": [
       "<IPython.core.display.Latex object>"
      ]
     },
     "metadata": {},
     "output_type": "display_data"
    }
   ],
   "source": [
    "# Inner convolution (linear) operator with outer L2 Norm (non-linear) operator\n",
    "L2 = ops.L2Norm(image_size)\n",
    "F = ops.FourierTransform(image_size)\n",
    "D = ops.Diagonalize(h)\n",
    "A_linear = F.H * D * F\n",
    "# A_linear.label = 'A_{linear}'\n",
    "A = L2 * A_linear\n",
    "\n",
    "# Check forward operator\n",
    "assert np.all(yp.abs(A * x - 0.5 * yp.norm(A_linear * x) ** 2) < eps)\n",
    "\n",
    "# Check gradient operator\n",
    "A.gradient_check()\n",
    "\n",
    "# Render forward model\n",
    "A.latex()\n",
    "\n",
    "# Render gradient\n",
    "A.latex(gradient=True)"
   ]
  },
  {
   "cell_type": "markdown",
   "metadata": {},
   "source": [
    "### Inner convolution and vector subtraction (linear) operator with outer L2 Norm (non-linear) operator"
   ]
  },
  {
   "cell_type": "code",
   "execution_count": 76,
   "metadata": {
    "ExecuteTime": {
     "end_time": "2019-05-02T18:48:31.920575Z",
     "start_time": "2019-05-02T18:48:31.882500Z"
    },
    "scrolled": false
   },
   "outputs": [
    {
     "data": {
      "text/latex": [
       "$A(\\vec{x}) = \\frac{1}{2} ||(F^H \\times diag(\\vec{d})\\times F \\times \\vec{x} - \\vec{y} )||_2^2$"
      ],
      "text/plain": [
       "<IPython.core.display.Latex object>"
      ]
     },
     "metadata": {},
     "output_type": "display_data"
    },
    {
     "data": {
      "text/latex": [
       "$ \\nabla_xA(\\vec{x}) = F^H \\times diag(\\vec{d})^H \\times F \\times (F^H \\times diag(\\vec{d})\\times F \\times \\vec{x} - \\vec{y} )$"
      ],
      "text/plain": [
       "<IPython.core.display.Latex object>"
      ]
     },
     "metadata": {},
     "output_type": "display_data"
    }
   ],
   "source": [
    "L2 = ops.L2Norm(image_size)\n",
    "F = ops.FourierTransform(image_size)\n",
    "D = ops.Diagonalize(h)\n",
    "A = F.H * D * F\n",
    "\n",
    "# Data difference function\n",
    "Delta = (A - y)\n",
    "\n",
    "# Objective Function\n",
    "O = L2 * Delta\n",
    "\n",
    "# Check forward operator\n",
    "assert np.all(yp.abs(O * x - 0.5 * yp.norm(Delta * x) ** 2) < eps)\n",
    "\n",
    "# Check gradient operator (adjoint form)\n",
    "O.gradient_check()\n",
    "\n",
    "# Render forward model\n",
    "O.latex()\n",
    "\n",
    "# Render gradient\n",
    "O.latex(gradient=True)"
   ]
  },
  {
   "cell_type": "markdown",
   "metadata": {},
   "source": [
    "### Inner non-linear operator, linear operator in middle, and norm on outside"
   ]
  },
  {
   "cell_type": "code",
   "execution_count": 77,
   "metadata": {
    "ExecuteTime": {
     "end_time": "2019-05-02T18:48:33.695009Z",
     "start_time": "2019-05-02T18:48:33.654550Z"
    },
    "scrolled": false
   },
   "outputs": [
    {
     "data": {
      "text/latex": [
       "$A(\\vec{x}) = \\frac{1}{2} ||(F^H \\times diag(\\vec{object})\\times e^{-i2\\pi \\vec{k} \\vec{x}} - \\vec{y} )||_2^2$"
      ],
      "text/plain": [
       "<IPython.core.display.Latex object>"
      ]
     },
     "metadata": {},
     "output_type": "display_data"
    },
    {
     "data": {
      "text/latex": [
       "$ \\nabla_xA(\\vec{x}) = \\begin{bmatrix}\\sum_{axes=[0, 1]}  \\cr \\sum_{axes=[0, 1]} \\end{bmatrix} \\times diag(\\vec{object})^H \\times F \\times (F^H \\times diag(\\vec{object})\\times e^{-i2\\pi \\vec{k} \\vec{x}} - \\vec{y} )$"
      ],
      "text/plain": [
       "<IPython.core.display.Latex object>"
      ]
     },
     "metadata": {},
     "output_type": "display_data"
    }
   ],
   "source": [
    "phase_ramp_dtype = 'complex32'\n",
    "x_long = yp.astype(x, phase_ramp_dtype)\n",
    "\n",
    "# Inner non-linear operator, linear operator in middle, and norm on outside\n",
    "shift_true = yp.changeBackend(np.asarray((-5,3)).astype(yp.getNativeDatatype(phase_ramp_dtype, 'numpy')), global_backend)\n",
    "\n",
    "# Inner non-linear operator, linear operator in middle, and norm on outside\n",
    "F = ops.FourierTransform(image_size, dtype=phase_ramp_dtype, backend=global_backend)\n",
    "D_object = ops.Diagonalize(F * x_long, label='object', dtype=phase_ramp_dtype, backend=global_backend)\n",
    "R = ops.PhaseRamp(image_size, dtype=phase_ramp_dtype, backend=global_backend)\n",
    "A_shift = F.H * D_object * R\n",
    "\n",
    "y1 = A_shift(shift_true)\n",
    "L2 = ops.L2Norm(image_size, dtype=phase_ramp_dtype, backend=global_backend)\n",
    "objective = L2 * (A_shift - y1)\n",
    "\n",
    "# Check gradient\n",
    "objective.gradient_check()\n",
    "\n",
    "# Render forward model\n",
    "objective.latex()\n",
    "\n",
    "# Render gradient\n",
    "objective.latex(gradient=True)"
   ]
  },
  {
   "cell_type": "markdown",
   "metadata": {},
   "source": [
    "## Sum of Phase Ramps"
   ]
  },
  {
   "cell_type": "code",
   "execution_count": 78,
   "metadata": {
    "ExecuteTime": {
     "end_time": "2019-05-02T18:48:34.748873Z",
     "start_time": "2019-05-02T18:48:34.696298Z"
    },
    "scrolled": false
   },
   "outputs": [
    {
     "data": {
      "text/latex": [
       "$A(\\vec{x}) = \\frac{1}{2} ||(F^H \\times diag(\\vec{D_{object}})\\times \\begin{bmatrix}e^{-i2\\pi \\vec{k} [\\cdot ]} & e^{-i2\\pi \\vec{k} [\\cdot ]} & e^{-i2\\pi \\vec{k} [\\cdot ]}\\end{bmatrix} \\times \\vec{x} - \\vec{y} )||_2^2$"
      ],
      "text/plain": [
       "<IPython.core.display.Latex object>"
      ]
     },
     "metadata": {},
     "output_type": "display_data"
    },
    {
     "data": {
      "text/latex": [
       "$ \\nabla_xA(\\vec{x}) = \\begin{bmatrix}\\begin{bmatrix}\\sum_{axes=[0, 1]}  \\cr \\sum_{axes=[0, 1]} \\end{bmatrix} \\cr \\begin{bmatrix}\\sum_{axes=[0, 1]}  \\cr \\sum_{axes=[0, 1]} \\end{bmatrix} \\cr \\begin{bmatrix}\\sum_{axes=[0, 1]}  \\cr \\sum_{axes=[0, 1]} \\end{bmatrix}\\end{bmatrix} \\times diag(\\vec{D_{object}})^H \\times F \\times (F^H \\times diag(\\vec{D_{object}})\\times \\begin{bmatrix}e^{-i2\\pi \\vec{k} [\\cdot ]} & e^{-i2\\pi \\vec{k} [\\cdot ]} & e^{-i2\\pi \\vec{k} [\\cdot ]}\\end{bmatrix} \\times \\vec{x} - \\vec{y} )$"
      ],
      "text/plain": [
       "<IPython.core.display.Latex object>"
      ]
     },
     "metadata": {},
     "output_type": "display_data"
    }
   ],
   "source": [
    "phase_ramp_dtype = 'complex32'\n",
    "x_long = yp.astype(x, phase_ramp_dtype)\n",
    "\n",
    "# Inner non-linear operator, linear operator in middle, and norm on outside\n",
    "shift_true = yp.changeBackend(np.asarray((-5,3)).astype(yp.getNativeDatatype(phase_ramp_dtype, 'numpy')), global_backend)\n",
    "\n",
    "# Inner non-linear operator, linear operator in middle, and norm on outside\n",
    "F = ops.FourierTransform(image_size, dtype=phase_ramp_dtype, backend=global_backend)\n",
    "D_object = ops.Diagonalize(yp.reshape(F * vec(x_long), image_size), label='D_{object}', dtype=phase_ramp_dtype, backend=global_backend)\n",
    "R = ops.PhaseRamp(image_size, dtype=phase_ramp_dtype, backend=global_backend)\n",
    "H = ops.Hstack((R, R, R))\n",
    "A_shift = F.H * D_object * H\n",
    "\n",
    "xx = yp.changeBackend(np.hstack((np.asarray(shift_true), np.asarray(shift_true), np.asarray(shift_true))), global_backend)\n",
    "y_sum = A_shift * yp.changeBackend(np.hstack((np.asarray(shift_true), np.asarray(shift_true), np.asarray(shift_true))), global_backend)\n",
    "L2 = ops.L2Norm(image_size, dtype=phase_ramp_dtype, backend=global_backend)\n",
    "objective = L2 * (A_shift - y_sum)\n",
    "\n",
    "# Check gradient\n",
    "objective.gradient_check()\n",
    "\n",
    "# Render forward model\n",
    "objective.latex()\n",
    "\n",
    "# Render gradient\n",
    "objective.latex(gradient=True)"
   ]
  },
  {
   "cell_type": "markdown",
   "metadata": {},
   "source": [
    "### Scaling a Norm"
   ]
  },
  {
   "cell_type": "code",
   "execution_count": 79,
   "metadata": {
    "ExecuteTime": {
     "end_time": "2019-05-02T18:48:35.906463Z",
     "start_time": "2019-05-02T18:48:35.876073Z"
    },
    "scrolled": false
   },
   "outputs": [
    {
     "data": {
      "text/latex": [
       "$A(\\vec{x}) = 0.1 \\times \\frac{1}{2} ||F \\times \\vec{x}||_2^2$"
      ],
      "text/plain": [
       "<IPython.core.display.Latex object>"
      ]
     },
     "metadata": {},
     "output_type": "display_data"
    },
    {
     "data": {
      "text/latex": [
       "$ \\nabla_xA(\\vec{x}) = 0.1 \\times I \\times \\vec{x}$"
      ],
      "text/plain": [
       "<IPython.core.display.Latex object>"
      ]
     },
     "metadata": {},
     "output_type": "display_data"
    }
   ],
   "source": [
    "L2 = ops.L2Norm(image_size, dtype=global_dtype)\n",
    "F = ops.FourierTransform(image_size, dtype=global_dtype, axes=(0, 1))\n",
    "D = ops.Diagonalize(h, dtype=global_dtype)\n",
    "\n",
    "O_2 = L2 * F\n",
    "O = 0.1 * O_2\n",
    "\n",
    "# Check gradient operator (adjoint form)\n",
    "O.gradient_check()\n",
    "\n",
    "# Render forward model\n",
    "O.latex()\n",
    "\n",
    "# Render gradient\n",
    "O.latex(gradient=True)"
   ]
  },
  {
   "cell_type": "markdown",
   "metadata": {},
   "source": [
    "### Sum of Norms (E.g. regularization)"
   ]
  },
  {
   "cell_type": "code",
   "execution_count": 80,
   "metadata": {
    "ExecuteTime": {
     "end_time": "2019-05-02T18:48:36.740063Z",
     "start_time": "2019-05-02T18:48:36.698196Z"
    },
    "scrolled": false
   },
   "outputs": [
    {
     "data": {
      "text/latex": [
       "$A(\\vec{x}) = 0.001 \\times \\frac{1}{2} ||F \\times \\vec{x}||_2^2 + \\frac{1}{2} ||(F^H \\times diag(\\vec{d})\\times F \\times \\vec{x} - \\vec{y} )||_2^2$"
      ],
      "text/plain": [
       "<IPython.core.display.Latex object>"
      ]
     },
     "metadata": {},
     "output_type": "display_data"
    },
    {
     "data": {
      "text/latex": [
       "$ \\nabla_xA(\\vec{x}) = \\begin{bmatrix}I^H & I^H\\end{bmatrix} \\times \\begin{bmatrix}F^H \\times 0.001 \\times F \\cr F^H \\times diag(\\vec{d})^H \\times F \\times (F^H \\times diag(\\vec{d})\\times F - \\vec{y} )\\end{bmatrix} \\times \\vec{x}$"
      ],
      "text/plain": [
       "<IPython.core.display.Latex object>"
      ]
     },
     "metadata": {},
     "output_type": "display_data"
    }
   ],
   "source": [
    "L2 = ops.L2Norm(image_size)\n",
    "F = ops.FourierTransform(image_size)\n",
    "D = ops.Diagonalize(h)\n",
    "\n",
    "O_1 = L2 * ((F.H * D * F) - y)\n",
    "O_2 = 1e-3 * L2 * F\n",
    "O = O_2 + O_1\n",
    "\n",
    "# Check gradient operator (adjoint form)\n",
    "O.gradient_check()\n",
    "\n",
    "# Render forward model\n",
    "O.latex()\n",
    "\n",
    "# Render gradient\n",
    "O.latex(gradient=True)"
   ]
  },
  {
   "cell_type": "markdown",
   "metadata": {},
   "source": [
    "# Stacking Operators\n",
    "\n",
    "Stacking operators are tricky - they need to take or return a VectorStack class, which is simply a container for images of different sizes to be operated on independently.\n",
    "\n",
    "Hstack - operates on a vectorstack (or vector) class, returns a vector\n",
    "\n",
    "Vstack - operates on a vector, returns a vectorstack class\n",
    "\n",
    "Diagstack - operates on a vectorstack, returns a vectorstack"
   ]
  },
  {
   "cell_type": "code",
   "execution_count": 81,
   "metadata": {
    "ExecuteTime": {
     "end_time": "2019-05-02T18:48:37.633142Z",
     "start_time": "2019-05-02T18:48:37.609527Z"
    },
    "scrolled": false
   },
   "outputs": [],
   "source": [
    "# Create list of operators\n",
    "op_list_nonlinear = [\n",
    "            ops.FourierTransform(image_size),\n",
    "            ops.Identity(image_size),\n",
    "            ops.Exponential(image_size)\n",
    "]\n",
    "\n",
    "op_list_linear = [\n",
    "            ops.FourierTransform(image_size),\n",
    "            ops.Identity(image_size),\n",
    "            ops.Diagonalize(h)\n",
    "]"
   ]
  },
  {
   "cell_type": "markdown",
   "metadata": {},
   "source": [
    "## Horizontal Stacking"
   ]
  },
  {
   "cell_type": "markdown",
   "metadata": {},
   "source": [
    "### Linear Stacking"
   ]
  },
  {
   "cell_type": "code",
   "execution_count": 82,
   "metadata": {
    "ExecuteTime": {
     "end_time": "2019-05-02T18:48:38.949721Z",
     "start_time": "2019-05-02T18:48:38.914382Z"
    },
    "scrolled": false
   },
   "outputs": [
    {
     "data": {
      "text/latex": [
       "$O_{1 \\times 3}(\\vec{x}) = \\begin{bmatrix}F & I & diag(\\vec{d})\\end{bmatrix} \\times \\vec{x}$"
      ],
      "text/plain": [
       "<IPython.core.display.Latex object>"
      ]
     },
     "metadata": {},
     "output_type": "display_data"
    },
    {
     "data": {
      "text/latex": [
       "$ \\nabla_xO_{1 \\times 3}(\\vec{x}) = \\begin{bmatrix}F^H \\cr I^H \\cr diag(\\vec{d})^H\\end{bmatrix} \\times \\vec{x}$"
      ],
      "text/plain": [
       "<IPython.core.display.Latex object>"
      ]
     },
     "metadata": {},
     "output_type": "display_data"
    }
   ],
   "source": [
    "# Horizontally stacked operators\n",
    "H_l = ops.Hstack(op_list_linear)\n",
    "\n",
    "# Vertically stack x for forward operator\n",
    "x_np = yp.changeBackend(x, 'numpy')\n",
    "x3 = yp.changeBackend(np.vstack((x_np,x_np, x_np)), global_backend)\n",
    "\n",
    "# Check forward operation\n",
    "y2 = yp.zeros(op_list_linear[0].N, op_list_linear[0].dtype, op_list_linear[0].backend)\n",
    "\n",
    "for op in op_list_linear:\n",
    "    y2 = y2 + op * x\n",
    "\n",
    "# Check equality\n",
    "yp.assert_equality(H_l(x3), y2)\n",
    "\n",
    "# Check gradient\n",
    "H_l.gradient_check()\n",
    "\n",
    "# Render forward model\n",
    "H_l.latex()\n",
    "\n",
    "# Render gradient\n",
    "H_l.latex(gradient=True)"
   ]
  },
  {
   "cell_type": "markdown",
   "metadata": {},
   "source": [
    "### Non-linear operators"
   ]
  },
  {
   "cell_type": "code",
   "execution_count": 83,
   "metadata": {
    "ExecuteTime": {
     "end_time": "2019-05-02T18:48:40.063606Z",
     "start_time": "2019-05-02T18:48:40.027342Z"
    },
    "scrolled": false
   },
   "outputs": [
    {
     "data": {
      "text/latex": [
       "$O_{1 \\times 3}(\\vec{x}) = \\begin{bmatrix}F & I & e^{ [\\cdot] }\\end{bmatrix} \\times \\vec{x}$"
      ],
      "text/plain": [
       "<IPython.core.display.Latex object>"
      ]
     },
     "metadata": {},
     "output_type": "display_data"
    },
    {
     "data": {
      "text/latex": [
       "$ \\nabla_xO_{1 \\times 3}(\\vec{x}) = \\begin{bmatrix}F^H \\cr I^H \\cr diag(\\vec{D_{e^x}})\\end{bmatrix} \\times \\vec{x}$"
      ],
      "text/plain": [
       "<IPython.core.display.Latex object>"
      ]
     },
     "metadata": {},
     "output_type": "display_data"
    }
   ],
   "source": [
    "# Horizontally stacked operators\n",
    "H_nl = ops.Hstack(op_list_nonlinear)\n",
    "\n",
    "# Vertically stack x for forward operator\n",
    "x3 = yp.changeBackend(np.vstack((x, x, x)), global_backend)\n",
    "\n",
    "# Check forward operation\n",
    "y2 = yp.zeros(op_list_nonlinear[0].shape[0], op_list_nonlinear[0].dtype, op_list_nonlinear[0].backend)\n",
    "for op in op_list_nonlinear:\n",
    "    y2 += op * x\n",
    "    \n",
    "assert yp.sum(yp.abs(H_nl(x3) - y2)) < eps, \"%.4e\" % yp.sum(yp.abs(H_nl(x3)) - y2)\n",
    "\n",
    "# Check gradient\n",
    "H_nl.gradient_check()\n",
    "\n",
    "# Render forward model\n",
    "H_nl.latex()\n",
    "\n",
    "# Render gradient\n",
    "H_nl.latex(gradient=True)"
   ]
  },
  {
   "cell_type": "markdown",
   "metadata": {},
   "source": [
    "## Vertical Stacking"
   ]
  },
  {
   "cell_type": "markdown",
   "metadata": {},
   "source": [
    "### Linear Operators"
   ]
  },
  {
   "cell_type": "code",
   "execution_count": 84,
   "metadata": {
    "ExecuteTime": {
     "end_time": "2019-05-02T18:48:41.772808Z",
     "start_time": "2019-05-02T18:48:41.737771Z"
    },
    "scrolled": false
   },
   "outputs": [
    {
     "data": {
      "text/latex": [
       "$O_{3 \\times 1}(\\vec{x}) = \\begin{bmatrix}F \\cr I \\cr diag(\\vec{d})\\end{bmatrix} \\times \\vec{x}$"
      ],
      "text/plain": [
       "<IPython.core.display.Latex object>"
      ]
     },
     "metadata": {},
     "output_type": "display_data"
    },
    {
     "data": {
      "text/latex": [
       "$ \\nabla_xO_{3 \\times 1}(\\vec{x}) = \\begin{bmatrix}F^H & I^H & diag(\\vec{d})^H\\end{bmatrix} \\times \\vec{x}$"
      ],
      "text/plain": [
       "<IPython.core.display.Latex object>"
      ]
     },
     "metadata": {},
     "output_type": "display_data"
    }
   ],
   "source": [
    "# Create vertically stacked operator\n",
    "V_l = ops.Vstack(op_list_linear)\n",
    "\n",
    "# Check forward operator\n",
    "y3 = np.empty((0,image_size[1]), dtype=yp.getNativeDatatype(global_dtype, 'numpy'))\n",
    "for index, op in enumerate(op_list_linear):\n",
    "    y3 = np.append(y3, (op * x), axis=0)\n",
    "    \n",
    "y3 = yp.changeBackend(y3, global_backend)\n",
    "assert yp.sum(yp.abs(V_l * x - y3)) < eps, \"%.4e\" % yp.sum(yp.abs(V_l * vec(x) - y3))\n",
    "\n",
    "# Check gradient\n",
    "V_l.gradient_check()\n",
    "\n",
    "# Render forward model\n",
    "V_l.latex()\n",
    "\n",
    "# Render gradient\n",
    "V_l.latex(gradient=True)"
   ]
  },
  {
   "cell_type": "markdown",
   "metadata": {},
   "source": [
    "### Nonlinear Operators"
   ]
  },
  {
   "cell_type": "code",
   "execution_count": 85,
   "metadata": {
    "ExecuteTime": {
     "end_time": "2019-05-02T18:48:43.548900Z",
     "start_time": "2019-05-02T18:48:43.504514Z"
    },
    "scrolled": false
   },
   "outputs": [
    {
     "data": {
      "text/latex": [
       "$O_{3 \\times 1}(\\vec{x}) = \\begin{bmatrix}F \\cr I \\cr e^{ [\\cdot] }\\end{bmatrix} \\times \\vec{x}$"
      ],
      "text/plain": [
       "<IPython.core.display.Latex object>"
      ]
     },
     "metadata": {},
     "output_type": "display_data"
    },
    {
     "data": {
      "text/latex": [
       "$ \\nabla_xO_{3 \\times 1}(\\vec{x}) = \\begin{bmatrix}F^H & I^H & diag(\\vec{D_{e^x}})\\end{bmatrix} \\times \\vec{x}$"
      ],
      "text/plain": [
       "<IPython.core.display.Latex object>"
      ]
     },
     "metadata": {},
     "output_type": "display_data"
    }
   ],
   "source": [
    "# Create list of operators\n",
    "op_list_nonlinear = [\n",
    "            ops.FourierTransform(image_size),\n",
    "            ops.Identity(image_size),\n",
    "            ops.Exponential(image_size)\n",
    "]\n",
    "\n",
    "# Create vertically stacked operator\n",
    "V_nl = ops.Vstack(op_list_nonlinear)\n",
    "\n",
    "# Check forward operator\n",
    "y3 = np.empty((0,image_size[1]), dtype=yp.getNativeDatatype(global_dtype, 'numpy'))\n",
    "for index, op in enumerate(op_list_nonlinear):\n",
    "    y3 = np.append(y3, (op * x), axis=0)\n",
    "    \n",
    "y3 = yp.changeBackend(y3, global_backend)\n",
    "\n",
    "yp.assert_equality(V_nl * x, y3)\n",
    "\n",
    "# Check gradient\n",
    "V_nl.gradient_check()\n",
    "\n",
    "# Render forward model\n",
    "V_nl.latex()\n",
    "\n",
    "# Render gradient\n",
    "V_nl.latex(gradient=True)"
   ]
  },
  {
   "cell_type": "markdown",
   "metadata": {},
   "source": [
    "## Diagonal Stacking"
   ]
  },
  {
   "cell_type": "markdown",
   "metadata": {},
   "source": [
    "### Linear Operators"
   ]
  },
  {
   "cell_type": "code",
   "execution_count": 87,
   "metadata": {
    "ExecuteTime": {
     "end_time": "2019-05-02T18:49:50.569988Z",
     "start_time": "2019-05-02T18:49:50.524043Z"
    },
    "scrolled": false
   },
   "outputs": [
    {
     "data": {
      "text/latex": [
       "$O_{3 \\times 3}(\\vec{x}) = \\begin{bmatrix}F & 0 & 0 \\cr  0 & I & 0 \\cr  0 &  0 & diag(\\vec{d}) \\cr \\end{bmatrix} \\times \\vec{x}$"
      ],
      "text/plain": [
       "<IPython.core.display.Latex object>"
      ]
     },
     "metadata": {},
     "output_type": "display_data"
    },
    {
     "data": {
      "text/latex": [
       "$ \\nabla_xO_{3 \\times 3}(\\vec{x}) = \\begin{bmatrix}F^H & 0 & 0 \\cr  0 & I^H & 0 \\cr  0 &  0 & diag(\\vec{d})^H \\cr \\end{bmatrix} \\times \\vec{x}$"
      ],
      "text/plain": [
       "<IPython.core.display.Latex object>"
      ]
     },
     "metadata": {},
     "output_type": "display_data"
    }
   ],
   "source": [
    "# Horizontally stacked operators\n",
    "D_l = ops.Dstack(op_list_linear)\n",
    "\n",
    "# Vertically stack x for forward operator\n",
    "x3 = yp.changeBackend(np.vstack((x, x, x)), global_backend)\n",
    "\n",
    "# Check forward operation\n",
    "y4 = np.empty((0,image_size[1]), dtype=yp.getNativeDatatype(global_dtype, 'numpy'))\n",
    "for index, op in enumerate(op_list_linear):\n",
    "    y4 = np.append(y4, (op * x), axis=0)\n",
    "    \n",
    "y4 = yp.changeBackend(y4, global_backend)\n",
    "\n",
    "# Check forward\n",
    "yp.assert_equality(D_l(x3), y4)\n",
    "\n",
    "# Check gradient\n",
    "D_l.gradient_check()\n",
    "\n",
    "# Render forward model\n",
    "D_l.latex()\n",
    "\n",
    "# Render gradient\n",
    "D_l.latex(gradient=True)"
   ]
  },
  {
   "cell_type": "markdown",
   "metadata": {},
   "source": [
    "### Nonlinear operators"
   ]
  },
  {
   "cell_type": "code",
   "execution_count": 101,
   "metadata": {
    "ExecuteTime": {
     "end_time": "2019-05-02T18:56:17.344789Z",
     "start_time": "2019-05-02T18:56:17.305630Z"
    },
    "scrolled": false
   },
   "outputs": [
    {
     "data": {
      "text/latex": [
       "$O_{3 \\times 3}(\\vec{x}) = \\begin{bmatrix}F & 0 & 0 \\cr  0 & I & 0 \\cr  0 &  0 & e^{ [\\cdot] } \\cr \\end{bmatrix} \\times \\vec{x}$"
      ],
      "text/plain": [
       "<IPython.core.display.Latex object>"
      ]
     },
     "metadata": {},
     "output_type": "display_data"
    },
    {
     "data": {
      "text/latex": [
       "$ \\nabla_xO_{3 \\times 3}(\\vec{x}) = \\begin{bmatrix}F^H & 0 & 0 \\cr  0 & I^H & 0 \\cr  0 &  0 & diag(\\vec{D_{e^x}}) \\cr \\end{bmatrix} \\times \\vec{x}$"
      ],
      "text/plain": [
       "<IPython.core.display.Latex object>"
      ]
     },
     "metadata": {},
     "output_type": "display_data"
    }
   ],
   "source": [
    "# Horizontally stacked operators\n",
    "D_nl = ops.Dstack(op_list_nonlinear)\n",
    "\n",
    "# Vertically stack x for forward operator\n",
    "x3 = yp.changeBackend(np.vstack((x, x, x)), global_backend)\n",
    "\n",
    "# Check forward operation\n",
    "y4 = np.empty((0,image_size[1]), dtype=yp.getNativeDatatype(global_dtype, 'numpy'))\n",
    "for index, op in enumerate(op_list_nonlinear):\n",
    "    y4 = np.append(y4, (op * x), axis=0)\n",
    "    \n",
    "y4 = yp.changeBackend(y4, global_backend)\n",
    "\n",
    "# Check forward operation\n",
    "yp.assert_equality(D_nl(x3), y4)\n",
    "\n",
    "# Check gradient\n",
    "D_nl.gradient_check()\n",
    "\n",
    "# Render forward model\n",
    "D_nl.latex()\n",
    "\n",
    "# Render gradient\n",
    "D_nl.latex(gradient=True)"
   ]
  },
  {
   "cell_type": "markdown",
   "metadata": {},
   "source": [
    "## Sum of Operators"
   ]
  },
  {
   "cell_type": "code",
   "execution_count": 102,
   "metadata": {
    "ExecuteTime": {
     "end_time": "2019-05-02T18:56:21.433122Z",
     "start_time": "2019-05-02T18:56:21.389246Z"
    },
    "scrolled": false
   },
   "outputs": [
    {
     "data": {
      "text/latex": [
       "$\\Sigma(\\vec{x}) = \\Sigma_{i=0}^{3} O_i \\times \\vec{x}$"
      ],
      "text/plain": [
       "<IPython.core.display.Latex object>"
      ]
     },
     "metadata": {},
     "output_type": "display_data"
    },
    {
     "data": {
      "text/latex": [
       "$ \\nabla_x\\Sigma(\\vec{x}) = \\begin{bmatrix}F^H & I^H & diag(\\vec{D_{e^x}})\\end{bmatrix} \\times \\begin{bmatrix}I^H \\cr I^H \\cr I^H\\end{bmatrix} \\times \\vec{x}$"
      ],
      "text/plain": [
       "<IPython.core.display.Latex object>"
      ]
     },
     "metadata": {},
     "output_type": "display_data"
    }
   ],
   "source": [
    "# Sum of operators\n",
    "S = ops.OperatorSum(op_list_nonlinear)\n",
    "\n",
    "# Check forward operator\n",
    "assert yp.sum(yp.abs(S * x - sum([op_list_nonlinear[i] * x for i in range(len(op_list_nonlinear))]))) < eps, '%f' % yp.sum(yp.abs(S * x - sum([op_list_nonlinear[i] * x for i in range(len(op_list_nonlinear))])))\n",
    "\n",
    "# Check gradient\n",
    "S.gradient_check()\n",
    "\n",
    "# Render forward model\n",
    "S.latex()\n",
    "\n",
    "# Render gradient\n",
    "S.latex(gradient=True)"
   ]
  },
  {
   "cell_type": "markdown",
   "metadata": {},
   "source": [
    "### Sum of Exponentials"
   ]
  },
  {
   "cell_type": "code",
   "execution_count": 103,
   "metadata": {
    "ExecuteTime": {
     "end_time": "2019-05-02T18:56:24.771098Z",
     "start_time": "2019-05-02T18:56:24.731285Z"
    },
    "scrolled": false
   },
   "outputs": [
    {
     "data": {
      "text/latex": [
       "$\\Sigma(\\vec{x}) = \\Sigma_{i=0}^{5}(e^{\\vec{x}})_i$"
      ],
      "text/plain": [
       "<IPython.core.display.Latex object>"
      ]
     },
     "metadata": {},
     "output_type": "display_data"
    }
   ],
   "source": [
    "EXP = ops.Exponential(image_size)\n",
    "exp_list = [EXP] * 5\n",
    "\n",
    "# Sum of operators\n",
    "S = ops.OperatorSum(exp_list)\n",
    "\n",
    "# Check forward operator\n",
    "assert yp.sum(yp.abs(S * x - sum([exp_list[i] * x for i in range(len(exp_list))]))) < eps, '%f' % yp.sum(yp.abs(S * x - sum([exp_list[i] * x for i in range(len(exp_list))])))\n",
    "\n",
    "# Check gradient\n",
    "S.gradient_check()\n",
    "\n",
    "# print latex\n",
    "S.latex()"
   ]
  },
  {
   "cell_type": "markdown",
   "metadata": {
    "ExecuteTime": {
     "end_time": "2018-04-26T23:08:19.089223Z",
     "start_time": "2018-04-26T23:08:19.036646Z"
    }
   },
   "source": [
    "### Sum of Phase Ramps"
   ]
  },
  {
   "cell_type": "code",
   "execution_count": 104,
   "metadata": {
    "ExecuteTime": {
     "end_time": "2019-05-02T18:56:25.834834Z",
     "start_time": "2019-05-02T18:56:25.766147Z"
    },
    "scrolled": false
   },
   "outputs": [
    {
     "data": {
      "text/latex": [
       "$\\Sigma(\\vec{x}) = \\Sigma_{i=0}^{3}(e^{-i2\\pi \\vec{k} \\vec{x}})_i$"
      ],
      "text/plain": [
       "<IPython.core.display.Latex object>"
      ]
     },
     "metadata": {},
     "output_type": "display_data"
    },
    {
     "data": {
      "text/latex": [
       "$ \\nabla_x\\Sigma(\\vec{x}) = \\begin{bmatrix}\\begin{bmatrix}\\sum_{axes=[0, 1]}  \\cr \\sum_{axes=[0, 1]} \\end{bmatrix} & \\begin{bmatrix}\\sum_{axes=[0, 1]}  \\cr \\sum_{axes=[0, 1]} \\end{bmatrix} & \\begin{bmatrix}\\sum_{axes=[0, 1]}  \\cr \\sum_{axes=[0, 1]} \\end{bmatrix}\\end{bmatrix} \\times \\begin{bmatrix}I^H \\cr I^H \\cr I^H\\end{bmatrix} \\times \\vec{x}$"
      ],
      "text/plain": [
       "<IPython.core.display.Latex object>"
      ]
     },
     "metadata": {},
     "output_type": "display_data"
    }
   ],
   "source": [
    "phase_ramp_dtype = 'complex32'\n",
    "x_long = yp.astype(x, phase_ramp_dtype)\n",
    "shift = yp.changeBackend(np.asarray((-5,3)).astype(yp.getNativeDatatype(phase_ramp_dtype, 'numpy')), global_backend)\n",
    "\n",
    "R = ops.PhaseRamp(image_size, dtype=phase_ramp_dtype, backend=global_backend)\n",
    "r_list = [R] * 3\n",
    "\n",
    "# Sum of operators\n",
    "S = ops.OperatorSum(r_list)\n",
    "\n",
    "# Check forward operator\n",
    "assert yp.sum(yp.abs(S * shift - sum([r_list[i] * shift for i in range(len(r_list))]))) < eps, '%f' % yp.sum(yp.abs(S * shift - sum([r_list[i] * vec(shift) for i in range(len(exp_list))]))) \n",
    "\n",
    "# Check gradient\n",
    "S.gradient_check(eps=1)\n",
    "\n",
    "# Render forward model\n",
    "S.latex()\n",
    "\n",
    "# Render gradient\n",
    "S.latex(gradient=True)"
   ]
  },
  {
   "cell_type": "code",
   "execution_count": null,
   "metadata": {},
   "outputs": [],
   "source": []
  }
 ],
 "metadata": {
  "kernelspec": {
   "display_name": "Python 3",
   "language": "python",
   "name": "python3"
  },
  "language_info": {
   "codemirror_mode": {
    "name": "ipython",
    "version": 3
   },
   "file_extension": ".py",
   "mimetype": "text/x-python",
   "name": "python",
   "nbconvert_exporter": "python",
   "pygments_lexer": "ipython3",
   "version": "3.7.3"
  },
  "latex_envs": {
   "LaTeX_envs_menu_present": true,
   "autocomplete": true,
   "bibliofile": "biblio.bib",
   "cite_by": "apalike",
   "current_citInitial": 1,
   "eqLabelWithNumbers": true,
   "eqNumInitial": 1,
   "hotkeys": {
    "equation": "Ctrl-E",
    "itemize": "Ctrl-I"
   },
   "labels_anchors": false,
   "latex_user_defs": false,
   "report_style_numbering": false,
   "user_envs_cfg": false
  },
  "varInspector": {
   "cols": {
    "lenName": 16,
    "lenType": 16,
    "lenVar": 40
   },
   "kernels_config": {
    "python": {
     "delete_cmd_postfix": "",
     "delete_cmd_prefix": "del ",
     "library": "var_list.py",
     "varRefreshCmd": "print(var_dic_list())"
    },
    "r": {
     "delete_cmd_postfix": ") ",
     "delete_cmd_prefix": "rm(",
     "library": "var_list.r",
     "varRefreshCmd": "cat(var_dic_list()) "
    }
   },
   "types_to_exclude": [
    "module",
    "function",
    "builtin_function_or_method",
    "instance",
    "_Feature"
   ],
   "window_display": true
  }
 },
 "nbformat": 4,
 "nbformat_minor": 2
}
