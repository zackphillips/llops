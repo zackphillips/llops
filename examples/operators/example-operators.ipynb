{
 "cells": [
  {
   "cell_type": "code",
   "execution_count": 1,
   "metadata": {
    "ExecuteTime": {
     "end_time": "2019-05-02T16:17:10.150424Z",
     "start_time": "2019-05-02T16:17:05.892393Z"
    },
    "scrolled": false
   },
   "outputs": [],
   "source": [
    "%matplotlib notebook\n",
    "%load_ext autoreload\n",
    "%autoreload 2\n",
    "\n",
    "import numpy as np\n",
    "import scipy as sp\n",
    "import matplotlib.pyplot as plt\n",
    "import scipy.misc as misc\n",
    "import math\n",
    "import imageio\n",
    "import time\n",
    "\n",
    "# Libwallerlab imports\n",
    "import llops.operators as ops\n",
    "import llops as yp\n",
    "import llops.simulation as sim\n",
    "from llops import vec"
   ]
  },
  {
   "cell_type": "markdown",
   "metadata": {},
   "source": [
    "## Define Backend and Datatype"
   ]
  },
  {
   "cell_type": "code",
   "execution_count": 2,
   "metadata": {
    "ExecuteTime": {
     "end_time": "2019-05-02T16:17:12.211646Z",
     "start_time": "2019-05-02T16:17:12.188956Z"
    },
    "scrolled": false
   },
   "outputs": [],
   "source": [
    "global_backend = 'numpy' # arrayfire or numpy\n",
    "global_dtype = 'complex32' # complex32 or complex64\n",
    "\n",
    "ops.setDefaultBackend(global_backend)\n",
    "ops.setDefaultDatatype(global_dtype)"
   ]
  },
  {
   "cell_type": "markdown",
   "metadata": {},
   "source": [
    "## Define Test Object and Forward Operator"
   ]
  },
  {
   "cell_type": "code",
   "execution_count": 3,
   "metadata": {
    "ExecuteTime": {
     "end_time": "2019-05-02T16:17:13.722961Z",
     "start_time": "2019-05-02T16:17:13.424640Z"
    },
    "scrolled": false
   },
   "outputs": [
    {
     "data": {
      "application/javascript": [
       "/* Put everything inside the global mpl namespace */\n",
       "window.mpl = {};\n",
       "\n",
       "\n",
       "mpl.get_websocket_type = function() {\n",
       "    if (typeof(WebSocket) !== 'undefined') {\n",
       "        return WebSocket;\n",
       "    } else if (typeof(MozWebSocket) !== 'undefined') {\n",
       "        return MozWebSocket;\n",
       "    } else {\n",
       "        alert('Your browser does not have WebSocket support. ' +\n",
       "              'Please try Chrome, Safari or Firefox ≥ 6. ' +\n",
       "              'Firefox 4 and 5 are also supported but you ' +\n",
       "              'have to enable WebSockets in about:config.');\n",
       "    };\n",
       "}\n",
       "\n",
       "mpl.figure = function(figure_id, websocket, ondownload, parent_element) {\n",
       "    this.id = figure_id;\n",
       "\n",
       "    this.ws = websocket;\n",
       "\n",
       "    this.supports_binary = (this.ws.binaryType != undefined);\n",
       "\n",
       "    if (!this.supports_binary) {\n",
       "        var warnings = document.getElementById(\"mpl-warnings\");\n",
       "        if (warnings) {\n",
       "            warnings.style.display = 'block';\n",
       "            warnings.textContent = (\n",
       "                \"This browser does not support binary websocket messages. \" +\n",
       "                    \"Performance may be slow.\");\n",
       "        }\n",
       "    }\n",
       "\n",
       "    this.imageObj = new Image();\n",
       "\n",
       "    this.context = undefined;\n",
       "    this.message = undefined;\n",
       "    this.canvas = undefined;\n",
       "    this.rubberband_canvas = undefined;\n",
       "    this.rubberband_context = undefined;\n",
       "    this.format_dropdown = undefined;\n",
       "\n",
       "    this.image_mode = 'full';\n",
       "\n",
       "    this.root = $('<div/>');\n",
       "    this._root_extra_style(this.root)\n",
       "    this.root.attr('style', 'display: inline-block');\n",
       "\n",
       "    $(parent_element).append(this.root);\n",
       "\n",
       "    this._init_header(this);\n",
       "    this._init_canvas(this);\n",
       "    this._init_toolbar(this);\n",
       "\n",
       "    var fig = this;\n",
       "\n",
       "    this.waiting = false;\n",
       "\n",
       "    this.ws.onopen =  function () {\n",
       "            fig.send_message(\"supports_binary\", {value: fig.supports_binary});\n",
       "            fig.send_message(\"send_image_mode\", {});\n",
       "            if (mpl.ratio != 1) {\n",
       "                fig.send_message(\"set_dpi_ratio\", {'dpi_ratio': mpl.ratio});\n",
       "            }\n",
       "            fig.send_message(\"refresh\", {});\n",
       "        }\n",
       "\n",
       "    this.imageObj.onload = function() {\n",
       "            if (fig.image_mode == 'full') {\n",
       "                // Full images could contain transparency (where diff images\n",
       "                // almost always do), so we need to clear the canvas so that\n",
       "                // there is no ghosting.\n",
       "                fig.context.clearRect(0, 0, fig.canvas.width, fig.canvas.height);\n",
       "            }\n",
       "            fig.context.drawImage(fig.imageObj, 0, 0);\n",
       "        };\n",
       "\n",
       "    this.imageObj.onunload = function() {\n",
       "        fig.ws.close();\n",
       "    }\n",
       "\n",
       "    this.ws.onmessage = this._make_on_message_function(this);\n",
       "\n",
       "    this.ondownload = ondownload;\n",
       "}\n",
       "\n",
       "mpl.figure.prototype._init_header = function() {\n",
       "    var titlebar = $(\n",
       "        '<div class=\"ui-dialog-titlebar ui-widget-header ui-corner-all ' +\n",
       "        'ui-helper-clearfix\"/>');\n",
       "    var titletext = $(\n",
       "        '<div class=\"ui-dialog-title\" style=\"width: 100%; ' +\n",
       "        'text-align: center; padding: 3px;\"/>');\n",
       "    titlebar.append(titletext)\n",
       "    this.root.append(titlebar);\n",
       "    this.header = titletext[0];\n",
       "}\n",
       "\n",
       "\n",
       "\n",
       "mpl.figure.prototype._canvas_extra_style = function(canvas_div) {\n",
       "\n",
       "}\n",
       "\n",
       "\n",
       "mpl.figure.prototype._root_extra_style = function(canvas_div) {\n",
       "\n",
       "}\n",
       "\n",
       "mpl.figure.prototype._init_canvas = function() {\n",
       "    var fig = this;\n",
       "\n",
       "    var canvas_div = $('<div/>');\n",
       "\n",
       "    canvas_div.attr('style', 'position: relative; clear: both; outline: 0');\n",
       "\n",
       "    function canvas_keyboard_event(event) {\n",
       "        return fig.key_event(event, event['data']);\n",
       "    }\n",
       "\n",
       "    canvas_div.keydown('key_press', canvas_keyboard_event);\n",
       "    canvas_div.keyup('key_release', canvas_keyboard_event);\n",
       "    this.canvas_div = canvas_div\n",
       "    this._canvas_extra_style(canvas_div)\n",
       "    this.root.append(canvas_div);\n",
       "\n",
       "    var canvas = $('<canvas/>');\n",
       "    canvas.addClass('mpl-canvas');\n",
       "    canvas.attr('style', \"left: 0; top: 0; z-index: 0; outline: 0\")\n",
       "\n",
       "    this.canvas = canvas[0];\n",
       "    this.context = canvas[0].getContext(\"2d\");\n",
       "\n",
       "    var backingStore = this.context.backingStorePixelRatio ||\n",
       "\tthis.context.webkitBackingStorePixelRatio ||\n",
       "\tthis.context.mozBackingStorePixelRatio ||\n",
       "\tthis.context.msBackingStorePixelRatio ||\n",
       "\tthis.context.oBackingStorePixelRatio ||\n",
       "\tthis.context.backingStorePixelRatio || 1;\n",
       "\n",
       "    mpl.ratio = (window.devicePixelRatio || 1) / backingStore;\n",
       "\n",
       "    var rubberband = $('<canvas/>');\n",
       "    rubberband.attr('style', \"position: absolute; left: 0; top: 0; z-index: 1;\")\n",
       "\n",
       "    var pass_mouse_events = true;\n",
       "\n",
       "    canvas_div.resizable({\n",
       "        start: function(event, ui) {\n",
       "            pass_mouse_events = false;\n",
       "        },\n",
       "        resize: function(event, ui) {\n",
       "            fig.request_resize(ui.size.width, ui.size.height);\n",
       "        },\n",
       "        stop: function(event, ui) {\n",
       "            pass_mouse_events = true;\n",
       "            fig.request_resize(ui.size.width, ui.size.height);\n",
       "        },\n",
       "    });\n",
       "\n",
       "    function mouse_event_fn(event) {\n",
       "        if (pass_mouse_events)\n",
       "            return fig.mouse_event(event, event['data']);\n",
       "    }\n",
       "\n",
       "    rubberband.mousedown('button_press', mouse_event_fn);\n",
       "    rubberband.mouseup('button_release', mouse_event_fn);\n",
       "    // Throttle sequential mouse events to 1 every 20ms.\n",
       "    rubberband.mousemove('motion_notify', mouse_event_fn);\n",
       "\n",
       "    rubberband.mouseenter('figure_enter', mouse_event_fn);\n",
       "    rubberband.mouseleave('figure_leave', mouse_event_fn);\n",
       "\n",
       "    canvas_div.on(\"wheel\", function (event) {\n",
       "        event = event.originalEvent;\n",
       "        event['data'] = 'scroll'\n",
       "        if (event.deltaY < 0) {\n",
       "            event.step = 1;\n",
       "        } else {\n",
       "            event.step = -1;\n",
       "        }\n",
       "        mouse_event_fn(event);\n",
       "    });\n",
       "\n",
       "    canvas_div.append(canvas);\n",
       "    canvas_div.append(rubberband);\n",
       "\n",
       "    this.rubberband = rubberband;\n",
       "    this.rubberband_canvas = rubberband[0];\n",
       "    this.rubberband_context = rubberband[0].getContext(\"2d\");\n",
       "    this.rubberband_context.strokeStyle = \"#000000\";\n",
       "\n",
       "    this._resize_canvas = function(width, height) {\n",
       "        // Keep the size of the canvas, canvas container, and rubber band\n",
       "        // canvas in synch.\n",
       "        canvas_div.css('width', width)\n",
       "        canvas_div.css('height', height)\n",
       "\n",
       "        canvas.attr('width', width * mpl.ratio);\n",
       "        canvas.attr('height', height * mpl.ratio);\n",
       "        canvas.attr('style', 'width: ' + width + 'px; height: ' + height + 'px;');\n",
       "\n",
       "        rubberband.attr('width', width);\n",
       "        rubberband.attr('height', height);\n",
       "    }\n",
       "\n",
       "    // Set the figure to an initial 600x600px, this will subsequently be updated\n",
       "    // upon first draw.\n",
       "    this._resize_canvas(600, 600);\n",
       "\n",
       "    // Disable right mouse context menu.\n",
       "    $(this.rubberband_canvas).bind(\"contextmenu\",function(e){\n",
       "        return false;\n",
       "    });\n",
       "\n",
       "    function set_focus () {\n",
       "        canvas.focus();\n",
       "        canvas_div.focus();\n",
       "    }\n",
       "\n",
       "    window.setTimeout(set_focus, 100);\n",
       "}\n",
       "\n",
       "mpl.figure.prototype._init_toolbar = function() {\n",
       "    var fig = this;\n",
       "\n",
       "    var nav_element = $('<div/>');\n",
       "    nav_element.attr('style', 'width: 100%');\n",
       "    this.root.append(nav_element);\n",
       "\n",
       "    // Define a callback function for later on.\n",
       "    function toolbar_event(event) {\n",
       "        return fig.toolbar_button_onclick(event['data']);\n",
       "    }\n",
       "    function toolbar_mouse_event(event) {\n",
       "        return fig.toolbar_button_onmouseover(event['data']);\n",
       "    }\n",
       "\n",
       "    for(var toolbar_ind in mpl.toolbar_items) {\n",
       "        var name = mpl.toolbar_items[toolbar_ind][0];\n",
       "        var tooltip = mpl.toolbar_items[toolbar_ind][1];\n",
       "        var image = mpl.toolbar_items[toolbar_ind][2];\n",
       "        var method_name = mpl.toolbar_items[toolbar_ind][3];\n",
       "\n",
       "        if (!name) {\n",
       "            // put a spacer in here.\n",
       "            continue;\n",
       "        }\n",
       "        var button = $('<button/>');\n",
       "        button.addClass('ui-button ui-widget ui-state-default ui-corner-all ' +\n",
       "                        'ui-button-icon-only');\n",
       "        button.attr('role', 'button');\n",
       "        button.attr('aria-disabled', 'false');\n",
       "        button.click(method_name, toolbar_event);\n",
       "        button.mouseover(tooltip, toolbar_mouse_event);\n",
       "\n",
       "        var icon_img = $('<span/>');\n",
       "        icon_img.addClass('ui-button-icon-primary ui-icon');\n",
       "        icon_img.addClass(image);\n",
       "        icon_img.addClass('ui-corner-all');\n",
       "\n",
       "        var tooltip_span = $('<span/>');\n",
       "        tooltip_span.addClass('ui-button-text');\n",
       "        tooltip_span.html(tooltip);\n",
       "\n",
       "        button.append(icon_img);\n",
       "        button.append(tooltip_span);\n",
       "\n",
       "        nav_element.append(button);\n",
       "    }\n",
       "\n",
       "    var fmt_picker_span = $('<span/>');\n",
       "\n",
       "    var fmt_picker = $('<select/>');\n",
       "    fmt_picker.addClass('mpl-toolbar-option ui-widget ui-widget-content');\n",
       "    fmt_picker_span.append(fmt_picker);\n",
       "    nav_element.append(fmt_picker_span);\n",
       "    this.format_dropdown = fmt_picker[0];\n",
       "\n",
       "    for (var ind in mpl.extensions) {\n",
       "        var fmt = mpl.extensions[ind];\n",
       "        var option = $(\n",
       "            '<option/>', {selected: fmt === mpl.default_extension}).html(fmt);\n",
       "        fmt_picker.append(option);\n",
       "    }\n",
       "\n",
       "    // Add hover states to the ui-buttons\n",
       "    $( \".ui-button\" ).hover(\n",
       "        function() { $(this).addClass(\"ui-state-hover\");},\n",
       "        function() { $(this).removeClass(\"ui-state-hover\");}\n",
       "    );\n",
       "\n",
       "    var status_bar = $('<span class=\"mpl-message\"/>');\n",
       "    nav_element.append(status_bar);\n",
       "    this.message = status_bar[0];\n",
       "}\n",
       "\n",
       "mpl.figure.prototype.request_resize = function(x_pixels, y_pixels) {\n",
       "    // Request matplotlib to resize the figure. Matplotlib will then trigger a resize in the client,\n",
       "    // which will in turn request a refresh of the image.\n",
       "    this.send_message('resize', {'width': x_pixels, 'height': y_pixels});\n",
       "}\n",
       "\n",
       "mpl.figure.prototype.send_message = function(type, properties) {\n",
       "    properties['type'] = type;\n",
       "    properties['figure_id'] = this.id;\n",
       "    this.ws.send(JSON.stringify(properties));\n",
       "}\n",
       "\n",
       "mpl.figure.prototype.send_draw_message = function() {\n",
       "    if (!this.waiting) {\n",
       "        this.waiting = true;\n",
       "        this.ws.send(JSON.stringify({type: \"draw\", figure_id: this.id}));\n",
       "    }\n",
       "}\n",
       "\n",
       "\n",
       "mpl.figure.prototype.handle_save = function(fig, msg) {\n",
       "    var format_dropdown = fig.format_dropdown;\n",
       "    var format = format_dropdown.options[format_dropdown.selectedIndex].value;\n",
       "    fig.ondownload(fig, format);\n",
       "}\n",
       "\n",
       "\n",
       "mpl.figure.prototype.handle_resize = function(fig, msg) {\n",
       "    var size = msg['size'];\n",
       "    if (size[0] != fig.canvas.width || size[1] != fig.canvas.height) {\n",
       "        fig._resize_canvas(size[0], size[1]);\n",
       "        fig.send_message(\"refresh\", {});\n",
       "    };\n",
       "}\n",
       "\n",
       "mpl.figure.prototype.handle_rubberband = function(fig, msg) {\n",
       "    var x0 = msg['x0'] / mpl.ratio;\n",
       "    var y0 = (fig.canvas.height - msg['y0']) / mpl.ratio;\n",
       "    var x1 = msg['x1'] / mpl.ratio;\n",
       "    var y1 = (fig.canvas.height - msg['y1']) / mpl.ratio;\n",
       "    x0 = Math.floor(x0) + 0.5;\n",
       "    y0 = Math.floor(y0) + 0.5;\n",
       "    x1 = Math.floor(x1) + 0.5;\n",
       "    y1 = Math.floor(y1) + 0.5;\n",
       "    var min_x = Math.min(x0, x1);\n",
       "    var min_y = Math.min(y0, y1);\n",
       "    var width = Math.abs(x1 - x0);\n",
       "    var height = Math.abs(y1 - y0);\n",
       "\n",
       "    fig.rubberband_context.clearRect(\n",
       "        0, 0, fig.canvas.width, fig.canvas.height);\n",
       "\n",
       "    fig.rubberband_context.strokeRect(min_x, min_y, width, height);\n",
       "}\n",
       "\n",
       "mpl.figure.prototype.handle_figure_label = function(fig, msg) {\n",
       "    // Updates the figure title.\n",
       "    fig.header.textContent = msg['label'];\n",
       "}\n",
       "\n",
       "mpl.figure.prototype.handle_cursor = function(fig, msg) {\n",
       "    var cursor = msg['cursor'];\n",
       "    switch(cursor)\n",
       "    {\n",
       "    case 0:\n",
       "        cursor = 'pointer';\n",
       "        break;\n",
       "    case 1:\n",
       "        cursor = 'default';\n",
       "        break;\n",
       "    case 2:\n",
       "        cursor = 'crosshair';\n",
       "        break;\n",
       "    case 3:\n",
       "        cursor = 'move';\n",
       "        break;\n",
       "    }\n",
       "    fig.rubberband_canvas.style.cursor = cursor;\n",
       "}\n",
       "\n",
       "mpl.figure.prototype.handle_message = function(fig, msg) {\n",
       "    fig.message.textContent = msg['message'];\n",
       "}\n",
       "\n",
       "mpl.figure.prototype.handle_draw = function(fig, msg) {\n",
       "    // Request the server to send over a new figure.\n",
       "    fig.send_draw_message();\n",
       "}\n",
       "\n",
       "mpl.figure.prototype.handle_image_mode = function(fig, msg) {\n",
       "    fig.image_mode = msg['mode'];\n",
       "}\n",
       "\n",
       "mpl.figure.prototype.updated_canvas_event = function() {\n",
       "    // Called whenever the canvas gets updated.\n",
       "    this.send_message(\"ack\", {});\n",
       "}\n",
       "\n",
       "// A function to construct a web socket function for onmessage handling.\n",
       "// Called in the figure constructor.\n",
       "mpl.figure.prototype._make_on_message_function = function(fig) {\n",
       "    return function socket_on_message(evt) {\n",
       "        if (evt.data instanceof Blob) {\n",
       "            /* FIXME: We get \"Resource interpreted as Image but\n",
       "             * transferred with MIME type text/plain:\" errors on\n",
       "             * Chrome.  But how to set the MIME type?  It doesn't seem\n",
       "             * to be part of the websocket stream */\n",
       "            evt.data.type = \"image/png\";\n",
       "\n",
       "            /* Free the memory for the previous frames */\n",
       "            if (fig.imageObj.src) {\n",
       "                (window.URL || window.webkitURL).revokeObjectURL(\n",
       "                    fig.imageObj.src);\n",
       "            }\n",
       "\n",
       "            fig.imageObj.src = (window.URL || window.webkitURL).createObjectURL(\n",
       "                evt.data);\n",
       "            fig.updated_canvas_event();\n",
       "            fig.waiting = false;\n",
       "            return;\n",
       "        }\n",
       "        else if (typeof evt.data === 'string' && evt.data.slice(0, 21) == \"data:image/png;base64\") {\n",
       "            fig.imageObj.src = evt.data;\n",
       "            fig.updated_canvas_event();\n",
       "            fig.waiting = false;\n",
       "            return;\n",
       "        }\n",
       "\n",
       "        var msg = JSON.parse(evt.data);\n",
       "        var msg_type = msg['type'];\n",
       "\n",
       "        // Call the  \"handle_{type}\" callback, which takes\n",
       "        // the figure and JSON message as its only arguments.\n",
       "        try {\n",
       "            var callback = fig[\"handle_\" + msg_type];\n",
       "        } catch (e) {\n",
       "            console.log(\"No handler for the '\" + msg_type + \"' message type: \", msg);\n",
       "            return;\n",
       "        }\n",
       "\n",
       "        if (callback) {\n",
       "            try {\n",
       "                // console.log(\"Handling '\" + msg_type + \"' message: \", msg);\n",
       "                callback(fig, msg);\n",
       "            } catch (e) {\n",
       "                console.log(\"Exception inside the 'handler_\" + msg_type + \"' callback:\", e, e.stack, msg);\n",
       "            }\n",
       "        }\n",
       "    };\n",
       "}\n",
       "\n",
       "// from http://stackoverflow.com/questions/1114465/getting-mouse-location-in-canvas\n",
       "mpl.findpos = function(e) {\n",
       "    //this section is from http://www.quirksmode.org/js/events_properties.html\n",
       "    var targ;\n",
       "    if (!e)\n",
       "        e = window.event;\n",
       "    if (e.target)\n",
       "        targ = e.target;\n",
       "    else if (e.srcElement)\n",
       "        targ = e.srcElement;\n",
       "    if (targ.nodeType == 3) // defeat Safari bug\n",
       "        targ = targ.parentNode;\n",
       "\n",
       "    // jQuery normalizes the pageX and pageY\n",
       "    // pageX,Y are the mouse positions relative to the document\n",
       "    // offset() returns the position of the element relative to the document\n",
       "    var x = e.pageX - $(targ).offset().left;\n",
       "    var y = e.pageY - $(targ).offset().top;\n",
       "\n",
       "    return {\"x\": x, \"y\": y};\n",
       "};\n",
       "\n",
       "/*\n",
       " * return a copy of an object with only non-object keys\n",
       " * we need this to avoid circular references\n",
       " * http://stackoverflow.com/a/24161582/3208463\n",
       " */\n",
       "function simpleKeys (original) {\n",
       "  return Object.keys(original).reduce(function (obj, key) {\n",
       "    if (typeof original[key] !== 'object')\n",
       "        obj[key] = original[key]\n",
       "    return obj;\n",
       "  }, {});\n",
       "}\n",
       "\n",
       "mpl.figure.prototype.mouse_event = function(event, name) {\n",
       "    var canvas_pos = mpl.findpos(event)\n",
       "\n",
       "    if (name === 'button_press')\n",
       "    {\n",
       "        this.canvas.focus();\n",
       "        this.canvas_div.focus();\n",
       "    }\n",
       "\n",
       "    var x = canvas_pos.x * mpl.ratio;\n",
       "    var y = canvas_pos.y * mpl.ratio;\n",
       "\n",
       "    this.send_message(name, {x: x, y: y, button: event.button,\n",
       "                             step: event.step,\n",
       "                             guiEvent: simpleKeys(event)});\n",
       "\n",
       "    /* This prevents the web browser from automatically changing to\n",
       "     * the text insertion cursor when the button is pressed.  We want\n",
       "     * to control all of the cursor setting manually through the\n",
       "     * 'cursor' event from matplotlib */\n",
       "    event.preventDefault();\n",
       "    return false;\n",
       "}\n",
       "\n",
       "mpl.figure.prototype._key_event_extra = function(event, name) {\n",
       "    // Handle any extra behaviour associated with a key event\n",
       "}\n",
       "\n",
       "mpl.figure.prototype.key_event = function(event, name) {\n",
       "\n",
       "    // Prevent repeat events\n",
       "    if (name == 'key_press')\n",
       "    {\n",
       "        if (event.which === this._key)\n",
       "            return;\n",
       "        else\n",
       "            this._key = event.which;\n",
       "    }\n",
       "    if (name == 'key_release')\n",
       "        this._key = null;\n",
       "\n",
       "    var value = '';\n",
       "    if (event.ctrlKey && event.which != 17)\n",
       "        value += \"ctrl+\";\n",
       "    if (event.altKey && event.which != 18)\n",
       "        value += \"alt+\";\n",
       "    if (event.shiftKey && event.which != 16)\n",
       "        value += \"shift+\";\n",
       "\n",
       "    value += 'k';\n",
       "    value += event.which.toString();\n",
       "\n",
       "    this._key_event_extra(event, name);\n",
       "\n",
       "    this.send_message(name, {key: value,\n",
       "                             guiEvent: simpleKeys(event)});\n",
       "    return false;\n",
       "}\n",
       "\n",
       "mpl.figure.prototype.toolbar_button_onclick = function(name) {\n",
       "    if (name == 'download') {\n",
       "        this.handle_save(this, null);\n",
       "    } else {\n",
       "        this.send_message(\"toolbar_button\", {name: name});\n",
       "    }\n",
       "};\n",
       "\n",
       "mpl.figure.prototype.toolbar_button_onmouseover = function(tooltip) {\n",
       "    this.message.textContent = tooltip;\n",
       "};\n",
       "mpl.toolbar_items = [[\"Home\", \"Reset original view\", \"fa fa-home icon-home\", \"home\"], [\"Back\", \"Back to previous view\", \"fa fa-arrow-left icon-arrow-left\", \"back\"], [\"Forward\", \"Forward to next view\", \"fa fa-arrow-right icon-arrow-right\", \"forward\"], [\"\", \"\", \"\", \"\"], [\"Pan\", \"Pan axes with left mouse, zoom with right\", \"fa fa-arrows icon-move\", \"pan\"], [\"Zoom\", \"Zoom to rectangle\", \"fa fa-square-o icon-check-empty\", \"zoom\"], [\"\", \"\", \"\", \"\"], [\"Download\", \"Download plot\", \"fa fa-floppy-o icon-save\", \"download\"]];\n",
       "\n",
       "mpl.extensions = [\"eps\", \"jpeg\", \"pdf\", \"png\", \"ps\", \"raw\", \"svg\", \"tif\"];\n",
       "\n",
       "mpl.default_extension = \"png\";var comm_websocket_adapter = function(comm) {\n",
       "    // Create a \"websocket\"-like object which calls the given IPython comm\n",
       "    // object with the appropriate methods. Currently this is a non binary\n",
       "    // socket, so there is still some room for performance tuning.\n",
       "    var ws = {};\n",
       "\n",
       "    ws.close = function() {\n",
       "        comm.close()\n",
       "    };\n",
       "    ws.send = function(m) {\n",
       "        //console.log('sending', m);\n",
       "        comm.send(m);\n",
       "    };\n",
       "    // Register the callback with on_msg.\n",
       "    comm.on_msg(function(msg) {\n",
       "        //console.log('receiving', msg['content']['data'], msg);\n",
       "        // Pass the mpl event to the overridden (by mpl) onmessage function.\n",
       "        ws.onmessage(msg['content']['data'])\n",
       "    });\n",
       "    return ws;\n",
       "}\n",
       "\n",
       "mpl.mpl_figure_comm = function(comm, msg) {\n",
       "    // This is the function which gets called when the mpl process\n",
       "    // starts-up an IPython Comm through the \"matplotlib\" channel.\n",
       "\n",
       "    var id = msg.content.data.id;\n",
       "    // Get hold of the div created by the display call when the Comm\n",
       "    // socket was opened in Python.\n",
       "    var element = $(\"#\" + id);\n",
       "    var ws_proxy = comm_websocket_adapter(comm)\n",
       "\n",
       "    function ondownload(figure, format) {\n",
       "        window.open(figure.imageObj.src);\n",
       "    }\n",
       "\n",
       "    var fig = new mpl.figure(id, ws_proxy,\n",
       "                           ondownload,\n",
       "                           element.get(0));\n",
       "\n",
       "    // Call onopen now - mpl needs it, as it is assuming we've passed it a real\n",
       "    // web socket which is closed, not our websocket->open comm proxy.\n",
       "    ws_proxy.onopen();\n",
       "\n",
       "    fig.parent_element = element.get(0);\n",
       "    fig.cell_info = mpl.find_output_cell(\"<div id='\" + id + \"'></div>\");\n",
       "    if (!fig.cell_info) {\n",
       "        console.error(\"Failed to find cell for figure\", id, fig);\n",
       "        return;\n",
       "    }\n",
       "\n",
       "    var output_index = fig.cell_info[2]\n",
       "    var cell = fig.cell_info[0];\n",
       "\n",
       "};\n",
       "\n",
       "mpl.figure.prototype.handle_close = function(fig, msg) {\n",
       "    var width = fig.canvas.width/mpl.ratio\n",
       "    fig.root.unbind('remove')\n",
       "\n",
       "    // Update the output cell to use the data from the current canvas.\n",
       "    fig.push_to_output();\n",
       "    var dataURL = fig.canvas.toDataURL();\n",
       "    // Re-enable the keyboard manager in IPython - without this line, in FF,\n",
       "    // the notebook keyboard shortcuts fail.\n",
       "    IPython.keyboard_manager.enable()\n",
       "    $(fig.parent_element).html('<img src=\"' + dataURL + '\" width=\"' + width + '\">');\n",
       "    fig.close_ws(fig, msg);\n",
       "}\n",
       "\n",
       "mpl.figure.prototype.close_ws = function(fig, msg){\n",
       "    fig.send_message('closing', msg);\n",
       "    // fig.ws.close()\n",
       "}\n",
       "\n",
       "mpl.figure.prototype.push_to_output = function(remove_interactive) {\n",
       "    // Turn the data on the canvas into data in the output cell.\n",
       "    var width = this.canvas.width/mpl.ratio\n",
       "    var dataURL = this.canvas.toDataURL();\n",
       "    this.cell_info[1]['text/html'] = '<img src=\"' + dataURL + '\" width=\"' + width + '\">';\n",
       "}\n",
       "\n",
       "mpl.figure.prototype.updated_canvas_event = function() {\n",
       "    // Tell IPython that the notebook contents must change.\n",
       "    IPython.notebook.set_dirty(true);\n",
       "    this.send_message(\"ack\", {});\n",
       "    var fig = this;\n",
       "    // Wait a second, then push the new image to the DOM so\n",
       "    // that it is saved nicely (might be nice to debounce this).\n",
       "    setTimeout(function () { fig.push_to_output() }, 1000);\n",
       "}\n",
       "\n",
       "mpl.figure.prototype._init_toolbar = function() {\n",
       "    var fig = this;\n",
       "\n",
       "    var nav_element = $('<div/>');\n",
       "    nav_element.attr('style', 'width: 100%');\n",
       "    this.root.append(nav_element);\n",
       "\n",
       "    // Define a callback function for later on.\n",
       "    function toolbar_event(event) {\n",
       "        return fig.toolbar_button_onclick(event['data']);\n",
       "    }\n",
       "    function toolbar_mouse_event(event) {\n",
       "        return fig.toolbar_button_onmouseover(event['data']);\n",
       "    }\n",
       "\n",
       "    for(var toolbar_ind in mpl.toolbar_items){\n",
       "        var name = mpl.toolbar_items[toolbar_ind][0];\n",
       "        var tooltip = mpl.toolbar_items[toolbar_ind][1];\n",
       "        var image = mpl.toolbar_items[toolbar_ind][2];\n",
       "        var method_name = mpl.toolbar_items[toolbar_ind][3];\n",
       "\n",
       "        if (!name) { continue; };\n",
       "\n",
       "        var button = $('<button class=\"btn btn-default\" href=\"#\" title=\"' + name + '\"><i class=\"fa ' + image + ' fa-lg\"></i></button>');\n",
       "        button.click(method_name, toolbar_event);\n",
       "        button.mouseover(tooltip, toolbar_mouse_event);\n",
       "        nav_element.append(button);\n",
       "    }\n",
       "\n",
       "    // Add the status bar.\n",
       "    var status_bar = $('<span class=\"mpl-message\" style=\"text-align:right; float: right;\"/>');\n",
       "    nav_element.append(status_bar);\n",
       "    this.message = status_bar[0];\n",
       "\n",
       "    // Add the close button to the window.\n",
       "    var buttongrp = $('<div class=\"btn-group inline pull-right\"></div>');\n",
       "    var button = $('<button class=\"btn btn-mini btn-primary\" href=\"#\" title=\"Stop Interaction\"><i class=\"fa fa-power-off icon-remove icon-large\"></i></button>');\n",
       "    button.click(function (evt) { fig.handle_close(fig, {}); } );\n",
       "    button.mouseover('Stop Interaction', toolbar_mouse_event);\n",
       "    buttongrp.append(button);\n",
       "    var titlebar = this.root.find($('.ui-dialog-titlebar'));\n",
       "    titlebar.prepend(buttongrp);\n",
       "}\n",
       "\n",
       "mpl.figure.prototype._root_extra_style = function(el){\n",
       "    var fig = this\n",
       "    el.on(\"remove\", function(){\n",
       "\tfig.close_ws(fig, {});\n",
       "    });\n",
       "}\n",
       "\n",
       "mpl.figure.prototype._canvas_extra_style = function(el){\n",
       "    // this is important to make the div 'focusable\n",
       "    el.attr('tabindex', 0)\n",
       "    // reach out to IPython and tell the keyboard manager to turn it's self\n",
       "    // off when our div gets focus\n",
       "\n",
       "    // location in version 3\n",
       "    if (IPython.notebook.keyboard_manager) {\n",
       "        IPython.notebook.keyboard_manager.register_events(el);\n",
       "    }\n",
       "    else {\n",
       "        // location in version 2\n",
       "        IPython.keyboard_manager.register_events(el);\n",
       "    }\n",
       "\n",
       "}\n",
       "\n",
       "mpl.figure.prototype._key_event_extra = function(event, name) {\n",
       "    var manager = IPython.notebook.keyboard_manager;\n",
       "    if (!manager)\n",
       "        manager = IPython.keyboard_manager;\n",
       "\n",
       "    // Check for shift+enter\n",
       "    if (event.shiftKey && event.which == 13) {\n",
       "        this.canvas_div.blur();\n",
       "        event.shiftKey = false;\n",
       "        // Send a \"J\" for go to next cell\n",
       "        event.which = 74;\n",
       "        event.keyCode = 74;\n",
       "        manager.command_mode();\n",
       "        manager.handle_keydown(event);\n",
       "    }\n",
       "}\n",
       "\n",
       "mpl.figure.prototype.handle_save = function(fig, msg) {\n",
       "    fig.ondownload(fig, null);\n",
       "}\n",
       "\n",
       "\n",
       "mpl.find_output_cell = function(html_output) {\n",
       "    // Return the cell and output element which can be found *uniquely* in the notebook.\n",
       "    // Note - this is a bit hacky, but it is done because the \"notebook_saving.Notebook\"\n",
       "    // IPython event is triggered only after the cells have been serialised, which for\n",
       "    // our purposes (turning an active figure into a static one), is too late.\n",
       "    var cells = IPython.notebook.get_cells();\n",
       "    var ncells = cells.length;\n",
       "    for (var i=0; i<ncells; i++) {\n",
       "        var cell = cells[i];\n",
       "        if (cell.cell_type === 'code'){\n",
       "            for (var j=0; j<cell.output_area.outputs.length; j++) {\n",
       "                var data = cell.output_area.outputs[j];\n",
       "                if (data.data) {\n",
       "                    // IPython >= 3 moved mimebundle to data attribute of output\n",
       "                    data = data.data;\n",
       "                }\n",
       "                if (data['text/html'] == html_output) {\n",
       "                    return [cell, data, j];\n",
       "                }\n",
       "            }\n",
       "        }\n",
       "    }\n",
       "}\n",
       "\n",
       "// Register the function which deals with the matplotlib target/channel.\n",
       "// The kernel may be null if the page has been refreshed.\n",
       "if (IPython.notebook.kernel != null) {\n",
       "    IPython.notebook.kernel.comm_manager.register_target('matplotlib', mpl.mpl_figure_comm);\n",
       "}\n"
      ],
      "text/plain": [
       "<IPython.core.display.Javascript object>"
      ]
     },
     "metadata": {},
     "output_type": "display_data"
    },
    {
     "data": {
      "text/html": [
       "<img src=\"data:image/png;base64,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\" width=\"1200\">"
      ],
      "text/plain": [
       "<IPython.core.display.HTML object>"
      ]
     },
     "metadata": {},
     "output_type": "display_data"
    }
   ],
   "source": [
    "# Image size to simulate\n",
    "image_size = np.array([64, 128])\n",
    "\n",
    "# Determine machine precision threshold\n",
    "eps = yp.precision(global_dtype) * np.prod(image_size)\n",
    "\n",
    "# Load object and crop to size\n",
    "x = sim.brain(image_size)\n",
    "\n",
    "# Generate convolution kernel h\n",
    "h_size = np.array([4, 4])\n",
    "h = yp.zeros(image_size, global_dtype, global_backend)\n",
    "h[image_size[0] // 2 - h_size[0] // 2:image_size[0] // 2 + h_size[0] // 2,\n",
    "  image_size[1] // 2 - h_size[1] // 2:image_size[1] // 2 + h_size[1] // 2] = yp.randn((h_size[0], h_size[1]), global_dtype, global_backend)\n",
    "\n",
    "h /= yp.scalar(yp.sum(yp.abs(h)))\n",
    "\n",
    "# Forward Operator\n",
    "A = ops.Convolution(h, mode='circular', pad_value='mean', invalid_support_value=0)\n",
    "A.inverse_regularizer = 1e-2\n",
    "\n",
    "# Generate Measurement\n",
    "y = A * x\n",
    "\n",
    "# Reconstruction\n",
    "x_star = A.inv * y\n",
    "\n",
    "# Show object and h\n",
    "plt.figure(figsize=(12,3))\n",
    "plt.subplot(141)\n",
    "plt.imshow(yp.abs(yp.changeBackend(x, 'numpy')), cmap='gray')\n",
    "plt.title('Object (x)')\n",
    "plt.subplot(142)\n",
    "plt.imshow(yp.abs(np.asarray(h)), cmap='gray')\n",
    "plt.title('h (A)')\n",
    "plt.subplot(143)\n",
    "plt.imshow((yp.abs(np.asarray(y))), cmap='gray')\n",
    "plt.title('Measurement (A * x)');\n",
    "plt.subplot(144)\n",
    "plt.imshow((yp.abs(np.asarray(x_star))), cmap='gray')\n",
    "plt.title('Recon (A.inv * A * x)');"
   ]
  },
  {
   "cell_type": "markdown",
   "metadata": {},
   "source": [
    "## Identity Operator"
   ]
  },
  {
   "cell_type": "code",
   "execution_count": 4,
   "metadata": {
    "ExecuteTime": {
     "end_time": "2019-05-02T16:17:14.945885Z",
     "start_time": "2019-05-02T16:17:14.915756Z"
    }
   },
   "outputs": [
    {
     "data": {
      "text/latex": [
       "$I(\\vec{x}) = I \\times \\vec{x}$"
      ],
      "text/plain": [
       "<IPython.core.display.Latex object>"
      ]
     },
     "metadata": {},
     "output_type": "display_data"
    },
    {
     "data": {
      "text/latex": [
       "$ \\nabla_xI(\\vec{x}) = I^H \\times \\vec{x}$"
      ],
      "text/plain": [
       "<IPython.core.display.Latex object>"
      ]
     },
     "metadata": {},
     "output_type": "display_data"
    }
   ],
   "source": [
    "I = ops.Identity(image_size)\n",
    "\n",
    "# Check forward operator\n",
    "assert yp.sum((I * x) - x) < eps\n",
    "\n",
    "# Check gradient\n",
    "I.gradient_check()\n",
    "\n",
    "# Render forward model\n",
    "I.latex()\n",
    "\n",
    "# Render gradient\n",
    "I.latex(gradient=True)"
   ]
  },
  {
   "cell_type": "markdown",
   "metadata": {},
   "source": [
    "## Diagonalization Operator"
   ]
  },
  {
   "cell_type": "code",
   "execution_count": 5,
   "metadata": {
    "ExecuteTime": {
     "end_time": "2019-05-02T16:17:15.870702Z",
     "start_time": "2019-05-02T16:17:15.841936Z"
    }
   },
   "outputs": [
    {
     "data": {
      "text/latex": [
       "$d(\\vec{x}) = diag(\\vec{d})\\times \\vec{x}$"
      ],
      "text/plain": [
       "<IPython.core.display.Latex object>"
      ]
     },
     "metadata": {},
     "output_type": "display_data"
    },
    {
     "data": {
      "text/latex": [
       "$ \\nabla_xd(\\vec{x}) = diag(\\vec{d})^H \\times \\vec{x}$"
      ],
      "text/plain": [
       "<IPython.core.display.Latex object>"
      ]
     },
     "metadata": {},
     "output_type": "display_data"
    }
   ],
   "source": [
    "K = ops.Diagonalize(h)\n",
    "\n",
    "# Check forward operator\n",
    "yp.assert_equality(K * x, h * x)\n",
    "\n",
    "# Check gradient\n",
    "K.gradient_check()\n",
    "\n",
    "# Render forward model\n",
    "K.latex()\n",
    "\n",
    "# Render gradient\n",
    "K.latex(gradient=True)"
   ]
  },
  {
   "cell_type": "markdown",
   "metadata": {},
   "source": [
    "## Matrix Multiplication Operator"
   ]
  },
  {
   "cell_type": "code",
   "execution_count": 6,
   "metadata": {
    "ExecuteTime": {
     "end_time": "2019-05-02T16:17:17.068123Z",
     "start_time": "2019-05-02T16:17:17.033973Z"
    }
   },
   "outputs": [
    {
     "data": {
      "text/latex": [
       "$A(\\vec{x}) = M\\vec{x}$"
      ],
      "text/plain": [
       "<IPython.core.display.Latex object>"
      ]
     },
     "metadata": {},
     "output_type": "display_data"
    },
    {
     "data": {
      "text/latex": [
       "$ \\nabla_xA(\\vec{x}) = M^H \\times \\vec{x}$"
      ],
      "text/plain": [
       "<IPython.core.display.Latex object>"
      ]
     },
     "metadata": {},
     "output_type": "display_data"
    }
   ],
   "source": [
    "matrix_size = (10,10)\n",
    "m = yp.rand(matrix_size, global_dtype, global_backend)\n",
    "xm = yp.rand(matrix_size[1], global_dtype, global_backend)\n",
    "M = ops.MatrixMultiply(m)\n",
    "\n",
    "# Check Forward operator\n",
    "assert yp.sum(yp.abs(yp.vec(yp.changeBackend(M * xm, 'numpy')) - yp.vec(yp.changeBackend(m, 'numpy').dot(yp.changeBackend(xm, 'numpy'))))) < eps, \"%f\" % yp.sum(yp.abs(yp.changeBackend(M * xm, 'numpy') - yp.changeBackend(m, 'numpy').dot(yp.changeBackend(xm, 'numpy'))[:, np.newaxis]))\n",
    "\n",
    "# Check Adjoint\n",
    "assert yp.sum(yp.abs(yp.vec(yp.changeBackend(M.H * xm, 'numpy')) - yp.vec(np.conj(yp.changeBackend(m, 'numpy').T).dot(yp.changeBackend(xm, 'numpy'))))) < eps, \"%f\" % yp.sum(yp.abs(yp.changeBackend(M.H * xm, 'numpy') - np.conj(yp.changeBackend(m, 'numpy').T).dot(yp.changeBackend(xm, 'numpy'))[:, np.newaxis]))\n",
    "\n",
    "# Check gradient\n",
    "M.gradient_check()\n",
    "\n",
    "# Render forward model\n",
    "M.latex()\n",
    "\n",
    "# Render gradient\n",
    "M.latex(gradient=True)"
   ]
  },
  {
   "cell_type": "markdown",
   "metadata": {},
   "source": [
    "## Circular Convolution Operator"
   ]
  },
  {
   "cell_type": "code",
   "execution_count": 7,
   "metadata": {
    "ExecuteTime": {
     "end_time": "2019-05-02T16:17:18.175073Z",
     "start_time": "2019-05-02T16:17:18.136173Z"
    }
   },
   "outputs": [
    {
     "data": {
      "text/latex": [
       "$C(\\vec{x}) = C \\times \\vec{x}$"
      ],
      "text/plain": [
       "<IPython.core.display.Latex object>"
      ]
     },
     "metadata": {},
     "output_type": "display_data"
    },
    {
     "data": {
      "text/latex": [
       "$ \\nabla_xC(\\vec{x}) = C^H \\times \\vec{x}$"
      ],
      "text/plain": [
       "<IPython.core.display.Latex object>"
      ]
     },
     "metadata": {},
     "output_type": "display_data"
    }
   ],
   "source": [
    "# Generate circular convolution operator\n",
    "C = ops.Convolution(h)\n",
    "\n",
    "# Test forward operator\n",
    "conv2 = lambda x, h: yp.changeBackend(np.fft.ifftshift((np.fft.ifft2(np.fft.fft2(x, axes=(0,1), norm='ortho') * np.fft.fft2(h, axes=(0,1), norm='ortho'), axes=(0,1), norm='ortho')), axes=(0,1)).astype(yp.getNativeDatatype(global_dtype, 'numpy')), global_backend)\n",
    "\n",
    "x_np = yp.changeBackend(x, 'numpy')\n",
    "h_np = yp.changeBackend(h, 'numpy')\n",
    "\n",
    "# Check gradient\n",
    "C.gradient_check(eps=1e-0)\n",
    "\n",
    "# Render forward model\n",
    "C.latex()\n",
    "\n",
    "# Render gradient\n",
    "C.latex(gradient=True)"
   ]
  },
  {
   "cell_type": "markdown",
   "metadata": {},
   "source": [
    "## Non-circular Convolution Operator"
   ]
  },
  {
   "cell_type": "code",
   "execution_count": 8,
   "metadata": {
    "ExecuteTime": {
     "end_time": "2019-05-02T16:17:19.050470Z",
     "start_time": "2019-05-02T16:17:18.946430Z"
    }
   },
   "outputs": [
    {
     "data": {
      "application/javascript": [
       "/* Put everything inside the global mpl namespace */\n",
       "window.mpl = {};\n",
       "\n",
       "\n",
       "mpl.get_websocket_type = function() {\n",
       "    if (typeof(WebSocket) !== 'undefined') {\n",
       "        return WebSocket;\n",
       "    } else if (typeof(MozWebSocket) !== 'undefined') {\n",
       "        return MozWebSocket;\n",
       "    } else {\n",
       "        alert('Your browser does not have WebSocket support. ' +\n",
       "              'Please try Chrome, Safari or Firefox ≥ 6. ' +\n",
       "              'Firefox 4 and 5 are also supported but you ' +\n",
       "              'have to enable WebSockets in about:config.');\n",
       "    };\n",
       "}\n",
       "\n",
       "mpl.figure = function(figure_id, websocket, ondownload, parent_element) {\n",
       "    this.id = figure_id;\n",
       "\n",
       "    this.ws = websocket;\n",
       "\n",
       "    this.supports_binary = (this.ws.binaryType != undefined);\n",
       "\n",
       "    if (!this.supports_binary) {\n",
       "        var warnings = document.getElementById(\"mpl-warnings\");\n",
       "        if (warnings) {\n",
       "            warnings.style.display = 'block';\n",
       "            warnings.textContent = (\n",
       "                \"This browser does not support binary websocket messages. \" +\n",
       "                    \"Performance may be slow.\");\n",
       "        }\n",
       "    }\n",
       "\n",
       "    this.imageObj = new Image();\n",
       "\n",
       "    this.context = undefined;\n",
       "    this.message = undefined;\n",
       "    this.canvas = undefined;\n",
       "    this.rubberband_canvas = undefined;\n",
       "    this.rubberband_context = undefined;\n",
       "    this.format_dropdown = undefined;\n",
       "\n",
       "    this.image_mode = 'full';\n",
       "\n",
       "    this.root = $('<div/>');\n",
       "    this._root_extra_style(this.root)\n",
       "    this.root.attr('style', 'display: inline-block');\n",
       "\n",
       "    $(parent_element).append(this.root);\n",
       "\n",
       "    this._init_header(this);\n",
       "    this._init_canvas(this);\n",
       "    this._init_toolbar(this);\n",
       "\n",
       "    var fig = this;\n",
       "\n",
       "    this.waiting = false;\n",
       "\n",
       "    this.ws.onopen =  function () {\n",
       "            fig.send_message(\"supports_binary\", {value: fig.supports_binary});\n",
       "            fig.send_message(\"send_image_mode\", {});\n",
       "            if (mpl.ratio != 1) {\n",
       "                fig.send_message(\"set_dpi_ratio\", {'dpi_ratio': mpl.ratio});\n",
       "            }\n",
       "            fig.send_message(\"refresh\", {});\n",
       "        }\n",
       "\n",
       "    this.imageObj.onload = function() {\n",
       "            if (fig.image_mode == 'full') {\n",
       "                // Full images could contain transparency (where diff images\n",
       "                // almost always do), so we need to clear the canvas so that\n",
       "                // there is no ghosting.\n",
       "                fig.context.clearRect(0, 0, fig.canvas.width, fig.canvas.height);\n",
       "            }\n",
       "            fig.context.drawImage(fig.imageObj, 0, 0);\n",
       "        };\n",
       "\n",
       "    this.imageObj.onunload = function() {\n",
       "        fig.ws.close();\n",
       "    }\n",
       "\n",
       "    this.ws.onmessage = this._make_on_message_function(this);\n",
       "\n",
       "    this.ondownload = ondownload;\n",
       "}\n",
       "\n",
       "mpl.figure.prototype._init_header = function() {\n",
       "    var titlebar = $(\n",
       "        '<div class=\"ui-dialog-titlebar ui-widget-header ui-corner-all ' +\n",
       "        'ui-helper-clearfix\"/>');\n",
       "    var titletext = $(\n",
       "        '<div class=\"ui-dialog-title\" style=\"width: 100%; ' +\n",
       "        'text-align: center; padding: 3px;\"/>');\n",
       "    titlebar.append(titletext)\n",
       "    this.root.append(titlebar);\n",
       "    this.header = titletext[0];\n",
       "}\n",
       "\n",
       "\n",
       "\n",
       "mpl.figure.prototype._canvas_extra_style = function(canvas_div) {\n",
       "\n",
       "}\n",
       "\n",
       "\n",
       "mpl.figure.prototype._root_extra_style = function(canvas_div) {\n",
       "\n",
       "}\n",
       "\n",
       "mpl.figure.prototype._init_canvas = function() {\n",
       "    var fig = this;\n",
       "\n",
       "    var canvas_div = $('<div/>');\n",
       "\n",
       "    canvas_div.attr('style', 'position: relative; clear: both; outline: 0');\n",
       "\n",
       "    function canvas_keyboard_event(event) {\n",
       "        return fig.key_event(event, event['data']);\n",
       "    }\n",
       "\n",
       "    canvas_div.keydown('key_press', canvas_keyboard_event);\n",
       "    canvas_div.keyup('key_release', canvas_keyboard_event);\n",
       "    this.canvas_div = canvas_div\n",
       "    this._canvas_extra_style(canvas_div)\n",
       "    this.root.append(canvas_div);\n",
       "\n",
       "    var canvas = $('<canvas/>');\n",
       "    canvas.addClass('mpl-canvas');\n",
       "    canvas.attr('style', \"left: 0; top: 0; z-index: 0; outline: 0\")\n",
       "\n",
       "    this.canvas = canvas[0];\n",
       "    this.context = canvas[0].getContext(\"2d\");\n",
       "\n",
       "    var backingStore = this.context.backingStorePixelRatio ||\n",
       "\tthis.context.webkitBackingStorePixelRatio ||\n",
       "\tthis.context.mozBackingStorePixelRatio ||\n",
       "\tthis.context.msBackingStorePixelRatio ||\n",
       "\tthis.context.oBackingStorePixelRatio ||\n",
       "\tthis.context.backingStorePixelRatio || 1;\n",
       "\n",
       "    mpl.ratio = (window.devicePixelRatio || 1) / backingStore;\n",
       "\n",
       "    var rubberband = $('<canvas/>');\n",
       "    rubberband.attr('style', \"position: absolute; left: 0; top: 0; z-index: 1;\")\n",
       "\n",
       "    var pass_mouse_events = true;\n",
       "\n",
       "    canvas_div.resizable({\n",
       "        start: function(event, ui) {\n",
       "            pass_mouse_events = false;\n",
       "        },\n",
       "        resize: function(event, ui) {\n",
       "            fig.request_resize(ui.size.width, ui.size.height);\n",
       "        },\n",
       "        stop: function(event, ui) {\n",
       "            pass_mouse_events = true;\n",
       "            fig.request_resize(ui.size.width, ui.size.height);\n",
       "        },\n",
       "    });\n",
       "\n",
       "    function mouse_event_fn(event) {\n",
       "        if (pass_mouse_events)\n",
       "            return fig.mouse_event(event, event['data']);\n",
       "    }\n",
       "\n",
       "    rubberband.mousedown('button_press', mouse_event_fn);\n",
       "    rubberband.mouseup('button_release', mouse_event_fn);\n",
       "    // Throttle sequential mouse events to 1 every 20ms.\n",
       "    rubberband.mousemove('motion_notify', mouse_event_fn);\n",
       "\n",
       "    rubberband.mouseenter('figure_enter', mouse_event_fn);\n",
       "    rubberband.mouseleave('figure_leave', mouse_event_fn);\n",
       "\n",
       "    canvas_div.on(\"wheel\", function (event) {\n",
       "        event = event.originalEvent;\n",
       "        event['data'] = 'scroll'\n",
       "        if (event.deltaY < 0) {\n",
       "            event.step = 1;\n",
       "        } else {\n",
       "            event.step = -1;\n",
       "        }\n",
       "        mouse_event_fn(event);\n",
       "    });\n",
       "\n",
       "    canvas_div.append(canvas);\n",
       "    canvas_div.append(rubberband);\n",
       "\n",
       "    this.rubberband = rubberband;\n",
       "    this.rubberband_canvas = rubberband[0];\n",
       "    this.rubberband_context = rubberband[0].getContext(\"2d\");\n",
       "    this.rubberband_context.strokeStyle = \"#000000\";\n",
       "\n",
       "    this._resize_canvas = function(width, height) {\n",
       "        // Keep the size of the canvas, canvas container, and rubber band\n",
       "        // canvas in synch.\n",
       "        canvas_div.css('width', width)\n",
       "        canvas_div.css('height', height)\n",
       "\n",
       "        canvas.attr('width', width * mpl.ratio);\n",
       "        canvas.attr('height', height * mpl.ratio);\n",
       "        canvas.attr('style', 'width: ' + width + 'px; height: ' + height + 'px;');\n",
       "\n",
       "        rubberband.attr('width', width);\n",
       "        rubberband.attr('height', height);\n",
       "    }\n",
       "\n",
       "    // Set the figure to an initial 600x600px, this will subsequently be updated\n",
       "    // upon first draw.\n",
       "    this._resize_canvas(600, 600);\n",
       "\n",
       "    // Disable right mouse context menu.\n",
       "    $(this.rubberband_canvas).bind(\"contextmenu\",function(e){\n",
       "        return false;\n",
       "    });\n",
       "\n",
       "    function set_focus () {\n",
       "        canvas.focus();\n",
       "        canvas_div.focus();\n",
       "    }\n",
       "\n",
       "    window.setTimeout(set_focus, 100);\n",
       "}\n",
       "\n",
       "mpl.figure.prototype._init_toolbar = function() {\n",
       "    var fig = this;\n",
       "\n",
       "    var nav_element = $('<div/>');\n",
       "    nav_element.attr('style', 'width: 100%');\n",
       "    this.root.append(nav_element);\n",
       "\n",
       "    // Define a callback function for later on.\n",
       "    function toolbar_event(event) {\n",
       "        return fig.toolbar_button_onclick(event['data']);\n",
       "    }\n",
       "    function toolbar_mouse_event(event) {\n",
       "        return fig.toolbar_button_onmouseover(event['data']);\n",
       "    }\n",
       "\n",
       "    for(var toolbar_ind in mpl.toolbar_items) {\n",
       "        var name = mpl.toolbar_items[toolbar_ind][0];\n",
       "        var tooltip = mpl.toolbar_items[toolbar_ind][1];\n",
       "        var image = mpl.toolbar_items[toolbar_ind][2];\n",
       "        var method_name = mpl.toolbar_items[toolbar_ind][3];\n",
       "\n",
       "        if (!name) {\n",
       "            // put a spacer in here.\n",
       "            continue;\n",
       "        }\n",
       "        var button = $('<button/>');\n",
       "        button.addClass('ui-button ui-widget ui-state-default ui-corner-all ' +\n",
       "                        'ui-button-icon-only');\n",
       "        button.attr('role', 'button');\n",
       "        button.attr('aria-disabled', 'false');\n",
       "        button.click(method_name, toolbar_event);\n",
       "        button.mouseover(tooltip, toolbar_mouse_event);\n",
       "\n",
       "        var icon_img = $('<span/>');\n",
       "        icon_img.addClass('ui-button-icon-primary ui-icon');\n",
       "        icon_img.addClass(image);\n",
       "        icon_img.addClass('ui-corner-all');\n",
       "\n",
       "        var tooltip_span = $('<span/>');\n",
       "        tooltip_span.addClass('ui-button-text');\n",
       "        tooltip_span.html(tooltip);\n",
       "\n",
       "        button.append(icon_img);\n",
       "        button.append(tooltip_span);\n",
       "\n",
       "        nav_element.append(button);\n",
       "    }\n",
       "\n",
       "    var fmt_picker_span = $('<span/>');\n",
       "\n",
       "    var fmt_picker = $('<select/>');\n",
       "    fmt_picker.addClass('mpl-toolbar-option ui-widget ui-widget-content');\n",
       "    fmt_picker_span.append(fmt_picker);\n",
       "    nav_element.append(fmt_picker_span);\n",
       "    this.format_dropdown = fmt_picker[0];\n",
       "\n",
       "    for (var ind in mpl.extensions) {\n",
       "        var fmt = mpl.extensions[ind];\n",
       "        var option = $(\n",
       "            '<option/>', {selected: fmt === mpl.default_extension}).html(fmt);\n",
       "        fmt_picker.append(option);\n",
       "    }\n",
       "\n",
       "    // Add hover states to the ui-buttons\n",
       "    $( \".ui-button\" ).hover(\n",
       "        function() { $(this).addClass(\"ui-state-hover\");},\n",
       "        function() { $(this).removeClass(\"ui-state-hover\");}\n",
       "    );\n",
       "\n",
       "    var status_bar = $('<span class=\"mpl-message\"/>');\n",
       "    nav_element.append(status_bar);\n",
       "    this.message = status_bar[0];\n",
       "}\n",
       "\n",
       "mpl.figure.prototype.request_resize = function(x_pixels, y_pixels) {\n",
       "    // Request matplotlib to resize the figure. Matplotlib will then trigger a resize in the client,\n",
       "    // which will in turn request a refresh of the image.\n",
       "    this.send_message('resize', {'width': x_pixels, 'height': y_pixels});\n",
       "}\n",
       "\n",
       "mpl.figure.prototype.send_message = function(type, properties) {\n",
       "    properties['type'] = type;\n",
       "    properties['figure_id'] = this.id;\n",
       "    this.ws.send(JSON.stringify(properties));\n",
       "}\n",
       "\n",
       "mpl.figure.prototype.send_draw_message = function() {\n",
       "    if (!this.waiting) {\n",
       "        this.waiting = true;\n",
       "        this.ws.send(JSON.stringify({type: \"draw\", figure_id: this.id}));\n",
       "    }\n",
       "}\n",
       "\n",
       "\n",
       "mpl.figure.prototype.handle_save = function(fig, msg) {\n",
       "    var format_dropdown = fig.format_dropdown;\n",
       "    var format = format_dropdown.options[format_dropdown.selectedIndex].value;\n",
       "    fig.ondownload(fig, format);\n",
       "}\n",
       "\n",
       "\n",
       "mpl.figure.prototype.handle_resize = function(fig, msg) {\n",
       "    var size = msg['size'];\n",
       "    if (size[0] != fig.canvas.width || size[1] != fig.canvas.height) {\n",
       "        fig._resize_canvas(size[0], size[1]);\n",
       "        fig.send_message(\"refresh\", {});\n",
       "    };\n",
       "}\n",
       "\n",
       "mpl.figure.prototype.handle_rubberband = function(fig, msg) {\n",
       "    var x0 = msg['x0'] / mpl.ratio;\n",
       "    var y0 = (fig.canvas.height - msg['y0']) / mpl.ratio;\n",
       "    var x1 = msg['x1'] / mpl.ratio;\n",
       "    var y1 = (fig.canvas.height - msg['y1']) / mpl.ratio;\n",
       "    x0 = Math.floor(x0) + 0.5;\n",
       "    y0 = Math.floor(y0) + 0.5;\n",
       "    x1 = Math.floor(x1) + 0.5;\n",
       "    y1 = Math.floor(y1) + 0.5;\n",
       "    var min_x = Math.min(x0, x1);\n",
       "    var min_y = Math.min(y0, y1);\n",
       "    var width = Math.abs(x1 - x0);\n",
       "    var height = Math.abs(y1 - y0);\n",
       "\n",
       "    fig.rubberband_context.clearRect(\n",
       "        0, 0, fig.canvas.width, fig.canvas.height);\n",
       "\n",
       "    fig.rubberband_context.strokeRect(min_x, min_y, width, height);\n",
       "}\n",
       "\n",
       "mpl.figure.prototype.handle_figure_label = function(fig, msg) {\n",
       "    // Updates the figure title.\n",
       "    fig.header.textContent = msg['label'];\n",
       "}\n",
       "\n",
       "mpl.figure.prototype.handle_cursor = function(fig, msg) {\n",
       "    var cursor = msg['cursor'];\n",
       "    switch(cursor)\n",
       "    {\n",
       "    case 0:\n",
       "        cursor = 'pointer';\n",
       "        break;\n",
       "    case 1:\n",
       "        cursor = 'default';\n",
       "        break;\n",
       "    case 2:\n",
       "        cursor = 'crosshair';\n",
       "        break;\n",
       "    case 3:\n",
       "        cursor = 'move';\n",
       "        break;\n",
       "    }\n",
       "    fig.rubberband_canvas.style.cursor = cursor;\n",
       "}\n",
       "\n",
       "mpl.figure.prototype.handle_message = function(fig, msg) {\n",
       "    fig.message.textContent = msg['message'];\n",
       "}\n",
       "\n",
       "mpl.figure.prototype.handle_draw = function(fig, msg) {\n",
       "    // Request the server to send over a new figure.\n",
       "    fig.send_draw_message();\n",
       "}\n",
       "\n",
       "mpl.figure.prototype.handle_image_mode = function(fig, msg) {\n",
       "    fig.image_mode = msg['mode'];\n",
       "}\n",
       "\n",
       "mpl.figure.prototype.updated_canvas_event = function() {\n",
       "    // Called whenever the canvas gets updated.\n",
       "    this.send_message(\"ack\", {});\n",
       "}\n",
       "\n",
       "// A function to construct a web socket function for onmessage handling.\n",
       "// Called in the figure constructor.\n",
       "mpl.figure.prototype._make_on_message_function = function(fig) {\n",
       "    return function socket_on_message(evt) {\n",
       "        if (evt.data instanceof Blob) {\n",
       "            /* FIXME: We get \"Resource interpreted as Image but\n",
       "             * transferred with MIME type text/plain:\" errors on\n",
       "             * Chrome.  But how to set the MIME type?  It doesn't seem\n",
       "             * to be part of the websocket stream */\n",
       "            evt.data.type = \"image/png\";\n",
       "\n",
       "            /* Free the memory for the previous frames */\n",
       "            if (fig.imageObj.src) {\n",
       "                (window.URL || window.webkitURL).revokeObjectURL(\n",
       "                    fig.imageObj.src);\n",
       "            }\n",
       "\n",
       "            fig.imageObj.src = (window.URL || window.webkitURL).createObjectURL(\n",
       "                evt.data);\n",
       "            fig.updated_canvas_event();\n",
       "            fig.waiting = false;\n",
       "            return;\n",
       "        }\n",
       "        else if (typeof evt.data === 'string' && evt.data.slice(0, 21) == \"data:image/png;base64\") {\n",
       "            fig.imageObj.src = evt.data;\n",
       "            fig.updated_canvas_event();\n",
       "            fig.waiting = false;\n",
       "            return;\n",
       "        }\n",
       "\n",
       "        var msg = JSON.parse(evt.data);\n",
       "        var msg_type = msg['type'];\n",
       "\n",
       "        // Call the  \"handle_{type}\" callback, which takes\n",
       "        // the figure and JSON message as its only arguments.\n",
       "        try {\n",
       "            var callback = fig[\"handle_\" + msg_type];\n",
       "        } catch (e) {\n",
       "            console.log(\"No handler for the '\" + msg_type + \"' message type: \", msg);\n",
       "            return;\n",
       "        }\n",
       "\n",
       "        if (callback) {\n",
       "            try {\n",
       "                // console.log(\"Handling '\" + msg_type + \"' message: \", msg);\n",
       "                callback(fig, msg);\n",
       "            } catch (e) {\n",
       "                console.log(\"Exception inside the 'handler_\" + msg_type + \"' callback:\", e, e.stack, msg);\n",
       "            }\n",
       "        }\n",
       "    };\n",
       "}\n",
       "\n",
       "// from http://stackoverflow.com/questions/1114465/getting-mouse-location-in-canvas\n",
       "mpl.findpos = function(e) {\n",
       "    //this section is from http://www.quirksmode.org/js/events_properties.html\n",
       "    var targ;\n",
       "    if (!e)\n",
       "        e = window.event;\n",
       "    if (e.target)\n",
       "        targ = e.target;\n",
       "    else if (e.srcElement)\n",
       "        targ = e.srcElement;\n",
       "    if (targ.nodeType == 3) // defeat Safari bug\n",
       "        targ = targ.parentNode;\n",
       "\n",
       "    // jQuery normalizes the pageX and pageY\n",
       "    // pageX,Y are the mouse positions relative to the document\n",
       "    // offset() returns the position of the element relative to the document\n",
       "    var x = e.pageX - $(targ).offset().left;\n",
       "    var y = e.pageY - $(targ).offset().top;\n",
       "\n",
       "    return {\"x\": x, \"y\": y};\n",
       "};\n",
       "\n",
       "/*\n",
       " * return a copy of an object with only non-object keys\n",
       " * we need this to avoid circular references\n",
       " * http://stackoverflow.com/a/24161582/3208463\n",
       " */\n",
       "function simpleKeys (original) {\n",
       "  return Object.keys(original).reduce(function (obj, key) {\n",
       "    if (typeof original[key] !== 'object')\n",
       "        obj[key] = original[key]\n",
       "    return obj;\n",
       "  }, {});\n",
       "}\n",
       "\n",
       "mpl.figure.prototype.mouse_event = function(event, name) {\n",
       "    var canvas_pos = mpl.findpos(event)\n",
       "\n",
       "    if (name === 'button_press')\n",
       "    {\n",
       "        this.canvas.focus();\n",
       "        this.canvas_div.focus();\n",
       "    }\n",
       "\n",
       "    var x = canvas_pos.x * mpl.ratio;\n",
       "    var y = canvas_pos.y * mpl.ratio;\n",
       "\n",
       "    this.send_message(name, {x: x, y: y, button: event.button,\n",
       "                             step: event.step,\n",
       "                             guiEvent: simpleKeys(event)});\n",
       "\n",
       "    /* This prevents the web browser from automatically changing to\n",
       "     * the text insertion cursor when the button is pressed.  We want\n",
       "     * to control all of the cursor setting manually through the\n",
       "     * 'cursor' event from matplotlib */\n",
       "    event.preventDefault();\n",
       "    return false;\n",
       "}\n",
       "\n",
       "mpl.figure.prototype._key_event_extra = function(event, name) {\n",
       "    // Handle any extra behaviour associated with a key event\n",
       "}\n",
       "\n",
       "mpl.figure.prototype.key_event = function(event, name) {\n",
       "\n",
       "    // Prevent repeat events\n",
       "    if (name == 'key_press')\n",
       "    {\n",
       "        if (event.which === this._key)\n",
       "            return;\n",
       "        else\n",
       "            this._key = event.which;\n",
       "    }\n",
       "    if (name == 'key_release')\n",
       "        this._key = null;\n",
       "\n",
       "    var value = '';\n",
       "    if (event.ctrlKey && event.which != 17)\n",
       "        value += \"ctrl+\";\n",
       "    if (event.altKey && event.which != 18)\n",
       "        value += \"alt+\";\n",
       "    if (event.shiftKey && event.which != 16)\n",
       "        value += \"shift+\";\n",
       "\n",
       "    value += 'k';\n",
       "    value += event.which.toString();\n",
       "\n",
       "    this._key_event_extra(event, name);\n",
       "\n",
       "    this.send_message(name, {key: value,\n",
       "                             guiEvent: simpleKeys(event)});\n",
       "    return false;\n",
       "}\n",
       "\n",
       "mpl.figure.prototype.toolbar_button_onclick = function(name) {\n",
       "    if (name == 'download') {\n",
       "        this.handle_save(this, null);\n",
       "    } else {\n",
       "        this.send_message(\"toolbar_button\", {name: name});\n",
       "    }\n",
       "};\n",
       "\n",
       "mpl.figure.prototype.toolbar_button_onmouseover = function(tooltip) {\n",
       "    this.message.textContent = tooltip;\n",
       "};\n",
       "mpl.toolbar_items = [[\"Home\", \"Reset original view\", \"fa fa-home icon-home\", \"home\"], [\"Back\", \"Back to previous view\", \"fa fa-arrow-left icon-arrow-left\", \"back\"], [\"Forward\", \"Forward to next view\", \"fa fa-arrow-right icon-arrow-right\", \"forward\"], [\"\", \"\", \"\", \"\"], [\"Pan\", \"Pan axes with left mouse, zoom with right\", \"fa fa-arrows icon-move\", \"pan\"], [\"Zoom\", \"Zoom to rectangle\", \"fa fa-square-o icon-check-empty\", \"zoom\"], [\"\", \"\", \"\", \"\"], [\"Download\", \"Download plot\", \"fa fa-floppy-o icon-save\", \"download\"]];\n",
       "\n",
       "mpl.extensions = [\"eps\", \"jpeg\", \"pdf\", \"png\", \"ps\", \"raw\", \"svg\", \"tif\"];\n",
       "\n",
       "mpl.default_extension = \"png\";var comm_websocket_adapter = function(comm) {\n",
       "    // Create a \"websocket\"-like object which calls the given IPython comm\n",
       "    // object with the appropriate methods. Currently this is a non binary\n",
       "    // socket, so there is still some room for performance tuning.\n",
       "    var ws = {};\n",
       "\n",
       "    ws.close = function() {\n",
       "        comm.close()\n",
       "    };\n",
       "    ws.send = function(m) {\n",
       "        //console.log('sending', m);\n",
       "        comm.send(m);\n",
       "    };\n",
       "    // Register the callback with on_msg.\n",
       "    comm.on_msg(function(msg) {\n",
       "        //console.log('receiving', msg['content']['data'], msg);\n",
       "        // Pass the mpl event to the overridden (by mpl) onmessage function.\n",
       "        ws.onmessage(msg['content']['data'])\n",
       "    });\n",
       "    return ws;\n",
       "}\n",
       "\n",
       "mpl.mpl_figure_comm = function(comm, msg) {\n",
       "    // This is the function which gets called when the mpl process\n",
       "    // starts-up an IPython Comm through the \"matplotlib\" channel.\n",
       "\n",
       "    var id = msg.content.data.id;\n",
       "    // Get hold of the div created by the display call when the Comm\n",
       "    // socket was opened in Python.\n",
       "    var element = $(\"#\" + id);\n",
       "    var ws_proxy = comm_websocket_adapter(comm)\n",
       "\n",
       "    function ondownload(figure, format) {\n",
       "        window.open(figure.imageObj.src);\n",
       "    }\n",
       "\n",
       "    var fig = new mpl.figure(id, ws_proxy,\n",
       "                           ondownload,\n",
       "                           element.get(0));\n",
       "\n",
       "    // Call onopen now - mpl needs it, as it is assuming we've passed it a real\n",
       "    // web socket which is closed, not our websocket->open comm proxy.\n",
       "    ws_proxy.onopen();\n",
       "\n",
       "    fig.parent_element = element.get(0);\n",
       "    fig.cell_info = mpl.find_output_cell(\"<div id='\" + id + \"'></div>\");\n",
       "    if (!fig.cell_info) {\n",
       "        console.error(\"Failed to find cell for figure\", id, fig);\n",
       "        return;\n",
       "    }\n",
       "\n",
       "    var output_index = fig.cell_info[2]\n",
       "    var cell = fig.cell_info[0];\n",
       "\n",
       "};\n",
       "\n",
       "mpl.figure.prototype.handle_close = function(fig, msg) {\n",
       "    var width = fig.canvas.width/mpl.ratio\n",
       "    fig.root.unbind('remove')\n",
       "\n",
       "    // Update the output cell to use the data from the current canvas.\n",
       "    fig.push_to_output();\n",
       "    var dataURL = fig.canvas.toDataURL();\n",
       "    // Re-enable the keyboard manager in IPython - without this line, in FF,\n",
       "    // the notebook keyboard shortcuts fail.\n",
       "    IPython.keyboard_manager.enable()\n",
       "    $(fig.parent_element).html('<img src=\"' + dataURL + '\" width=\"' + width + '\">');\n",
       "    fig.close_ws(fig, msg);\n",
       "}\n",
       "\n",
       "mpl.figure.prototype.close_ws = function(fig, msg){\n",
       "    fig.send_message('closing', msg);\n",
       "    // fig.ws.close()\n",
       "}\n",
       "\n",
       "mpl.figure.prototype.push_to_output = function(remove_interactive) {\n",
       "    // Turn the data on the canvas into data in the output cell.\n",
       "    var width = this.canvas.width/mpl.ratio\n",
       "    var dataURL = this.canvas.toDataURL();\n",
       "    this.cell_info[1]['text/html'] = '<img src=\"' + dataURL + '\" width=\"' + width + '\">';\n",
       "}\n",
       "\n",
       "mpl.figure.prototype.updated_canvas_event = function() {\n",
       "    // Tell IPython that the notebook contents must change.\n",
       "    IPython.notebook.set_dirty(true);\n",
       "    this.send_message(\"ack\", {});\n",
       "    var fig = this;\n",
       "    // Wait a second, then push the new image to the DOM so\n",
       "    // that it is saved nicely (might be nice to debounce this).\n",
       "    setTimeout(function () { fig.push_to_output() }, 1000);\n",
       "}\n",
       "\n",
       "mpl.figure.prototype._init_toolbar = function() {\n",
       "    var fig = this;\n",
       "\n",
       "    var nav_element = $('<div/>');\n",
       "    nav_element.attr('style', 'width: 100%');\n",
       "    this.root.append(nav_element);\n",
       "\n",
       "    // Define a callback function for later on.\n",
       "    function toolbar_event(event) {\n",
       "        return fig.toolbar_button_onclick(event['data']);\n",
       "    }\n",
       "    function toolbar_mouse_event(event) {\n",
       "        return fig.toolbar_button_onmouseover(event['data']);\n",
       "    }\n",
       "\n",
       "    for(var toolbar_ind in mpl.toolbar_items){\n",
       "        var name = mpl.toolbar_items[toolbar_ind][0];\n",
       "        var tooltip = mpl.toolbar_items[toolbar_ind][1];\n",
       "        var image = mpl.toolbar_items[toolbar_ind][2];\n",
       "        var method_name = mpl.toolbar_items[toolbar_ind][3];\n",
       "\n",
       "        if (!name) { continue; };\n",
       "\n",
       "        var button = $('<button class=\"btn btn-default\" href=\"#\" title=\"' + name + '\"><i class=\"fa ' + image + ' fa-lg\"></i></button>');\n",
       "        button.click(method_name, toolbar_event);\n",
       "        button.mouseover(tooltip, toolbar_mouse_event);\n",
       "        nav_element.append(button);\n",
       "    }\n",
       "\n",
       "    // Add the status bar.\n",
       "    var status_bar = $('<span class=\"mpl-message\" style=\"text-align:right; float: right;\"/>');\n",
       "    nav_element.append(status_bar);\n",
       "    this.message = status_bar[0];\n",
       "\n",
       "    // Add the close button to the window.\n",
       "    var buttongrp = $('<div class=\"btn-group inline pull-right\"></div>');\n",
       "    var button = $('<button class=\"btn btn-mini btn-primary\" href=\"#\" title=\"Stop Interaction\"><i class=\"fa fa-power-off icon-remove icon-large\"></i></button>');\n",
       "    button.click(function (evt) { fig.handle_close(fig, {}); } );\n",
       "    button.mouseover('Stop Interaction', toolbar_mouse_event);\n",
       "    buttongrp.append(button);\n",
       "    var titlebar = this.root.find($('.ui-dialog-titlebar'));\n",
       "    titlebar.prepend(buttongrp);\n",
       "}\n",
       "\n",
       "mpl.figure.prototype._root_extra_style = function(el){\n",
       "    var fig = this\n",
       "    el.on(\"remove\", function(){\n",
       "\tfig.close_ws(fig, {});\n",
       "    });\n",
       "}\n",
       "\n",
       "mpl.figure.prototype._canvas_extra_style = function(el){\n",
       "    // this is important to make the div 'focusable\n",
       "    el.attr('tabindex', 0)\n",
       "    // reach out to IPython and tell the keyboard manager to turn it's self\n",
       "    // off when our div gets focus\n",
       "\n",
       "    // location in version 3\n",
       "    if (IPython.notebook.keyboard_manager) {\n",
       "        IPython.notebook.keyboard_manager.register_events(el);\n",
       "    }\n",
       "    else {\n",
       "        // location in version 2\n",
       "        IPython.keyboard_manager.register_events(el);\n",
       "    }\n",
       "\n",
       "}\n",
       "\n",
       "mpl.figure.prototype._key_event_extra = function(event, name) {\n",
       "    var manager = IPython.notebook.keyboard_manager;\n",
       "    if (!manager)\n",
       "        manager = IPython.keyboard_manager;\n",
       "\n",
       "    // Check for shift+enter\n",
       "    if (event.shiftKey && event.which == 13) {\n",
       "        this.canvas_div.blur();\n",
       "        event.shiftKey = false;\n",
       "        // Send a \"J\" for go to next cell\n",
       "        event.which = 74;\n",
       "        event.keyCode = 74;\n",
       "        manager.command_mode();\n",
       "        manager.handle_keydown(event);\n",
       "    }\n",
       "}\n",
       "\n",
       "mpl.figure.prototype.handle_save = function(fig, msg) {\n",
       "    fig.ondownload(fig, null);\n",
       "}\n",
       "\n",
       "\n",
       "mpl.find_output_cell = function(html_output) {\n",
       "    // Return the cell and output element which can be found *uniquely* in the notebook.\n",
       "    // Note - this is a bit hacky, but it is done because the \"notebook_saving.Notebook\"\n",
       "    // IPython event is triggered only after the cells have been serialised, which for\n",
       "    // our purposes (turning an active figure into a static one), is too late.\n",
       "    var cells = IPython.notebook.get_cells();\n",
       "    var ncells = cells.length;\n",
       "    for (var i=0; i<ncells; i++) {\n",
       "        var cell = cells[i];\n",
       "        if (cell.cell_type === 'code'){\n",
       "            for (var j=0; j<cell.output_area.outputs.length; j++) {\n",
       "                var data = cell.output_area.outputs[j];\n",
       "                if (data.data) {\n",
       "                    // IPython >= 3 moved mimebundle to data attribute of output\n",
       "                    data = data.data;\n",
       "                }\n",
       "                if (data['text/html'] == html_output) {\n",
       "                    return [cell, data, j];\n",
       "                }\n",
       "            }\n",
       "        }\n",
       "    }\n",
       "}\n",
       "\n",
       "// Register the function which deals with the matplotlib target/channel.\n",
       "// The kernel may be null if the page has been refreshed.\n",
       "if (IPython.notebook.kernel != null) {\n",
       "    IPython.notebook.kernel.comm_manager.register_target('matplotlib', mpl.mpl_figure_comm);\n",
       "}\n"
      ],
      "text/plain": [
       "<IPython.core.display.Javascript object>"
      ]
     },
     "metadata": {},
     "output_type": "display_data"
    },
    {
     "data": {
      "text/html": [
       "<img src=\"data:image/png;base64,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\" width=\"1000\">"
      ],
      "text/plain": [
       "<IPython.core.display.HTML object>"
      ]
     },
     "metadata": {},
     "output_type": "display_data"
    },
    {
     "name": "stdout",
     "output_type": "stream",
     "text": [
      "SSD is 5.04E+03\n"
     ]
    },
    {
     "data": {
      "text/latex": [
       "$C(\\vec{x}) = C \\times \\vec{x}$"
      ],
      "text/plain": [
       "<IPython.core.display.Latex object>"
      ]
     },
     "metadata": {},
     "output_type": "display_data"
    },
    {
     "data": {
      "text/latex": [
       "$ \\nabla_xC(\\vec{x}) = C^H \\times \\vec{x}$"
      ],
      "text/plain": [
       "<IPython.core.display.Latex object>"
      ]
     },
     "metadata": {},
     "output_type": "display_data"
    }
   ],
   "source": [
    "pad_value = 0\n",
    "\n",
    "# Windowed Convolution\n",
    "C_full = ops.Convolution(h, mode='same', pad_value=pad_value, dtype=global_dtype, backend=global_backend)\n",
    "y_full = yp.changeBackend(yp.abs(C_full * x), 'numpy')\n",
    "\n",
    "# Circular Convolution\n",
    "C = ops.Convolution(h,  dtype=global_dtype, backend=global_backend)\n",
    "y5 = yp.abs(yp.changeBackend(C * x, 'numpy'))\n",
    "\n",
    "plt.figure(figsize=(10,2))\n",
    "plt.subplot(131)\n",
    "plt.imshow(yp.real(y5))\n",
    "plt.title('FFT')\n",
    "plt.subplot(132)\n",
    "plt.imshow(yp.real(y_full))\n",
    "plt.title('Windowed')\n",
    "plt.subplot(133)\n",
    "plt.imshow(yp.abs(y_full - y5))\n",
    "plt.title('|FFT - windowed|');\n",
    "plt.colorbar()\n",
    "\n",
    "print('SSD is %.2E' % yp.sum(yp.abs(y_full - y5)) ** 2)\n",
    "\n",
    "# Check Gradient\n",
    "C_full.gradient_check()\n",
    "\n",
    "# Render forward model\n",
    "C_full.latex()\n",
    "\n",
    "# Render gradient\n",
    "C_full.latex(gradient=True)"
   ]
  },
  {
   "cell_type": "markdown",
   "metadata": {},
   "source": [
    "## Cross-Correlation Operator"
   ]
  },
  {
   "cell_type": "code",
   "execution_count": 9,
   "metadata": {
    "ExecuteTime": {
     "end_time": "2019-05-02T16:17:20.198001Z",
     "start_time": "2019-05-02T16:17:20.161187Z"
    }
   },
   "outputs": [
    {
     "data": {
      "text/latex": [
       "$X(\\vec{x}) = X \\times \\vec{x}$"
      ],
      "text/plain": [
       "<IPython.core.display.Latex object>"
      ]
     },
     "metadata": {},
     "output_type": "display_data"
    },
    {
     "data": {
      "text/latex": [
       "$ \\nabla_xX(\\vec{x}) = X^H \\times \\vec{x}$"
      ],
      "text/plain": [
       "<IPython.core.display.Latex object>"
      ]
     },
     "metadata": {},
     "output_type": "display_data"
    }
   ],
   "source": [
    "XC = ops.CrossCorrelation(h)\n",
    "\n",
    "xc = lambda x, h: np.fft.ifftshift((np.fft.ifft2(np.fft.fft2(x, axes=(0,1), norm='ortho') \\\n",
    "                                                                * np.conj(np.fft.fft2(h, axes=(0,1), norm='ortho')), axes=(0,1), norm='ortho')), axes=(0,1)).astype(np.complex64)\n",
    "\n",
    "# Check forward operator\n",
    "# y1 = yp.changeBackend(XC * vec(x), 'numpy')\n",
    "# y2 = xc(yp.changeBackend(x, 'numpy'), yp.changeBackend(h, 'numpy'))\n",
    "# assert yp.sum(yp.abs(y1 - y2.reshape(-1))) < eps\n",
    "\n",
    "# Check gradient\n",
    "XC.gradient_check()\n",
    "\n",
    "# Render forward model\n",
    "XC.latex()\n",
    "\n",
    "# Render gradient\n",
    "XC.latex(gradient=True)"
   ]
  },
  {
   "cell_type": "markdown",
   "metadata": {},
   "source": [
    "## Crop Operator: Centered"
   ]
  },
  {
   "cell_type": "code",
   "execution_count": 16,
   "metadata": {
    "ExecuteTime": {
     "end_time": "2019-05-02T16:19:59.562695Z",
     "start_time": "2019-05-02T16:19:59.512099Z"
    }
   },
   "outputs": [
    {
     "data": {
      "text/latex": [
       "$CR(\\vec{x}) = CR_{(64, 128) \\longrightarrow (32, 64)} \\times \\vec{x}$"
      ],
      "text/plain": [
       "<IPython.core.display.Latex object>"
      ]
     },
     "metadata": {},
     "output_type": "display_data"
    },
    {
     "data": {
      "text/latex": [
       "$ \\nabla_xCR(\\vec{x}) = CR_{(64, 128) \\longrightarrow (32, 64)}^H \\times \\vec{x}$"
      ],
      "text/plain": [
       "<IPython.core.display.Latex object>"
      ]
     },
     "metadata": {},
     "output_type": "display_data"
    }
   ],
   "source": [
    "# Generate Crop Operator\n",
    "crop_size = (image_size[0] // 2, image_size[1] // 2)\n",
    "crop_start = tuple(np.asarray(image_size) // 2 - np.asarray(crop_size) // 2)\n",
    "CR = ops.Crop(image_size, crop_size, pad_value=0, crop_start=crop_start, dtype=global_dtype, backend=global_backend)\n",
    "\n",
    "# Check forward operator\n",
    "y_1 = yp.changeBackend(CR * x, 'numpy')\n",
    "y_2 = yp.changeBackend(yp.crop(x, crop_size, crop_start), 'numpy')\n",
    "assert yp.sum(yp.abs(y_1 - y_2)) < eps\n",
    "\n",
    "# Check Adjoint Operator\n",
    "pad_size = [int((image_size[i] - crop_size[i]) / 2) for i in range(len(image_size))]\n",
    "y_3 = yp.pad(yp.crop(x, crop_size, crop_start), image_size, crop_start, pad_value=0)\n",
    "y_4 = CR.H * CR * x\n",
    "assert yp.sum(yp.abs(y_3 - y_4)) < eps\n",
    "\n",
    "# Check gradient\n",
    "CR.gradient_check()\n",
    "\n",
    "# Render forward model\n",
    "CR.latex()\n",
    "\n",
    "# Render gradient\n",
    "CR.latex(gradient=True)"
   ]
  },
  {
   "cell_type": "markdown",
   "metadata": {},
   "source": [
    "## Crop Operator: Non-Centered"
   ]
  },
  {
   "cell_type": "code",
   "execution_count": 17,
   "metadata": {
    "ExecuteTime": {
     "end_time": "2019-05-02T16:20:01.095449Z",
     "start_time": "2019-05-02T16:20:01.059903Z"
    }
   },
   "outputs": [
    {
     "data": {
      "text/latex": [
       "$CR(\\vec{x}) = CR_{(64, 128) \\longrightarrow (32, 64)} \\times \\vec{x}$"
      ],
      "text/plain": [
       "<IPython.core.display.Latex object>"
      ]
     },
     "metadata": {},
     "output_type": "display_data"
    },
    {
     "data": {
      "text/latex": [
       "$ \\nabla_xCR(\\vec{x}) = CR_{(64, 128) \\longrightarrow (32, 64)}^H \\times \\vec{x}$"
      ],
      "text/plain": [
       "<IPython.core.display.Latex object>"
      ]
     },
     "metadata": {},
     "output_type": "display_data"
    }
   ],
   "source": [
    "# Generate Crop Operator\n",
    "crop_size = (image_size[0] // 2, image_size[1] // 2)\n",
    "crop_start = (6, 6)\n",
    "CR = ops.Crop(image_size, crop_size, pad_value=0,  dtype=global_dtype, backend=global_backend, crop_start=crop_start)\n",
    "\n",
    "# Check forward operator\n",
    "y_1 = yp.changeBackend(CR * x, 'numpy')\n",
    "y_2 = yp.changeBackend(yp.crop(x, crop_size, crop_start), 'numpy')\n",
    "assert yp.sum(yp.abs(y_1 - y_2)) < eps\n",
    "\n",
    "# Check Adjoint Operator\n",
    "pad_size = [int((image_size[i] - crop_size[i]) / 2) for i in range(len(image_size))]\n",
    "y_3 = yp.pad(yp.crop(x, crop_size, crop_start), image_size, crop_start, pad_value=0)\n",
    "y_4 = yp.reshape(CR.H * CR * x, image_size)\n",
    "assert yp.sum(yp.abs(y_3 - y_4)) < eps\n",
    "\n",
    "# Check gradient\n",
    "CR.gradient_check()\n",
    "\n",
    "# Render forward model\n",
    "CR.latex()\n",
    "\n",
    "# Render gradient\n",
    "CR.latex(gradient=True)"
   ]
  },
  {
   "cell_type": "markdown",
   "metadata": {},
   "source": [
    "## Shift Operator"
   ]
  },
  {
   "cell_type": "code",
   "execution_count": 18,
   "metadata": {
    "ExecuteTime": {
     "end_time": "2019-05-02T16:20:02.903601Z",
     "start_time": "2019-05-02T16:20:02.872701Z"
    }
   },
   "outputs": [
    {
     "data": {
      "text/latex": [
       "$S(\\vec{x}) = S \\times \\vec{x}$"
      ],
      "text/plain": [
       "<IPython.core.display.Latex object>"
      ]
     },
     "metadata": {},
     "output_type": "display_data"
    },
    {
     "data": {
      "text/latex": [
       "$ \\nabla_xS(\\vec{x}) = S^H \\times \\vec{x}$"
      ],
      "text/plain": [
       "<IPython.core.display.Latex object>"
      ]
     },
     "metadata": {},
     "output_type": "display_data"
    }
   ],
   "source": [
    "# Normal shift\n",
    "shift = (0, 10) # should be y, x\n",
    "T = ops.Shift(image_size, shift)\n",
    "\n",
    "def shift_func(x, shift):\n",
    "    x = yp.changeBackend(x, 'numpy')\n",
    "    for ax, sh in enumerate(shift):\n",
    "        x = np.roll(x, int(sh), axis=ax)\n",
    "    return(x)\n",
    " \n",
    "# Check Forward Operator\n",
    "y_1 = yp.changeBackend(T * x, 'numpy')\n",
    "y_2 = shift_func(yp.changeBackend(x, 'numpy'), shift)\n",
    "assert yp.sum(yp.abs(y_1 - y_2)) < eps\n",
    "\n",
    "# Check Adjoint Operator\n",
    "assert yp.sum(yp.abs(T.H * T * x - x)) < eps\n",
    "\n",
    "# Check gradient\n",
    "T.gradient_check()\n",
    "\n",
    "# Render forward model\n",
    "T.latex()\n",
    "\n",
    "# Render gradient\n",
    "T.latex(gradient=True)"
   ]
  },
  {
   "cell_type": "markdown",
   "metadata": {},
   "source": [
    "## Summation Operator"
   ]
  },
  {
   "cell_type": "code",
   "execution_count": 22,
   "metadata": {
    "ExecuteTime": {
     "end_time": "2019-05-02T16:20:34.496445Z",
     "start_time": "2019-05-02T16:20:34.461345Z"
    }
   },
   "outputs": [
    {
     "data": {
      "text/latex": [
       "$Σ(\\vec{x}) = \\sum_{axes=[0, 1]} $"
      ],
      "text/plain": [
       "<IPython.core.display.Latex object>"
      ]
     },
     "metadata": {},
     "output_type": "display_data"
    },
    {
     "data": {
      "text/latex": [
       "$ \\nabla_xΣ(\\vec{x}) = \\sum_{axes=[0, 1]} ^H \\times \\vec{x}$"
      ],
      "text/plain": [
       "<IPython.core.display.Latex object>"
      ]
     },
     "metadata": {},
     "output_type": "display_data"
    }
   ],
   "source": [
    "axis_to_sum = (0,1)\n",
    "Σ = ops.Sum(image_size)\n",
    "\n",
    "# Check forward operator\n",
    "y_1 = yp.changeBackend(Σ * x, 'numpy')\n",
    "y_2 = yp.sum(yp.changeBackend(x, 'numpy'), axis=axis_to_sum)\n",
    "assert yp.abs(yp.sum(y_1 - y_2)) < eps\n",
    "\n",
    "# Check adjoint operator\n",
    "y_3 = yp.changeBackend(Σ.H * Σ * x, 'numpy')\n",
    "reps = [1, ] * len(image_size)\n",
    "axes = list(range(len(image_size))) if axis_to_sum is 'all' else axis_to_sum\n",
    "scale = 1\n",
    "for axis in axes:\n",
    "    reps[axis] = image_size[axis]\n",
    "    scale *= 1 / image_size[axis]\n",
    "y_4 = yp.tile(y_2, reps) * scale\n",
    "assert yp.sum(yp.abs(y_3 - y_4)) < eps\n",
    "\n",
    "# Check gradient\n",
    "# Σ.gradient_check(eps=1)\n",
    "\n",
    "# Render forward model\n",
    "Σ.latex()\n",
    "\n",
    "# Render gradient\n",
    "Σ.latex(gradient=True)"
   ]
  },
  {
   "cell_type": "markdown",
   "metadata": {},
   "source": [
    "## Mean Operator"
   ]
  },
  {
   "cell_type": "code",
   "execution_count": null,
   "metadata": {},
   "outputs": [],
   "source": []
  },
  {
   "cell_type": "markdown",
   "metadata": {},
   "source": [
    "## Intensity Operator"
   ]
  },
  {
   "cell_type": "code",
   "execution_count": 25,
   "metadata": {
    "ExecuteTime": {
     "end_time": "2019-05-02T16:21:29.830311Z",
     "start_time": "2019-05-02T16:21:29.800790Z"
    }
   },
   "outputs": [
    {
     "data": {
      "text/latex": [
       "$I(\\vec{x}) = |\\vec{x}|^2$"
      ],
      "text/plain": [
       "<IPython.core.display.Latex object>"
      ]
     },
     "metadata": {},
     "output_type": "display_data"
    },
    {
     "data": {
      "text/latex": [
       "$ \\nabla_xI(\\vec{x}) = diag(\\vec{d})\\times \\vec{x}$"
      ],
      "text/plain": [
       "<IPython.core.display.Latex object>"
      ]
     },
     "metadata": {},
     "output_type": "display_data"
    }
   ],
   "source": [
    "I = ops.Intensity(image_size)\n",
    "\n",
    "# Check forward operator\n",
    "assert yp.sum(yp.abs((yp.abs(yp.changeBackend(x, 'numpy')) ** 2) - yp.changeBackend(I * x, 'numpy'))) < eps\n",
    "\n",
    "# Check gradient\n",
    "I.gradient_check()\n",
    "\n",
    "# Render forward model\n",
    "I.latex()\n",
    "\n",
    "# Render gradient\n",
    "I.latex(gradient=True)"
   ]
  },
  {
   "cell_type": "markdown",
   "metadata": {},
   "source": [
    "## Flip Operator"
   ]
  },
  {
   "cell_type": "code",
   "execution_count": 27,
   "metadata": {
    "ExecuteTime": {
     "end_time": "2019-05-02T16:21:47.914345Z",
     "start_time": "2019-05-02T16:21:47.867433Z"
    }
   },
   "outputs": [
    {
     "data": {
      "text/latex": [
       "$L(\\vec{x}) = L \\times \\vec{x}$"
      ],
      "text/plain": [
       "<IPython.core.display.Latex object>"
      ]
     },
     "metadata": {},
     "output_type": "display_data"
    },
    {
     "data": {
      "text/latex": [
       "$ \\nabla_xL(\\vec{x}) = L^H \\times \\vec{x}$"
      ],
      "text/plain": [
       "<IPython.core.display.Latex object>"
      ]
     },
     "metadata": {},
     "output_type": "display_data"
    }
   ],
   "source": [
    "flip_axis = 0\n",
    "L = ops.Flip(image_size, axis=flip_axis)\n",
    "\n",
    "# Check forward operator\n",
    "assert yp.sum(yp.abs(L * x - yp.flip(x, flip_axis))) < eps, \"%f\" % yp.sum(yp.abs(L * x - vec(yp.flip(x, flip_axis)))) \n",
    "\n",
    "# Check gradient\n",
    "L.gradient_check()\n",
    "\n",
    "# Render forward model\n",
    "L.latex()\n",
    "\n",
    "# Render gradient\n",
    "L.latex(gradient=True)"
   ]
  },
  {
   "cell_type": "markdown",
   "metadata": {},
   "source": [
    "## $\\ell2$ Norm Operator"
   ]
  },
  {
   "cell_type": "code",
   "execution_count": 28,
   "metadata": {
    "ExecuteTime": {
     "end_time": "2019-05-02T16:21:49.539628Z",
     "start_time": "2019-05-02T16:21:49.511669Z"
    }
   },
   "outputs": [
    {
     "data": {
      "text/latex": [
       "$L2(\\vec{x}) = \\frac{1}{2} ||\\vec{x}||_2^2$"
      ],
      "text/plain": [
       "<IPython.core.display.Latex object>"
      ]
     },
     "metadata": {},
     "output_type": "display_data"
    },
    {
     "data": {
      "text/latex": [
       "$ \\nabla_xL2(\\vec{x}) = I \\times \\vec{x}$"
      ],
      "text/plain": [
       "<IPython.core.display.Latex object>"
      ]
     },
     "metadata": {},
     "output_type": "display_data"
    }
   ],
   "source": [
    "L2 = ops.L2Norm(image_size)\n",
    "\n",
    "# Check forward operator\n",
    "assert yp.sum(yp.abs(L2 * x - 0.5 * yp.norm(x) ** 2)) < eps, '%f' % yp.sum(yp.abs(L2 * x - 0.5 * np.linalg.norm(x) ** 2))\n",
    "\n",
    "# Check gradient\n",
    "L2.gradient_check()\n",
    "\n",
    "# Render forward model\n",
    "L2.latex()\n",
    "\n",
    "# Render gradient\n",
    "L2.latex(gradient=True)"
   ]
  },
  {
   "cell_type": "markdown",
   "metadata": {},
   "source": [
    "## $\\ell1 $ Norm Operator"
   ]
  },
  {
   "cell_type": "code",
   "execution_count": 29,
   "metadata": {
    "ExecuteTime": {
     "end_time": "2019-05-02T16:21:50.484035Z",
     "start_time": "2019-05-02T16:21:50.459994Z"
    }
   },
   "outputs": [
    {
     "data": {
      "text/latex": [
       "$L1(\\vec{x}) = ||\\vec{x}||_1$"
      ],
      "text/plain": [
       "<IPython.core.display.Latex object>"
      ]
     },
     "metadata": {},
     "output_type": "display_data"
    }
   ],
   "source": [
    "L1 = ops.L1Norm(image_size)\n",
    "\n",
    "# Forward operator\n",
    "assert L1 * x - yp.sum(yp.abs(x)) < eps\n",
    "\n",
    "# Render forward model\n",
    "L1.latex()"
   ]
  },
  {
   "cell_type": "markdown",
   "metadata": {},
   "source": [
    "## Wavelet Transform"
   ]
  },
  {
   "cell_type": "code",
   "execution_count": 30,
   "metadata": {
    "ExecuteTime": {
     "end_time": "2019-05-02T16:21:51.346017Z",
     "start_time": "2019-05-02T16:21:51.244220Z"
    }
   },
   "outputs": [
    {
     "data": {
      "text/latex": [
       "$W_{db1}(\\vec{x}) = W_{db1} \\times \\vec{x}$"
      ],
      "text/plain": [
       "<IPython.core.display.Latex object>"
      ]
     },
     "metadata": {},
     "output_type": "display_data"
    },
    {
     "data": {
      "text/latex": [
       "$W_{haar}(\\vec{x}) = W_{haar} \\times \\vec{x}$"
      ],
      "text/plain": [
       "<IPython.core.display.Latex object>"
      ]
     },
     "metadata": {},
     "output_type": "display_data"
    },
    {
     "data": {
      "text/latex": [
       "$W_{rbio1.1}(\\vec{x}) = W_{rbio1.1} \\times \\vec{x}$"
      ],
      "text/plain": [
       "<IPython.core.display.Latex object>"
      ]
     },
     "metadata": {},
     "output_type": "display_data"
    },
    {
     "data": {
      "text/latex": [
       "$W_{bior1.1}(\\vec{x}) = W_{bior1.1} \\times \\vec{x}$"
      ],
      "text/plain": [
       "<IPython.core.display.Latex object>"
      ]
     },
     "metadata": {},
     "output_type": "display_data"
    },
    {
     "name": "stdout",
     "output_type": "stream",
     "text": [
      "WARNING: Wavelet Transform output cannot be tightly packed, reshaping from ([ 64 128]) to ((80, 144))\n"
     ]
    },
    {
     "data": {
      "text/latex": [
       "$W_{bior4.4}(\\vec{x}) = W_{bior4.4} \\times \\vec{x}$"
      ],
      "text/plain": [
       "<IPython.core.display.Latex object>"
      ]
     },
     "metadata": {},
     "output_type": "display_data"
    },
    {
     "name": "stdout",
     "output_type": "stream",
     "text": [
      "WARNING: Wavelet Transform output cannot be tightly packed, reshaping from ([ 64 128]) to ((86, 150))\n"
     ]
    },
    {
     "data": {
      "text/latex": [
       "$W_{sym12}(\\vec{x}) = W_{sym12} \\times \\vec{x}$"
      ],
      "text/plain": [
       "<IPython.core.display.Latex object>"
      ]
     },
     "metadata": {},
     "output_type": "display_data"
    }
   ],
   "source": [
    "import pywt\n",
    "wavelet_list = ['db1', 'haar', 'rbio1.1', 'bior1.1', 'bior4.4', 'sym12']\n",
    "for wavelet_test in wavelet_list:\n",
    "    # Wavelet Transform\n",
    "    W = ops.WaveletTransform(image_size, wavelet_type=wavelet_test, use_cycle_spinning=False)\n",
    "\n",
    "    # Check forward operation\n",
    "    coeffs = pywt.wavedecn(x, wavelet=wavelet_test)\n",
    "    x_wavelet, coeff_slices = pywt.coeffs_to_array(coeffs)\n",
    "    assert yp.sum(yp.abs(yp.changeBackend(W * x, 'numpy') - x_wavelet)) < eps, \"Difference %.6e\"\n",
    "\n",
    "    # Check inverse operation\n",
    "    coeffs_from_arr = pywt.array_to_coeffs(x_wavelet, coeff_slices)\n",
    "    cam_recon = pywt.waverecn(coeffs_from_arr, wavelet=wavelet_test)\n",
    "    assert yp.sum(yp.abs(W.H * W * x - x)) < 1e-2\n",
    "\n",
    "    # Ensure that the wavelet transform isn't just identity (weird bug)\n",
    "    if W.shape[1] is yp.size(x):\n",
    "        assert yp.sum(yp.abs(W * yp.vec(x) - yp.vec(x))) > 1e-2, \"%s\" % wavelet_test\n",
    "\n",
    "    # Check gradient \n",
    "    W.gradient_check()\n",
    "\n",
    "    # Render forward model\n",
    "    W.latex()"
   ]
  },
  {
   "cell_type": "markdown",
   "metadata": {},
   "source": [
    "## Exponential Operator"
   ]
  },
  {
   "cell_type": "code",
   "execution_count": 31,
   "metadata": {
    "ExecuteTime": {
     "end_time": "2019-05-02T16:21:52.343583Z",
     "start_time": "2019-05-02T16:21:52.300768Z"
    }
   },
   "outputs": [
    {
     "data": {
      "text/latex": [
       "$EXP(\\vec{x}) = e^{\\vec{x}}$"
      ],
      "text/plain": [
       "<IPython.core.display.Latex object>"
      ]
     },
     "metadata": {},
     "output_type": "display_data"
    },
    {
     "data": {
      "text/latex": [
       "$ \\nabla_xEXP(\\vec{x}) = diag(\\vec{D_{e^x}})\\times \\vec{x}$"
      ],
      "text/plain": [
       "<IPython.core.display.Latex object>"
      ]
     },
     "metadata": {},
     "output_type": "display_data"
    }
   ],
   "source": [
    "L2 = ops.L2Norm(image_size)\n",
    "F = ops.FourierTransform(image_size)\n",
    "EXP = ops.Exponential(image_size)\n",
    "\n",
    "# Forward model\n",
    "assert yp.sum(yp.abs(yp.changeBackend(EXP * x, 'numpy') - np.exp(yp.changeBackend(x, 'numpy')))) < eps\n",
    "\n",
    "# Check gradient\n",
    "EXP.gradient_check()\n",
    "\n",
    "# Generate composite operator\n",
    "D = ops.Diagonalize(h)\n",
    "L2 = ops.L2Norm(image_size)\n",
    "\n",
    "EXP_COMP = L2 * F * EXP\n",
    "EXP_COMP.gradient_check()\n",
    "\n",
    "EXP_COMP_2 = L2 * F * EXP * D\n",
    "EXP_COMP_2.gradient_check()\n",
    "\n",
    "# Render forward model\n",
    "EXP.latex()\n",
    "\n",
    "# Render gradient\n",
    "EXP.latex(gradient=True)"
   ]
  },
  {
   "cell_type": "markdown",
   "metadata": {},
   "source": [
    "## Phase Ramp Operator"
   ]
  },
  {
   "cell_type": "code",
   "execution_count": 42,
   "metadata": {
    "ExecuteTime": {
     "end_time": "2019-05-02T16:22:35.336236Z",
     "start_time": "2019-05-02T16:22:35.293644Z"
    }
   },
   "outputs": [
    {
     "name": "stdout",
     "output_type": "stream",
     "text": [
      "0.0075563653\n"
     ]
    },
    {
     "data": {
      "text/latex": [
       "$R(\\vec{x}) = e^{-i2\\pi \\vec{k} \\vec{x}}$"
      ],
      "text/plain": [
       "<IPython.core.display.Latex object>"
      ]
     },
     "metadata": {},
     "output_type": "display_data"
    },
    {
     "data": {
      "text/latex": [
       "$ \\nabla_xR(\\vec{x}) = \\begin{bmatrix}\\sum_{axes=[0, 1]}  \\cr \\sum_{axes=[0, 1]} \\end{bmatrix} \\times \\vec{x}$"
      ],
      "text/plain": [
       "<IPython.core.display.Latex object>"
      ]
     },
     "metadata": {},
     "output_type": "display_data"
    }
   ],
   "source": [
    "eps_phase_ramp = 1e-4\n",
    "shift = yp.changeBackend(np.asarray((-5,3)).astype(yp.getNativeDatatype(global_dtype, 'numpy')), global_backend)\n",
    "\n",
    "# Generate phase ramp\n",
    "R = ops.PhaseRamp(image_size)\n",
    "r = R * shift\n",
    "\n",
    "F = ops.FourierTransform(image_size, dtype=global_dtype, normalize=False, backend=global_backend)\n",
    "D_R = ops.Diagonalize(r, dtype=global_dtype)\n",
    "S_R = F.H * D_R * F\n",
    "\n",
    "# Pixel-wise shift operator\n",
    "S = ops.Shift(image_size, shift)\n",
    "\n",
    "\n",
    "# Check gradient of phase ramp convolution\n",
    "S_R.gradient_check()\n",
    "\n",
    "# Check gradient of phase ramp\n",
    "print(R.gradient_check(eps=1))\n",
    "\n",
    "# Render forward model\n",
    "R.latex()\n",
    "\n",
    "# Render gradient\n",
    "R.latex(gradient=True)\n",
    "\n",
    "# plt.figure()\n",
    "# plt.subplot(131)\n",
    "# plt.imshow(yp.abs(yp.reshape(yp.changeBackend(S_R * vec(x), 'numpy'), image_size)))\n",
    "# plt.subplot(132)\n",
    "# plt.imshow(yp.abs(yp.reshape(yp.changeBackend(S * vec(x), 'numpy'), image_size)))\n",
    "# plt.subplot(133)\n",
    "# plt.imshow(yp.abs(yp.reshape(yp.changeBackend(S * vec(x) - S_R * vec(x), 'numpy'), image_size)))"
   ]
  },
  {
   "cell_type": "markdown",
   "metadata": {},
   "source": [
    "## Derivative Operator"
   ]
  },
  {
   "cell_type": "code",
   "execution_count": 43,
   "metadata": {
    "ExecuteTime": {
     "end_time": "2019-05-02T16:22:37.340462Z",
     "start_time": "2019-05-02T16:22:37.290450Z"
    }
   },
   "outputs": [
    {
     "data": {
      "text/latex": [
       "$∂x(\\vec{x}) = \\frac{\\partial}{\\partial x} \\times \\vec{x}$"
      ],
      "text/plain": [
       "<IPython.core.display.Latex object>"
      ]
     },
     "metadata": {},
     "output_type": "display_data"
    },
    {
     "data": {
      "text/latex": [
       "$∂y(\\vec{x}) = \\frac{\\partial}{\\partial y} \\times \\vec{x}$"
      ],
      "text/plain": [
       "<IPython.core.display.Latex object>"
      ]
     },
     "metadata": {},
     "output_type": "display_data"
    },
    {
     "data": {
      "text/latex": [
       "$ \\nabla_x∂x(\\vec{x}) = F^H \\times diag(\\vec{d})^H \\times F \\times \\vec{x}$"
      ],
      "text/plain": [
       "<IPython.core.display.Latex object>"
      ]
     },
     "metadata": {},
     "output_type": "display_data"
    },
    {
     "data": {
      "text/latex": [
       "$ \\nabla_x∂y(\\vec{x}) = F^H \\times diag(\\vec{d})^H \\times F \\times \\vec{x}$"
      ],
      "text/plain": [
       "<IPython.core.display.Latex object>"
      ]
     },
     "metadata": {},
     "output_type": "display_data"
    }
   ],
   "source": [
    "# Derivatie operator in x\n",
    "Dx = ops.Derivative(image_size, dtype=global_dtype, backend=global_backend, axis=1)\n",
    "xd = Dx * x\n",
    "\n",
    "# Derivative operator in y\n",
    "Dy = ops.Derivative(image_size, dtype=global_dtype, backend=global_backend, axis=0)\n",
    "yd = Dy * x\n",
    "\n",
    "# True derivative grids for comparison\n",
    "N = image_size\n",
    "r_x = np.arange(-N[1] / 2, N[1] / 2, 1.0) / N[1]\n",
    "r_y = np.arange(-N[0] / 2, N[0] / 2, 1.0) / N[0]\n",
    "grid_np = np.meshgrid(r_x, r_y)\n",
    "\n",
    "grid = []\n",
    "for g in grid_np:\n",
    "    grid.append(yp.changeBackend(g.astype(yp.getNativeDatatype(global_dtype, 'numpy')), global_backend))\n",
    "\n",
    "# from libwallerlab.operators.fft import Ft, iFt\n",
    "Ft = lambda x: np.fft.fftshift(np.fft.fft2(np.fft.fftshift(x, axes=(0, 1)), axes=(0, 1), norm='ortho'), axes=(0, 1))\n",
    "iFt = lambda x: np.fft.fftshift(np.fft.ifft2(np.fft.fftshift(x, axes=(0, 1)), axes=(0, 1), norm='ortho'), axes=(0, 1))\n",
    "\n",
    "dx_func = lambda x: iFt(Ft(x) * grid[1].reshape(image_size))\n",
    "dy_func = lambda x: iFt(Ft(x) * grid[0].reshape(image_size))\n",
    "\n",
    "# assert yp.sum(yp.abs(dx_func(x) - xd.reshape(image_size))) < eps, \"X derivative was not equal! (%.4e)\" % yp.sum(yp.abs(dx_func(x) - xd.reshape(image_size)))\n",
    "# assert yp.sum(yp.abs(dy_func(x) - yd.reshape(image_size))) < eps, \"Y derivative was not equal! (%.4e)\" % yp.sum(yp.abs(dy_func(x) - yd.reshape(image_size)))\n",
    "\n",
    "# Check Gradient\n",
    "Dx.gradient_check()\n",
    "Dy.gradient_check()\n",
    "\n",
    "# Render forward models\n",
    "Dx.latex()\n",
    "Dy.latex()\n",
    "\n",
    "# Render gradients\n",
    "Dx.latex(gradient=True)\n",
    "Dy.latex(gradient=True)"
   ]
  },
  {
   "cell_type": "markdown",
   "metadata": {},
   "source": [
    "## Power Operator"
   ]
  },
  {
   "cell_type": "code",
   "execution_count": 70,
   "metadata": {
    "ExecuteTime": {
     "end_time": "2019-05-02T16:24:51.969702Z",
     "start_time": "2019-05-02T16:24:51.940727Z"
    }
   },
   "outputs": [
    {
     "data": {
      "text/latex": [
       "$P(\\vec{x}) = \\vec{x}^2$"
      ],
      "text/plain": [
       "<IPython.core.display.Latex object>"
      ]
     },
     "metadata": {},
     "output_type": "display_data"
    },
    {
     "data": {
      "text/latex": [
       "$ \\nabla_xΣ(\\vec{x}) = \\sum_{axes=[0, 1]} ^H \\times \\vec{x}$"
      ],
      "text/plain": [
       "<IPython.core.display.Latex object>"
      ]
     },
     "metadata": {},
     "output_type": "display_data"
    }
   ],
   "source": [
    "power = 2\n",
    "P = ops.Power(image_size, power,dtype=global_dtype, backend=global_backend)\n",
    "assert yp.sum(yp.abs(yp.changeBackend(P * x, 'numpy') - yp.changeBackend(x, 'numpy') ** power)) < eps, \"%f\" % yp.sum(yp.abs(yp.changeBackend(P * x, 'numpy') - yp.changeBackend(x, 'numpy') ** power)) \n",
    "\n",
    "# Render forward model\n",
    "P.latex()\n",
    "\n",
    "# Render gradient\n",
    "Σ.latex(gradient=True)"
   ]
  },
  {
   "cell_type": "markdown",
   "metadata": {},
   "source": [
    "# Operator Algebra"
   ]
  },
  {
   "cell_type": "markdown",
   "metadata": {},
   "source": [
    "## Inner Operators"
   ]
  },
  {
   "cell_type": "code",
   "execution_count": 44,
   "metadata": {
    "ExecuteTime": {
     "end_time": "2019-05-02T16:22:39.300257Z",
     "start_time": "2019-05-02T16:22:39.270225Z"
    }
   },
   "outputs": [
    {
     "data": {
      "text/latex": [
       "$d(\\vec{x}) = diag(e^{-i2\\pi \\vec{k} d})\\times \\vec{x}$"
      ],
      "text/plain": [
       "<IPython.core.display.Latex object>"
      ]
     },
     "metadata": {},
     "output_type": "display_data"
    },
    {
     "data": {
      "text/latex": [
       "$ \\nabla_xd(\\vec{x}) = diag(e^{-i2\\pi \\vec{k} d})^H \\times \\vec{x}$"
      ],
      "text/plain": [
       "<IPython.core.display.Latex object>"
      ]
     },
     "metadata": {},
     "output_type": "display_data"
    }
   ],
   "source": [
    "# Create phase ramp to diagonalize\n",
    "H = ops.PhaseRamp(image_size)\n",
    "s = yp.rand((2,1))\n",
    "\n",
    "# Create diagonalized phase ramp operator\n",
    "D = ops.Diagonalize(s, inside_operator=H)\n",
    "\n",
    "# Check that inside operator is set correctly\n",
    "assert yp.sum(yp.abs(D * x - ((H * s) * x))) == 0.0\n",
    "\n",
    "# Check gradient\n",
    "D.gradient_check()\n",
    "\n",
    "# Render Latex\n",
    "D.latex()\n",
    "\n",
    "# Render gradient\n",
    "D.latex(gradient=True)"
   ]
  },
  {
   "cell_type": "markdown",
   "metadata": {},
   "source": [
    "## Operator-Vector Sum"
   ]
  },
  {
   "cell_type": "code",
   "execution_count": 45,
   "metadata": {
    "ExecuteTime": {
     "end_time": "2019-05-02T16:22:41.659023Z",
     "start_time": "2019-05-02T16:22:41.622215Z"
    },
    "scrolled": false
   },
   "outputs": [
    {
     "data": {
      "text/latex": [
       "$A(\\vec{x}) = (C \\times \\vec{x} + \\vec{y} )$"
      ],
      "text/plain": [
       "<IPython.core.display.Latex object>"
      ]
     },
     "metadata": {},
     "output_type": "display_data"
    },
    {
     "data": {
      "text/latex": [
       "$ \\nabla_xA(\\vec{x}) = C^H \\times \\vec{x}$"
      ],
      "text/plain": [
       "<IPython.core.display.Latex object>"
      ]
     },
     "metadata": {},
     "output_type": "display_data"
    }
   ],
   "source": [
    "# Test sum operations here\n",
    "F = ops.FourierTransform(image_size, center=False)\n",
    "y = F * x\n",
    "A_s = A + y\n",
    "\n",
    "# Forward operator\n",
    "assert yp.sum(yp.abs(A_s * x - (A * x + y))) < eps\n",
    "\n",
    "# Adjoint\n",
    "assert yp.sum(yp.abs(A_s.H * x - A.H * x)) < eps\n",
    "\n",
    "# Gradient Numerical Check\n",
    "A.gradient_check()\n",
    "  \n",
    "# Render forward model\n",
    "A_s.latex()\n",
    "\n",
    "# Render gradient\n",
    "A_s.latex(gradient=True)"
   ]
  },
  {
   "cell_type": "markdown",
   "metadata": {},
   "source": [
    "# Operator Mechanics"
   ]
  },
  {
   "cell_type": "markdown",
   "metadata": {},
   "source": [
    "## Linearity Flag"
   ]
  },
  {
   "cell_type": "code",
   "execution_count": 46,
   "metadata": {
    "ExecuteTime": {
     "end_time": "2019-05-02T16:22:43.080387Z",
     "start_time": "2019-05-02T16:22:43.054182Z"
    }
   },
   "outputs": [],
   "source": [
    "F = ops.FourierTransform(image_size) # Linear Operator\n",
    "L2 = ops.L2Norm(image_size[0] * image_size[1]) # Non-linear operator\n",
    "\n",
    "assert F.linear\n",
    "assert not L2.linear\n",
    "assert not (L2 * F).linear\n",
    "assert (F + F).linear\n",
    "assert not (L2 * F + L2 * F).linear"
   ]
  },
  {
   "cell_type": "markdown",
   "metadata": {},
   "source": [
    "## Smoothness Flag"
   ]
  },
  {
   "cell_type": "code",
   "execution_count": 47,
   "metadata": {
    "ExecuteTime": {
     "end_time": "2019-05-02T16:22:43.670126Z",
     "start_time": "2019-05-02T16:22:43.644820Z"
    }
   },
   "outputs": [],
   "source": [
    "F = ops.FourierTransform(image_size) # Linear Operator\n",
    "L1 = ops.L1Norm(image_size) # Non-linear operator\n",
    "\n",
    "assert F.smooth\n",
    "assert not L1.smooth\n",
    "assert not (L1 * F).smooth\n",
    "assert (F + F).smooth\n",
    "assert not (L1 * F + L2 * F).smooth\n",
    "assert not (L1 * F + L1 * F).smooth"
   ]
  },
  {
   "cell_type": "markdown",
   "metadata": {},
   "source": [
    "## Operator Indexing (Suboperators)"
   ]
  },
  {
   "cell_type": "code",
   "execution_count": 48,
   "metadata": {
    "ExecuteTime": {
     "end_time": "2019-05-02T16:22:44.350292Z",
     "start_time": "2019-05-02T16:22:44.321007Z"
    }
   },
   "outputs": [
    {
     "data": {
      "text/latex": [
       "$A(\\vec{x}) = F^H \\times diag(\\vec{K})\\times F \\times \\vec{x}$"
      ],
      "text/plain": [
       "<IPython.core.display.Latex object>"
      ]
     },
     "metadata": {},
     "output_type": "display_data"
    },
    {
     "data": {
      "text/latex": [
       "$ \\nabla_xA(\\vec{x}) = F^H \\times diag(\\vec{K})^H \\times F \\times \\vec{x}$"
      ],
      "text/plain": [
       "<IPython.core.display.Latex object>"
      ]
     },
     "metadata": {},
     "output_type": "display_data"
    }
   ],
   "source": [
    "K = ops.Diagonalize(h, label='K')\n",
    "K_2 = ops.Diagonalize(h, label='Q')\n",
    "F = ops.FourierTransform(image_size)\n",
    "\n",
    "A = F.H * K * F\n",
    "A.label = 'A'\n",
    "\n",
    "A.suboperators[1].argument = yp.ones(h.shape)\n",
    "\n",
    "# Render forward model\n",
    "A.latex()\n",
    "\n",
    "# Render gradient\n",
    "A.latex(gradient=True)"
   ]
  },
  {
   "cell_type": "markdown",
   "metadata": {},
   "source": [
    "# Condition Number Calculation\n",
    "The condition number of a matrix product $AB$ is bounded by the following relation:\n",
    "$$\\kappa\\{AB\\} \\geq \\kappa\\{B\\}\\kappa\\{B\\}$$\n",
    "\n",
    "Unless either $A$ or $B$ is unitary ($\\kappa\\{\\cdot\\}=1$), we cannot know the condition number exactly since the spectrum basis (eigenvectors) are not common between these two matricies. In the future, we could store the whole spectrum and check this, but this would be complicated to implement."
   ]
  },
  {
   "cell_type": "code",
   "execution_count": 49,
   "metadata": {
    "ExecuteTime": {
     "end_time": "2019-05-02T16:22:45.379837Z",
     "start_time": "2019-05-02T16:22:45.350116Z"
    }
   },
   "outputs": [],
   "source": [
    "# Unitary Matrix\n",
    "F = ops.FourierTransform(image_size)\n",
    "assert F.condition_number == 1\n",
    "assert not F.condition_number_is_upper_bound\n",
    "\n",
    "# Matrix with a condition number\n",
    "hh = yp.changeBackend((np.random.rand(image_size[0], image_size[1]) + 0.1).astype(np.complex64), global_backend)\n",
    "D = ops.Diagonalize(hh) \n",
    "assert not D.condition_number_is_upper_bound\n",
    "\n",
    "# Product of two unitary matricies\n",
    "assert (F * F).condition_number == 1\n",
    "# assert not (F * F).condition_number_is_upper_bound\n",
    "\n",
    "# Product of one unitary and one non-singular matrix\n",
    "assert (F * D).condition_number == D.condition_number\n",
    "# assert not (F * D).condition_number_is_upper_bound # because one matrix is unitary, this condition number is NOT an upper bound. This can be checked numerically.\n",
    "\n",
    "# Product of two non-singular matricies.\n",
    "hh_2 = yp.changeBackend((np.random.rand(image_size[0], image_size[1]) + 0.1).astype(np.complex64), global_backend)\n",
    "D2 = ops.Diagonalize(hh_2) \n",
    "assert (D * D2).condition_number >= D.condition_number\n",
    "# assert not (D * D2).condition_number_is_upper_bound\n",
    "\n",
    "# Product of two diagonal matricies seperated by a F.T.\n",
    "assert (D * F * D2).condition_number >= D.condition_number\n",
    "assert (D * F * D2).condition_number_is_upper_bound"
   ]
  },
  {
   "cell_type": "markdown",
   "metadata": {},
   "source": [
    "# Gradients"
   ]
  },
  {
   "cell_type": "markdown",
   "metadata": {},
   "source": [
    "## Gradients of Linear Operators\n",
    "We'll assume that if the adjoint is provided, the gradient operator is just the adjoint operating on the input (x), or current iterate. This allows us to specify either the adjoint (linear operator) OR the gradient (non-linear operator) for each operator, and the rest will be handled by the metaclass."
   ]
  },
  {
   "cell_type": "code",
   "execution_count": 50,
   "metadata": {
    "ExecuteTime": {
     "end_time": "2019-05-02T16:22:46.454668Z",
     "start_time": "2019-05-02T16:22:46.424262Z"
    },
    "scrolled": false
   },
   "outputs": [
    {
     "data": {
      "text/latex": [
       "$F(\\vec{x}) = F \\times \\vec{x}$"
      ],
      "text/plain": [
       "<IPython.core.display.Latex object>"
      ]
     },
     "metadata": {},
     "output_type": "display_data"
    },
    {
     "data": {
      "text/latex": [
       "$ \\nabla_xF(\\vec{x}) = F^H \\times \\vec{x}$"
      ],
      "text/plain": [
       "<IPython.core.display.Latex object>"
      ]
     },
     "metadata": {},
     "output_type": "display_data"
    }
   ],
   "source": [
    "# Simple test case (linear operator)\n",
    "A = ops.FourierTransform(image_size)\n",
    "\n",
    "# Check validity of gradient operator (and several short-hand pass-through functions)\n",
    "A.gradient_check()\n",
    "\n",
    "# Render forward model\n",
    "A.latex()\n",
    "\n",
    "# Render gradient\n",
    "A.latex(gradient=True)"
   ]
  },
  {
   "cell_type": "markdown",
   "metadata": {},
   "source": [
    "## Chained Linear Gradients"
   ]
  },
  {
   "cell_type": "code",
   "execution_count": 51,
   "metadata": {
    "ExecuteTime": {
     "end_time": "2019-05-02T16:22:47.371150Z",
     "start_time": "2019-05-02T16:22:47.336536Z"
    },
    "scrolled": false
   },
   "outputs": [
    {
     "data": {
      "text/latex": [
       "$A(\\vec{x}) = F^H \\times diag(\\vec{d})\\times F \\times \\vec{x}$"
      ],
      "text/plain": [
       "<IPython.core.display.Latex object>"
      ]
     },
     "metadata": {},
     "output_type": "display_data"
    },
    {
     "data": {
      "text/latex": [
       "$ \\nabla_xA(\\vec{x}) = F^H \\times diag(\\vec{d})^H \\times F \\times \\vec{x}$"
      ],
      "text/plain": [
       "<IPython.core.display.Latex object>"
      ]
     },
     "metadata": {},
     "output_type": "display_data"
    }
   ],
   "source": [
    "# Chained linear operators\n",
    "F = ops.FourierTransform(image_size)\n",
    "D = ops.Diagonalize(yp.asbackend(h, global_backend))\n",
    "A = F.H * D * F\n",
    "A.label = 'A'\n",
    "\n",
    "# Check gradient numerically\n",
    "A.gradient_check()\n",
    "\n",
    "# Render forward model\n",
    "A.latex()\n",
    "\n",
    "# Render gradient\n",
    "A.latex(gradient=True)"
   ]
  },
  {
   "cell_type": "markdown",
   "metadata": {},
   "source": [
    "## Chained Nonlinear Gradients"
   ]
  },
  {
   "cell_type": "markdown",
   "metadata": {},
   "source": [
    "### Inner convolution (linear) operator with outer L2 Norm (non-linear) operator"
   ]
  },
  {
   "cell_type": "code",
   "execution_count": 52,
   "metadata": {
    "ExecuteTime": {
     "end_time": "2019-05-02T16:22:48.687932Z",
     "start_time": "2019-05-02T16:22:48.652099Z"
    },
    "scrolled": false
   },
   "outputs": [
    {
     "data": {
      "text/latex": [
       "$A(\\vec{x}) = \\frac{1}{2} ||F^H \\times diag(\\vec{d})\\times F \\times \\vec{x}||_2^2$"
      ],
      "text/plain": [
       "<IPython.core.display.Latex object>"
      ]
     },
     "metadata": {},
     "output_type": "display_data"
    },
    {
     "data": {
      "text/latex": [
       "$ \\nabla_xA(\\vec{x}) = F^H \\times diag(\\vec{d})^H \\times F \\times F^H \\times diag(\\vec{d})\\times F \\times \\vec{x}$"
      ],
      "text/plain": [
       "<IPython.core.display.Latex object>"
      ]
     },
     "metadata": {},
     "output_type": "display_data"
    }
   ],
   "source": [
    "# Inner convolution (linear) operator with outer L2 Norm (non-linear) operator\n",
    "L2 = ops.L2Norm(image_size)\n",
    "F = ops.FourierTransform(image_size)\n",
    "D = ops.Diagonalize(h)\n",
    "A_linear = F.H * D * F\n",
    "# A_linear.label = 'A_{linear}'\n",
    "A = L2 * A_linear\n",
    "\n",
    "# Check forward operator\n",
    "assert np.all(yp.abs(A * x - 0.5 * yp.norm(A_linear * x) ** 2) < eps)\n",
    "\n",
    "# Check gradient operator\n",
    "A.gradient_check()\n",
    "\n",
    "# Render forward model\n",
    "A.latex()\n",
    "\n",
    "# Render gradient\n",
    "A.latex(gradient=True)"
   ]
  },
  {
   "cell_type": "markdown",
   "metadata": {},
   "source": [
    "### Inner convolution and vector subtraction (linear) operator with outer L2 Norm (non-linear) operator"
   ]
  },
  {
   "cell_type": "code",
   "execution_count": 53,
   "metadata": {
    "ExecuteTime": {
     "end_time": "2019-05-02T16:22:49.616055Z",
     "start_time": "2019-05-02T16:22:49.580176Z"
    },
    "scrolled": false
   },
   "outputs": [
    {
     "data": {
      "text/latex": [
       "$A(\\vec{x}) = \\frac{1}{2} ||(F^H \\times diag(\\vec{d})\\times F \\times \\vec{x} - \\vec{y} )||_2^2$"
      ],
      "text/plain": [
       "<IPython.core.display.Latex object>"
      ]
     },
     "metadata": {},
     "output_type": "display_data"
    },
    {
     "data": {
      "text/latex": [
       "$ \\nabla_xA(\\vec{x}) = F^H \\times diag(\\vec{d})^H \\times F \\times (F^H \\times diag(\\vec{d})\\times F \\times \\vec{x} - \\vec{y} )$"
      ],
      "text/plain": [
       "<IPython.core.display.Latex object>"
      ]
     },
     "metadata": {},
     "output_type": "display_data"
    }
   ],
   "source": [
    "L2 = ops.L2Norm(image_size)\n",
    "F = ops.FourierTransform(image_size)\n",
    "D = ops.Diagonalize(h)\n",
    "A = F.H * D * F\n",
    "\n",
    "# Data difference function\n",
    "Delta = (A - y)\n",
    "\n",
    "# Objective Function\n",
    "O = L2 * Delta\n",
    "\n",
    "# Check forward operator\n",
    "assert np.all(yp.abs(O * x - 0.5 * yp.norm(Delta * x) ** 2) < eps)\n",
    "\n",
    "# Check gradient operator (adjoint form)\n",
    "O.gradient_check()\n",
    "\n",
    "# Render forward model\n",
    "O.latex()\n",
    "\n",
    "# Render gradient\n",
    "O.latex(gradient=True)"
   ]
  },
  {
   "cell_type": "markdown",
   "metadata": {},
   "source": [
    "### Inner non-linear operator, linear operator in middle, and norm on outside"
   ]
  },
  {
   "cell_type": "code",
   "execution_count": 54,
   "metadata": {
    "ExecuteTime": {
     "end_time": "2019-05-02T16:22:50.426752Z",
     "start_time": "2019-05-02T16:22:50.386727Z"
    },
    "scrolled": false
   },
   "outputs": [
    {
     "data": {
      "text/latex": [
       "$A(\\vec{x}) = \\frac{1}{2} ||(F^H \\times diag(\\vec{object})\\times e^{-i2\\pi \\vec{k} \\vec{x}} - \\vec{y} )||_2^2$"
      ],
      "text/plain": [
       "<IPython.core.display.Latex object>"
      ]
     },
     "metadata": {},
     "output_type": "display_data"
    },
    {
     "data": {
      "text/latex": [
       "$ \\nabla_xA(\\vec{x}) = \\begin{bmatrix}\\sum_{axes=[0, 1]}  \\cr \\sum_{axes=[0, 1]} \\end{bmatrix} \\times diag(\\vec{object})^H \\times F \\times (F^H \\times diag(\\vec{object})\\times e^{-i2\\pi \\vec{k} \\vec{x}} - \\vec{y} )$"
      ],
      "text/plain": [
       "<IPython.core.display.Latex object>"
      ]
     },
     "metadata": {},
     "output_type": "display_data"
    }
   ],
   "source": [
    "phase_ramp_dtype = 'complex32'\n",
    "x_long = yp.astype(x, phase_ramp_dtype)\n",
    "\n",
    "# Inner non-linear operator, linear operator in middle, and norm on outside\n",
    "shift_true = yp.changeBackend(np.asarray((-5,3)).astype(yp.getNativeDatatype(phase_ramp_dtype, 'numpy')), global_backend)\n",
    "\n",
    "# Inner non-linear operator, linear operator in middle, and norm on outside\n",
    "F = ops.FourierTransform(image_size, dtype=phase_ramp_dtype, backend=global_backend)\n",
    "D_object = ops.Diagonalize(F * x_long, label='object', dtype=phase_ramp_dtype, backend=global_backend)\n",
    "R = ops.PhaseRamp(image_size, dtype=phase_ramp_dtype, backend=global_backend)\n",
    "A_shift = F.H * D_object * R\n",
    "\n",
    "y1 = A_shift(shift_true)\n",
    "L2 = ops.L2Norm(image_size, dtype=phase_ramp_dtype, backend=global_backend)\n",
    "objective = L2 * (A_shift - y1)\n",
    "\n",
    "# Check gradient\n",
    "objective.gradient_check()\n",
    "\n",
    "# Render forward model\n",
    "objective.latex()\n",
    "\n",
    "# Render gradient\n",
    "objective.latex(gradient=True)"
   ]
  },
  {
   "cell_type": "markdown",
   "metadata": {},
   "source": [
    "## Sum of Phase Ramps"
   ]
  },
  {
   "cell_type": "code",
   "execution_count": 55,
   "metadata": {
    "ExecuteTime": {
     "end_time": "2019-05-02T16:22:51.478761Z",
     "start_time": "2019-05-02T16:22:51.427553Z"
    },
    "scrolled": false
   },
   "outputs": [
    {
     "data": {
      "text/latex": [
       "$A(\\vec{x}) = \\frac{1}{2} ||(F^H \\times diag(\\vec{D_{object}})\\times \\begin{bmatrix}e^{-i2\\pi \\vec{k} [\\cdot ]} & e^{-i2\\pi \\vec{k} [\\cdot ]} & e^{-i2\\pi \\vec{k} [\\cdot ]}\\end{bmatrix} \\times \\vec{x} - \\vec{y} )||_2^2$"
      ],
      "text/plain": [
       "<IPython.core.display.Latex object>"
      ]
     },
     "metadata": {},
     "output_type": "display_data"
    },
    {
     "data": {
      "text/latex": [
       "$ \\nabla_xA(\\vec{x}) = \\begin{bmatrix}\\begin{bmatrix}\\sum_{axes=[0, 1]}  \\cr \\sum_{axes=[0, 1]} \\end{bmatrix} \\cr \\begin{bmatrix}\\sum_{axes=[0, 1]}  \\cr \\sum_{axes=[0, 1]} \\end{bmatrix} \\cr \\begin{bmatrix}\\sum_{axes=[0, 1]}  \\cr \\sum_{axes=[0, 1]} \\end{bmatrix}\\end{bmatrix} \\times diag(\\vec{D_{object}})^H \\times F \\times (F^H \\times diag(\\vec{D_{object}})\\times \\begin{bmatrix}e^{-i2\\pi \\vec{k} [\\cdot ]} & e^{-i2\\pi \\vec{k} [\\cdot ]} & e^{-i2\\pi \\vec{k} [\\cdot ]}\\end{bmatrix} \\times \\vec{x} - \\vec{y} )$"
      ],
      "text/plain": [
       "<IPython.core.display.Latex object>"
      ]
     },
     "metadata": {},
     "output_type": "display_data"
    }
   ],
   "source": [
    "phase_ramp_dtype = 'complex32'\n",
    "x_long = yp.astype(x, phase_ramp_dtype)\n",
    "\n",
    "# Inner non-linear operator, linear operator in middle, and norm on outside\n",
    "shift_true = yp.changeBackend(np.asarray((-5,3)).astype(yp.getNativeDatatype(phase_ramp_dtype, 'numpy')), global_backend)\n",
    "\n",
    "# Inner non-linear operator, linear operator in middle, and norm on outside\n",
    "F = ops.FourierTransform(image_size, dtype=phase_ramp_dtype, backend=global_backend)\n",
    "D_object = ops.Diagonalize(yp.reshape(F * vec(x_long), image_size), label='D_{object}', dtype=phase_ramp_dtype, backend=global_backend)\n",
    "R = ops.PhaseRamp(image_size, dtype=phase_ramp_dtype, backend=global_backend)\n",
    "H = ops.Hstack((R, R, R))\n",
    "A_shift = F.H * D_object * H\n",
    "\n",
    "xx = yp.changeBackend(np.hstack((np.asarray(shift_true), np.asarray(shift_true), np.asarray(shift_true))), global_backend)\n",
    "y_sum = A_shift * yp.changeBackend(np.hstack((np.asarray(shift_true), np.asarray(shift_true), np.asarray(shift_true))), global_backend)\n",
    "L2 = ops.L2Norm(image_size, dtype=phase_ramp_dtype, backend=global_backend)\n",
    "objective = L2 * (A_shift - y_sum)\n",
    "\n",
    "# Check gradient\n",
    "objective.gradient_check()\n",
    "\n",
    "# Render forward model\n",
    "objective.latex()\n",
    "\n",
    "# Render gradient\n",
    "objective.latex(gradient=True)"
   ]
  },
  {
   "cell_type": "markdown",
   "metadata": {},
   "source": [
    "### Scaling a Norm"
   ]
  },
  {
   "cell_type": "code",
   "execution_count": 56,
   "metadata": {
    "ExecuteTime": {
     "end_time": "2019-05-02T16:22:52.608268Z",
     "start_time": "2019-05-02T16:22:52.577958Z"
    },
    "scrolled": false
   },
   "outputs": [
    {
     "data": {
      "text/latex": [
       "$A(\\vec{x}) = 0.1 \\times \\frac{1}{2} ||F \\times \\vec{x}||_2^2$"
      ],
      "text/plain": [
       "<IPython.core.display.Latex object>"
      ]
     },
     "metadata": {},
     "output_type": "display_data"
    },
    {
     "data": {
      "text/latex": [
       "$ \\nabla_xA(\\vec{x}) = 0.1 \\times F^H \\times F \\times \\vec{x}$"
      ],
      "text/plain": [
       "<IPython.core.display.Latex object>"
      ]
     },
     "metadata": {},
     "output_type": "display_data"
    }
   ],
   "source": [
    "L2 = ops.L2Norm(image_size, dtype=global_dtype)\n",
    "F = ops.FourierTransform(image_size, dtype=global_dtype, axes=(0, 1))\n",
    "D = ops.Diagonalize(h, dtype=global_dtype)\n",
    "\n",
    "O_2 = L2 * F\n",
    "O = 0.1 * O_2\n",
    "\n",
    "# Check gradient operator (adjoint form)\n",
    "O.gradient_check()\n",
    "\n",
    "# Render forward model\n",
    "O.latex()\n",
    "\n",
    "# Render gradient\n",
    "O.latex(gradient=True)"
   ]
  },
  {
   "cell_type": "markdown",
   "metadata": {},
   "source": [
    "### Sum of Norms (E.g. regularization)"
   ]
  },
  {
   "cell_type": "code",
   "execution_count": 57,
   "metadata": {
    "ExecuteTime": {
     "end_time": "2019-05-02T16:22:53.622919Z",
     "start_time": "2019-05-02T16:22:53.580714Z"
    },
    "scrolled": false
   },
   "outputs": [
    {
     "data": {
      "text/latex": [
       "$A(\\vec{x}) = 0.001 \\times \\frac{1}{2} ||F \\times \\vec{x}||_2^2 + \\frac{1}{2} ||(F^H \\times diag(\\vec{d})\\times F \\times \\vec{x} - \\vec{y} )||_2^2$"
      ],
      "text/plain": [
       "<IPython.core.display.Latex object>"
      ]
     },
     "metadata": {},
     "output_type": "display_data"
    },
    {
     "data": {
      "text/latex": [
       "$ \\nabla_xA(\\vec{x}) = \\begin{bmatrix}I^H & I^H\\end{bmatrix} \\times \\begin{bmatrix}F^H \\times 0.001 \\times F \\cr F^H \\times diag(\\vec{d})^H \\times F \\times (F^H \\times diag(\\vec{d})\\times F - \\vec{y} )\\end{bmatrix} \\times \\vec{x}$"
      ],
      "text/plain": [
       "<IPython.core.display.Latex object>"
      ]
     },
     "metadata": {},
     "output_type": "display_data"
    }
   ],
   "source": [
    "L2 = ops.L2Norm(image_size)\n",
    "F = ops.FourierTransform(image_size)\n",
    "D = ops.Diagonalize(h)\n",
    "\n",
    "O_1 = L2 * ((F.H * D * F) - y)\n",
    "O_2 = 1e-3 * L2 * F\n",
    "O = O_2 + O_1\n",
    "\n",
    "# Check gradient operator (adjoint form)\n",
    "O.gradient_check()\n",
    "\n",
    "# Render forward model\n",
    "O.latex()\n",
    "\n",
    "# Render gradient\n",
    "O.latex(gradient=True)"
   ]
  },
  {
   "cell_type": "markdown",
   "metadata": {},
   "source": [
    "# Stacking Operators\n",
    "\n",
    "Stacking operators are tricky - they need to take or return a VectorStack class, which is simply a container for images of different sizes to be operated on independently.\n",
    "\n",
    "Hstack - operates on a vectorstack (or vector) class, returns a vector\n",
    "\n",
    "Vstack - operates on a vector, returns a vectorstack class\n",
    "\n",
    "Diagstack - operates on a vectorstack, returns a vectorstack"
   ]
  },
  {
   "cell_type": "code",
   "execution_count": 58,
   "metadata": {
    "ExecuteTime": {
     "end_time": "2019-05-02T16:22:58.743370Z",
     "start_time": "2019-05-02T16:22:58.719986Z"
    },
    "scrolled": false
   },
   "outputs": [],
   "source": [
    "# Create list of operators\n",
    "op_list_nonlinear = [\n",
    "            ops.FourierTransform(image_size),\n",
    "            ops.Identity(image_size),\n",
    "            ops.Exponential(image_size)\n",
    "]\n",
    "\n",
    "op_list_linear = [\n",
    "            ops.FourierTransform(image_size),\n",
    "            ops.Identity(image_size),\n",
    "            ops.Diagonalize(h)\n",
    "]"
   ]
  },
  {
   "cell_type": "markdown",
   "metadata": {},
   "source": [
    "## Horizontal Stacking"
   ]
  },
  {
   "cell_type": "markdown",
   "metadata": {},
   "source": [
    "### Linear Stacking"
   ]
  },
  {
   "cell_type": "code",
   "execution_count": 59,
   "metadata": {
    "ExecuteTime": {
     "end_time": "2019-05-02T16:22:59.985445Z",
     "start_time": "2019-05-02T16:22:59.945888Z"
    },
    "scrolled": false
   },
   "outputs": [
    {
     "data": {
      "text/latex": [
       "$O_{1 \\times 3}(\\vec{x}) = \\begin{bmatrix}F & I & diag(\\vec{d})\\end{bmatrix} \\times \\vec{x}$"
      ],
      "text/plain": [
       "<IPython.core.display.Latex object>"
      ]
     },
     "metadata": {},
     "output_type": "display_data"
    },
    {
     "data": {
      "text/latex": [
       "$ \\nabla_xO_{1 \\times 3}(\\vec{x}) = \\begin{bmatrix}F^H \\cr I^H \\cr diag(\\vec{d})^H\\end{bmatrix} \\times \\vec{x}$"
      ],
      "text/plain": [
       "<IPython.core.display.Latex object>"
      ]
     },
     "metadata": {},
     "output_type": "display_data"
    }
   ],
   "source": [
    "# Horizontally stacked operators\n",
    "H_l = ops.Hstack(op_list_linear)\n",
    "\n",
    "# Vertically stack x for forward operator\n",
    "x_np = yp.changeBackend(x, 'numpy')\n",
    "x3 = yp.changeBackend(np.vstack((x_np,x_np, x_np)), global_backend)\n",
    "\n",
    "# Check forward operation\n",
    "y2 = yp.zeros(op_list_linear[0].N, op_list_linear[0].dtype, op_list_linear[0].backend)\n",
    "\n",
    "for op in op_list_linear:\n",
    "    y2 = y2 + op * x\n",
    "\n",
    "# Check equality\n",
    "yp.assert_equality(H_l(x3), y2)\n",
    "\n",
    "# Check gradient\n",
    "H_l.gradient_check()\n",
    "\n",
    "# Render forward model\n",
    "H_l.latex()\n",
    "\n",
    "# Render gradient\n",
    "H_l.latex(gradient=True)"
   ]
  },
  {
   "cell_type": "markdown",
   "metadata": {},
   "source": [
    "### Non-linear operators"
   ]
  },
  {
   "cell_type": "code",
   "execution_count": 60,
   "metadata": {
    "ExecuteTime": {
     "end_time": "2019-05-02T16:23:01.000124Z",
     "start_time": "2019-05-02T16:23:00.963646Z"
    },
    "scrolled": false
   },
   "outputs": [
    {
     "data": {
      "text/latex": [
       "$O_{1 \\times 3}(\\vec{x}) = \\begin{bmatrix}F & I & e^{ [\\cdot] }\\end{bmatrix} \\times \\vec{x}$"
      ],
      "text/plain": [
       "<IPython.core.display.Latex object>"
      ]
     },
     "metadata": {},
     "output_type": "display_data"
    },
    {
     "data": {
      "text/latex": [
       "$ \\nabla_xO_{1 \\times 3}(\\vec{x}) = \\begin{bmatrix}F^H \\cr I^H \\cr diag(\\vec{D_{e^x}})\\end{bmatrix} \\times \\vec{x}$"
      ],
      "text/plain": [
       "<IPython.core.display.Latex object>"
      ]
     },
     "metadata": {},
     "output_type": "display_data"
    }
   ],
   "source": [
    "# Horizontally stacked operators\n",
    "H_nl = ops.Hstack(op_list_nonlinear)\n",
    "\n",
    "# Vertically stack x for forward operator\n",
    "x3 = yp.changeBackend(np.vstack((x, x, x)), global_backend)\n",
    "\n",
    "# Check forward operation\n",
    "y2 = yp.zeros(op_list_nonlinear[0].shape[0], op_list_nonlinear[0].dtype, op_list_nonlinear[0].backend)\n",
    "for op in op_list_nonlinear:\n",
    "    y2 += op * x\n",
    "    \n",
    "assert yp.sum(yp.abs(H_nl(x3) - y2)) < eps, \"%.4e\" % yp.sum(yp.abs(H_nl(x3)) - y2)\n",
    "\n",
    "# Check gradient\n",
    "H_nl.gradient_check()\n",
    "\n",
    "# Render forward model\n",
    "H_nl.latex()\n",
    "\n",
    "# Render gradient\n",
    "H_nl.latex(gradient=True)"
   ]
  },
  {
   "cell_type": "markdown",
   "metadata": {},
   "source": [
    "## Vertical Stacking"
   ]
  },
  {
   "cell_type": "markdown",
   "metadata": {},
   "source": [
    "### Linear Operators"
   ]
  },
  {
   "cell_type": "code",
   "execution_count": 61,
   "metadata": {
    "ExecuteTime": {
     "end_time": "2019-05-02T16:23:02.426294Z",
     "start_time": "2019-05-02T16:23:02.386633Z"
    },
    "scrolled": false
   },
   "outputs": [
    {
     "data": {
      "text/latex": [
       "$O_{3 \\times 1}(\\vec{x}) = \\begin{bmatrix}F \\cr I \\cr diag(\\vec{d})\\end{bmatrix} \\times \\vec{x}$"
      ],
      "text/plain": [
       "<IPython.core.display.Latex object>"
      ]
     },
     "metadata": {},
     "output_type": "display_data"
    },
    {
     "data": {
      "text/latex": [
       "$ \\nabla_xO_{3 \\times 1}(\\vec{x}) = \\begin{bmatrix}F^H & I^H & diag(\\vec{d})^H\\end{bmatrix} \\times \\vec{x}$"
      ],
      "text/plain": [
       "<IPython.core.display.Latex object>"
      ]
     },
     "metadata": {},
     "output_type": "display_data"
    }
   ],
   "source": [
    "# Create vertically stacked operator\n",
    "V_l = ops.Vstack(op_list_linear)\n",
    "\n",
    "# Check forward operator\n",
    "y3 = np.empty((0,image_size[1]), dtype=yp.getNativeDatatype(global_dtype, 'numpy'))\n",
    "for index, op in enumerate(op_list_linear):\n",
    "    y3 = np.append(y3, (op * x), axis=0)\n",
    "    \n",
    "y3 = yp.changeBackend(y3, global_backend)\n",
    "assert yp.sum(yp.abs(V_l * x - y3)) < eps, \"%.4e\" % yp.sum(yp.abs(V_l * vec(x) - y3))\n",
    "\n",
    "# Check gradient\n",
    "V_l.gradient_check()\n",
    "\n",
    "# Render forward model\n",
    "V_l.latex()\n",
    "\n",
    "# Render gradient\n",
    "V_l.latex(gradient=True)"
   ]
  },
  {
   "cell_type": "markdown",
   "metadata": {},
   "source": [
    "### Nonlinear Operators"
   ]
  },
  {
   "cell_type": "code",
   "execution_count": 62,
   "metadata": {
    "ExecuteTime": {
     "end_time": "2019-05-02T16:23:03.268120Z",
     "start_time": "2019-05-02T16:23:03.232112Z"
    },
    "scrolled": false
   },
   "outputs": [
    {
     "data": {
      "text/latex": [
       "$O_{3 \\times 1}(\\vec{x}) = \\begin{bmatrix}F \\cr I \\cr e^{ [\\cdot] }\\end{bmatrix} \\times \\vec{x}$"
      ],
      "text/plain": [
       "<IPython.core.display.Latex object>"
      ]
     },
     "metadata": {},
     "output_type": "display_data"
    },
    {
     "data": {
      "text/latex": [
       "$ \\nabla_xO_{3 \\times 1}(\\vec{x}) = \\begin{bmatrix}F^H & I^H & diag(\\vec{D_{e^x}})\\end{bmatrix} \\times \\vec{x}$"
      ],
      "text/plain": [
       "<IPython.core.display.Latex object>"
      ]
     },
     "metadata": {},
     "output_type": "display_data"
    }
   ],
   "source": [
    "# Create list of operators\n",
    "op_list_nonlinear = [\n",
    "            ops.FourierTransform(image_size),\n",
    "            ops.Identity(image_size),\n",
    "            ops.Exponential(image_size)\n",
    "]\n",
    "\n",
    "# Create vertically stacked operator\n",
    "V_nl = ops.Vstack(op_list_nonlinear)\n",
    "\n",
    "# Check forward operator\n",
    "y3 = np.empty((0,image_size[1]), dtype=yp.getNativeDatatype(global_dtype, 'numpy'))\n",
    "for index, op in enumerate(op_list_nonlinear):\n",
    "    y3 = np.append(y3, (op * x), axis=0)\n",
    "    \n",
    "y3 = yp.changeBackend(y3, global_backend)\n",
    "\n",
    "yp.assert_equality(V_nl * x, y3)\n",
    "\n",
    "# Check gradient\n",
    "V_nl.gradient_check()\n",
    "\n",
    "# Render forward model\n",
    "V_nl.latex()\n",
    "\n",
    "# Render gradient\n",
    "V_nl.latex(gradient=True)"
   ]
  },
  {
   "cell_type": "markdown",
   "metadata": {},
   "source": [
    "## Diagonal Stacking"
   ]
  },
  {
   "cell_type": "markdown",
   "metadata": {},
   "source": [
    "### Linear Operators"
   ]
  },
  {
   "cell_type": "code",
   "execution_count": 63,
   "metadata": {
    "ExecuteTime": {
     "end_time": "2019-05-02T16:23:04.616578Z",
     "start_time": "2019-05-02T16:23:04.581100Z"
    },
    "scrolled": false
   },
   "outputs": [
    {
     "data": {
      "text/latex": [
       "$O_{3 \\times 3}(\\vec{x}) = \\begin{bmatrix}F & 0 & 0 \\cr  0 & I & 0 \\cr  0 &  0 & diag(\\vec{d}) \\cr \\end{bmatrix} \\times \\vec{x}$"
      ],
      "text/plain": [
       "<IPython.core.display.Latex object>"
      ]
     },
     "metadata": {},
     "output_type": "display_data"
    },
    {
     "data": {
      "text/latex": [
       "$ \\nabla_xO_{3 \\times 3}(\\vec{x}) = \\begin{bmatrix}F^H & 0 & 0 \\cr  0 & I^H & 0 \\cr  0 &  0 & diag(\\vec{d})^H \\cr \\end{bmatrix} \\times \\vec{x}$"
      ],
      "text/plain": [
       "<IPython.core.display.Latex object>"
      ]
     },
     "metadata": {},
     "output_type": "display_data"
    }
   ],
   "source": [
    "# Horizontally stacked operators\n",
    "D_l = ops.Dstack(op_list_linear)\n",
    "\n",
    "# Vertically stack x for forward operator\n",
    "x3 = yp.changeBackend(np.vstack((x, x, x)), global_backend)\n",
    "\n",
    "# Check forward operation\n",
    "y4 = np.empty((0,image_size[1]), dtype=yp.getNativeDatatype(global_dtype, 'numpy'))\n",
    "for index, op in enumerate(op_list_linear):\n",
    "    y4 = np.append(y4, (op * x), axis=0)\n",
    "    \n",
    "y4 = yp.changeBackend(y4, global_backend)\n",
    "\n",
    "# Check forward\n",
    "yp.assert_equality(D_l(x3), y4)\n",
    "\n",
    "# Check gradient\n",
    "D_l.gradient_check()\n",
    "\n",
    "# Render forward model\n",
    "D_l.latex()\n",
    "\n",
    "# Render gradient\n",
    "D_l.latex(gradient=True)"
   ]
  },
  {
   "cell_type": "markdown",
   "metadata": {},
   "source": [
    "### Nonlinear operators"
   ]
  },
  {
   "cell_type": "code",
   "execution_count": 65,
   "metadata": {
    "ExecuteTime": {
     "end_time": "2019-05-02T16:23:30.890182Z",
     "start_time": "2019-05-02T16:23:30.830831Z"
    },
    "scrolled": false
   },
   "outputs": [
    {
     "data": {
      "text/latex": [
       "$O_{3 \\times 3}(\\vec{x}) = \\begin{bmatrix}F & 0 & 0 \\cr  0 & I & 0 \\cr  0 &  0 & e^{ [\\cdot] } \\cr \\end{bmatrix} \\times \\vec{x}$"
      ],
      "text/plain": [
       "<IPython.core.display.Latex object>"
      ]
     },
     "metadata": {},
     "output_type": "display_data"
    },
    {
     "ename": "ValueError",
     "evalue": "Input size mismatch, for <EXP: (64, 128)x(64, 128) Exponential NUMPY operator with dtype=complex32>, got (192, 0)",
     "output_type": "error",
     "traceback": [
      "\u001b[0;31m---------------------------------------------------------------------------\u001b[0m",
      "\u001b[0;31mValueError\u001b[0m                                Traceback (most recent call last)",
      "\u001b[0;32m<ipython-input-65-8dd14e3f6de4>\u001b[0m in \u001b[0;36m<module>\u001b[0;34m\u001b[0m\n\u001b[1;32m     22\u001b[0m \u001b[0;34m\u001b[0m\u001b[0m\n\u001b[1;32m     23\u001b[0m \u001b[0;31m# Render gradient\u001b[0m\u001b[0;34m\u001b[0m\u001b[0;34m\u001b[0m\u001b[0;34m\u001b[0m\u001b[0m\n\u001b[0;32m---> 24\u001b[0;31m \u001b[0mD_nl\u001b[0m\u001b[0;34m.\u001b[0m\u001b[0mlatex\u001b[0m\u001b[0;34m(\u001b[0m\u001b[0mgradient\u001b[0m\u001b[0;34m=\u001b[0m\u001b[0;32mTrue\u001b[0m\u001b[0;34m)\u001b[0m\u001b[0;34m\u001b[0m\u001b[0;34m\u001b[0m\u001b[0m\n\u001b[0m",
      "\u001b[0;32m~/develop/llops/llops/operators/operators.py\u001b[0m in \u001b[0;36mlatex\u001b[0;34m(self, gradient)\u001b[0m\n\u001b[1;32m    258\u001b[0m         \u001b[0;32mif\u001b[0m \u001b[0mgradient\u001b[0m\u001b[0;34m:\u001b[0m\u001b[0;34m\u001b[0m\u001b[0;34m\u001b[0m\u001b[0m\n\u001b[1;32m    259\u001b[0m             \u001b[0mx\u001b[0m \u001b[0;34m=\u001b[0m \u001b[0mzeros\u001b[0m\u001b[0;34m(\u001b[0m\u001b[0mself\u001b[0m\u001b[0;34m.\u001b[0m\u001b[0mN\u001b[0m\u001b[0;34m,\u001b[0m \u001b[0mself\u001b[0m\u001b[0;34m.\u001b[0m\u001b[0mdtype\u001b[0m\u001b[0;34m,\u001b[0m \u001b[0mself\u001b[0m\u001b[0;34m.\u001b[0m\u001b[0mbackend\u001b[0m\u001b[0;34m)\u001b[0m\u001b[0;34m\u001b[0m\u001b[0;34m\u001b[0m\u001b[0m\n\u001b[0;32m--> 260\u001b[0;31m             \u001b[0mdisplay\u001b[0m\u001b[0;34m(\u001b[0m\u001b[0mLatex\u001b[0m\u001b[0;34m(\u001b[0m\u001b[0;34m'$ \\\\nabla_x'\u001b[0m \u001b[0;34m+\u001b[0m \u001b[0mself\u001b[0m\u001b[0;34m.\u001b[0m\u001b[0mlabel\u001b[0m \u001b[0;34m+\u001b[0m \u001b[0;34m'(\\\\vec{x}) = '\u001b[0m \u001b[0;34m+\u001b[0m \u001b[0mself\u001b[0m\u001b[0;34m.\u001b[0m\u001b[0mgradient\u001b[0m\u001b[0;34m(\u001b[0m\u001b[0mx\u001b[0m\u001b[0;34m,\u001b[0m \u001b[0mreturn_op\u001b[0m\u001b[0;34m=\u001b[0m\u001b[0;32mTrue\u001b[0m\u001b[0;34m)\u001b[0m\u001b[0;34m.\u001b[0m\u001b[0mrepr_latex\u001b[0m\u001b[0;34m(\u001b[0m\u001b[0;34m'\\\\vec{x}'\u001b[0m\u001b[0;34m)\u001b[0m \u001b[0;34m+\u001b[0m \u001b[0;34m'$'\u001b[0m\u001b[0;34m)\u001b[0m\u001b[0;34m)\u001b[0m\u001b[0;34m\u001b[0m\u001b[0;34m\u001b[0m\u001b[0m\n\u001b[0m\u001b[1;32m    261\u001b[0m         \u001b[0;32melse\u001b[0m\u001b[0;34m:\u001b[0m\u001b[0;34m\u001b[0m\u001b[0;34m\u001b[0m\u001b[0m\n\u001b[1;32m    262\u001b[0m             \u001b[0mdisplay\u001b[0m\u001b[0;34m(\u001b[0m\u001b[0mLatex\u001b[0m\u001b[0;34m(\u001b[0m\u001b[0;34m'$'\u001b[0m \u001b[0;34m+\u001b[0m \u001b[0mself\u001b[0m\u001b[0;34m.\u001b[0m\u001b[0mlabel\u001b[0m \u001b[0;34m+\u001b[0m \u001b[0;34m'(\\\\vec{x}) = '\u001b[0m \u001b[0;34m+\u001b[0m \u001b[0mself\u001b[0m\u001b[0;34m.\u001b[0m\u001b[0mrepr_latex\u001b[0m\u001b[0;34m(\u001b[0m\u001b[0;34m'\\\\vec{x}'\u001b[0m\u001b[0;34m)\u001b[0m \u001b[0;34m+\u001b[0m \u001b[0;34m'$'\u001b[0m\u001b[0;34m)\u001b[0m\u001b[0;34m)\u001b[0m\u001b[0;34m\u001b[0m\u001b[0;34m\u001b[0m\u001b[0m\n",
      "\u001b[0;32m~/develop/llops/llops/operators/operators.py\u001b[0m in \u001b[0;36mgradient\u001b[0;34m(self, x, y, return_op)\u001b[0m\n\u001b[1;32m    451\u001b[0m             \u001b[0;31m# If return_op flag is specified, return an operator instead of the numeric gradient\u001b[0m\u001b[0;34m\u001b[0m\u001b[0;34m\u001b[0m\u001b[0;34m\u001b[0m\u001b[0m\n\u001b[1;32m    452\u001b[0m             \u001b[0;32mif\u001b[0m \u001b[0mreturn_op\u001b[0m\u001b[0;34m:\u001b[0m\u001b[0;34m\u001b[0m\u001b[0;34m\u001b[0m\u001b[0m\n\u001b[0;32m--> 453\u001b[0;31m                 \u001b[0;32mreturn\u001b[0m \u001b[0mself\u001b[0m\u001b[0;34m.\u001b[0m\u001b[0m_gradient\u001b[0m\u001b[0;34m(\u001b[0m\u001b[0minside_operator\u001b[0m\u001b[0;34m=\u001b[0m\u001b[0mself\u001b[0m\u001b[0;34m.\u001b[0m\u001b[0minner_operators\u001b[0m\u001b[0;34m,\u001b[0m \u001b[0mx\u001b[0m\u001b[0;34m=\u001b[0m\u001b[0mx\u001b[0m\u001b[0;34m)\u001b[0m\u001b[0;34m\u001b[0m\u001b[0;34m\u001b[0m\u001b[0m\n\u001b[0m\u001b[1;32m    454\u001b[0m \u001b[0;34m\u001b[0m\u001b[0m\n\u001b[1;32m    455\u001b[0m             \u001b[0;31m# Else, return the computed gradient\u001b[0m\u001b[0;34m\u001b[0m\u001b[0;34m\u001b[0m\u001b[0;34m\u001b[0m\u001b[0m\n",
      "\u001b[0;32m~/develop/llops/llops/operators/stack.py\u001b[0m in \u001b[0;36m_gradient\u001b[0;34m(self, x, inside_operator)\u001b[0m\n\u001b[1;32m    483\u001b[0m                 \u001b[0m_x\u001b[0m \u001b[0;34m=\u001b[0m \u001b[0mx\u001b[0m\u001b[0;34m[\u001b[0m\u001b[0;34m:\u001b[0m\u001b[0;34m,\u001b[0m \u001b[0mself\u001b[0m\u001b[0;34m.\u001b[0m\u001b[0midx_in\u001b[0m\u001b[0;34m[\u001b[0m\u001b[0mi\u001b[0m\u001b[0;34m]\u001b[0m\u001b[0;34m:\u001b[0m\u001b[0mself\u001b[0m\u001b[0;34m.\u001b[0m\u001b[0midx_in\u001b[0m\u001b[0;34m[\u001b[0m\u001b[0mi\u001b[0m \u001b[0;34m+\u001b[0m \u001b[0;36m1\u001b[0m\u001b[0;34m]\u001b[0m\u001b[0;34m]\u001b[0m\u001b[0;34m\u001b[0m\u001b[0;34m\u001b[0m\u001b[0m\n\u001b[1;32m    484\u001b[0m \u001b[0;34m\u001b[0m\u001b[0m\n\u001b[0;32m--> 485\u001b[0;31m             \u001b[0mop_list\u001b[0m\u001b[0;34m.\u001b[0m\u001b[0mappend\u001b[0m\u001b[0;34m(\u001b[0m\u001b[0mself\u001b[0m\u001b[0;34m.\u001b[0m\u001b[0mstack_operators\u001b[0m\u001b[0;34m[\u001b[0m\u001b[0mi\u001b[0m\u001b[0;34m]\u001b[0m\u001b[0;34m.\u001b[0m\u001b[0m_gradient\u001b[0m\u001b[0;34m(\u001b[0m\u001b[0minside_operator\u001b[0m\u001b[0;34m=\u001b[0m\u001b[0minside_operator\u001b[0m\u001b[0;34m,\u001b[0m \u001b[0mx\u001b[0m\u001b[0;34m=\u001b[0m\u001b[0m_x\u001b[0m\u001b[0;34m)\u001b[0m\u001b[0;34m)\u001b[0m\u001b[0;34m\u001b[0m\u001b[0;34m\u001b[0m\u001b[0m\n\u001b[0m\u001b[1;32m    486\u001b[0m \u001b[0;34m\u001b[0m\u001b[0m\n\u001b[1;32m    487\u001b[0m             \u001b[0;32mif\u001b[0m \u001b[0mself\u001b[0m\u001b[0;34m.\u001b[0m\u001b[0mnormalize\u001b[0m\u001b[0;34m:\u001b[0m\u001b[0;34m\u001b[0m\u001b[0;34m\u001b[0m\u001b[0m\n",
      "\u001b[0;32m~/develop/llops/llops/operators/operators.py\u001b[0m in \u001b[0;36m_gradient\u001b[0;34m(self, x, inside_operator)\u001b[0m\n\u001b[1;32m   1760\u001b[0m         \u001b[0;32massert\u001b[0m \u001b[0mx\u001b[0m \u001b[0;32mis\u001b[0m \u001b[0;32mnot\u001b[0m \u001b[0;32mNone\u001b[0m\u001b[0;34m,\u001b[0m \u001b[0;34m\"Exponential operator requires x input\"\u001b[0m\u001b[0;34m\u001b[0m\u001b[0;34m\u001b[0m\u001b[0m\n\u001b[1;32m   1761\u001b[0m         \u001b[0;32mif\u001b[0m \u001b[0minside_operator\u001b[0m \u001b[0;32mis\u001b[0m \u001b[0;32mNone\u001b[0m\u001b[0;34m:\u001b[0m\u001b[0;34m\u001b[0m\u001b[0;34m\u001b[0m\u001b[0m\n\u001b[0;32m-> 1762\u001b[0;31m             \u001b[0mG\u001b[0m \u001b[0;34m=\u001b[0m \u001b[0mDiagonalize\u001b[0m\u001b[0;34m(\u001b[0m\u001b[0mconj\u001b[0m\u001b[0;34m(\u001b[0m\u001b[0mself\u001b[0m\u001b[0;34m.\u001b[0m\u001b[0mforward\u001b[0m\u001b[0;34m(\u001b[0m\u001b[0mx\u001b[0m\u001b[0;34m)\u001b[0m\u001b[0;34m)\u001b[0m\u001b[0;34m,\u001b[0m \u001b[0mdtype\u001b[0m\u001b[0;34m=\u001b[0m\u001b[0mself\u001b[0m\u001b[0;34m.\u001b[0m\u001b[0mdtype\u001b[0m\u001b[0;34m,\u001b[0m \u001b[0mshallow\u001b[0m\u001b[0;34m=\u001b[0m\u001b[0;32mTrue\u001b[0m\u001b[0;34m)\u001b[0m\u001b[0;34m\u001b[0m\u001b[0;34m\u001b[0m\u001b[0m\n\u001b[0m\u001b[1;32m   1763\u001b[0m         \u001b[0;32melse\u001b[0m\u001b[0;34m:\u001b[0m\u001b[0;34m\u001b[0m\u001b[0;34m\u001b[0m\u001b[0m\n\u001b[1;32m   1764\u001b[0m             \u001b[0mG\u001b[0m \u001b[0;34m=\u001b[0m \u001b[0mDiagonalize\u001b[0m\u001b[0;34m(\u001b[0m\u001b[0mconj\u001b[0m\u001b[0;34m(\u001b[0m\u001b[0mself\u001b[0m\u001b[0;34m.\u001b[0m\u001b[0mforward\u001b[0m\u001b[0;34m(\u001b[0m\u001b[0minside_operator\u001b[0m \u001b[0;34m*\u001b[0m \u001b[0mx\u001b[0m\u001b[0;34m)\u001b[0m\u001b[0;34m)\u001b[0m\u001b[0;34m,\u001b[0m \u001b[0mdtype\u001b[0m\u001b[0;34m=\u001b[0m\u001b[0mself\u001b[0m\u001b[0;34m.\u001b[0m\u001b[0mdtype\u001b[0m\u001b[0;34m,\u001b[0m \u001b[0mshallow\u001b[0m\u001b[0;34m=\u001b[0m\u001b[0;32mTrue\u001b[0m\u001b[0;34m)\u001b[0m\u001b[0;34m\u001b[0m\u001b[0;34m\u001b[0m\u001b[0m\n",
      "\u001b[0;32m~/develop/llops/llops/operators/operators.py\u001b[0m in \u001b[0;36mforward\u001b[0;34m(self, x, y)\u001b[0m\n\u001b[1;32m    293\u001b[0m \u001b[0;34m\u001b[0m\u001b[0m\n\u001b[1;32m    294\u001b[0m             \u001b[0;32mif\u001b[0m \u001b[0msize\u001b[0m\u001b[0;34m(\u001b[0m\u001b[0mx\u001b[0m\u001b[0;34m)\u001b[0m \u001b[0;34m!=\u001b[0m \u001b[0mprod\u001b[0m\u001b[0;34m(\u001b[0m\u001b[0mself\u001b[0m\u001b[0;34m.\u001b[0m\u001b[0mshape\u001b[0m\u001b[0;34m[\u001b[0m\u001b[0;36m1\u001b[0m\u001b[0;34m]\u001b[0m\u001b[0;34m)\u001b[0m\u001b[0;34m:\u001b[0m\u001b[0;34m\u001b[0m\u001b[0;34m\u001b[0m\u001b[0m\n\u001b[0;32m--> 295\u001b[0;31m                 \u001b[0;32mraise\u001b[0m \u001b[0mValueError\u001b[0m\u001b[0;34m(\u001b[0m\u001b[0;34m'Input size mismatch, for {}, got {}'\u001b[0m\u001b[0;34m.\u001b[0m\u001b[0mformat\u001b[0m\u001b[0;34m(\u001b[0m\u001b[0mself\u001b[0m\u001b[0;34m,\u001b[0m \u001b[0mshape\u001b[0m\u001b[0;34m(\u001b[0m\u001b[0mx\u001b[0m\u001b[0;34m)\u001b[0m\u001b[0;34m)\u001b[0m\u001b[0;34m)\u001b[0m\u001b[0;34m\u001b[0m\u001b[0;34m\u001b[0m\u001b[0m\n\u001b[0m\u001b[1;32m    296\u001b[0m \u001b[0;34m\u001b[0m\u001b[0m\n\u001b[1;32m    297\u001b[0m             \u001b[0;31m# Ensure x is the correct size\u001b[0m\u001b[0;34m\u001b[0m\u001b[0;34m\u001b[0m\u001b[0;34m\u001b[0m\u001b[0m\n",
      "\u001b[0;31mValueError\u001b[0m: Input size mismatch, for <EXP: (64, 128)x(64, 128) Exponential NUMPY operator with dtype=complex32>, got (192, 0)"
     ]
    }
   ],
   "source": [
    "# Horizontally stacked operators\n",
    "D_nl = ops.Dstack(op_list_nonlinear)\n",
    "\n",
    "# Vertically stack x for forward operator\n",
    "x3 = yp.changeBackend(np.vstack((x, x, x)), global_backend)\n",
    "\n",
    "# Check forward operation\n",
    "y4 = np.empty((0,image_size[1]), dtype=yp.getNativeDatatype(global_dtype, 'numpy'))\n",
    "for index, op in enumerate(op_list_nonlinear):\n",
    "    y4 = np.append(y4, (op * x), axis=0)\n",
    "    \n",
    "y4 = yp.changeBackend(y4, global_backend)\n",
    "\n",
    "# Check forward operation\n",
    "yp.assert_equality(D_nl(x3), y4)\n",
    "\n",
    "# Check gradient\n",
    "# D_nl.gradient_check()\n",
    "\n",
    "# Render forward model\n",
    "D_nl.latex()\n",
    "\n",
    "# Render gradient\n",
    "D_nl.latex(gradient=True)"
   ]
  },
  {
   "cell_type": "markdown",
   "metadata": {},
   "source": [
    "## Sum of Operators"
   ]
  },
  {
   "cell_type": "code",
   "execution_count": 66,
   "metadata": {
    "ExecuteTime": {
     "end_time": "2019-05-02T16:24:22.602390Z",
     "start_time": "2019-05-02T16:24:22.562825Z"
    },
    "scrolled": false
   },
   "outputs": [
    {
     "data": {
      "text/latex": [
       "$\\Sigma(\\vec{x}) = \\Sigma_{i=0}^{3} O_i \\times \\vec{x}$"
      ],
      "text/plain": [
       "<IPython.core.display.Latex object>"
      ]
     },
     "metadata": {},
     "output_type": "display_data"
    },
    {
     "data": {
      "text/latex": [
       "$ \\nabla_x\\Sigma(\\vec{x}) = \\begin{bmatrix}F^H & I^H & diag(\\vec{D_{e^x}})\\end{bmatrix} \\times \\begin{bmatrix}I^H \\cr I^H \\cr I^H\\end{bmatrix} \\times \\vec{x}$"
      ],
      "text/plain": [
       "<IPython.core.display.Latex object>"
      ]
     },
     "metadata": {},
     "output_type": "display_data"
    }
   ],
   "source": [
    "# Sum of operators\n",
    "S = ops.OperatorSum(op_list_nonlinear)\n",
    "\n",
    "# Check forward operator\n",
    "assert yp.sum(yp.abs(S * x - sum([op_list_nonlinear[i] * x for i in range(len(op_list_nonlinear))]))) < eps, '%f' % yp.sum(yp.abs(S * x - sum([op_list_nonlinear[i] * x for i in range(len(op_list_nonlinear))])))\n",
    "\n",
    "# Check gradient\n",
    "S.gradient_check()\n",
    "\n",
    "# Render forward model\n",
    "S.latex()\n",
    "\n",
    "# Render gradient\n",
    "S.latex(gradient=True)"
   ]
  },
  {
   "cell_type": "markdown",
   "metadata": {},
   "source": [
    "### Sum of Exponentials"
   ]
  },
  {
   "cell_type": "code",
   "execution_count": 67,
   "metadata": {
    "ExecuteTime": {
     "end_time": "2019-05-02T16:24:23.770602Z",
     "start_time": "2019-05-02T16:24:23.639804Z"
    },
    "scrolled": false
   },
   "outputs": [
    {
     "data": {
      "text/latex": [
       "$\\Sigma(\\vec{x}) = \\Sigma_{i=0}^{5}(e^{\\vec{x}})_i$"
      ],
      "text/plain": [
       "<IPython.core.display.Latex object>"
      ]
     },
     "metadata": {},
     "output_type": "display_data"
    }
   ],
   "source": [
    "EXP = ops.Exponential(image_size)\n",
    "exp_list = [EXP] * 5\n",
    "\n",
    "# Sum of operators\n",
    "S = ops.OperatorSum(exp_list)\n",
    "\n",
    "# Check forward operator\n",
    "assert yp.sum(yp.abs(S * x - sum([exp_list[i] * x for i in range(len(exp_list))]))) < eps, '%f' % yp.sum(yp.abs(S * x - sum([exp_list[i] * x for i in range(len(exp_list))])))\n",
    "\n",
    "# Check gradient\n",
    "S.gradient_check()\n",
    "\n",
    "# print latex\n",
    "S.latex()"
   ]
  },
  {
   "cell_type": "markdown",
   "metadata": {
    "ExecuteTime": {
     "end_time": "2018-04-26T23:08:19.089223Z",
     "start_time": "2018-04-26T23:08:19.036646Z"
    }
   },
   "source": [
    "### Sum of Phase Ramps"
   ]
  },
  {
   "cell_type": "code",
   "execution_count": 68,
   "metadata": {
    "ExecuteTime": {
     "end_time": "2019-05-02T16:24:26.924723Z",
     "start_time": "2019-05-02T16:24:26.866044Z"
    },
    "scrolled": false
   },
   "outputs": [
    {
     "data": {
      "text/latex": [
       "$\\Sigma(\\vec{x}) = \\Sigma_{i=0}^{3}(e^{-i2\\pi \\vec{k} \\vec{x}})_i$"
      ],
      "text/plain": [
       "<IPython.core.display.Latex object>"
      ]
     },
     "metadata": {},
     "output_type": "display_data"
    },
    {
     "data": {
      "text/latex": [
       "$ \\nabla_x\\Sigma(\\vec{x}) = \\begin{bmatrix}\\begin{bmatrix}\\sum_{axes=[0, 1]}  \\cr \\sum_{axes=[0, 1]} \\end{bmatrix} & \\begin{bmatrix}\\sum_{axes=[0, 1]}  \\cr \\sum_{axes=[0, 1]} \\end{bmatrix} & \\begin{bmatrix}\\sum_{axes=[0, 1]}  \\cr \\sum_{axes=[0, 1]} \\end{bmatrix}\\end{bmatrix} \\times \\begin{bmatrix}I^H \\cr I^H \\cr I^H\\end{bmatrix} \\times \\vec{x}$"
      ],
      "text/plain": [
       "<IPython.core.display.Latex object>"
      ]
     },
     "metadata": {},
     "output_type": "display_data"
    }
   ],
   "source": [
    "phase_ramp_dtype = 'complex32'\n",
    "x_long = yp.astype(x, phase_ramp_dtype)\n",
    "shift = yp.changeBackend(np.asarray((-5,3)).astype(yp.getNativeDatatype(phase_ramp_dtype, 'numpy')), global_backend)\n",
    "\n",
    "R = ops.PhaseRamp(image_size, dtype=phase_ramp_dtype, backend=global_backend)\n",
    "r_list = [R] * 3\n",
    "\n",
    "# Sum of operators\n",
    "S = ops.OperatorSum(r_list)\n",
    "\n",
    "# Check forward operator\n",
    "assert yp.sum(yp.abs(S * shift - sum([r_list[i] * shift for i in range(len(r_list))]))) < eps, '%f' % yp.sum(yp.abs(S * shift - sum([r_list[i] * vec(shift) for i in range(len(exp_list))]))) \n",
    "\n",
    "# Check gradient\n",
    "S.gradient_check(eps=1)\n",
    "\n",
    "# Render forward model\n",
    "S.latex()\n",
    "\n",
    "# Render gradient\n",
    "S.latex(gradient=True)"
   ]
  }
 ],
 "metadata": {
  "kernelspec": {
   "display_name": "Python 3",
   "language": "python",
   "name": "python3"
  },
  "language_info": {
   "codemirror_mode": {
    "name": "ipython",
    "version": 3
   },
   "file_extension": ".py",
   "mimetype": "text/x-python",
   "name": "python",
   "nbconvert_exporter": "python",
   "pygments_lexer": "ipython3",
   "version": "3.7.3"
  },
  "latex_envs": {
   "LaTeX_envs_menu_present": true,
   "autocomplete": true,
   "bibliofile": "biblio.bib",
   "cite_by": "apalike",
   "current_citInitial": 1,
   "eqLabelWithNumbers": true,
   "eqNumInitial": 1,
   "hotkeys": {
    "equation": "Ctrl-E",
    "itemize": "Ctrl-I"
   },
   "labels_anchors": false,
   "latex_user_defs": false,
   "report_style_numbering": false,
   "user_envs_cfg": false
  },
  "varInspector": {
   "cols": {
    "lenName": 16,
    "lenType": 16,
    "lenVar": 40
   },
   "kernels_config": {
    "python": {
     "delete_cmd_postfix": "",
     "delete_cmd_prefix": "del ",
     "library": "var_list.py",
     "varRefreshCmd": "print(var_dic_list())"
    },
    "r": {
     "delete_cmd_postfix": ") ",
     "delete_cmd_prefix": "rm(",
     "library": "var_list.r",
     "varRefreshCmd": "cat(var_dic_list()) "
    }
   },
   "types_to_exclude": [
    "module",
    "function",
    "builtin_function_or_method",
    "instance",
    "_Feature"
   ],
   "window_display": true
  }
 },
 "nbformat": 4,
 "nbformat_minor": 2
}
