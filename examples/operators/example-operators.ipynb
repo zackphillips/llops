{
 "cells": [
  {
   "cell_type": "code",
   "execution_count": 2,
   "metadata": {
    "ExecuteTime": {
     "end_time": "2019-05-02T18:47:00.735041Z",
     "start_time": "2019-05-02T18:47:00.670545Z"
    },
    "scrolled": false,
    "tags": []
   },
   "outputs": [],
   "source": [
    "%matplotlib widget\n",
    "%load_ext autoreload\n",
    "%autoreload 2\n",
    "\n",
    "import numpy as np\n",
    "import scipy as sp\n",
    "import matplotlib.pyplot as plt\n",
    "import scipy.misc as misc\n",
    "import math\n",
    "import time\n",
    "\n",
    "# Project imports\n",
    "import llops.operators as ops\n",
    "import llops as yp\n",
    "import llops.simulation as sim\n",
    "from llops import vec"
   ]
  },
  {
   "cell_type": "markdown",
   "metadata": {},
   "source": [
    "## Define Backend and Datatype"
   ]
  },
  {
   "cell_type": "code",
   "execution_count": 3,
   "metadata": {
    "ExecuteTime": {
     "end_time": "2019-05-02T18:47:01.334007Z",
     "start_time": "2019-05-02T18:47:01.310562Z"
    },
    "scrolled": false
   },
   "outputs": [],
   "source": [
    "global_backend = 'numpy' # arrayfire or numpy\n",
    "global_dtype = 'complex32' # complex32 or complex64\n",
    "\n",
    "ops.setDefaultBackend(global_backend)\n",
    "ops.setDefaultDatatype(global_dtype)"
   ]
  },
  {
   "cell_type": "markdown",
   "metadata": {},
   "source": [
    "# Create Test Object"
   ]
  },
  {
   "cell_type": "code",
   "execution_count": 4,
   "metadata": {
    "ExecuteTime": {
     "end_time": "2019-05-02T18:47:02.319694Z",
     "start_time": "2019-05-02T18:47:01.849710Z"
    },
    "scrolled": false
   },
   "outputs": [
    {
     "output_type": "display_data",
     "data": {
      "text/plain": "Canvas(toolbar=Toolbar(toolitems=[('Home', 'Reset original view', 'home', 'home'), ('Back', 'Back to previous …",
      "application/vnd.jupyter.widget-view+json": {
       "version_major": 2,
       "version_minor": 0,
       "model_id": "5e140bd95363477da99890e52e8ccb9c"
      }
     },
     "metadata": {}
    }
   ],
   "source": [
    "# Image size to simulate\n",
    "image_size = np.array([64, 128])\n",
    "\n",
    "# Determine machine precision threshold\n",
    "eps = yp.precision(global_dtype) * np.prod(image_size)\n",
    "\n",
    "# Load object and crop to size\n",
    "x = sim.brain(image_size)\n",
    "\n",
    "# Generate convolution kernel h\n",
    "h_size = np.array([4, 4])\n",
    "h = yp.zeros(image_size, global_dtype, global_backend)\n",
    "h[image_size[0] // 2 - h_size[0] // 2:image_size[0] // 2 + h_size[0] // 2,\n",
    "  image_size[1] // 2 - h_size[1] // 2:image_size[1] // 2 + h_size[1] // 2] = yp.randn((h_size[0], h_size[1]), global_dtype, global_backend)\n",
    "\n",
    "h /= yp.scalar(yp.sum(yp.abs(h)))\n",
    "\n",
    "# Forward Operator\n",
    "A = ops.Convolution(h, mode='circular', pad_value='mean', invalid_support_value=0)\n",
    "A.inverse_regularizer = 1e-2\n",
    "\n",
    "# Generate Measurement\n",
    "y = A * x\n",
    "\n",
    "# Reconstruction\n",
    "x_star = A.inv * y\n",
    "\n",
    "# Show object and h\n",
    "plt.figure(figsize=(12,3))\n",
    "plt.subplot(141)\n",
    "plt.imshow(yp.abs(yp.changeBackend(x, 'numpy')), cmap='gray')\n",
    "plt.title('Object (x)')\n",
    "plt.subplot(142)\n",
    "plt.imshow(yp.abs(np.asarray(h)), cmap='gray')\n",
    "plt.title('h (A)')\n",
    "plt.subplot(143)\n",
    "plt.imshow((yp.abs(np.asarray(y))), cmap='gray')\n",
    "plt.title('Measurement (A * x)');\n",
    "plt.subplot(144)\n",
    "plt.imshow((yp.abs(np.asarray(x_star))), cmap='gray')\n",
    "plt.title('Recon (A.inv * A * x)');"
   ]
  },
  {
   "cell_type": "markdown",
   "metadata": {},
   "source": [
    "## Identity Operator"
   ]
  },
  {
   "cell_type": "code",
   "execution_count": 5,
   "metadata": {
    "ExecuteTime": {
     "end_time": "2019-05-02T17:11:20.083953Z",
     "start_time": "2019-05-02T17:11:20.055188Z"
    }
   },
   "outputs": [
    {
     "output_type": "display_data",
     "data": {
      "text/plain": "<IPython.core.display.Latex object>",
      "text/latex": "$I(\\vec{x}) = I \\times \\vec{x}$"
     },
     "metadata": {}
    },
    {
     "output_type": "display_data",
     "data": {
      "text/plain": "<IPython.core.display.Latex object>",
      "text/latex": "$ \\nabla_xI(\\vec{x}) = I^H \\times \\vec{x}$"
     },
     "metadata": {}
    }
   ],
   "source": [
    "I = ops.Identity(image_size)\n",
    "\n",
    "# Check forward operator\n",
    "assert yp.sum((I * x) - x) < eps\n",
    "\n",
    "# Check gradient\n",
    "I.gradient_check()\n",
    "\n",
    "# Render forward model\n",
    "I.latex()\n",
    "\n",
    "# Render gradient\n",
    "I.latex(gradient=True)"
   ]
  },
  {
   "cell_type": "markdown",
   "metadata": {},
   "source": [
    "## Diagonalization Operator"
   ]
  },
  {
   "cell_type": "code",
   "execution_count": 6,
   "metadata": {
    "ExecuteTime": {
     "end_time": "2019-05-02T18:47:04.107853Z",
     "start_time": "2019-05-02T18:47:04.078602Z"
    }
   },
   "outputs": [
    {
     "output_type": "display_data",
     "data": {
      "text/plain": "<IPython.core.display.Latex object>",
      "text/latex": "$d(\\vec{x}) = diag(\\vec{d})\\times \\vec{x}$"
     },
     "metadata": {}
    },
    {
     "output_type": "display_data",
     "data": {
      "text/plain": "<IPython.core.display.Latex object>",
      "text/latex": "$ \\nabla_xd(\\vec{x}) = diag(\\vec{d})^H \\times \\vec{x}$"
     },
     "metadata": {}
    }
   ],
   "source": [
    "K = ops.Diagonalize(h)\n",
    "\n",
    "# Check forward operator\n",
    "yp.assert_equality(K * x, h * x)\n",
    "\n",
    "# Check gradient\n",
    "K.gradient_check()\n",
    "\n",
    "# Render forward model\n",
    "K.latex()\n",
    "\n",
    "# Render gradient\n",
    "K.latex(gradient=True)"
   ]
  },
  {
   "cell_type": "markdown",
   "metadata": {},
   "source": [
    "## Matrix Multiplication Operator"
   ]
  },
  {
   "cell_type": "code",
   "execution_count": 7,
   "metadata": {
    "ExecuteTime": {
     "end_time": "2019-05-02T18:47:05.012574Z",
     "start_time": "2019-05-02T18:47:04.977889Z"
    }
   },
   "outputs": [
    {
     "output_type": "display_data",
     "data": {
      "text/plain": "<IPython.core.display.Latex object>",
      "text/latex": "$A(\\vec{x}) = M\\vec{x}$"
     },
     "metadata": {}
    },
    {
     "output_type": "display_data",
     "data": {
      "text/plain": "<IPython.core.display.Latex object>",
      "text/latex": "$ \\nabla_xA(\\vec{x}) = M^H \\times \\vec{x}$"
     },
     "metadata": {}
    }
   ],
   "source": [
    "matrix_size = (10,10)\n",
    "m = yp.rand(matrix_size, global_dtype, global_backend)\n",
    "xm = yp.rand(matrix_size[1], global_dtype, global_backend)\n",
    "M = ops.MatrixMultiply(m)\n",
    "\n",
    "# Check Forward operator\n",
    "assert yp.sum(yp.abs(yp.vec(yp.changeBackend(M * xm, 'numpy')) - yp.vec(yp.changeBackend(m, 'numpy').dot(yp.changeBackend(xm, 'numpy'))))) < eps, \"%f\" % yp.sum(yp.abs(yp.changeBackend(M * xm, 'numpy') - yp.changeBackend(m, 'numpy').dot(yp.changeBackend(xm, 'numpy'))[:, np.newaxis]))\n",
    "\n",
    "# Check Adjoint\n",
    "assert yp.sum(yp.abs(yp.vec(yp.changeBackend(M.H * xm, 'numpy')) - yp.vec(np.conj(yp.changeBackend(m, 'numpy').T).dot(yp.changeBackend(xm, 'numpy'))))) < eps, \"%f\" % yp.sum(yp.abs(yp.changeBackend(M.H * xm, 'numpy') - np.conj(yp.changeBackend(m, 'numpy').T).dot(yp.changeBackend(xm, 'numpy'))[:, np.newaxis]))\n",
    "\n",
    "# Check gradient\n",
    "M.gradient_check()\n",
    "\n",
    "# Render forward model\n",
    "M.latex()\n",
    "\n",
    "# Render gradient\n",
    "M.latex(gradient=True)"
   ]
  },
  {
   "cell_type": "markdown",
   "metadata": {},
   "source": [
    "## Circular Convolution Operator"
   ]
  },
  {
   "cell_type": "code",
   "execution_count": 8,
   "metadata": {
    "ExecuteTime": {
     "end_time": "2019-05-02T18:47:06.023133Z",
     "start_time": "2019-05-02T18:47:05.981383Z"
    }
   },
   "outputs": [
    {
     "output_type": "display_data",
     "data": {
      "text/plain": "<IPython.core.display.Latex object>",
      "text/latex": "$C(\\vec{x}) = C \\times \\vec{x}$"
     },
     "metadata": {}
    },
    {
     "output_type": "display_data",
     "data": {
      "text/plain": "<IPython.core.display.Latex object>",
      "text/latex": "$ \\nabla_xC(\\vec{x}) = C^H \\times \\vec{x}$"
     },
     "metadata": {}
    }
   ],
   "source": [
    "# Generate circular convolution operator\n",
    "C = ops.Convolution(h)\n",
    "\n",
    "# Test forward operator\n",
    "conv2 = lambda x, h: yp.changeBackend(np.fft.ifftshift((np.fft.ifft2(np.fft.fft2(x, axes=(0,1), norm='ortho') * np.fft.fft2(h, axes=(0,1), norm='ortho'), axes=(0,1), norm='ortho')), axes=(0,1)).astype(yp.getNativeDatatype(global_dtype, 'numpy')), global_backend)\n",
    "\n",
    "x_np = yp.changeBackend(x, 'numpy')\n",
    "h_np = yp.changeBackend(h, 'numpy')\n",
    "\n",
    "# Check gradient\n",
    "C.gradient_check(eps=1e-0)\n",
    "\n",
    "# Render forward model\n",
    "C.latex()\n",
    "\n",
    "# Render gradient\n",
    "C.latex(gradient=True)"
   ]
  },
  {
   "cell_type": "markdown",
   "metadata": {},
   "source": [
    "## Non-circular Convolution Operator"
   ]
  },
  {
   "cell_type": "code",
   "execution_count": 9,
   "metadata": {
    "ExecuteTime": {
     "end_time": "2019-05-02T18:47:06.768274Z",
     "start_time": "2019-05-02T18:47:06.665342Z"
    },
    "tags": []
   },
   "outputs": [
    {
     "output_type": "display_data",
     "data": {
      "text/plain": "Canvas(toolbar=Toolbar(toolitems=[('Home', 'Reset original view', 'home', 'home'), ('Back', 'Back to previous …",
      "application/vnd.jupyter.widget-view+json": {
       "version_major": 2,
       "version_minor": 0,
       "model_id": "e33cbb8bd7e240d5b33bec4daa5a4c70"
      }
     },
     "metadata": {}
    },
    {
     "output_type": "stream",
     "name": "stdout",
     "text": "SSD is 3.87E+03\n"
    },
    {
     "output_type": "display_data",
     "data": {
      "text/plain": "<IPython.core.display.Latex object>",
      "text/latex": "$C(\\vec{x}) = C \\times \\vec{x}$"
     },
     "metadata": {}
    },
    {
     "output_type": "display_data",
     "data": {
      "text/plain": "<IPython.core.display.Latex object>",
      "text/latex": "$ \\nabla_xC(\\vec{x}) = C^H \\times \\vec{x}$"
     },
     "metadata": {}
    }
   ],
   "source": [
    "pad_value = 0\n",
    "\n",
    "# Windowed Convolution\n",
    "C_full = ops.Convolution(h, mode='same', pad_value=pad_value, dtype=global_dtype, backend=global_backend)\n",
    "y_full = yp.changeBackend(yp.abs(C_full * x), 'numpy')\n",
    "\n",
    "# Circular Convolution\n",
    "C = ops.Convolution(h,  dtype=global_dtype, backend=global_backend)\n",
    "y5 = yp.abs(yp.changeBackend(C * x, 'numpy'))\n",
    "\n",
    "plt.figure(figsize=(10,2))\n",
    "plt.subplot(131)\n",
    "plt.imshow(yp.real(y5))\n",
    "plt.title('FFT')\n",
    "plt.subplot(132)\n",
    "plt.imshow(yp.real(y_full))\n",
    "plt.title('Windowed')\n",
    "plt.subplot(133)\n",
    "plt.imshow(yp.abs(y_full - y5))\n",
    "plt.title('|FFT - windowed|');\n",
    "plt.colorbar()\n",
    "\n",
    "print('SSD is %.2E' % yp.sum(yp.abs(y_full - y5)) ** 2)\n",
    "\n",
    "# Check Gradient\n",
    "C_full.gradient_check()\n",
    "\n",
    "# Render forward model\n",
    "C_full.latex()\n",
    "\n",
    "# Render gradient\n",
    "C_full.latex(gradient=True)"
   ]
  },
  {
   "cell_type": "markdown",
   "metadata": {},
   "source": [
    "## Cross-Correlation Operator"
   ]
  },
  {
   "cell_type": "code",
   "execution_count": 10,
   "metadata": {
    "ExecuteTime": {
     "end_time": "2019-05-02T18:47:07.904806Z",
     "start_time": "2019-05-02T18:47:07.867847Z"
    }
   },
   "outputs": [
    {
     "output_type": "display_data",
     "data": {
      "text/plain": "<IPython.core.display.Latex object>",
      "text/latex": "$X(\\vec{x}) = X \\times \\vec{x}$"
     },
     "metadata": {}
    },
    {
     "output_type": "display_data",
     "data": {
      "text/plain": "<IPython.core.display.Latex object>",
      "text/latex": "$ \\nabla_xX(\\vec{x}) = X^H \\times \\vec{x}$"
     },
     "metadata": {}
    }
   ],
   "source": [
    "XC = ops.CrossCorrelation(h)\n",
    "\n",
    "xc = lambda x, h: np.fft.ifftshift((np.fft.ifft2(np.fft.fft2(x, axes=(0,1), norm='ortho') \\\n",
    "                                                                * np.conj(np.fft.fft2(h, axes=(0,1), norm='ortho')), axes=(0,1), norm='ortho')), axes=(0,1)).astype(np.complex64)\n",
    "\n",
    "# Check forward operator\n",
    "# y1 = yp.changeBackend(XC * vec(x), 'numpy')\n",
    "# y2 = xc(yp.changeBackend(x, 'numpy'), yp.changeBackend(h, 'numpy'))\n",
    "# assert yp.sum(yp.abs(y1 - y2.reshape(-1))) < eps\n",
    "\n",
    "# Check gradient\n",
    "XC.gradient_check()\n",
    "\n",
    "# Render forward model\n",
    "XC.latex()\n",
    "\n",
    "# Render gradient\n",
    "XC.latex(gradient=True)"
   ]
  },
  {
   "cell_type": "markdown",
   "metadata": {},
   "source": [
    "## Crop Operator: Centered"
   ]
  },
  {
   "cell_type": "code",
   "execution_count": 11,
   "metadata": {
    "ExecuteTime": {
     "end_time": "2019-05-02T18:47:08.919902Z",
     "start_time": "2019-05-02T18:47:08.886708Z"
    }
   },
   "outputs": [
    {
     "output_type": "display_data",
     "data": {
      "text/plain": "<IPython.core.display.Latex object>",
      "text/latex": "$CR(\\vec{x}) = CR_{(64, 128) \\longrightarrow (32, 64)} \\times \\vec{x}$"
     },
     "metadata": {}
    },
    {
     "output_type": "display_data",
     "data": {
      "text/plain": "<IPython.core.display.Latex object>",
      "text/latex": "$ \\nabla_xCR(\\vec{x}) = CR_{(64, 128) \\longrightarrow (32, 64)}^H \\times \\vec{x}$"
     },
     "metadata": {}
    }
   ],
   "source": [
    "# Generate Crop Operator\n",
    "crop_size = (image_size[0] // 2, image_size[1] // 2)\n",
    "crop_start = tuple(np.asarray(image_size) // 2 - np.asarray(crop_size) // 2)\n",
    "CR = ops.Crop(image_size, crop_size, pad_value=0, crop_start=crop_start, dtype=global_dtype, backend=global_backend)\n",
    "\n",
    "# Check forward operator\n",
    "y_1 = yp.changeBackend(CR * x, 'numpy')\n",
    "y_2 = yp.changeBackend(yp.crop(x, crop_size, crop_start), 'numpy')\n",
    "assert yp.sum(yp.abs(y_1 - y_2)) < eps\n",
    "\n",
    "# Check Adjoint Operator\n",
    "pad_size = [int((image_size[i] - crop_size[i]) / 2) for i in range(len(image_size))]\n",
    "y_3 = yp.pad(yp.crop(x, crop_size, crop_start), image_size, crop_start, pad_value=0)\n",
    "y_4 = CR.H * CR * x\n",
    "assert yp.sum(yp.abs(y_3 - y_4)) < eps\n",
    "\n",
    "# Check gradient\n",
    "CR.gradient_check()\n",
    "\n",
    "# Render forward model\n",
    "CR.latex()\n",
    "\n",
    "# Render gradient\n",
    "CR.latex(gradient=True)"
   ]
  },
  {
   "cell_type": "markdown",
   "metadata": {},
   "source": [
    "## Crop Operator: Non-Centered"
   ]
  },
  {
   "cell_type": "code",
   "execution_count": 12,
   "metadata": {
    "ExecuteTime": {
     "end_time": "2019-05-02T18:47:09.805114Z",
     "start_time": "2019-05-02T18:47:09.770210Z"
    }
   },
   "outputs": [
    {
     "output_type": "display_data",
     "data": {
      "text/plain": "<IPython.core.display.Latex object>",
      "text/latex": "$CR(\\vec{x}) = CR_{(64, 128) \\longrightarrow (32, 64)} \\times \\vec{x}$"
     },
     "metadata": {}
    },
    {
     "output_type": "display_data",
     "data": {
      "text/plain": "<IPython.core.display.Latex object>",
      "text/latex": "$ \\nabla_xCR(\\vec{x}) = CR_{(64, 128) \\longrightarrow (32, 64)}^H \\times \\vec{x}$"
     },
     "metadata": {}
    }
   ],
   "source": [
    "# Generate Crop Operator\n",
    "crop_size = (image_size[0] // 2, image_size[1] // 2)\n",
    "crop_start = (6, 6)\n",
    "CR = ops.Crop(image_size, crop_size, pad_value=0,  dtype=global_dtype, backend=global_backend, crop_start=crop_start)\n",
    "\n",
    "# Check forward operator\n",
    "y_1 = yp.changeBackend(CR * x, 'numpy')\n",
    "y_2 = yp.changeBackend(yp.crop(x, crop_size, crop_start), 'numpy')\n",
    "assert yp.sum(yp.abs(y_1 - y_2)) < eps\n",
    "\n",
    "# Check Adjoint Operator\n",
    "pad_size = [int((image_size[i] - crop_size[i]) / 2) for i in range(len(image_size))]\n",
    "y_3 = yp.pad(yp.crop(x, crop_size, crop_start), image_size, crop_start, pad_value=0)\n",
    "y_4 = yp.reshape(CR.H * CR * x, image_size)\n",
    "assert yp.sum(yp.abs(y_3 - y_4)) < eps\n",
    "\n",
    "# Check gradient\n",
    "CR.gradient_check()\n",
    "\n",
    "# Render forward model\n",
    "CR.latex()\n",
    "\n",
    "# Render gradient\n",
    "CR.latex(gradient=True)"
   ]
  },
  {
   "cell_type": "markdown",
   "metadata": {},
   "source": [
    "## Shift Operator"
   ]
  },
  {
   "cell_type": "code",
   "execution_count": 13,
   "metadata": {
    "ExecuteTime": {
     "end_time": "2019-05-02T18:47:10.644833Z",
     "start_time": "2019-05-02T18:47:10.613573Z"
    }
   },
   "outputs": [
    {
     "output_type": "display_data",
     "data": {
      "text/plain": "<IPython.core.display.Latex object>",
      "text/latex": "$S(\\vec{x}) = S \\times \\vec{x}$"
     },
     "metadata": {}
    },
    {
     "output_type": "display_data",
     "data": {
      "text/plain": "<IPython.core.display.Latex object>",
      "text/latex": "$ \\nabla_xS(\\vec{x}) = S^H \\times \\vec{x}$"
     },
     "metadata": {}
    }
   ],
   "source": [
    "# Normal shift\n",
    "shift = (0, 10) # should be y, x\n",
    "T = ops.Shift(image_size, shift)\n",
    "\n",
    "def shift_func(x, shift):\n",
    "    x = yp.changeBackend(x, 'numpy')\n",
    "    for ax, sh in enumerate(shift):\n",
    "        x = np.roll(x, int(sh), axis=ax)\n",
    "    return(x)\n",
    " \n",
    "# Check Forward Operator\n",
    "y_1 = yp.changeBackend(T * x, 'numpy')\n",
    "y_2 = shift_func(yp.changeBackend(x, 'numpy'), shift)\n",
    "assert yp.sum(yp.abs(y_1 - y_2)) < eps\n",
    "\n",
    "# Check Adjoint Operator\n",
    "assert yp.sum(yp.abs(T.H * T * x - x)) < eps\n",
    "\n",
    "# Check gradient\n",
    "T.gradient_check()\n",
    "\n",
    "# Render forward model\n",
    "T.latex()\n",
    "\n",
    "# Render gradient\n",
    "T.latex(gradient=True)"
   ]
  },
  {
   "cell_type": "markdown",
   "metadata": {},
   "source": [
    "## Summation Operator"
   ]
  },
  {
   "cell_type": "code",
   "execution_count": 14,
   "metadata": {
    "ExecuteTime": {
     "end_time": "2019-05-02T18:47:11.648339Z",
     "start_time": "2019-05-02T18:47:11.617879Z"
    }
   },
   "outputs": [
    {
     "output_type": "display_data",
     "data": {
      "text/plain": "<IPython.core.display.Latex object>",
      "text/latex": "$Σ(\\vec{x}) = \\sum_{axes=[0, 1]} $"
     },
     "metadata": {}
    },
    {
     "output_type": "display_data",
     "data": {
      "text/plain": "<IPython.core.display.Latex object>",
      "text/latex": "$ \\nabla_xΣ(\\vec{x}) = \\sum_{axes=[0, 1]} ^H \\times \\vec{x}$"
     },
     "metadata": {}
    }
   ],
   "source": [
    "axis_to_sum = (0,1)\n",
    "Σ = ops.Sum(image_size)\n",
    "\n",
    "# Check forward operator\n",
    "y_1 = yp.changeBackend(Σ * x, 'numpy')\n",
    "y_2 = yp.sum(yp.changeBackend(x, 'numpy'), axis=axis_to_sum)\n",
    "assert yp.abs(yp.sum(y_1 - y_2)) < eps\n",
    "\n",
    "# Check adjoint operator\n",
    "y_3 = yp.changeBackend(Σ.H * Σ * x, 'numpy')\n",
    "reps = [1, ] * len(image_size)\n",
    "axes = list(range(len(image_size))) if axis_to_sum is 'all' else axis_to_sum\n",
    "scale = 1\n",
    "for axis in axes:\n",
    "    reps[axis] = image_size[axis]\n",
    "    scale *= 1 / image_size[axis]\n",
    "y_4 = yp.tile(y_2, reps) * scale\n",
    "assert yp.sum(yp.abs(y_3 - y_4)) < eps\n",
    "\n",
    "# Check gradient\n",
    "# Σ.gradient_check(eps=1)\n",
    "\n",
    "# Render forward model\n",
    "Σ.latex()\n",
    "\n",
    "# Render gradient\n",
    "Σ.latex(gradient=True)"
   ]
  },
  {
   "cell_type": "markdown",
   "metadata": {},
   "source": [
    "## Mean Operator"
   ]
  },
  {
   "cell_type": "markdown",
   "metadata": {},
   "source": [
    "## Intensity Operator"
   ]
  },
  {
   "cell_type": "code",
   "execution_count": 15,
   "metadata": {
    "ExecuteTime": {
     "end_time": "2019-05-02T18:48:10.035501Z",
     "start_time": "2019-05-02T18:48:10.004223Z"
    }
   },
   "outputs": [
    {
     "output_type": "display_data",
     "data": {
      "text/plain": "<IPython.core.display.Latex object>",
      "text/latex": "$I(\\vec{x}) = |\\vec{x}|^2$"
     },
     "metadata": {}
    },
    {
     "output_type": "display_data",
     "data": {
      "text/plain": "<IPython.core.display.Latex object>",
      "text/latex": "$ \\nabla_xI(\\vec{x}) = diag(\\vec{d})\\times \\vec{x}$"
     },
     "metadata": {}
    }
   ],
   "source": [
    "I = ops.Intensity(image_size)\n",
    "\n",
    "# Check forward operator\n",
    "assert yp.sum(yp.abs((yp.abs(yp.changeBackend(x, 'numpy')) ** 2) - yp.changeBackend(I * x, 'numpy'))) < eps\n",
    "\n",
    "# Check gradient\n",
    "I.gradient_check()\n",
    "\n",
    "# Render forward model\n",
    "I.latex()\n",
    "\n",
    "# Render gradient\n",
    "I.latex(gradient=True)"
   ]
  },
  {
   "cell_type": "markdown",
   "metadata": {},
   "source": [
    "## Flip Operator"
   ]
  },
  {
   "cell_type": "code",
   "execution_count": 16,
   "metadata": {
    "ExecuteTime": {
     "end_time": "2019-05-02T18:48:10.751512Z",
     "start_time": "2019-05-02T18:48:10.723162Z"
    }
   },
   "outputs": [
    {
     "output_type": "display_data",
     "data": {
      "text/plain": "<IPython.core.display.Latex object>",
      "text/latex": "$L(\\vec{x}) = L \\times \\vec{x}$"
     },
     "metadata": {}
    },
    {
     "output_type": "display_data",
     "data": {
      "text/plain": "<IPython.core.display.Latex object>",
      "text/latex": "$ \\nabla_xL(\\vec{x}) = L^H \\times \\vec{x}$"
     },
     "metadata": {}
    }
   ],
   "source": [
    "flip_axis = 0\n",
    "L = ops.Flip(image_size, axis=flip_axis)\n",
    "\n",
    "# Check forward operator\n",
    "assert yp.sum(yp.abs(L * x - yp.flip(x, flip_axis))) < eps, \"%f\" % yp.sum(yp.abs(L * x - vec(yp.flip(x, flip_axis)))) \n",
    "\n",
    "# Check gradient\n",
    "L.gradient_check()\n",
    "\n",
    "# Render forward model\n",
    "L.latex()\n",
    "\n",
    "# Render gradient\n",
    "L.latex(gradient=True)"
   ]
  },
  {
   "cell_type": "markdown",
   "metadata": {},
   "source": [
    "## $\\ell2$ Norm Operator"
   ]
  },
  {
   "cell_type": "code",
   "execution_count": 17,
   "metadata": {
    "ExecuteTime": {
     "end_time": "2019-05-02T18:48:11.394723Z",
     "start_time": "2019-05-02T18:48:11.365214Z"
    }
   },
   "outputs": [
    {
     "output_type": "display_data",
     "data": {
      "text/plain": "<IPython.core.display.Latex object>",
      "text/latex": "$L2(\\vec{x}) = \\frac{1}{2} ||\\vec{x}||_2^2$"
     },
     "metadata": {}
    },
    {
     "output_type": "display_data",
     "data": {
      "text/plain": "<IPython.core.display.Latex object>",
      "text/latex": "$ \\nabla_xL2(\\vec{x}) = I \\times \\vec{x}$"
     },
     "metadata": {}
    }
   ],
   "source": [
    "L2 = ops.L2Norm(image_size)\n",
    "\n",
    "# Check forward operator\n",
    "assert yp.sum(yp.abs(L2 * x - 0.5 * yp.norm(x) ** 2)) < eps, '%f' % yp.sum(yp.abs(L2 * x - 0.5 * np.linalg.norm(x) ** 2))\n",
    "\n",
    "# Check gradient\n",
    "L2.gradient_check()\n",
    "\n",
    "# Render forward model\n",
    "L2.latex()\n",
    "\n",
    "# Render gradient\n",
    "L2.latex(gradient=True)"
   ]
  },
  {
   "cell_type": "markdown",
   "metadata": {},
   "source": [
    "## $\\ell1 $ Norm Operator"
   ]
  },
  {
   "cell_type": "code",
   "execution_count": 18,
   "metadata": {
    "ExecuteTime": {
     "end_time": "2019-05-02T18:48:12.085930Z",
     "start_time": "2019-05-02T18:48:12.061265Z"
    }
   },
   "outputs": [
    {
     "output_type": "display_data",
     "data": {
      "text/plain": "<IPython.core.display.Latex object>",
      "text/latex": "$L1(\\vec{x}) = ||\\vec{x}||_1$"
     },
     "metadata": {}
    }
   ],
   "source": [
    "L1 = ops.L1Norm(image_size)\n",
    "\n",
    "# Forward operator\n",
    "assert L1 * x - yp.sum(yp.abs(x)) < eps\n",
    "\n",
    "# Render forward model\n",
    "L1.latex()"
   ]
  },
  {
   "cell_type": "markdown",
   "metadata": {},
   "source": [
    "## Wavelet Transform"
   ]
  },
  {
   "cell_type": "code",
   "execution_count": 19,
   "metadata": {
    "ExecuteTime": {
     "end_time": "2019-05-02T18:48:12.852598Z",
     "start_time": "2019-05-02T18:48:12.772086Z"
    },
    "tags": []
   },
   "outputs": [
    {
     "output_type": "display_data",
     "data": {
      "text/plain": "<IPython.core.display.Latex object>",
      "text/latex": "$W_{db1}(\\vec{x}) = W_{db1} \\times \\vec{x}$"
     },
     "metadata": {}
    },
    {
     "output_type": "display_data",
     "data": {
      "text/plain": "<IPython.core.display.Latex object>",
      "text/latex": "$W_{haar}(\\vec{x}) = W_{haar} \\times \\vec{x}$"
     },
     "metadata": {}
    },
    {
     "output_type": "display_data",
     "data": {
      "text/plain": "<IPython.core.display.Latex object>",
      "text/latex": "$W_{rbio1.1}(\\vec{x}) = W_{rbio1.1} \\times \\vec{x}$"
     },
     "metadata": {}
    },
    {
     "output_type": "display_data",
     "data": {
      "text/plain": "<IPython.core.display.Latex object>",
      "text/latex": "$W_{bior1.1}(\\vec{x}) = W_{bior1.1} \\times \\vec{x}$"
     },
     "metadata": {}
    },
    {
     "output_type": "stream",
     "name": "stdout",
     "text": "WARNING: Wavelet Transform output cannot be tightly packed, reshaping from ([ 64 128]) to ((80, 144))\n"
    },
    {
     "output_type": "display_data",
     "data": {
      "text/plain": "<IPython.core.display.Latex object>",
      "text/latex": "$W_{bior4.4}(\\vec{x}) = W_{bior4.4} \\times \\vec{x}$"
     },
     "metadata": {}
    },
    {
     "output_type": "stream",
     "name": "stdout",
     "text": "WARNING: Wavelet Transform output cannot be tightly packed, reshaping from ([ 64 128]) to ((86, 150))\n"
    },
    {
     "output_type": "display_data",
     "data": {
      "text/plain": "<IPython.core.display.Latex object>",
      "text/latex": "$W_{sym12}(\\vec{x}) = W_{sym12} \\times \\vec{x}$"
     },
     "metadata": {}
    }
   ],
   "source": [
    "import pywt\n",
    "wavelet_list = ['db1', 'haar', 'rbio1.1', 'bior1.1', 'bior4.4', 'sym12']\n",
    "for wavelet_test in wavelet_list:\n",
    "    # Wavelet Transform\n",
    "    W = ops.WaveletTransform(image_size, wavelet_type=wavelet_test, use_cycle_spinning=False)\n",
    "\n",
    "    # Check forward operation\n",
    "    coeffs = pywt.wavedecn(x, wavelet=wavelet_test)\n",
    "    x_wavelet, coeff_slices = pywt.coeffs_to_array(coeffs)\n",
    "    assert yp.sum(yp.abs(yp.changeBackend(W * x, 'numpy') - x_wavelet)) < eps, \"Difference %.6e\"\n",
    "\n",
    "    # Check inverse operation\n",
    "    coeffs_from_arr = pywt.array_to_coeffs(x_wavelet, coeff_slices)\n",
    "    cam_recon = pywt.waverecn(coeffs_from_arr, wavelet=wavelet_test)\n",
    "    assert yp.sum(yp.abs(W.H * W * x - x)) < 1e-2\n",
    "\n",
    "    # Ensure that the wavelet transform isn't just identity (weird bug)\n",
    "    if W.shape[1] is yp.size(x):\n",
    "        assert yp.sum(yp.abs(W * yp.vec(x) - yp.vec(x))) > 1e-2, \"%s\" % wavelet_test\n",
    "\n",
    "    # Check gradient \n",
    "    W.gradient_check()\n",
    "\n",
    "    # Render forward model\n",
    "    W.latex()"
   ]
  },
  {
   "cell_type": "markdown",
   "metadata": {},
   "source": [
    "## Exponential Operator"
   ]
  },
  {
   "cell_type": "code",
   "execution_count": 20,
   "metadata": {
    "ExecuteTime": {
     "end_time": "2019-05-02T18:48:13.722339Z",
     "start_time": "2019-05-02T18:48:13.681996Z"
    }
   },
   "outputs": [
    {
     "output_type": "display_data",
     "data": {
      "text/plain": "<IPython.core.display.Latex object>",
      "text/latex": "$EXP(\\vec{x}) = e^{\\vec{x}}$"
     },
     "metadata": {}
    },
    {
     "output_type": "display_data",
     "data": {
      "text/plain": "<IPython.core.display.Latex object>",
      "text/latex": "$ \\nabla_xEXP(\\vec{x}) = diag(\\vec{D_{e^x}})\\times \\vec{x}$"
     },
     "metadata": {}
    }
   ],
   "source": [
    "L2 = ops.L2Norm(image_size)\n",
    "F = ops.FourierTransform(image_size)\n",
    "EXP = ops.Exponential(image_size)\n",
    "\n",
    "# Forward model\n",
    "assert yp.sum(yp.abs(yp.changeBackend(EXP * x, 'numpy') - np.exp(yp.changeBackend(x, 'numpy')))) < eps\n",
    "\n",
    "# Check gradient\n",
    "EXP.gradient_check()\n",
    "\n",
    "# Generate composite operator\n",
    "D = ops.Diagonalize(h)\n",
    "L2 = ops.L2Norm(image_size)\n",
    "\n",
    "EXP_COMP = L2 * F * EXP\n",
    "EXP_COMP.gradient_check()\n",
    "\n",
    "EXP_COMP_2 = L2 * F * EXP * D\n",
    "EXP_COMP_2.gradient_check()\n",
    "\n",
    "# Render forward model\n",
    "EXP.latex()\n",
    "\n",
    "# Render gradient\n",
    "EXP.latex(gradient=True)"
   ]
  },
  {
   "cell_type": "markdown",
   "metadata": {},
   "source": [
    "## Phase Ramp Operator"
   ]
  },
  {
   "cell_type": "code",
   "execution_count": 21,
   "metadata": {
    "ExecuteTime": {
     "end_time": "2019-05-02T18:48:14.508011Z",
     "start_time": "2019-05-02T18:48:14.466033Z"
    },
    "tags": []
   },
   "outputs": [
    {
     "output_type": "stream",
     "name": "stdout",
     "text": "1.30769635e-08\n"
    },
    {
     "output_type": "display_data",
     "data": {
      "text/plain": "<IPython.core.display.Latex object>",
      "text/latex": "$R(\\vec{x}) = e^{-i2\\pi \\vec{k} \\vec{x}}$"
     },
     "metadata": {}
    },
    {
     "output_type": "display_data",
     "data": {
      "text/plain": "<IPython.core.display.Latex object>",
      "text/latex": "$ \\nabla_xR(\\vec{x}) = \\begin{bmatrix}\\sum_{axes=[0, 1]}  \\cr \\sum_{axes=[0, 1]} \\end{bmatrix} \\times \\vec{x}$"
     },
     "metadata": {}
    }
   ],
   "source": [
    "eps_phase_ramp = 1e-4\n",
    "shift = yp.changeBackend(np.asarray((-5,3)).astype(yp.getNativeDatatype(global_dtype, 'numpy')), global_backend)\n",
    "\n",
    "# Generate phase ramp\n",
    "R = ops.PhaseRamp(image_size)\n",
    "r = R * shift\n",
    "\n",
    "F = ops.FourierTransform(image_size, dtype=global_dtype, normalize=False, backend=global_backend)\n",
    "D_R = ops.Diagonalize(r, dtype=global_dtype)\n",
    "S_R = F.H * D_R * F\n",
    "\n",
    "# Pixel-wise shift operator\n",
    "S = ops.Shift(image_size, shift)\n",
    "\n",
    "\n",
    "# Check gradient of phase ramp convolution\n",
    "S_R.gradient_check()\n",
    "\n",
    "# Check gradient of phase ramp\n",
    "print(R.gradient_check(eps=1))\n",
    "\n",
    "# Render forward model\n",
    "R.latex()\n",
    "\n",
    "# Render gradient\n",
    "R.latex(gradient=True)\n",
    "\n",
    "# plt.figure()\n",
    "# plt.subplot(131)\n",
    "# plt.imshow(yp.abs(yp.reshape(yp.changeBackend(S_R * vec(x), 'numpy'), image_size)))\n",
    "# plt.subplot(132)\n",
    "# plt.imshow(yp.abs(yp.reshape(yp.changeBackend(S * vec(x), 'numpy'), image_size)))\n",
    "# plt.subplot(133)\n",
    "# plt.imshow(yp.abs(yp.reshape(yp.changeBackend(S * vec(x) - S_R * vec(x), 'numpy'), image_size)))"
   ]
  },
  {
   "cell_type": "markdown",
   "metadata": {},
   "source": [
    "## Derivative Operator"
   ]
  },
  {
   "cell_type": "code",
   "execution_count": 22,
   "metadata": {
    "ExecuteTime": {
     "end_time": "2019-05-02T18:48:15.567492Z",
     "start_time": "2019-05-02T18:48:15.515600Z"
    }
   },
   "outputs": [
    {
     "output_type": "display_data",
     "data": {
      "text/plain": "<IPython.core.display.Latex object>",
      "text/latex": "$∂x(\\vec{x}) = \\frac{\\partial}{\\partial x} \\times \\vec{x}$"
     },
     "metadata": {}
    },
    {
     "output_type": "display_data",
     "data": {
      "text/plain": "<IPython.core.display.Latex object>",
      "text/latex": "$∂y(\\vec{x}) = \\frac{\\partial}{\\partial y} \\times \\vec{x}$"
     },
     "metadata": {}
    },
    {
     "output_type": "display_data",
     "data": {
      "text/plain": "<IPython.core.display.Latex object>",
      "text/latex": "$ \\nabla_x∂x(\\vec{x}) = F^H \\times diag(\\vec{d})^H \\times F \\times \\vec{x}$"
     },
     "metadata": {}
    },
    {
     "output_type": "display_data",
     "data": {
      "text/plain": "<IPython.core.display.Latex object>",
      "text/latex": "$ \\nabla_x∂y(\\vec{x}) = F^H \\times diag(\\vec{d})^H \\times F \\times \\vec{x}$"
     },
     "metadata": {}
    }
   ],
   "source": [
    "# Derivatie operator in x\n",
    "Dx = ops.Derivative(image_size, dtype=global_dtype, backend=global_backend, axis=1)\n",
    "xd = Dx * x\n",
    "\n",
    "# Derivative operator in y\n",
    "Dy = ops.Derivative(image_size, dtype=global_dtype, backend=global_backend, axis=0)\n",
    "yd = Dy * x\n",
    "\n",
    "# True derivative grids for comparison\n",
    "N = image_size\n",
    "r_x = np.arange(-N[1] / 2, N[1] / 2, 1.0) / N[1]\n",
    "r_y = np.arange(-N[0] / 2, N[0] / 2, 1.0) / N[0]\n",
    "grid_np = np.meshgrid(r_x, r_y)\n",
    "\n",
    "grid = []\n",
    "for g in grid_np:\n",
    "    grid.append(yp.changeBackend(g.astype(yp.getNativeDatatype(global_dtype, 'numpy')), global_backend))\n",
    "\n",
    "# from libwallerlab.operators.fft import Ft, iFt\n",
    "Ft = lambda x: np.fft.fftshift(np.fft.fft2(np.fft.fftshift(x, axes=(0, 1)), axes=(0, 1), norm='ortho'), axes=(0, 1))\n",
    "iFt = lambda x: np.fft.fftshift(np.fft.ifft2(np.fft.fftshift(x, axes=(0, 1)), axes=(0, 1), norm='ortho'), axes=(0, 1))\n",
    "\n",
    "dx_func = lambda x: iFt(Ft(x) * grid[1].reshape(image_size))\n",
    "dy_func = lambda x: iFt(Ft(x) * grid[0].reshape(image_size))\n",
    "\n",
    "# assert yp.sum(yp.abs(dx_func(x) - xd.reshape(image_size))) < eps, \"X derivative was not equal! (%.4e)\" % yp.sum(yp.abs(dx_func(x) - xd.reshape(image_size)))\n",
    "# assert yp.sum(yp.abs(dy_func(x) - yd.reshape(image_size))) < eps, \"Y derivative was not equal! (%.4e)\" % yp.sum(yp.abs(dy_func(x) - yd.reshape(image_size)))\n",
    "\n",
    "# Check Gradient\n",
    "Dx.gradient_check()\n",
    "Dy.gradient_check()\n",
    "\n",
    "# Render forward models\n",
    "Dx.latex()\n",
    "Dy.latex()\n",
    "\n",
    "# Render gradients\n",
    "Dx.latex(gradient=True)\n",
    "Dy.latex(gradient=True)"
   ]
  },
  {
   "cell_type": "markdown",
   "metadata": {},
   "source": [
    "## Power Operator"
   ]
  },
  {
   "cell_type": "code",
   "execution_count": 23,
   "metadata": {
    "ExecuteTime": {
     "end_time": "2019-05-02T18:48:16.589699Z",
     "start_time": "2019-05-02T18:48:16.561377Z"
    }
   },
   "outputs": [
    {
     "output_type": "display_data",
     "data": {
      "text/plain": "<IPython.core.display.Latex object>",
      "text/latex": "$P(\\vec{x}) = \\vec{x}^2$"
     },
     "metadata": {}
    },
    {
     "output_type": "display_data",
     "data": {
      "text/plain": "<IPython.core.display.Latex object>",
      "text/latex": "$ \\nabla_xΣ(\\vec{x}) = \\sum_{axes=[0, 1]} ^H \\times \\vec{x}$"
     },
     "metadata": {}
    }
   ],
   "source": [
    "power = 2\n",
    "P = ops.Power(image_size, power,dtype=global_dtype, backend=global_backend)\n",
    "assert yp.sum(yp.abs(yp.changeBackend(P * x, 'numpy') - yp.changeBackend(x, 'numpy') ** power)) < eps, \"%f\" % yp.sum(yp.abs(yp.changeBackend(P * x, 'numpy') - yp.changeBackend(x, 'numpy') ** power)) \n",
    "\n",
    "# Render forward model\n",
    "P.latex()\n",
    "\n",
    "# Render gradient\n",
    "Σ.latex(gradient=True)"
   ]
  },
  {
   "cell_type": "markdown",
   "metadata": {},
   "source": [
    "## FFTShift Operator"
   ]
  },
  {
   "cell_type": "code",
   "execution_count": 24,
   "metadata": {
    "ExecuteTime": {
     "end_time": "2019-05-02T18:48:17.312476Z",
     "start_time": "2019-05-02T18:48:17.281907Z"
    }
   },
   "outputs": [
    {
     "output_type": "display_data",
     "data": {
      "text/plain": "<IPython.core.display.Latex object>",
      "text/latex": "$S(\\vec{x}) = S \\times \\vec{x}$"
     },
     "metadata": {}
    },
    {
     "output_type": "display_data",
     "data": {
      "text/plain": "<IPython.core.display.Latex object>",
      "text/latex": "$ \\nabla_xS(\\vec{x}) = S^H \\times \\vec{x}$"
     },
     "metadata": {}
    }
   ],
   "source": [
    "S = ops.FFTShift(image_size)\n",
    "\n",
    "yp.assert_equality(S * x, yp.fftshift(x))\n",
    "yp.assert_equality(S.H * S * x, x)\n",
    "\n",
    "# Check Gradient\n",
    "S.gradient_check()\n",
    "\n",
    "# Render Latex\n",
    "S.latex()\n",
    "\n",
    "# Render gradient\n",
    "S.latex(gradient=True)\n",
    "\n",
    "# plt.figure()\n",
    "# plt.subplot(131)\n",
    "# plt.imshow(yp.abs(x))\n",
    "# plt.subplot(132)\n",
    "# plt.imshow(yp.abs(S * x))\n",
    "# plt.subplot(133)\n",
    "# plt.imshow(yp.abs(S.H * S *  x))"
   ]
  },
  {
   "cell_type": "markdown",
   "metadata": {},
   "source": [
    "## Image Segmentation Operator"
   ]
  },
  {
   "cell_type": "code",
   "execution_count": 25,
   "metadata": {
    "ExecuteTime": {
     "end_time": "2019-05-02T18:48:18.361332Z",
     "start_time": "2019-05-02T18:48:18.276213Z"
    }
   },
   "outputs": [
    {
     "output_type": "display_data",
     "data": {
      "text/plain": "Canvas(toolbar=Toolbar(toolitems=[('Home', 'Reset original view', 'home', 'home'), ('Back', 'Back to previous …",
      "application/vnd.jupyter.widget-view+json": {
       "version_major": 2,
       "version_minor": 0,
       "model_id": "1e1ef82b00014416aa01b8a1c11cbe80"
      }
     },
     "metadata": {}
    },
    {
     "output_type": "display_data",
     "data": {
      "text/plain": "<IPython.core.display.Latex object>",
      "text/latex": "$G(\\vec{x}) = G_{\\begin{bmatrix}{[(0, 64), (0, 64)]} \\cr {[(0, 64), (32, 96)]} \\cr {[(0, 64), (64, 128)]}\\end{bmatrix}} \\times \\vec{x}$"
     },
     "metadata": {}
    },
    {
     "output_type": "display_data",
     "data": {
      "text/plain": "<IPython.core.display.Latex object>",
      "text/latex": "$ \\nabla_xG(\\vec{x}) = G_{\\begin{bmatrix}{[(0, 64), (0, 64)]} \\cr {[(0, 64), (32, 96)]} \\cr {[(0, 64), (64, 128)]}\\end{bmatrix}}^H \\times \\vec{x}$"
     },
     "metadata": {}
    }
   ],
   "source": [
    "crop_size = crop_size = (image_size[0], image_size[0])\n",
    "\n",
    "roi_list = [yp.Roi(crop_size, start=(0,0), input_shape=image_size),\n",
    "            yp.Roi(crop_size, start=(0,image_size[1] // 4), input_shape=image_size),\n",
    "            yp.Roi(crop_size, start=(0,image_size[1] // 2), input_shape=image_size)]\n",
    "\n",
    "# roi_list[0] -= 5\n",
    "\n",
    "# Create segmentation operatoe\n",
    "G = ops.Segmentation(roi_list, image_size, alpha_blend_size=0, backend=None)\n",
    "\n",
    "# Generate measurements\n",
    "y = G * x\n",
    "\n",
    "# Apply some mis-calibration to measurement\n",
    "y_list = ops.VecSplit(y, len(roi_list))\n",
    "\n",
    "# y_list[1] = yp.circshift(y_list[1], (3, -1))\n",
    "# y_list[1] *= 1.1\n",
    "# y_list[2] *= 0.9\n",
    "\n",
    "y = ops.VecStack(y_list)\n",
    "\n",
    "# Show figures\n",
    "plt.figure()\n",
    "plt.subplot(131)\n",
    "plt.imshow(yp.real(y))\n",
    "plt.title('Forward')\n",
    "plt.subplot(132)\n",
    "plt.imshow(yp.real(G.H * y))\n",
    "plt.title('Adjoint * Forward')\n",
    "plt.subplot(133)\n",
    "plt.imshow(yp.real(G.inv * y))\n",
    "plt.title('Inverse * Forward')\n",
    "\n",
    "# Perform gradient check\n",
    "G.gradient_check()\n",
    "\n",
    "# Show latex\n",
    "G.latex()\n",
    "\n",
    "# Show latex\n",
    "G.latex(gradient=True)"
   ]
  },
  {
   "cell_type": "markdown",
   "metadata": {},
   "source": [
    "## Registration Operator"
   ]
  },
  {
   "cell_type": "code",
   "execution_count": 26,
   "metadata": {
    "ExecuteTime": {
     "end_time": "2019-05-02T18:48:19.353138Z",
     "start_time": "2019-05-02T18:48:19.317712Z"
    }
   },
   "outputs": [
    {
     "output_type": "display_data",
     "data": {
      "text/plain": "<IPython.core.display.Latex object>",
      "text/latex": "$A(\\vec{x}) = F^H \\times diag(F \\times x)\\times e^{-i2\\pi \\vec{k} \\vec{x}}$"
     },
     "metadata": {}
    },
    {
     "output_type": "display_data",
     "data": {
      "text/plain": "<IPython.core.display.Latex object>",
      "text/latex": "$ \\nabla_xA(\\vec{x}) = \\begin{bmatrix}\\sum_{axes=[0, 1]}  \\cr \\sum_{axes=[0, 1]} \\end{bmatrix} \\times diag(F \\times x)^H \\times F \\times \\vec{x}$"
     },
     "metadata": {}
    }
   ],
   "source": [
    "# Define known shift\n",
    "known_shift = yp.asarray((3, 10))\n",
    "\n",
    "# Create registration operator\n",
    "R = ops.Registration(x, debug=False)\n",
    "\n",
    "# Check forward operation\n",
    "yp.assert_equality(R * yp.asarray(known_shift), yp.roll(x, known_shift))\n",
    "\n",
    "# Check inverse operation\n",
    "yp.assert_equality(R.inv * (R * yp.asarray(known_shift)), yp.asarray(known_shift))\n",
    "\n",
    "# Render latex\n",
    "R.latex()\n",
    "\n",
    "# Render gradient\n",
    "R.latex(gradient=True)"
   ]
  },
  {
   "cell_type": "markdown",
   "metadata": {},
   "source": [
    "# Operator Algebra"
   ]
  },
  {
   "cell_type": "markdown",
   "metadata": {},
   "source": [
    "## Inner Operators"
   ]
  },
  {
   "cell_type": "code",
   "execution_count": 27,
   "metadata": {
    "ExecuteTime": {
     "end_time": "2019-05-02T18:48:21.071829Z",
     "start_time": "2019-05-02T18:48:21.038703Z"
    }
   },
   "outputs": [
    {
     "output_type": "display_data",
     "data": {
      "text/plain": "<IPython.core.display.Latex object>",
      "text/latex": "$d(\\vec{x}) = diag(e^{-i2\\pi \\vec{k} d})\\times \\vec{x}$"
     },
     "metadata": {}
    },
    {
     "output_type": "display_data",
     "data": {
      "text/plain": "<IPython.core.display.Latex object>",
      "text/latex": "$ \\nabla_xd(\\vec{x}) = diag(e^{-i2\\pi \\vec{k} d})^H \\times \\vec{x}$"
     },
     "metadata": {}
    }
   ],
   "source": [
    "# Create phase ramp to diagonalize\n",
    "H = ops.PhaseRamp(image_size)\n",
    "s = yp.rand((2,1))\n",
    "\n",
    "# Create diagonalized phase ramp operator\n",
    "D = ops.Diagonalize(s, inner_operator=H)\n",
    "\n",
    "# Check that inside operator is set correctly\n",
    "assert yp.sum(yp.abs(D * x - ((H * s) * x))) == 0.0\n",
    "\n",
    "# Check gradient\n",
    "D.gradient_check()\n",
    "\n",
    "# Render Latex\n",
    "D.latex()\n",
    "\n",
    "# Render gradient\n",
    "D.latex(gradient=True)"
   ]
  },
  {
   "cell_type": "markdown",
   "metadata": {},
   "source": [
    "## Operator-Vector Sum"
   ]
  },
  {
   "cell_type": "code",
   "execution_count": 28,
   "metadata": {
    "ExecuteTime": {
     "end_time": "2019-05-02T18:48:21.940933Z",
     "start_time": "2019-05-02T18:48:21.900133Z"
    },
    "scrolled": false
   },
   "outputs": [
    {
     "output_type": "display_data",
     "data": {
      "text/plain": "<IPython.core.display.Latex object>",
      "text/latex": "$A(\\vec{x}) = (C \\times \\vec{x} + \\vec{y} )$"
     },
     "metadata": {}
    },
    {
     "output_type": "display_data",
     "data": {
      "text/plain": "<IPython.core.display.Latex object>",
      "text/latex": "$ \\nabla_xA(\\vec{x}) = C^H \\times \\vec{x}$"
     },
     "metadata": {}
    }
   ],
   "source": [
    "# Test sum operations here\n",
    "F = ops.FourierTransform(image_size, center=False)\n",
    "y = F * x\n",
    "A_s = A + y\n",
    "\n",
    "# Forward operator\n",
    "assert yp.sum(yp.abs(A_s * x - (A * x + y))) < eps\n",
    "\n",
    "# Adjoint\n",
    "assert yp.sum(yp.abs(A_s.H * x - A.H * x)) < eps\n",
    "\n",
    "# Gradient Numerical Check\n",
    "A.gradient_check()\n",
    "  \n",
    "# Render forward model\n",
    "A_s.latex()\n",
    "\n",
    "# Render gradient\n",
    "A_s.latex(gradient=True)"
   ]
  },
  {
   "cell_type": "markdown",
   "metadata": {},
   "source": [
    "# Operator Mechanics"
   ]
  },
  {
   "cell_type": "markdown",
   "metadata": {},
   "source": [
    "## Linearity Flag"
   ]
  },
  {
   "cell_type": "code",
   "execution_count": 29,
   "metadata": {
    "ExecuteTime": {
     "end_time": "2019-05-02T18:48:22.919021Z",
     "start_time": "2019-05-02T18:48:22.893755Z"
    }
   },
   "outputs": [],
   "source": [
    "F = ops.FourierTransform(image_size) # Linear Operator\n",
    "L2 = ops.L2Norm((image_size[0], image_size[1])) # Non-linear operator\n",
    "\n",
    "assert F.linear\n",
    "assert not L2.linear\n",
    "assert not (L2 * F).linear\n",
    "assert (F + F).linear\n",
    "assert not (L2 * F + L2 * F).linear"
   ]
  },
  {
   "cell_type": "markdown",
   "metadata": {},
   "source": [
    "## Smoothness Flag"
   ]
  },
  {
   "cell_type": "code",
   "execution_count": 30,
   "metadata": {
    "ExecuteTime": {
     "end_time": "2019-05-02T18:48:23.605364Z",
     "start_time": "2019-05-02T18:48:23.579978Z"
    }
   },
   "outputs": [],
   "source": [
    "F = ops.FourierTransform(image_size) # Linear Operator\n",
    "L1 = ops.L1Norm(image_size) # Non-linear operator\n",
    "\n",
    "assert F.smooth\n",
    "assert not L1.smooth\n",
    "assert not (L1 * F).smooth\n",
    "assert (F + F).smooth\n",
    "assert not (L1 * F + L2 * F).smooth\n",
    "assert not (L1 * F + L1 * F).smooth"
   ]
  },
  {
   "cell_type": "markdown",
   "metadata": {},
   "source": [
    "## Operator Indexing (Suboperators)"
   ]
  },
  {
   "cell_type": "code",
   "execution_count": 31,
   "metadata": {
    "ExecuteTime": {
     "end_time": "2019-05-02T18:48:24.217838Z",
     "start_time": "2019-05-02T18:48:24.189379Z"
    }
   },
   "outputs": [
    {
     "output_type": "display_data",
     "data": {
      "text/plain": "<IPython.core.display.Latex object>",
      "text/latex": "$A(\\vec{x}) = F^H \\times diag(\\vec{K})\\times F \\times \\vec{x}$"
     },
     "metadata": {}
    },
    {
     "output_type": "display_data",
     "data": {
      "text/plain": "<IPython.core.display.Latex object>",
      "text/latex": "$ \\nabla_xA(\\vec{x}) = F^H \\times diag(\\vec{K})^H \\times F \\times \\vec{x}$"
     },
     "metadata": {}
    }
   ],
   "source": [
    "K = ops.Diagonalize(h, label='K')\n",
    "K_2 = ops.Diagonalize(h, label='Q')\n",
    "F = ops.FourierTransform(image_size)\n",
    "\n",
    "A = F.H * K * F\n",
    "A.label = 'A'\n",
    "\n",
    "A.suboperators[1].argument = yp.ones(h.shape)\n",
    "\n",
    "# Render forward model\n",
    "A.latex()\n",
    "\n",
    "# Render gradient\n",
    "A.latex(gradient=True)"
   ]
  },
  {
   "cell_type": "markdown",
   "metadata": {},
   "source": [
    "# Condition Number Calculation\n",
    "The condition number of a matrix product $AB$ is bounded by the following relation:\n",
    "$$\\kappa\\{AB\\} \\geq \\kappa\\{B\\}\\kappa\\{B\\}$$\n",
    "\n",
    "Unless either $A$ or $B$ is unitary ($\\kappa\\{\\cdot\\}=1$), we cannot know the condition number exactly since the spectrum basis (eigenvectors) are not common between these two matricies. In the future, we could store the whole spectrum and check this, but this would be complicated to implement."
   ]
  },
  {
   "cell_type": "code",
   "execution_count": 32,
   "metadata": {
    "ExecuteTime": {
     "end_time": "2019-05-02T18:48:24.983571Z",
     "start_time": "2019-05-02T18:48:24.953437Z"
    }
   },
   "outputs": [],
   "source": [
    "# Unitary Matrix\n",
    "F = ops.FourierTransform(image_size)\n",
    "assert F.condition_number == 1\n",
    "assert not F.condition_number_is_upper_bound\n",
    "\n",
    "# Matrix with a condition number\n",
    "hh = yp.changeBackend((np.random.rand(image_size[0], image_size[1]) + 0.1).astype(np.complex64), global_backend)\n",
    "D = ops.Diagonalize(hh) \n",
    "assert not D.condition_number_is_upper_bound\n",
    "\n",
    "# Product of two unitary matricies\n",
    "assert (F * F).condition_number == 1\n",
    "# assert not (F * F).condition_number_is_upper_bound\n",
    "\n",
    "# Product of one unitary and one non-singular matrix\n",
    "assert (F * D).condition_number == D.condition_number\n",
    "# assert not (F * D).condition_number_is_upper_bound # because one matrix is unitary, this condition number is NOT an upper bound. This can be checked numerically.\n",
    "\n",
    "# Product of two non-singular matricies.\n",
    "hh_2 = yp.changeBackend((np.random.rand(image_size[0], image_size[1]) + 0.1).astype(np.complex64), global_backend)\n",
    "D2 = ops.Diagonalize(hh_2) \n",
    "assert (D * D2).condition_number >= D.condition_number\n",
    "# assert not (D * D2).condition_number_is_upper_bound\n",
    "\n",
    "# Product of two diagonal matricies seperated by a F.T.\n",
    "assert (D * F * D2).condition_number >= D.condition_number\n",
    "assert (D * F * D2).condition_number_is_upper_bound"
   ]
  },
  {
   "cell_type": "markdown",
   "metadata": {},
   "source": [
    "## Check if an Operator is the Inverse of another operator"
   ]
  },
  {
   "cell_type": "code",
   "execution_count": 33,
   "metadata": {
    "ExecuteTime": {
     "end_time": "2019-05-02T18:48:25.626386Z",
     "start_time": "2019-05-02T18:48:25.600629Z"
    },
    "tags": []
   },
   "outputs": [
    {
     "output_type": "stream",
     "name": "stdout",
     "text": "True\nTrue\n"
    }
   ],
   "source": [
    "F = ops.FourierTransform(h.shape)\n",
    "F = ops.FourierTransform(h.shape)\n",
    "print(F.is_adjoint_of(F.H))\n",
    "print((F.is_inverse_of(F.H)))"
   ]
  },
  {
   "cell_type": "markdown",
   "metadata": {},
   "source": [
    "## Removal of Inverses and Redundant Products"
   ]
  },
  {
   "cell_type": "code",
   "execution_count": 34,
   "metadata": {
    "ExecuteTime": {
     "end_time": "2019-05-02T18:48:26.588277Z",
     "start_time": "2019-05-02T18:48:26.560957Z"
    }
   },
   "outputs": [],
   "source": [
    "F = ops.FourierTransform(image_size)\n",
    "D = ops.Diagonalize(h)\n",
    "L2 = ops.L2Norm(h.shape)\n",
    "I = ops.Identity(image_size)\n",
    "y = F * x\n",
    "\n",
    "# Simple introspection\n",
    "A = F.H * F\n",
    "assert 'Identity' in str(A)\n",
    "\n",
    "# Introspection with extra operators on right\n",
    "A = F.H * F * D\n",
    "assert 'Fourier' not in str(A)\n",
    "\n",
    "# Introspection with extra operators on left\n",
    "A = D * F.H * F\n",
    "assert 'Fourier' not in str(A)\n",
    "\n",
    "# Introspection wiht several opposites\n",
    "A = F.H * F * D * F.H * F\n",
    "assert 'Fourier' not in str(A)"
   ]
  },
  {
   "cell_type": "markdown",
   "metadata": {},
   "source": [
    "# Inverses"
   ]
  },
  {
   "cell_type": "markdown",
   "metadata": {},
   "source": [
    "## Linear Inverses"
   ]
  },
  {
   "cell_type": "code",
   "execution_count": 35,
   "metadata": {
    "ExecuteTime": {
     "end_time": "2019-05-02T18:48:27.731681Z",
     "start_time": "2019-05-02T18:48:27.697546Z"
    }
   },
   "outputs": [],
   "source": [
    "# Fourier Transform\n",
    "A = ops.FourierTransform(x.shape)\n",
    "assert yp.sum(yp.abs(A.inv * A * x - x)) < 1e-3\n",
    "\n",
    "# Identity\n",
    "A = ops.Identity(x.shape)\n",
    "assert yp.sum(yp.abs(A.inv * A * x - x)) < 1e-3\n",
    "\n",
    "# Shift\n",
    "A = ops.Shift(x.shape, (10,10))\n",
    "assert yp.sum(yp.abs(A.inv * A * x - x)) < 1e-3\n",
    "\n",
    "# Convolution (explicit)\n",
    "F = ops.FourierTransform(h.shape)\n",
    "A = F.H * ops.Diagonalize((F * h), inverse_regularizer=1e-10) * F\n",
    "assert yp.sum(yp.abs(A.inv * A * x - x)) < 1\n",
    "\n",
    "# Convolution (implicit)\n",
    "A = ops.Convolution(h, inverse_regularizer=0)\n",
    "assert yp.sum(yp.abs(A.inv * A * x - x)) < 1e-3"
   ]
  },
  {
   "cell_type": "markdown",
   "metadata": {},
   "source": [
    "# Gradients"
   ]
  },
  {
   "cell_type": "markdown",
   "metadata": {},
   "source": [
    "## Gradients of Linear Operators\n",
    "We'll assume that if the adjoint is provided, the gradient operator is just the adjoint operating on the input (x), or current iterate. This allows us to specify either the adjoint (linear operator) OR the gradient (non-linear operator) for each operator, and the rest will be handled by the metaclass."
   ]
  },
  {
   "cell_type": "code",
   "execution_count": 36,
   "metadata": {
    "ExecuteTime": {
     "end_time": "2019-05-02T18:48:29.051072Z",
     "start_time": "2019-05-02T18:48:29.020836Z"
    },
    "scrolled": false
   },
   "outputs": [
    {
     "output_type": "display_data",
     "data": {
      "text/plain": "<IPython.core.display.Latex object>",
      "text/latex": "$F(\\vec{x}) = F \\times \\vec{x}$"
     },
     "metadata": {}
    },
    {
     "output_type": "display_data",
     "data": {
      "text/plain": "<IPython.core.display.Latex object>",
      "text/latex": "$ \\nabla_xF(\\vec{x}) = F^H \\times \\vec{x}$"
     },
     "metadata": {}
    }
   ],
   "source": [
    "# Simple test case (linear operator)\n",
    "A = ops.FourierTransform(image_size)\n",
    "\n",
    "# Check validity of gradient operator (and several short-hand pass-through functions)\n",
    "A.gradient_check()\n",
    "\n",
    "# Render forward model\n",
    "A.latex()\n",
    "\n",
    "# Render gradient\n",
    "A.latex(gradient=True)"
   ]
  },
  {
   "cell_type": "markdown",
   "metadata": {},
   "source": [
    "## Chained Linear Gradients"
   ]
  },
  {
   "cell_type": "code",
   "execution_count": 37,
   "metadata": {
    "ExecuteTime": {
     "end_time": "2019-05-02T18:48:29.857002Z",
     "start_time": "2019-05-02T18:48:29.823908Z"
    },
    "scrolled": false
   },
   "outputs": [
    {
     "output_type": "display_data",
     "data": {
      "text/plain": "<IPython.core.display.Latex object>",
      "text/latex": "$A(\\vec{x}) = F^H \\times diag(\\vec{d})\\times F \\times \\vec{x}$"
     },
     "metadata": {}
    },
    {
     "output_type": "display_data",
     "data": {
      "text/plain": "<IPython.core.display.Latex object>",
      "text/latex": "$ \\nabla_xA(\\vec{x}) = F^H \\times diag(\\vec{d})^H \\times F \\times \\vec{x}$"
     },
     "metadata": {}
    }
   ],
   "source": [
    "# Chained linear operators\n",
    "F = ops.FourierTransform(image_size)\n",
    "D = ops.Diagonalize(yp.asbackend(h, global_backend))\n",
    "A = F.H * D * F\n",
    "A.label = 'A'\n",
    "\n",
    "# Check gradient numerically\n",
    "A.gradient_check()\n",
    "\n",
    "# Render forward model\n",
    "A.latex()\n",
    "\n",
    "# Render gradient\n",
    "A.latex(gradient=True)"
   ]
  },
  {
   "cell_type": "markdown",
   "metadata": {},
   "source": [
    "## Chained Nonlinear Gradients"
   ]
  },
  {
   "cell_type": "markdown",
   "metadata": {},
   "source": [
    "### Inner convolution (linear) operator with outer L2 Norm (non-linear) operator"
   ]
  },
  {
   "cell_type": "code",
   "execution_count": 38,
   "metadata": {
    "ExecuteTime": {
     "end_time": "2019-05-02T18:48:31.058012Z",
     "start_time": "2019-05-02T18:48:31.021528Z"
    },
    "scrolled": false
   },
   "outputs": [
    {
     "output_type": "display_data",
     "data": {
      "text/plain": "<IPython.core.display.Latex object>",
      "text/latex": "$A(\\vec{x}) = \\frac{1}{2} ||F^H \\times diag(\\vec{d})\\times F \\times \\vec{x}||_2^2$"
     },
     "metadata": {}
    },
    {
     "output_type": "display_data",
     "data": {
      "text/plain": "<IPython.core.display.Latex object>",
      "text/latex": "$ \\nabla_xA(\\vec{x}) = F^H \\times diag(\\vec{d})^H \\times F \\times F^H \\times diag(\\vec{d})\\times F \\times \\vec{x}$"
     },
     "metadata": {}
    }
   ],
   "source": [
    "# Inner convolution (linear) operator with outer L2 Norm (non-linear) operator\n",
    "L2 = ops.L2Norm(image_size)\n",
    "F = ops.FourierTransform(image_size)\n",
    "D = ops.Diagonalize(h)\n",
    "A_linear = F.H * D * F\n",
    "# A_linear.label = 'A_{linear}'\n",
    "A = L2 * A_linear\n",
    "\n",
    "# Check forward operator\n",
    "assert np.all(yp.abs(A * x - 0.5 * yp.norm(A_linear * x) ** 2) < eps)\n",
    "\n",
    "# Check gradient operator\n",
    "A.gradient_check()\n",
    "\n",
    "# Render forward model\n",
    "A.latex()\n",
    "\n",
    "# Render gradient\n",
    "A.latex(gradient=True)"
   ]
  },
  {
   "cell_type": "markdown",
   "metadata": {},
   "source": [
    "### Inner convolution and vector subtraction (linear) operator with outer L2 Norm (non-linear) operator"
   ]
  },
  {
   "cell_type": "code",
   "execution_count": 39,
   "metadata": {
    "ExecuteTime": {
     "end_time": "2019-05-02T18:48:31.920575Z",
     "start_time": "2019-05-02T18:48:31.882500Z"
    },
    "scrolled": false
   },
   "outputs": [
    {
     "output_type": "display_data",
     "data": {
      "text/plain": "<IPython.core.display.Latex object>",
      "text/latex": "$A(\\vec{x}) = \\frac{1}{2} ||(F^H \\times diag(\\vec{d})\\times F \\times \\vec{x} - \\vec{y} )||_2^2$"
     },
     "metadata": {}
    },
    {
     "output_type": "display_data",
     "data": {
      "text/plain": "<IPython.core.display.Latex object>",
      "text/latex": "$ \\nabla_xA(\\vec{x}) = F^H \\times diag(\\vec{d})^H \\times F \\times (F^H \\times diag(\\vec{d})\\times F \\times \\vec{x} - \\vec{y} )$"
     },
     "metadata": {}
    }
   ],
   "source": [
    "L2 = ops.L2Norm(image_size)\n",
    "F = ops.FourierTransform(image_size)\n",
    "D = ops.Diagonalize(h)\n",
    "A = F.H * D * F\n",
    "\n",
    "# Data difference function\n",
    "Delta = (A - y)\n",
    "\n",
    "# Objective Function\n",
    "O = L2 * Delta\n",
    "\n",
    "# Check forward operator\n",
    "assert np.all(yp.abs(O * x - 0.5 * yp.norm(Delta * x) ** 2) < eps)\n",
    "\n",
    "# Check gradient operator (adjoint form)\n",
    "O.gradient_check()\n",
    "\n",
    "# Render forward model\n",
    "O.latex()\n",
    "\n",
    "# Render gradient\n",
    "O.latex(gradient=True)"
   ]
  },
  {
   "cell_type": "markdown",
   "metadata": {},
   "source": [
    "### Inner non-linear operator, linear operator in middle, and norm on outside"
   ]
  },
  {
   "cell_type": "code",
   "execution_count": 40,
   "metadata": {
    "ExecuteTime": {
     "end_time": "2019-05-02T18:48:33.695009Z",
     "start_time": "2019-05-02T18:48:33.654550Z"
    },
    "scrolled": false
   },
   "outputs": [
    {
     "output_type": "display_data",
     "data": {
      "text/plain": "<IPython.core.display.Latex object>",
      "text/latex": "$A(\\vec{x}) = \\frac{1}{2} ||(F^H \\times diag(\\vec{object})\\times e^{-i2\\pi \\vec{k} \\vec{x}} - \\vec{y} )||_2^2$"
     },
     "metadata": {}
    },
    {
     "output_type": "display_data",
     "data": {
      "text/plain": "<IPython.core.display.Latex object>",
      "text/latex": "$ \\nabla_xA(\\vec{x}) = \\begin{bmatrix}\\sum_{axes=[0, 1]}  \\cr \\sum_{axes=[0, 1]} \\end{bmatrix} \\times diag(\\vec{object})^H \\times F \\times (F^H \\times diag(\\vec{object})\\times e^{-i2\\pi \\vec{k} \\vec{x}} - \\vec{y} )$"
     },
     "metadata": {}
    }
   ],
   "source": [
    "phase_ramp_dtype = 'complex32'\n",
    "x_long = yp.astype(x, phase_ramp_dtype)\n",
    "\n",
    "# Inner non-linear operator, linear operator in middle, and norm on outside\n",
    "shift_true = yp.changeBackend(np.asarray((-5,3)).astype(yp.getNativeDatatype(phase_ramp_dtype, 'numpy')), global_backend)\n",
    "\n",
    "# Inner non-linear operator, linear operator in middle, and norm on outside\n",
    "F = ops.FourierTransform(image_size, dtype=phase_ramp_dtype, backend=global_backend)\n",
    "D_object = ops.Diagonalize(F * x_long, label='object', dtype=phase_ramp_dtype, backend=global_backend)\n",
    "R = ops.PhaseRamp(image_size, dtype=phase_ramp_dtype, backend=global_backend)\n",
    "A_shift = F.H * D_object * R\n",
    "\n",
    "y1 = A_shift(shift_true)\n",
    "L2 = ops.L2Norm(image_size, dtype=phase_ramp_dtype, backend=global_backend)\n",
    "objective = L2 * (A_shift - y1)\n",
    "\n",
    "# Check gradient\n",
    "objective.gradient_check()\n",
    "\n",
    "# Render forward model\n",
    "objective.latex()\n",
    "\n",
    "# Render gradient\n",
    "objective.latex(gradient=True)"
   ]
  },
  {
   "cell_type": "markdown",
   "metadata": {},
   "source": [
    "## Sum of Phase Ramps"
   ]
  },
  {
   "cell_type": "code",
   "execution_count": 41,
   "metadata": {
    "ExecuteTime": {
     "end_time": "2019-05-02T18:48:34.748873Z",
     "start_time": "2019-05-02T18:48:34.696298Z"
    },
    "scrolled": false
   },
   "outputs": [
    {
     "output_type": "display_data",
     "data": {
      "text/plain": "<IPython.core.display.Latex object>",
      "text/latex": "$A(\\vec{x}) = \\frac{1}{2} ||(F^H \\times diag(\\vec{D_{object}})\\times \\begin{bmatrix}e^{-i2\\pi \\vec{k} [\\cdot ]} & e^{-i2\\pi \\vec{k} [\\cdot ]} & e^{-i2\\pi \\vec{k} [\\cdot ]}\\end{bmatrix} \\times \\vec{x} - \\vec{y} )||_2^2$"
     },
     "metadata": {}
    },
    {
     "output_type": "display_data",
     "data": {
      "text/plain": "<IPython.core.display.Latex object>",
      "text/latex": "$ \\nabla_xA(\\vec{x}) = \\begin{bmatrix}\\begin{bmatrix}\\sum_{axes=[0, 1]}  \\cr \\sum_{axes=[0, 1]} \\end{bmatrix} \\cr \\begin{bmatrix}\\sum_{axes=[0, 1]}  \\cr \\sum_{axes=[0, 1]} \\end{bmatrix} \\cr \\begin{bmatrix}\\sum_{axes=[0, 1]}  \\cr \\sum_{axes=[0, 1]} \\end{bmatrix}\\end{bmatrix} \\times diag(\\vec{D_{object}})^H \\times F \\times (F^H \\times diag(\\vec{D_{object}})\\times \\begin{bmatrix}e^{-i2\\pi \\vec{k} [\\cdot ]} & e^{-i2\\pi \\vec{k} [\\cdot ]} & e^{-i2\\pi \\vec{k} [\\cdot ]}\\end{bmatrix} \\times \\vec{x} - \\vec{y} )$"
     },
     "metadata": {}
    }
   ],
   "source": [
    "phase_ramp_dtype = 'complex32'\n",
    "x_long = yp.astype(x, phase_ramp_dtype)\n",
    "\n",
    "# Inner non-linear operator, linear operator in middle, and norm on outside\n",
    "shift_true = yp.changeBackend(np.asarray((-5,3)).astype(yp.getNativeDatatype(phase_ramp_dtype, 'numpy')), global_backend)\n",
    "\n",
    "# Inner non-linear operator, linear operator in middle, and norm on outside\n",
    "F = ops.FourierTransform(image_size, dtype=phase_ramp_dtype, backend=global_backend)\n",
    "D_object = ops.Diagonalize(yp.reshape(F * vec(x_long), image_size), label='D_{object}', dtype=phase_ramp_dtype, backend=global_backend)\n",
    "R = ops.PhaseRamp(image_size, dtype=phase_ramp_dtype, backend=global_backend)\n",
    "H = ops.Hstack((R, R, R))\n",
    "A_shift = F.H * D_object * H\n",
    "\n",
    "xx = yp.changeBackend(np.hstack((np.asarray(shift_true), np.asarray(shift_true), np.asarray(shift_true))), global_backend)\n",
    "y_sum = A_shift * yp.changeBackend(np.hstack((np.asarray(shift_true), np.asarray(shift_true), np.asarray(shift_true))), global_backend)\n",
    "L2 = ops.L2Norm(image_size, dtype=phase_ramp_dtype, backend=global_backend)\n",
    "objective = L2 * (A_shift - y_sum)\n",
    "\n",
    "# Check gradient\n",
    "objective.gradient_check()\n",
    "\n",
    "# Render forward model\n",
    "objective.latex()\n",
    "\n",
    "# Render gradient\n",
    "objective.latex(gradient=True)"
   ]
  },
  {
   "cell_type": "markdown",
   "metadata": {},
   "source": [
    "### Scaling a Norm"
   ]
  },
  {
   "cell_type": "code",
   "execution_count": 42,
   "metadata": {
    "ExecuteTime": {
     "end_time": "2019-05-02T18:48:35.906463Z",
     "start_time": "2019-05-02T18:48:35.876073Z"
    },
    "scrolled": false
   },
   "outputs": [
    {
     "output_type": "display_data",
     "data": {
      "text/plain": "<IPython.core.display.Latex object>",
      "text/latex": "$A(\\vec{x}) = 0.1 \\times \\frac{1}{2} ||F \\times \\vec{x}||_2^2$"
     },
     "metadata": {}
    },
    {
     "output_type": "display_data",
     "data": {
      "text/plain": "<IPython.core.display.Latex object>",
      "text/latex": "$ \\nabla_xA(\\vec{x}) = 0.1 \\times I \\times \\vec{x}$"
     },
     "metadata": {}
    }
   ],
   "source": [
    "L2 = ops.L2Norm(image_size, dtype=global_dtype)\n",
    "F = ops.FourierTransform(image_size, dtype=global_dtype, axes=(0, 1))\n",
    "D = ops.Diagonalize(h, dtype=global_dtype)\n",
    "\n",
    "O_2 = L2 * F\n",
    "O = 0.1 * O_2\n",
    "\n",
    "# Check gradient operator (adjoint form)\n",
    "O.gradient_check()\n",
    "\n",
    "# Render forward model\n",
    "O.latex()\n",
    "\n",
    "# Render gradient\n",
    "O.latex(gradient=True)"
   ]
  },
  {
   "cell_type": "markdown",
   "metadata": {},
   "source": [
    "### Sum of Norms (E.g. regularization)"
   ]
  },
  {
   "cell_type": "code",
   "execution_count": 43,
   "metadata": {
    "ExecuteTime": {
     "end_time": "2019-05-02T18:48:36.740063Z",
     "start_time": "2019-05-02T18:48:36.698196Z"
    },
    "scrolled": false,
    "tags": []
   },
   "outputs": [
    {
     "output_type": "error",
     "ename": "NotImplementedError",
     "evalue": "The gradient function is not defined for operator L2Norm * FourierTransformL2Norm * VectorSum * FourierTransform.H * Diagonalize * FourierTransform",
     "traceback": [
      "\u001b[0;31m---------------------------------------------------------------------------\u001b[0m",
      "\u001b[0;31mNotImplementedError\u001b[0m                       Traceback (most recent call last)",
      "\u001b[0;32m<ipython-input-43-b7970880b844>\u001b[0m in \u001b[0;36m<module>\u001b[0;34m\u001b[0m\n\u001b[1;32m      8\u001b[0m \u001b[0;34m\u001b[0m\u001b[0m\n\u001b[1;32m      9\u001b[0m \u001b[0;31m# Check gradient operator (adjoint form)\u001b[0m\u001b[0;34m\u001b[0m\u001b[0;34m\u001b[0m\u001b[0;34m\u001b[0m\u001b[0m\n\u001b[0;32m---> 10\u001b[0;31m \u001b[0mO\u001b[0m\u001b[0;34m.\u001b[0m\u001b[0mgradient_check\u001b[0m\u001b[0;34m(\u001b[0m\u001b[0;34m)\u001b[0m\u001b[0;34m\u001b[0m\u001b[0;34m\u001b[0m\u001b[0m\n\u001b[0m\u001b[1;32m     11\u001b[0m \u001b[0;34m\u001b[0m\u001b[0m\n\u001b[1;32m     12\u001b[0m \u001b[0;31m# Render forward model\u001b[0m\u001b[0;34m\u001b[0m\u001b[0;34m\u001b[0m\u001b[0;34m\u001b[0m\u001b[0m\n",
      "\u001b[0;32m~/develop/llops/llops/operators/operators.py\u001b[0m in \u001b[0;36mgradient_check\u001b[0;34m(self, eps, step, x, direction, use_l2)\u001b[0m\n\u001b[1;32m    520\u001b[0m             \u001b[0mgradient\u001b[0m \u001b[0;34m=\u001b[0m \u001b[0mself\u001b[0m\u001b[0;34m.\u001b[0m\u001b[0mgradient\u001b[0m\u001b[0;34m\u001b[0m\u001b[0;34m\u001b[0m\u001b[0m\n\u001b[1;32m    521\u001b[0m \u001b[0;34m\u001b[0m\u001b[0m\n\u001b[0;32m--> 522\u001b[0;31m         \u001b[0;32mreturn\u001b[0m \u001b[0mscalar\u001b[0m\u001b[0;34m(\u001b[0m\u001b[0mgradientCheck\u001b[0m\u001b[0;34m(\u001b[0m\u001b[0mforward\u001b[0m\u001b[0;34m,\u001b[0m \u001b[0mgradient\u001b[0m\u001b[0;34m,\u001b[0m \u001b[0mself\u001b[0m\u001b[0;34m.\u001b[0m\u001b[0mN\u001b[0m\u001b[0;34m,\u001b[0m \u001b[0mself\u001b[0m\u001b[0;34m.\u001b[0m\u001b[0mdtype\u001b[0m\u001b[0;34m,\u001b[0m \u001b[0meps\u001b[0m\u001b[0;34m=\u001b[0m\u001b[0meps\u001b[0m\u001b[0;34m,\u001b[0m \u001b[0mstep\u001b[0m\u001b[0;34m=\u001b[0m\u001b[0mstep\u001b[0m\u001b[0;34m,\u001b[0m \u001b[0mx\u001b[0m\u001b[0;34m=\u001b[0m\u001b[0mx\u001b[0m\u001b[0;34m,\u001b[0m \u001b[0mdirection\u001b[0m\u001b[0;34m=\u001b[0m\u001b[0mdirection\u001b[0m\u001b[0;34m,\u001b[0m \u001b[0mbackend\u001b[0m\u001b[0;34m=\u001b[0m\u001b[0mself\u001b[0m\u001b[0;34m.\u001b[0m\u001b[0mbackend\u001b[0m\u001b[0;34m)\u001b[0m\u001b[0;34m)\u001b[0m\u001b[0;34m\u001b[0m\u001b[0;34m\u001b[0m\u001b[0m\n\u001b[0m\u001b[1;32m    523\u001b[0m \u001b[0;34m\u001b[0m\u001b[0m\n\u001b[1;32m    524\u001b[0m     \u001b[0;32mdef\u001b[0m \u001b[0mproximal\u001b[0m\u001b[0;34m(\u001b[0m\u001b[0mself\u001b[0m\u001b[0;34m,\u001b[0m \u001b[0mx\u001b[0m\u001b[0;34m,\u001b[0m \u001b[0malpha\u001b[0m\u001b[0;34m=\u001b[0m\u001b[0;36m1.\u001b[0m\u001b[0;34m)\u001b[0m\u001b[0;34m:\u001b[0m\u001b[0;34m\u001b[0m\u001b[0;34m\u001b[0m\u001b[0m\n",
      "\u001b[0;32m~/develop/llops/llops/util.py\u001b[0m in \u001b[0;36mgradientCheck\u001b[0;34m(forward, gradient, size, dtype, backend, eps, step, x, direction)\u001b[0m\n\u001b[1;32m    119\u001b[0m \u001b[0;34m\u001b[0m\u001b[0m\n\u001b[1;32m    120\u001b[0m     \u001b[0;31m# Calculate Gradient to test (override warnings from vec() call)\u001b[0m\u001b[0;34m\u001b[0m\u001b[0;34m\u001b[0m\u001b[0;34m\u001b[0m\u001b[0m\n\u001b[0;32m--> 121\u001b[0;31m     \u001b[0mg\u001b[0m \u001b[0;34m=\u001b[0m \u001b[0mmatmul\u001b[0m\u001b[0;34m(\u001b[0m\u001b[0mtranspose\u001b[0m\u001b[0;34m(\u001b[0m\u001b[0mvec\u001b[0m\u001b[0;34m(\u001b[0m\u001b[0mgradient\u001b[0m\u001b[0;34m(\u001b[0m\u001b[0mx\u001b[0m\u001b[0;34m)\u001b[0m\u001b[0;34m,\u001b[0m \u001b[0mno_warnings\u001b[0m\u001b[0;34m=\u001b[0m\u001b[0;32mTrue\u001b[0m\u001b[0;34m)\u001b[0m\u001b[0;34m,\u001b[0m \u001b[0mhermitian\u001b[0m\u001b[0;34m=\u001b[0m\u001b[0;32mTrue\u001b[0m\u001b[0;34m)\u001b[0m\u001b[0;34m,\u001b[0m \u001b[0mvec\u001b[0m\u001b[0;34m(\u001b[0m\u001b[0mdirection\u001b[0m\u001b[0;34m,\u001b[0m \u001b[0mno_warnings\u001b[0m\u001b[0;34m=\u001b[0m\u001b[0;32mTrue\u001b[0m\u001b[0;34m)\u001b[0m\u001b[0;34m)\u001b[0m  \u001b[0;31m# dot product\u001b[0m\u001b[0;34m\u001b[0m\u001b[0;34m\u001b[0m\u001b[0m\n\u001b[0m\u001b[1;32m    122\u001b[0m \u001b[0;34m\u001b[0m\u001b[0m\n\u001b[1;32m    123\u001b[0m     \u001b[0;32mif\u001b[0m \u001b[0;32mnot\u001b[0m \u001b[0misComplex\u001b[0m\u001b[0;34m(\u001b[0m\u001b[0mg\u001b[0m\u001b[0;34m)\u001b[0m\u001b[0;34m:\u001b[0m\u001b[0;34m\u001b[0m\u001b[0;34m\u001b[0m\u001b[0m\n",
      "\u001b[0;32m~/develop/llops/llops/operators/operators.py\u001b[0m in \u001b[0;36mgradient\u001b[0;34m(self, x, y, return_op)\u001b[0m\n\u001b[1;32m    466\u001b[0m \u001b[0;34m\u001b[0m\u001b[0m\n\u001b[1;32m    467\u001b[0m         \u001b[0;32melse\u001b[0m\u001b[0;34m:\u001b[0m\u001b[0;34m\u001b[0m\u001b[0;34m\u001b[0m\u001b[0m\n\u001b[0;32m--> 468\u001b[0;31m             \u001b[0;32mraise\u001b[0m \u001b[0mNotImplementedError\u001b[0m\u001b[0;34m(\u001b[0m\u001b[0;34m'The gradient function is not defined for operator %s'\u001b[0m \u001b[0;34m%\u001b[0m \u001b[0mself\u001b[0m\u001b[0;34m.\u001b[0m\u001b[0mrepr_str\u001b[0m\u001b[0;34m)\u001b[0m\u001b[0;34m\u001b[0m\u001b[0;34m\u001b[0m\u001b[0m\n\u001b[0m\u001b[1;32m    469\u001b[0m \u001b[0;34m\u001b[0m\u001b[0m\n\u001b[1;32m    470\u001b[0m     \u001b[0;32mdef\u001b[0m \u001b[0mgrad\u001b[0m\u001b[0;34m(\u001b[0m\u001b[0mself\u001b[0m\u001b[0;34m,\u001b[0m \u001b[0mx\u001b[0m\u001b[0;34m,\u001b[0m \u001b[0my\u001b[0m\u001b[0;34m=\u001b[0m\u001b[0;32mNone\u001b[0m\u001b[0;34m)\u001b[0m\u001b[0;34m:\u001b[0m\u001b[0;34m\u001b[0m\u001b[0;34m\u001b[0m\u001b[0m\n",
      "\u001b[0;31mNotImplementedError\u001b[0m: The gradient function is not defined for operator L2Norm * FourierTransformL2Norm * VectorSum * FourierTransform.H * Diagonalize * FourierTransform"
     ]
    }
   ],
   "source": [
    "L2 = ops.L2Norm(image_size)\n",
    "F = ops.FourierTransform(image_size)\n",
    "D = ops.Diagonalize(h)\n",
    "\n",
    "O_1 = L2 * ((F.H * D * F) - y)\n",
    "O_2 = 1e-3 * L2 * F\n",
    "O = O_2 + O_1\n",
    "\n",
    "# Check gradient operator (adjoint form)\n",
    "O.gradient_check()\n",
    "\n",
    "# Render forward model\n",
    "O.latex()\n",
    "\n",
    "# Render gradient\n",
    "O.latex(gradient=True)"
   ]
  },
  {
   "cell_type": "markdown",
   "metadata": {},
   "source": [
    "# Stacking Operators\n",
    "\n",
    "Stacking operators are tricky - they need to take or return a VectorStack class, which is simply a container for images of different sizes to be operated on independently.\n",
    "\n",
    "Hstack - operates on a vectorstack (or vector) class, returns a vector\n",
    "\n",
    "Vstack - operates on a vector, returns a vectorstack class\n",
    "\n",
    "Diagstack - operates on a vectorstack, returns a vectorstack"
   ]
  },
  {
   "cell_type": "code",
   "execution_count": 44,
   "metadata": {
    "ExecuteTime": {
     "end_time": "2019-05-02T18:48:37.633142Z",
     "start_time": "2019-05-02T18:48:37.609527Z"
    },
    "scrolled": false
   },
   "outputs": [],
   "source": [
    "# Create list of operators\n",
    "op_list_nonlinear = [\n",
    "            ops.FourierTransform(image_size),\n",
    "            ops.Identity(image_size),\n",
    "            ops.Exponential(image_size)\n",
    "]\n",
    "\n",
    "op_list_linear = [\n",
    "            ops.FourierTransform(image_size),\n",
    "            ops.Identity(image_size),\n",
    "            ops.Diagonalize(h)\n",
    "]"
   ]
  },
  {
   "cell_type": "markdown",
   "metadata": {},
   "source": [
    "## Horizontal Stacking"
   ]
  },
  {
   "cell_type": "markdown",
   "metadata": {},
   "source": [
    "### Linear Stacking"
   ]
  },
  {
   "cell_type": "code",
   "execution_count": 45,
   "metadata": {
    "ExecuteTime": {
     "end_time": "2019-05-02T18:48:38.949721Z",
     "start_time": "2019-05-02T18:48:38.914382Z"
    },
    "scrolled": false
   },
   "outputs": [
    {
     "output_type": "display_data",
     "data": {
      "text/plain": "<IPython.core.display.Latex object>",
      "text/latex": "$O_{1 \\times 3}(\\vec{x}) = \\begin{bmatrix}F & I & diag(\\vec{d})\\end{bmatrix} \\times \\vec{x}$"
     },
     "metadata": {}
    },
    {
     "output_type": "display_data",
     "data": {
      "text/plain": "<IPython.core.display.Latex object>",
      "text/latex": "$ \\nabla_xO_{1 \\times 3}(\\vec{x}) = \\begin{bmatrix}F^H \\cr I^H \\cr diag(\\vec{d})^H\\end{bmatrix} \\times \\vec{x}$"
     },
     "metadata": {}
    }
   ],
   "source": [
    "# Horizontally stacked operators\n",
    "H_l = ops.Hstack(op_list_linear)\n",
    "\n",
    "# Vertically stack x for forward operator\n",
    "x_np = yp.changeBackend(x, 'numpy')\n",
    "x3 = yp.changeBackend(np.vstack((x_np,x_np, x_np)), global_backend)\n",
    "\n",
    "# Check forward operation\n",
    "y2 = yp.zeros(op_list_linear[0].N, op_list_linear[0].dtype, op_list_linear[0].backend)\n",
    "\n",
    "for op in op_list_linear:\n",
    "    y2 = y2 + op * x\n",
    "\n",
    "# Check equality\n",
    "yp.assert_equality(H_l(x3), y2)\n",
    "\n",
    "# Check gradient\n",
    "H_l.gradient_check()\n",
    "\n",
    "# Render forward model\n",
    "H_l.latex()\n",
    "\n",
    "# Render gradient\n",
    "H_l.latex(gradient=True)"
   ]
  },
  {
   "cell_type": "markdown",
   "metadata": {},
   "source": [
    "### Non-linear operators"
   ]
  },
  {
   "cell_type": "code",
   "execution_count": 47,
   "metadata": {
    "ExecuteTime": {
     "end_time": "2019-05-02T18:48:40.063606Z",
     "start_time": "2019-05-02T18:48:40.027342Z"
    },
    "scrolled": false
   },
   "outputs": [
    {
     "output_type": "display_data",
     "data": {
      "text/plain": "<IPython.core.display.Latex object>",
      "text/latex": "$O_{1 \\times 3}(\\vec{x}) = \\begin{bmatrix}F & I & e^{ [\\cdot] }\\end{bmatrix} \\times \\vec{x}$"
     },
     "metadata": {}
    },
    {
     "output_type": "display_data",
     "data": {
      "text/plain": "<IPython.core.display.Latex object>",
      "text/latex": "$ \\nabla_xO_{1 \\times 3}(\\vec{x}) = \\begin{bmatrix}F^H \\cr I^H \\cr diag(\\vec{D_{e^x}})\\end{bmatrix} \\times \\vec{x}$"
     },
     "metadata": {}
    }
   ],
   "source": [
    "# Horizontally stacked operators\n",
    "H_nl = ops.Hstack(op_list_nonlinear)\n",
    "\n",
    "# Vertically stack x for forward operator\n",
    "x3 = yp.changeBackend(np.vstack((x, x, x)), global_backend)\n",
    "\n",
    "# Check forward operation\n",
    "y2 = yp.zeros(op_list_nonlinear[0].shape[0], op_list_nonlinear[0].dtype, op_list_nonlinear[0].backend)\n",
    "for op in op_list_nonlinear:\n",
    "    y2 += op * x\n",
    "    \n",
    "assert yp.sum(yp.abs(H_nl(x3) - y2)) < eps, \"%.4e\" % yp.sum(yp.abs(H_nl(x3)) - y2)\n",
    "\n",
    "# Check gradient\n",
    "H_nl.gradient_check()\n",
    "\n",
    "# Render forward model\n",
    "H_nl.latex()\n",
    "\n",
    "# Render gradient\n",
    "H_nl.latex(gradient=True)"
   ]
  },
  {
   "cell_type": "markdown",
   "metadata": {},
   "source": [
    "## Vertical Stacking"
   ]
  },
  {
   "cell_type": "markdown",
   "metadata": {},
   "source": [
    "### Linear Operators"
   ]
  },
  {
   "cell_type": "code",
   "execution_count": 48,
   "metadata": {
    "ExecuteTime": {
     "end_time": "2019-05-02T18:48:41.772808Z",
     "start_time": "2019-05-02T18:48:41.737771Z"
    },
    "scrolled": false
   },
   "outputs": [
    {
     "output_type": "display_data",
     "data": {
      "text/plain": "<IPython.core.display.Latex object>",
      "text/latex": "$O_{3 \\times 1}(\\vec{x}) = \\begin{bmatrix}F \\cr I \\cr diag(\\vec{d})\\end{bmatrix} \\times \\vec{x}$"
     },
     "metadata": {}
    },
    {
     "output_type": "display_data",
     "data": {
      "text/plain": "<IPython.core.display.Latex object>",
      "text/latex": "$ \\nabla_xO_{3 \\times 1}(\\vec{x}) = \\begin{bmatrix}F^H & I^H & diag(\\vec{d})^H\\end{bmatrix} \\times \\vec{x}$"
     },
     "metadata": {}
    }
   ],
   "source": [
    "# Create vertically stacked operator\n",
    "V_l = ops.Vstack(op_list_linear)\n",
    "\n",
    "# Check forward operator\n",
    "y3 = np.empty((0,image_size[1]), dtype=yp.getNativeDatatype(global_dtype, 'numpy'))\n",
    "for index, op in enumerate(op_list_linear):\n",
    "    y3 = np.append(y3, (op * x), axis=0)\n",
    "    \n",
    "y3 = yp.changeBackend(y3, global_backend)\n",
    "assert yp.sum(yp.abs(V_l * x - y3)) < eps, \"%.4e\" % yp.sum(yp.abs(V_l * vec(x) - y3))\n",
    "\n",
    "# Check gradient\n",
    "V_l.gradient_check()\n",
    "\n",
    "# Render forward model\n",
    "V_l.latex()\n",
    "\n",
    "# Render gradient\n",
    "V_l.latex(gradient=True)"
   ]
  },
  {
   "cell_type": "markdown",
   "metadata": {},
   "source": [
    "### Nonlinear Operators"
   ]
  },
  {
   "cell_type": "code",
   "execution_count": 49,
   "metadata": {
    "ExecuteTime": {
     "end_time": "2019-05-02T18:48:43.548900Z",
     "start_time": "2019-05-02T18:48:43.504514Z"
    },
    "scrolled": false
   },
   "outputs": [
    {
     "output_type": "display_data",
     "data": {
      "text/plain": "<IPython.core.display.Latex object>",
      "text/latex": "$O_{3 \\times 1}(\\vec{x}) = \\begin{bmatrix}F \\cr I \\cr e^{ [\\cdot] }\\end{bmatrix} \\times \\vec{x}$"
     },
     "metadata": {}
    },
    {
     "output_type": "display_data",
     "data": {
      "text/plain": "<IPython.core.display.Latex object>",
      "text/latex": "$ \\nabla_xO_{3 \\times 1}(\\vec{x}) = \\begin{bmatrix}F^H & I^H & diag(\\vec{D_{e^x}})\\end{bmatrix} \\times \\vec{x}$"
     },
     "metadata": {}
    }
   ],
   "source": [
    "# Create list of operators\n",
    "op_list_nonlinear = [\n",
    "            ops.FourierTransform(image_size),\n",
    "            ops.Identity(image_size),\n",
    "            ops.Exponential(image_size)\n",
    "]\n",
    "\n",
    "# Create vertically stacked operator\n",
    "V_nl = ops.Vstack(op_list_nonlinear)\n",
    "\n",
    "# Check forward operator\n",
    "y3 = np.empty((0,image_size[1]), dtype=yp.getNativeDatatype(global_dtype, 'numpy'))\n",
    "for index, op in enumerate(op_list_nonlinear):\n",
    "    y3 = np.append(y3, (op * x), axis=0)\n",
    "    \n",
    "y3 = yp.changeBackend(y3, global_backend)\n",
    "\n",
    "yp.assert_equality(V_nl * x, y3)\n",
    "\n",
    "# Check gradient\n",
    "V_nl.gradient_check()\n",
    "\n",
    "# Render forward model\n",
    "V_nl.latex()\n",
    "\n",
    "# Render gradient\n",
    "V_nl.latex(gradient=True)"
   ]
  },
  {
   "cell_type": "markdown",
   "metadata": {},
   "source": [
    "## Diagonal Stacking"
   ]
  },
  {
   "cell_type": "markdown",
   "metadata": {},
   "source": [
    "### Linear Operators"
   ]
  },
  {
   "cell_type": "code",
   "execution_count": 50,
   "metadata": {
    "ExecuteTime": {
     "end_time": "2019-05-02T18:49:50.569988Z",
     "start_time": "2019-05-02T18:49:50.524043Z"
    },
    "scrolled": false
   },
   "outputs": [
    {
     "output_type": "error",
     "ename": "AttributeError",
     "evalue": "'Dstack' object has no attribute '_adjoint'",
     "traceback": [
      "\u001b[0;31m---------------------------------------------------------------------------\u001b[0m",
      "\u001b[0;31mAttributeError\u001b[0m                            Traceback (most recent call last)",
      "\u001b[0;32m<ipython-input-50-dc116602f03f>\u001b[0m in \u001b[0;36m<module>\u001b[0;34m\u001b[0m\n\u001b[1;32m      1\u001b[0m \u001b[0;31m# Horizontally stacked operators\u001b[0m\u001b[0;34m\u001b[0m\u001b[0;34m\u001b[0m\u001b[0;34m\u001b[0m\u001b[0m\n\u001b[0;32m----> 2\u001b[0;31m \u001b[0mD_l\u001b[0m \u001b[0;34m=\u001b[0m \u001b[0mops\u001b[0m\u001b[0;34m.\u001b[0m\u001b[0mDstack\u001b[0m\u001b[0;34m(\u001b[0m\u001b[0mop_list_linear\u001b[0m\u001b[0;34m)\u001b[0m\u001b[0;34m\u001b[0m\u001b[0;34m\u001b[0m\u001b[0m\n\u001b[0m\u001b[1;32m      3\u001b[0m \u001b[0;34m\u001b[0m\u001b[0m\n\u001b[1;32m      4\u001b[0m \u001b[0;31m# Vertically stack x for forward operator\u001b[0m\u001b[0;34m\u001b[0m\u001b[0;34m\u001b[0m\u001b[0;34m\u001b[0m\u001b[0m\n\u001b[1;32m      5\u001b[0m \u001b[0mx3\u001b[0m \u001b[0;34m=\u001b[0m \u001b[0myp\u001b[0m\u001b[0;34m.\u001b[0m\u001b[0mchangeBackend\u001b[0m\u001b[0;34m(\u001b[0m\u001b[0mnp\u001b[0m\u001b[0;34m.\u001b[0m\u001b[0mvstack\u001b[0m\u001b[0;34m(\u001b[0m\u001b[0;34m(\u001b[0m\u001b[0mx\u001b[0m\u001b[0;34m,\u001b[0m \u001b[0mx\u001b[0m\u001b[0;34m,\u001b[0m \u001b[0mx\u001b[0m\u001b[0;34m)\u001b[0m\u001b[0;34m)\u001b[0m\u001b[0;34m,\u001b[0m \u001b[0mglobal_backend\u001b[0m\u001b[0;34m)\u001b[0m\u001b[0;34m\u001b[0m\u001b[0;34m\u001b[0m\u001b[0m\n",
      "\u001b[0;32m~/develop/llops/llops/operators/stack.py\u001b[0m in \u001b[0;36m__init__\u001b[0;34m(self, operators, parallelize, normalize, label)\u001b[0m\n\u001b[1;32m    400\u001b[0m         \u001b[0madjoint_func\u001b[0m\u001b[0;34m,\u001b[0m \u001b[0minverse_func\u001b[0m \u001b[0;34m=\u001b[0m \u001b[0;32mNone\u001b[0m\u001b[0;34m,\u001b[0m \u001b[0;32mNone\u001b[0m\u001b[0;34m\u001b[0m\u001b[0;34m\u001b[0m\u001b[0m\n\u001b[1;32m    401\u001b[0m         \u001b[0;32mif\u001b[0m \u001b[0mlinear\u001b[0m\u001b[0;34m:\u001b[0m\u001b[0;34m\u001b[0m\u001b[0;34m\u001b[0m\u001b[0m\n\u001b[0;32m--> 402\u001b[0;31m             \u001b[0madjoint_func\u001b[0m \u001b[0;34m=\u001b[0m \u001b[0mself\u001b[0m\u001b[0;34m.\u001b[0m\u001b[0m_adjoint\u001b[0m\u001b[0;34m\u001b[0m\u001b[0;34m\u001b[0m\u001b[0m\n\u001b[0m\u001b[1;32m    403\u001b[0m         \u001b[0;32mif\u001b[0m \u001b[0minvertable\u001b[0m\u001b[0;34m:\u001b[0m\u001b[0;34m\u001b[0m\u001b[0;34m\u001b[0m\u001b[0m\n\u001b[1;32m    404\u001b[0m             \u001b[0minverse_func\u001b[0m \u001b[0;34m=\u001b[0m \u001b[0mself\u001b[0m\u001b[0;34m.\u001b[0m\u001b[0m_inverse\u001b[0m\u001b[0;34m\u001b[0m\u001b[0;34m\u001b[0m\u001b[0m\n",
      "\u001b[0;31mAttributeError\u001b[0m: 'Dstack' object has no attribute '_adjoint'"
     ]
    }
   ],
   "source": [
    "# Horizontally stacked operators\n",
    "D_l = ops.Dstack(op_list_linear)\n",
    "\n",
    "# Vertically stack x for forward operator\n",
    "x3 = yp.changeBackend(np.vstack((x, x, x)), global_backend)\n",
    "\n",
    "# Check forward operation\n",
    "y4 = np.empty((0,image_size[1]), dtype=yp.getNativeDatatype(global_dtype, 'numpy'))\n",
    "for index, op in enumerate(op_list_linear):\n",
    "    y4 = np.append(y4, (op * x), axis=0)\n",
    "    \n",
    "y4 = yp.changeBackend(y4, global_backend)\n",
    "\n",
    "# Check forward\n",
    "yp.assert_equality(D_l(x3), y4)\n",
    "\n",
    "# Check gradient\n",
    "D_l.gradient_check()\n",
    "\n",
    "# Render forward model\n",
    "D_l.latex()\n",
    "\n",
    "# Render gradient\n",
    "D_l.latex(gradient=True)"
   ]
  },
  {
   "cell_type": "markdown",
   "metadata": {},
   "source": [
    "### Nonlinear operators"
   ]
  },
  {
   "cell_type": "code",
   "execution_count": 83,
   "metadata": {
    "ExecuteTime": {
     "end_time": "2019-05-02T18:56:17.344789Z",
     "start_time": "2019-05-02T18:56:17.305630Z"
    },
    "scrolled": false
   },
   "outputs": [
    {
     "output_type": "error",
     "ename": "ValueError",
     "evalue": "Input size mismatch, for <F: (64, 128)x(64, 128) FourierTransform NUMPY operator with dtype=complex32>, got (1024, 1024)",
     "traceback": [
      "\u001b[0;31m---------------------------------------------------------------------------\u001b[0m",
      "\u001b[0;31mValueError\u001b[0m                                Traceback (most recent call last)",
      "\u001b[0;32m<ipython-input-83-a43a17b1bdb9>\u001b[0m in \u001b[0;36m<module>\u001b[0;34m\u001b[0m\n\u001b[1;32m      8\u001b[0m \u001b[0my4\u001b[0m \u001b[0;34m=\u001b[0m \u001b[0mnp\u001b[0m\u001b[0;34m.\u001b[0m\u001b[0mempty\u001b[0m\u001b[0;34m(\u001b[0m\u001b[0;34m(\u001b[0m\u001b[0;36m0\u001b[0m\u001b[0;34m,\u001b[0m\u001b[0mimage_size\u001b[0m\u001b[0;34m[\u001b[0m\u001b[0;36m1\u001b[0m\u001b[0;34m]\u001b[0m\u001b[0;34m)\u001b[0m\u001b[0;34m,\u001b[0m \u001b[0mdtype\u001b[0m\u001b[0;34m=\u001b[0m\u001b[0myp\u001b[0m\u001b[0;34m.\u001b[0m\u001b[0mgetNativeDatatype\u001b[0m\u001b[0;34m(\u001b[0m\u001b[0mglobal_dtype\u001b[0m\u001b[0;34m,\u001b[0m \u001b[0;34m'numpy'\u001b[0m\u001b[0;34m)\u001b[0m\u001b[0;34m)\u001b[0m\u001b[0;34m\u001b[0m\u001b[0;34m\u001b[0m\u001b[0m\n\u001b[1;32m      9\u001b[0m \u001b[0;32mfor\u001b[0m \u001b[0mindex\u001b[0m\u001b[0;34m,\u001b[0m \u001b[0mop\u001b[0m \u001b[0;32min\u001b[0m \u001b[0menumerate\u001b[0m\u001b[0;34m(\u001b[0m\u001b[0mop_list_nonlinear\u001b[0m\u001b[0;34m)\u001b[0m\u001b[0;34m:\u001b[0m\u001b[0;34m\u001b[0m\u001b[0;34m\u001b[0m\u001b[0m\n\u001b[0;32m---> 10\u001b[0;31m     \u001b[0my4\u001b[0m \u001b[0;34m=\u001b[0m \u001b[0mnp\u001b[0m\u001b[0;34m.\u001b[0m\u001b[0mappend\u001b[0m\u001b[0;34m(\u001b[0m\u001b[0my4\u001b[0m\u001b[0;34m,\u001b[0m \u001b[0;34m(\u001b[0m\u001b[0mop\u001b[0m \u001b[0;34m*\u001b[0m \u001b[0mx\u001b[0m\u001b[0;34m)\u001b[0m\u001b[0;34m,\u001b[0m \u001b[0maxis\u001b[0m\u001b[0;34m=\u001b[0m\u001b[0;36m0\u001b[0m\u001b[0;34m)\u001b[0m\u001b[0;34m\u001b[0m\u001b[0;34m\u001b[0m\u001b[0m\n\u001b[0m\u001b[1;32m     11\u001b[0m \u001b[0;34m\u001b[0m\u001b[0m\n\u001b[1;32m     12\u001b[0m \u001b[0my4\u001b[0m \u001b[0;34m=\u001b[0m \u001b[0myp\u001b[0m\u001b[0;34m.\u001b[0m\u001b[0mchangeBackend\u001b[0m\u001b[0;34m(\u001b[0m\u001b[0my4\u001b[0m\u001b[0;34m,\u001b[0m \u001b[0mglobal_backend\u001b[0m\u001b[0;34m)\u001b[0m\u001b[0;34m\u001b[0m\u001b[0;34m\u001b[0m\u001b[0m\n",
      "\u001b[0;32m~/develop/llops/llops/operators/operators.py\u001b[0m in \u001b[0;36m__mul__\u001b[0;34m(self, x)\u001b[0m\n\u001b[1;32m    668\u001b[0m \u001b[0;34m\u001b[0m\u001b[0m\n\u001b[1;32m    669\u001b[0m     \u001b[0;32mdef\u001b[0m \u001b[0m__mul__\u001b[0m\u001b[0;34m(\u001b[0m\u001b[0mself\u001b[0m\u001b[0;34m,\u001b[0m \u001b[0mx\u001b[0m\u001b[0;34m)\u001b[0m\u001b[0;34m:\u001b[0m\u001b[0;34m\u001b[0m\u001b[0;34m\u001b[0m\u001b[0m\n\u001b[0;32m--> 670\u001b[0;31m         \u001b[0;32mreturn\u001b[0m \u001b[0mself\u001b[0m\u001b[0;34m.\u001b[0m\u001b[0mforward\u001b[0m\u001b[0;34m(\u001b[0m\u001b[0mx\u001b[0m\u001b[0;34m)\u001b[0m\u001b[0;34m\u001b[0m\u001b[0;34m\u001b[0m\u001b[0m\n\u001b[0m\u001b[1;32m    671\u001b[0m \u001b[0;34m\u001b[0m\u001b[0m\n\u001b[1;32m    672\u001b[0m     \u001b[0;32mdef\u001b[0m \u001b[0m__rmul__\u001b[0m\u001b[0;34m(\u001b[0m\u001b[0mself\u001b[0m\u001b[0;34m,\u001b[0m \u001b[0mx\u001b[0m\u001b[0;34m)\u001b[0m\u001b[0;34m:\u001b[0m\u001b[0;34m\u001b[0m\u001b[0;34m\u001b[0m\u001b[0m\n",
      "\u001b[0;32m~/develop/llops/llops/operators/operators.py\u001b[0m in \u001b[0;36mforward\u001b[0;34m(self, x, y)\u001b[0m\n\u001b[1;32m    291\u001b[0m             \u001b[0;31m# Get dimensions\u001b[0m\u001b[0;34m\u001b[0m\u001b[0;34m\u001b[0m\u001b[0;34m\u001b[0m\u001b[0m\n\u001b[1;32m    292\u001b[0m             \u001b[0;32mif\u001b[0m \u001b[0msize\u001b[0m\u001b[0;34m(\u001b[0m\u001b[0mx\u001b[0m\u001b[0;34m)\u001b[0m \u001b[0;34m!=\u001b[0m \u001b[0mprod\u001b[0m\u001b[0;34m(\u001b[0m\u001b[0mself\u001b[0m\u001b[0;34m.\u001b[0m\u001b[0mshape\u001b[0m\u001b[0;34m[\u001b[0m\u001b[0;36m1\u001b[0m\u001b[0;34m]\u001b[0m\u001b[0;34m)\u001b[0m\u001b[0;34m:\u001b[0m\u001b[0;34m\u001b[0m\u001b[0;34m\u001b[0m\u001b[0m\n\u001b[0;32m--> 293\u001b[0;31m                 \u001b[0;32mraise\u001b[0m \u001b[0mValueError\u001b[0m\u001b[0;34m(\u001b[0m\u001b[0;34m'Input size mismatch, for {}, got {}'\u001b[0m\u001b[0;34m.\u001b[0m\u001b[0mformat\u001b[0m\u001b[0;34m(\u001b[0m\u001b[0mself\u001b[0m\u001b[0;34m,\u001b[0m \u001b[0mshape\u001b[0m\u001b[0;34m(\u001b[0m\u001b[0mx\u001b[0m\u001b[0;34m)\u001b[0m\u001b[0;34m)\u001b[0m\u001b[0;34m)\u001b[0m\u001b[0;34m\u001b[0m\u001b[0;34m\u001b[0m\u001b[0m\n\u001b[0m\u001b[1;32m    294\u001b[0m \u001b[0;34m\u001b[0m\u001b[0m\n\u001b[1;32m    295\u001b[0m             \u001b[0;31m# Ensure x is the correct size\u001b[0m\u001b[0;34m\u001b[0m\u001b[0;34m\u001b[0m\u001b[0;34m\u001b[0m\u001b[0m\n",
      "\u001b[0;31mValueError\u001b[0m: Input size mismatch, for <F: (64, 128)x(64, 128) FourierTransform NUMPY operator with dtype=complex32>, got (1024, 1024)"
     ]
    }
   ],
   "source": [
    "# Horizontally stacked operators\n",
    "D_nl = ops.Dstack(op_list_nonlinear)\n",
    "\n",
    "# Vertically stack x for forward operator\n",
    "x3 = yp.changeBackend(np.vstack((x, x, x)), global_backend)\n",
    "\n",
    "# Check forward operation\n",
    "y4 = np.empty((0,image_size[1]), dtype=yp.getNativeDatatype(global_dtype, 'numpy'))\n",
    "for index, op in enumerate(op_list_nonlinear):\n",
    "    y4 = np.append(y4, (op * x), axis=0)\n",
    "    \n",
    "y4 = yp.changeBackend(y4, global_backend)\n",
    "\n",
    "# Check forward operation\n",
    "yp.assert_equality(D_nl(x3), y4)\n",
    "\n",
    "# Check gradient\n",
    "D_nl.gradient_check()\n",
    "\n",
    "# Render forward model\n",
    "D_nl.latex()\n",
    "\n",
    "# Render gradient\n",
    "D_nl.latex(gradient=True)"
   ]
  },
  {
   "cell_type": "markdown",
   "metadata": {},
   "source": [
    "## Speed Comparison"
   ]
  },
  {
   "cell_type": "code",
   "execution_count": 85,
   "metadata": {
    "tags": []
   },
   "outputs": [
    {
     "output_type": "stream",
     "name": "stdout",
     "text": "4.28 s ± 150 ms per loop (mean ± std. dev. of 7 runs, 1 loop each)\n1.87 s ± 118 ms per loop (mean ± std. dev. of 7 runs, 1 loop each)\n5.96 s ± 48.6 ms per loop (mean ± std. dev. of 7 runs, 1 loop each)\n2.81 s ± 93.8 ms per loop (mean ± std. dev. of 7 runs, 1 loop each)\n6.46 s ± 21.2 ms per loop (mean ± std. dev. of 7 runs, 1 loop each)\n2.76 s ± 47.6 ms per loop (mean ± std. dev. of 7 runs, 1 loop each)\n"
    }
   ],
   "source": [
    "op_count = 100\n",
    "shape = (128, 128)\n",
    "F = ops.FourierTransform(shape)\n",
    "\n",
    "op_list = [F * ops.Diagonalize(yp.rand(shape))* F.H for _ in range(op_count)]\n",
    "_x_list = ops.VecStack([yp.rand(shape)] * op_count)\n",
    "_x = yp.rand(shape)\n",
    "\n",
    "# Horizontally stacked operators\n",
    "H_l_n = ops.Hstack(op_list, parallelize=False)\n",
    "H_l_p = ops.Hstack(op_list, parallelize=True)\n",
    "\n",
    "D_l_n = ops.Dstack(op_list, parallelize=False)\n",
    "D_l_p = ops.Dstack(op_list, parallelize=True)\n",
    "\n",
    "V_l_n = ops.Vstack(op_list, parallelize=False)\n",
    "V_l_p = ops.Vstack(op_list, parallelize=True)\n",
    "\n",
    "%timeit H_l_n * _x_list\n",
    "%timeit H_l_p * _x_list\n",
    "\n",
    "%timeit D_l_n * _x_list\n",
    "%timeit D_l_p * _x_list\n",
    "\n",
    "%timeit V_l_n * _x\n",
    "%timeit V_l_p * _x"
   ]
  },
  {
   "cell_type": "markdown",
   "metadata": {},
   "source": [
    "## Sum of Operators"
   ]
  },
  {
   "cell_type": "code",
   "execution_count": null,
   "metadata": {},
   "outputs": [],
   "source": [
    "gradient(exp(Ax))"
   ]
  },
  {
   "cell_type": "code",
   "execution_count": 52,
   "metadata": {
    "ExecuteTime": {
     "end_time": "2019-05-02T18:56:21.433122Z",
     "start_time": "2019-05-02T18:56:21.389246Z"
    },
    "scrolled": false
   },
   "outputs": [
    {
     "output_type": "error",
     "ename": "AttributeError",
     "evalue": "'Identity' object has no attribute 'arguments'",
     "traceback": [
      "\u001b[0;31m---------------------------------------------------------------------------\u001b[0m",
      "\u001b[0;31mAttributeError\u001b[0m                            Traceback (most recent call last)",
      "\u001b[0;32m<ipython-input-52-8ee5370ce033>\u001b[0m in \u001b[0;36m<module>\u001b[0;34m\u001b[0m\n\u001b[1;32m      1\u001b[0m \u001b[0;31m# Sum of operators\u001b[0m\u001b[0;34m\u001b[0m\u001b[0;34m\u001b[0m\u001b[0;34m\u001b[0m\u001b[0m\n\u001b[0;32m----> 2\u001b[0;31m \u001b[0mS\u001b[0m \u001b[0;34m=\u001b[0m \u001b[0mops\u001b[0m\u001b[0;34m.\u001b[0m\u001b[0mOperatorSum\u001b[0m\u001b[0;34m(\u001b[0m\u001b[0mop_list_nonlinear\u001b[0m\u001b[0;34m)\u001b[0m\u001b[0;34m\u001b[0m\u001b[0;34m\u001b[0m\u001b[0m\n\u001b[0m\u001b[1;32m      3\u001b[0m \u001b[0;34m\u001b[0m\u001b[0m\n\u001b[1;32m      4\u001b[0m \u001b[0;31m# Check forward operator\u001b[0m\u001b[0;34m\u001b[0m\u001b[0;34m\u001b[0m\u001b[0;34m\u001b[0m\u001b[0m\n\u001b[1;32m      5\u001b[0m \u001b[0;32massert\u001b[0m \u001b[0myp\u001b[0m\u001b[0;34m.\u001b[0m\u001b[0msum\u001b[0m\u001b[0;34m(\u001b[0m\u001b[0myp\u001b[0m\u001b[0;34m.\u001b[0m\u001b[0mabs\u001b[0m\u001b[0;34m(\u001b[0m\u001b[0mS\u001b[0m \u001b[0;34m*\u001b[0m \u001b[0mx\u001b[0m \u001b[0;34m-\u001b[0m \u001b[0msum\u001b[0m\u001b[0;34m(\u001b[0m\u001b[0;34m[\u001b[0m\u001b[0mop_list_nonlinear\u001b[0m\u001b[0;34m[\u001b[0m\u001b[0mi\u001b[0m\u001b[0;34m]\u001b[0m \u001b[0;34m*\u001b[0m \u001b[0mx\u001b[0m \u001b[0;32mfor\u001b[0m \u001b[0mi\u001b[0m \u001b[0;32min\u001b[0m \u001b[0mrange\u001b[0m\u001b[0;34m(\u001b[0m\u001b[0mlen\u001b[0m\u001b[0;34m(\u001b[0m\u001b[0mop_list_nonlinear\u001b[0m\u001b[0;34m)\u001b[0m\u001b[0;34m)\u001b[0m\u001b[0;34m]\u001b[0m\u001b[0;34m)\u001b[0m\u001b[0;34m)\u001b[0m\u001b[0;34m)\u001b[0m \u001b[0;34m<\u001b[0m \u001b[0meps\u001b[0m\u001b[0;34m,\u001b[0m \u001b[0;34m'%f'\u001b[0m \u001b[0;34m%\u001b[0m \u001b[0myp\u001b[0m\u001b[0;34m.\u001b[0m\u001b[0msum\u001b[0m\u001b[0;34m(\u001b[0m\u001b[0myp\u001b[0m\u001b[0;34m.\u001b[0m\u001b[0mabs\u001b[0m\u001b[0;34m(\u001b[0m\u001b[0mS\u001b[0m \u001b[0;34m*\u001b[0m \u001b[0mx\u001b[0m \u001b[0;34m-\u001b[0m \u001b[0msum\u001b[0m\u001b[0;34m(\u001b[0m\u001b[0;34m[\u001b[0m\u001b[0mop_list_nonlinear\u001b[0m\u001b[0;34m[\u001b[0m\u001b[0mi\u001b[0m\u001b[0;34m]\u001b[0m \u001b[0;34m*\u001b[0m \u001b[0mx\u001b[0m \u001b[0;32mfor\u001b[0m \u001b[0mi\u001b[0m \u001b[0;32min\u001b[0m \u001b[0mrange\u001b[0m\u001b[0;34m(\u001b[0m\u001b[0mlen\u001b[0m\u001b[0;34m(\u001b[0m\u001b[0mop_list_nonlinear\u001b[0m\u001b[0;34m)\u001b[0m\u001b[0;34m)\u001b[0m\u001b[0;34m]\u001b[0m\u001b[0;34m)\u001b[0m\u001b[0;34m)\u001b[0m\u001b[0;34m)\u001b[0m\u001b[0;34m\u001b[0m\u001b[0;34m\u001b[0m\u001b[0m\n",
      "\u001b[0;32m~/develop/llops/llops/operators/composite.py\u001b[0m in \u001b[0;36mOperatorSum\u001b[0;34m(op_list)\u001b[0m\n\u001b[1;32m    317\u001b[0m \u001b[0;34m\u001b[0m\u001b[0m\n\u001b[1;32m    318\u001b[0m     \u001b[0;31m# This is the operator we're going to return - just need to over-ride (monkey-patch) a few methods\u001b[0m\u001b[0;34m\u001b[0m\u001b[0;34m\u001b[0m\u001b[0;34m\u001b[0m\u001b[0m\n\u001b[0;32m--> 319\u001b[0;31m     \u001b[0msum_op\u001b[0m \u001b[0;34m=\u001b[0m \u001b[0mI_\u001b[0m \u001b[0;34m*\u001b[0m \u001b[0mO_\u001b[0m\u001b[0;34m\u001b[0m\u001b[0;34m\u001b[0m\u001b[0m\n\u001b[0m\u001b[1;32m    320\u001b[0m \u001b[0;34m\u001b[0m\u001b[0m\n\u001b[1;32m    321\u001b[0m     \u001b[0;31m# Define new label\u001b[0m\u001b[0;34m\u001b[0m\u001b[0;34m\u001b[0m\u001b[0;34m\u001b[0m\u001b[0m\n",
      "\u001b[0;32m~/develop/llops/llops/operators/operators.py\u001b[0m in \u001b[0;36m__mul__\u001b[0;34m(self, x)\u001b[0m\n\u001b[1;32m    668\u001b[0m \u001b[0;34m\u001b[0m\u001b[0m\n\u001b[1;32m    669\u001b[0m     \u001b[0;32mdef\u001b[0m \u001b[0m__mul__\u001b[0m\u001b[0;34m(\u001b[0m\u001b[0mself\u001b[0m\u001b[0;34m,\u001b[0m \u001b[0mx\u001b[0m\u001b[0;34m)\u001b[0m\u001b[0;34m:\u001b[0m\u001b[0;34m\u001b[0m\u001b[0;34m\u001b[0m\u001b[0m\n\u001b[0;32m--> 670\u001b[0;31m         \u001b[0;32mreturn\u001b[0m \u001b[0mself\u001b[0m\u001b[0;34m.\u001b[0m\u001b[0mforward\u001b[0m\u001b[0;34m(\u001b[0m\u001b[0mx\u001b[0m\u001b[0;34m)\u001b[0m\u001b[0;34m\u001b[0m\u001b[0;34m\u001b[0m\u001b[0m\n\u001b[0m\u001b[1;32m    671\u001b[0m \u001b[0;34m\u001b[0m\u001b[0m\n\u001b[1;32m    672\u001b[0m     \u001b[0;32mdef\u001b[0m \u001b[0m__rmul__\u001b[0m\u001b[0;34m(\u001b[0m\u001b[0mself\u001b[0m\u001b[0;34m,\u001b[0m \u001b[0mx\u001b[0m\u001b[0;34m)\u001b[0m\u001b[0;34m:\u001b[0m\u001b[0;34m\u001b[0m\u001b[0;34m\u001b[0m\u001b[0m\n",
      "\u001b[0;32m~/develop/llops/llops/operators/operators.py\u001b[0m in \u001b[0;36mforward\u001b[0;34m(self, x, y)\u001b[0m\n\u001b[1;32m    270\u001b[0m         \u001b[0;32mif\u001b[0m \u001b[0mis_operator\u001b[0m\u001b[0;34m(\u001b[0m\u001b[0mx\u001b[0m\u001b[0;34m)\u001b[0m\u001b[0;34m:\u001b[0m\u001b[0;34m\u001b[0m\u001b[0;34m\u001b[0m\u001b[0m\n\u001b[1;32m    271\u001b[0m             \u001b[0;34m\"\"\"Operator Product \"\"\"\u001b[0m\u001b[0;34m\u001b[0m\u001b[0;34m\u001b[0m\u001b[0m\n\u001b[0;32m--> 272\u001b[0;31m             \u001b[0;32mreturn\u001b[0m \u001b[0m_ProductOperator\u001b[0m\u001b[0;34m(\u001b[0m\u001b[0mself\u001b[0m\u001b[0;34m,\u001b[0m \u001b[0mx\u001b[0m\u001b[0;34m)\u001b[0m\u001b[0;34m\u001b[0m\u001b[0;34m\u001b[0m\u001b[0m\n\u001b[0m\u001b[1;32m    273\u001b[0m \u001b[0;34m\u001b[0m\u001b[0m\n\u001b[1;32m    274\u001b[0m         \u001b[0;32melif\u001b[0m \u001b[0misscalar\u001b[0m\u001b[0;34m(\u001b[0m\u001b[0mx\u001b[0m\u001b[0;34m)\u001b[0m\u001b[0;34m:\u001b[0m\u001b[0;34m\u001b[0m\u001b[0;34m\u001b[0m\u001b[0m\n",
      "\u001b[0;32m~/develop/llops/llops/operators/operators.py\u001b[0m in \u001b[0;36m_ProductOperator\u001b[0;34m(A, B)\u001b[0m\n\u001b[1;32m   1121\u001b[0m     \u001b[0;31m# Check if outer-most operator is the inverse of the inner-most operator.\u001b[0m\u001b[0;34m\u001b[0m\u001b[0;34m\u001b[0m\u001b[0;34m\u001b[0m\u001b[0m\n\u001b[1;32m   1122\u001b[0m     \u001b[0;31m# If this is the case, strip these operators.\u001b[0m\u001b[0;34m\u001b[0m\u001b[0;34m\u001b[0m\u001b[0;34m\u001b[0m\u001b[0m\n\u001b[0;32m-> 1123\u001b[0;31m     \u001b[0;32mif\u001b[0m \u001b[0mA\u001b[0m\u001b[0;34m.\u001b[0m\u001b[0mlinear\u001b[0m \u001b[0;32mand\u001b[0m \u001b[0mA\u001b[0m\u001b[0;34m.\u001b[0m\u001b[0msuboperators\u001b[0m\u001b[0;34m[\u001b[0m\u001b[0;34m-\u001b[0m\u001b[0;36m1\u001b[0m\u001b[0;34m]\u001b[0m\u001b[0;34m.\u001b[0m\u001b[0mH\u001b[0m \u001b[0;34m==\u001b[0m \u001b[0mB\u001b[0m\u001b[0;34m.\u001b[0m\u001b[0msuboperators\u001b[0m\u001b[0;34m[\u001b[0m\u001b[0;36m0\u001b[0m\u001b[0;34m]\u001b[0m \u001b[0;32mand\u001b[0m \u001b[0mA\u001b[0m\u001b[0;34m.\u001b[0m\u001b[0msuboperators\u001b[0m\u001b[0;34m[\u001b[0m\u001b[0;34m-\u001b[0m\u001b[0;36m1\u001b[0m\u001b[0;34m]\u001b[0m\u001b[0;34m.\u001b[0m\u001b[0munitary\u001b[0m\u001b[0;34m:\u001b[0m\u001b[0;34m\u001b[0m\u001b[0;34m\u001b[0m\u001b[0m\n\u001b[0m\u001b[1;32m   1124\u001b[0m         \u001b[0;32mif\u001b[0m \u001b[0mB\u001b[0m\u001b[0;34m.\u001b[0m\u001b[0mcomposite\u001b[0m\u001b[0;34m:\u001b[0m\u001b[0;34m\u001b[0m\u001b[0;34m\u001b[0m\u001b[0m\n\u001b[1;32m   1125\u001b[0m             \u001b[0;32mreturn\u001b[0m \u001b[0myp\u001b[0m\u001b[0;34m.\u001b[0m\u001b[0mprod\u001b[0m\u001b[0;34m(\u001b[0m\u001b[0mA\u001b[0m\u001b[0;34m.\u001b[0m\u001b[0msuboperators\u001b[0m\u001b[0;34m[\u001b[0m\u001b[0;34m:\u001b[0m\u001b[0;34m-\u001b[0m\u001b[0;36m1\u001b[0m\u001b[0;34m]\u001b[0m \u001b[0;34m+\u001b[0m \u001b[0;34m[\u001b[0m\u001b[0mB\u001b[0m\u001b[0;34m.\u001b[0m\u001b[0minner_operators\u001b[0m\u001b[0;34m]\u001b[0m\u001b[0;34m)\u001b[0m\u001b[0;34m\u001b[0m\u001b[0;34m\u001b[0m\u001b[0m\n",
      "\u001b[0;32m~/develop/llops/llops/operators/operators.py\u001b[0m in \u001b[0;36m__eq__\u001b[0;34m(self, other)\u001b[0m\n\u001b[1;32m    699\u001b[0m     \u001b[0;32mdef\u001b[0m \u001b[0m__eq__\u001b[0m\u001b[0;34m(\u001b[0m\u001b[0mself\u001b[0m\u001b[0;34m,\u001b[0m \u001b[0mother\u001b[0m\u001b[0;34m)\u001b[0m\u001b[0;34m:\u001b[0m\u001b[0;34m\u001b[0m\u001b[0;34m\u001b[0m\u001b[0m\n\u001b[1;32m    700\u001b[0m         \u001b[0;34m\"\"\"Override the default Equals behavior\"\"\"\u001b[0m\u001b[0;34m\u001b[0m\u001b[0;34m\u001b[0m\u001b[0m\n\u001b[0;32m--> 701\u001b[0;31m         \u001b[0;32mreturn\u001b[0m \u001b[0;34m(\u001b[0m\u001b[0mhash\u001b[0m\u001b[0;34m(\u001b[0m\u001b[0mself\u001b[0m\u001b[0;34m)\u001b[0m \u001b[0;34m==\u001b[0m \u001b[0mhash\u001b[0m\u001b[0;34m(\u001b[0m\u001b[0mother\u001b[0m\u001b[0;34m)\u001b[0m\u001b[0;34m)\u001b[0m\u001b[0;34m\u001b[0m\u001b[0;34m\u001b[0m\u001b[0m\n\u001b[0m\u001b[1;32m    702\u001b[0m \u001b[0;34m\u001b[0m\u001b[0m\n\u001b[1;32m    703\u001b[0m     \u001b[0;32mdef\u001b[0m \u001b[0m__repr__\u001b[0m\u001b[0;34m(\u001b[0m\u001b[0mself\u001b[0m\u001b[0;34m)\u001b[0m\u001b[0;34m:\u001b[0m\u001b[0;34m\u001b[0m\u001b[0;34m\u001b[0m\u001b[0m\n",
      "\u001b[0;32m~/develop/llops/llops/operators/operators.py\u001b[0m in \u001b[0;36m__hash__\u001b[0;34m(self)\u001b[0m\n\u001b[1;32m    695\u001b[0m     \u001b[0;32mdef\u001b[0m \u001b[0m__hash__\u001b[0m\u001b[0;34m(\u001b[0m\u001b[0mself\u001b[0m\u001b[0;34m)\u001b[0m\u001b[0;34m:\u001b[0m\u001b[0;34m\u001b[0m\u001b[0;34m\u001b[0m\u001b[0m\n\u001b[1;32m    696\u001b[0m         return hash((self.label, self.repr_str, self.dtype, self.backend, str(self.shape), \n\u001b[0;32m--> 697\u001b[0;31m                      (str(self._get_argument_function()) if self.has_argument else None)))\n\u001b[0m\u001b[1;32m    698\u001b[0m \u001b[0;34m\u001b[0m\u001b[0m\n\u001b[1;32m    699\u001b[0m     \u001b[0;32mdef\u001b[0m \u001b[0m__eq__\u001b[0m\u001b[0;34m(\u001b[0m\u001b[0mself\u001b[0m\u001b[0;34m,\u001b[0m \u001b[0mother\u001b[0m\u001b[0;34m)\u001b[0m\u001b[0;34m:\u001b[0m\u001b[0;34m\u001b[0m\u001b[0;34m\u001b[0m\u001b[0m\n",
      "\u001b[0;32m~/develop/llops/llops/operators/stack.py\u001b[0m in \u001b[0;36m_get_argument_func\u001b[0;34m(self)\u001b[0m\n\u001b[1;32m    149\u001b[0m \u001b[0;34m\u001b[0m\u001b[0m\n\u001b[1;32m    150\u001b[0m     \u001b[0;32mdef\u001b[0m \u001b[0m_get_argument_func\u001b[0m\u001b[0;34m(\u001b[0m\u001b[0mself\u001b[0m\u001b[0;34m)\u001b[0m\u001b[0;34m:\u001b[0m\u001b[0;34m\u001b[0m\u001b[0;34m\u001b[0m\u001b[0m\n\u001b[0;32m--> 151\u001b[0;31m         \u001b[0;32mreturn\u001b[0m \u001b[0mprod\u001b[0m\u001b[0;34m(\u001b[0m\u001b[0;34m[\u001b[0m\u001b[0mop\u001b[0m\u001b[0;34m.\u001b[0m\u001b[0marguments\u001b[0m \u001b[0;32mfor\u001b[0m \u001b[0mop\u001b[0m \u001b[0;32min\u001b[0m \u001b[0mself\u001b[0m\u001b[0;34m.\u001b[0m\u001b[0mstack_operators\u001b[0m\u001b[0;34m]\u001b[0m\u001b[0;34m)\u001b[0m\u001b[0;34m\u001b[0m\u001b[0;34m\u001b[0m\u001b[0m\n\u001b[0m\u001b[1;32m    152\u001b[0m \u001b[0;34m\u001b[0m\u001b[0m\n\u001b[1;32m    153\u001b[0m     \u001b[0;32mdef\u001b[0m \u001b[0m_set_argument_func\u001b[0m\u001b[0;34m(\u001b[0m\u001b[0mself\u001b[0m\u001b[0;34m,\u001b[0m \u001b[0mnew_arguments\u001b[0m\u001b[0;34m)\u001b[0m\u001b[0;34m:\u001b[0m\u001b[0;34m\u001b[0m\u001b[0;34m\u001b[0m\u001b[0m\n",
      "\u001b[0;32m~/develop/llops/llops/operators/stack.py\u001b[0m in \u001b[0;36m<listcomp>\u001b[0;34m(.0)\u001b[0m\n\u001b[1;32m    149\u001b[0m \u001b[0;34m\u001b[0m\u001b[0m\n\u001b[1;32m    150\u001b[0m     \u001b[0;32mdef\u001b[0m \u001b[0m_get_argument_func\u001b[0m\u001b[0;34m(\u001b[0m\u001b[0mself\u001b[0m\u001b[0;34m)\u001b[0m\u001b[0;34m:\u001b[0m\u001b[0;34m\u001b[0m\u001b[0;34m\u001b[0m\u001b[0m\n\u001b[0;32m--> 151\u001b[0;31m         \u001b[0;32mreturn\u001b[0m \u001b[0mprod\u001b[0m\u001b[0;34m(\u001b[0m\u001b[0;34m[\u001b[0m\u001b[0mop\u001b[0m\u001b[0;34m.\u001b[0m\u001b[0marguments\u001b[0m \u001b[0;32mfor\u001b[0m \u001b[0mop\u001b[0m \u001b[0;32min\u001b[0m \u001b[0mself\u001b[0m\u001b[0;34m.\u001b[0m\u001b[0mstack_operators\u001b[0m\u001b[0;34m]\u001b[0m\u001b[0;34m)\u001b[0m\u001b[0;34m\u001b[0m\u001b[0;34m\u001b[0m\u001b[0m\n\u001b[0m\u001b[1;32m    152\u001b[0m \u001b[0;34m\u001b[0m\u001b[0m\n\u001b[1;32m    153\u001b[0m     \u001b[0;32mdef\u001b[0m \u001b[0m_set_argument_func\u001b[0m\u001b[0;34m(\u001b[0m\u001b[0mself\u001b[0m\u001b[0;34m,\u001b[0m \u001b[0mnew_arguments\u001b[0m\u001b[0;34m)\u001b[0m\u001b[0;34m:\u001b[0m\u001b[0;34m\u001b[0m\u001b[0;34m\u001b[0m\u001b[0m\n",
      "\u001b[0;31mAttributeError\u001b[0m: 'Identity' object has no attribute 'arguments'"
     ]
    }
   ],
   "source": [
    "# Sum of operators\n",
    "S = ops.OperatorSum(op_list_nonlinear)\n",
    "\n",
    "# Check forward operator\n",
    "assert yp.sum(yp.abs(S * x - sum([op_list_nonlinear[i] * x for i in range(len(op_list_nonlinear))]))) < eps, '%f' % yp.sum(yp.abs(S * x - sum([op_list_nonlinear[i] * x for i in range(len(op_list_nonlinear))])))\n",
    "\n",
    "# Check gradient\n",
    "S.gradient_check()\n",
    "\n",
    "# Render forward model\n",
    "S.latex()\n",
    "\n",
    "# Render gradient\n",
    "S.latex(gradient=True)"
   ]
  },
  {
   "cell_type": "markdown",
   "metadata": {},
   "source": [
    "### Sum of Exponentials"
   ]
  },
  {
   "cell_type": "code",
   "execution_count": 53,
   "metadata": {
    "ExecuteTime": {
     "end_time": "2019-05-02T18:56:24.771098Z",
     "start_time": "2019-05-02T18:56:24.731285Z"
    },
    "scrolled": false
   },
   "outputs": [
    {
     "output_type": "error",
     "ename": "AttributeError",
     "evalue": "'Identity' object has no attribute 'arguments'",
     "traceback": [
      "\u001b[0;31m---------------------------------------------------------------------------\u001b[0m",
      "\u001b[0;31mAttributeError\u001b[0m                            Traceback (most recent call last)",
      "\u001b[0;32m<ipython-input-53-f704d9d87dc7>\u001b[0m in \u001b[0;36m<module>\u001b[0;34m\u001b[0m\n\u001b[1;32m      3\u001b[0m \u001b[0;34m\u001b[0m\u001b[0m\n\u001b[1;32m      4\u001b[0m \u001b[0;31m# Sum of operators\u001b[0m\u001b[0;34m\u001b[0m\u001b[0;34m\u001b[0m\u001b[0;34m\u001b[0m\u001b[0m\n\u001b[0;32m----> 5\u001b[0;31m \u001b[0mS\u001b[0m \u001b[0;34m=\u001b[0m \u001b[0mops\u001b[0m\u001b[0;34m.\u001b[0m\u001b[0mOperatorSum\u001b[0m\u001b[0;34m(\u001b[0m\u001b[0mexp_list\u001b[0m\u001b[0;34m)\u001b[0m\u001b[0;34m\u001b[0m\u001b[0;34m\u001b[0m\u001b[0m\n\u001b[0m\u001b[1;32m      6\u001b[0m \u001b[0;34m\u001b[0m\u001b[0m\n\u001b[1;32m      7\u001b[0m \u001b[0;31m# Check forward operator\u001b[0m\u001b[0;34m\u001b[0m\u001b[0;34m\u001b[0m\u001b[0;34m\u001b[0m\u001b[0m\n",
      "\u001b[0;32m~/develop/llops/llops/operators/composite.py\u001b[0m in \u001b[0;36mOperatorSum\u001b[0;34m(op_list)\u001b[0m\n\u001b[1;32m    317\u001b[0m \u001b[0;34m\u001b[0m\u001b[0m\n\u001b[1;32m    318\u001b[0m     \u001b[0;31m# This is the operator we're going to return - just need to over-ride (monkey-patch) a few methods\u001b[0m\u001b[0;34m\u001b[0m\u001b[0;34m\u001b[0m\u001b[0;34m\u001b[0m\u001b[0m\n\u001b[0;32m--> 319\u001b[0;31m     \u001b[0msum_op\u001b[0m \u001b[0;34m=\u001b[0m \u001b[0mI_\u001b[0m \u001b[0;34m*\u001b[0m \u001b[0mO_\u001b[0m\u001b[0;34m\u001b[0m\u001b[0;34m\u001b[0m\u001b[0m\n\u001b[0m\u001b[1;32m    320\u001b[0m \u001b[0;34m\u001b[0m\u001b[0m\n\u001b[1;32m    321\u001b[0m     \u001b[0;31m# Define new label\u001b[0m\u001b[0;34m\u001b[0m\u001b[0;34m\u001b[0m\u001b[0;34m\u001b[0m\u001b[0m\n",
      "\u001b[0;32m~/develop/llops/llops/operators/operators.py\u001b[0m in \u001b[0;36m__mul__\u001b[0;34m(self, x)\u001b[0m\n\u001b[1;32m    668\u001b[0m \u001b[0;34m\u001b[0m\u001b[0m\n\u001b[1;32m    669\u001b[0m     \u001b[0;32mdef\u001b[0m \u001b[0m__mul__\u001b[0m\u001b[0;34m(\u001b[0m\u001b[0mself\u001b[0m\u001b[0;34m,\u001b[0m \u001b[0mx\u001b[0m\u001b[0;34m)\u001b[0m\u001b[0;34m:\u001b[0m\u001b[0;34m\u001b[0m\u001b[0;34m\u001b[0m\u001b[0m\n\u001b[0;32m--> 670\u001b[0;31m         \u001b[0;32mreturn\u001b[0m \u001b[0mself\u001b[0m\u001b[0;34m.\u001b[0m\u001b[0mforward\u001b[0m\u001b[0;34m(\u001b[0m\u001b[0mx\u001b[0m\u001b[0;34m)\u001b[0m\u001b[0;34m\u001b[0m\u001b[0;34m\u001b[0m\u001b[0m\n\u001b[0m\u001b[1;32m    671\u001b[0m \u001b[0;34m\u001b[0m\u001b[0m\n\u001b[1;32m    672\u001b[0m     \u001b[0;32mdef\u001b[0m \u001b[0m__rmul__\u001b[0m\u001b[0;34m(\u001b[0m\u001b[0mself\u001b[0m\u001b[0;34m,\u001b[0m \u001b[0mx\u001b[0m\u001b[0;34m)\u001b[0m\u001b[0;34m:\u001b[0m\u001b[0;34m\u001b[0m\u001b[0;34m\u001b[0m\u001b[0m\n",
      "\u001b[0;32m~/develop/llops/llops/operators/operators.py\u001b[0m in \u001b[0;36mforward\u001b[0;34m(self, x, y)\u001b[0m\n\u001b[1;32m    270\u001b[0m         \u001b[0;32mif\u001b[0m \u001b[0mis_operator\u001b[0m\u001b[0;34m(\u001b[0m\u001b[0mx\u001b[0m\u001b[0;34m)\u001b[0m\u001b[0;34m:\u001b[0m\u001b[0;34m\u001b[0m\u001b[0;34m\u001b[0m\u001b[0m\n\u001b[1;32m    271\u001b[0m             \u001b[0;34m\"\"\"Operator Product \"\"\"\u001b[0m\u001b[0;34m\u001b[0m\u001b[0;34m\u001b[0m\u001b[0m\n\u001b[0;32m--> 272\u001b[0;31m             \u001b[0;32mreturn\u001b[0m \u001b[0m_ProductOperator\u001b[0m\u001b[0;34m(\u001b[0m\u001b[0mself\u001b[0m\u001b[0;34m,\u001b[0m \u001b[0mx\u001b[0m\u001b[0;34m)\u001b[0m\u001b[0;34m\u001b[0m\u001b[0;34m\u001b[0m\u001b[0m\n\u001b[0m\u001b[1;32m    273\u001b[0m \u001b[0;34m\u001b[0m\u001b[0m\n\u001b[1;32m    274\u001b[0m         \u001b[0;32melif\u001b[0m \u001b[0misscalar\u001b[0m\u001b[0;34m(\u001b[0m\u001b[0mx\u001b[0m\u001b[0;34m)\u001b[0m\u001b[0;34m:\u001b[0m\u001b[0;34m\u001b[0m\u001b[0;34m\u001b[0m\u001b[0m\n",
      "\u001b[0;32m~/develop/llops/llops/operators/operators.py\u001b[0m in \u001b[0;36m_ProductOperator\u001b[0;34m(A, B)\u001b[0m\n\u001b[1;32m   1121\u001b[0m     \u001b[0;31m# Check if outer-most operator is the inverse of the inner-most operator.\u001b[0m\u001b[0;34m\u001b[0m\u001b[0;34m\u001b[0m\u001b[0;34m\u001b[0m\u001b[0m\n\u001b[1;32m   1122\u001b[0m     \u001b[0;31m# If this is the case, strip these operators.\u001b[0m\u001b[0;34m\u001b[0m\u001b[0;34m\u001b[0m\u001b[0;34m\u001b[0m\u001b[0m\n\u001b[0;32m-> 1123\u001b[0;31m     \u001b[0;32mif\u001b[0m \u001b[0mA\u001b[0m\u001b[0;34m.\u001b[0m\u001b[0mlinear\u001b[0m \u001b[0;32mand\u001b[0m \u001b[0mA\u001b[0m\u001b[0;34m.\u001b[0m\u001b[0msuboperators\u001b[0m\u001b[0;34m[\u001b[0m\u001b[0;34m-\u001b[0m\u001b[0;36m1\u001b[0m\u001b[0;34m]\u001b[0m\u001b[0;34m.\u001b[0m\u001b[0mH\u001b[0m \u001b[0;34m==\u001b[0m \u001b[0mB\u001b[0m\u001b[0;34m.\u001b[0m\u001b[0msuboperators\u001b[0m\u001b[0;34m[\u001b[0m\u001b[0;36m0\u001b[0m\u001b[0;34m]\u001b[0m \u001b[0;32mand\u001b[0m \u001b[0mA\u001b[0m\u001b[0;34m.\u001b[0m\u001b[0msuboperators\u001b[0m\u001b[0;34m[\u001b[0m\u001b[0;34m-\u001b[0m\u001b[0;36m1\u001b[0m\u001b[0;34m]\u001b[0m\u001b[0;34m.\u001b[0m\u001b[0munitary\u001b[0m\u001b[0;34m:\u001b[0m\u001b[0;34m\u001b[0m\u001b[0;34m\u001b[0m\u001b[0m\n\u001b[0m\u001b[1;32m   1124\u001b[0m         \u001b[0;32mif\u001b[0m \u001b[0mB\u001b[0m\u001b[0;34m.\u001b[0m\u001b[0mcomposite\u001b[0m\u001b[0;34m:\u001b[0m\u001b[0;34m\u001b[0m\u001b[0;34m\u001b[0m\u001b[0m\n\u001b[1;32m   1125\u001b[0m             \u001b[0;32mreturn\u001b[0m \u001b[0myp\u001b[0m\u001b[0;34m.\u001b[0m\u001b[0mprod\u001b[0m\u001b[0;34m(\u001b[0m\u001b[0mA\u001b[0m\u001b[0;34m.\u001b[0m\u001b[0msuboperators\u001b[0m\u001b[0;34m[\u001b[0m\u001b[0;34m:\u001b[0m\u001b[0;34m-\u001b[0m\u001b[0;36m1\u001b[0m\u001b[0;34m]\u001b[0m \u001b[0;34m+\u001b[0m \u001b[0;34m[\u001b[0m\u001b[0mB\u001b[0m\u001b[0;34m.\u001b[0m\u001b[0minner_operators\u001b[0m\u001b[0;34m]\u001b[0m\u001b[0;34m)\u001b[0m\u001b[0;34m\u001b[0m\u001b[0;34m\u001b[0m\u001b[0m\n",
      "\u001b[0;32m~/develop/llops/llops/operators/operators.py\u001b[0m in \u001b[0;36m__eq__\u001b[0;34m(self, other)\u001b[0m\n\u001b[1;32m    699\u001b[0m     \u001b[0;32mdef\u001b[0m \u001b[0m__eq__\u001b[0m\u001b[0;34m(\u001b[0m\u001b[0mself\u001b[0m\u001b[0;34m,\u001b[0m \u001b[0mother\u001b[0m\u001b[0;34m)\u001b[0m\u001b[0;34m:\u001b[0m\u001b[0;34m\u001b[0m\u001b[0;34m\u001b[0m\u001b[0m\n\u001b[1;32m    700\u001b[0m         \u001b[0;34m\"\"\"Override the default Equals behavior\"\"\"\u001b[0m\u001b[0;34m\u001b[0m\u001b[0;34m\u001b[0m\u001b[0m\n\u001b[0;32m--> 701\u001b[0;31m         \u001b[0;32mreturn\u001b[0m \u001b[0;34m(\u001b[0m\u001b[0mhash\u001b[0m\u001b[0;34m(\u001b[0m\u001b[0mself\u001b[0m\u001b[0;34m)\u001b[0m \u001b[0;34m==\u001b[0m \u001b[0mhash\u001b[0m\u001b[0;34m(\u001b[0m\u001b[0mother\u001b[0m\u001b[0;34m)\u001b[0m\u001b[0;34m)\u001b[0m\u001b[0;34m\u001b[0m\u001b[0;34m\u001b[0m\u001b[0m\n\u001b[0m\u001b[1;32m    702\u001b[0m \u001b[0;34m\u001b[0m\u001b[0m\n\u001b[1;32m    703\u001b[0m     \u001b[0;32mdef\u001b[0m \u001b[0m__repr__\u001b[0m\u001b[0;34m(\u001b[0m\u001b[0mself\u001b[0m\u001b[0;34m)\u001b[0m\u001b[0;34m:\u001b[0m\u001b[0;34m\u001b[0m\u001b[0;34m\u001b[0m\u001b[0m\n",
      "\u001b[0;32m~/develop/llops/llops/operators/operators.py\u001b[0m in \u001b[0;36m__hash__\u001b[0;34m(self)\u001b[0m\n\u001b[1;32m    695\u001b[0m     \u001b[0;32mdef\u001b[0m \u001b[0m__hash__\u001b[0m\u001b[0;34m(\u001b[0m\u001b[0mself\u001b[0m\u001b[0;34m)\u001b[0m\u001b[0;34m:\u001b[0m\u001b[0;34m\u001b[0m\u001b[0;34m\u001b[0m\u001b[0m\n\u001b[1;32m    696\u001b[0m         return hash((self.label, self.repr_str, self.dtype, self.backend, str(self.shape), \n\u001b[0;32m--> 697\u001b[0;31m                      (str(self._get_argument_function()) if self.has_argument else None)))\n\u001b[0m\u001b[1;32m    698\u001b[0m \u001b[0;34m\u001b[0m\u001b[0m\n\u001b[1;32m    699\u001b[0m     \u001b[0;32mdef\u001b[0m \u001b[0m__eq__\u001b[0m\u001b[0;34m(\u001b[0m\u001b[0mself\u001b[0m\u001b[0;34m,\u001b[0m \u001b[0mother\u001b[0m\u001b[0;34m)\u001b[0m\u001b[0;34m:\u001b[0m\u001b[0;34m\u001b[0m\u001b[0;34m\u001b[0m\u001b[0m\n",
      "\u001b[0;32m~/develop/llops/llops/operators/stack.py\u001b[0m in \u001b[0;36m_get_argument_func\u001b[0;34m(self)\u001b[0m\n\u001b[1;32m    149\u001b[0m \u001b[0;34m\u001b[0m\u001b[0m\n\u001b[1;32m    150\u001b[0m     \u001b[0;32mdef\u001b[0m \u001b[0m_get_argument_func\u001b[0m\u001b[0;34m(\u001b[0m\u001b[0mself\u001b[0m\u001b[0;34m)\u001b[0m\u001b[0;34m:\u001b[0m\u001b[0;34m\u001b[0m\u001b[0;34m\u001b[0m\u001b[0m\n\u001b[0;32m--> 151\u001b[0;31m         \u001b[0;32mreturn\u001b[0m \u001b[0mprod\u001b[0m\u001b[0;34m(\u001b[0m\u001b[0;34m[\u001b[0m\u001b[0mop\u001b[0m\u001b[0;34m.\u001b[0m\u001b[0marguments\u001b[0m \u001b[0;32mfor\u001b[0m \u001b[0mop\u001b[0m \u001b[0;32min\u001b[0m \u001b[0mself\u001b[0m\u001b[0;34m.\u001b[0m\u001b[0mstack_operators\u001b[0m\u001b[0;34m]\u001b[0m\u001b[0;34m)\u001b[0m\u001b[0;34m\u001b[0m\u001b[0;34m\u001b[0m\u001b[0m\n\u001b[0m\u001b[1;32m    152\u001b[0m \u001b[0;34m\u001b[0m\u001b[0m\n\u001b[1;32m    153\u001b[0m     \u001b[0;32mdef\u001b[0m \u001b[0m_set_argument_func\u001b[0m\u001b[0;34m(\u001b[0m\u001b[0mself\u001b[0m\u001b[0;34m,\u001b[0m \u001b[0mnew_arguments\u001b[0m\u001b[0;34m)\u001b[0m\u001b[0;34m:\u001b[0m\u001b[0;34m\u001b[0m\u001b[0;34m\u001b[0m\u001b[0m\n",
      "\u001b[0;32m~/develop/llops/llops/operators/stack.py\u001b[0m in \u001b[0;36m<listcomp>\u001b[0;34m(.0)\u001b[0m\n\u001b[1;32m    149\u001b[0m \u001b[0;34m\u001b[0m\u001b[0m\n\u001b[1;32m    150\u001b[0m     \u001b[0;32mdef\u001b[0m \u001b[0m_get_argument_func\u001b[0m\u001b[0;34m(\u001b[0m\u001b[0mself\u001b[0m\u001b[0;34m)\u001b[0m\u001b[0;34m:\u001b[0m\u001b[0;34m\u001b[0m\u001b[0;34m\u001b[0m\u001b[0m\n\u001b[0;32m--> 151\u001b[0;31m         \u001b[0;32mreturn\u001b[0m \u001b[0mprod\u001b[0m\u001b[0;34m(\u001b[0m\u001b[0;34m[\u001b[0m\u001b[0mop\u001b[0m\u001b[0;34m.\u001b[0m\u001b[0marguments\u001b[0m \u001b[0;32mfor\u001b[0m \u001b[0mop\u001b[0m \u001b[0;32min\u001b[0m \u001b[0mself\u001b[0m\u001b[0;34m.\u001b[0m\u001b[0mstack_operators\u001b[0m\u001b[0;34m]\u001b[0m\u001b[0;34m)\u001b[0m\u001b[0;34m\u001b[0m\u001b[0;34m\u001b[0m\u001b[0m\n\u001b[0m\u001b[1;32m    152\u001b[0m \u001b[0;34m\u001b[0m\u001b[0m\n\u001b[1;32m    153\u001b[0m     \u001b[0;32mdef\u001b[0m \u001b[0m_set_argument_func\u001b[0m\u001b[0;34m(\u001b[0m\u001b[0mself\u001b[0m\u001b[0;34m,\u001b[0m \u001b[0mnew_arguments\u001b[0m\u001b[0;34m)\u001b[0m\u001b[0;34m:\u001b[0m\u001b[0;34m\u001b[0m\u001b[0;34m\u001b[0m\u001b[0m\n",
      "\u001b[0;31mAttributeError\u001b[0m: 'Identity' object has no attribute 'arguments'"
     ]
    }
   ],
   "source": [
    "EXP = ops.Exponential(image_size)\n",
    "exp_list = [EXP] * 5\n",
    "\n",
    "# Sum of operators\n",
    "S = ops.OperatorSum(exp_list)\n",
    "\n",
    "# Check forward operator\n",
    "assert yp.sum(yp.abs(S * x - sum([exp_list[i] * x for i in range(len(exp_list))]))) < eps, '%f' % yp.sum(yp.abs(S * x - sum([exp_list[i] * x for i in range(len(exp_list))])))\n",
    "\n",
    "# Check gradient\n",
    "S.gradient_check()\n",
    "\n",
    "# print latex\n",
    "S.latex()"
   ]
  },
  {
   "cell_type": "markdown",
   "metadata": {
    "ExecuteTime": {
     "end_time": "2018-04-26T23:08:19.089223Z",
     "start_time": "2018-04-26T23:08:19.036646Z"
    }
   },
   "source": [
    "### Sum of Phase Ramps"
   ]
  },
  {
   "cell_type": "code",
   "execution_count": 54,
   "metadata": {
    "ExecuteTime": {
     "end_time": "2019-05-02T18:56:25.834834Z",
     "start_time": "2019-05-02T18:56:25.766147Z"
    },
    "scrolled": false
   },
   "outputs": [
    {
     "output_type": "error",
     "ename": "AttributeError",
     "evalue": "'Identity' object has no attribute 'arguments'",
     "traceback": [
      "\u001b[0;31m---------------------------------------------------------------------------\u001b[0m",
      "\u001b[0;31mAttributeError\u001b[0m                            Traceback (most recent call last)",
      "\u001b[0;32m<ipython-input-54-a87c24152809>\u001b[0m in \u001b[0;36m<module>\u001b[0;34m\u001b[0m\n\u001b[1;32m      7\u001b[0m \u001b[0;34m\u001b[0m\u001b[0m\n\u001b[1;32m      8\u001b[0m \u001b[0;31m# Sum of operators\u001b[0m\u001b[0;34m\u001b[0m\u001b[0;34m\u001b[0m\u001b[0;34m\u001b[0m\u001b[0m\n\u001b[0;32m----> 9\u001b[0;31m \u001b[0mS\u001b[0m \u001b[0;34m=\u001b[0m \u001b[0mops\u001b[0m\u001b[0;34m.\u001b[0m\u001b[0mOperatorSum\u001b[0m\u001b[0;34m(\u001b[0m\u001b[0mr_list\u001b[0m\u001b[0;34m)\u001b[0m\u001b[0;34m\u001b[0m\u001b[0;34m\u001b[0m\u001b[0m\n\u001b[0m\u001b[1;32m     10\u001b[0m \u001b[0;34m\u001b[0m\u001b[0m\n\u001b[1;32m     11\u001b[0m \u001b[0;31m# Check forward operator\u001b[0m\u001b[0;34m\u001b[0m\u001b[0;34m\u001b[0m\u001b[0;34m\u001b[0m\u001b[0m\n",
      "\u001b[0;32m~/develop/llops/llops/operators/composite.py\u001b[0m in \u001b[0;36mOperatorSum\u001b[0;34m(op_list)\u001b[0m\n\u001b[1;32m    317\u001b[0m \u001b[0;34m\u001b[0m\u001b[0m\n\u001b[1;32m    318\u001b[0m     \u001b[0;31m# This is the operator we're going to return - just need to over-ride (monkey-patch) a few methods\u001b[0m\u001b[0;34m\u001b[0m\u001b[0;34m\u001b[0m\u001b[0;34m\u001b[0m\u001b[0m\n\u001b[0;32m--> 319\u001b[0;31m     \u001b[0msum_op\u001b[0m \u001b[0;34m=\u001b[0m \u001b[0mI_\u001b[0m \u001b[0;34m*\u001b[0m \u001b[0mO_\u001b[0m\u001b[0;34m\u001b[0m\u001b[0;34m\u001b[0m\u001b[0m\n\u001b[0m\u001b[1;32m    320\u001b[0m \u001b[0;34m\u001b[0m\u001b[0m\n\u001b[1;32m    321\u001b[0m     \u001b[0;31m# Define new label\u001b[0m\u001b[0;34m\u001b[0m\u001b[0;34m\u001b[0m\u001b[0;34m\u001b[0m\u001b[0m\n",
      "\u001b[0;32m~/develop/llops/llops/operators/operators.py\u001b[0m in \u001b[0;36m__mul__\u001b[0;34m(self, x)\u001b[0m\n\u001b[1;32m    668\u001b[0m \u001b[0;34m\u001b[0m\u001b[0m\n\u001b[1;32m    669\u001b[0m     \u001b[0;32mdef\u001b[0m \u001b[0m__mul__\u001b[0m\u001b[0;34m(\u001b[0m\u001b[0mself\u001b[0m\u001b[0;34m,\u001b[0m \u001b[0mx\u001b[0m\u001b[0;34m)\u001b[0m\u001b[0;34m:\u001b[0m\u001b[0;34m\u001b[0m\u001b[0;34m\u001b[0m\u001b[0m\n\u001b[0;32m--> 670\u001b[0;31m         \u001b[0;32mreturn\u001b[0m \u001b[0mself\u001b[0m\u001b[0;34m.\u001b[0m\u001b[0mforward\u001b[0m\u001b[0;34m(\u001b[0m\u001b[0mx\u001b[0m\u001b[0;34m)\u001b[0m\u001b[0;34m\u001b[0m\u001b[0;34m\u001b[0m\u001b[0m\n\u001b[0m\u001b[1;32m    671\u001b[0m \u001b[0;34m\u001b[0m\u001b[0m\n\u001b[1;32m    672\u001b[0m     \u001b[0;32mdef\u001b[0m \u001b[0m__rmul__\u001b[0m\u001b[0;34m(\u001b[0m\u001b[0mself\u001b[0m\u001b[0;34m,\u001b[0m \u001b[0mx\u001b[0m\u001b[0;34m)\u001b[0m\u001b[0;34m:\u001b[0m\u001b[0;34m\u001b[0m\u001b[0;34m\u001b[0m\u001b[0m\n",
      "\u001b[0;32m~/develop/llops/llops/operators/operators.py\u001b[0m in \u001b[0;36mforward\u001b[0;34m(self, x, y)\u001b[0m\n\u001b[1;32m    270\u001b[0m         \u001b[0;32mif\u001b[0m \u001b[0mis_operator\u001b[0m\u001b[0;34m(\u001b[0m\u001b[0mx\u001b[0m\u001b[0;34m)\u001b[0m\u001b[0;34m:\u001b[0m\u001b[0;34m\u001b[0m\u001b[0;34m\u001b[0m\u001b[0m\n\u001b[1;32m    271\u001b[0m             \u001b[0;34m\"\"\"Operator Product \"\"\"\u001b[0m\u001b[0;34m\u001b[0m\u001b[0;34m\u001b[0m\u001b[0m\n\u001b[0;32m--> 272\u001b[0;31m             \u001b[0;32mreturn\u001b[0m \u001b[0m_ProductOperator\u001b[0m\u001b[0;34m(\u001b[0m\u001b[0mself\u001b[0m\u001b[0;34m,\u001b[0m \u001b[0mx\u001b[0m\u001b[0;34m)\u001b[0m\u001b[0;34m\u001b[0m\u001b[0;34m\u001b[0m\u001b[0m\n\u001b[0m\u001b[1;32m    273\u001b[0m \u001b[0;34m\u001b[0m\u001b[0m\n\u001b[1;32m    274\u001b[0m         \u001b[0;32melif\u001b[0m \u001b[0misscalar\u001b[0m\u001b[0;34m(\u001b[0m\u001b[0mx\u001b[0m\u001b[0;34m)\u001b[0m\u001b[0;34m:\u001b[0m\u001b[0;34m\u001b[0m\u001b[0;34m\u001b[0m\u001b[0m\n",
      "\u001b[0;32m~/develop/llops/llops/operators/operators.py\u001b[0m in \u001b[0;36m_ProductOperator\u001b[0;34m(A, B)\u001b[0m\n\u001b[1;32m   1121\u001b[0m     \u001b[0;31m# Check if outer-most operator is the inverse of the inner-most operator.\u001b[0m\u001b[0;34m\u001b[0m\u001b[0;34m\u001b[0m\u001b[0;34m\u001b[0m\u001b[0m\n\u001b[1;32m   1122\u001b[0m     \u001b[0;31m# If this is the case, strip these operators.\u001b[0m\u001b[0;34m\u001b[0m\u001b[0;34m\u001b[0m\u001b[0;34m\u001b[0m\u001b[0m\n\u001b[0;32m-> 1123\u001b[0;31m     \u001b[0;32mif\u001b[0m \u001b[0mA\u001b[0m\u001b[0;34m.\u001b[0m\u001b[0mlinear\u001b[0m \u001b[0;32mand\u001b[0m \u001b[0mA\u001b[0m\u001b[0;34m.\u001b[0m\u001b[0msuboperators\u001b[0m\u001b[0;34m[\u001b[0m\u001b[0;34m-\u001b[0m\u001b[0;36m1\u001b[0m\u001b[0;34m]\u001b[0m\u001b[0;34m.\u001b[0m\u001b[0mH\u001b[0m \u001b[0;34m==\u001b[0m \u001b[0mB\u001b[0m\u001b[0;34m.\u001b[0m\u001b[0msuboperators\u001b[0m\u001b[0;34m[\u001b[0m\u001b[0;36m0\u001b[0m\u001b[0;34m]\u001b[0m \u001b[0;32mand\u001b[0m \u001b[0mA\u001b[0m\u001b[0;34m.\u001b[0m\u001b[0msuboperators\u001b[0m\u001b[0;34m[\u001b[0m\u001b[0;34m-\u001b[0m\u001b[0;36m1\u001b[0m\u001b[0;34m]\u001b[0m\u001b[0;34m.\u001b[0m\u001b[0munitary\u001b[0m\u001b[0;34m:\u001b[0m\u001b[0;34m\u001b[0m\u001b[0;34m\u001b[0m\u001b[0m\n\u001b[0m\u001b[1;32m   1124\u001b[0m         \u001b[0;32mif\u001b[0m \u001b[0mB\u001b[0m\u001b[0;34m.\u001b[0m\u001b[0mcomposite\u001b[0m\u001b[0;34m:\u001b[0m\u001b[0;34m\u001b[0m\u001b[0;34m\u001b[0m\u001b[0m\n\u001b[1;32m   1125\u001b[0m             \u001b[0;32mreturn\u001b[0m \u001b[0myp\u001b[0m\u001b[0;34m.\u001b[0m\u001b[0mprod\u001b[0m\u001b[0;34m(\u001b[0m\u001b[0mA\u001b[0m\u001b[0;34m.\u001b[0m\u001b[0msuboperators\u001b[0m\u001b[0;34m[\u001b[0m\u001b[0;34m:\u001b[0m\u001b[0;34m-\u001b[0m\u001b[0;36m1\u001b[0m\u001b[0;34m]\u001b[0m \u001b[0;34m+\u001b[0m \u001b[0;34m[\u001b[0m\u001b[0mB\u001b[0m\u001b[0;34m.\u001b[0m\u001b[0minner_operators\u001b[0m\u001b[0;34m]\u001b[0m\u001b[0;34m)\u001b[0m\u001b[0;34m\u001b[0m\u001b[0;34m\u001b[0m\u001b[0m\n",
      "\u001b[0;32m~/develop/llops/llops/operators/operators.py\u001b[0m in \u001b[0;36m__eq__\u001b[0;34m(self, other)\u001b[0m\n\u001b[1;32m    699\u001b[0m     \u001b[0;32mdef\u001b[0m \u001b[0m__eq__\u001b[0m\u001b[0;34m(\u001b[0m\u001b[0mself\u001b[0m\u001b[0;34m,\u001b[0m \u001b[0mother\u001b[0m\u001b[0;34m)\u001b[0m\u001b[0;34m:\u001b[0m\u001b[0;34m\u001b[0m\u001b[0;34m\u001b[0m\u001b[0m\n\u001b[1;32m    700\u001b[0m         \u001b[0;34m\"\"\"Override the default Equals behavior\"\"\"\u001b[0m\u001b[0;34m\u001b[0m\u001b[0;34m\u001b[0m\u001b[0m\n\u001b[0;32m--> 701\u001b[0;31m         \u001b[0;32mreturn\u001b[0m \u001b[0;34m(\u001b[0m\u001b[0mhash\u001b[0m\u001b[0;34m(\u001b[0m\u001b[0mself\u001b[0m\u001b[0;34m)\u001b[0m \u001b[0;34m==\u001b[0m \u001b[0mhash\u001b[0m\u001b[0;34m(\u001b[0m\u001b[0mother\u001b[0m\u001b[0;34m)\u001b[0m\u001b[0;34m)\u001b[0m\u001b[0;34m\u001b[0m\u001b[0;34m\u001b[0m\u001b[0m\n\u001b[0m\u001b[1;32m    702\u001b[0m \u001b[0;34m\u001b[0m\u001b[0m\n\u001b[1;32m    703\u001b[0m     \u001b[0;32mdef\u001b[0m \u001b[0m__repr__\u001b[0m\u001b[0;34m(\u001b[0m\u001b[0mself\u001b[0m\u001b[0;34m)\u001b[0m\u001b[0;34m:\u001b[0m\u001b[0;34m\u001b[0m\u001b[0;34m\u001b[0m\u001b[0m\n",
      "\u001b[0;32m~/develop/llops/llops/operators/operators.py\u001b[0m in \u001b[0;36m__hash__\u001b[0;34m(self)\u001b[0m\n\u001b[1;32m    695\u001b[0m     \u001b[0;32mdef\u001b[0m \u001b[0m__hash__\u001b[0m\u001b[0;34m(\u001b[0m\u001b[0mself\u001b[0m\u001b[0;34m)\u001b[0m\u001b[0;34m:\u001b[0m\u001b[0;34m\u001b[0m\u001b[0;34m\u001b[0m\u001b[0m\n\u001b[1;32m    696\u001b[0m         return hash((self.label, self.repr_str, self.dtype, self.backend, str(self.shape), \n\u001b[0;32m--> 697\u001b[0;31m                      (str(self._get_argument_function()) if self.has_argument else None)))\n\u001b[0m\u001b[1;32m    698\u001b[0m \u001b[0;34m\u001b[0m\u001b[0m\n\u001b[1;32m    699\u001b[0m     \u001b[0;32mdef\u001b[0m \u001b[0m__eq__\u001b[0m\u001b[0;34m(\u001b[0m\u001b[0mself\u001b[0m\u001b[0;34m,\u001b[0m \u001b[0mother\u001b[0m\u001b[0;34m)\u001b[0m\u001b[0;34m:\u001b[0m\u001b[0;34m\u001b[0m\u001b[0;34m\u001b[0m\u001b[0m\n",
      "\u001b[0;32m~/develop/llops/llops/operators/stack.py\u001b[0m in \u001b[0;36m_get_argument_func\u001b[0;34m(self)\u001b[0m\n\u001b[1;32m    149\u001b[0m \u001b[0;34m\u001b[0m\u001b[0m\n\u001b[1;32m    150\u001b[0m     \u001b[0;32mdef\u001b[0m \u001b[0m_get_argument_func\u001b[0m\u001b[0;34m(\u001b[0m\u001b[0mself\u001b[0m\u001b[0;34m)\u001b[0m\u001b[0;34m:\u001b[0m\u001b[0;34m\u001b[0m\u001b[0;34m\u001b[0m\u001b[0m\n\u001b[0;32m--> 151\u001b[0;31m         \u001b[0;32mreturn\u001b[0m \u001b[0mprod\u001b[0m\u001b[0;34m(\u001b[0m\u001b[0;34m[\u001b[0m\u001b[0mop\u001b[0m\u001b[0;34m.\u001b[0m\u001b[0marguments\u001b[0m \u001b[0;32mfor\u001b[0m \u001b[0mop\u001b[0m \u001b[0;32min\u001b[0m \u001b[0mself\u001b[0m\u001b[0;34m.\u001b[0m\u001b[0mstack_operators\u001b[0m\u001b[0;34m]\u001b[0m\u001b[0;34m)\u001b[0m\u001b[0;34m\u001b[0m\u001b[0;34m\u001b[0m\u001b[0m\n\u001b[0m\u001b[1;32m    152\u001b[0m \u001b[0;34m\u001b[0m\u001b[0m\n\u001b[1;32m    153\u001b[0m     \u001b[0;32mdef\u001b[0m \u001b[0m_set_argument_func\u001b[0m\u001b[0;34m(\u001b[0m\u001b[0mself\u001b[0m\u001b[0;34m,\u001b[0m \u001b[0mnew_arguments\u001b[0m\u001b[0;34m)\u001b[0m\u001b[0;34m:\u001b[0m\u001b[0;34m\u001b[0m\u001b[0;34m\u001b[0m\u001b[0m\n",
      "\u001b[0;32m~/develop/llops/llops/operators/stack.py\u001b[0m in \u001b[0;36m<listcomp>\u001b[0;34m(.0)\u001b[0m\n\u001b[1;32m    149\u001b[0m \u001b[0;34m\u001b[0m\u001b[0m\n\u001b[1;32m    150\u001b[0m     \u001b[0;32mdef\u001b[0m \u001b[0m_get_argument_func\u001b[0m\u001b[0;34m(\u001b[0m\u001b[0mself\u001b[0m\u001b[0;34m)\u001b[0m\u001b[0;34m:\u001b[0m\u001b[0;34m\u001b[0m\u001b[0;34m\u001b[0m\u001b[0m\n\u001b[0;32m--> 151\u001b[0;31m         \u001b[0;32mreturn\u001b[0m \u001b[0mprod\u001b[0m\u001b[0;34m(\u001b[0m\u001b[0;34m[\u001b[0m\u001b[0mop\u001b[0m\u001b[0;34m.\u001b[0m\u001b[0marguments\u001b[0m \u001b[0;32mfor\u001b[0m \u001b[0mop\u001b[0m \u001b[0;32min\u001b[0m \u001b[0mself\u001b[0m\u001b[0;34m.\u001b[0m\u001b[0mstack_operators\u001b[0m\u001b[0;34m]\u001b[0m\u001b[0;34m)\u001b[0m\u001b[0;34m\u001b[0m\u001b[0;34m\u001b[0m\u001b[0m\n\u001b[0m\u001b[1;32m    152\u001b[0m \u001b[0;34m\u001b[0m\u001b[0m\n\u001b[1;32m    153\u001b[0m     \u001b[0;32mdef\u001b[0m \u001b[0m_set_argument_func\u001b[0m\u001b[0;34m(\u001b[0m\u001b[0mself\u001b[0m\u001b[0;34m,\u001b[0m \u001b[0mnew_arguments\u001b[0m\u001b[0;34m)\u001b[0m\u001b[0;34m:\u001b[0m\u001b[0;34m\u001b[0m\u001b[0;34m\u001b[0m\u001b[0m\n",
      "\u001b[0;31mAttributeError\u001b[0m: 'Identity' object has no attribute 'arguments'"
     ]
    }
   ],
   "source": [
    "phase_ramp_dtype = 'complex32'\n",
    "x_long = yp.astype(x, phase_ramp_dtype)\n",
    "shift = yp.changeBackend(np.asarray((-5,3)).astype(yp.getNativeDatatype(phase_ramp_dtype, 'numpy')), global_backend)\n",
    "\n",
    "R = ops.PhaseRamp(image_size, dtype=phase_ramp_dtype, backend=global_backend)\n",
    "r_list = [R] * 3\n",
    "\n",
    "# Sum of operators\n",
    "S = ops.OperatorSum(r_list)\n",
    "\n",
    "# Check forward operator\n",
    "assert yp.sum(yp.abs(S * shift - sum([r_list[i] * shift for i in range(len(r_list))]))) < eps, '%f' % yp.sum(yp.abs(S * shift - sum([r_list[i] * vec(shift) for i in range(len(exp_list))]))) \n",
    "\n",
    "# Check gradient\n",
    "S.gradient_check(eps=1)\n",
    "\n",
    "# Render forward model\n",
    "S.latex()\n",
    "\n",
    "# Render gradient\n",
    "S.latex(gradient=True)"
   ]
  },
  {
   "cell_type": "markdown",
   "metadata": {},
   "source": [
    "# Setting and Getting Arguments of Composite Operators"
   ]
  },
  {
   "cell_type": "code",
   "execution_count": 55,
   "metadata": {
    "tags": []
   },
   "outputs": [
    {
     "output_type": "stream",
     "name": "stdout",
     "text": "(5100867584, False)\n(5100867584, False)\n"
    },
    {
     "output_type": "error",
     "ename": "AttributeError",
     "evalue": "'Diagonalize' object has no attribute 'arguments'",
     "traceback": [
      "\u001b[0;31m---------------------------------------------------------------------------\u001b[0m",
      "\u001b[0;31mAttributeError\u001b[0m                            Traceback (most recent call last)",
      "\u001b[0;32m<ipython-input-55-909084bf44aa>\u001b[0m in \u001b[0;36m<module>\u001b[0;34m\u001b[0m\n\u001b[1;32m      9\u001b[0m \u001b[0mprint\u001b[0m\u001b[0;34m(\u001b[0m\u001b[0md0\u001b[0m\u001b[0;34m.\u001b[0m\u001b[0m__array_interface__\u001b[0m\u001b[0;34m[\u001b[0m\u001b[0;34m'data'\u001b[0m\u001b[0;34m]\u001b[0m\u001b[0;34m)\u001b[0m\u001b[0;34m\u001b[0m\u001b[0;34m\u001b[0m\u001b[0m\n\u001b[1;32m     10\u001b[0m \u001b[0mprint\u001b[0m\u001b[0;34m(\u001b[0m\u001b[0md0\u001b[0m\u001b[0;34m.\u001b[0m\u001b[0m__array_interface__\u001b[0m\u001b[0;34m[\u001b[0m\u001b[0;34m'data'\u001b[0m\u001b[0;34m]\u001b[0m\u001b[0;34m)\u001b[0m\u001b[0;34m\u001b[0m\u001b[0;34m\u001b[0m\u001b[0m\n\u001b[0;32m---> 11\u001b[0;31m \u001b[0mprint\u001b[0m\u001b[0;34m(\u001b[0m\u001b[0mD0\u001b[0m\u001b[0;34m.\u001b[0m\u001b[0marguments\u001b[0m\u001b[0;34m[\u001b[0m\u001b[0mD0\u001b[0m\u001b[0;34m]\u001b[0m\u001b[0;34m.\u001b[0m\u001b[0m__array_interface__\u001b[0m\u001b[0;34m[\u001b[0m\u001b[0;34m'data'\u001b[0m\u001b[0;34m]\u001b[0m\u001b[0;34m)\u001b[0m\u001b[0;34m\u001b[0m\u001b[0;34m\u001b[0m\u001b[0m\n\u001b[0m\u001b[1;32m     12\u001b[0m \u001b[0mprint\u001b[0m\u001b[0;34m(\u001b[0m\u001b[0mA\u001b[0m\u001b[0;34m.\u001b[0m\u001b[0marguments\u001b[0m\u001b[0;34m[\u001b[0m\u001b[0mD0\u001b[0m\u001b[0;34m]\u001b[0m\u001b[0;34m.\u001b[0m\u001b[0m__array_interface__\u001b[0m\u001b[0;34m[\u001b[0m\u001b[0;34m'data'\u001b[0m\u001b[0;34m]\u001b[0m\u001b[0;34m)\u001b[0m\u001b[0;34m\u001b[0m\u001b[0;34m\u001b[0m\u001b[0m\n\u001b[1;32m     13\u001b[0m \u001b[0;34m\u001b[0m\u001b[0m\n",
      "\u001b[0;31mAttributeError\u001b[0m: 'Diagonalize' object has no attribute 'arguments'"
     ]
    }
   ],
   "source": [
    "\n",
    "# Generate two different diagonal operators\n",
    "d0, d1 = np.random.rand(*image_size), np.random.rand(*image_size)\n",
    "D0 = ops.Diagonalize(d0)\n",
    "D1 = ops.Diagonalize(d1)\n",
    "\n",
    "# Combine into a single operator\n",
    "A = D0 * D1\n",
    "\n",
    "print(d0.__array_interface__['data'])\n",
    "print(d0.__array_interface__['data'])\n",
    "print(D0.arguments[D0].__array_interface__['data'])\n",
    "print(A.arguments[D0].__array_interface__['data'])\n",
    "\n",
    "# Ensure we can get arguments\n",
    "yp.assert_equality(A.arguments[D0], d0)\n",
    "yp.assert_equality(A.arguments[D1], d1)\n"
   ]
  },
  {
   "cell_type": "code",
   "execution_count": 56,
   "metadata": {},
   "outputs": [
    {
     "output_type": "execute_result",
     "data": {
      "text/plain": "[<d: (64, 128)x(64, 128) Diagonalize NUMPY operator with dtype=float64>,\n <d: (64, 128)x(64, 128) Diagonalize NUMPY operator with dtype=float64>]"
     },
     "metadata": {},
     "execution_count": 56
    }
   ],
   "source": [
    "A.suboperators"
   ]
  },
  {
   "cell_type": "code",
   "execution_count": 57,
   "metadata": {
    "tags": []
   },
   "outputs": [],
   "source": [
    "class ArgumentsDict(dict):\n",
    "    def __init__(self, operator, *args,**kwargs):\n",
    "       self.operator = operator\n",
    "       super(ArgumentsDict, self).__init__(*args, **kwargs)\n",
    "\n",
    "    def __setitem__(self, operator, new_argument):\n",
    "        if operator in self.operator.arguments:\n",
    "            operator._set_argument_function(new_argument)\n",
    "\n",
    "    def __getitem__(self, key):\n",
    "        return self.operator.arguments[key]\n",
    "\n",
    "    def __repr__(self):\n",
    "        return self.operator.arguments.__repr__()\n",
    "\n",
    "q = ArgumentsDict(A)\n",
    "for key, value in q.items():\n",
    "    print(key)"
   ]
  },
  {
   "cell_type": "code",
   "execution_count": null,
   "metadata": {},
   "outputs": [],
   "source": []
  }
 ],
 "metadata": {
  "kernelspec": {
   "display_name": "Python 3.8.3 64-bit ('base': conda)",
   "language": "python",
   "name": "python_defaultSpec_1600051588785"
  },
  "language_info": {
   "codemirror_mode": {
    "name": "ipython",
    "version": 3
   },
   "file_extension": ".py",
   "mimetype": "text/x-python",
   "name": "python",
   "nbconvert_exporter": "python",
   "pygments_lexer": "ipython3",
   "version": "3.8.3-final"
  },
  "latex_envs": {
   "LaTeX_envs_menu_present": true,
   "autocomplete": true,
   "bibliofile": "biblio.bib",
   "cite_by": "apalike",
   "current_citInitial": 1,
   "eqLabelWithNumbers": true,
   "eqNumInitial": 1,
   "hotkeys": {
    "equation": "Ctrl-E",
    "itemize": "Ctrl-I"
   },
   "labels_anchors": false,
   "latex_user_defs": false,
   "report_style_numbering": false,
   "user_envs_cfg": false
  },
  "varInspector": {
   "cols": {
    "lenName": 16,
    "lenType": 16,
    "lenVar": 40
   },
   "kernels_config": {
    "python": {
     "delete_cmd_postfix": "",
     "delete_cmd_prefix": "del ",
     "library": "var_list.py",
     "varRefreshCmd": "print(var_dic_list())"
    },
    "r": {
     "delete_cmd_postfix": ") ",
     "delete_cmd_prefix": "rm(",
     "library": "var_list.r",
     "varRefreshCmd": "cat(var_dic_list()) "
    }
   },
   "types_to_exclude": [
    "module",
    "function",
    "builtin_function_or_method",
    "instance",
    "_Feature"
   ],
   "window_display": true
  }
 },
 "nbformat": 4,
 "nbformat_minor": 2
}