{
 "cells": [
  {
   "cell_type": "code",
   "execution_count": 4,
   "metadata": {
    "ExecuteTime": {
     "end_time": "2019-02-28T04:21:20.554184Z",
     "start_time": "2019-02-28T04:21:20.521122Z"
    },
    "scrolled": false
   },
   "outputs": [
    {
     "name": "stdout",
     "output_type": "stream",
     "text": [
      "The autoreload extension is already loaded. To reload it, use:\n",
      "  %reload_ext autoreload\n"
     ]
    }
   ],
   "source": [
    "%matplotlib notebook\n",
    "%load_ext autoreload\n",
    "%autoreload 2\n",
    "\n",
    "import numpy as np\n",
    "import scipy as sp\n",
    "import matplotlib.pyplot as plt\n",
    "import scipy.misc as misc\n",
    "import math\n",
    "import imageio\n",
    "\n",
    "# Libwallerlab imports\n",
    "import llops.operators as ops\n",
    "import llops as yp\n",
    "import llops.simulation as sim\n",
    "from llops import vec"
   ]
  },
  {
   "cell_type": "markdown",
   "metadata": {},
   "source": [
    "## Define Backend and Datatype"
   ]
  },
  {
   "cell_type": "code",
   "execution_count": 5,
   "metadata": {
    "ExecuteTime": {
     "end_time": "2019-02-28T04:21:21.930011Z",
     "start_time": "2019-02-28T04:21:21.904063Z"
    },
    "scrolled": false
   },
   "outputs": [],
   "source": [
    "global_backend = 'numpy' # arrayfire or numpy\n",
    "global_dtype = 'complex32' # complex32 or complex64\n",
    "\n",
    "ops.setDefaultBackend(global_backend)\n",
    "ops.setDefaultDatatype(global_dtype)"
   ]
  },
  {
   "cell_type": "markdown",
   "metadata": {},
   "source": [
    "## Define Test Object and Forward Operator"
   ]
  },
  {
   "cell_type": "code",
   "execution_count": 9,
   "metadata": {
    "ExecuteTime": {
     "end_time": "2019-02-28T04:22:24.552080Z",
     "start_time": "2019-02-28T04:22:24.221802Z"
    },
    "scrolled": false
   },
   "outputs": [
    {
     "name": "stdout",
     "output_type": "stream",
     "text": [
      "0.9\n"
     ]
    },
    {
     "data": {
      "application/javascript": [
       "/* Put everything inside the global mpl namespace */\n",
       "window.mpl = {};\n",
       "\n",
       "\n",
       "mpl.get_websocket_type = function() {\n",
       "    if (typeof(WebSocket) !== 'undefined') {\n",
       "        return WebSocket;\n",
       "    } else if (typeof(MozWebSocket) !== 'undefined') {\n",
       "        return MozWebSocket;\n",
       "    } else {\n",
       "        alert('Your browser does not have WebSocket support.' +\n",
       "              'Please try Chrome, Safari or Firefox ≥ 6. ' +\n",
       "              'Firefox 4 and 5 are also supported but you ' +\n",
       "              'have to enable WebSockets in about:config.');\n",
       "    };\n",
       "}\n",
       "\n",
       "mpl.figure = function(figure_id, websocket, ondownload, parent_element) {\n",
       "    this.id = figure_id;\n",
       "\n",
       "    this.ws = websocket;\n",
       "\n",
       "    this.supports_binary = (this.ws.binaryType != undefined);\n",
       "\n",
       "    if (!this.supports_binary) {\n",
       "        var warnings = document.getElementById(\"mpl-warnings\");\n",
       "        if (warnings) {\n",
       "            warnings.style.display = 'block';\n",
       "            warnings.textContent = (\n",
       "                \"This browser does not support binary websocket messages. \" +\n",
       "                    \"Performance may be slow.\");\n",
       "        }\n",
       "    }\n",
       "\n",
       "    this.imageObj = new Image();\n",
       "\n",
       "    this.context = undefined;\n",
       "    this.message = undefined;\n",
       "    this.canvas = undefined;\n",
       "    this.rubberband_canvas = undefined;\n",
       "    this.rubberband_context = undefined;\n",
       "    this.format_dropdown = undefined;\n",
       "\n",
       "    this.image_mode = 'full';\n",
       "\n",
       "    this.root = $('<div/>');\n",
       "    this._root_extra_style(this.root)\n",
       "    this.root.attr('style', 'display: inline-block');\n",
       "\n",
       "    $(parent_element).append(this.root);\n",
       "\n",
       "    this._init_header(this);\n",
       "    this._init_canvas(this);\n",
       "    this._init_toolbar(this);\n",
       "\n",
       "    var fig = this;\n",
       "\n",
       "    this.waiting = false;\n",
       "\n",
       "    this.ws.onopen =  function () {\n",
       "            fig.send_message(\"supports_binary\", {value: fig.supports_binary});\n",
       "            fig.send_message(\"send_image_mode\", {});\n",
       "            if (mpl.ratio != 1) {\n",
       "                fig.send_message(\"set_dpi_ratio\", {'dpi_ratio': mpl.ratio});\n",
       "            }\n",
       "            fig.send_message(\"refresh\", {});\n",
       "        }\n",
       "\n",
       "    this.imageObj.onload = function() {\n",
       "            if (fig.image_mode == 'full') {\n",
       "                // Full images could contain transparency (where diff images\n",
       "                // almost always do), so we need to clear the canvas so that\n",
       "                // there is no ghosting.\n",
       "                fig.context.clearRect(0, 0, fig.canvas.width, fig.canvas.height);\n",
       "            }\n",
       "            fig.context.drawImage(fig.imageObj, 0, 0);\n",
       "        };\n",
       "\n",
       "    this.imageObj.onunload = function() {\n",
       "        fig.ws.close();\n",
       "    }\n",
       "\n",
       "    this.ws.onmessage = this._make_on_message_function(this);\n",
       "\n",
       "    this.ondownload = ondownload;\n",
       "}\n",
       "\n",
       "mpl.figure.prototype._init_header = function() {\n",
       "    var titlebar = $(\n",
       "        '<div class=\"ui-dialog-titlebar ui-widget-header ui-corner-all ' +\n",
       "        'ui-helper-clearfix\"/>');\n",
       "    var titletext = $(\n",
       "        '<div class=\"ui-dialog-title\" style=\"width: 100%; ' +\n",
       "        'text-align: center; padding: 3px;\"/>');\n",
       "    titlebar.append(titletext)\n",
       "    this.root.append(titlebar);\n",
       "    this.header = titletext[0];\n",
       "}\n",
       "\n",
       "\n",
       "\n",
       "mpl.figure.prototype._canvas_extra_style = function(canvas_div) {\n",
       "\n",
       "}\n",
       "\n",
       "\n",
       "mpl.figure.prototype._root_extra_style = function(canvas_div) {\n",
       "\n",
       "}\n",
       "\n",
       "mpl.figure.prototype._init_canvas = function() {\n",
       "    var fig = this;\n",
       "\n",
       "    var canvas_div = $('<div/>');\n",
       "\n",
       "    canvas_div.attr('style', 'position: relative; clear: both; outline: 0');\n",
       "\n",
       "    function canvas_keyboard_event(event) {\n",
       "        return fig.key_event(event, event['data']);\n",
       "    }\n",
       "\n",
       "    canvas_div.keydown('key_press', canvas_keyboard_event);\n",
       "    canvas_div.keyup('key_release', canvas_keyboard_event);\n",
       "    this.canvas_div = canvas_div\n",
       "    this._canvas_extra_style(canvas_div)\n",
       "    this.root.append(canvas_div);\n",
       "\n",
       "    var canvas = $('<canvas/>');\n",
       "    canvas.addClass('mpl-canvas');\n",
       "    canvas.attr('style', \"left: 0; top: 0; z-index: 0; outline: 0\")\n",
       "\n",
       "    this.canvas = canvas[0];\n",
       "    this.context = canvas[0].getContext(\"2d\");\n",
       "\n",
       "    var backingStore = this.context.backingStorePixelRatio ||\n",
       "\tthis.context.webkitBackingStorePixelRatio ||\n",
       "\tthis.context.mozBackingStorePixelRatio ||\n",
       "\tthis.context.msBackingStorePixelRatio ||\n",
       "\tthis.context.oBackingStorePixelRatio ||\n",
       "\tthis.context.backingStorePixelRatio || 1;\n",
       "\n",
       "    mpl.ratio = (window.devicePixelRatio || 1) / backingStore;\n",
       "\n",
       "    var rubberband = $('<canvas/>');\n",
       "    rubberband.attr('style', \"position: absolute; left: 0; top: 0; z-index: 1;\")\n",
       "\n",
       "    var pass_mouse_events = true;\n",
       "\n",
       "    canvas_div.resizable({\n",
       "        start: function(event, ui) {\n",
       "            pass_mouse_events = false;\n",
       "        },\n",
       "        resize: function(event, ui) {\n",
       "            fig.request_resize(ui.size.width, ui.size.height);\n",
       "        },\n",
       "        stop: function(event, ui) {\n",
       "            pass_mouse_events = true;\n",
       "            fig.request_resize(ui.size.width, ui.size.height);\n",
       "        },\n",
       "    });\n",
       "\n",
       "    function mouse_event_fn(event) {\n",
       "        if (pass_mouse_events)\n",
       "            return fig.mouse_event(event, event['data']);\n",
       "    }\n",
       "\n",
       "    rubberband.mousedown('button_press', mouse_event_fn);\n",
       "    rubberband.mouseup('button_release', mouse_event_fn);\n",
       "    // Throttle sequential mouse events to 1 every 20ms.\n",
       "    rubberband.mousemove('motion_notify', mouse_event_fn);\n",
       "\n",
       "    rubberband.mouseenter('figure_enter', mouse_event_fn);\n",
       "    rubberband.mouseleave('figure_leave', mouse_event_fn);\n",
       "\n",
       "    canvas_div.on(\"wheel\", function (event) {\n",
       "        event = event.originalEvent;\n",
       "        event['data'] = 'scroll'\n",
       "        if (event.deltaY < 0) {\n",
       "            event.step = 1;\n",
       "        } else {\n",
       "            event.step = -1;\n",
       "        }\n",
       "        mouse_event_fn(event);\n",
       "    });\n",
       "\n",
       "    canvas_div.append(canvas);\n",
       "    canvas_div.append(rubberband);\n",
       "\n",
       "    this.rubberband = rubberband;\n",
       "    this.rubberband_canvas = rubberband[0];\n",
       "    this.rubberband_context = rubberband[0].getContext(\"2d\");\n",
       "    this.rubberband_context.strokeStyle = \"#000000\";\n",
       "\n",
       "    this._resize_canvas = function(width, height) {\n",
       "        // Keep the size of the canvas, canvas container, and rubber band\n",
       "        // canvas in synch.\n",
       "        canvas_div.css('width', width)\n",
       "        canvas_div.css('height', height)\n",
       "\n",
       "        canvas.attr('width', width * mpl.ratio);\n",
       "        canvas.attr('height', height * mpl.ratio);\n",
       "        canvas.attr('style', 'width: ' + width + 'px; height: ' + height + 'px;');\n",
       "\n",
       "        rubberband.attr('width', width);\n",
       "        rubberband.attr('height', height);\n",
       "    }\n",
       "\n",
       "    // Set the figure to an initial 600x600px, this will subsequently be updated\n",
       "    // upon first draw.\n",
       "    this._resize_canvas(600, 600);\n",
       "\n",
       "    // Disable right mouse context menu.\n",
       "    $(this.rubberband_canvas).bind(\"contextmenu\",function(e){\n",
       "        return false;\n",
       "    });\n",
       "\n",
       "    function set_focus () {\n",
       "        canvas.focus();\n",
       "        canvas_div.focus();\n",
       "    }\n",
       "\n",
       "    window.setTimeout(set_focus, 100);\n",
       "}\n",
       "\n",
       "mpl.figure.prototype._init_toolbar = function() {\n",
       "    var fig = this;\n",
       "\n",
       "    var nav_element = $('<div/>')\n",
       "    nav_element.attr('style', 'width: 100%');\n",
       "    this.root.append(nav_element);\n",
       "\n",
       "    // Define a callback function for later on.\n",
       "    function toolbar_event(event) {\n",
       "        return fig.toolbar_button_onclick(event['data']);\n",
       "    }\n",
       "    function toolbar_mouse_event(event) {\n",
       "        return fig.toolbar_button_onmouseover(event['data']);\n",
       "    }\n",
       "\n",
       "    for(var toolbar_ind in mpl.toolbar_items) {\n",
       "        var name = mpl.toolbar_items[toolbar_ind][0];\n",
       "        var tooltip = mpl.toolbar_items[toolbar_ind][1];\n",
       "        var image = mpl.toolbar_items[toolbar_ind][2];\n",
       "        var method_name = mpl.toolbar_items[toolbar_ind][3];\n",
       "\n",
       "        if (!name) {\n",
       "            // put a spacer in here.\n",
       "            continue;\n",
       "        }\n",
       "        var button = $('<button/>');\n",
       "        button.addClass('ui-button ui-widget ui-state-default ui-corner-all ' +\n",
       "                        'ui-button-icon-only');\n",
       "        button.attr('role', 'button');\n",
       "        button.attr('aria-disabled', 'false');\n",
       "        button.click(method_name, toolbar_event);\n",
       "        button.mouseover(tooltip, toolbar_mouse_event);\n",
       "\n",
       "        var icon_img = $('<span/>');\n",
       "        icon_img.addClass('ui-button-icon-primary ui-icon');\n",
       "        icon_img.addClass(image);\n",
       "        icon_img.addClass('ui-corner-all');\n",
       "\n",
       "        var tooltip_span = $('<span/>');\n",
       "        tooltip_span.addClass('ui-button-text');\n",
       "        tooltip_span.html(tooltip);\n",
       "\n",
       "        button.append(icon_img);\n",
       "        button.append(tooltip_span);\n",
       "\n",
       "        nav_element.append(button);\n",
       "    }\n",
       "\n",
       "    var fmt_picker_span = $('<span/>');\n",
       "\n",
       "    var fmt_picker = $('<select/>');\n",
       "    fmt_picker.addClass('mpl-toolbar-option ui-widget ui-widget-content');\n",
       "    fmt_picker_span.append(fmt_picker);\n",
       "    nav_element.append(fmt_picker_span);\n",
       "    this.format_dropdown = fmt_picker[0];\n",
       "\n",
       "    for (var ind in mpl.extensions) {\n",
       "        var fmt = mpl.extensions[ind];\n",
       "        var option = $(\n",
       "            '<option/>', {selected: fmt === mpl.default_extension}).html(fmt);\n",
       "        fmt_picker.append(option)\n",
       "    }\n",
       "\n",
       "    // Add hover states to the ui-buttons\n",
       "    $( \".ui-button\" ).hover(\n",
       "        function() { $(this).addClass(\"ui-state-hover\");},\n",
       "        function() { $(this).removeClass(\"ui-state-hover\");}\n",
       "    );\n",
       "\n",
       "    var status_bar = $('<span class=\"mpl-message\"/>');\n",
       "    nav_element.append(status_bar);\n",
       "    this.message = status_bar[0];\n",
       "}\n",
       "\n",
       "mpl.figure.prototype.request_resize = function(x_pixels, y_pixels) {\n",
       "    // Request matplotlib to resize the figure. Matplotlib will then trigger a resize in the client,\n",
       "    // which will in turn request a refresh of the image.\n",
       "    this.send_message('resize', {'width': x_pixels, 'height': y_pixels});\n",
       "}\n",
       "\n",
       "mpl.figure.prototype.send_message = function(type, properties) {\n",
       "    properties['type'] = type;\n",
       "    properties['figure_id'] = this.id;\n",
       "    this.ws.send(JSON.stringify(properties));\n",
       "}\n",
       "\n",
       "mpl.figure.prototype.send_draw_message = function() {\n",
       "    if (!this.waiting) {\n",
       "        this.waiting = true;\n",
       "        this.ws.send(JSON.stringify({type: \"draw\", figure_id: this.id}));\n",
       "    }\n",
       "}\n",
       "\n",
       "\n",
       "mpl.figure.prototype.handle_save = function(fig, msg) {\n",
       "    var format_dropdown = fig.format_dropdown;\n",
       "    var format = format_dropdown.options[format_dropdown.selectedIndex].value;\n",
       "    fig.ondownload(fig, format);\n",
       "}\n",
       "\n",
       "\n",
       "mpl.figure.prototype.handle_resize = function(fig, msg) {\n",
       "    var size = msg['size'];\n",
       "    if (size[0] != fig.canvas.width || size[1] != fig.canvas.height) {\n",
       "        fig._resize_canvas(size[0], size[1]);\n",
       "        fig.send_message(\"refresh\", {});\n",
       "    };\n",
       "}\n",
       "\n",
       "mpl.figure.prototype.handle_rubberband = function(fig, msg) {\n",
       "    var x0 = msg['x0'] / mpl.ratio;\n",
       "    var y0 = (fig.canvas.height - msg['y0']) / mpl.ratio;\n",
       "    var x1 = msg['x1'] / mpl.ratio;\n",
       "    var y1 = (fig.canvas.height - msg['y1']) / mpl.ratio;\n",
       "    x0 = Math.floor(x0) + 0.5;\n",
       "    y0 = Math.floor(y0) + 0.5;\n",
       "    x1 = Math.floor(x1) + 0.5;\n",
       "    y1 = Math.floor(y1) + 0.5;\n",
       "    var min_x = Math.min(x0, x1);\n",
       "    var min_y = Math.min(y0, y1);\n",
       "    var width = Math.abs(x1 - x0);\n",
       "    var height = Math.abs(y1 - y0);\n",
       "\n",
       "    fig.rubberband_context.clearRect(\n",
       "        0, 0, fig.canvas.width, fig.canvas.height);\n",
       "\n",
       "    fig.rubberband_context.strokeRect(min_x, min_y, width, height);\n",
       "}\n",
       "\n",
       "mpl.figure.prototype.handle_figure_label = function(fig, msg) {\n",
       "    // Updates the figure title.\n",
       "    fig.header.textContent = msg['label'];\n",
       "}\n",
       "\n",
       "mpl.figure.prototype.handle_cursor = function(fig, msg) {\n",
       "    var cursor = msg['cursor'];\n",
       "    switch(cursor)\n",
       "    {\n",
       "    case 0:\n",
       "        cursor = 'pointer';\n",
       "        break;\n",
       "    case 1:\n",
       "        cursor = 'default';\n",
       "        break;\n",
       "    case 2:\n",
       "        cursor = 'crosshair';\n",
       "        break;\n",
       "    case 3:\n",
       "        cursor = 'move';\n",
       "        break;\n",
       "    }\n",
       "    fig.rubberband_canvas.style.cursor = cursor;\n",
       "}\n",
       "\n",
       "mpl.figure.prototype.handle_message = function(fig, msg) {\n",
       "    fig.message.textContent = msg['message'];\n",
       "}\n",
       "\n",
       "mpl.figure.prototype.handle_draw = function(fig, msg) {\n",
       "    // Request the server to send over a new figure.\n",
       "    fig.send_draw_message();\n",
       "}\n",
       "\n",
       "mpl.figure.prototype.handle_image_mode = function(fig, msg) {\n",
       "    fig.image_mode = msg['mode'];\n",
       "}\n",
       "\n",
       "mpl.figure.prototype.updated_canvas_event = function() {\n",
       "    // Called whenever the canvas gets updated.\n",
       "    this.send_message(\"ack\", {});\n",
       "}\n",
       "\n",
       "// A function to construct a web socket function for onmessage handling.\n",
       "// Called in the figure constructor.\n",
       "mpl.figure.prototype._make_on_message_function = function(fig) {\n",
       "    return function socket_on_message(evt) {\n",
       "        if (evt.data instanceof Blob) {\n",
       "            /* FIXME: We get \"Resource interpreted as Image but\n",
       "             * transferred with MIME type text/plain:\" errors on\n",
       "             * Chrome.  But how to set the MIME type?  It doesn't seem\n",
       "             * to be part of the websocket stream */\n",
       "            evt.data.type = \"image/png\";\n",
       "\n",
       "            /* Free the memory for the previous frames */\n",
       "            if (fig.imageObj.src) {\n",
       "                (window.URL || window.webkitURL).revokeObjectURL(\n",
       "                    fig.imageObj.src);\n",
       "            }\n",
       "\n",
       "            fig.imageObj.src = (window.URL || window.webkitURL).createObjectURL(\n",
       "                evt.data);\n",
       "            fig.updated_canvas_event();\n",
       "            fig.waiting = false;\n",
       "            return;\n",
       "        }\n",
       "        else if (typeof evt.data === 'string' && evt.data.slice(0, 21) == \"data:image/png;base64\") {\n",
       "            fig.imageObj.src = evt.data;\n",
       "            fig.updated_canvas_event();\n",
       "            fig.waiting = false;\n",
       "            return;\n",
       "        }\n",
       "\n",
       "        var msg = JSON.parse(evt.data);\n",
       "        var msg_type = msg['type'];\n",
       "\n",
       "        // Call the  \"handle_{type}\" callback, which takes\n",
       "        // the figure and JSON message as its only arguments.\n",
       "        try {\n",
       "            var callback = fig[\"handle_\" + msg_type];\n",
       "        } catch (e) {\n",
       "            console.log(\"No handler for the '\" + msg_type + \"' message type: \", msg);\n",
       "            return;\n",
       "        }\n",
       "\n",
       "        if (callback) {\n",
       "            try {\n",
       "                // console.log(\"Handling '\" + msg_type + \"' message: \", msg);\n",
       "                callback(fig, msg);\n",
       "            } catch (e) {\n",
       "                console.log(\"Exception inside the 'handler_\" + msg_type + \"' callback:\", e, e.stack, msg);\n",
       "            }\n",
       "        }\n",
       "    };\n",
       "}\n",
       "\n",
       "// from http://stackoverflow.com/questions/1114465/getting-mouse-location-in-canvas\n",
       "mpl.findpos = function(e) {\n",
       "    //this section is from http://www.quirksmode.org/js/events_properties.html\n",
       "    var targ;\n",
       "    if (!e)\n",
       "        e = window.event;\n",
       "    if (e.target)\n",
       "        targ = e.target;\n",
       "    else if (e.srcElement)\n",
       "        targ = e.srcElement;\n",
       "    if (targ.nodeType == 3) // defeat Safari bug\n",
       "        targ = targ.parentNode;\n",
       "\n",
       "    // jQuery normalizes the pageX and pageY\n",
       "    // pageX,Y are the mouse positions relative to the document\n",
       "    // offset() returns the position of the element relative to the document\n",
       "    var x = e.pageX - $(targ).offset().left;\n",
       "    var y = e.pageY - $(targ).offset().top;\n",
       "\n",
       "    return {\"x\": x, \"y\": y};\n",
       "};\n",
       "\n",
       "/*\n",
       " * return a copy of an object with only non-object keys\n",
       " * we need this to avoid circular references\n",
       " * http://stackoverflow.com/a/24161582/3208463\n",
       " */\n",
       "function simpleKeys (original) {\n",
       "  return Object.keys(original).reduce(function (obj, key) {\n",
       "    if (typeof original[key] !== 'object')\n",
       "        obj[key] = original[key]\n",
       "    return obj;\n",
       "  }, {});\n",
       "}\n",
       "\n",
       "mpl.figure.prototype.mouse_event = function(event, name) {\n",
       "    var canvas_pos = mpl.findpos(event)\n",
       "\n",
       "    if (name === 'button_press')\n",
       "    {\n",
       "        this.canvas.focus();\n",
       "        this.canvas_div.focus();\n",
       "    }\n",
       "\n",
       "    var x = canvas_pos.x * mpl.ratio;\n",
       "    var y = canvas_pos.y * mpl.ratio;\n",
       "\n",
       "    this.send_message(name, {x: x, y: y, button: event.button,\n",
       "                             step: event.step,\n",
       "                             guiEvent: simpleKeys(event)});\n",
       "\n",
       "    /* This prevents the web browser from automatically changing to\n",
       "     * the text insertion cursor when the button is pressed.  We want\n",
       "     * to control all of the cursor setting manually through the\n",
       "     * 'cursor' event from matplotlib */\n",
       "    event.preventDefault();\n",
       "    return false;\n",
       "}\n",
       "\n",
       "mpl.figure.prototype._key_event_extra = function(event, name) {\n",
       "    // Handle any extra behaviour associated with a key event\n",
       "}\n",
       "\n",
       "mpl.figure.prototype.key_event = function(event, name) {\n",
       "\n",
       "    // Prevent repeat events\n",
       "    if (name == 'key_press')\n",
       "    {\n",
       "        if (event.which === this._key)\n",
       "            return;\n",
       "        else\n",
       "            this._key = event.which;\n",
       "    }\n",
       "    if (name == 'key_release')\n",
       "        this._key = null;\n",
       "\n",
       "    var value = '';\n",
       "    if (event.ctrlKey && event.which != 17)\n",
       "        value += \"ctrl+\";\n",
       "    if (event.altKey && event.which != 18)\n",
       "        value += \"alt+\";\n",
       "    if (event.shiftKey && event.which != 16)\n",
       "        value += \"shift+\";\n",
       "\n",
       "    value += 'k';\n",
       "    value += event.which.toString();\n",
       "\n",
       "    this._key_event_extra(event, name);\n",
       "\n",
       "    this.send_message(name, {key: value,\n",
       "                             guiEvent: simpleKeys(event)});\n",
       "    return false;\n",
       "}\n",
       "\n",
       "mpl.figure.prototype.toolbar_button_onclick = function(name) {\n",
       "    if (name == 'download') {\n",
       "        this.handle_save(this, null);\n",
       "    } else {\n",
       "        this.send_message(\"toolbar_button\", {name: name});\n",
       "    }\n",
       "};\n",
       "\n",
       "mpl.figure.prototype.toolbar_button_onmouseover = function(tooltip) {\n",
       "    this.message.textContent = tooltip;\n",
       "};\n",
       "mpl.toolbar_items = [[\"Home\", \"Reset original view\", \"fa fa-home icon-home\", \"home\"], [\"Back\", \"Back to previous view\", \"fa fa-arrow-left icon-arrow-left\", \"back\"], [\"Forward\", \"Forward to next view\", \"fa fa-arrow-right icon-arrow-right\", \"forward\"], [\"\", \"\", \"\", \"\"], [\"Pan\", \"Pan axes with left mouse, zoom with right\", \"fa fa-arrows icon-move\", \"pan\"], [\"Zoom\", \"Zoom to rectangle\", \"fa fa-square-o icon-check-empty\", \"zoom\"], [\"\", \"\", \"\", \"\"], [\"Download\", \"Download plot\", \"fa fa-floppy-o icon-save\", \"download\"]];\n",
       "\n",
       "mpl.extensions = [\"eps\", \"jpeg\", \"pdf\", \"png\", \"ps\", \"raw\", \"svg\", \"tif\"];\n",
       "\n",
       "mpl.default_extension = \"png\";var comm_websocket_adapter = function(comm) {\n",
       "    // Create a \"websocket\"-like object which calls the given IPython comm\n",
       "    // object with the appropriate methods. Currently this is a non binary\n",
       "    // socket, so there is still some room for performance tuning.\n",
       "    var ws = {};\n",
       "\n",
       "    ws.close = function() {\n",
       "        comm.close()\n",
       "    };\n",
       "    ws.send = function(m) {\n",
       "        //console.log('sending', m);\n",
       "        comm.send(m);\n",
       "    };\n",
       "    // Register the callback with on_msg.\n",
       "    comm.on_msg(function(msg) {\n",
       "        //console.log('receiving', msg['content']['data'], msg);\n",
       "        // Pass the mpl event to the overridden (by mpl) onmessage function.\n",
       "        ws.onmessage(msg['content']['data'])\n",
       "    });\n",
       "    return ws;\n",
       "}\n",
       "\n",
       "mpl.mpl_figure_comm = function(comm, msg) {\n",
       "    // This is the function which gets called when the mpl process\n",
       "    // starts-up an IPython Comm through the \"matplotlib\" channel.\n",
       "\n",
       "    var id = msg.content.data.id;\n",
       "    // Get hold of the div created by the display call when the Comm\n",
       "    // socket was opened in Python.\n",
       "    var element = $(\"#\" + id);\n",
       "    var ws_proxy = comm_websocket_adapter(comm)\n",
       "\n",
       "    function ondownload(figure, format) {\n",
       "        window.open(figure.imageObj.src);\n",
       "    }\n",
       "\n",
       "    var fig = new mpl.figure(id, ws_proxy,\n",
       "                           ondownload,\n",
       "                           element.get(0));\n",
       "\n",
       "    // Call onopen now - mpl needs it, as it is assuming we've passed it a real\n",
       "    // web socket which is closed, not our websocket->open comm proxy.\n",
       "    ws_proxy.onopen();\n",
       "\n",
       "    fig.parent_element = element.get(0);\n",
       "    fig.cell_info = mpl.find_output_cell(\"<div id='\" + id + \"'></div>\");\n",
       "    if (!fig.cell_info) {\n",
       "        console.error(\"Failed to find cell for figure\", id, fig);\n",
       "        return;\n",
       "    }\n",
       "\n",
       "    var output_index = fig.cell_info[2]\n",
       "    var cell = fig.cell_info[0];\n",
       "\n",
       "};\n",
       "\n",
       "mpl.figure.prototype.handle_close = function(fig, msg) {\n",
       "    var width = fig.canvas.width/mpl.ratio\n",
       "    fig.root.unbind('remove')\n",
       "\n",
       "    // Update the output cell to use the data from the current canvas.\n",
       "    fig.push_to_output();\n",
       "    var dataURL = fig.canvas.toDataURL();\n",
       "    // Re-enable the keyboard manager in IPython - without this line, in FF,\n",
       "    // the notebook keyboard shortcuts fail.\n",
       "    IPython.keyboard_manager.enable()\n",
       "    $(fig.parent_element).html('<img src=\"' + dataURL + '\" width=\"' + width + '\">');\n",
       "    fig.close_ws(fig, msg);\n",
       "}\n",
       "\n",
       "mpl.figure.prototype.close_ws = function(fig, msg){\n",
       "    fig.send_message('closing', msg);\n",
       "    // fig.ws.close()\n",
       "}\n",
       "\n",
       "mpl.figure.prototype.push_to_output = function(remove_interactive) {\n",
       "    // Turn the data on the canvas into data in the output cell.\n",
       "    var width = this.canvas.width/mpl.ratio\n",
       "    var dataURL = this.canvas.toDataURL();\n",
       "    this.cell_info[1]['text/html'] = '<img src=\"' + dataURL + '\" width=\"' + width + '\">';\n",
       "}\n",
       "\n",
       "mpl.figure.prototype.updated_canvas_event = function() {\n",
       "    // Tell IPython that the notebook contents must change.\n",
       "    IPython.notebook.set_dirty(true);\n",
       "    this.send_message(\"ack\", {});\n",
       "    var fig = this;\n",
       "    // Wait a second, then push the new image to the DOM so\n",
       "    // that it is saved nicely (might be nice to debounce this).\n",
       "    setTimeout(function () { fig.push_to_output() }, 1000);\n",
       "}\n",
       "\n",
       "mpl.figure.prototype._init_toolbar = function() {\n",
       "    var fig = this;\n",
       "\n",
       "    var nav_element = $('<div/>')\n",
       "    nav_element.attr('style', 'width: 100%');\n",
       "    this.root.append(nav_element);\n",
       "\n",
       "    // Define a callback function for later on.\n",
       "    function toolbar_event(event) {\n",
       "        return fig.toolbar_button_onclick(event['data']);\n",
       "    }\n",
       "    function toolbar_mouse_event(event) {\n",
       "        return fig.toolbar_button_onmouseover(event['data']);\n",
       "    }\n",
       "\n",
       "    for(var toolbar_ind in mpl.toolbar_items){\n",
       "        var name = mpl.toolbar_items[toolbar_ind][0];\n",
       "        var tooltip = mpl.toolbar_items[toolbar_ind][1];\n",
       "        var image = mpl.toolbar_items[toolbar_ind][2];\n",
       "        var method_name = mpl.toolbar_items[toolbar_ind][3];\n",
       "\n",
       "        if (!name) { continue; };\n",
       "\n",
       "        var button = $('<button class=\"btn btn-default\" href=\"#\" title=\"' + name + '\"><i class=\"fa ' + image + ' fa-lg\"></i></button>');\n",
       "        button.click(method_name, toolbar_event);\n",
       "        button.mouseover(tooltip, toolbar_mouse_event);\n",
       "        nav_element.append(button);\n",
       "    }\n",
       "\n",
       "    // Add the status bar.\n",
       "    var status_bar = $('<span class=\"mpl-message\" style=\"text-align:right; float: right;\"/>');\n",
       "    nav_element.append(status_bar);\n",
       "    this.message = status_bar[0];\n",
       "\n",
       "    // Add the close button to the window.\n",
       "    var buttongrp = $('<div class=\"btn-group inline pull-right\"></div>');\n",
       "    var button = $('<button class=\"btn btn-mini btn-primary\" href=\"#\" title=\"Stop Interaction\"><i class=\"fa fa-power-off icon-remove icon-large\"></i></button>');\n",
       "    button.click(function (evt) { fig.handle_close(fig, {}); } );\n",
       "    button.mouseover('Stop Interaction', toolbar_mouse_event);\n",
       "    buttongrp.append(button);\n",
       "    var titlebar = this.root.find($('.ui-dialog-titlebar'));\n",
       "    titlebar.prepend(buttongrp);\n",
       "}\n",
       "\n",
       "mpl.figure.prototype._root_extra_style = function(el){\n",
       "    var fig = this\n",
       "    el.on(\"remove\", function(){\n",
       "\tfig.close_ws(fig, {});\n",
       "    });\n",
       "}\n",
       "\n",
       "mpl.figure.prototype._canvas_extra_style = function(el){\n",
       "    // this is important to make the div 'focusable\n",
       "    el.attr('tabindex', 0)\n",
       "    // reach out to IPython and tell the keyboard manager to turn it's self\n",
       "    // off when our div gets focus\n",
       "\n",
       "    // location in version 3\n",
       "    if (IPython.notebook.keyboard_manager) {\n",
       "        IPython.notebook.keyboard_manager.register_events(el);\n",
       "    }\n",
       "    else {\n",
       "        // location in version 2\n",
       "        IPython.keyboard_manager.register_events(el);\n",
       "    }\n",
       "\n",
       "}\n",
       "\n",
       "mpl.figure.prototype._key_event_extra = function(event, name) {\n",
       "    var manager = IPython.notebook.keyboard_manager;\n",
       "    if (!manager)\n",
       "        manager = IPython.keyboard_manager;\n",
       "\n",
       "    // Check for shift+enter\n",
       "    if (event.shiftKey && event.which == 13) {\n",
       "        this.canvas_div.blur();\n",
       "        event.shiftKey = false;\n",
       "        // Send a \"J\" for go to next cell\n",
       "        event.which = 74;\n",
       "        event.keyCode = 74;\n",
       "        manager.command_mode();\n",
       "        manager.handle_keydown(event);\n",
       "    }\n",
       "}\n",
       "\n",
       "mpl.figure.prototype.handle_save = function(fig, msg) {\n",
       "    fig.ondownload(fig, null);\n",
       "}\n",
       "\n",
       "\n",
       "mpl.find_output_cell = function(html_output) {\n",
       "    // Return the cell and output element which can be found *uniquely* in the notebook.\n",
       "    // Note - this is a bit hacky, but it is done because the \"notebook_saving.Notebook\"\n",
       "    // IPython event is triggered only after the cells have been serialised, which for\n",
       "    // our purposes (turning an active figure into a static one), is too late.\n",
       "    var cells = IPython.notebook.get_cells();\n",
       "    var ncells = cells.length;\n",
       "    for (var i=0; i<ncells; i++) {\n",
       "        var cell = cells[i];\n",
       "        if (cell.cell_type === 'code'){\n",
       "            for (var j=0; j<cell.output_area.outputs.length; j++) {\n",
       "                var data = cell.output_area.outputs[j];\n",
       "                if (data.data) {\n",
       "                    // IPython >= 3 moved mimebundle to data attribute of output\n",
       "                    data = data.data;\n",
       "                }\n",
       "                if (data['text/html'] == html_output) {\n",
       "                    return [cell, data, j];\n",
       "                }\n",
       "            }\n",
       "        }\n",
       "    }\n",
       "}\n",
       "\n",
       "// Register the function which deals with the matplotlib target/channel.\n",
       "// The kernel may be null if the page has been refreshed.\n",
       "if (IPython.notebook.kernel != null) {\n",
       "    IPython.notebook.kernel.comm_manager.register_target('matplotlib', mpl.mpl_figure_comm);\n",
       "}\n"
      ],
      "text/plain": [
       "<IPython.core.display.Javascript object>"
      ]
     },
     "metadata": {},
     "output_type": "display_data"
    },
    {
     "data": {
      "text/html": [
       "<img src=\"data:image/png;base64,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\" width=\"1200\">"
      ],
      "text/plain": [
       "<IPython.core.display.HTML object>"
      ]
     },
     "metadata": {},
     "output_type": "display_data"
    }
   ],
   "source": [
    "# Image size to simulate\n",
    "image_size = np.array([64, 128])\n",
    "\n",
    "# Determine machine precision threshold\n",
    "eps = yp.precision(global_dtype) * np.prod(image_size)\n",
    "\n",
    "# Load object and crop to size\n",
    "x = sim.brain(image_size)\n",
    "\n",
    "# Generate convolution kernel h\n",
    "h_size = np.array([4, 4])\n",
    "h = yp.zeros(image_size, global_dtype, global_backend)\n",
    "h[image_size[0] // 2 - h_size[0] // 2:image_size[0] // 2 + h_size[0] // 2,\n",
    "  image_size[1] // 2 - h_size[1] // 2:image_size[1] // 2 + h_size[1] // 2] = yp.randn((h_size[0], h_size[1]), global_dtype, global_backend)\n",
    "\n",
    "h /= yp.scalar(yp.sum(yp.abs(h)))\n",
    "\n",
    "# Forward Operator\n",
    "A = ops.Convolution(h, mode='circular', pad_value='mean', invalid_support_value=0)\n",
    "A.inverse_regularizer = 1e-2\n",
    "\n",
    "# Generate Measurement\n",
    "y = A * x\n",
    "\n",
    "# Reconstruction\n",
    "x_star = A.inv * y\n",
    "\n",
    "# Show object and h\n",
    "plt.figure(figsize=(12,3))\n",
    "plt.subplot(141)\n",
    "plt.imshow(yp.abs(yp.changeBackend(x, 'numpy')), cmap='gray')\n",
    "plt.title('Object (x)')\n",
    "plt.subplot(142)\n",
    "plt.imshow(yp.abs(np.asarray(h)), cmap='gray')\n",
    "plt.title('h (A)')\n",
    "plt.subplot(143)\n",
    "plt.imshow((yp.abs(np.asarray(y))), cmap='gray')\n",
    "plt.title('Measurement (A * x)');\n",
    "plt.subplot(144)\n",
    "plt.imshow((yp.abs(np.asarray(x_star))), cmap='gray')\n",
    "plt.title('Recon (A.inv * A * x)');"
   ]
  },
  {
   "cell_type": "markdown",
   "metadata": {},
   "source": [
    "## Operator-Vector Sum"
   ]
  },
  {
   "cell_type": "code",
   "execution_count": 10,
   "metadata": {
    "ExecuteTime": {
     "end_time": "2019-02-28T04:22:32.320650Z",
     "start_time": "2019-02-28T04:22:32.227959Z"
    },
    "scrolled": false
   },
   "outputs": [
    {
     "data": {
      "text/latex": [
       "$A(\\vec{x}) = (C \\times \\vec{x} + \\vec{y} )$"
      ],
      "text/plain": [
       "<IPython.core.display.Latex object>"
      ]
     },
     "metadata": {},
     "output_type": "display_data"
    },
    {
     "data": {
      "text/latex": [
       "$ \\nabla_xA(\\vec{x}) = C^H \\times \\vec{x}$"
      ],
      "text/plain": [
       "<IPython.core.display.Latex object>"
      ]
     },
     "metadata": {},
     "output_type": "display_data"
    }
   ],
   "source": [
    "# Test sum operations here\n",
    "F = ops.FourierTransform(image_size, center=False)\n",
    "y = F * x\n",
    "A_s = A + y\n",
    "\n",
    "# Forward operator\n",
    "assert yp.sum(yp.abs(A_s * x - (A * x + y))) < eps\n",
    "\n",
    "# Adjoint\n",
    "assert yp.sum(yp.abs(A_s.H * x - A.H * x)) < eps\n",
    "\n",
    "# Gradient Numerical Check\n",
    "A.gradient_check()\n",
    "  \n",
    "# Render forward model\n",
    "A_s.latex()\n",
    "\n",
    "# Render gradient\n",
    "A_s.latex(gradient=True)"
   ]
  },
  {
   "cell_type": "markdown",
   "metadata": {},
   "source": [
    "# Gradients"
   ]
  },
  {
   "cell_type": "markdown",
   "metadata": {},
   "source": [
    "## Gradients of Linear Operators\n",
    "We'll assume that if the adjoint is provided, the gradient operator is just the adjoint operating on the input (x), or current iterate. This allows us to specify either the adjoint (linear operator) OR the gradient (non-linear operator) for each operator, and the rest will be handled by the metaclass."
   ]
  },
  {
   "cell_type": "code",
   "execution_count": 11,
   "metadata": {
    "ExecuteTime": {
     "end_time": "2019-02-28T04:22:34.724670Z",
     "start_time": "2019-02-28T04:22:34.695976Z"
    },
    "scrolled": false
   },
   "outputs": [
    {
     "data": {
      "text/latex": [
       "$F(\\vec{x}) = F \\times \\vec{x}$"
      ],
      "text/plain": [
       "<IPython.core.display.Latex object>"
      ]
     },
     "metadata": {},
     "output_type": "display_data"
    },
    {
     "data": {
      "text/latex": [
       "$ \\nabla_xF(\\vec{x}) = F^H \\times \\vec{x}$"
      ],
      "text/plain": [
       "<IPython.core.display.Latex object>"
      ]
     },
     "metadata": {},
     "output_type": "display_data"
    }
   ],
   "source": [
    "# Simple test case (linear operator)\n",
    "A = ops.FourierTransform(image_size)\n",
    "\n",
    "# Check validity of gradient operator (and several short-hand pass-through functions)\n",
    "A.gradient_check()\n",
    "\n",
    "# Render forward model\n",
    "A.latex()\n",
    "\n",
    "# Render gradient\n",
    "A.latex(gradient=True)"
   ]
  },
  {
   "cell_type": "markdown",
   "metadata": {},
   "source": [
    "## Chained Linear Gradients"
   ]
  },
  {
   "cell_type": "code",
   "execution_count": 12,
   "metadata": {
    "ExecuteTime": {
     "end_time": "2019-02-28T04:22:37.450032Z",
     "start_time": "2019-02-28T04:22:37.416420Z"
    },
    "scrolled": false
   },
   "outputs": [
    {
     "data": {
      "text/latex": [
       "$A(\\vec{x}) = F^H \\times diag(\\vec{d})\\times F \\times \\vec{x}$"
      ],
      "text/plain": [
       "<IPython.core.display.Latex object>"
      ]
     },
     "metadata": {},
     "output_type": "display_data"
    },
    {
     "data": {
      "text/latex": [
       "$ \\nabla_xA(\\vec{x}) = F^H \\times diag(\\vec{d})^H \\times F \\times \\vec{x}$"
      ],
      "text/plain": [
       "<IPython.core.display.Latex object>"
      ]
     },
     "metadata": {},
     "output_type": "display_data"
    }
   ],
   "source": [
    "# Chained linear operators\n",
    "F = ops.FourierTransform(image_size)\n",
    "D = ops.Diagonalize(yp.asbackend(h, global_backend))\n",
    "A = F.H * D * F\n",
    "A.label = 'A'\n",
    "\n",
    "# Check gradient numerically\n",
    "A.gradient_check()\n",
    "\n",
    "# Render forward model\n",
    "A.latex()\n",
    "\n",
    "# Render gradient\n",
    "A.latex(gradient=True)"
   ]
  },
  {
   "cell_type": "markdown",
   "metadata": {},
   "source": [
    "## Chained Nonlinear Gradients"
   ]
  },
  {
   "cell_type": "markdown",
   "metadata": {},
   "source": [
    "### Inner convolution (linear) operator with outer L2 Norm (non-linear) operator"
   ]
  },
  {
   "cell_type": "code",
   "execution_count": 13,
   "metadata": {
    "ExecuteTime": {
     "end_time": "2019-02-28T04:22:38.844732Z",
     "start_time": "2019-02-28T04:22:38.809109Z"
    },
    "scrolled": false
   },
   "outputs": [
    {
     "data": {
      "text/latex": [
       "$A(\\vec{x}) = \\frac{1}{2} ||F^H \\times diag(\\vec{d})\\times F \\times \\vec{x}||_2^2$"
      ],
      "text/plain": [
       "<IPython.core.display.Latex object>"
      ]
     },
     "metadata": {},
     "output_type": "display_data"
    },
    {
     "data": {
      "text/latex": [
       "$ \\nabla_xA(\\vec{x}) = F^H \\times diag(\\vec{d})^H \\times F \\times F^H \\times diag(\\vec{d})\\times F \\times \\vec{x}$"
      ],
      "text/plain": [
       "<IPython.core.display.Latex object>"
      ]
     },
     "metadata": {},
     "output_type": "display_data"
    }
   ],
   "source": [
    "# Inner convolution (linear) operator with outer L2 Norm (non-linear) operator\n",
    "L2 = ops.L2Norm(image_size)\n",
    "F = ops.FourierTransform(image_size)\n",
    "D = ops.Diagonalize(h)\n",
    "A_linear = F.H * D * F\n",
    "# A_linear.label = 'A_{linear}'\n",
    "A = L2 * A_linear\n",
    "\n",
    "# Check forward operator\n",
    "assert np.all(yp.abs(A * x - 0.5 * yp.norm(A_linear * x) ** 2) < eps)\n",
    "\n",
    "# Check gradient operator\n",
    "A.gradient_check()\n",
    "\n",
    "# Render forward model\n",
    "A.latex()\n",
    "\n",
    "# Render gradient\n",
    "A.latex(gradient=True)"
   ]
  },
  {
   "cell_type": "markdown",
   "metadata": {},
   "source": [
    "### Inner convolution and vector subtraction (linear) operator with outer L2 Norm (non-linear) operator"
   ]
  },
  {
   "cell_type": "code",
   "execution_count": 14,
   "metadata": {
    "ExecuteTime": {
     "end_time": "2019-02-28T04:22:41.521599Z",
     "start_time": "2019-02-28T04:22:41.486447Z"
    },
    "scrolled": false
   },
   "outputs": [
    {
     "data": {
      "text/latex": [
       "$A(\\vec{x}) = \\frac{1}{2} ||(F^H \\times diag(\\vec{d})\\times F \\times \\vec{x} - \\vec{y} )||_2^2$"
      ],
      "text/plain": [
       "<IPython.core.display.Latex object>"
      ]
     },
     "metadata": {},
     "output_type": "display_data"
    },
    {
     "data": {
      "text/latex": [
       "$ \\nabla_xA(\\vec{x}) = F^H \\times diag(\\vec{d})^H \\times F \\times (F^H \\times diag(\\vec{d})\\times F \\times \\vec{x} - \\vec{y} )$"
      ],
      "text/plain": [
       "<IPython.core.display.Latex object>"
      ]
     },
     "metadata": {},
     "output_type": "display_data"
    }
   ],
   "source": [
    "L2 = ops.L2Norm(image_size)\n",
    "F = ops.FourierTransform(image_size)\n",
    "D = ops.Diagonalize(h)\n",
    "A = F.H * D * F\n",
    "\n",
    "# Data difference function\n",
    "Delta = (A - y)\n",
    "\n",
    "# Objective Function\n",
    "O = L2 * Delta\n",
    "\n",
    "# Check forward operator\n",
    "assert np.all(yp.abs(O * x - 0.5 * yp.norm(Delta * x) ** 2) < eps)\n",
    "\n",
    "# Check gradient operator (adjoint form)\n",
    "O.gradient_check()\n",
    "\n",
    "# Render forward model\n",
    "O.latex()\n",
    "\n",
    "# Render gradient\n",
    "O.latex(gradient=True)"
   ]
  },
  {
   "cell_type": "markdown",
   "metadata": {},
   "source": [
    "### Inner non-linear operator, linear operator in middle, and norm on outside"
   ]
  },
  {
   "cell_type": "code",
   "execution_count": 15,
   "metadata": {
    "ExecuteTime": {
     "end_time": "2019-02-28T04:22:43.262230Z",
     "start_time": "2019-02-28T04:22:43.220977Z"
    },
    "scrolled": false
   },
   "outputs": [
    {
     "data": {
      "text/latex": [
       "$A(\\vec{x}) = \\frac{1}{2} ||(F^H \\times diag(\\vec{object})\\times e^{-i2\\pi \\vec{k} \\vec{x}} - \\vec{y} )||_2^2$"
      ],
      "text/plain": [
       "<IPython.core.display.Latex object>"
      ]
     },
     "metadata": {},
     "output_type": "display_data"
    },
    {
     "data": {
      "text/latex": [
       "$ \\nabla_xA(\\vec{x}) = \\begin{bmatrix}\\sum_{axes=[0, 1]}  \\cr \\sum_{axes=[0, 1]} \\end{bmatrix} \\times diag(\\vec{object})^H \\times F \\times (F^H \\times diag(\\vec{object})\\times e^{-i2\\pi \\vec{k} \\vec{x}} - \\vec{y} )$"
      ],
      "text/plain": [
       "<IPython.core.display.Latex object>"
      ]
     },
     "metadata": {},
     "output_type": "display_data"
    }
   ],
   "source": [
    "phase_ramp_dtype = 'complex32'\n",
    "x_long = yp.astype(x, phase_ramp_dtype)\n",
    "\n",
    "# Inner non-linear operator, linear operator in middle, and norm on outside\n",
    "shift_true = yp.changeBackend(np.asarray((-5,3)).astype(yp.getNativeDatatype(phase_ramp_dtype, 'numpy')), global_backend)\n",
    "\n",
    "# Inner non-linear operator, linear operator in middle, and norm on outside\n",
    "F = ops.FourierTransform(image_size, dtype=phase_ramp_dtype, backend=global_backend)\n",
    "D_object = ops.Diagonalize(F * x_long, label='object', dtype=phase_ramp_dtype, backend=global_backend)\n",
    "R = ops.PhaseRamp(image_size, dtype=phase_ramp_dtype, backend=global_backend)\n",
    "A_shift = F.H * D_object * R\n",
    "\n",
    "y1 = A_shift(shift_true)\n",
    "L2 = ops.L2Norm(image_size, dtype=phase_ramp_dtype, backend=global_backend)\n",
    "objective = L2 * (A_shift - y1)\n",
    "\n",
    "# Check gradient\n",
    "objective.gradient_check()\n",
    "\n",
    "# Render forward model\n",
    "objective.latex()\n",
    "\n",
    "# Render gradient\n",
    "objective.latex(gradient=True)"
   ]
  },
  {
   "cell_type": "markdown",
   "metadata": {},
   "source": [
    "## Sum of Phase Ramps"
   ]
  },
  {
   "cell_type": "code",
   "execution_count": 16,
   "metadata": {
    "ExecuteTime": {
     "end_time": "2019-02-28T04:22:45.268132Z",
     "start_time": "2019-02-28T04:22:45.213260Z"
    },
    "scrolled": false
   },
   "outputs": [
    {
     "data": {
      "text/latex": [
       "$A(\\vec{x}) = \\frac{1}{2} ||(F^H \\times diag(\\vec{D_{object}})\\times \\begin{bmatrix}e^{-i2\\pi \\vec{k} [\\cdot ]} & e^{-i2\\pi \\vec{k} [\\cdot ]} & e^{-i2\\pi \\vec{k} [\\cdot ]}\\end{bmatrix} \\times \\vec{x} - \\vec{y} )||_2^2$"
      ],
      "text/plain": [
       "<IPython.core.display.Latex object>"
      ]
     },
     "metadata": {},
     "output_type": "display_data"
    },
    {
     "data": {
      "text/latex": [
       "$ \\nabla_xA(\\vec{x}) = \\begin{bmatrix}\\begin{bmatrix}\\sum_{axes=[0, 1]}  \\cr \\sum_{axes=[0, 1]} \\end{bmatrix} \\cr \\begin{bmatrix}\\sum_{axes=[0, 1]}  \\cr \\sum_{axes=[0, 1]} \\end{bmatrix} \\cr \\begin{bmatrix}\\sum_{axes=[0, 1]}  \\cr \\sum_{axes=[0, 1]} \\end{bmatrix}\\end{bmatrix} \\times diag(\\vec{D_{object}})^H \\times F \\times (F^H \\times diag(\\vec{D_{object}})\\times \\begin{bmatrix}e^{-i2\\pi \\vec{k} [\\cdot ]} & e^{-i2\\pi \\vec{k} [\\cdot ]} & e^{-i2\\pi \\vec{k} [\\cdot ]}\\end{bmatrix} \\times \\vec{x} - \\vec{y} )$"
      ],
      "text/plain": [
       "<IPython.core.display.Latex object>"
      ]
     },
     "metadata": {},
     "output_type": "display_data"
    }
   ],
   "source": [
    "phase_ramp_dtype = 'complex32'\n",
    "x_long = yp.astype(x, phase_ramp_dtype)\n",
    "\n",
    "# Inner non-linear operator, linear operator in middle, and norm on outside\n",
    "shift_true = yp.changeBackend(np.asarray((-5,3)).astype(yp.getNativeDatatype(phase_ramp_dtype, 'numpy')), global_backend)\n",
    "\n",
    "# Inner non-linear operator, linear operator in middle, and norm on outside\n",
    "F = ops.FourierTransform(image_size, dtype=phase_ramp_dtype, backend=global_backend)\n",
    "D_object = ops.Diagonalize(yp.reshape(F * vec(x_long), image_size), label='D_{object}', dtype=phase_ramp_dtype, backend=global_backend)\n",
    "R = ops.PhaseRamp(image_size, dtype=phase_ramp_dtype, backend=global_backend)\n",
    "H = ops.Hstack((R, R, R))\n",
    "A_shift = F.H * D_object * H\n",
    "\n",
    "xx = yp.changeBackend(np.hstack((np.asarray(shift_true), np.asarray(shift_true), np.asarray(shift_true))), global_backend)\n",
    "y_sum = A_shift * yp.changeBackend(np.hstack((np.asarray(shift_true), np.asarray(shift_true), np.asarray(shift_true))), global_backend)\n",
    "L2 = ops.L2Norm(image_size, dtype=phase_ramp_dtype, backend=global_backend)\n",
    "objective = L2 * (A_shift - y_sum)\n",
    "\n",
    "# Check gradient\n",
    "objective.gradient_check()\n",
    "\n",
    "# Render forward model\n",
    "objective.latex()\n",
    "\n",
    "# Render gradient\n",
    "objective.latex(gradient=True)"
   ]
  },
  {
   "cell_type": "markdown",
   "metadata": {},
   "source": [
    "### Scaling a Norm"
   ]
  },
  {
   "cell_type": "code",
   "execution_count": 17,
   "metadata": {
    "ExecuteTime": {
     "end_time": "2019-02-28T04:22:47.205330Z",
     "start_time": "2019-02-28T04:22:47.173557Z"
    },
    "scrolled": false
   },
   "outputs": [
    {
     "data": {
      "text/latex": [
       "$A(\\vec{x}) = 0.1 \\times \\frac{1}{2} ||F \\times \\vec{x}||_2^2$"
      ],
      "text/plain": [
       "<IPython.core.display.Latex object>"
      ]
     },
     "metadata": {},
     "output_type": "display_data"
    },
    {
     "data": {
      "text/latex": [
       "$ \\nabla_xA(\\vec{x}) = 0.1 \\times F^H \\times F \\times \\vec{x}$"
      ],
      "text/plain": [
       "<IPython.core.display.Latex object>"
      ]
     },
     "metadata": {},
     "output_type": "display_data"
    }
   ],
   "source": [
    "L2 = ops.L2Norm(image_size, dtype=global_dtype)\n",
    "F = ops.FourierTransform(image_size, dtype=global_dtype, axes=(0, 1))\n",
    "D = ops.Diagonalize(h, dtype=global_dtype)\n",
    "\n",
    "O_2 = L2 * F\n",
    "O = 0.1 * O_2\n",
    "\n",
    "# Check gradient operator (adjoint form)\n",
    "O.gradient_check()\n",
    "\n",
    "# Render forward model\n",
    "O.latex()\n",
    "\n",
    "# Render gradient\n",
    "O.latex(gradient=True)"
   ]
  },
  {
   "cell_type": "markdown",
   "metadata": {},
   "source": [
    "### Sum of Norms (E.g. regularization)"
   ]
  },
  {
   "cell_type": "code",
   "execution_count": 18,
   "metadata": {
    "ExecuteTime": {
     "end_time": "2019-02-28T04:22:48.442690Z",
     "start_time": "2019-02-28T04:22:48.405655Z"
    },
    "scrolled": false
   },
   "outputs": [
    {
     "data": {
      "text/latex": [
       "$A(\\vec{x}) = 0.001 \\times \\frac{1}{2} ||F \\times \\vec{x}||_2^2 + \\frac{1}{2} ||(F^H \\times diag(\\vec{d})\\times F \\times \\vec{x} - \\vec{y} )||_2^2$"
      ],
      "text/plain": [
       "<IPython.core.display.Latex object>"
      ]
     },
     "metadata": {},
     "output_type": "display_data"
    },
    {
     "data": {
      "text/latex": [
       "$ \\nabla_xA(\\vec{x}) = \\begin{bmatrix}I^H & I^H\\end{bmatrix} \\times \\begin{bmatrix}F^H \\times 0.001 \\times F \\cr F^H \\times diag(\\vec{d})^H \\times F \\times (F^H \\times diag(\\vec{d})\\times F - \\vec{y} )\\end{bmatrix} \\times \\vec{x}$"
      ],
      "text/plain": [
       "<IPython.core.display.Latex object>"
      ]
     },
     "metadata": {},
     "output_type": "display_data"
    }
   ],
   "source": [
    "L2 = ops.L2Norm(image_size)\n",
    "F = ops.FourierTransform(image_size)\n",
    "D = ops.Diagonalize(h)\n",
    "\n",
    "O_1 = L2 * ((F.H * D * F) - y)\n",
    "O_2 = 1e-3 * L2 * F\n",
    "O = O_2 + O_1\n",
    "\n",
    "# Check gradient operator (adjoint form)\n",
    "O.gradient_check()\n",
    "\n",
    "# Render forward model\n",
    "O.latex()\n",
    "\n",
    "# Render gradient\n",
    "O.latex(gradient=True)"
   ]
  },
  {
   "cell_type": "markdown",
   "metadata": {},
   "source": [
    "## Linear Flag\n",
    "This flag simply checks if an operator has any non-linear sub-operators. Behind the scenes, each multiply or addition operation checks of both operators have an adjoint. If they don't, it just returns an operator without an adjoint. The linear flag checks if the resulting operator has an adjoint function which is not None."
   ]
  },
  {
   "cell_type": "code",
   "execution_count": 19,
   "metadata": {
    "ExecuteTime": {
     "end_time": "2019-02-28T04:22:49.524950Z",
     "start_time": "2019-02-28T04:22:49.499326Z"
    },
    "scrolled": false
   },
   "outputs": [],
   "source": [
    "F = ops.FourierTransform(image_size) # Linear Operator\n",
    "L2 = ops.L2Norm(image_size[0] * image_size[1]) # Non-linear operator\n",
    "\n",
    "assert F.linear\n",
    "assert not L2.linear\n",
    "assert not (L2 * F).linear\n",
    "assert (F + F).linear\n",
    "assert not (L2 * F + L2 * F).linear"
   ]
  },
  {
   "cell_type": "markdown",
   "metadata": {},
   "source": [
    "## Smooth Flag"
   ]
  },
  {
   "cell_type": "code",
   "execution_count": 20,
   "metadata": {
    "ExecuteTime": {
     "end_time": "2019-02-28T04:22:50.270037Z",
     "start_time": "2019-02-28T04:22:50.240578Z"
    },
    "scrolled": false
   },
   "outputs": [],
   "source": [
    "F = ops.FourierTransform(image_size) # Linear Operator\n",
    "L1 = ops.L1Norm(image_size) # Non-linear operator\n",
    "\n",
    "assert F.smooth\n",
    "assert not L1.smooth\n",
    "assert not (L1 * F).smooth\n",
    "assert (F + F).smooth\n",
    "assert not (L1 * F + L2 * F).smooth\n",
    "assert not (L1 * F + L1 * F).smooth"
   ]
  },
  {
   "cell_type": "markdown",
   "metadata": {},
   "source": [
    "# Condition Number Calculation\n",
    "The condition number of a matrix product $AB$ is bounded by the following relation:\n",
    "$$\\kappa\\{AB\\} \\geq \\kappa\\{B\\}\\kappa\\{B\\}$$\n",
    "\n",
    "Unless either $A$ or $B$ is unitary ($\\kappa\\{\\cdot\\}=1$), we cannot know the condition number exactly since the spectrum basis (eigenvectors) are not common between these two matricies. In the future, we could store the whole spectrum and check this, but this would be complicated to implement."
   ]
  },
  {
   "cell_type": "code",
   "execution_count": 24,
   "metadata": {
    "ExecuteTime": {
     "end_time": "2019-02-28T04:23:05.796806Z",
     "start_time": "2019-02-28T04:23:05.766227Z"
    },
    "scrolled": false
   },
   "outputs": [],
   "source": [
    "# Unitary Matrix\n",
    "F = ops.FourierTransform(image_size)\n",
    "assert F.condition_number == 1\n",
    "assert not F.condition_number_is_upper_bound\n",
    "\n",
    "# Matrix with a condition number\n",
    "hh = yp.changeBackend((np.random.rand(image_size[0], image_size[1]) + 0.1).astype(np.complex64), global_backend)\n",
    "D = ops.Diagonalize(hh) \n",
    "assert not D.condition_number_is_upper_bound\n",
    "\n",
    "# Product of two unitary matricies\n",
    "assert (F * F).condition_number == 1\n",
    "# assert not (F * F).condition_number_is_upper_bound\n",
    "\n",
    "# Product of one unitary and one non-singular matrix\n",
    "assert (F * D).condition_number == D.condition_number\n",
    "# assert not (F * D).condition_number_is_upper_bound # because one matrix is unitary, this condition number is NOT an upper bound. This can be checked numerically.\n",
    "\n",
    "# Product of two non-singular matricies.\n",
    "hh_2 = yp.changeBackend((np.random.rand(image_size[0], image_size[1]) + 0.1).astype(np.complex64), global_backend)\n",
    "D2 = ops.Diagonalize(hh_2) \n",
    "assert (D * D2).condition_number >= D.condition_number\n",
    "# assert not (D * D2).condition_number_is_upper_bound\n",
    "\n",
    "# Product of two diagonal matricies seperated by a F.T.\n",
    "assert (D * F * D2).condition_number >= D.condition_number\n",
    "assert (D * F * D2).condition_number_is_upper_bound"
   ]
  },
  {
   "cell_type": "markdown",
   "metadata": {},
   "source": [
    "# Setting Arguments"
   ]
  },
  {
   "cell_type": "code",
   "execution_count": 25,
   "metadata": {
    "ExecuteTime": {
     "end_time": "2019-02-28T04:23:06.378628Z",
     "start_time": "2019-02-28T04:23:06.349184Z"
    },
    "scrolled": false
   },
   "outputs": [
    {
     "data": {
      "text/latex": [
       "$A(\\vec{x}) = F^H \\times diag(\\vec{K})\\times F \\times \\vec{x}$"
      ],
      "text/plain": [
       "<IPython.core.display.Latex object>"
      ]
     },
     "metadata": {},
     "output_type": "display_data"
    },
    {
     "data": {
      "text/latex": [
       "$ \\nabla_xA(\\vec{x}) = F^H \\times diag(\\vec{K})^H \\times F \\times \\vec{x}$"
      ],
      "text/plain": [
       "<IPython.core.display.Latex object>"
      ]
     },
     "metadata": {},
     "output_type": "display_data"
    }
   ],
   "source": [
    "K = ops.Diagonalize(h, label='K')\n",
    "K_2 = ops.Diagonalize(h, label='Q')\n",
    "F = ops.FourierTransform(image_size)\n",
    "\n",
    "A = F.H * K * F\n",
    "A.label = 'A'\n",
    "\n",
    "A.suboperators[1].argument = yp.ones(h.shape)\n",
    "\n",
    "# Render forward model\n",
    "A.latex()\n",
    "\n",
    "# Render gradient\n",
    "A.latex(gradient=True)"
   ]
  },
  {
   "cell_type": "markdown",
   "metadata": {},
   "source": [
    "# Stacking Operators\n",
    "\n",
    "Stacking operators are tricky - they need to take or return a VectorStack class, which is simply a container for images of different sizes to be operated on independently.\n",
    "\n",
    "Hstack - operates on a vectorstack (or vector) class, returns a vector\n",
    "\n",
    "Vstack - operates on a vector, returns a vectorstack class\n",
    "\n",
    "Diagstack - operates on a vectorstack, returns a vectorstack"
   ]
  },
  {
   "cell_type": "code",
   "execution_count": 26,
   "metadata": {
    "ExecuteTime": {
     "end_time": "2019-02-28T04:23:07.174549Z",
     "start_time": "2019-02-28T04:23:07.148005Z"
    },
    "scrolled": false
   },
   "outputs": [],
   "source": [
    "# Create list of operators\n",
    "op_list_nonlinear = [\n",
    "            ops.FourierTransform(image_size),\n",
    "            ops.Identity(image_size),\n",
    "            ops.Exponential(image_size)\n",
    "]\n",
    "\n",
    "op_list_linear = [\n",
    "            ops.FourierTransform(image_size),\n",
    "            ops.Identity(image_size),\n",
    "            ops.Diagonalize(h)\n",
    "]"
   ]
  },
  {
   "cell_type": "markdown",
   "metadata": {},
   "source": [
    "## Horizontal Stacking"
   ]
  },
  {
   "cell_type": "markdown",
   "metadata": {},
   "source": [
    "### Linear Stacking"
   ]
  },
  {
   "cell_type": "code",
   "execution_count": 27,
   "metadata": {
    "ExecuteTime": {
     "end_time": "2019-02-28T04:23:08.385813Z",
     "start_time": "2019-02-28T04:23:08.350455Z"
    },
    "scrolled": false
   },
   "outputs": [
    {
     "data": {
      "text/latex": [
       "$O_{1 \\times 3}(\\vec{x}) = \\begin{bmatrix}F & I & diag(\\vec{d})\\end{bmatrix} \\times \\vec{x}$"
      ],
      "text/plain": [
       "<IPython.core.display.Latex object>"
      ]
     },
     "metadata": {},
     "output_type": "display_data"
    },
    {
     "data": {
      "text/latex": [
       "$ \\nabla_xO_{1 \\times 3}(\\vec{x}) = \\begin{bmatrix}F^H \\cr I^H \\cr diag(\\vec{d})^H\\end{bmatrix} \\times \\vec{x}$"
      ],
      "text/plain": [
       "<IPython.core.display.Latex object>"
      ]
     },
     "metadata": {},
     "output_type": "display_data"
    }
   ],
   "source": [
    "# Horizontally stacked operators\n",
    "H_l = ops.Hstack(op_list_linear)\n",
    "\n",
    "# Vertically stack x for forward operator\n",
    "x_np = yp.changeBackend(x, 'numpy')\n",
    "x3 = yp.changeBackend(np.vstack((x_np,x_np, x_np)), global_backend)\n",
    "\n",
    "# Check forward operation\n",
    "y2 = yp.zeros(op_list_linear[0].N, op_list_linear[0].dtype, op_list_linear[0].backend)\n",
    "\n",
    "for op in op_list_linear:\n",
    "    y2 = y2 + op * x\n",
    "\n",
    "# Check equality\n",
    "yp.assert_equality(H_l(x3), y2)\n",
    "\n",
    "# Check gradient\n",
    "H_l.gradient_check()\n",
    "\n",
    "# Render forward model\n",
    "H_l.latex()\n",
    "\n",
    "# Render gradient\n",
    "H_l.latex(gradient=True)"
   ]
  },
  {
   "cell_type": "markdown",
   "metadata": {},
   "source": [
    "### Non-linear operators"
   ]
  },
  {
   "cell_type": "code",
   "execution_count": 28,
   "metadata": {
    "ExecuteTime": {
     "end_time": "2019-02-28T04:23:09.279684Z",
     "start_time": "2019-02-28T04:23:09.245520Z"
    },
    "scrolled": false
   },
   "outputs": [
    {
     "data": {
      "text/latex": [
       "$O_{1 \\times 3}(\\vec{x}) = \\begin{bmatrix}F & I & e^{ [\\cdot] }\\end{bmatrix} \\times \\vec{x}$"
      ],
      "text/plain": [
       "<IPython.core.display.Latex object>"
      ]
     },
     "metadata": {},
     "output_type": "display_data"
    },
    {
     "data": {
      "text/latex": [
       "$ \\nabla_xO_{1 \\times 3}(\\vec{x}) = \\begin{bmatrix}F^H \\cr I^H \\cr diag(\\vec{D_{e^x}})\\end{bmatrix} \\times \\vec{x}$"
      ],
      "text/plain": [
       "<IPython.core.display.Latex object>"
      ]
     },
     "metadata": {},
     "output_type": "display_data"
    }
   ],
   "source": [
    "# Horizontally stacked operators\n",
    "H_nl = ops.Hstack(op_list_nonlinear)\n",
    "\n",
    "# Vertically stack x for forward operator\n",
    "x3 = yp.changeBackend(np.vstack((x, x, x)), global_backend)\n",
    "\n",
    "# Check forward operation\n",
    "y2 = yp.zeros(op_list_nonlinear[0].shape[0], op_list_nonlinear[0].dtype, op_list_nonlinear[0].backend)\n",
    "for op in op_list_nonlinear:\n",
    "    y2 += op * x\n",
    "    \n",
    "assert yp.sum(yp.abs(H_nl(x3) - y2)) < eps, \"%.4e\" % yp.sum(yp.abs(H_nl(x3)) - y2)\n",
    "\n",
    "# Check gradient\n",
    "H_nl.gradient_check()\n",
    "\n",
    "# Render forward model\n",
    "H_nl.latex()\n",
    "\n",
    "# Render gradient\n",
    "H_nl.latex(gradient=True)"
   ]
  },
  {
   "cell_type": "markdown",
   "metadata": {},
   "source": [
    "## Vertical Stacking"
   ]
  },
  {
   "cell_type": "markdown",
   "metadata": {},
   "source": [
    "### Linear Operators"
   ]
  },
  {
   "cell_type": "code",
   "execution_count": 29,
   "metadata": {
    "ExecuteTime": {
     "end_time": "2019-02-28T04:23:10.374892Z",
     "start_time": "2019-02-28T04:23:10.341517Z"
    },
    "scrolled": false
   },
   "outputs": [
    {
     "data": {
      "text/latex": [
       "$O_{3 \\times 1}(\\vec{x}) = \\begin{bmatrix}F \\cr I \\cr diag(\\vec{d})\\end{bmatrix} \\times \\vec{x}$"
      ],
      "text/plain": [
       "<IPython.core.display.Latex object>"
      ]
     },
     "metadata": {},
     "output_type": "display_data"
    },
    {
     "data": {
      "text/latex": [
       "$ \\nabla_xO_{3 \\times 1}(\\vec{x}) = \\begin{bmatrix}F^H & I^H & diag(\\vec{d})^H\\end{bmatrix} \\times \\vec{x}$"
      ],
      "text/plain": [
       "<IPython.core.display.Latex object>"
      ]
     },
     "metadata": {},
     "output_type": "display_data"
    }
   ],
   "source": [
    "# Create vertically stacked operator\n",
    "V_l = ops.Vstack(op_list_linear)\n",
    "\n",
    "# Check forward operator\n",
    "y3 = np.empty((0,image_size[1]), dtype=yp.getNativeDatatype(global_dtype, 'numpy'))\n",
    "for index, op in enumerate(op_list_linear):\n",
    "    y3 = np.append(y3, (op * x), axis=0)\n",
    "    \n",
    "y3 = yp.changeBackend(y3, global_backend)\n",
    "assert yp.sum(yp.abs(V_l * x - y3)) < eps, \"%.4e\" % yp.sum(yp.abs(V_l * vec(x) - y3))\n",
    "\n",
    "# Check gradient\n",
    "V_l.gradient_check()\n",
    "\n",
    "# Render forward model\n",
    "V_l.latex()\n",
    "\n",
    "# Render gradient\n",
    "V_l.latex(gradient=True)"
   ]
  },
  {
   "cell_type": "markdown",
   "metadata": {},
   "source": [
    "### Nonlinear Operators"
   ]
  },
  {
   "cell_type": "code",
   "execution_count": 30,
   "metadata": {
    "ExecuteTime": {
     "end_time": "2019-02-28T04:23:11.073880Z",
     "start_time": "2019-02-28T04:23:11.039543Z"
    },
    "scrolled": false
   },
   "outputs": [
    {
     "data": {
      "text/latex": [
       "$O_{3 \\times 1}(\\vec{x}) = \\begin{bmatrix}F \\cr I \\cr e^{ [\\cdot] }\\end{bmatrix} \\times \\vec{x}$"
      ],
      "text/plain": [
       "<IPython.core.display.Latex object>"
      ]
     },
     "metadata": {},
     "output_type": "display_data"
    },
    {
     "data": {
      "text/latex": [
       "$ \\nabla_xO_{3 \\times 1}(\\vec{x}) = \\begin{bmatrix}F^H & I^H & diag(\\vec{D_{e^x}})\\end{bmatrix} \\times \\vec{x}$"
      ],
      "text/plain": [
       "<IPython.core.display.Latex object>"
      ]
     },
     "metadata": {},
     "output_type": "display_data"
    }
   ],
   "source": [
    "# Create list of operators\n",
    "op_list_nonlinear = [\n",
    "            ops.FourierTransform(image_size),\n",
    "            ops.Identity(image_size),\n",
    "            ops.Exponential(image_size)\n",
    "]\n",
    "\n",
    "# Create vertically stacked operator\n",
    "V_nl = ops.Vstack(op_list_nonlinear)\n",
    "\n",
    "# Check forward operator\n",
    "y3 = np.empty((0,image_size[1]), dtype=yp.getNativeDatatype(global_dtype, 'numpy'))\n",
    "for index, op in enumerate(op_list_nonlinear):\n",
    "    y3 = np.append(y3, (op * x), axis=0)\n",
    "    \n",
    "y3 = yp.changeBackend(y3, global_backend)\n",
    "\n",
    "yp.assert_equality(V_nl * x, y3)\n",
    "\n",
    "# Check gradient\n",
    "V_nl.gradient_check()\n",
    "\n",
    "# Render forward model\n",
    "V_nl.latex()\n",
    "\n",
    "# Render gradient\n",
    "V_nl.latex(gradient=True)"
   ]
  },
  {
   "cell_type": "markdown",
   "metadata": {},
   "source": [
    "## Diagonal Stacking"
   ]
  },
  {
   "cell_type": "markdown",
   "metadata": {},
   "source": [
    "### Linear Operators"
   ]
  },
  {
   "cell_type": "code",
   "execution_count": 31,
   "metadata": {
    "ExecuteTime": {
     "end_time": "2019-02-28T04:23:12.207248Z",
     "start_time": "2019-02-28T04:23:12.123476Z"
    },
    "scrolled": false
   },
   "outputs": [
    {
     "data": {
      "text/latex": [
       "$O_{3 \\times 3}(\\vec{x}) = \\begin{bmatrix}F & 0 & 0 \\cr  0 & I & 0 \\cr  0 &  0 & diag(\\vec{d}) \\cr \\end{bmatrix} \\times \\vec{x}$"
      ],
      "text/plain": [
       "<IPython.core.display.Latex object>"
      ]
     },
     "metadata": {},
     "output_type": "display_data"
    },
    {
     "data": {
      "text/latex": [
       "$ \\nabla_xO_{3 \\times 3}(\\vec{x}) = \\begin{bmatrix}F^H & 0 & 0 \\cr  0 & I^H & 0 \\cr  0 &  0 & diag(\\vec{d})^H \\cr \\end{bmatrix} \\times \\vec{x}$"
      ],
      "text/plain": [
       "<IPython.core.display.Latex object>"
      ]
     },
     "metadata": {},
     "output_type": "display_data"
    }
   ],
   "source": [
    "# Horizontally stacked operators\n",
    "D_l = ops.Dstack(op_list_linear)\n",
    "\n",
    "# Vertically stack x for forward operator\n",
    "x3 = yp.changeBackend(np.vstack((x, x, x)), global_backend)\n",
    "\n",
    "# Check forward operation\n",
    "y4 = np.empty((0,image_size[1]), dtype=yp.getNativeDatatype(global_dtype, 'numpy'))\n",
    "for index, op in enumerate(op_list_linear):\n",
    "    y4 = np.append(y4, (op * x), axis=0)\n",
    "    \n",
    "y4 = yp.changeBackend(y4, global_backend)\n",
    "\n",
    "# Check forward\n",
    "yp.assert_equality(D_l(x3), y4)\n",
    "\n",
    "# Check gradient\n",
    "D_l.gradient_check()\n",
    "\n",
    "# Render forward model\n",
    "D_l.latex()\n",
    "\n",
    "# Render gradient\n",
    "D_l.latex(gradient=True)"
   ]
  },
  {
   "cell_type": "markdown",
   "metadata": {},
   "source": [
    "### Nonlinear operators"
   ]
  },
  {
   "cell_type": "code",
   "execution_count": 32,
   "metadata": {
    "ExecuteTime": {
     "end_time": "2019-02-28T04:23:12.905773Z",
     "start_time": "2019-02-28T04:23:12.862688Z"
    },
    "scrolled": false
   },
   "outputs": [
    {
     "data": {
      "text/latex": [
       "$O_{3 \\times 3}(\\vec{x}) = \\begin{bmatrix}F & 0 & 0 \\cr  0 & I & 0 \\cr  0 &  0 & e^{ [\\cdot] } \\cr \\end{bmatrix} \\times \\vec{x}$"
      ],
      "text/plain": [
       "<IPython.core.display.Latex object>"
      ]
     },
     "metadata": {},
     "output_type": "display_data"
    },
    {
     "ename": "ValueError",
     "evalue": "Input size mismatch, for <EXP: (64, 128)x(64, 128) Exponential NUMPY operator with dtype=complex32>, got (192, 0)",
     "output_type": "error",
     "traceback": [
      "\u001b[0;31m---------------------------------------------------------------------------\u001b[0m",
      "\u001b[0;31mValueError\u001b[0m                                Traceback (most recent call last)",
      "\u001b[0;32m<ipython-input-32-8dd14e3f6de4>\u001b[0m in \u001b[0;36m<module>\u001b[0;34m\u001b[0m\n\u001b[1;32m     22\u001b[0m \u001b[0;34m\u001b[0m\u001b[0m\n\u001b[1;32m     23\u001b[0m \u001b[0;31m# Render gradient\u001b[0m\u001b[0;34m\u001b[0m\u001b[0;34m\u001b[0m\u001b[0;34m\u001b[0m\u001b[0m\n\u001b[0;32m---> 24\u001b[0;31m \u001b[0mD_nl\u001b[0m\u001b[0;34m.\u001b[0m\u001b[0mlatex\u001b[0m\u001b[0;34m(\u001b[0m\u001b[0mgradient\u001b[0m\u001b[0;34m=\u001b[0m\u001b[0;32mTrue\u001b[0m\u001b[0;34m)\u001b[0m\u001b[0;34m\u001b[0m\u001b[0;34m\u001b[0m\u001b[0m\n\u001b[0m",
      "\u001b[0;32m~/develop/llops/llops/operators/operators.py\u001b[0m in \u001b[0;36mlatex\u001b[0;34m(self, gradient)\u001b[0m\n\u001b[1;32m    258\u001b[0m         \u001b[0;32mif\u001b[0m \u001b[0mgradient\u001b[0m\u001b[0;34m:\u001b[0m\u001b[0;34m\u001b[0m\u001b[0;34m\u001b[0m\u001b[0m\n\u001b[1;32m    259\u001b[0m             \u001b[0mx\u001b[0m \u001b[0;34m=\u001b[0m \u001b[0mzeros\u001b[0m\u001b[0;34m(\u001b[0m\u001b[0mself\u001b[0m\u001b[0;34m.\u001b[0m\u001b[0mN\u001b[0m\u001b[0;34m,\u001b[0m \u001b[0mself\u001b[0m\u001b[0;34m.\u001b[0m\u001b[0mdtype\u001b[0m\u001b[0;34m,\u001b[0m \u001b[0mself\u001b[0m\u001b[0;34m.\u001b[0m\u001b[0mbackend\u001b[0m\u001b[0;34m)\u001b[0m\u001b[0;34m\u001b[0m\u001b[0;34m\u001b[0m\u001b[0m\n\u001b[0;32m--> 260\u001b[0;31m             \u001b[0mdisplay\u001b[0m\u001b[0;34m(\u001b[0m\u001b[0mLatex\u001b[0m\u001b[0;34m(\u001b[0m\u001b[0;34m'$ \\\\nabla_x'\u001b[0m \u001b[0;34m+\u001b[0m \u001b[0mself\u001b[0m\u001b[0;34m.\u001b[0m\u001b[0mlabel\u001b[0m \u001b[0;34m+\u001b[0m \u001b[0;34m'(\\\\vec{x}) = '\u001b[0m \u001b[0;34m+\u001b[0m \u001b[0mself\u001b[0m\u001b[0;34m.\u001b[0m\u001b[0mgradient\u001b[0m\u001b[0;34m(\u001b[0m\u001b[0mx\u001b[0m\u001b[0;34m,\u001b[0m \u001b[0mreturn_op\u001b[0m\u001b[0;34m=\u001b[0m\u001b[0;32mTrue\u001b[0m\u001b[0;34m)\u001b[0m\u001b[0;34m.\u001b[0m\u001b[0mrepr_latex\u001b[0m\u001b[0;34m(\u001b[0m\u001b[0;34m'\\\\vec{x}'\u001b[0m\u001b[0;34m)\u001b[0m \u001b[0;34m+\u001b[0m \u001b[0;34m'$'\u001b[0m\u001b[0;34m)\u001b[0m\u001b[0;34m)\u001b[0m\u001b[0;34m\u001b[0m\u001b[0;34m\u001b[0m\u001b[0m\n\u001b[0m\u001b[1;32m    261\u001b[0m         \u001b[0;32melse\u001b[0m\u001b[0;34m:\u001b[0m\u001b[0;34m\u001b[0m\u001b[0;34m\u001b[0m\u001b[0m\n\u001b[1;32m    262\u001b[0m             \u001b[0mdisplay\u001b[0m\u001b[0;34m(\u001b[0m\u001b[0mLatex\u001b[0m\u001b[0;34m(\u001b[0m\u001b[0;34m'$'\u001b[0m \u001b[0;34m+\u001b[0m \u001b[0mself\u001b[0m\u001b[0;34m.\u001b[0m\u001b[0mlabel\u001b[0m \u001b[0;34m+\u001b[0m \u001b[0;34m'(\\\\vec{x}) = '\u001b[0m \u001b[0;34m+\u001b[0m \u001b[0mself\u001b[0m\u001b[0;34m.\u001b[0m\u001b[0mrepr_latex\u001b[0m\u001b[0;34m(\u001b[0m\u001b[0;34m'\\\\vec{x}'\u001b[0m\u001b[0;34m)\u001b[0m \u001b[0;34m+\u001b[0m \u001b[0;34m'$'\u001b[0m\u001b[0;34m)\u001b[0m\u001b[0;34m)\u001b[0m\u001b[0;34m\u001b[0m\u001b[0;34m\u001b[0m\u001b[0m\n",
      "\u001b[0;32m~/develop/llops/llops/operators/operators.py\u001b[0m in \u001b[0;36mgradient\u001b[0;34m(self, x, y, return_op)\u001b[0m\n\u001b[1;32m    451\u001b[0m             \u001b[0;31m# If return_op flag is specified, return an operator instead of the numeric gradient\u001b[0m\u001b[0;34m\u001b[0m\u001b[0;34m\u001b[0m\u001b[0;34m\u001b[0m\u001b[0m\n\u001b[1;32m    452\u001b[0m             \u001b[0;32mif\u001b[0m \u001b[0mreturn_op\u001b[0m\u001b[0;34m:\u001b[0m\u001b[0;34m\u001b[0m\u001b[0;34m\u001b[0m\u001b[0m\n\u001b[0;32m--> 453\u001b[0;31m                 \u001b[0;32mreturn\u001b[0m \u001b[0mself\u001b[0m\u001b[0;34m.\u001b[0m\u001b[0m_gradient\u001b[0m\u001b[0;34m(\u001b[0m\u001b[0minside_operator\u001b[0m\u001b[0;34m=\u001b[0m\u001b[0mself\u001b[0m\u001b[0;34m.\u001b[0m\u001b[0minner_operators\u001b[0m\u001b[0;34m,\u001b[0m \u001b[0mx\u001b[0m\u001b[0;34m=\u001b[0m\u001b[0mx\u001b[0m\u001b[0;34m)\u001b[0m\u001b[0;34m\u001b[0m\u001b[0;34m\u001b[0m\u001b[0m\n\u001b[0m\u001b[1;32m    454\u001b[0m \u001b[0;34m\u001b[0m\u001b[0m\n\u001b[1;32m    455\u001b[0m             \u001b[0;31m# Else, return the computed gradient\u001b[0m\u001b[0;34m\u001b[0m\u001b[0;34m\u001b[0m\u001b[0;34m\u001b[0m\u001b[0m\n",
      "\u001b[0;32m~/develop/llops/llops/operators/stack.py\u001b[0m in \u001b[0;36m_gradient\u001b[0;34m(self, x, inside_operator)\u001b[0m\n\u001b[1;32m    483\u001b[0m                 \u001b[0m_x\u001b[0m \u001b[0;34m=\u001b[0m \u001b[0mx\u001b[0m\u001b[0;34m[\u001b[0m\u001b[0;34m:\u001b[0m\u001b[0;34m,\u001b[0m \u001b[0mself\u001b[0m\u001b[0;34m.\u001b[0m\u001b[0midx_in\u001b[0m\u001b[0;34m[\u001b[0m\u001b[0mi\u001b[0m\u001b[0;34m]\u001b[0m\u001b[0;34m:\u001b[0m\u001b[0mself\u001b[0m\u001b[0;34m.\u001b[0m\u001b[0midx_in\u001b[0m\u001b[0;34m[\u001b[0m\u001b[0mi\u001b[0m \u001b[0;34m+\u001b[0m \u001b[0;36m1\u001b[0m\u001b[0;34m]\u001b[0m\u001b[0;34m]\u001b[0m\u001b[0;34m\u001b[0m\u001b[0;34m\u001b[0m\u001b[0m\n\u001b[1;32m    484\u001b[0m \u001b[0;34m\u001b[0m\u001b[0m\n\u001b[0;32m--> 485\u001b[0;31m             \u001b[0mop_list\u001b[0m\u001b[0;34m.\u001b[0m\u001b[0mappend\u001b[0m\u001b[0;34m(\u001b[0m\u001b[0mself\u001b[0m\u001b[0;34m.\u001b[0m\u001b[0mstack_operators\u001b[0m\u001b[0;34m[\u001b[0m\u001b[0mi\u001b[0m\u001b[0;34m]\u001b[0m\u001b[0;34m.\u001b[0m\u001b[0m_gradient\u001b[0m\u001b[0;34m(\u001b[0m\u001b[0minside_operator\u001b[0m\u001b[0;34m=\u001b[0m\u001b[0minside_operator\u001b[0m\u001b[0;34m,\u001b[0m \u001b[0mx\u001b[0m\u001b[0;34m=\u001b[0m\u001b[0m_x\u001b[0m\u001b[0;34m)\u001b[0m\u001b[0;34m)\u001b[0m\u001b[0;34m\u001b[0m\u001b[0;34m\u001b[0m\u001b[0m\n\u001b[0m\u001b[1;32m    486\u001b[0m \u001b[0;34m\u001b[0m\u001b[0m\n\u001b[1;32m    487\u001b[0m             \u001b[0;32mif\u001b[0m \u001b[0mself\u001b[0m\u001b[0;34m.\u001b[0m\u001b[0mnormalize\u001b[0m\u001b[0;34m:\u001b[0m\u001b[0;34m\u001b[0m\u001b[0;34m\u001b[0m\u001b[0m\n",
      "\u001b[0;32m~/develop/llops/llops/operators/operators.py\u001b[0m in \u001b[0;36m_gradient\u001b[0;34m(self, x, inside_operator)\u001b[0m\n\u001b[1;32m   1761\u001b[0m         \u001b[0;32massert\u001b[0m \u001b[0mx\u001b[0m \u001b[0;32mis\u001b[0m \u001b[0;32mnot\u001b[0m \u001b[0;32mNone\u001b[0m\u001b[0;34m,\u001b[0m \u001b[0;34m\"Exponential operator requires x input\"\u001b[0m\u001b[0;34m\u001b[0m\u001b[0;34m\u001b[0m\u001b[0m\n\u001b[1;32m   1762\u001b[0m         \u001b[0;32mif\u001b[0m \u001b[0minside_operator\u001b[0m \u001b[0;32mis\u001b[0m \u001b[0;32mNone\u001b[0m\u001b[0;34m:\u001b[0m\u001b[0;34m\u001b[0m\u001b[0;34m\u001b[0m\u001b[0m\n\u001b[0;32m-> 1763\u001b[0;31m             \u001b[0mG\u001b[0m \u001b[0;34m=\u001b[0m \u001b[0mDiagonalize\u001b[0m\u001b[0;34m(\u001b[0m\u001b[0mconj\u001b[0m\u001b[0;34m(\u001b[0m\u001b[0mself\u001b[0m\u001b[0;34m.\u001b[0m\u001b[0mforward\u001b[0m\u001b[0;34m(\u001b[0m\u001b[0mx\u001b[0m\u001b[0;34m)\u001b[0m\u001b[0;34m)\u001b[0m\u001b[0;34m,\u001b[0m \u001b[0mdtype\u001b[0m\u001b[0;34m=\u001b[0m\u001b[0mself\u001b[0m\u001b[0;34m.\u001b[0m\u001b[0mdtype\u001b[0m\u001b[0;34m,\u001b[0m \u001b[0mshallow\u001b[0m\u001b[0;34m=\u001b[0m\u001b[0;32mTrue\u001b[0m\u001b[0;34m)\u001b[0m\u001b[0;34m\u001b[0m\u001b[0;34m\u001b[0m\u001b[0m\n\u001b[0m\u001b[1;32m   1764\u001b[0m         \u001b[0;32melse\u001b[0m\u001b[0;34m:\u001b[0m\u001b[0;34m\u001b[0m\u001b[0;34m\u001b[0m\u001b[0m\n\u001b[1;32m   1765\u001b[0m             \u001b[0mG\u001b[0m \u001b[0;34m=\u001b[0m \u001b[0mDiagonalize\u001b[0m\u001b[0;34m(\u001b[0m\u001b[0mconj\u001b[0m\u001b[0;34m(\u001b[0m\u001b[0mself\u001b[0m\u001b[0;34m.\u001b[0m\u001b[0mforward\u001b[0m\u001b[0;34m(\u001b[0m\u001b[0minside_operator\u001b[0m \u001b[0;34m*\u001b[0m \u001b[0mx\u001b[0m\u001b[0;34m)\u001b[0m\u001b[0;34m)\u001b[0m\u001b[0;34m,\u001b[0m \u001b[0mdtype\u001b[0m\u001b[0;34m=\u001b[0m\u001b[0mself\u001b[0m\u001b[0;34m.\u001b[0m\u001b[0mdtype\u001b[0m\u001b[0;34m,\u001b[0m \u001b[0mshallow\u001b[0m\u001b[0;34m=\u001b[0m\u001b[0;32mTrue\u001b[0m\u001b[0;34m)\u001b[0m\u001b[0;34m\u001b[0m\u001b[0;34m\u001b[0m\u001b[0m\n",
      "\u001b[0;32m~/develop/llops/llops/operators/operators.py\u001b[0m in \u001b[0;36mforward\u001b[0;34m(self, x, y)\u001b[0m\n\u001b[1;32m    293\u001b[0m \u001b[0;34m\u001b[0m\u001b[0m\n\u001b[1;32m    294\u001b[0m             \u001b[0;32mif\u001b[0m \u001b[0msize\u001b[0m\u001b[0;34m(\u001b[0m\u001b[0mx\u001b[0m\u001b[0;34m)\u001b[0m \u001b[0;34m!=\u001b[0m \u001b[0mprod\u001b[0m\u001b[0;34m(\u001b[0m\u001b[0mself\u001b[0m\u001b[0;34m.\u001b[0m\u001b[0mshape\u001b[0m\u001b[0;34m[\u001b[0m\u001b[0;36m1\u001b[0m\u001b[0;34m]\u001b[0m\u001b[0;34m)\u001b[0m\u001b[0;34m:\u001b[0m\u001b[0;34m\u001b[0m\u001b[0;34m\u001b[0m\u001b[0m\n\u001b[0;32m--> 295\u001b[0;31m                 \u001b[0;32mraise\u001b[0m \u001b[0mValueError\u001b[0m\u001b[0;34m(\u001b[0m\u001b[0;34m'Input size mismatch, for {}, got {}'\u001b[0m\u001b[0;34m.\u001b[0m\u001b[0mformat\u001b[0m\u001b[0;34m(\u001b[0m\u001b[0mself\u001b[0m\u001b[0;34m,\u001b[0m \u001b[0mshape\u001b[0m\u001b[0;34m(\u001b[0m\u001b[0mx\u001b[0m\u001b[0;34m)\u001b[0m\u001b[0;34m)\u001b[0m\u001b[0;34m)\u001b[0m\u001b[0;34m\u001b[0m\u001b[0;34m\u001b[0m\u001b[0m\n\u001b[0m\u001b[1;32m    296\u001b[0m \u001b[0;34m\u001b[0m\u001b[0m\n\u001b[1;32m    297\u001b[0m             \u001b[0;31m# Ensure x is the correct size\u001b[0m\u001b[0;34m\u001b[0m\u001b[0;34m\u001b[0m\u001b[0;34m\u001b[0m\u001b[0m\n",
      "\u001b[0;31mValueError\u001b[0m: Input size mismatch, for <EXP: (64, 128)x(64, 128) Exponential NUMPY operator with dtype=complex32>, got (192, 0)"
     ]
    }
   ],
   "source": [
    "# Horizontally stacked operators\n",
    "D_nl = ops.Dstack(op_list_nonlinear)\n",
    "\n",
    "# Vertically stack x for forward operator\n",
    "x3 = yp.changeBackend(np.vstack((x, x, x)), global_backend)\n",
    "\n",
    "# Check forward operation\n",
    "y4 = np.empty((0,image_size[1]), dtype=yp.getNativeDatatype(global_dtype, 'numpy'))\n",
    "for index, op in enumerate(op_list_nonlinear):\n",
    "    y4 = np.append(y4, (op * x), axis=0)\n",
    "    \n",
    "y4 = yp.changeBackend(y4, global_backend)\n",
    "\n",
    "# Check forward operation\n",
    "yp.assert_equality(D_nl(x3), y4)\n",
    "\n",
    "# Check gradient\n",
    "# D_nl.gradient_check()\n",
    "\n",
    "# Render forward model\n",
    "D_nl.latex()\n",
    "\n",
    "# Render gradient\n",
    "D_nl.latex(gradient=True)"
   ]
  },
  {
   "cell_type": "markdown",
   "metadata": {},
   "source": [
    "## Sum of Operators"
   ]
  },
  {
   "cell_type": "code",
   "execution_count": null,
   "metadata": {
    "ExecuteTime": {
     "end_time": "2018-12-02T04:07:59.375792Z",
     "start_time": "2018-12-02T04:07:59.340042Z"
    },
    "scrolled": false
   },
   "outputs": [],
   "source": [
    "# Sum of operators\n",
    "S = ops.OperatorSum(op_list_nonlinear)\n",
    "\n",
    "# Check forward operator\n",
    "assert yp.sum(yp.abs(S * x - sum([op_list_nonlinear[i] * x for i in range(len(op_list_nonlinear))]))) < eps, '%f' % yp.sum(yp.abs(S * x - sum([op_list_nonlinear[i] * x for i in range(len(op_list_nonlinear))])))\n",
    "\n",
    "# Check gradient\n",
    "S.gradient_check()\n",
    "\n",
    "# Render forward model\n",
    "S.latex()\n",
    "\n",
    "# Render gradient\n",
    "S.latex(gradient=True)"
   ]
  },
  {
   "cell_type": "markdown",
   "metadata": {},
   "source": [
    "### Sum of Exponentials"
   ]
  },
  {
   "cell_type": "code",
   "execution_count": null,
   "metadata": {
    "ExecuteTime": {
     "end_time": "2018-12-02T04:08:00.109481Z",
     "start_time": "2018-12-02T04:08:00.077220Z"
    },
    "scrolled": false
   },
   "outputs": [],
   "source": [
    "EXP = ops.Exponential(image_size)\n",
    "exp_list = [EXP] * 5\n",
    "\n",
    "# Sum of operators\n",
    "S = ops.OperatorSum(exp_list)\n",
    "\n",
    "# Check forward operator\n",
    "assert yp.sum(yp.abs(S * x - sum([exp_list[i] * x for i in range(len(exp_list))]))) < eps, '%f' % yp.sum(yp.abs(S * x - sum([exp_list[i] * x for i in range(len(exp_list))])))\n",
    "\n",
    "# Check gradient\n",
    "S.gradient_check()\n",
    "\n",
    "# print latex\n",
    "S.latex()"
   ]
  },
  {
   "cell_type": "markdown",
   "metadata": {
    "ExecuteTime": {
     "end_time": "2018-04-26T23:08:19.089223Z",
     "start_time": "2018-04-26T23:08:19.036646Z"
    }
   },
   "source": [
    "### Sum of Phase Ramps"
   ]
  },
  {
   "cell_type": "code",
   "execution_count": null,
   "metadata": {
    "ExecuteTime": {
     "end_time": "2018-12-02T04:08:00.866077Z",
     "start_time": "2018-12-02T04:08:00.828192Z"
    },
    "scrolled": false
   },
   "outputs": [],
   "source": [
    "phase_ramp_dtype = 'complex32'\n",
    "x_long = yp.astype(x, phase_ramp_dtype)\n",
    "shift = yp.changeBackend(np.asarray((-5,3)).astype(yp.getNativeDatatype(phase_ramp_dtype, 'numpy')), global_backend)\n",
    "\n",
    "R = ops.PhaseRamp(image_size, dtype=phase_ramp_dtype, backend=global_backend)\n",
    "r_list = [R] * 3\n",
    "\n",
    "# Sum of operators\n",
    "S = ops.OperatorSum(r_list)\n",
    "\n",
    "# Check forward operator\n",
    "assert yp.sum(yp.abs(S * shift - sum([r_list[i] * shift for i in range(len(r_list))]))) < eps, '%f' % yp.sum(yp.abs(S * shift - sum([r_list[i] * vec(shift) for i in range(len(exp_list))]))) \n",
    "\n",
    "# Check gradient\n",
    "S.gradient_check(eps=1)\n",
    "\n",
    "# Render forward model\n",
    "S.latex()\n",
    "\n",
    "# Render gradient\n",
    "S.latex(gradient=True)"
   ]
  },
  {
   "cell_type": "markdown",
   "metadata": {},
   "source": [
    "# Individual Operator Examples"
   ]
  },
  {
   "cell_type": "markdown",
   "metadata": {},
   "source": [
    "## Fourier Transform Test"
   ]
  },
  {
   "cell_type": "code",
   "execution_count": null,
   "metadata": {
    "ExecuteTime": {
     "end_time": "2018-12-02T04:08:01.982561Z",
     "start_time": "2018-12-02T04:08:01.901190Z"
    },
    "scrolled": true
   },
   "outputs": [],
   "source": [
    "sz = yp.shape(x)\n",
    "F_af = ops.FourierTransform(sz, center=True, backend='arrayfire',  normalize=False)\n",
    "F_np = ops.FourierTransform(sz, center=True, backend='numpy', normalize=True)\n",
    "\n",
    "plt.figure()\n",
    "plt.subplot(121)\n",
    "plt.imshow(yp.abs(yp.changeBackend(F_af * yp.changeBackend(x, 'arrayfire'), 'numpy')))\n",
    "plt.colorbar()\n",
    "\n",
    "plt.subplot(122)\n",
    "plt.imshow(yp.abs(F_np * yp.changeBackend(x, 'numpy')))\n",
    "plt.colorbar()"
   ]
  },
  {
   "cell_type": "code",
   "execution_count": null,
   "metadata": {
    "ExecuteTime": {
     "end_time": "2018-10-04T05:13:09.475082Z",
     "start_time": "2018-10-04T05:13:09.308867Z"
    },
    "scrolled": false
   },
   "outputs": [],
   "source": [
    "# Define backend - valid options are 'scipy', 'numpy', and 'fftw'\n",
    "\n",
    "# Define \"true\" FFTs\n",
    "Ft = lambda x: np.fft.fftshift(np.fft.fft2(np.fft.fftshift(x, axes=(0, 1)), axes=(0, 1), norm='ortho'), axes=(0, 1))\n",
    "iFt = lambda x: np.fft.fftshift(np.fft.ifft2(np.fft.fftshift(x, axes=(0, 1)), axes=(0, 1), norm='ortho'), axes=(0, 1))\n",
    "\n",
    "eps_fft = yp.precision(x, for_sum=True) * 10\n",
    "\n",
    "if global_backend == 'numpy':\n",
    "    fft_backends = ['scipy', 'numpy']\n",
    "else:\n",
    "    fft_backends = ['af']\n",
    "\n",
    "for fft_backend in fft_backends:\n",
    "    \n",
    "    # Create Operator\n",
    "    F = ops.FourierTransform(image_size, dtype=global_dtype, axes=(0, 1), fft_backend=fft_backend, center=True, backend=global_backend, normalize=True)\n",
    "    \n",
    "    # Check forward model\n",
    "    assert yp.sum(yp.abs(Ft(x).reshape(image_size) - yp.changeBackend(F * x, 'numpy').reshape(image_size))) < eps_fft, '%f' % yp.sum(yp.abs(Ft(x).reshape(image_size) - yp.changeBackend(F * vec(x), 'numpy').reshape(image_size)))\n",
    "    assert yp.sum(yp.abs(iFt(x).reshape(image_size) - yp.changeBackend((F.H * x), 'numpy').reshape(image_size))) < eps_fft\n",
    "    \n",
    "    # Check reciprocity\n",
    "    assert yp.sum(yp.abs(F * F.H * x - x)) < eps_fft, \"%.4e\" % yp.sum(yp.abs(F * F.H * vec(x) - vec(x)))\n",
    "\n",
    "    # Check Gradient\n",
    "    F.gradient_check()\n",
    "    \n",
    "# Render forward model\n",
    "F.latex()\n",
    "\n",
    "# Render gradient\n",
    "F.latex(gradient=True)"
   ]
  },
  {
   "cell_type": "markdown",
   "metadata": {},
   "source": [
    "## Element-Wise Multiplication Operator"
   ]
  },
  {
   "cell_type": "code",
   "execution_count": null,
   "metadata": {
    "ExecuteTime": {
     "end_time": "2018-12-02T04:08:03.129446Z",
     "start_time": "2018-12-02T04:08:03.097530Z"
    },
    "scrolled": false
   },
   "outputs": [],
   "source": [
    "K = ops.Diagonalize(h)\n",
    "\n",
    "# Check forward operator\n",
    "yp.assert_equality(K * x, h * x)\n",
    "\n",
    "# Check gradient\n",
    "K.gradient_check()\n",
    "\n",
    "# Render forward model\n",
    "K.latex()\n",
    "\n",
    "# Render gradient\n",
    "K.latex(gradient=True)"
   ]
  },
  {
   "cell_type": "markdown",
   "metadata": {},
   "source": [
    "## Diagonalize Operator with Inner Operator"
   ]
  },
  {
   "cell_type": "code",
   "execution_count": null,
   "metadata": {
    "ExecuteTime": {
     "end_time": "2018-12-02T04:08:03.917221Z",
     "start_time": "2018-12-02T04:08:03.885563Z"
    },
    "scrolled": true
   },
   "outputs": [],
   "source": [
    "# Create phase ramp to diagonalize\n",
    "H = ops.PhaseRamp(image_size)\n",
    "s = yp.rand((2,1))\n",
    "\n",
    "# Create diagonalized phase ramp operator\n",
    "D = ops.Diagonalize(s, inside_operator=H)\n",
    "\n",
    "# Check that inside operator is set correctly\n",
    "assert yp.sum(yp.abs(D * x - ((H * s) * x))) == 0.0\n",
    "\n",
    "# Check gradient\n",
    "D.gradient_check()\n",
    "\n",
    "# Render Latex\n",
    "D.latex()\n",
    "\n",
    "# Render gradient\n",
    "D.latex(gradient=True)"
   ]
  },
  {
   "cell_type": "markdown",
   "metadata": {},
   "source": [
    "## Identity Operator"
   ]
  },
  {
   "cell_type": "code",
   "execution_count": null,
   "metadata": {
    "ExecuteTime": {
     "end_time": "2018-12-02T04:08:04.781170Z",
     "start_time": "2018-12-02T04:08:04.751104Z"
    },
    "scrolled": false
   },
   "outputs": [],
   "source": [
    "I = ops.Identity(image_size)\n",
    "\n",
    "# Check forward operator\n",
    "assert yp.sum((I * x) - x) < eps\n",
    "\n",
    "# Check gradient\n",
    "I.gradient_check()\n",
    "\n",
    "# Render forward model\n",
    "K.latex()\n",
    "\n",
    "# Render gradient\n",
    "K.latex(gradient=True)"
   ]
  },
  {
   "cell_type": "markdown",
   "metadata": {},
   "source": [
    "## Circular Convolution Operator"
   ]
  },
  {
   "cell_type": "code",
   "execution_count": null,
   "metadata": {
    "ExecuteTime": {
     "end_time": "2018-12-02T04:08:05.522686Z",
     "start_time": "2018-12-02T04:08:05.483332Z"
    },
    "scrolled": false
   },
   "outputs": [],
   "source": [
    "# Generate circular convolution operator\n",
    "C = ops.Convolution(h)\n",
    "\n",
    "# Test forward operator\n",
    "conv2 = lambda x, h: yp.changeBackend(np.fft.ifftshift((np.fft.ifft2(np.fft.fft2(x, axes=(0,1), norm='ortho') * np.fft.fft2(h, axes=(0,1), norm='ortho'), axes=(0,1), norm='ortho')), axes=(0,1)).astype(yp.getNativeDatatype(global_dtype, 'numpy')), global_backend)\n",
    "\n",
    "x_np = yp.changeBackend(x, 'numpy')\n",
    "h_np = yp.changeBackend(h, 'numpy')\n",
    "\n",
    "assert yp.sum(yp.abs(yp.reshape(C * x, image_size) - conv2(x_np, h_np)) ** 2) < 1e-3, \\\n",
    "    'SSE (%.4e) is greater than tolerance (%.4e)' % ((yp.sum(yp.abs((C * vec(x)).reshape(image_size)-conv2(x,h)))), eps)\n",
    "\n",
    "# Check gradient\n",
    "C.gradient_check(eps=1e-0)\n",
    "\n",
    "# Render forward model\n",
    "C.latex()\n",
    "\n",
    "# Render gradient\n",
    "C.latex(gradient=True)\n",
    "\n",
    "plt.figure()\n",
    "plt.subplot(121)\n",
    "plt.imshow(yp.abs(C * x))\n",
    "plt.colorbar()\n",
    "plt.subplot(122)\n",
    "plt.imshow(yp.abs(conv2(x_np, h_np)))\n",
    "plt.colorbar()"
   ]
  },
  {
   "cell_type": "markdown",
   "metadata": {},
   "source": [
    "## Non-Circular Convolution Operator"
   ]
  },
  {
   "cell_type": "code",
   "execution_count": null,
   "metadata": {
    "ExecuteTime": {
     "end_time": "2018-12-02T04:08:06.776604Z",
     "start_time": "2018-12-02T04:08:06.742258Z"
    },
    "scrolled": false
   },
   "outputs": [],
   "source": [
    "pad_value = 0\n",
    "\n",
    "# Windowed Convolution\n",
    "C_full = ops.Convolution(h, mode='windowed', pad_value=pad_value, dtype=global_dtype, center=False, backend=global_backend)\n",
    "y_full = yp.changeBackend(yp.abs(C_full * x), 'numpy')\n",
    "\n",
    "# Circular Convolution\n",
    "C = ops.Convolution(h,  dtype=global_dtype, backend=global_backend)\n",
    "y5 = yp.abs(yp.changeBackend(C * x, 'numpy'))\n",
    "\n",
    "plt.figure(figsize=(10,2))\n",
    "plt.subplot(131)\n",
    "plt.imshow(yp.real(y5))\n",
    "plt.title('FFT')\n",
    "plt.subplot(132)\n",
    "plt.imshow(yp.real(y_full))\n",
    "plt.title('Windowed')\n",
    "plt.subplot(133)\n",
    "plt.imshow(yp.abs(y_full - y5))\n",
    "plt.title('|FFT - windowed|');\n",
    "plt.colorbar()\n",
    "\n",
    "print('SSD is %.2E' % yp.sum(yp.abs(y_full - y5)) ** 2)\n",
    "\n",
    "# Check Gradient\n",
    "C_full.gradient_check()\n",
    "\n",
    "# Render forward model\n",
    "C_full.latex()\n",
    "\n",
    "# Render gradient\n",
    "C_full.latex(gradient=True)"
   ]
  },
  {
   "cell_type": "markdown",
   "metadata": {},
   "source": [
    "## Fast Convolution with a Delta Function"
   ]
  },
  {
   "cell_type": "code",
   "execution_count": null,
   "metadata": {
    "ExecuteTime": {
     "end_time": "2018-12-02T04:08:07.539606Z",
     "start_time": "2018-12-02T04:08:07.507155Z"
    },
    "scrolled": false
   },
   "outputs": [],
   "source": [
    "# Create a simple kernel (just a delta function)\n",
    "kernel = yp.zeros(image_size, global_dtype)   \n",
    "# kernel[50,50] = 10\n",
    "kernel[20,21] = 1.0\n",
    "\n",
    "# Create a full convolution operator (including Fourier Transforms)\n",
    "C1 = ops.Convolution(kernel, force_full_convolution=True)\n",
    "\n",
    "# Create an operator which will convert to a shift\n",
    "C2 = ops.Convolution(kernel)\n",
    "\n",
    "# Check accuracy\n",
    "assert yp.sum(yp.abs(C1 * x - C2 * x)) < eps\n",
    "\n",
    "# Check gradient\n",
    "print(C1.gradient_check())\n",
    "print(C2.gradient_check())\n",
    "\n",
    "C1.latex()\n",
    "C2.latex()\n",
    "\n",
    "# %timeit C1 * x\n",
    "# %timeit C2 * x"
   ]
  },
  {
   "cell_type": "markdown",
   "metadata": {},
   "source": [
    "## Circular Cross-Correlation Operator"
   ]
  },
  {
   "cell_type": "code",
   "execution_count": null,
   "metadata": {
    "ExecuteTime": {
     "end_time": "2018-12-02T04:08:08.291322Z",
     "start_time": "2018-12-02T04:08:08.256850Z"
    },
    "scrolled": false
   },
   "outputs": [],
   "source": [
    "XC = ops.CrossCorrelation(h)\n",
    "\n",
    "xc = lambda x, h: np.fft.ifftshift((np.fft.ifft2(np.fft.fft2(x, axes=(0,1), norm='ortho') \\\n",
    "                                                                * np.conj(np.fft.fft2(h, axes=(0,1), norm='ortho')), axes=(0,1), norm='ortho')), axes=(0,1)).astype(np.complex64)\n",
    "\n",
    "# Check forward operator\n",
    "# y1 = yp.changeBackend(XC * vec(x), 'numpy')\n",
    "# y2 = xc(yp.changeBackend(x, 'numpy'), yp.changeBackend(h, 'numpy'))\n",
    "# assert yp.sum(yp.abs(y1 - y2.reshape(-1))) < eps\n",
    "\n",
    "# Check gradient\n",
    "XC.gradient_check()\n",
    "\n",
    "# Render forward model\n",
    "XC.latex()\n",
    "\n",
    "# Render gradient\n",
    "XC.latex(gradient=True)"
   ]
  },
  {
   "cell_type": "markdown",
   "metadata": {},
   "source": [
    "## Crop Operator\n",
    "Note that this is the hermitian transpose (.H) of the ZeroPad operator"
   ]
  },
  {
   "cell_type": "markdown",
   "metadata": {},
   "source": [
    "### Centered Crop"
   ]
  },
  {
   "cell_type": "code",
   "execution_count": null,
   "metadata": {
    "ExecuteTime": {
     "end_time": "2018-12-02T04:08:09.569135Z",
     "start_time": "2018-12-02T04:08:09.537029Z"
    },
    "scrolled": false
   },
   "outputs": [],
   "source": [
    "# Generate Crop Operator\n",
    "crop_size = (image_size[0] // 2, image_size[1] // 2)\n",
    "crop_start = tuple(np.asarray(image_size) // 2 - np.asarray(crop_size) // 2)\n",
    "CR = ops.Crop(image_size, crop_size, pad_value=0, crop_start=crop_start, dtype=global_dtype, backend=global_backend)\n",
    "\n",
    "# Check forward operator\n",
    "y_1 = yp.changeBackend(CR * x, 'numpy')\n",
    "y_2 = yp.changeBackend(yp.crop(x, crop_size, crop_start), 'numpy')\n",
    "assert yp.sum(yp.abs(y_1 - y_2)) < eps\n",
    "\n",
    "# Check Adjoint Operator\n",
    "pad_size = [int((image_size[i] - crop_size[i]) / 2) for i in range(len(image_size))]\n",
    "y_3 = yp.pad(yp.crop(x, crop_size, crop_start), image_size, crop_start, pad_value=0)\n",
    "y_4 = CR.H * CR * x\n",
    "assert yp.sum(yp.abs(y_3 - y_4)) < eps\n",
    "\n",
    "# Check gradient\n",
    "CR.gradient_check()\n",
    "\n",
    "# Render forward model\n",
    "CR.latex()\n",
    "\n",
    "# Render gradient\n",
    "CR.latex(gradient=True)"
   ]
  },
  {
   "cell_type": "markdown",
   "metadata": {},
   "source": [
    "### Non-Centered Crop\n",
    "The user can specify the crop_start parameter in the crop operator to move things around"
   ]
  },
  {
   "cell_type": "code",
   "execution_count": null,
   "metadata": {
    "ExecuteTime": {
     "end_time": "2018-12-02T04:08:15.676411Z",
     "start_time": "2018-12-02T04:08:15.642597Z"
    },
    "scrolled": false
   },
   "outputs": [],
   "source": [
    "# Generate Crop Operator\n",
    "crop_size = (image_size[0] // 2, image_size[1] // 2)\n",
    "crop_start = (6, 6)\n",
    "CR = ops.Crop(image_size, crop_size, pad_value=0,  dtype=global_dtype, backend=global_backend, crop_start=crop_start)\n",
    "\n",
    "# Check forward operator\n",
    "y_1 = yp.changeBackend(CR * x, 'numpy')\n",
    "y_2 = yp.changeBackend(yp.crop(x, crop_size, crop_start), 'numpy')\n",
    "assert yp.sum(yp.abs(y_1 - y_2)) < eps\n",
    "\n",
    "# Check Adjoint Operator\n",
    "pad_size = [int((image_size[i] - crop_size[i]) / 2) for i in range(len(image_size))]\n",
    "y_3 = yp.pad(yp.crop(x, crop_size, crop_start), image_size, crop_start, pad_value=0)\n",
    "y_4 = yp.reshape(CR.H * CR * x, image_size)\n",
    "assert yp.sum(yp.abs(y_3 - y_4)) < eps\n",
    "\n",
    "# Check gradient\n",
    "CR.gradient_check()\n",
    "\n",
    "# Render forward model\n",
    "CR.latex()\n",
    "\n",
    "# Render gradient\n",
    "CR.latex(gradient=True)"
   ]
  },
  {
   "cell_type": "markdown",
   "metadata": {},
   "source": [
    "## Shift Operator\n",
    "This operator performs a circular shift. It does not yet handle decimal (sub-pixel) shifts. This will require using a convolution with a phase ramp. "
   ]
  },
  {
   "cell_type": "code",
   "execution_count": null,
   "metadata": {
    "ExecuteTime": {
     "end_time": "2018-12-02T04:08:16.327648Z",
     "start_time": "2018-12-02T04:08:16.294126Z"
    },
    "scrolled": false
   },
   "outputs": [],
   "source": [
    "# Normal shift\n",
    "shift = (0, 10) # should be y, x\n",
    "T = ops.Shift(image_size, shift)\n",
    "\n",
    "def shift_func(x, shift):\n",
    "    x = yp.changeBackend(x, 'numpy')\n",
    "    for ax, sh in enumerate(shift):\n",
    "        x = np.roll(x, int(sh), axis=ax)\n",
    "    return(x)\n",
    " \n",
    "# Check Forward Operator\n",
    "y_1 = yp.changeBackend(T * x, 'numpy')\n",
    "y_2 = shift_func(yp.changeBackend(x, 'numpy'), shift)\n",
    "assert yp.sum(yp.abs(y_1 - y_2)) < eps\n",
    "\n",
    "# Check Adjoint Operator\n",
    "assert yp.sum(yp.abs(T.H * T * x - x)) < eps\n",
    "\n",
    "# Check gradient\n",
    "T.gradient_check()\n",
    "\n",
    "# Render forward model\n",
    "T.latex()\n",
    "\n",
    "# Render gradient\n",
    "T.latex(gradient=True)"
   ]
  },
  {
   "cell_type": "markdown",
   "metadata": {},
   "source": [
    "## Sum Operator"
   ]
  },
  {
   "cell_type": "code",
   "execution_count": null,
   "metadata": {
    "ExecuteTime": {
     "end_time": "2018-12-02T04:08:33.834693Z",
     "start_time": "2018-12-02T04:08:33.800521Z"
    },
    "scrolled": false
   },
   "outputs": [],
   "source": [
    "# axis_to_sum = (0,1)\n",
    "Σ = ops.Sum(image_size)\n",
    "\n",
    "# Check forward operator\n",
    "y_1 = yp.changeBackend(Σ * x, 'numpy')\n",
    "y_2 = yp.sum(yp.changeBackend(x, 'numpy'), axes=axis_to_sum)\n",
    "assert yp.abs(yp.sum(y_1 - y_2)) < eps\n",
    "\n",
    "# Check adjoint operator\n",
    "y_3 = yp.changeBackend(Σ.H * Σ * x, 'numpy')\n",
    "reps = [1, ] * len(image_size)\n",
    "axes = list(range(len(image_size))) if axis_to_sum is 'all' else axis_to_sum\n",
    "scale = 1\n",
    "for axis in axes:\n",
    "    reps[axis] = image_size[axis]\n",
    "    scale *= 1 / image_size[axis]\n",
    "y_4 = yp.tile(y_2, reps) * scale\n",
    "assert yp.sum(yp.abs(y_3 - y_4)) < eps\n",
    "\n",
    "# Check gradient\n",
    "Σ.gradient_check(eps=1)\n",
    "\n",
    "# Render forward model\n",
    "Σ.latex()\n",
    "\n",
    "# Render gradient\n",
    "Σ.latex(gradient=True)"
   ]
  },
  {
   "cell_type": "markdown",
   "metadata": {},
   "source": [
    "## Power Operator\n",
    "P * x = x ** p\n",
    "\n",
    "P.grad(x) = p * x"
   ]
  },
  {
   "cell_type": "code",
   "execution_count": null,
   "metadata": {
    "ExecuteTime": {
     "end_time": "2018-12-02T04:08:37.339592Z",
     "start_time": "2018-12-02T04:08:37.308757Z"
    },
    "scrolled": false
   },
   "outputs": [],
   "source": [
    "power = 2\n",
    "P = ops.Power(image_size, power,dtype=global_dtype, backend=global_backend)\n",
    "assert yp.sum(yp.abs(yp.changeBackend(P * x, 'numpy') - yp.changeBackend(x, 'numpy') ** power)) < eps, \"%f\" % yp.sum(yp.abs(yp.changeBackend(P * x, 'numpy') - yp.changeBackend(x, 'numpy') ** power)) \n",
    "\n",
    "# Render forward model\n",
    "P.latex()\n",
    "\n",
    "# Render gradient\n",
    "Σ.latex(gradient=True)"
   ]
  },
  {
   "cell_type": "markdown",
   "metadata": {},
   "source": [
    "## Intensity Operator\n",
    "I $\\times$ x = yp.abs(x) ^ 2\n",
    "\n",
    "I.H $\\times$ x = diag(x_0) $\\times$ x (from above)"
   ]
  },
  {
   "cell_type": "code",
   "execution_count": null,
   "metadata": {
    "ExecuteTime": {
     "end_time": "2018-12-02T04:08:38.599511Z",
     "start_time": "2018-12-02T04:08:38.568675Z"
    },
    "scrolled": false
   },
   "outputs": [],
   "source": [
    "I = ops.Intensity(image_size)\n",
    "\n",
    "# Check forward operator\n",
    "assert yp.sum(yp.abs((yp.abs(yp.changeBackend(x, 'numpy')) ** 2) - yp.changeBackend(I * x, 'numpy'))) < eps\n",
    "\n",
    "# Check gradient\n",
    "I.gradient_check()\n",
    "\n",
    "# Render forward model\n",
    "I.latex()\n",
    "\n",
    "# Render gradient\n",
    "I.latex(gradient=True)"
   ]
  },
  {
   "cell_type": "markdown",
   "metadata": {},
   "source": [
    "## Flip Operator"
   ]
  },
  {
   "cell_type": "code",
   "execution_count": null,
   "metadata": {
    "ExecuteTime": {
     "end_time": "2018-12-02T04:08:39.454728Z",
     "start_time": "2018-12-02T04:08:39.423635Z"
    },
    "scrolled": false
   },
   "outputs": [],
   "source": [
    "flip_axis = 0\n",
    "L = ops.Flip(image_size, axis=flip_axis)\n",
    "\n",
    "# Check forward operator\n",
    "assert yp.sum(yp.abs(L * x - yp.flip(x, flip_axis))) < eps, \"%f\" % yp.sum(yp.abs(L * x - vec(yp.flip(x, flip_axis)))) \n",
    "\n",
    "# Check gradient\n",
    "L.gradient_check()\n",
    "\n",
    "# Render forward model\n",
    "L.latex()\n",
    "\n",
    "# Render gradient\n",
    "L.latex(gradient=True)"
   ]
  },
  {
   "cell_type": "markdown",
   "metadata": {},
   "source": [
    "## $\\ell$-2 Norm Operator"
   ]
  },
  {
   "cell_type": "code",
   "execution_count": null,
   "metadata": {
    "ExecuteTime": {
     "end_time": "2018-12-02T04:08:40.354165Z",
     "start_time": "2018-12-02T04:08:40.323576Z"
    },
    "scrolled": false
   },
   "outputs": [],
   "source": [
    "L2 = ops.L2Norm(image_size)\n",
    "\n",
    "# Check forward operator\n",
    "assert yp.sum(yp.abs(L2 * x - 0.5 * yp.norm(x) ** 2)) < eps, '%f' % yp.sum(yp.abs(L2 * x - 0.5 * np.linalg.norm(x) ** 2))\n",
    "\n",
    "# Check gradient\n",
    "L2.gradient_check()\n",
    "\n",
    "# Render forward model\n",
    "L2.latex()\n",
    "\n",
    "# Render gradient\n",
    "L2.latex(gradient=True)"
   ]
  },
  {
   "cell_type": "markdown",
   "metadata": {
    "ExecuteTime": {
     "end_time": "2018-02-01T00:08:08.619625Z",
     "start_time": "2018-02-01T00:08:08.573363Z"
    }
   },
   "source": [
    "## $\\ell$-1 Norm Operator"
   ]
  },
  {
   "cell_type": "code",
   "execution_count": null,
   "metadata": {
    "ExecuteTime": {
     "end_time": "2018-12-02T04:08:41.240061Z",
     "start_time": "2018-12-02T04:08:41.212234Z"
    },
    "scrolled": false
   },
   "outputs": [],
   "source": [
    "L1 = ops.L1Norm(image_size)\n",
    "\n",
    "# Forward operator\n",
    "assert L1 * x - yp.sum(yp.abs(x)) < eps\n",
    "\n",
    "# Render forward model\n",
    "L1.latex()"
   ]
  },
  {
   "cell_type": "markdown",
   "metadata": {},
   "source": [
    "## Wavelet Transform"
   ]
  },
  {
   "cell_type": "code",
   "execution_count": null,
   "metadata": {
    "ExecuteTime": {
     "end_time": "2018-10-04T05:13:41.260340Z",
     "start_time": "2018-10-04T05:13:41.126383Z"
    },
    "scrolled": false
   },
   "outputs": [],
   "source": [
    "import pywt\n",
    "wavelet_list = ['db1', 'haar', 'rbio1.1', 'bior1.1', 'bior4.4', 'sym12']\n",
    "for wavelet_test in wavelet_list:\n",
    "    # Wavelet Transform\n",
    "    W = ops.WaveletTransform(image_size, wavelet_type=wavelet_test, use_cycle_spinning=False)\n",
    "\n",
    "    # Check forward operation\n",
    "    coeffs = pywt.wavedecn(x, wavelet=wavelet_test)\n",
    "    x_wavelet, coeff_slices = pywt.coeffs_to_array(coeffs)\n",
    "    assert yp.sum(yp.abs(yp.changeBackend(W * x, 'numpy') - x_wavelet)) < eps, \"Difference %.6e\"\n",
    "\n",
    "    # Check inverse operation\n",
    "    coeffs_from_arr = pywt.array_to_coeffs(x_wavelet, coeff_slices)\n",
    "    cam_recon = pywt.waverecn(coeffs_from_arr, wavelet=wavelet_test)\n",
    "    assert yp.sum(yp.abs(W.H * W * x - x)) < 1e-2\n",
    "\n",
    "    # Ensure that the wavelet transform isn't just identity (weird bug)\n",
    "    if W.shape[1] is yp.size(x):\n",
    "        assert yp.sum(yp.abs(W * yp.vec(x) - yp.vec(x))) > 1e-2, \"%s\" % wavelet_test\n",
    "\n",
    "    # Check gradient \n",
    "    W.gradient_check()\n",
    "\n",
    "    # Render forward model\n",
    "    W.latex()"
   ]
  },
  {
   "cell_type": "markdown",
   "metadata": {},
   "source": [
    "### Sub-Test: Cycle Spinning"
   ]
  },
  {
   "cell_type": "code",
   "execution_count": null,
   "metadata": {
    "ExecuteTime": {
     "end_time": "2018-10-04T05:14:30.108028Z",
     "start_time": "2018-10-04T05:14:30.061435Z"
    },
    "scrolled": false
   },
   "outputs": [],
   "source": [
    "# Define test\n",
    "wavelet_test = 'db1'\n",
    "n_samples = 3\n",
    "\n",
    "# Wavelet Transform\n",
    "W = ops.WaveletTransform(image_size, dtype=global_dtype, backend=global_backend, wavelet_type=wavelet_test, use_cycle_spinning=True)\n",
    "for _ in range(n_samples):\n",
    "    assert yp.sum(yp.abs(W.H * W * x - x)) < 1e-2"
   ]
  },
  {
   "cell_type": "markdown",
   "metadata": {},
   "source": [
    "### Sub-Test: Wavelet Level Normalization"
   ]
  },
  {
   "cell_type": "code",
   "execution_count": null,
   "metadata": {
    "ExecuteTime": {
     "end_time": "2018-10-04T05:14:32.227053Z",
     "start_time": "2018-10-04T05:14:32.128630Z"
    },
    "scrolled": false
   },
   "outputs": [],
   "source": [
    "s = yp.changeBackend((np.random.rand(image_size[0], image_size[1]) + 1j * np.random.rand(image_size[0], image_size[1])).astype(np.complex64), global_backend)\n",
    "W = ops.WaveletTransform(image_size, dtype=global_dtype, wavelet_type=wavelet_test, backend=global_backend)\n",
    "s_w = W * s\n",
    "\n",
    "plt.figure(figsize=(6,3))\n",
    "plt.imshow(yp.abs(yp.reshape(s_w,image_size)))"
   ]
  },
  {
   "cell_type": "markdown",
   "metadata": {
    "ExecuteTime": {
     "end_time": "2018-05-27T19:39:28.499013Z",
     "start_time": "2018-05-27T19:39:28.345067Z"
    }
   },
   "source": [
    "## Sub-Test: L1 Regularization of Wavelets"
   ]
  },
  {
   "cell_type": "markdown",
   "metadata": {},
   "source": [
    "## Exponential"
   ]
  },
  {
   "cell_type": "code",
   "execution_count": null,
   "metadata": {
    "ExecuteTime": {
     "end_time": "2018-10-04T05:14:33.887737Z",
     "start_time": "2018-10-04T05:14:33.806994Z"
    },
    "scrolled": false
   },
   "outputs": [],
   "source": [
    "L2 = ops.L2Norm(image_size)\n",
    "F = ops.FourierTransform(image_size)\n",
    "EXP = ops.Exponential(image_size)\n",
    "\n",
    "# Forward model\n",
    "assert yp.sum(yp.abs(yp.changeBackend(EXP * x, 'numpy') - np.exp(yp.changeBackend(x, 'numpy')))) < eps\n",
    "\n",
    "# Check gradient\n",
    "EXP.gradient_check()\n",
    "\n",
    "# Generate composite operator\n",
    "D = ops.Diagonalize(h)\n",
    "L2 = ops.L2Norm(image_size)\n",
    "\n",
    "EXP_COMP = L2 * F * EXP\n",
    "EXP_COMP.gradient_check()\n",
    "\n",
    "EXP_COMP_2 = L2 * F * EXP * D\n",
    "EXP_COMP_2.gradient_check()\n",
    "\n",
    "# Render forward model\n",
    "EXP.latex()\n",
    "\n",
    "# Render gradient\n",
    "EXP.latex(gradient=True)"
   ]
  },
  {
   "cell_type": "markdown",
   "metadata": {},
   "source": [
    "## Matrix Multiply"
   ]
  },
  {
   "cell_type": "code",
   "execution_count": null,
   "metadata": {
    "ExecuteTime": {
     "end_time": "2018-10-04T05:13:45.637095Z",
     "start_time": "2018-10-04T05:13:45.457227Z"
    },
    "scrolled": false
   },
   "outputs": [],
   "source": [
    "matrix_size = (10,10)\n",
    "m = yp.rand(matrix_size, global_dtype, global_backend)\n",
    "xm = yp.rand(matrix_size[1], global_dtype, global_backend)\n",
    "M = ops.MatrixMultiply(m)\n",
    "\n",
    "# Check Forward operator\n",
    "assert yp.sum(yp.abs(yp.vec(yp.changeBackend(M * xm, 'numpy')) - yp.vec(yp.changeBackend(m, 'numpy').dot(yp.changeBackend(xm, 'numpy'))))) < eps, \"%f\" % yp.sum(yp.abs(yp.changeBackend(M * xm, 'numpy') - yp.changeBackend(m, 'numpy').dot(yp.changeBackend(xm, 'numpy'))[:, np.newaxis]))\n",
    "\n",
    "# Check Adjoint\n",
    "assert yp.sum(yp.abs(yp.vec(yp.changeBackend(M.H * xm, 'numpy')) - yp.vec(np.conj(yp.changeBackend(m, 'numpy').T).dot(yp.changeBackend(xm, 'numpy'))))) < eps, \"%f\" % yp.sum(yp.abs(yp.changeBackend(M.H * xm, 'numpy') - np.conj(yp.changeBackend(m, 'numpy').T).dot(yp.changeBackend(xm, 'numpy'))[:, np.newaxis]))\n",
    "\n",
    "# Check gradient\n",
    "M.gradient_check()\n",
    "\n",
    "# Render forward model\n",
    "M.latex()\n",
    "\n",
    "# Render gradient\n",
    "M.latex(gradient=True)"
   ]
  },
  {
   "cell_type": "markdown",
   "metadata": {
    "ExecuteTime": {
     "end_time": "2018-04-26T23:34:23.447353Z",
     "start_time": "2018-04-26T23:34:23.403023Z"
    }
   },
   "source": [
    "## Phase Ramp"
   ]
  },
  {
   "cell_type": "code",
   "execution_count": null,
   "metadata": {
    "ExecuteTime": {
     "end_time": "2018-10-04T05:13:46.353022Z",
     "start_time": "2018-10-04T05:13:46.268455Z"
    },
    "scrolled": true
   },
   "outputs": [],
   "source": [
    "eps_phase_ramp = 1e-4\n",
    "shift = yp.changeBackend(np.asarray((-5,3)).astype(yp.getNativeDatatype(global_dtype, 'numpy')), global_backend)\n",
    "\n",
    "# Generate phase ramp\n",
    "R = ops.PhaseRamp(image_size)\n",
    "r = R * shift\n",
    "\n",
    "F = ops.FourierTransform(image_size, dtype=global_dtype, normalize=False, backend=global_backend)\n",
    "D_R = ops.Diagonalize(r, dtype=global_dtype)\n",
    "S_R = F.H * D_R * F\n",
    "\n",
    "# Pixel-wise shift operator\n",
    "S = ops.Shift(image_size, shift)\n",
    "\n",
    "# Check that phase ramp is shifting by correct amount\n",
    "assert yp.sum(yp.abs(yp.changeBackend(S_R * x, 'numpy') - yp.changeBackend(S * x, 'numpy'))) < 1e-3\n",
    "\n",
    "# Check gradient of phase ramp convolution\n",
    "S_R.gradient_check()\n",
    "\n",
    "# Check gradient of phase ramp\n",
    "print(R.gradient_check(eps=1))\n",
    "\n",
    "# Render forward model\n",
    "R.latex()\n",
    "\n",
    "# Render gradient\n",
    "R.latex(gradient=True)\n",
    "\n",
    "# plt.figure()\n",
    "# plt.subplot(131)\n",
    "# plt.imshow(yp.abs(yp.reshape(yp.changeBackend(S_R * vec(x), 'numpy'), image_size)))\n",
    "# plt.subplot(132)\n",
    "# plt.imshow(yp.abs(yp.reshape(yp.changeBackend(S * vec(x), 'numpy'), image_size)))\n",
    "# plt.subplot(133)\n",
    "# plt.imshow(yp.abs(yp.reshape(yp.changeBackend(S * vec(x) - S_R * vec(x), 'numpy'), image_size)))"
   ]
  },
  {
   "cell_type": "markdown",
   "metadata": {
    "ExecuteTime": {
     "end_time": "2018-03-29T07:35:53.779717Z",
     "start_time": "2018-03-29T07:35:53.716758Z"
    }
   },
   "source": [
    "## Derivative (pixelwise)"
   ]
  },
  {
   "cell_type": "code",
   "execution_count": null,
   "metadata": {
    "ExecuteTime": {
     "end_time": "2018-10-04T05:13:47.552214Z",
     "start_time": "2018-10-04T05:13:47.419728Z"
    },
    "scrolled": false
   },
   "outputs": [],
   "source": [
    "# Derivatie operator in x\n",
    "Dx = ops.Derivative(image_size, dtype=global_dtype, backend=global_backend, axis=1)\n",
    "xd = Dx * x\n",
    "\n",
    "# Derivative operator in y\n",
    "Dy = ops.Derivative(image_size, dtype=global_dtype, backend=global_backend, axis=0)\n",
    "yd = Dy * x\n",
    "\n",
    "# True derivative grids for comparison\n",
    "N = image_size\n",
    "r_x = np.arange(-N[1] / 2, N[1] / 2, 1.0) / N[1]\n",
    "r_y = np.arange(-N[0] / 2, N[0] / 2, 1.0) / N[0]\n",
    "grid_np = np.meshgrid(r_x, r_y)\n",
    "\n",
    "grid = []\n",
    "for g in grid_np:\n",
    "    grid.append(yp.changeBackend(g.astype(yp.getNativeDatatype(global_dtype, 'numpy')), global_backend))\n",
    "\n",
    "# from libwallerlab.operators.fft import Ft, iFt\n",
    "Ft = lambda x: np.fft.fftshift(np.fft.fft2(np.fft.fftshift(x, axes=(0, 1)), axes=(0, 1), norm='ortho'), axes=(0, 1))\n",
    "iFt = lambda x: np.fft.fftshift(np.fft.ifft2(np.fft.fftshift(x, axes=(0, 1)), axes=(0, 1), norm='ortho'), axes=(0, 1))\n",
    "\n",
    "dx_func = lambda x: iFt(Ft(x) * grid[1].reshape(image_size))\n",
    "dy_func = lambda x: iFt(Ft(x) * grid[0].reshape(image_size))\n",
    "\n",
    "# assert yp.sum(yp.abs(dx_func(x) - xd.reshape(image_size))) < eps, \"X derivative was not equal! (%.4e)\" % yp.sum(yp.abs(dx_func(x) - xd.reshape(image_size)))\n",
    "# assert yp.sum(yp.abs(dy_func(x) - yd.reshape(image_size))) < eps, \"Y derivative was not equal! (%.4e)\" % yp.sum(yp.abs(dy_func(x) - yd.reshape(image_size)))\n",
    "\n",
    "# Check Gradient\n",
    "Dx.gradient_check()\n",
    "Dy.gradient_check()\n",
    "\n",
    "# Render forward models\n",
    "Dx.latex()\n",
    "Dy.latex()\n",
    "\n",
    "# Render gradients\n",
    "Dx.latex(gradient=True)\n",
    "Dy.latex(gradient=True)"
   ]
  }
 ],
 "metadata": {
  "kernelspec": {
   "display_name": "Python 3",
   "language": "python",
   "name": "python3"
  },
  "language_info": {
   "codemirror_mode": {
    "name": "ipython",
    "version": 3
   },
   "file_extension": ".py",
   "mimetype": "text/x-python",
   "name": "python",
   "nbconvert_exporter": "python",
   "pygments_lexer": "ipython3",
   "version": "3.7.1"
  },
  "latex_envs": {
   "LaTeX_envs_menu_present": true,
   "autocomplete": true,
   "bibliofile": "biblio.bib",
   "cite_by": "apalike",
   "current_citInitial": 1,
   "eqLabelWithNumbers": true,
   "eqNumInitial": 1,
   "hotkeys": {
    "equation": "Ctrl-E",
    "itemize": "Ctrl-I"
   },
   "labels_anchors": false,
   "latex_user_defs": false,
   "report_style_numbering": false,
   "user_envs_cfg": false
  },
  "varInspector": {
   "cols": {
    "lenName": 16,
    "lenType": 16,
    "lenVar": 40
   },
   "kernels_config": {
    "python": {
     "delete_cmd_postfix": "",
     "delete_cmd_prefix": "del ",
     "library": "var_list.py",
     "varRefreshCmd": "print(var_dic_list())"
    },
    "r": {
     "delete_cmd_postfix": ") ",
     "delete_cmd_prefix": "rm(",
     "library": "var_list.r",
     "varRefreshCmd": "cat(var_dic_list()) "
    }
   },
   "types_to_exclude": [
    "module",
    "function",
    "builtin_function_or_method",
    "instance",
    "_Feature"
   ],
   "window_display": true
  }
 },
 "nbformat": 4,
 "nbformat_minor": 2
}
