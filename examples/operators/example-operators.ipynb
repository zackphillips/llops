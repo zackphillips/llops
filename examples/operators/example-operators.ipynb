{
 "cells": [
  {
   "cell_type": "code",
   "execution_count": 1,
   "metadata": {
    "ExecuteTime": {
     "end_time": "2019-05-02T17:11:17.372834Z",
     "start_time": "2019-05-02T17:11:14.228317Z"
    },
    "scrolled": false
   },
   "outputs": [],
   "source": [
    "%matplotlib notebook\n",
    "%load_ext autoreload\n",
    "%autoreload 2\n",
    "\n",
    "import numpy as np\n",
    "import scipy as sp\n",
    "import matplotlib.pyplot as plt\n",
    "import scipy.misc as misc\n",
    "import math\n",
    "import imageio\n",
    "import time\n",
    "\n",
    "# Libwallerlab imports\n",
    "import llops.operators as ops\n",
    "import llops as yp\n",
    "import llops.simulation as sim\n",
    "from llops import vec"
   ]
  },
  {
   "cell_type": "markdown",
   "metadata": {},
   "source": [
    "## Define Backend and Datatype"
   ]
  },
  {
   "cell_type": "code",
   "execution_count": 2,
   "metadata": {
    "ExecuteTime": {
     "end_time": "2019-05-02T17:11:18.257877Z",
     "start_time": "2019-05-02T17:11:18.233009Z"
    },
    "scrolled": false
   },
   "outputs": [],
   "source": [
    "global_backend = 'numpy' # arrayfire or numpy\n",
    "global_dtype = 'complex32' # complex32 or complex64\n",
    "\n",
    "ops.setDefaultBackend(global_backend)\n",
    "ops.setDefaultDatatype(global_dtype)"
   ]
  },
  {
   "cell_type": "markdown",
   "metadata": {},
   "source": [
    "## Define Test Object and Forward Operator"
   ]
  },
  {
   "cell_type": "code",
   "execution_count": 3,
   "metadata": {
    "ExecuteTime": {
     "end_time": "2019-05-02T17:11:19.165484Z",
     "start_time": "2019-05-02T17:11:18.897637Z"
    },
    "scrolled": false
   },
   "outputs": [
    {
     "data": {
      "application/javascript": [
       "/* Put everything inside the global mpl namespace */\n",
       "window.mpl = {};\n",
       "\n",
       "\n",
       "mpl.get_websocket_type = function() {\n",
       "    if (typeof(WebSocket) !== 'undefined') {\n",
       "        return WebSocket;\n",
       "    } else if (typeof(MozWebSocket) !== 'undefined') {\n",
       "        return MozWebSocket;\n",
       "    } else {\n",
       "        alert('Your browser does not have WebSocket support. ' +\n",
       "              'Please try Chrome, Safari or Firefox ≥ 6. ' +\n",
       "              'Firefox 4 and 5 are also supported but you ' +\n",
       "              'have to enable WebSockets in about:config.');\n",
       "    };\n",
       "}\n",
       "\n",
       "mpl.figure = function(figure_id, websocket, ondownload, parent_element) {\n",
       "    this.id = figure_id;\n",
       "\n",
       "    this.ws = websocket;\n",
       "\n",
       "    this.supports_binary = (this.ws.binaryType != undefined);\n",
       "\n",
       "    if (!this.supports_binary) {\n",
       "        var warnings = document.getElementById(\"mpl-warnings\");\n",
       "        if (warnings) {\n",
       "            warnings.style.display = 'block';\n",
       "            warnings.textContent = (\n",
       "                \"This browser does not support binary websocket messages. \" +\n",
       "                    \"Performance may be slow.\");\n",
       "        }\n",
       "    }\n",
       "\n",
       "    this.imageObj = new Image();\n",
       "\n",
       "    this.context = undefined;\n",
       "    this.message = undefined;\n",
       "    this.canvas = undefined;\n",
       "    this.rubberband_canvas = undefined;\n",
       "    this.rubberband_context = undefined;\n",
       "    this.format_dropdown = undefined;\n",
       "\n",
       "    this.image_mode = 'full';\n",
       "\n",
       "    this.root = $('<div/>');\n",
       "    this._root_extra_style(this.root)\n",
       "    this.root.attr('style', 'display: inline-block');\n",
       "\n",
       "    $(parent_element).append(this.root);\n",
       "\n",
       "    this._init_header(this);\n",
       "    this._init_canvas(this);\n",
       "    this._init_toolbar(this);\n",
       "\n",
       "    var fig = this;\n",
       "\n",
       "    this.waiting = false;\n",
       "\n",
       "    this.ws.onopen =  function () {\n",
       "            fig.send_message(\"supports_binary\", {value: fig.supports_binary});\n",
       "            fig.send_message(\"send_image_mode\", {});\n",
       "            if (mpl.ratio != 1) {\n",
       "                fig.send_message(\"set_dpi_ratio\", {'dpi_ratio': mpl.ratio});\n",
       "            }\n",
       "            fig.send_message(\"refresh\", {});\n",
       "        }\n",
       "\n",
       "    this.imageObj.onload = function() {\n",
       "            if (fig.image_mode == 'full') {\n",
       "                // Full images could contain transparency (where diff images\n",
       "                // almost always do), so we need to clear the canvas so that\n",
       "                // there is no ghosting.\n",
       "                fig.context.clearRect(0, 0, fig.canvas.width, fig.canvas.height);\n",
       "            }\n",
       "            fig.context.drawImage(fig.imageObj, 0, 0);\n",
       "        };\n",
       "\n",
       "    this.imageObj.onunload = function() {\n",
       "        fig.ws.close();\n",
       "    }\n",
       "\n",
       "    this.ws.onmessage = this._make_on_message_function(this);\n",
       "\n",
       "    this.ondownload = ondownload;\n",
       "}\n",
       "\n",
       "mpl.figure.prototype._init_header = function() {\n",
       "    var titlebar = $(\n",
       "        '<div class=\"ui-dialog-titlebar ui-widget-header ui-corner-all ' +\n",
       "        'ui-helper-clearfix\"/>');\n",
       "    var titletext = $(\n",
       "        '<div class=\"ui-dialog-title\" style=\"width: 100%; ' +\n",
       "        'text-align: center; padding: 3px;\"/>');\n",
       "    titlebar.append(titletext)\n",
       "    this.root.append(titlebar);\n",
       "    this.header = titletext[0];\n",
       "}\n",
       "\n",
       "\n",
       "\n",
       "mpl.figure.prototype._canvas_extra_style = function(canvas_div) {\n",
       "\n",
       "}\n",
       "\n",
       "\n",
       "mpl.figure.prototype._root_extra_style = function(canvas_div) {\n",
       "\n",
       "}\n",
       "\n",
       "mpl.figure.prototype._init_canvas = function() {\n",
       "    var fig = this;\n",
       "\n",
       "    var canvas_div = $('<div/>');\n",
       "\n",
       "    canvas_div.attr('style', 'position: relative; clear: both; outline: 0');\n",
       "\n",
       "    function canvas_keyboard_event(event) {\n",
       "        return fig.key_event(event, event['data']);\n",
       "    }\n",
       "\n",
       "    canvas_div.keydown('key_press', canvas_keyboard_event);\n",
       "    canvas_div.keyup('key_release', canvas_keyboard_event);\n",
       "    this.canvas_div = canvas_div\n",
       "    this._canvas_extra_style(canvas_div)\n",
       "    this.root.append(canvas_div);\n",
       "\n",
       "    var canvas = $('<canvas/>');\n",
       "    canvas.addClass('mpl-canvas');\n",
       "    canvas.attr('style', \"left: 0; top: 0; z-index: 0; outline: 0\")\n",
       "\n",
       "    this.canvas = canvas[0];\n",
       "    this.context = canvas[0].getContext(\"2d\");\n",
       "\n",
       "    var backingStore = this.context.backingStorePixelRatio ||\n",
       "\tthis.context.webkitBackingStorePixelRatio ||\n",
       "\tthis.context.mozBackingStorePixelRatio ||\n",
       "\tthis.context.msBackingStorePixelRatio ||\n",
       "\tthis.context.oBackingStorePixelRatio ||\n",
       "\tthis.context.backingStorePixelRatio || 1;\n",
       "\n",
       "    mpl.ratio = (window.devicePixelRatio || 1) / backingStore;\n",
       "\n",
       "    var rubberband = $('<canvas/>');\n",
       "    rubberband.attr('style', \"position: absolute; left: 0; top: 0; z-index: 1;\")\n",
       "\n",
       "    var pass_mouse_events = true;\n",
       "\n",
       "    canvas_div.resizable({\n",
       "        start: function(event, ui) {\n",
       "            pass_mouse_events = false;\n",
       "        },\n",
       "        resize: function(event, ui) {\n",
       "            fig.request_resize(ui.size.width, ui.size.height);\n",
       "        },\n",
       "        stop: function(event, ui) {\n",
       "            pass_mouse_events = true;\n",
       "            fig.request_resize(ui.size.width, ui.size.height);\n",
       "        },\n",
       "    });\n",
       "\n",
       "    function mouse_event_fn(event) {\n",
       "        if (pass_mouse_events)\n",
       "            return fig.mouse_event(event, event['data']);\n",
       "    }\n",
       "\n",
       "    rubberband.mousedown('button_press', mouse_event_fn);\n",
       "    rubberband.mouseup('button_release', mouse_event_fn);\n",
       "    // Throttle sequential mouse events to 1 every 20ms.\n",
       "    rubberband.mousemove('motion_notify', mouse_event_fn);\n",
       "\n",
       "    rubberband.mouseenter('figure_enter', mouse_event_fn);\n",
       "    rubberband.mouseleave('figure_leave', mouse_event_fn);\n",
       "\n",
       "    canvas_div.on(\"wheel\", function (event) {\n",
       "        event = event.originalEvent;\n",
       "        event['data'] = 'scroll'\n",
       "        if (event.deltaY < 0) {\n",
       "            event.step = 1;\n",
       "        } else {\n",
       "            event.step = -1;\n",
       "        }\n",
       "        mouse_event_fn(event);\n",
       "    });\n",
       "\n",
       "    canvas_div.append(canvas);\n",
       "    canvas_div.append(rubberband);\n",
       "\n",
       "    this.rubberband = rubberband;\n",
       "    this.rubberband_canvas = rubberband[0];\n",
       "    this.rubberband_context = rubberband[0].getContext(\"2d\");\n",
       "    this.rubberband_context.strokeStyle = \"#000000\";\n",
       "\n",
       "    this._resize_canvas = function(width, height) {\n",
       "        // Keep the size of the canvas, canvas container, and rubber band\n",
       "        // canvas in synch.\n",
       "        canvas_div.css('width', width)\n",
       "        canvas_div.css('height', height)\n",
       "\n",
       "        canvas.attr('width', width * mpl.ratio);\n",
       "        canvas.attr('height', height * mpl.ratio);\n",
       "        canvas.attr('style', 'width: ' + width + 'px; height: ' + height + 'px;');\n",
       "\n",
       "        rubberband.attr('width', width);\n",
       "        rubberband.attr('height', height);\n",
       "    }\n",
       "\n",
       "    // Set the figure to an initial 600x600px, this will subsequently be updated\n",
       "    // upon first draw.\n",
       "    this._resize_canvas(600, 600);\n",
       "\n",
       "    // Disable right mouse context menu.\n",
       "    $(this.rubberband_canvas).bind(\"contextmenu\",function(e){\n",
       "        return false;\n",
       "    });\n",
       "\n",
       "    function set_focus () {\n",
       "        canvas.focus();\n",
       "        canvas_div.focus();\n",
       "    }\n",
       "\n",
       "    window.setTimeout(set_focus, 100);\n",
       "}\n",
       "\n",
       "mpl.figure.prototype._init_toolbar = function() {\n",
       "    var fig = this;\n",
       "\n",
       "    var nav_element = $('<div/>');\n",
       "    nav_element.attr('style', 'width: 100%');\n",
       "    this.root.append(nav_element);\n",
       "\n",
       "    // Define a callback function for later on.\n",
       "    function toolbar_event(event) {\n",
       "        return fig.toolbar_button_onclick(event['data']);\n",
       "    }\n",
       "    function toolbar_mouse_event(event) {\n",
       "        return fig.toolbar_button_onmouseover(event['data']);\n",
       "    }\n",
       "\n",
       "    for(var toolbar_ind in mpl.toolbar_items) {\n",
       "        var name = mpl.toolbar_items[toolbar_ind][0];\n",
       "        var tooltip = mpl.toolbar_items[toolbar_ind][1];\n",
       "        var image = mpl.toolbar_items[toolbar_ind][2];\n",
       "        var method_name = mpl.toolbar_items[toolbar_ind][3];\n",
       "\n",
       "        if (!name) {\n",
       "            // put a spacer in here.\n",
       "            continue;\n",
       "        }\n",
       "        var button = $('<button/>');\n",
       "        button.addClass('ui-button ui-widget ui-state-default ui-corner-all ' +\n",
       "                        'ui-button-icon-only');\n",
       "        button.attr('role', 'button');\n",
       "        button.attr('aria-disabled', 'false');\n",
       "        button.click(method_name, toolbar_event);\n",
       "        button.mouseover(tooltip, toolbar_mouse_event);\n",
       "\n",
       "        var icon_img = $('<span/>');\n",
       "        icon_img.addClass('ui-button-icon-primary ui-icon');\n",
       "        icon_img.addClass(image);\n",
       "        icon_img.addClass('ui-corner-all');\n",
       "\n",
       "        var tooltip_span = $('<span/>');\n",
       "        tooltip_span.addClass('ui-button-text');\n",
       "        tooltip_span.html(tooltip);\n",
       "\n",
       "        button.append(icon_img);\n",
       "        button.append(tooltip_span);\n",
       "\n",
       "        nav_element.append(button);\n",
       "    }\n",
       "\n",
       "    var fmt_picker_span = $('<span/>');\n",
       "\n",
       "    var fmt_picker = $('<select/>');\n",
       "    fmt_picker.addClass('mpl-toolbar-option ui-widget ui-widget-content');\n",
       "    fmt_picker_span.append(fmt_picker);\n",
       "    nav_element.append(fmt_picker_span);\n",
       "    this.format_dropdown = fmt_picker[0];\n",
       "\n",
       "    for (var ind in mpl.extensions) {\n",
       "        var fmt = mpl.extensions[ind];\n",
       "        var option = $(\n",
       "            '<option/>', {selected: fmt === mpl.default_extension}).html(fmt);\n",
       "        fmt_picker.append(option);\n",
       "    }\n",
       "\n",
       "    // Add hover states to the ui-buttons\n",
       "    $( \".ui-button\" ).hover(\n",
       "        function() { $(this).addClass(\"ui-state-hover\");},\n",
       "        function() { $(this).removeClass(\"ui-state-hover\");}\n",
       "    );\n",
       "\n",
       "    var status_bar = $('<span class=\"mpl-message\"/>');\n",
       "    nav_element.append(status_bar);\n",
       "    this.message = status_bar[0];\n",
       "}\n",
       "\n",
       "mpl.figure.prototype.request_resize = function(x_pixels, y_pixels) {\n",
       "    // Request matplotlib to resize the figure. Matplotlib will then trigger a resize in the client,\n",
       "    // which will in turn request a refresh of the image.\n",
       "    this.send_message('resize', {'width': x_pixels, 'height': y_pixels});\n",
       "}\n",
       "\n",
       "mpl.figure.prototype.send_message = function(type, properties) {\n",
       "    properties['type'] = type;\n",
       "    properties['figure_id'] = this.id;\n",
       "    this.ws.send(JSON.stringify(properties));\n",
       "}\n",
       "\n",
       "mpl.figure.prototype.send_draw_message = function() {\n",
       "    if (!this.waiting) {\n",
       "        this.waiting = true;\n",
       "        this.ws.send(JSON.stringify({type: \"draw\", figure_id: this.id}));\n",
       "    }\n",
       "}\n",
       "\n",
       "\n",
       "mpl.figure.prototype.handle_save = function(fig, msg) {\n",
       "    var format_dropdown = fig.format_dropdown;\n",
       "    var format = format_dropdown.options[format_dropdown.selectedIndex].value;\n",
       "    fig.ondownload(fig, format);\n",
       "}\n",
       "\n",
       "\n",
       "mpl.figure.prototype.handle_resize = function(fig, msg) {\n",
       "    var size = msg['size'];\n",
       "    if (size[0] != fig.canvas.width || size[1] != fig.canvas.height) {\n",
       "        fig._resize_canvas(size[0], size[1]);\n",
       "        fig.send_message(\"refresh\", {});\n",
       "    };\n",
       "}\n",
       "\n",
       "mpl.figure.prototype.handle_rubberband = function(fig, msg) {\n",
       "    var x0 = msg['x0'] / mpl.ratio;\n",
       "    var y0 = (fig.canvas.height - msg['y0']) / mpl.ratio;\n",
       "    var x1 = msg['x1'] / mpl.ratio;\n",
       "    var y1 = (fig.canvas.height - msg['y1']) / mpl.ratio;\n",
       "    x0 = Math.floor(x0) + 0.5;\n",
       "    y0 = Math.floor(y0) + 0.5;\n",
       "    x1 = Math.floor(x1) + 0.5;\n",
       "    y1 = Math.floor(y1) + 0.5;\n",
       "    var min_x = Math.min(x0, x1);\n",
       "    var min_y = Math.min(y0, y1);\n",
       "    var width = Math.abs(x1 - x0);\n",
       "    var height = Math.abs(y1 - y0);\n",
       "\n",
       "    fig.rubberband_context.clearRect(\n",
       "        0, 0, fig.canvas.width, fig.canvas.height);\n",
       "\n",
       "    fig.rubberband_context.strokeRect(min_x, min_y, width, height);\n",
       "}\n",
       "\n",
       "mpl.figure.prototype.handle_figure_label = function(fig, msg) {\n",
       "    // Updates the figure title.\n",
       "    fig.header.textContent = msg['label'];\n",
       "}\n",
       "\n",
       "mpl.figure.prototype.handle_cursor = function(fig, msg) {\n",
       "    var cursor = msg['cursor'];\n",
       "    switch(cursor)\n",
       "    {\n",
       "    case 0:\n",
       "        cursor = 'pointer';\n",
       "        break;\n",
       "    case 1:\n",
       "        cursor = 'default';\n",
       "        break;\n",
       "    case 2:\n",
       "        cursor = 'crosshair';\n",
       "        break;\n",
       "    case 3:\n",
       "        cursor = 'move';\n",
       "        break;\n",
       "    }\n",
       "    fig.rubberband_canvas.style.cursor = cursor;\n",
       "}\n",
       "\n",
       "mpl.figure.prototype.handle_message = function(fig, msg) {\n",
       "    fig.message.textContent = msg['message'];\n",
       "}\n",
       "\n",
       "mpl.figure.prototype.handle_draw = function(fig, msg) {\n",
       "    // Request the server to send over a new figure.\n",
       "    fig.send_draw_message();\n",
       "}\n",
       "\n",
       "mpl.figure.prototype.handle_image_mode = function(fig, msg) {\n",
       "    fig.image_mode = msg['mode'];\n",
       "}\n",
       "\n",
       "mpl.figure.prototype.updated_canvas_event = function() {\n",
       "    // Called whenever the canvas gets updated.\n",
       "    this.send_message(\"ack\", {});\n",
       "}\n",
       "\n",
       "// A function to construct a web socket function for onmessage handling.\n",
       "// Called in the figure constructor.\n",
       "mpl.figure.prototype._make_on_message_function = function(fig) {\n",
       "    return function socket_on_message(evt) {\n",
       "        if (evt.data instanceof Blob) {\n",
       "            /* FIXME: We get \"Resource interpreted as Image but\n",
       "             * transferred with MIME type text/plain:\" errors on\n",
       "             * Chrome.  But how to set the MIME type?  It doesn't seem\n",
       "             * to be part of the websocket stream */\n",
       "            evt.data.type = \"image/png\";\n",
       "\n",
       "            /* Free the memory for the previous frames */\n",
       "            if (fig.imageObj.src) {\n",
       "                (window.URL || window.webkitURL).revokeObjectURL(\n",
       "                    fig.imageObj.src);\n",
       "            }\n",
       "\n",
       "            fig.imageObj.src = (window.URL || window.webkitURL).createObjectURL(\n",
       "                evt.data);\n",
       "            fig.updated_canvas_event();\n",
       "            fig.waiting = false;\n",
       "            return;\n",
       "        }\n",
       "        else if (typeof evt.data === 'string' && evt.data.slice(0, 21) == \"data:image/png;base64\") {\n",
       "            fig.imageObj.src = evt.data;\n",
       "            fig.updated_canvas_event();\n",
       "            fig.waiting = false;\n",
       "            return;\n",
       "        }\n",
       "\n",
       "        var msg = JSON.parse(evt.data);\n",
       "        var msg_type = msg['type'];\n",
       "\n",
       "        // Call the  \"handle_{type}\" callback, which takes\n",
       "        // the figure and JSON message as its only arguments.\n",
       "        try {\n",
       "            var callback = fig[\"handle_\" + msg_type];\n",
       "        } catch (e) {\n",
       "            console.log(\"No handler for the '\" + msg_type + \"' message type: \", msg);\n",
       "            return;\n",
       "        }\n",
       "\n",
       "        if (callback) {\n",
       "            try {\n",
       "                // console.log(\"Handling '\" + msg_type + \"' message: \", msg);\n",
       "                callback(fig, msg);\n",
       "            } catch (e) {\n",
       "                console.log(\"Exception inside the 'handler_\" + msg_type + \"' callback:\", e, e.stack, msg);\n",
       "            }\n",
       "        }\n",
       "    };\n",
       "}\n",
       "\n",
       "// from http://stackoverflow.com/questions/1114465/getting-mouse-location-in-canvas\n",
       "mpl.findpos = function(e) {\n",
       "    //this section is from http://www.quirksmode.org/js/events_properties.html\n",
       "    var targ;\n",
       "    if (!e)\n",
       "        e = window.event;\n",
       "    if (e.target)\n",
       "        targ = e.target;\n",
       "    else if (e.srcElement)\n",
       "        targ = e.srcElement;\n",
       "    if (targ.nodeType == 3) // defeat Safari bug\n",
       "        targ = targ.parentNode;\n",
       "\n",
       "    // jQuery normalizes the pageX and pageY\n",
       "    // pageX,Y are the mouse positions relative to the document\n",
       "    // offset() returns the position of the element relative to the document\n",
       "    var x = e.pageX - $(targ).offset().left;\n",
       "    var y = e.pageY - $(targ).offset().top;\n",
       "\n",
       "    return {\"x\": x, \"y\": y};\n",
       "};\n",
       "\n",
       "/*\n",
       " * return a copy of an object with only non-object keys\n",
       " * we need this to avoid circular references\n",
       " * http://stackoverflow.com/a/24161582/3208463\n",
       " */\n",
       "function simpleKeys (original) {\n",
       "  return Object.keys(original).reduce(function (obj, key) {\n",
       "    if (typeof original[key] !== 'object')\n",
       "        obj[key] = original[key]\n",
       "    return obj;\n",
       "  }, {});\n",
       "}\n",
       "\n",
       "mpl.figure.prototype.mouse_event = function(event, name) {\n",
       "    var canvas_pos = mpl.findpos(event)\n",
       "\n",
       "    if (name === 'button_press')\n",
       "    {\n",
       "        this.canvas.focus();\n",
       "        this.canvas_div.focus();\n",
       "    }\n",
       "\n",
       "    var x = canvas_pos.x * mpl.ratio;\n",
       "    var y = canvas_pos.y * mpl.ratio;\n",
       "\n",
       "    this.send_message(name, {x: x, y: y, button: event.button,\n",
       "                             step: event.step,\n",
       "                             guiEvent: simpleKeys(event)});\n",
       "\n",
       "    /* This prevents the web browser from automatically changing to\n",
       "     * the text insertion cursor when the button is pressed.  We want\n",
       "     * to control all of the cursor setting manually through the\n",
       "     * 'cursor' event from matplotlib */\n",
       "    event.preventDefault();\n",
       "    return false;\n",
       "}\n",
       "\n",
       "mpl.figure.prototype._key_event_extra = function(event, name) {\n",
       "    // Handle any extra behaviour associated with a key event\n",
       "}\n",
       "\n",
       "mpl.figure.prototype.key_event = function(event, name) {\n",
       "\n",
       "    // Prevent repeat events\n",
       "    if (name == 'key_press')\n",
       "    {\n",
       "        if (event.which === this._key)\n",
       "            return;\n",
       "        else\n",
       "            this._key = event.which;\n",
       "    }\n",
       "    if (name == 'key_release')\n",
       "        this._key = null;\n",
       "\n",
       "    var value = '';\n",
       "    if (event.ctrlKey && event.which != 17)\n",
       "        value += \"ctrl+\";\n",
       "    if (event.altKey && event.which != 18)\n",
       "        value += \"alt+\";\n",
       "    if (event.shiftKey && event.which != 16)\n",
       "        value += \"shift+\";\n",
       "\n",
       "    value += 'k';\n",
       "    value += event.which.toString();\n",
       "\n",
       "    this._key_event_extra(event, name);\n",
       "\n",
       "    this.send_message(name, {key: value,\n",
       "                             guiEvent: simpleKeys(event)});\n",
       "    return false;\n",
       "}\n",
       "\n",
       "mpl.figure.prototype.toolbar_button_onclick = function(name) {\n",
       "    if (name == 'download') {\n",
       "        this.handle_save(this, null);\n",
       "    } else {\n",
       "        this.send_message(\"toolbar_button\", {name: name});\n",
       "    }\n",
       "};\n",
       "\n",
       "mpl.figure.prototype.toolbar_button_onmouseover = function(tooltip) {\n",
       "    this.message.textContent = tooltip;\n",
       "};\n",
       "mpl.toolbar_items = [[\"Home\", \"Reset original view\", \"fa fa-home icon-home\", \"home\"], [\"Back\", \"Back to previous view\", \"fa fa-arrow-left icon-arrow-left\", \"back\"], [\"Forward\", \"Forward to next view\", \"fa fa-arrow-right icon-arrow-right\", \"forward\"], [\"\", \"\", \"\", \"\"], [\"Pan\", \"Pan axes with left mouse, zoom with right\", \"fa fa-arrows icon-move\", \"pan\"], [\"Zoom\", \"Zoom to rectangle\", \"fa fa-square-o icon-check-empty\", \"zoom\"], [\"\", \"\", \"\", \"\"], [\"Download\", \"Download plot\", \"fa fa-floppy-o icon-save\", \"download\"]];\n",
       "\n",
       "mpl.extensions = [\"eps\", \"jpeg\", \"pdf\", \"png\", \"ps\", \"raw\", \"svg\", \"tif\"];\n",
       "\n",
       "mpl.default_extension = \"png\";var comm_websocket_adapter = function(comm) {\n",
       "    // Create a \"websocket\"-like object which calls the given IPython comm\n",
       "    // object with the appropriate methods. Currently this is a non binary\n",
       "    // socket, so there is still some room for performance tuning.\n",
       "    var ws = {};\n",
       "\n",
       "    ws.close = function() {\n",
       "        comm.close()\n",
       "    };\n",
       "    ws.send = function(m) {\n",
       "        //console.log('sending', m);\n",
       "        comm.send(m);\n",
       "    };\n",
       "    // Register the callback with on_msg.\n",
       "    comm.on_msg(function(msg) {\n",
       "        //console.log('receiving', msg['content']['data'], msg);\n",
       "        // Pass the mpl event to the overridden (by mpl) onmessage function.\n",
       "        ws.onmessage(msg['content']['data'])\n",
       "    });\n",
       "    return ws;\n",
       "}\n",
       "\n",
       "mpl.mpl_figure_comm = function(comm, msg) {\n",
       "    // This is the function which gets called when the mpl process\n",
       "    // starts-up an IPython Comm through the \"matplotlib\" channel.\n",
       "\n",
       "    var id = msg.content.data.id;\n",
       "    // Get hold of the div created by the display call when the Comm\n",
       "    // socket was opened in Python.\n",
       "    var element = $(\"#\" + id);\n",
       "    var ws_proxy = comm_websocket_adapter(comm)\n",
       "\n",
       "    function ondownload(figure, format) {\n",
       "        window.open(figure.imageObj.src);\n",
       "    }\n",
       "\n",
       "    var fig = new mpl.figure(id, ws_proxy,\n",
       "                           ondownload,\n",
       "                           element.get(0));\n",
       "\n",
       "    // Call onopen now - mpl needs it, as it is assuming we've passed it a real\n",
       "    // web socket which is closed, not our websocket->open comm proxy.\n",
       "    ws_proxy.onopen();\n",
       "\n",
       "    fig.parent_element = element.get(0);\n",
       "    fig.cell_info = mpl.find_output_cell(\"<div id='\" + id + \"'></div>\");\n",
       "    if (!fig.cell_info) {\n",
       "        console.error(\"Failed to find cell for figure\", id, fig);\n",
       "        return;\n",
       "    }\n",
       "\n",
       "    var output_index = fig.cell_info[2]\n",
       "    var cell = fig.cell_info[0];\n",
       "\n",
       "};\n",
       "\n",
       "mpl.figure.prototype.handle_close = function(fig, msg) {\n",
       "    var width = fig.canvas.width/mpl.ratio\n",
       "    fig.root.unbind('remove')\n",
       "\n",
       "    // Update the output cell to use the data from the current canvas.\n",
       "    fig.push_to_output();\n",
       "    var dataURL = fig.canvas.toDataURL();\n",
       "    // Re-enable the keyboard manager in IPython - without this line, in FF,\n",
       "    // the notebook keyboard shortcuts fail.\n",
       "    IPython.keyboard_manager.enable()\n",
       "    $(fig.parent_element).html('<img src=\"' + dataURL + '\" width=\"' + width + '\">');\n",
       "    fig.close_ws(fig, msg);\n",
       "}\n",
       "\n",
       "mpl.figure.prototype.close_ws = function(fig, msg){\n",
       "    fig.send_message('closing', msg);\n",
       "    // fig.ws.close()\n",
       "}\n",
       "\n",
       "mpl.figure.prototype.push_to_output = function(remove_interactive) {\n",
       "    // Turn the data on the canvas into data in the output cell.\n",
       "    var width = this.canvas.width/mpl.ratio\n",
       "    var dataURL = this.canvas.toDataURL();\n",
       "    this.cell_info[1]['text/html'] = '<img src=\"' + dataURL + '\" width=\"' + width + '\">';\n",
       "}\n",
       "\n",
       "mpl.figure.prototype.updated_canvas_event = function() {\n",
       "    // Tell IPython that the notebook contents must change.\n",
       "    IPython.notebook.set_dirty(true);\n",
       "    this.send_message(\"ack\", {});\n",
       "    var fig = this;\n",
       "    // Wait a second, then push the new image to the DOM so\n",
       "    // that it is saved nicely (might be nice to debounce this).\n",
       "    setTimeout(function () { fig.push_to_output() }, 1000);\n",
       "}\n",
       "\n",
       "mpl.figure.prototype._init_toolbar = function() {\n",
       "    var fig = this;\n",
       "\n",
       "    var nav_element = $('<div/>');\n",
       "    nav_element.attr('style', 'width: 100%');\n",
       "    this.root.append(nav_element);\n",
       "\n",
       "    // Define a callback function for later on.\n",
       "    function toolbar_event(event) {\n",
       "        return fig.toolbar_button_onclick(event['data']);\n",
       "    }\n",
       "    function toolbar_mouse_event(event) {\n",
       "        return fig.toolbar_button_onmouseover(event['data']);\n",
       "    }\n",
       "\n",
       "    for(var toolbar_ind in mpl.toolbar_items){\n",
       "        var name = mpl.toolbar_items[toolbar_ind][0];\n",
       "        var tooltip = mpl.toolbar_items[toolbar_ind][1];\n",
       "        var image = mpl.toolbar_items[toolbar_ind][2];\n",
       "        var method_name = mpl.toolbar_items[toolbar_ind][3];\n",
       "\n",
       "        if (!name) { continue; };\n",
       "\n",
       "        var button = $('<button class=\"btn btn-default\" href=\"#\" title=\"' + name + '\"><i class=\"fa ' + image + ' fa-lg\"></i></button>');\n",
       "        button.click(method_name, toolbar_event);\n",
       "        button.mouseover(tooltip, toolbar_mouse_event);\n",
       "        nav_element.append(button);\n",
       "    }\n",
       "\n",
       "    // Add the status bar.\n",
       "    var status_bar = $('<span class=\"mpl-message\" style=\"text-align:right; float: right;\"/>');\n",
       "    nav_element.append(status_bar);\n",
       "    this.message = status_bar[0];\n",
       "\n",
       "    // Add the close button to the window.\n",
       "    var buttongrp = $('<div class=\"btn-group inline pull-right\"></div>');\n",
       "    var button = $('<button class=\"btn btn-mini btn-primary\" href=\"#\" title=\"Stop Interaction\"><i class=\"fa fa-power-off icon-remove icon-large\"></i></button>');\n",
       "    button.click(function (evt) { fig.handle_close(fig, {}); } );\n",
       "    button.mouseover('Stop Interaction', toolbar_mouse_event);\n",
       "    buttongrp.append(button);\n",
       "    var titlebar = this.root.find($('.ui-dialog-titlebar'));\n",
       "    titlebar.prepend(buttongrp);\n",
       "}\n",
       "\n",
       "mpl.figure.prototype._root_extra_style = function(el){\n",
       "    var fig = this\n",
       "    el.on(\"remove\", function(){\n",
       "\tfig.close_ws(fig, {});\n",
       "    });\n",
       "}\n",
       "\n",
       "mpl.figure.prototype._canvas_extra_style = function(el){\n",
       "    // this is important to make the div 'focusable\n",
       "    el.attr('tabindex', 0)\n",
       "    // reach out to IPython and tell the keyboard manager to turn it's self\n",
       "    // off when our div gets focus\n",
       "\n",
       "    // location in version 3\n",
       "    if (IPython.notebook.keyboard_manager) {\n",
       "        IPython.notebook.keyboard_manager.register_events(el);\n",
       "    }\n",
       "    else {\n",
       "        // location in version 2\n",
       "        IPython.keyboard_manager.register_events(el);\n",
       "    }\n",
       "\n",
       "}\n",
       "\n",
       "mpl.figure.prototype._key_event_extra = function(event, name) {\n",
       "    var manager = IPython.notebook.keyboard_manager;\n",
       "    if (!manager)\n",
       "        manager = IPython.keyboard_manager;\n",
       "\n",
       "    // Check for shift+enter\n",
       "    if (event.shiftKey && event.which == 13) {\n",
       "        this.canvas_div.blur();\n",
       "        event.shiftKey = false;\n",
       "        // Send a \"J\" for go to next cell\n",
       "        event.which = 74;\n",
       "        event.keyCode = 74;\n",
       "        manager.command_mode();\n",
       "        manager.handle_keydown(event);\n",
       "    }\n",
       "}\n",
       "\n",
       "mpl.figure.prototype.handle_save = function(fig, msg) {\n",
       "    fig.ondownload(fig, null);\n",
       "}\n",
       "\n",
       "\n",
       "mpl.find_output_cell = function(html_output) {\n",
       "    // Return the cell and output element which can be found *uniquely* in the notebook.\n",
       "    // Note - this is a bit hacky, but it is done because the \"notebook_saving.Notebook\"\n",
       "    // IPython event is triggered only after the cells have been serialised, which for\n",
       "    // our purposes (turning an active figure into a static one), is too late.\n",
       "    var cells = IPython.notebook.get_cells();\n",
       "    var ncells = cells.length;\n",
       "    for (var i=0; i<ncells; i++) {\n",
       "        var cell = cells[i];\n",
       "        if (cell.cell_type === 'code'){\n",
       "            for (var j=0; j<cell.output_area.outputs.length; j++) {\n",
       "                var data = cell.output_area.outputs[j];\n",
       "                if (data.data) {\n",
       "                    // IPython >= 3 moved mimebundle to data attribute of output\n",
       "                    data = data.data;\n",
       "                }\n",
       "                if (data['text/html'] == html_output) {\n",
       "                    return [cell, data, j];\n",
       "                }\n",
       "            }\n",
       "        }\n",
       "    }\n",
       "}\n",
       "\n",
       "// Register the function which deals with the matplotlib target/channel.\n",
       "// The kernel may be null if the page has been refreshed.\n",
       "if (IPython.notebook.kernel != null) {\n",
       "    IPython.notebook.kernel.comm_manager.register_target('matplotlib', mpl.mpl_figure_comm);\n",
       "}\n"
      ],
      "text/plain": [
       "<IPython.core.display.Javascript object>"
      ]
     },
     "metadata": {},
     "output_type": "display_data"
    },
    {
     "data": {
      "text/html": [
       "<img src=\"data:image/png;base64,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\" width=\"1200\">"
      ],
      "text/plain": [
       "<IPython.core.display.HTML object>"
      ]
     },
     "metadata": {},
     "output_type": "display_data"
    }
   ],
   "source": [
    "# Image size to simulate\n",
    "image_size = np.array([64, 128])\n",
    "\n",
    "# Determine machine precision threshold\n",
    "eps = yp.precision(global_dtype) * np.prod(image_size)\n",
    "\n",
    "# Load object and crop to size\n",
    "x = sim.brain(image_size)\n",
    "\n",
    "# Generate convolution kernel h\n",
    "h_size = np.array([4, 4])\n",
    "h = yp.zeros(image_size, global_dtype, global_backend)\n",
    "h[image_size[0] // 2 - h_size[0] // 2:image_size[0] // 2 + h_size[0] // 2,\n",
    "  image_size[1] // 2 - h_size[1] // 2:image_size[1] // 2 + h_size[1] // 2] = yp.randn((h_size[0], h_size[1]), global_dtype, global_backend)\n",
    "\n",
    "h /= yp.scalar(yp.sum(yp.abs(h)))\n",
    "\n",
    "# Forward Operator\n",
    "A = ops.Convolution(h, mode='circular', pad_value='mean', invalid_support_value=0)\n",
    "A.inverse_regularizer = 1e-2\n",
    "\n",
    "# Generate Measurement\n",
    "y = A * x\n",
    "\n",
    "# Reconstruction\n",
    "x_star = A.inv * y\n",
    "\n",
    "# Show object and h\n",
    "plt.figure(figsize=(12,3))\n",
    "plt.subplot(141)\n",
    "plt.imshow(yp.abs(yp.changeBackend(x, 'numpy')), cmap='gray')\n",
    "plt.title('Object (x)')\n",
    "plt.subplot(142)\n",
    "plt.imshow(yp.abs(np.asarray(h)), cmap='gray')\n",
    "plt.title('h (A)')\n",
    "plt.subplot(143)\n",
    "plt.imshow((yp.abs(np.asarray(y))), cmap='gray')\n",
    "plt.title('Measurement (A * x)');\n",
    "plt.subplot(144)\n",
    "plt.imshow((yp.abs(np.asarray(x_star))), cmap='gray')\n",
    "plt.title('Recon (A.inv * A * x)');"
   ]
  },
  {
   "cell_type": "markdown",
   "metadata": {},
   "source": [
    "## Identity Operator"
   ]
  },
  {
   "cell_type": "code",
   "execution_count": 4,
   "metadata": {
    "ExecuteTime": {
     "end_time": "2019-05-02T17:11:20.083953Z",
     "start_time": "2019-05-02T17:11:20.055188Z"
    }
   },
   "outputs": [
    {
     "data": {
      "text/latex": [
       "$I(\\vec{x}) = I \\times \\vec{x}$"
      ],
      "text/plain": [
       "<IPython.core.display.Latex object>"
      ]
     },
     "metadata": {},
     "output_type": "display_data"
    },
    {
     "data": {
      "text/latex": [
       "$ \\nabla_xI(\\vec{x}) = I^H \\times \\vec{x}$"
      ],
      "text/plain": [
       "<IPython.core.display.Latex object>"
      ]
     },
     "metadata": {},
     "output_type": "display_data"
    }
   ],
   "source": [
    "I = ops.Identity(image_size)\n",
    "\n",
    "# Check forward operator\n",
    "assert yp.sum((I * x) - x) < eps\n",
    "\n",
    "# Check gradient\n",
    "I.gradient_check()\n",
    "\n",
    "# Render forward model\n",
    "I.latex()\n",
    "\n",
    "# Render gradient\n",
    "I.latex(gradient=True)"
   ]
  },
  {
   "cell_type": "markdown",
   "metadata": {},
   "source": [
    "## Diagonalization Operator"
   ]
  },
  {
   "cell_type": "code",
   "execution_count": 5,
   "metadata": {
    "ExecuteTime": {
     "end_time": "2019-05-02T17:11:20.938057Z",
     "start_time": "2019-05-02T17:11:20.909816Z"
    }
   },
   "outputs": [
    {
     "data": {
      "text/latex": [
       "$d(\\vec{x}) = diag(\\vec{d})\\times \\vec{x}$"
      ],
      "text/plain": [
       "<IPython.core.display.Latex object>"
      ]
     },
     "metadata": {},
     "output_type": "display_data"
    },
    {
     "data": {
      "text/latex": [
       "$ \\nabla_xd(\\vec{x}) = diag(\\vec{d})^H \\times \\vec{x}$"
      ],
      "text/plain": [
       "<IPython.core.display.Latex object>"
      ]
     },
     "metadata": {},
     "output_type": "display_data"
    }
   ],
   "source": [
    "K = ops.Diagonalize(h)\n",
    "\n",
    "# Check forward operator\n",
    "yp.assert_equality(K * x, h * x)\n",
    "\n",
    "# Check gradient\n",
    "K.gradient_check()\n",
    "\n",
    "# Render forward model\n",
    "K.latex()\n",
    "\n",
    "# Render gradient\n",
    "K.latex(gradient=True)"
   ]
  },
  {
   "cell_type": "markdown",
   "metadata": {},
   "source": [
    "## Matrix Multiplication Operator"
   ]
  },
  {
   "cell_type": "code",
   "execution_count": 6,
   "metadata": {
    "ExecuteTime": {
     "end_time": "2019-05-02T17:11:21.663276Z",
     "start_time": "2019-05-02T17:11:21.630811Z"
    }
   },
   "outputs": [
    {
     "data": {
      "text/latex": [
       "$A(\\vec{x}) = M\\vec{x}$"
      ],
      "text/plain": [
       "<IPython.core.display.Latex object>"
      ]
     },
     "metadata": {},
     "output_type": "display_data"
    },
    {
     "data": {
      "text/latex": [
       "$ \\nabla_xA(\\vec{x}) = M^H \\times \\vec{x}$"
      ],
      "text/plain": [
       "<IPython.core.display.Latex object>"
      ]
     },
     "metadata": {},
     "output_type": "display_data"
    }
   ],
   "source": [
    "matrix_size = (10,10)\n",
    "m = yp.rand(matrix_size, global_dtype, global_backend)\n",
    "xm = yp.rand(matrix_size[1], global_dtype, global_backend)\n",
    "M = ops.MatrixMultiply(m)\n",
    "\n",
    "# Check Forward operator\n",
    "assert yp.sum(yp.abs(yp.vec(yp.changeBackend(M * xm, 'numpy')) - yp.vec(yp.changeBackend(m, 'numpy').dot(yp.changeBackend(xm, 'numpy'))))) < eps, \"%f\" % yp.sum(yp.abs(yp.changeBackend(M * xm, 'numpy') - yp.changeBackend(m, 'numpy').dot(yp.changeBackend(xm, 'numpy'))[:, np.newaxis]))\n",
    "\n",
    "# Check Adjoint\n",
    "assert yp.sum(yp.abs(yp.vec(yp.changeBackend(M.H * xm, 'numpy')) - yp.vec(np.conj(yp.changeBackend(m, 'numpy').T).dot(yp.changeBackend(xm, 'numpy'))))) < eps, \"%f\" % yp.sum(yp.abs(yp.changeBackend(M.H * xm, 'numpy') - np.conj(yp.changeBackend(m, 'numpy').T).dot(yp.changeBackend(xm, 'numpy'))[:, np.newaxis]))\n",
    "\n",
    "# Check gradient\n",
    "M.gradient_check()\n",
    "\n",
    "# Render forward model\n",
    "M.latex()\n",
    "\n",
    "# Render gradient\n",
    "M.latex(gradient=True)"
   ]
  },
  {
   "cell_type": "markdown",
   "metadata": {},
   "source": [
    "## Circular Convolution Operator"
   ]
  },
  {
   "cell_type": "code",
   "execution_count": 7,
   "metadata": {
    "ExecuteTime": {
     "end_time": "2019-05-02T17:11:22.431719Z",
     "start_time": "2019-05-02T17:11:22.395973Z"
    }
   },
   "outputs": [
    {
     "data": {
      "text/latex": [
       "$C(\\vec{x}) = C \\times \\vec{x}$"
      ],
      "text/plain": [
       "<IPython.core.display.Latex object>"
      ]
     },
     "metadata": {},
     "output_type": "display_data"
    },
    {
     "data": {
      "text/latex": [
       "$ \\nabla_xC(\\vec{x}) = C^H \\times \\vec{x}$"
      ],
      "text/plain": [
       "<IPython.core.display.Latex object>"
      ]
     },
     "metadata": {},
     "output_type": "display_data"
    }
   ],
   "source": [
    "# Generate circular convolution operator\n",
    "C = ops.Convolution(h)\n",
    "\n",
    "# Test forward operator\n",
    "conv2 = lambda x, h: yp.changeBackend(np.fft.ifftshift((np.fft.ifft2(np.fft.fft2(x, axes=(0,1), norm='ortho') * np.fft.fft2(h, axes=(0,1), norm='ortho'), axes=(0,1), norm='ortho')), axes=(0,1)).astype(yp.getNativeDatatype(global_dtype, 'numpy')), global_backend)\n",
    "\n",
    "x_np = yp.changeBackend(x, 'numpy')\n",
    "h_np = yp.changeBackend(h, 'numpy')\n",
    "\n",
    "# Check gradient\n",
    "C.gradient_check(eps=1e-0)\n",
    "\n",
    "# Render forward model\n",
    "C.latex()\n",
    "\n",
    "# Render gradient\n",
    "C.latex(gradient=True)"
   ]
  },
  {
   "cell_type": "markdown",
   "metadata": {},
   "source": [
    "## Non-circular Convolution Operator"
   ]
  },
  {
   "cell_type": "code",
   "execution_count": 8,
   "metadata": {
    "ExecuteTime": {
     "end_time": "2019-05-02T17:11:23.224852Z",
     "start_time": "2019-05-02T17:11:23.116176Z"
    }
   },
   "outputs": [
    {
     "data": {
      "application/javascript": [
       "/* Put everything inside the global mpl namespace */\n",
       "window.mpl = {};\n",
       "\n",
       "\n",
       "mpl.get_websocket_type = function() {\n",
       "    if (typeof(WebSocket) !== 'undefined') {\n",
       "        return WebSocket;\n",
       "    } else if (typeof(MozWebSocket) !== 'undefined') {\n",
       "        return MozWebSocket;\n",
       "    } else {\n",
       "        alert('Your browser does not have WebSocket support. ' +\n",
       "              'Please try Chrome, Safari or Firefox ≥ 6. ' +\n",
       "              'Firefox 4 and 5 are also supported but you ' +\n",
       "              'have to enable WebSockets in about:config.');\n",
       "    };\n",
       "}\n",
       "\n",
       "mpl.figure = function(figure_id, websocket, ondownload, parent_element) {\n",
       "    this.id = figure_id;\n",
       "\n",
       "    this.ws = websocket;\n",
       "\n",
       "    this.supports_binary = (this.ws.binaryType != undefined);\n",
       "\n",
       "    if (!this.supports_binary) {\n",
       "        var warnings = document.getElementById(\"mpl-warnings\");\n",
       "        if (warnings) {\n",
       "            warnings.style.display = 'block';\n",
       "            warnings.textContent = (\n",
       "                \"This browser does not support binary websocket messages. \" +\n",
       "                    \"Performance may be slow.\");\n",
       "        }\n",
       "    }\n",
       "\n",
       "    this.imageObj = new Image();\n",
       "\n",
       "    this.context = undefined;\n",
       "    this.message = undefined;\n",
       "    this.canvas = undefined;\n",
       "    this.rubberband_canvas = undefined;\n",
       "    this.rubberband_context = undefined;\n",
       "    this.format_dropdown = undefined;\n",
       "\n",
       "    this.image_mode = 'full';\n",
       "\n",
       "    this.root = $('<div/>');\n",
       "    this._root_extra_style(this.root)\n",
       "    this.root.attr('style', 'display: inline-block');\n",
       "\n",
       "    $(parent_element).append(this.root);\n",
       "\n",
       "    this._init_header(this);\n",
       "    this._init_canvas(this);\n",
       "    this._init_toolbar(this);\n",
       "\n",
       "    var fig = this;\n",
       "\n",
       "    this.waiting = false;\n",
       "\n",
       "    this.ws.onopen =  function () {\n",
       "            fig.send_message(\"supports_binary\", {value: fig.supports_binary});\n",
       "            fig.send_message(\"send_image_mode\", {});\n",
       "            if (mpl.ratio != 1) {\n",
       "                fig.send_message(\"set_dpi_ratio\", {'dpi_ratio': mpl.ratio});\n",
       "            }\n",
       "            fig.send_message(\"refresh\", {});\n",
       "        }\n",
       "\n",
       "    this.imageObj.onload = function() {\n",
       "            if (fig.image_mode == 'full') {\n",
       "                // Full images could contain transparency (where diff images\n",
       "                // almost always do), so we need to clear the canvas so that\n",
       "                // there is no ghosting.\n",
       "                fig.context.clearRect(0, 0, fig.canvas.width, fig.canvas.height);\n",
       "            }\n",
       "            fig.context.drawImage(fig.imageObj, 0, 0);\n",
       "        };\n",
       "\n",
       "    this.imageObj.onunload = function() {\n",
       "        fig.ws.close();\n",
       "    }\n",
       "\n",
       "    this.ws.onmessage = this._make_on_message_function(this);\n",
       "\n",
       "    this.ondownload = ondownload;\n",
       "}\n",
       "\n",
       "mpl.figure.prototype._init_header = function() {\n",
       "    var titlebar = $(\n",
       "        '<div class=\"ui-dialog-titlebar ui-widget-header ui-corner-all ' +\n",
       "        'ui-helper-clearfix\"/>');\n",
       "    var titletext = $(\n",
       "        '<div class=\"ui-dialog-title\" style=\"width: 100%; ' +\n",
       "        'text-align: center; padding: 3px;\"/>');\n",
       "    titlebar.append(titletext)\n",
       "    this.root.append(titlebar);\n",
       "    this.header = titletext[0];\n",
       "}\n",
       "\n",
       "\n",
       "\n",
       "mpl.figure.prototype._canvas_extra_style = function(canvas_div) {\n",
       "\n",
       "}\n",
       "\n",
       "\n",
       "mpl.figure.prototype._root_extra_style = function(canvas_div) {\n",
       "\n",
       "}\n",
       "\n",
       "mpl.figure.prototype._init_canvas = function() {\n",
       "    var fig = this;\n",
       "\n",
       "    var canvas_div = $('<div/>');\n",
       "\n",
       "    canvas_div.attr('style', 'position: relative; clear: both; outline: 0');\n",
       "\n",
       "    function canvas_keyboard_event(event) {\n",
       "        return fig.key_event(event, event['data']);\n",
       "    }\n",
       "\n",
       "    canvas_div.keydown('key_press', canvas_keyboard_event);\n",
       "    canvas_div.keyup('key_release', canvas_keyboard_event);\n",
       "    this.canvas_div = canvas_div\n",
       "    this._canvas_extra_style(canvas_div)\n",
       "    this.root.append(canvas_div);\n",
       "\n",
       "    var canvas = $('<canvas/>');\n",
       "    canvas.addClass('mpl-canvas');\n",
       "    canvas.attr('style', \"left: 0; top: 0; z-index: 0; outline: 0\")\n",
       "\n",
       "    this.canvas = canvas[0];\n",
       "    this.context = canvas[0].getContext(\"2d\");\n",
       "\n",
       "    var backingStore = this.context.backingStorePixelRatio ||\n",
       "\tthis.context.webkitBackingStorePixelRatio ||\n",
       "\tthis.context.mozBackingStorePixelRatio ||\n",
       "\tthis.context.msBackingStorePixelRatio ||\n",
       "\tthis.context.oBackingStorePixelRatio ||\n",
       "\tthis.context.backingStorePixelRatio || 1;\n",
       "\n",
       "    mpl.ratio = (window.devicePixelRatio || 1) / backingStore;\n",
       "\n",
       "    var rubberband = $('<canvas/>');\n",
       "    rubberband.attr('style', \"position: absolute; left: 0; top: 0; z-index: 1;\")\n",
       "\n",
       "    var pass_mouse_events = true;\n",
       "\n",
       "    canvas_div.resizable({\n",
       "        start: function(event, ui) {\n",
       "            pass_mouse_events = false;\n",
       "        },\n",
       "        resize: function(event, ui) {\n",
       "            fig.request_resize(ui.size.width, ui.size.height);\n",
       "        },\n",
       "        stop: function(event, ui) {\n",
       "            pass_mouse_events = true;\n",
       "            fig.request_resize(ui.size.width, ui.size.height);\n",
       "        },\n",
       "    });\n",
       "\n",
       "    function mouse_event_fn(event) {\n",
       "        if (pass_mouse_events)\n",
       "            return fig.mouse_event(event, event['data']);\n",
       "    }\n",
       "\n",
       "    rubberband.mousedown('button_press', mouse_event_fn);\n",
       "    rubberband.mouseup('button_release', mouse_event_fn);\n",
       "    // Throttle sequential mouse events to 1 every 20ms.\n",
       "    rubberband.mousemove('motion_notify', mouse_event_fn);\n",
       "\n",
       "    rubberband.mouseenter('figure_enter', mouse_event_fn);\n",
       "    rubberband.mouseleave('figure_leave', mouse_event_fn);\n",
       "\n",
       "    canvas_div.on(\"wheel\", function (event) {\n",
       "        event = event.originalEvent;\n",
       "        event['data'] = 'scroll'\n",
       "        if (event.deltaY < 0) {\n",
       "            event.step = 1;\n",
       "        } else {\n",
       "            event.step = -1;\n",
       "        }\n",
       "        mouse_event_fn(event);\n",
       "    });\n",
       "\n",
       "    canvas_div.append(canvas);\n",
       "    canvas_div.append(rubberband);\n",
       "\n",
       "    this.rubberband = rubberband;\n",
       "    this.rubberband_canvas = rubberband[0];\n",
       "    this.rubberband_context = rubberband[0].getContext(\"2d\");\n",
       "    this.rubberband_context.strokeStyle = \"#000000\";\n",
       "\n",
       "    this._resize_canvas = function(width, height) {\n",
       "        // Keep the size of the canvas, canvas container, and rubber band\n",
       "        // canvas in synch.\n",
       "        canvas_div.css('width', width)\n",
       "        canvas_div.css('height', height)\n",
       "\n",
       "        canvas.attr('width', width * mpl.ratio);\n",
       "        canvas.attr('height', height * mpl.ratio);\n",
       "        canvas.attr('style', 'width: ' + width + 'px; height: ' + height + 'px;');\n",
       "\n",
       "        rubberband.attr('width', width);\n",
       "        rubberband.attr('height', height);\n",
       "    }\n",
       "\n",
       "    // Set the figure to an initial 600x600px, this will subsequently be updated\n",
       "    // upon first draw.\n",
       "    this._resize_canvas(600, 600);\n",
       "\n",
       "    // Disable right mouse context menu.\n",
       "    $(this.rubberband_canvas).bind(\"contextmenu\",function(e){\n",
       "        return false;\n",
       "    });\n",
       "\n",
       "    function set_focus () {\n",
       "        canvas.focus();\n",
       "        canvas_div.focus();\n",
       "    }\n",
       "\n",
       "    window.setTimeout(set_focus, 100);\n",
       "}\n",
       "\n",
       "mpl.figure.prototype._init_toolbar = function() {\n",
       "    var fig = this;\n",
       "\n",
       "    var nav_element = $('<div/>');\n",
       "    nav_element.attr('style', 'width: 100%');\n",
       "    this.root.append(nav_element);\n",
       "\n",
       "    // Define a callback function for later on.\n",
       "    function toolbar_event(event) {\n",
       "        return fig.toolbar_button_onclick(event['data']);\n",
       "    }\n",
       "    function toolbar_mouse_event(event) {\n",
       "        return fig.toolbar_button_onmouseover(event['data']);\n",
       "    }\n",
       "\n",
       "    for(var toolbar_ind in mpl.toolbar_items) {\n",
       "        var name = mpl.toolbar_items[toolbar_ind][0];\n",
       "        var tooltip = mpl.toolbar_items[toolbar_ind][1];\n",
       "        var image = mpl.toolbar_items[toolbar_ind][2];\n",
       "        var method_name = mpl.toolbar_items[toolbar_ind][3];\n",
       "\n",
       "        if (!name) {\n",
       "            // put a spacer in here.\n",
       "            continue;\n",
       "        }\n",
       "        var button = $('<button/>');\n",
       "        button.addClass('ui-button ui-widget ui-state-default ui-corner-all ' +\n",
       "                        'ui-button-icon-only');\n",
       "        button.attr('role', 'button');\n",
       "        button.attr('aria-disabled', 'false');\n",
       "        button.click(method_name, toolbar_event);\n",
       "        button.mouseover(tooltip, toolbar_mouse_event);\n",
       "\n",
       "        var icon_img = $('<span/>');\n",
       "        icon_img.addClass('ui-button-icon-primary ui-icon');\n",
       "        icon_img.addClass(image);\n",
       "        icon_img.addClass('ui-corner-all');\n",
       "\n",
       "        var tooltip_span = $('<span/>');\n",
       "        tooltip_span.addClass('ui-button-text');\n",
       "        tooltip_span.html(tooltip);\n",
       "\n",
       "        button.append(icon_img);\n",
       "        button.append(tooltip_span);\n",
       "\n",
       "        nav_element.append(button);\n",
       "    }\n",
       "\n",
       "    var fmt_picker_span = $('<span/>');\n",
       "\n",
       "    var fmt_picker = $('<select/>');\n",
       "    fmt_picker.addClass('mpl-toolbar-option ui-widget ui-widget-content');\n",
       "    fmt_picker_span.append(fmt_picker);\n",
       "    nav_element.append(fmt_picker_span);\n",
       "    this.format_dropdown = fmt_picker[0];\n",
       "\n",
       "    for (var ind in mpl.extensions) {\n",
       "        var fmt = mpl.extensions[ind];\n",
       "        var option = $(\n",
       "            '<option/>', {selected: fmt === mpl.default_extension}).html(fmt);\n",
       "        fmt_picker.append(option);\n",
       "    }\n",
       "\n",
       "    // Add hover states to the ui-buttons\n",
       "    $( \".ui-button\" ).hover(\n",
       "        function() { $(this).addClass(\"ui-state-hover\");},\n",
       "        function() { $(this).removeClass(\"ui-state-hover\");}\n",
       "    );\n",
       "\n",
       "    var status_bar = $('<span class=\"mpl-message\"/>');\n",
       "    nav_element.append(status_bar);\n",
       "    this.message = status_bar[0];\n",
       "}\n",
       "\n",
       "mpl.figure.prototype.request_resize = function(x_pixels, y_pixels) {\n",
       "    // Request matplotlib to resize the figure. Matplotlib will then trigger a resize in the client,\n",
       "    // which will in turn request a refresh of the image.\n",
       "    this.send_message('resize', {'width': x_pixels, 'height': y_pixels});\n",
       "}\n",
       "\n",
       "mpl.figure.prototype.send_message = function(type, properties) {\n",
       "    properties['type'] = type;\n",
       "    properties['figure_id'] = this.id;\n",
       "    this.ws.send(JSON.stringify(properties));\n",
       "}\n",
       "\n",
       "mpl.figure.prototype.send_draw_message = function() {\n",
       "    if (!this.waiting) {\n",
       "        this.waiting = true;\n",
       "        this.ws.send(JSON.stringify({type: \"draw\", figure_id: this.id}));\n",
       "    }\n",
       "}\n",
       "\n",
       "\n",
       "mpl.figure.prototype.handle_save = function(fig, msg) {\n",
       "    var format_dropdown = fig.format_dropdown;\n",
       "    var format = format_dropdown.options[format_dropdown.selectedIndex].value;\n",
       "    fig.ondownload(fig, format);\n",
       "}\n",
       "\n",
       "\n",
       "mpl.figure.prototype.handle_resize = function(fig, msg) {\n",
       "    var size = msg['size'];\n",
       "    if (size[0] != fig.canvas.width || size[1] != fig.canvas.height) {\n",
       "        fig._resize_canvas(size[0], size[1]);\n",
       "        fig.send_message(\"refresh\", {});\n",
       "    };\n",
       "}\n",
       "\n",
       "mpl.figure.prototype.handle_rubberband = function(fig, msg) {\n",
       "    var x0 = msg['x0'] / mpl.ratio;\n",
       "    var y0 = (fig.canvas.height - msg['y0']) / mpl.ratio;\n",
       "    var x1 = msg['x1'] / mpl.ratio;\n",
       "    var y1 = (fig.canvas.height - msg['y1']) / mpl.ratio;\n",
       "    x0 = Math.floor(x0) + 0.5;\n",
       "    y0 = Math.floor(y0) + 0.5;\n",
       "    x1 = Math.floor(x1) + 0.5;\n",
       "    y1 = Math.floor(y1) + 0.5;\n",
       "    var min_x = Math.min(x0, x1);\n",
       "    var min_y = Math.min(y0, y1);\n",
       "    var width = Math.abs(x1 - x0);\n",
       "    var height = Math.abs(y1 - y0);\n",
       "\n",
       "    fig.rubberband_context.clearRect(\n",
       "        0, 0, fig.canvas.width, fig.canvas.height);\n",
       "\n",
       "    fig.rubberband_context.strokeRect(min_x, min_y, width, height);\n",
       "}\n",
       "\n",
       "mpl.figure.prototype.handle_figure_label = function(fig, msg) {\n",
       "    // Updates the figure title.\n",
       "    fig.header.textContent = msg['label'];\n",
       "}\n",
       "\n",
       "mpl.figure.prototype.handle_cursor = function(fig, msg) {\n",
       "    var cursor = msg['cursor'];\n",
       "    switch(cursor)\n",
       "    {\n",
       "    case 0:\n",
       "        cursor = 'pointer';\n",
       "        break;\n",
       "    case 1:\n",
       "        cursor = 'default';\n",
       "        break;\n",
       "    case 2:\n",
       "        cursor = 'crosshair';\n",
       "        break;\n",
       "    case 3:\n",
       "        cursor = 'move';\n",
       "        break;\n",
       "    }\n",
       "    fig.rubberband_canvas.style.cursor = cursor;\n",
       "}\n",
       "\n",
       "mpl.figure.prototype.handle_message = function(fig, msg) {\n",
       "    fig.message.textContent = msg['message'];\n",
       "}\n",
       "\n",
       "mpl.figure.prototype.handle_draw = function(fig, msg) {\n",
       "    // Request the server to send over a new figure.\n",
       "    fig.send_draw_message();\n",
       "}\n",
       "\n",
       "mpl.figure.prototype.handle_image_mode = function(fig, msg) {\n",
       "    fig.image_mode = msg['mode'];\n",
       "}\n",
       "\n",
       "mpl.figure.prototype.updated_canvas_event = function() {\n",
       "    // Called whenever the canvas gets updated.\n",
       "    this.send_message(\"ack\", {});\n",
       "}\n",
       "\n",
       "// A function to construct a web socket function for onmessage handling.\n",
       "// Called in the figure constructor.\n",
       "mpl.figure.prototype._make_on_message_function = function(fig) {\n",
       "    return function socket_on_message(evt) {\n",
       "        if (evt.data instanceof Blob) {\n",
       "            /* FIXME: We get \"Resource interpreted as Image but\n",
       "             * transferred with MIME type text/plain:\" errors on\n",
       "             * Chrome.  But how to set the MIME type?  It doesn't seem\n",
       "             * to be part of the websocket stream */\n",
       "            evt.data.type = \"image/png\";\n",
       "\n",
       "            /* Free the memory for the previous frames */\n",
       "            if (fig.imageObj.src) {\n",
       "                (window.URL || window.webkitURL).revokeObjectURL(\n",
       "                    fig.imageObj.src);\n",
       "            }\n",
       "\n",
       "            fig.imageObj.src = (window.URL || window.webkitURL).createObjectURL(\n",
       "                evt.data);\n",
       "            fig.updated_canvas_event();\n",
       "            fig.waiting = false;\n",
       "            return;\n",
       "        }\n",
       "        else if (typeof evt.data === 'string' && evt.data.slice(0, 21) == \"data:image/png;base64\") {\n",
       "            fig.imageObj.src = evt.data;\n",
       "            fig.updated_canvas_event();\n",
       "            fig.waiting = false;\n",
       "            return;\n",
       "        }\n",
       "\n",
       "        var msg = JSON.parse(evt.data);\n",
       "        var msg_type = msg['type'];\n",
       "\n",
       "        // Call the  \"handle_{type}\" callback, which takes\n",
       "        // the figure and JSON message as its only arguments.\n",
       "        try {\n",
       "            var callback = fig[\"handle_\" + msg_type];\n",
       "        } catch (e) {\n",
       "            console.log(\"No handler for the '\" + msg_type + \"' message type: \", msg);\n",
       "            return;\n",
       "        }\n",
       "\n",
       "        if (callback) {\n",
       "            try {\n",
       "                // console.log(\"Handling '\" + msg_type + \"' message: \", msg);\n",
       "                callback(fig, msg);\n",
       "            } catch (e) {\n",
       "                console.log(\"Exception inside the 'handler_\" + msg_type + \"' callback:\", e, e.stack, msg);\n",
       "            }\n",
       "        }\n",
       "    };\n",
       "}\n",
       "\n",
       "// from http://stackoverflow.com/questions/1114465/getting-mouse-location-in-canvas\n",
       "mpl.findpos = function(e) {\n",
       "    //this section is from http://www.quirksmode.org/js/events_properties.html\n",
       "    var targ;\n",
       "    if (!e)\n",
       "        e = window.event;\n",
       "    if (e.target)\n",
       "        targ = e.target;\n",
       "    else if (e.srcElement)\n",
       "        targ = e.srcElement;\n",
       "    if (targ.nodeType == 3) // defeat Safari bug\n",
       "        targ = targ.parentNode;\n",
       "\n",
       "    // jQuery normalizes the pageX and pageY\n",
       "    // pageX,Y are the mouse positions relative to the document\n",
       "    // offset() returns the position of the element relative to the document\n",
       "    var x = e.pageX - $(targ).offset().left;\n",
       "    var y = e.pageY - $(targ).offset().top;\n",
       "\n",
       "    return {\"x\": x, \"y\": y};\n",
       "};\n",
       "\n",
       "/*\n",
       " * return a copy of an object with only non-object keys\n",
       " * we need this to avoid circular references\n",
       " * http://stackoverflow.com/a/24161582/3208463\n",
       " */\n",
       "function simpleKeys (original) {\n",
       "  return Object.keys(original).reduce(function (obj, key) {\n",
       "    if (typeof original[key] !== 'object')\n",
       "        obj[key] = original[key]\n",
       "    return obj;\n",
       "  }, {});\n",
       "}\n",
       "\n",
       "mpl.figure.prototype.mouse_event = function(event, name) {\n",
       "    var canvas_pos = mpl.findpos(event)\n",
       "\n",
       "    if (name === 'button_press')\n",
       "    {\n",
       "        this.canvas.focus();\n",
       "        this.canvas_div.focus();\n",
       "    }\n",
       "\n",
       "    var x = canvas_pos.x * mpl.ratio;\n",
       "    var y = canvas_pos.y * mpl.ratio;\n",
       "\n",
       "    this.send_message(name, {x: x, y: y, button: event.button,\n",
       "                             step: event.step,\n",
       "                             guiEvent: simpleKeys(event)});\n",
       "\n",
       "    /* This prevents the web browser from automatically changing to\n",
       "     * the text insertion cursor when the button is pressed.  We want\n",
       "     * to control all of the cursor setting manually through the\n",
       "     * 'cursor' event from matplotlib */\n",
       "    event.preventDefault();\n",
       "    return false;\n",
       "}\n",
       "\n",
       "mpl.figure.prototype._key_event_extra = function(event, name) {\n",
       "    // Handle any extra behaviour associated with a key event\n",
       "}\n",
       "\n",
       "mpl.figure.prototype.key_event = function(event, name) {\n",
       "\n",
       "    // Prevent repeat events\n",
       "    if (name == 'key_press')\n",
       "    {\n",
       "        if (event.which === this._key)\n",
       "            return;\n",
       "        else\n",
       "            this._key = event.which;\n",
       "    }\n",
       "    if (name == 'key_release')\n",
       "        this._key = null;\n",
       "\n",
       "    var value = '';\n",
       "    if (event.ctrlKey && event.which != 17)\n",
       "        value += \"ctrl+\";\n",
       "    if (event.altKey && event.which != 18)\n",
       "        value += \"alt+\";\n",
       "    if (event.shiftKey && event.which != 16)\n",
       "        value += \"shift+\";\n",
       "\n",
       "    value += 'k';\n",
       "    value += event.which.toString();\n",
       "\n",
       "    this._key_event_extra(event, name);\n",
       "\n",
       "    this.send_message(name, {key: value,\n",
       "                             guiEvent: simpleKeys(event)});\n",
       "    return false;\n",
       "}\n",
       "\n",
       "mpl.figure.prototype.toolbar_button_onclick = function(name) {\n",
       "    if (name == 'download') {\n",
       "        this.handle_save(this, null);\n",
       "    } else {\n",
       "        this.send_message(\"toolbar_button\", {name: name});\n",
       "    }\n",
       "};\n",
       "\n",
       "mpl.figure.prototype.toolbar_button_onmouseover = function(tooltip) {\n",
       "    this.message.textContent = tooltip;\n",
       "};\n",
       "mpl.toolbar_items = [[\"Home\", \"Reset original view\", \"fa fa-home icon-home\", \"home\"], [\"Back\", \"Back to previous view\", \"fa fa-arrow-left icon-arrow-left\", \"back\"], [\"Forward\", \"Forward to next view\", \"fa fa-arrow-right icon-arrow-right\", \"forward\"], [\"\", \"\", \"\", \"\"], [\"Pan\", \"Pan axes with left mouse, zoom with right\", \"fa fa-arrows icon-move\", \"pan\"], [\"Zoom\", \"Zoom to rectangle\", \"fa fa-square-o icon-check-empty\", \"zoom\"], [\"\", \"\", \"\", \"\"], [\"Download\", \"Download plot\", \"fa fa-floppy-o icon-save\", \"download\"]];\n",
       "\n",
       "mpl.extensions = [\"eps\", \"jpeg\", \"pdf\", \"png\", \"ps\", \"raw\", \"svg\", \"tif\"];\n",
       "\n",
       "mpl.default_extension = \"png\";var comm_websocket_adapter = function(comm) {\n",
       "    // Create a \"websocket\"-like object which calls the given IPython comm\n",
       "    // object with the appropriate methods. Currently this is a non binary\n",
       "    // socket, so there is still some room for performance tuning.\n",
       "    var ws = {};\n",
       "\n",
       "    ws.close = function() {\n",
       "        comm.close()\n",
       "    };\n",
       "    ws.send = function(m) {\n",
       "        //console.log('sending', m);\n",
       "        comm.send(m);\n",
       "    };\n",
       "    // Register the callback with on_msg.\n",
       "    comm.on_msg(function(msg) {\n",
       "        //console.log('receiving', msg['content']['data'], msg);\n",
       "        // Pass the mpl event to the overridden (by mpl) onmessage function.\n",
       "        ws.onmessage(msg['content']['data'])\n",
       "    });\n",
       "    return ws;\n",
       "}\n",
       "\n",
       "mpl.mpl_figure_comm = function(comm, msg) {\n",
       "    // This is the function which gets called when the mpl process\n",
       "    // starts-up an IPython Comm through the \"matplotlib\" channel.\n",
       "\n",
       "    var id = msg.content.data.id;\n",
       "    // Get hold of the div created by the display call when the Comm\n",
       "    // socket was opened in Python.\n",
       "    var element = $(\"#\" + id);\n",
       "    var ws_proxy = comm_websocket_adapter(comm)\n",
       "\n",
       "    function ondownload(figure, format) {\n",
       "        window.open(figure.imageObj.src);\n",
       "    }\n",
       "\n",
       "    var fig = new mpl.figure(id, ws_proxy,\n",
       "                           ondownload,\n",
       "                           element.get(0));\n",
       "\n",
       "    // Call onopen now - mpl needs it, as it is assuming we've passed it a real\n",
       "    // web socket which is closed, not our websocket->open comm proxy.\n",
       "    ws_proxy.onopen();\n",
       "\n",
       "    fig.parent_element = element.get(0);\n",
       "    fig.cell_info = mpl.find_output_cell(\"<div id='\" + id + \"'></div>\");\n",
       "    if (!fig.cell_info) {\n",
       "        console.error(\"Failed to find cell for figure\", id, fig);\n",
       "        return;\n",
       "    }\n",
       "\n",
       "    var output_index = fig.cell_info[2]\n",
       "    var cell = fig.cell_info[0];\n",
       "\n",
       "};\n",
       "\n",
       "mpl.figure.prototype.handle_close = function(fig, msg) {\n",
       "    var width = fig.canvas.width/mpl.ratio\n",
       "    fig.root.unbind('remove')\n",
       "\n",
       "    // Update the output cell to use the data from the current canvas.\n",
       "    fig.push_to_output();\n",
       "    var dataURL = fig.canvas.toDataURL();\n",
       "    // Re-enable the keyboard manager in IPython - without this line, in FF,\n",
       "    // the notebook keyboard shortcuts fail.\n",
       "    IPython.keyboard_manager.enable()\n",
       "    $(fig.parent_element).html('<img src=\"' + dataURL + '\" width=\"' + width + '\">');\n",
       "    fig.close_ws(fig, msg);\n",
       "}\n",
       "\n",
       "mpl.figure.prototype.close_ws = function(fig, msg){\n",
       "    fig.send_message('closing', msg);\n",
       "    // fig.ws.close()\n",
       "}\n",
       "\n",
       "mpl.figure.prototype.push_to_output = function(remove_interactive) {\n",
       "    // Turn the data on the canvas into data in the output cell.\n",
       "    var width = this.canvas.width/mpl.ratio\n",
       "    var dataURL = this.canvas.toDataURL();\n",
       "    this.cell_info[1]['text/html'] = '<img src=\"' + dataURL + '\" width=\"' + width + '\">';\n",
       "}\n",
       "\n",
       "mpl.figure.prototype.updated_canvas_event = function() {\n",
       "    // Tell IPython that the notebook contents must change.\n",
       "    IPython.notebook.set_dirty(true);\n",
       "    this.send_message(\"ack\", {});\n",
       "    var fig = this;\n",
       "    // Wait a second, then push the new image to the DOM so\n",
       "    // that it is saved nicely (might be nice to debounce this).\n",
       "    setTimeout(function () { fig.push_to_output() }, 1000);\n",
       "}\n",
       "\n",
       "mpl.figure.prototype._init_toolbar = function() {\n",
       "    var fig = this;\n",
       "\n",
       "    var nav_element = $('<div/>');\n",
       "    nav_element.attr('style', 'width: 100%');\n",
       "    this.root.append(nav_element);\n",
       "\n",
       "    // Define a callback function for later on.\n",
       "    function toolbar_event(event) {\n",
       "        return fig.toolbar_button_onclick(event['data']);\n",
       "    }\n",
       "    function toolbar_mouse_event(event) {\n",
       "        return fig.toolbar_button_onmouseover(event['data']);\n",
       "    }\n",
       "\n",
       "    for(var toolbar_ind in mpl.toolbar_items){\n",
       "        var name = mpl.toolbar_items[toolbar_ind][0];\n",
       "        var tooltip = mpl.toolbar_items[toolbar_ind][1];\n",
       "        var image = mpl.toolbar_items[toolbar_ind][2];\n",
       "        var method_name = mpl.toolbar_items[toolbar_ind][3];\n",
       "\n",
       "        if (!name) { continue; };\n",
       "\n",
       "        var button = $('<button class=\"btn btn-default\" href=\"#\" title=\"' + name + '\"><i class=\"fa ' + image + ' fa-lg\"></i></button>');\n",
       "        button.click(method_name, toolbar_event);\n",
       "        button.mouseover(tooltip, toolbar_mouse_event);\n",
       "        nav_element.append(button);\n",
       "    }\n",
       "\n",
       "    // Add the status bar.\n",
       "    var status_bar = $('<span class=\"mpl-message\" style=\"text-align:right; float: right;\"/>');\n",
       "    nav_element.append(status_bar);\n",
       "    this.message = status_bar[0];\n",
       "\n",
       "    // Add the close button to the window.\n",
       "    var buttongrp = $('<div class=\"btn-group inline pull-right\"></div>');\n",
       "    var button = $('<button class=\"btn btn-mini btn-primary\" href=\"#\" title=\"Stop Interaction\"><i class=\"fa fa-power-off icon-remove icon-large\"></i></button>');\n",
       "    button.click(function (evt) { fig.handle_close(fig, {}); } );\n",
       "    button.mouseover('Stop Interaction', toolbar_mouse_event);\n",
       "    buttongrp.append(button);\n",
       "    var titlebar = this.root.find($('.ui-dialog-titlebar'));\n",
       "    titlebar.prepend(buttongrp);\n",
       "}\n",
       "\n",
       "mpl.figure.prototype._root_extra_style = function(el){\n",
       "    var fig = this\n",
       "    el.on(\"remove\", function(){\n",
       "\tfig.close_ws(fig, {});\n",
       "    });\n",
       "}\n",
       "\n",
       "mpl.figure.prototype._canvas_extra_style = function(el){\n",
       "    // this is important to make the div 'focusable\n",
       "    el.attr('tabindex', 0)\n",
       "    // reach out to IPython and tell the keyboard manager to turn it's self\n",
       "    // off when our div gets focus\n",
       "\n",
       "    // location in version 3\n",
       "    if (IPython.notebook.keyboard_manager) {\n",
       "        IPython.notebook.keyboard_manager.register_events(el);\n",
       "    }\n",
       "    else {\n",
       "        // location in version 2\n",
       "        IPython.keyboard_manager.register_events(el);\n",
       "    }\n",
       "\n",
       "}\n",
       "\n",
       "mpl.figure.prototype._key_event_extra = function(event, name) {\n",
       "    var manager = IPython.notebook.keyboard_manager;\n",
       "    if (!manager)\n",
       "        manager = IPython.keyboard_manager;\n",
       "\n",
       "    // Check for shift+enter\n",
       "    if (event.shiftKey && event.which == 13) {\n",
       "        this.canvas_div.blur();\n",
       "        event.shiftKey = false;\n",
       "        // Send a \"J\" for go to next cell\n",
       "        event.which = 74;\n",
       "        event.keyCode = 74;\n",
       "        manager.command_mode();\n",
       "        manager.handle_keydown(event);\n",
       "    }\n",
       "}\n",
       "\n",
       "mpl.figure.prototype.handle_save = function(fig, msg) {\n",
       "    fig.ondownload(fig, null);\n",
       "}\n",
       "\n",
       "\n",
       "mpl.find_output_cell = function(html_output) {\n",
       "    // Return the cell and output element which can be found *uniquely* in the notebook.\n",
       "    // Note - this is a bit hacky, but it is done because the \"notebook_saving.Notebook\"\n",
       "    // IPython event is triggered only after the cells have been serialised, which for\n",
       "    // our purposes (turning an active figure into a static one), is too late.\n",
       "    var cells = IPython.notebook.get_cells();\n",
       "    var ncells = cells.length;\n",
       "    for (var i=0; i<ncells; i++) {\n",
       "        var cell = cells[i];\n",
       "        if (cell.cell_type === 'code'){\n",
       "            for (var j=0; j<cell.output_area.outputs.length; j++) {\n",
       "                var data = cell.output_area.outputs[j];\n",
       "                if (data.data) {\n",
       "                    // IPython >= 3 moved mimebundle to data attribute of output\n",
       "                    data = data.data;\n",
       "                }\n",
       "                if (data['text/html'] == html_output) {\n",
       "                    return [cell, data, j];\n",
       "                }\n",
       "            }\n",
       "        }\n",
       "    }\n",
       "}\n",
       "\n",
       "// Register the function which deals with the matplotlib target/channel.\n",
       "// The kernel may be null if the page has been refreshed.\n",
       "if (IPython.notebook.kernel != null) {\n",
       "    IPython.notebook.kernel.comm_manager.register_target('matplotlib', mpl.mpl_figure_comm);\n",
       "}\n"
      ],
      "text/plain": [
       "<IPython.core.display.Javascript object>"
      ]
     },
     "metadata": {},
     "output_type": "display_data"
    },
    {
     "data": {
      "text/html": [
       "<img src=\"data:image/png;base64,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\" width=\"1000\">"
      ],
      "text/plain": [
       "<IPython.core.display.HTML object>"
      ]
     },
     "metadata": {},
     "output_type": "display_data"
    },
    {
     "name": "stdout",
     "output_type": "stream",
     "text": [
      "SSD is 7.55E+03\n"
     ]
    },
    {
     "data": {
      "text/latex": [
       "$C(\\vec{x}) = C \\times \\vec{x}$"
      ],
      "text/plain": [
       "<IPython.core.display.Latex object>"
      ]
     },
     "metadata": {},
     "output_type": "display_data"
    },
    {
     "data": {
      "text/latex": [
       "$ \\nabla_xC(\\vec{x}) = C^H \\times \\vec{x}$"
      ],
      "text/plain": [
       "<IPython.core.display.Latex object>"
      ]
     },
     "metadata": {},
     "output_type": "display_data"
    }
   ],
   "source": [
    "pad_value = 0\n",
    "\n",
    "# Windowed Convolution\n",
    "C_full = ops.Convolution(h, mode='same', pad_value=pad_value, dtype=global_dtype, backend=global_backend)\n",
    "y_full = yp.changeBackend(yp.abs(C_full * x), 'numpy')\n",
    "\n",
    "# Circular Convolution\n",
    "C = ops.Convolution(h,  dtype=global_dtype, backend=global_backend)\n",
    "y5 = yp.abs(yp.changeBackend(C * x, 'numpy'))\n",
    "\n",
    "plt.figure(figsize=(10,2))\n",
    "plt.subplot(131)\n",
    "plt.imshow(yp.real(y5))\n",
    "plt.title('FFT')\n",
    "plt.subplot(132)\n",
    "plt.imshow(yp.real(y_full))\n",
    "plt.title('Windowed')\n",
    "plt.subplot(133)\n",
    "plt.imshow(yp.abs(y_full - y5))\n",
    "plt.title('|FFT - windowed|');\n",
    "plt.colorbar()\n",
    "\n",
    "print('SSD is %.2E' % yp.sum(yp.abs(y_full - y5)) ** 2)\n",
    "\n",
    "# Check Gradient\n",
    "C_full.gradient_check()\n",
    "\n",
    "# Render forward model\n",
    "C_full.latex()\n",
    "\n",
    "# Render gradient\n",
    "C_full.latex(gradient=True)"
   ]
  },
  {
   "cell_type": "markdown",
   "metadata": {},
   "source": [
    "## Cross-Correlation Operator"
   ]
  },
  {
   "cell_type": "code",
   "execution_count": 9,
   "metadata": {
    "ExecuteTime": {
     "end_time": "2019-05-02T17:11:24.180884Z",
     "start_time": "2019-05-02T17:11:24.144090Z"
    }
   },
   "outputs": [
    {
     "data": {
      "text/latex": [
       "$X(\\vec{x}) = X \\times \\vec{x}$"
      ],
      "text/plain": [
       "<IPython.core.display.Latex object>"
      ]
     },
     "metadata": {},
     "output_type": "display_data"
    },
    {
     "data": {
      "text/latex": [
       "$ \\nabla_xX(\\vec{x}) = X^H \\times \\vec{x}$"
      ],
      "text/plain": [
       "<IPython.core.display.Latex object>"
      ]
     },
     "metadata": {},
     "output_type": "display_data"
    }
   ],
   "source": [
    "XC = ops.CrossCorrelation(h)\n",
    "\n",
    "xc = lambda x, h: np.fft.ifftshift((np.fft.ifft2(np.fft.fft2(x, axes=(0,1), norm='ortho') \\\n",
    "                                                                * np.conj(np.fft.fft2(h, axes=(0,1), norm='ortho')), axes=(0,1), norm='ortho')), axes=(0,1)).astype(np.complex64)\n",
    "\n",
    "# Check forward operator\n",
    "# y1 = yp.changeBackend(XC * vec(x), 'numpy')\n",
    "# y2 = xc(yp.changeBackend(x, 'numpy'), yp.changeBackend(h, 'numpy'))\n",
    "# assert yp.sum(yp.abs(y1 - y2.reshape(-1))) < eps\n",
    "\n",
    "# Check gradient\n",
    "XC.gradient_check()\n",
    "\n",
    "# Render forward model\n",
    "XC.latex()\n",
    "\n",
    "# Render gradient\n",
    "XC.latex(gradient=True)"
   ]
  },
  {
   "cell_type": "markdown",
   "metadata": {},
   "source": [
    "## Crop Operator: Centered"
   ]
  },
  {
   "cell_type": "code",
   "execution_count": 10,
   "metadata": {
    "ExecuteTime": {
     "end_time": "2019-05-02T17:11:25.053304Z",
     "start_time": "2019-05-02T17:11:25.018837Z"
    }
   },
   "outputs": [
    {
     "data": {
      "text/latex": [
       "$CR(\\vec{x}) = CR_{(64, 128) \\longrightarrow (32, 64)} \\times \\vec{x}$"
      ],
      "text/plain": [
       "<IPython.core.display.Latex object>"
      ]
     },
     "metadata": {},
     "output_type": "display_data"
    },
    {
     "data": {
      "text/latex": [
       "$ \\nabla_xCR(\\vec{x}) = CR_{(64, 128) \\longrightarrow (32, 64)}^H \\times \\vec{x}$"
      ],
      "text/plain": [
       "<IPython.core.display.Latex object>"
      ]
     },
     "metadata": {},
     "output_type": "display_data"
    }
   ],
   "source": [
    "# Generate Crop Operator\n",
    "crop_size = (image_size[0] // 2, image_size[1] // 2)\n",
    "crop_start = tuple(np.asarray(image_size) // 2 - np.asarray(crop_size) // 2)\n",
    "CR = ops.Crop(image_size, crop_size, pad_value=0, crop_start=crop_start, dtype=global_dtype, backend=global_backend)\n",
    "\n",
    "# Check forward operator\n",
    "y_1 = yp.changeBackend(CR * x, 'numpy')\n",
    "y_2 = yp.changeBackend(yp.crop(x, crop_size, crop_start), 'numpy')\n",
    "assert yp.sum(yp.abs(y_1 - y_2)) < eps\n",
    "\n",
    "# Check Adjoint Operator\n",
    "pad_size = [int((image_size[i] - crop_size[i]) / 2) for i in range(len(image_size))]\n",
    "y_3 = yp.pad(yp.crop(x, crop_size, crop_start), image_size, crop_start, pad_value=0)\n",
    "y_4 = CR.H * CR * x\n",
    "assert yp.sum(yp.abs(y_3 - y_4)) < eps\n",
    "\n",
    "# Check gradient\n",
    "CR.gradient_check()\n",
    "\n",
    "# Render forward model\n",
    "CR.latex()\n",
    "\n",
    "# Render gradient\n",
    "CR.latex(gradient=True)"
   ]
  },
  {
   "cell_type": "markdown",
   "metadata": {},
   "source": [
    "## Crop Operator: Non-Centered"
   ]
  },
  {
   "cell_type": "code",
   "execution_count": 11,
   "metadata": {
    "ExecuteTime": {
     "end_time": "2019-05-02T17:11:26.027712Z",
     "start_time": "2019-05-02T17:11:25.995585Z"
    }
   },
   "outputs": [
    {
     "data": {
      "text/latex": [
       "$CR(\\vec{x}) = CR_{(64, 128) \\longrightarrow (32, 64)} \\times \\vec{x}$"
      ],
      "text/plain": [
       "<IPython.core.display.Latex object>"
      ]
     },
     "metadata": {},
     "output_type": "display_data"
    },
    {
     "data": {
      "text/latex": [
       "$ \\nabla_xCR(\\vec{x}) = CR_{(64, 128) \\longrightarrow (32, 64)}^H \\times \\vec{x}$"
      ],
      "text/plain": [
       "<IPython.core.display.Latex object>"
      ]
     },
     "metadata": {},
     "output_type": "display_data"
    }
   ],
   "source": [
    "# Generate Crop Operator\n",
    "crop_size = (image_size[0] // 2, image_size[1] // 2)\n",
    "crop_start = (6, 6)\n",
    "CR = ops.Crop(image_size, crop_size, pad_value=0,  dtype=global_dtype, backend=global_backend, crop_start=crop_start)\n",
    "\n",
    "# Check forward operator\n",
    "y_1 = yp.changeBackend(CR * x, 'numpy')\n",
    "y_2 = yp.changeBackend(yp.crop(x, crop_size, crop_start), 'numpy')\n",
    "assert yp.sum(yp.abs(y_1 - y_2)) < eps\n",
    "\n",
    "# Check Adjoint Operator\n",
    "pad_size = [int((image_size[i] - crop_size[i]) / 2) for i in range(len(image_size))]\n",
    "y_3 = yp.pad(yp.crop(x, crop_size, crop_start), image_size, crop_start, pad_value=0)\n",
    "y_4 = yp.reshape(CR.H * CR * x, image_size)\n",
    "assert yp.sum(yp.abs(y_3 - y_4)) < eps\n",
    "\n",
    "# Check gradient\n",
    "CR.gradient_check()\n",
    "\n",
    "# Render forward model\n",
    "CR.latex()\n",
    "\n",
    "# Render gradient\n",
    "CR.latex(gradient=True)"
   ]
  },
  {
   "cell_type": "markdown",
   "metadata": {},
   "source": [
    "## Shift Operator"
   ]
  },
  {
   "cell_type": "code",
   "execution_count": 12,
   "metadata": {
    "ExecuteTime": {
     "end_time": "2019-05-02T17:11:27.039160Z",
     "start_time": "2019-05-02T17:11:27.008005Z"
    }
   },
   "outputs": [
    {
     "data": {
      "text/latex": [
       "$S(\\vec{x}) = S \\times \\vec{x}$"
      ],
      "text/plain": [
       "<IPython.core.display.Latex object>"
      ]
     },
     "metadata": {},
     "output_type": "display_data"
    },
    {
     "data": {
      "text/latex": [
       "$ \\nabla_xS(\\vec{x}) = S^H \\times \\vec{x}$"
      ],
      "text/plain": [
       "<IPython.core.display.Latex object>"
      ]
     },
     "metadata": {},
     "output_type": "display_data"
    }
   ],
   "source": [
    "# Normal shift\n",
    "shift = (0, 10) # should be y, x\n",
    "T = ops.Shift(image_size, shift)\n",
    "\n",
    "def shift_func(x, shift):\n",
    "    x = yp.changeBackend(x, 'numpy')\n",
    "    for ax, sh in enumerate(shift):\n",
    "        x = np.roll(x, int(sh), axis=ax)\n",
    "    return(x)\n",
    " \n",
    "# Check Forward Operator\n",
    "y_1 = yp.changeBackend(T * x, 'numpy')\n",
    "y_2 = shift_func(yp.changeBackend(x, 'numpy'), shift)\n",
    "assert yp.sum(yp.abs(y_1 - y_2)) < eps\n",
    "\n",
    "# Check Adjoint Operator\n",
    "assert yp.sum(yp.abs(T.H * T * x - x)) < eps\n",
    "\n",
    "# Check gradient\n",
    "T.gradient_check()\n",
    "\n",
    "# Render forward model\n",
    "T.latex()\n",
    "\n",
    "# Render gradient\n",
    "T.latex(gradient=True)"
   ]
  },
  {
   "cell_type": "markdown",
   "metadata": {},
   "source": [
    "## Summation Operator"
   ]
  },
  {
   "cell_type": "code",
   "execution_count": 13,
   "metadata": {
    "ExecuteTime": {
     "end_time": "2019-05-02T17:11:27.859021Z",
     "start_time": "2019-05-02T17:11:27.828751Z"
    }
   },
   "outputs": [
    {
     "data": {
      "text/latex": [
       "$Σ(\\vec{x}) = \\sum_{axes=[0, 1]} $"
      ],
      "text/plain": [
       "<IPython.core.display.Latex object>"
      ]
     },
     "metadata": {},
     "output_type": "display_data"
    },
    {
     "data": {
      "text/latex": [
       "$ \\nabla_xΣ(\\vec{x}) = \\sum_{axes=[0, 1]} ^H \\times \\vec{x}$"
      ],
      "text/plain": [
       "<IPython.core.display.Latex object>"
      ]
     },
     "metadata": {},
     "output_type": "display_data"
    }
   ],
   "source": [
    "axis_to_sum = (0,1)\n",
    "Σ = ops.Sum(image_size)\n",
    "\n",
    "# Check forward operator\n",
    "y_1 = yp.changeBackend(Σ * x, 'numpy')\n",
    "y_2 = yp.sum(yp.changeBackend(x, 'numpy'), axis=axis_to_sum)\n",
    "assert yp.abs(yp.sum(y_1 - y_2)) < eps\n",
    "\n",
    "# Check adjoint operator\n",
    "y_3 = yp.changeBackend(Σ.H * Σ * x, 'numpy')\n",
    "reps = [1, ] * len(image_size)\n",
    "axes = list(range(len(image_size))) if axis_to_sum is 'all' else axis_to_sum\n",
    "scale = 1\n",
    "for axis in axes:\n",
    "    reps[axis] = image_size[axis]\n",
    "    scale *= 1 / image_size[axis]\n",
    "y_4 = yp.tile(y_2, reps) * scale\n",
    "assert yp.sum(yp.abs(y_3 - y_4)) < eps\n",
    "\n",
    "# Check gradient\n",
    "# Σ.gradient_check(eps=1)\n",
    "\n",
    "# Render forward model\n",
    "Σ.latex()\n",
    "\n",
    "# Render gradient\n",
    "Σ.latex(gradient=True)"
   ]
  },
  {
   "cell_type": "markdown",
   "metadata": {},
   "source": [
    "## Mean Operator"
   ]
  },
  {
   "cell_type": "code",
   "execution_count": null,
   "metadata": {},
   "outputs": [],
   "source": []
  },
  {
   "cell_type": "markdown",
   "metadata": {},
   "source": [
    "## Intensity Operator"
   ]
  },
  {
   "cell_type": "code",
   "execution_count": 14,
   "metadata": {
    "ExecuteTime": {
     "end_time": "2019-05-02T17:11:29.510476Z",
     "start_time": "2019-05-02T17:11:29.482586Z"
    }
   },
   "outputs": [
    {
     "data": {
      "text/latex": [
       "$I(\\vec{x}) = |\\vec{x}|^2$"
      ],
      "text/plain": [
       "<IPython.core.display.Latex object>"
      ]
     },
     "metadata": {},
     "output_type": "display_data"
    },
    {
     "data": {
      "text/latex": [
       "$ \\nabla_xI(\\vec{x}) = diag(\\vec{d})\\times \\vec{x}$"
      ],
      "text/plain": [
       "<IPython.core.display.Latex object>"
      ]
     },
     "metadata": {},
     "output_type": "display_data"
    }
   ],
   "source": [
    "I = ops.Intensity(image_size)\n",
    "\n",
    "# Check forward operator\n",
    "assert yp.sum(yp.abs((yp.abs(yp.changeBackend(x, 'numpy')) ** 2) - yp.changeBackend(I * x, 'numpy'))) < eps\n",
    "\n",
    "# Check gradient\n",
    "I.gradient_check()\n",
    "\n",
    "# Render forward model\n",
    "I.latex()\n",
    "\n",
    "# Render gradient\n",
    "I.latex(gradient=True)"
   ]
  },
  {
   "cell_type": "markdown",
   "metadata": {},
   "source": [
    "## Flip Operator"
   ]
  },
  {
   "cell_type": "code",
   "execution_count": 15,
   "metadata": {
    "ExecuteTime": {
     "end_time": "2019-05-02T17:11:30.378185Z",
     "start_time": "2019-05-02T17:11:30.348286Z"
    }
   },
   "outputs": [
    {
     "data": {
      "text/latex": [
       "$L(\\vec{x}) = L \\times \\vec{x}$"
      ],
      "text/plain": [
       "<IPython.core.display.Latex object>"
      ]
     },
     "metadata": {},
     "output_type": "display_data"
    },
    {
     "data": {
      "text/latex": [
       "$ \\nabla_xL(\\vec{x}) = L^H \\times \\vec{x}$"
      ],
      "text/plain": [
       "<IPython.core.display.Latex object>"
      ]
     },
     "metadata": {},
     "output_type": "display_data"
    }
   ],
   "source": [
    "flip_axis = 0\n",
    "L = ops.Flip(image_size, axis=flip_axis)\n",
    "\n",
    "# Check forward operator\n",
    "assert yp.sum(yp.abs(L * x - yp.flip(x, flip_axis))) < eps, \"%f\" % yp.sum(yp.abs(L * x - vec(yp.flip(x, flip_axis)))) \n",
    "\n",
    "# Check gradient\n",
    "L.gradient_check()\n",
    "\n",
    "# Render forward model\n",
    "L.latex()\n",
    "\n",
    "# Render gradient\n",
    "L.latex(gradient=True)"
   ]
  },
  {
   "cell_type": "markdown",
   "metadata": {},
   "source": [
    "## $\\ell2$ Norm Operator"
   ]
  },
  {
   "cell_type": "code",
   "execution_count": 16,
   "metadata": {
    "ExecuteTime": {
     "end_time": "2019-05-02T17:11:31.225209Z",
     "start_time": "2019-05-02T17:11:31.198324Z"
    }
   },
   "outputs": [
    {
     "data": {
      "text/latex": [
       "$L2(\\vec{x}) = \\frac{1}{2} ||\\vec{x}||_2^2$"
      ],
      "text/plain": [
       "<IPython.core.display.Latex object>"
      ]
     },
     "metadata": {},
     "output_type": "display_data"
    },
    {
     "data": {
      "text/latex": [
       "$ \\nabla_xL2(\\vec{x}) = I \\times \\vec{x}$"
      ],
      "text/plain": [
       "<IPython.core.display.Latex object>"
      ]
     },
     "metadata": {},
     "output_type": "display_data"
    }
   ],
   "source": [
    "L2 = ops.L2Norm(image_size)\n",
    "\n",
    "# Check forward operator\n",
    "assert yp.sum(yp.abs(L2 * x - 0.5 * yp.norm(x) ** 2)) < eps, '%f' % yp.sum(yp.abs(L2 * x - 0.5 * np.linalg.norm(x) ** 2))\n",
    "\n",
    "# Check gradient\n",
    "L2.gradient_check()\n",
    "\n",
    "# Render forward model\n",
    "L2.latex()\n",
    "\n",
    "# Render gradient\n",
    "L2.latex(gradient=True)"
   ]
  },
  {
   "cell_type": "markdown",
   "metadata": {},
   "source": [
    "## $\\ell1 $ Norm Operator"
   ]
  },
  {
   "cell_type": "code",
   "execution_count": 17,
   "metadata": {
    "ExecuteTime": {
     "end_time": "2019-05-02T17:11:32.083501Z",
     "start_time": "2019-05-02T17:11:32.058701Z"
    }
   },
   "outputs": [
    {
     "data": {
      "text/latex": [
       "$L1(\\vec{x}) = ||\\vec{x}||_1$"
      ],
      "text/plain": [
       "<IPython.core.display.Latex object>"
      ]
     },
     "metadata": {},
     "output_type": "display_data"
    }
   ],
   "source": [
    "L1 = ops.L1Norm(image_size)\n",
    "\n",
    "# Forward operator\n",
    "assert L1 * x - yp.sum(yp.abs(x)) < eps\n",
    "\n",
    "# Render forward model\n",
    "L1.latex()"
   ]
  },
  {
   "cell_type": "markdown",
   "metadata": {},
   "source": [
    "## Wavelet Transform"
   ]
  },
  {
   "cell_type": "code",
   "execution_count": 18,
   "metadata": {
    "ExecuteTime": {
     "end_time": "2019-05-02T17:11:32.856737Z",
     "start_time": "2019-05-02T17:11:32.778364Z"
    }
   },
   "outputs": [
    {
     "data": {
      "text/latex": [
       "$W_{db1}(\\vec{x}) = W_{db1} \\times \\vec{x}$"
      ],
      "text/plain": [
       "<IPython.core.display.Latex object>"
      ]
     },
     "metadata": {},
     "output_type": "display_data"
    },
    {
     "data": {
      "text/latex": [
       "$W_{haar}(\\vec{x}) = W_{haar} \\times \\vec{x}$"
      ],
      "text/plain": [
       "<IPython.core.display.Latex object>"
      ]
     },
     "metadata": {},
     "output_type": "display_data"
    },
    {
     "data": {
      "text/latex": [
       "$W_{rbio1.1}(\\vec{x}) = W_{rbio1.1} \\times \\vec{x}$"
      ],
      "text/plain": [
       "<IPython.core.display.Latex object>"
      ]
     },
     "metadata": {},
     "output_type": "display_data"
    },
    {
     "data": {
      "text/latex": [
       "$W_{bior1.1}(\\vec{x}) = W_{bior1.1} \\times \\vec{x}$"
      ],
      "text/plain": [
       "<IPython.core.display.Latex object>"
      ]
     },
     "metadata": {},
     "output_type": "display_data"
    },
    {
     "name": "stdout",
     "output_type": "stream",
     "text": [
      "WARNING: Wavelet Transform output cannot be tightly packed, reshaping from ([ 64 128]) to ((80, 144))\n"
     ]
    },
    {
     "data": {
      "text/latex": [
       "$W_{bior4.4}(\\vec{x}) = W_{bior4.4} \\times \\vec{x}$"
      ],
      "text/plain": [
       "<IPython.core.display.Latex object>"
      ]
     },
     "metadata": {},
     "output_type": "display_data"
    },
    {
     "name": "stdout",
     "output_type": "stream",
     "text": [
      "WARNING: Wavelet Transform output cannot be tightly packed, reshaping from ([ 64 128]) to ((86, 150))\n"
     ]
    },
    {
     "data": {
      "text/latex": [
       "$W_{sym12}(\\vec{x}) = W_{sym12} \\times \\vec{x}$"
      ],
      "text/plain": [
       "<IPython.core.display.Latex object>"
      ]
     },
     "metadata": {},
     "output_type": "display_data"
    }
   ],
   "source": [
    "import pywt\n",
    "wavelet_list = ['db1', 'haar', 'rbio1.1', 'bior1.1', 'bior4.4', 'sym12']\n",
    "for wavelet_test in wavelet_list:\n",
    "    # Wavelet Transform\n",
    "    W = ops.WaveletTransform(image_size, wavelet_type=wavelet_test, use_cycle_spinning=False)\n",
    "\n",
    "    # Check forward operation\n",
    "    coeffs = pywt.wavedecn(x, wavelet=wavelet_test)\n",
    "    x_wavelet, coeff_slices = pywt.coeffs_to_array(coeffs)\n",
    "    assert yp.sum(yp.abs(yp.changeBackend(W * x, 'numpy') - x_wavelet)) < eps, \"Difference %.6e\"\n",
    "\n",
    "    # Check inverse operation\n",
    "    coeffs_from_arr = pywt.array_to_coeffs(x_wavelet, coeff_slices)\n",
    "    cam_recon = pywt.waverecn(coeffs_from_arr, wavelet=wavelet_test)\n",
    "    assert yp.sum(yp.abs(W.H * W * x - x)) < 1e-2\n",
    "\n",
    "    # Ensure that the wavelet transform isn't just identity (weird bug)\n",
    "    if W.shape[1] is yp.size(x):\n",
    "        assert yp.sum(yp.abs(W * yp.vec(x) - yp.vec(x))) > 1e-2, \"%s\" % wavelet_test\n",
    "\n",
    "    # Check gradient \n",
    "    W.gradient_check()\n",
    "\n",
    "    # Render forward model\n",
    "    W.latex()"
   ]
  },
  {
   "cell_type": "markdown",
   "metadata": {},
   "source": [
    "## Exponential Operator"
   ]
  },
  {
   "cell_type": "code",
   "execution_count": 19,
   "metadata": {
    "ExecuteTime": {
     "end_time": "2019-05-02T17:11:33.763443Z",
     "start_time": "2019-05-02T17:11:33.723188Z"
    }
   },
   "outputs": [
    {
     "data": {
      "text/latex": [
       "$EXP(\\vec{x}) = e^{\\vec{x}}$"
      ],
      "text/plain": [
       "<IPython.core.display.Latex object>"
      ]
     },
     "metadata": {},
     "output_type": "display_data"
    },
    {
     "data": {
      "text/latex": [
       "$ \\nabla_xEXP(\\vec{x}) = diag(\\vec{D_{e^x}})\\times \\vec{x}$"
      ],
      "text/plain": [
       "<IPython.core.display.Latex object>"
      ]
     },
     "metadata": {},
     "output_type": "display_data"
    }
   ],
   "source": [
    "L2 = ops.L2Norm(image_size)\n",
    "F = ops.FourierTransform(image_size)\n",
    "EXP = ops.Exponential(image_size)\n",
    "\n",
    "# Forward model\n",
    "assert yp.sum(yp.abs(yp.changeBackend(EXP * x, 'numpy') - np.exp(yp.changeBackend(x, 'numpy')))) < eps\n",
    "\n",
    "# Check gradient\n",
    "EXP.gradient_check()\n",
    "\n",
    "# Generate composite operator\n",
    "D = ops.Diagonalize(h)\n",
    "L2 = ops.L2Norm(image_size)\n",
    "\n",
    "EXP_COMP = L2 * F * EXP\n",
    "EXP_COMP.gradient_check()\n",
    "\n",
    "EXP_COMP_2 = L2 * F * EXP * D\n",
    "EXP_COMP_2.gradient_check()\n",
    "\n",
    "# Render forward model\n",
    "EXP.latex()\n",
    "\n",
    "# Render gradient\n",
    "EXP.latex(gradient=True)"
   ]
  },
  {
   "cell_type": "markdown",
   "metadata": {},
   "source": [
    "## Phase Ramp Operator"
   ]
  },
  {
   "cell_type": "code",
   "execution_count": 20,
   "metadata": {
    "ExecuteTime": {
     "end_time": "2019-05-02T17:11:34.576540Z",
     "start_time": "2019-05-02T17:11:34.534375Z"
    }
   },
   "outputs": [
    {
     "name": "stdout",
     "output_type": "stream",
     "text": [
      "4.24405e-09\n"
     ]
    },
    {
     "data": {
      "text/latex": [
       "$R(\\vec{x}) = e^{-i2\\pi \\vec{k} \\vec{x}}$"
      ],
      "text/plain": [
       "<IPython.core.display.Latex object>"
      ]
     },
     "metadata": {},
     "output_type": "display_data"
    },
    {
     "data": {
      "text/latex": [
       "$ \\nabla_xR(\\vec{x}) = \\begin{bmatrix}\\sum_{axes=[0, 1]}  \\cr \\sum_{axes=[0, 1]} \\end{bmatrix} \\times \\vec{x}$"
      ],
      "text/plain": [
       "<IPython.core.display.Latex object>"
      ]
     },
     "metadata": {},
     "output_type": "display_data"
    }
   ],
   "source": [
    "eps_phase_ramp = 1e-4\n",
    "shift = yp.changeBackend(np.asarray((-5,3)).astype(yp.getNativeDatatype(global_dtype, 'numpy')), global_backend)\n",
    "\n",
    "# Generate phase ramp\n",
    "R = ops.PhaseRamp(image_size)\n",
    "r = R * shift\n",
    "\n",
    "F = ops.FourierTransform(image_size, dtype=global_dtype, normalize=False, backend=global_backend)\n",
    "D_R = ops.Diagonalize(r, dtype=global_dtype)\n",
    "S_R = F.H * D_R * F\n",
    "\n",
    "# Pixel-wise shift operator\n",
    "S = ops.Shift(image_size, shift)\n",
    "\n",
    "\n",
    "# Check gradient of phase ramp convolution\n",
    "S_R.gradient_check()\n",
    "\n",
    "# Check gradient of phase ramp\n",
    "print(R.gradient_check(eps=1))\n",
    "\n",
    "# Render forward model\n",
    "R.latex()\n",
    "\n",
    "# Render gradient\n",
    "R.latex(gradient=True)\n",
    "\n",
    "# plt.figure()\n",
    "# plt.subplot(131)\n",
    "# plt.imshow(yp.abs(yp.reshape(yp.changeBackend(S_R * vec(x), 'numpy'), image_size)))\n",
    "# plt.subplot(132)\n",
    "# plt.imshow(yp.abs(yp.reshape(yp.changeBackend(S * vec(x), 'numpy'), image_size)))\n",
    "# plt.subplot(133)\n",
    "# plt.imshow(yp.abs(yp.reshape(yp.changeBackend(S * vec(x) - S_R * vec(x), 'numpy'), image_size)))"
   ]
  },
  {
   "cell_type": "markdown",
   "metadata": {},
   "source": [
    "## Derivative Operator"
   ]
  },
  {
   "cell_type": "code",
   "execution_count": 21,
   "metadata": {
    "ExecuteTime": {
     "end_time": "2019-05-02T17:11:35.744025Z",
     "start_time": "2019-05-02T17:11:35.692280Z"
    }
   },
   "outputs": [
    {
     "data": {
      "text/latex": [
       "$∂x(\\vec{x}) = \\frac{\\partial}{\\partial x} \\times \\vec{x}$"
      ],
      "text/plain": [
       "<IPython.core.display.Latex object>"
      ]
     },
     "metadata": {},
     "output_type": "display_data"
    },
    {
     "data": {
      "text/latex": [
       "$∂y(\\vec{x}) = \\frac{\\partial}{\\partial y} \\times \\vec{x}$"
      ],
      "text/plain": [
       "<IPython.core.display.Latex object>"
      ]
     },
     "metadata": {},
     "output_type": "display_data"
    },
    {
     "data": {
      "text/latex": [
       "$ \\nabla_x∂x(\\vec{x}) = F^H \\times diag(\\vec{d})^H \\times F \\times \\vec{x}$"
      ],
      "text/plain": [
       "<IPython.core.display.Latex object>"
      ]
     },
     "metadata": {},
     "output_type": "display_data"
    },
    {
     "data": {
      "text/latex": [
       "$ \\nabla_x∂y(\\vec{x}) = F^H \\times diag(\\vec{d})^H \\times F \\times \\vec{x}$"
      ],
      "text/plain": [
       "<IPython.core.display.Latex object>"
      ]
     },
     "metadata": {},
     "output_type": "display_data"
    }
   ],
   "source": [
    "# Derivatie operator in x\n",
    "Dx = ops.Derivative(image_size, dtype=global_dtype, backend=global_backend, axis=1)\n",
    "xd = Dx * x\n",
    "\n",
    "# Derivative operator in y\n",
    "Dy = ops.Derivative(image_size, dtype=global_dtype, backend=global_backend, axis=0)\n",
    "yd = Dy * x\n",
    "\n",
    "# True derivative grids for comparison\n",
    "N = image_size\n",
    "r_x = np.arange(-N[1] / 2, N[1] / 2, 1.0) / N[1]\n",
    "r_y = np.arange(-N[0] / 2, N[0] / 2, 1.0) / N[0]\n",
    "grid_np = np.meshgrid(r_x, r_y)\n",
    "\n",
    "grid = []\n",
    "for g in grid_np:\n",
    "    grid.append(yp.changeBackend(g.astype(yp.getNativeDatatype(global_dtype, 'numpy')), global_backend))\n",
    "\n",
    "# from libwallerlab.operators.fft import Ft, iFt\n",
    "Ft = lambda x: np.fft.fftshift(np.fft.fft2(np.fft.fftshift(x, axes=(0, 1)), axes=(0, 1), norm='ortho'), axes=(0, 1))\n",
    "iFt = lambda x: np.fft.fftshift(np.fft.ifft2(np.fft.fftshift(x, axes=(0, 1)), axes=(0, 1), norm='ortho'), axes=(0, 1))\n",
    "\n",
    "dx_func = lambda x: iFt(Ft(x) * grid[1].reshape(image_size))\n",
    "dy_func = lambda x: iFt(Ft(x) * grid[0].reshape(image_size))\n",
    "\n",
    "# assert yp.sum(yp.abs(dx_func(x) - xd.reshape(image_size))) < eps, \"X derivative was not equal! (%.4e)\" % yp.sum(yp.abs(dx_func(x) - xd.reshape(image_size)))\n",
    "# assert yp.sum(yp.abs(dy_func(x) - yd.reshape(image_size))) < eps, \"Y derivative was not equal! (%.4e)\" % yp.sum(yp.abs(dy_func(x) - yd.reshape(image_size)))\n",
    "\n",
    "# Check Gradient\n",
    "Dx.gradient_check()\n",
    "Dy.gradient_check()\n",
    "\n",
    "# Render forward models\n",
    "Dx.latex()\n",
    "Dy.latex()\n",
    "\n",
    "# Render gradients\n",
    "Dx.latex(gradient=True)\n",
    "Dy.latex(gradient=True)"
   ]
  },
  {
   "cell_type": "markdown",
   "metadata": {},
   "source": [
    "## Power Operator"
   ]
  },
  {
   "cell_type": "code",
   "execution_count": 22,
   "metadata": {
    "ExecuteTime": {
     "end_time": "2019-05-02T17:11:36.565425Z",
     "start_time": "2019-05-02T17:11:36.537633Z"
    }
   },
   "outputs": [
    {
     "data": {
      "text/latex": [
       "$P(\\vec{x}) = \\vec{x}^2$"
      ],
      "text/plain": [
       "<IPython.core.display.Latex object>"
      ]
     },
     "metadata": {},
     "output_type": "display_data"
    },
    {
     "data": {
      "text/latex": [
       "$ \\nabla_xΣ(\\vec{x}) = \\sum_{axes=[0, 1]} ^H \\times \\vec{x}$"
      ],
      "text/plain": [
       "<IPython.core.display.Latex object>"
      ]
     },
     "metadata": {},
     "output_type": "display_data"
    }
   ],
   "source": [
    "power = 2\n",
    "P = ops.Power(image_size, power,dtype=global_dtype, backend=global_backend)\n",
    "assert yp.sum(yp.abs(yp.changeBackend(P * x, 'numpy') - yp.changeBackend(x, 'numpy') ** power)) < eps, \"%f\" % yp.sum(yp.abs(yp.changeBackend(P * x, 'numpy') - yp.changeBackend(x, 'numpy') ** power)) \n",
    "\n",
    "# Render forward model\n",
    "P.latex()\n",
    "\n",
    "# Render gradient\n",
    "Σ.latex(gradient=True)"
   ]
  },
  {
   "cell_type": "markdown",
   "metadata": {},
   "source": [
    "## FFTShift Operator"
   ]
  },
  {
   "cell_type": "code",
   "execution_count": 23,
   "metadata": {
    "ExecuteTime": {
     "end_time": "2019-05-02T17:11:37.420161Z",
     "start_time": "2019-05-02T17:11:37.391490Z"
    }
   },
   "outputs": [
    {
     "data": {
      "text/latex": [
       "$S(\\vec{x}) = S \\times \\vec{x}$"
      ],
      "text/plain": [
       "<IPython.core.display.Latex object>"
      ]
     },
     "metadata": {},
     "output_type": "display_data"
    },
    {
     "data": {
      "text/latex": [
       "$ \\nabla_xS(\\vec{x}) = S^H \\times \\vec{x}$"
      ],
      "text/plain": [
       "<IPython.core.display.Latex object>"
      ]
     },
     "metadata": {},
     "output_type": "display_data"
    }
   ],
   "source": [
    "S = ops.FFTShift(image_size)\n",
    "\n",
    "yp.assert_equality(S * x, yp.fftshift(x))\n",
    "yp.assert_equality(S.H * S * x, x)\n",
    "\n",
    "# Check Gradient\n",
    "S.gradient_check()\n",
    "\n",
    "# Render Latex\n",
    "S.latex()\n",
    "\n",
    "# Render gradient\n",
    "S.latex(gradient=True)\n",
    "\n",
    "# plt.figure()\n",
    "# plt.subplot(131)\n",
    "# plt.imshow(yp.abs(x))\n",
    "# plt.subplot(132)\n",
    "# plt.imshow(yp.abs(S * x))\n",
    "# plt.subplot(133)\n",
    "# plt.imshow(yp.abs(S.H * S *  x))"
   ]
  },
  {
   "cell_type": "markdown",
   "metadata": {},
   "source": [
    "## Image Segmentation Operator"
   ]
  },
  {
   "cell_type": "code",
   "execution_count": 24,
   "metadata": {
    "ExecuteTime": {
     "end_time": "2019-05-02T17:11:38.196543Z",
     "start_time": "2019-05-02T17:11:38.112128Z"
    }
   },
   "outputs": [
    {
     "data": {
      "application/javascript": [
       "/* Put everything inside the global mpl namespace */\n",
       "window.mpl = {};\n",
       "\n",
       "\n",
       "mpl.get_websocket_type = function() {\n",
       "    if (typeof(WebSocket) !== 'undefined') {\n",
       "        return WebSocket;\n",
       "    } else if (typeof(MozWebSocket) !== 'undefined') {\n",
       "        return MozWebSocket;\n",
       "    } else {\n",
       "        alert('Your browser does not have WebSocket support. ' +\n",
       "              'Please try Chrome, Safari or Firefox ≥ 6. ' +\n",
       "              'Firefox 4 and 5 are also supported but you ' +\n",
       "              'have to enable WebSockets in about:config.');\n",
       "    };\n",
       "}\n",
       "\n",
       "mpl.figure = function(figure_id, websocket, ondownload, parent_element) {\n",
       "    this.id = figure_id;\n",
       "\n",
       "    this.ws = websocket;\n",
       "\n",
       "    this.supports_binary = (this.ws.binaryType != undefined);\n",
       "\n",
       "    if (!this.supports_binary) {\n",
       "        var warnings = document.getElementById(\"mpl-warnings\");\n",
       "        if (warnings) {\n",
       "            warnings.style.display = 'block';\n",
       "            warnings.textContent = (\n",
       "                \"This browser does not support binary websocket messages. \" +\n",
       "                    \"Performance may be slow.\");\n",
       "        }\n",
       "    }\n",
       "\n",
       "    this.imageObj = new Image();\n",
       "\n",
       "    this.context = undefined;\n",
       "    this.message = undefined;\n",
       "    this.canvas = undefined;\n",
       "    this.rubberband_canvas = undefined;\n",
       "    this.rubberband_context = undefined;\n",
       "    this.format_dropdown = undefined;\n",
       "\n",
       "    this.image_mode = 'full';\n",
       "\n",
       "    this.root = $('<div/>');\n",
       "    this._root_extra_style(this.root)\n",
       "    this.root.attr('style', 'display: inline-block');\n",
       "\n",
       "    $(parent_element).append(this.root);\n",
       "\n",
       "    this._init_header(this);\n",
       "    this._init_canvas(this);\n",
       "    this._init_toolbar(this);\n",
       "\n",
       "    var fig = this;\n",
       "\n",
       "    this.waiting = false;\n",
       "\n",
       "    this.ws.onopen =  function () {\n",
       "            fig.send_message(\"supports_binary\", {value: fig.supports_binary});\n",
       "            fig.send_message(\"send_image_mode\", {});\n",
       "            if (mpl.ratio != 1) {\n",
       "                fig.send_message(\"set_dpi_ratio\", {'dpi_ratio': mpl.ratio});\n",
       "            }\n",
       "            fig.send_message(\"refresh\", {});\n",
       "        }\n",
       "\n",
       "    this.imageObj.onload = function() {\n",
       "            if (fig.image_mode == 'full') {\n",
       "                // Full images could contain transparency (where diff images\n",
       "                // almost always do), so we need to clear the canvas so that\n",
       "                // there is no ghosting.\n",
       "                fig.context.clearRect(0, 0, fig.canvas.width, fig.canvas.height);\n",
       "            }\n",
       "            fig.context.drawImage(fig.imageObj, 0, 0);\n",
       "        };\n",
       "\n",
       "    this.imageObj.onunload = function() {\n",
       "        fig.ws.close();\n",
       "    }\n",
       "\n",
       "    this.ws.onmessage = this._make_on_message_function(this);\n",
       "\n",
       "    this.ondownload = ondownload;\n",
       "}\n",
       "\n",
       "mpl.figure.prototype._init_header = function() {\n",
       "    var titlebar = $(\n",
       "        '<div class=\"ui-dialog-titlebar ui-widget-header ui-corner-all ' +\n",
       "        'ui-helper-clearfix\"/>');\n",
       "    var titletext = $(\n",
       "        '<div class=\"ui-dialog-title\" style=\"width: 100%; ' +\n",
       "        'text-align: center; padding: 3px;\"/>');\n",
       "    titlebar.append(titletext)\n",
       "    this.root.append(titlebar);\n",
       "    this.header = titletext[0];\n",
       "}\n",
       "\n",
       "\n",
       "\n",
       "mpl.figure.prototype._canvas_extra_style = function(canvas_div) {\n",
       "\n",
       "}\n",
       "\n",
       "\n",
       "mpl.figure.prototype._root_extra_style = function(canvas_div) {\n",
       "\n",
       "}\n",
       "\n",
       "mpl.figure.prototype._init_canvas = function() {\n",
       "    var fig = this;\n",
       "\n",
       "    var canvas_div = $('<div/>');\n",
       "\n",
       "    canvas_div.attr('style', 'position: relative; clear: both; outline: 0');\n",
       "\n",
       "    function canvas_keyboard_event(event) {\n",
       "        return fig.key_event(event, event['data']);\n",
       "    }\n",
       "\n",
       "    canvas_div.keydown('key_press', canvas_keyboard_event);\n",
       "    canvas_div.keyup('key_release', canvas_keyboard_event);\n",
       "    this.canvas_div = canvas_div\n",
       "    this._canvas_extra_style(canvas_div)\n",
       "    this.root.append(canvas_div);\n",
       "\n",
       "    var canvas = $('<canvas/>');\n",
       "    canvas.addClass('mpl-canvas');\n",
       "    canvas.attr('style', \"left: 0; top: 0; z-index: 0; outline: 0\")\n",
       "\n",
       "    this.canvas = canvas[0];\n",
       "    this.context = canvas[0].getContext(\"2d\");\n",
       "\n",
       "    var backingStore = this.context.backingStorePixelRatio ||\n",
       "\tthis.context.webkitBackingStorePixelRatio ||\n",
       "\tthis.context.mozBackingStorePixelRatio ||\n",
       "\tthis.context.msBackingStorePixelRatio ||\n",
       "\tthis.context.oBackingStorePixelRatio ||\n",
       "\tthis.context.backingStorePixelRatio || 1;\n",
       "\n",
       "    mpl.ratio = (window.devicePixelRatio || 1) / backingStore;\n",
       "\n",
       "    var rubberband = $('<canvas/>');\n",
       "    rubberband.attr('style', \"position: absolute; left: 0; top: 0; z-index: 1;\")\n",
       "\n",
       "    var pass_mouse_events = true;\n",
       "\n",
       "    canvas_div.resizable({\n",
       "        start: function(event, ui) {\n",
       "            pass_mouse_events = false;\n",
       "        },\n",
       "        resize: function(event, ui) {\n",
       "            fig.request_resize(ui.size.width, ui.size.height);\n",
       "        },\n",
       "        stop: function(event, ui) {\n",
       "            pass_mouse_events = true;\n",
       "            fig.request_resize(ui.size.width, ui.size.height);\n",
       "        },\n",
       "    });\n",
       "\n",
       "    function mouse_event_fn(event) {\n",
       "        if (pass_mouse_events)\n",
       "            return fig.mouse_event(event, event['data']);\n",
       "    }\n",
       "\n",
       "    rubberband.mousedown('button_press', mouse_event_fn);\n",
       "    rubberband.mouseup('button_release', mouse_event_fn);\n",
       "    // Throttle sequential mouse events to 1 every 20ms.\n",
       "    rubberband.mousemove('motion_notify', mouse_event_fn);\n",
       "\n",
       "    rubberband.mouseenter('figure_enter', mouse_event_fn);\n",
       "    rubberband.mouseleave('figure_leave', mouse_event_fn);\n",
       "\n",
       "    canvas_div.on(\"wheel\", function (event) {\n",
       "        event = event.originalEvent;\n",
       "        event['data'] = 'scroll'\n",
       "        if (event.deltaY < 0) {\n",
       "            event.step = 1;\n",
       "        } else {\n",
       "            event.step = -1;\n",
       "        }\n",
       "        mouse_event_fn(event);\n",
       "    });\n",
       "\n",
       "    canvas_div.append(canvas);\n",
       "    canvas_div.append(rubberband);\n",
       "\n",
       "    this.rubberband = rubberband;\n",
       "    this.rubberband_canvas = rubberband[0];\n",
       "    this.rubberband_context = rubberband[0].getContext(\"2d\");\n",
       "    this.rubberband_context.strokeStyle = \"#000000\";\n",
       "\n",
       "    this._resize_canvas = function(width, height) {\n",
       "        // Keep the size of the canvas, canvas container, and rubber band\n",
       "        // canvas in synch.\n",
       "        canvas_div.css('width', width)\n",
       "        canvas_div.css('height', height)\n",
       "\n",
       "        canvas.attr('width', width * mpl.ratio);\n",
       "        canvas.attr('height', height * mpl.ratio);\n",
       "        canvas.attr('style', 'width: ' + width + 'px; height: ' + height + 'px;');\n",
       "\n",
       "        rubberband.attr('width', width);\n",
       "        rubberband.attr('height', height);\n",
       "    }\n",
       "\n",
       "    // Set the figure to an initial 600x600px, this will subsequently be updated\n",
       "    // upon first draw.\n",
       "    this._resize_canvas(600, 600);\n",
       "\n",
       "    // Disable right mouse context menu.\n",
       "    $(this.rubberband_canvas).bind(\"contextmenu\",function(e){\n",
       "        return false;\n",
       "    });\n",
       "\n",
       "    function set_focus () {\n",
       "        canvas.focus();\n",
       "        canvas_div.focus();\n",
       "    }\n",
       "\n",
       "    window.setTimeout(set_focus, 100);\n",
       "}\n",
       "\n",
       "mpl.figure.prototype._init_toolbar = function() {\n",
       "    var fig = this;\n",
       "\n",
       "    var nav_element = $('<div/>');\n",
       "    nav_element.attr('style', 'width: 100%');\n",
       "    this.root.append(nav_element);\n",
       "\n",
       "    // Define a callback function for later on.\n",
       "    function toolbar_event(event) {\n",
       "        return fig.toolbar_button_onclick(event['data']);\n",
       "    }\n",
       "    function toolbar_mouse_event(event) {\n",
       "        return fig.toolbar_button_onmouseover(event['data']);\n",
       "    }\n",
       "\n",
       "    for(var toolbar_ind in mpl.toolbar_items) {\n",
       "        var name = mpl.toolbar_items[toolbar_ind][0];\n",
       "        var tooltip = mpl.toolbar_items[toolbar_ind][1];\n",
       "        var image = mpl.toolbar_items[toolbar_ind][2];\n",
       "        var method_name = mpl.toolbar_items[toolbar_ind][3];\n",
       "\n",
       "        if (!name) {\n",
       "            // put a spacer in here.\n",
       "            continue;\n",
       "        }\n",
       "        var button = $('<button/>');\n",
       "        button.addClass('ui-button ui-widget ui-state-default ui-corner-all ' +\n",
       "                        'ui-button-icon-only');\n",
       "        button.attr('role', 'button');\n",
       "        button.attr('aria-disabled', 'false');\n",
       "        button.click(method_name, toolbar_event);\n",
       "        button.mouseover(tooltip, toolbar_mouse_event);\n",
       "\n",
       "        var icon_img = $('<span/>');\n",
       "        icon_img.addClass('ui-button-icon-primary ui-icon');\n",
       "        icon_img.addClass(image);\n",
       "        icon_img.addClass('ui-corner-all');\n",
       "\n",
       "        var tooltip_span = $('<span/>');\n",
       "        tooltip_span.addClass('ui-button-text');\n",
       "        tooltip_span.html(tooltip);\n",
       "\n",
       "        button.append(icon_img);\n",
       "        button.append(tooltip_span);\n",
       "\n",
       "        nav_element.append(button);\n",
       "    }\n",
       "\n",
       "    var fmt_picker_span = $('<span/>');\n",
       "\n",
       "    var fmt_picker = $('<select/>');\n",
       "    fmt_picker.addClass('mpl-toolbar-option ui-widget ui-widget-content');\n",
       "    fmt_picker_span.append(fmt_picker);\n",
       "    nav_element.append(fmt_picker_span);\n",
       "    this.format_dropdown = fmt_picker[0];\n",
       "\n",
       "    for (var ind in mpl.extensions) {\n",
       "        var fmt = mpl.extensions[ind];\n",
       "        var option = $(\n",
       "            '<option/>', {selected: fmt === mpl.default_extension}).html(fmt);\n",
       "        fmt_picker.append(option);\n",
       "    }\n",
       "\n",
       "    // Add hover states to the ui-buttons\n",
       "    $( \".ui-button\" ).hover(\n",
       "        function() { $(this).addClass(\"ui-state-hover\");},\n",
       "        function() { $(this).removeClass(\"ui-state-hover\");}\n",
       "    );\n",
       "\n",
       "    var status_bar = $('<span class=\"mpl-message\"/>');\n",
       "    nav_element.append(status_bar);\n",
       "    this.message = status_bar[0];\n",
       "}\n",
       "\n",
       "mpl.figure.prototype.request_resize = function(x_pixels, y_pixels) {\n",
       "    // Request matplotlib to resize the figure. Matplotlib will then trigger a resize in the client,\n",
       "    // which will in turn request a refresh of the image.\n",
       "    this.send_message('resize', {'width': x_pixels, 'height': y_pixels});\n",
       "}\n",
       "\n",
       "mpl.figure.prototype.send_message = function(type, properties) {\n",
       "    properties['type'] = type;\n",
       "    properties['figure_id'] = this.id;\n",
       "    this.ws.send(JSON.stringify(properties));\n",
       "}\n",
       "\n",
       "mpl.figure.prototype.send_draw_message = function() {\n",
       "    if (!this.waiting) {\n",
       "        this.waiting = true;\n",
       "        this.ws.send(JSON.stringify({type: \"draw\", figure_id: this.id}));\n",
       "    }\n",
       "}\n",
       "\n",
       "\n",
       "mpl.figure.prototype.handle_save = function(fig, msg) {\n",
       "    var format_dropdown = fig.format_dropdown;\n",
       "    var format = format_dropdown.options[format_dropdown.selectedIndex].value;\n",
       "    fig.ondownload(fig, format);\n",
       "}\n",
       "\n",
       "\n",
       "mpl.figure.prototype.handle_resize = function(fig, msg) {\n",
       "    var size = msg['size'];\n",
       "    if (size[0] != fig.canvas.width || size[1] != fig.canvas.height) {\n",
       "        fig._resize_canvas(size[0], size[1]);\n",
       "        fig.send_message(\"refresh\", {});\n",
       "    };\n",
       "}\n",
       "\n",
       "mpl.figure.prototype.handle_rubberband = function(fig, msg) {\n",
       "    var x0 = msg['x0'] / mpl.ratio;\n",
       "    var y0 = (fig.canvas.height - msg['y0']) / mpl.ratio;\n",
       "    var x1 = msg['x1'] / mpl.ratio;\n",
       "    var y1 = (fig.canvas.height - msg['y1']) / mpl.ratio;\n",
       "    x0 = Math.floor(x0) + 0.5;\n",
       "    y0 = Math.floor(y0) + 0.5;\n",
       "    x1 = Math.floor(x1) + 0.5;\n",
       "    y1 = Math.floor(y1) + 0.5;\n",
       "    var min_x = Math.min(x0, x1);\n",
       "    var min_y = Math.min(y0, y1);\n",
       "    var width = Math.abs(x1 - x0);\n",
       "    var height = Math.abs(y1 - y0);\n",
       "\n",
       "    fig.rubberband_context.clearRect(\n",
       "        0, 0, fig.canvas.width, fig.canvas.height);\n",
       "\n",
       "    fig.rubberband_context.strokeRect(min_x, min_y, width, height);\n",
       "}\n",
       "\n",
       "mpl.figure.prototype.handle_figure_label = function(fig, msg) {\n",
       "    // Updates the figure title.\n",
       "    fig.header.textContent = msg['label'];\n",
       "}\n",
       "\n",
       "mpl.figure.prototype.handle_cursor = function(fig, msg) {\n",
       "    var cursor = msg['cursor'];\n",
       "    switch(cursor)\n",
       "    {\n",
       "    case 0:\n",
       "        cursor = 'pointer';\n",
       "        break;\n",
       "    case 1:\n",
       "        cursor = 'default';\n",
       "        break;\n",
       "    case 2:\n",
       "        cursor = 'crosshair';\n",
       "        break;\n",
       "    case 3:\n",
       "        cursor = 'move';\n",
       "        break;\n",
       "    }\n",
       "    fig.rubberband_canvas.style.cursor = cursor;\n",
       "}\n",
       "\n",
       "mpl.figure.prototype.handle_message = function(fig, msg) {\n",
       "    fig.message.textContent = msg['message'];\n",
       "}\n",
       "\n",
       "mpl.figure.prototype.handle_draw = function(fig, msg) {\n",
       "    // Request the server to send over a new figure.\n",
       "    fig.send_draw_message();\n",
       "}\n",
       "\n",
       "mpl.figure.prototype.handle_image_mode = function(fig, msg) {\n",
       "    fig.image_mode = msg['mode'];\n",
       "}\n",
       "\n",
       "mpl.figure.prototype.updated_canvas_event = function() {\n",
       "    // Called whenever the canvas gets updated.\n",
       "    this.send_message(\"ack\", {});\n",
       "}\n",
       "\n",
       "// A function to construct a web socket function for onmessage handling.\n",
       "// Called in the figure constructor.\n",
       "mpl.figure.prototype._make_on_message_function = function(fig) {\n",
       "    return function socket_on_message(evt) {\n",
       "        if (evt.data instanceof Blob) {\n",
       "            /* FIXME: We get \"Resource interpreted as Image but\n",
       "             * transferred with MIME type text/plain:\" errors on\n",
       "             * Chrome.  But how to set the MIME type?  It doesn't seem\n",
       "             * to be part of the websocket stream */\n",
       "            evt.data.type = \"image/png\";\n",
       "\n",
       "            /* Free the memory for the previous frames */\n",
       "            if (fig.imageObj.src) {\n",
       "                (window.URL || window.webkitURL).revokeObjectURL(\n",
       "                    fig.imageObj.src);\n",
       "            }\n",
       "\n",
       "            fig.imageObj.src = (window.URL || window.webkitURL).createObjectURL(\n",
       "                evt.data);\n",
       "            fig.updated_canvas_event();\n",
       "            fig.waiting = false;\n",
       "            return;\n",
       "        }\n",
       "        else if (typeof evt.data === 'string' && evt.data.slice(0, 21) == \"data:image/png;base64\") {\n",
       "            fig.imageObj.src = evt.data;\n",
       "            fig.updated_canvas_event();\n",
       "            fig.waiting = false;\n",
       "            return;\n",
       "        }\n",
       "\n",
       "        var msg = JSON.parse(evt.data);\n",
       "        var msg_type = msg['type'];\n",
       "\n",
       "        // Call the  \"handle_{type}\" callback, which takes\n",
       "        // the figure and JSON message as its only arguments.\n",
       "        try {\n",
       "            var callback = fig[\"handle_\" + msg_type];\n",
       "        } catch (e) {\n",
       "            console.log(\"No handler for the '\" + msg_type + \"' message type: \", msg);\n",
       "            return;\n",
       "        }\n",
       "\n",
       "        if (callback) {\n",
       "            try {\n",
       "                // console.log(\"Handling '\" + msg_type + \"' message: \", msg);\n",
       "                callback(fig, msg);\n",
       "            } catch (e) {\n",
       "                console.log(\"Exception inside the 'handler_\" + msg_type + \"' callback:\", e, e.stack, msg);\n",
       "            }\n",
       "        }\n",
       "    };\n",
       "}\n",
       "\n",
       "// from http://stackoverflow.com/questions/1114465/getting-mouse-location-in-canvas\n",
       "mpl.findpos = function(e) {\n",
       "    //this section is from http://www.quirksmode.org/js/events_properties.html\n",
       "    var targ;\n",
       "    if (!e)\n",
       "        e = window.event;\n",
       "    if (e.target)\n",
       "        targ = e.target;\n",
       "    else if (e.srcElement)\n",
       "        targ = e.srcElement;\n",
       "    if (targ.nodeType == 3) // defeat Safari bug\n",
       "        targ = targ.parentNode;\n",
       "\n",
       "    // jQuery normalizes the pageX and pageY\n",
       "    // pageX,Y are the mouse positions relative to the document\n",
       "    // offset() returns the position of the element relative to the document\n",
       "    var x = e.pageX - $(targ).offset().left;\n",
       "    var y = e.pageY - $(targ).offset().top;\n",
       "\n",
       "    return {\"x\": x, \"y\": y};\n",
       "};\n",
       "\n",
       "/*\n",
       " * return a copy of an object with only non-object keys\n",
       " * we need this to avoid circular references\n",
       " * http://stackoverflow.com/a/24161582/3208463\n",
       " */\n",
       "function simpleKeys (original) {\n",
       "  return Object.keys(original).reduce(function (obj, key) {\n",
       "    if (typeof original[key] !== 'object')\n",
       "        obj[key] = original[key]\n",
       "    return obj;\n",
       "  }, {});\n",
       "}\n",
       "\n",
       "mpl.figure.prototype.mouse_event = function(event, name) {\n",
       "    var canvas_pos = mpl.findpos(event)\n",
       "\n",
       "    if (name === 'button_press')\n",
       "    {\n",
       "        this.canvas.focus();\n",
       "        this.canvas_div.focus();\n",
       "    }\n",
       "\n",
       "    var x = canvas_pos.x * mpl.ratio;\n",
       "    var y = canvas_pos.y * mpl.ratio;\n",
       "\n",
       "    this.send_message(name, {x: x, y: y, button: event.button,\n",
       "                             step: event.step,\n",
       "                             guiEvent: simpleKeys(event)});\n",
       "\n",
       "    /* This prevents the web browser from automatically changing to\n",
       "     * the text insertion cursor when the button is pressed.  We want\n",
       "     * to control all of the cursor setting manually through the\n",
       "     * 'cursor' event from matplotlib */\n",
       "    event.preventDefault();\n",
       "    return false;\n",
       "}\n",
       "\n",
       "mpl.figure.prototype._key_event_extra = function(event, name) {\n",
       "    // Handle any extra behaviour associated with a key event\n",
       "}\n",
       "\n",
       "mpl.figure.prototype.key_event = function(event, name) {\n",
       "\n",
       "    // Prevent repeat events\n",
       "    if (name == 'key_press')\n",
       "    {\n",
       "        if (event.which === this._key)\n",
       "            return;\n",
       "        else\n",
       "            this._key = event.which;\n",
       "    }\n",
       "    if (name == 'key_release')\n",
       "        this._key = null;\n",
       "\n",
       "    var value = '';\n",
       "    if (event.ctrlKey && event.which != 17)\n",
       "        value += \"ctrl+\";\n",
       "    if (event.altKey && event.which != 18)\n",
       "        value += \"alt+\";\n",
       "    if (event.shiftKey && event.which != 16)\n",
       "        value += \"shift+\";\n",
       "\n",
       "    value += 'k';\n",
       "    value += event.which.toString();\n",
       "\n",
       "    this._key_event_extra(event, name);\n",
       "\n",
       "    this.send_message(name, {key: value,\n",
       "                             guiEvent: simpleKeys(event)});\n",
       "    return false;\n",
       "}\n",
       "\n",
       "mpl.figure.prototype.toolbar_button_onclick = function(name) {\n",
       "    if (name == 'download') {\n",
       "        this.handle_save(this, null);\n",
       "    } else {\n",
       "        this.send_message(\"toolbar_button\", {name: name});\n",
       "    }\n",
       "};\n",
       "\n",
       "mpl.figure.prototype.toolbar_button_onmouseover = function(tooltip) {\n",
       "    this.message.textContent = tooltip;\n",
       "};\n",
       "mpl.toolbar_items = [[\"Home\", \"Reset original view\", \"fa fa-home icon-home\", \"home\"], [\"Back\", \"Back to previous view\", \"fa fa-arrow-left icon-arrow-left\", \"back\"], [\"Forward\", \"Forward to next view\", \"fa fa-arrow-right icon-arrow-right\", \"forward\"], [\"\", \"\", \"\", \"\"], [\"Pan\", \"Pan axes with left mouse, zoom with right\", \"fa fa-arrows icon-move\", \"pan\"], [\"Zoom\", \"Zoom to rectangle\", \"fa fa-square-o icon-check-empty\", \"zoom\"], [\"\", \"\", \"\", \"\"], [\"Download\", \"Download plot\", \"fa fa-floppy-o icon-save\", \"download\"]];\n",
       "\n",
       "mpl.extensions = [\"eps\", \"jpeg\", \"pdf\", \"png\", \"ps\", \"raw\", \"svg\", \"tif\"];\n",
       "\n",
       "mpl.default_extension = \"png\";var comm_websocket_adapter = function(comm) {\n",
       "    // Create a \"websocket\"-like object which calls the given IPython comm\n",
       "    // object with the appropriate methods. Currently this is a non binary\n",
       "    // socket, so there is still some room for performance tuning.\n",
       "    var ws = {};\n",
       "\n",
       "    ws.close = function() {\n",
       "        comm.close()\n",
       "    };\n",
       "    ws.send = function(m) {\n",
       "        //console.log('sending', m);\n",
       "        comm.send(m);\n",
       "    };\n",
       "    // Register the callback with on_msg.\n",
       "    comm.on_msg(function(msg) {\n",
       "        //console.log('receiving', msg['content']['data'], msg);\n",
       "        // Pass the mpl event to the overridden (by mpl) onmessage function.\n",
       "        ws.onmessage(msg['content']['data'])\n",
       "    });\n",
       "    return ws;\n",
       "}\n",
       "\n",
       "mpl.mpl_figure_comm = function(comm, msg) {\n",
       "    // This is the function which gets called when the mpl process\n",
       "    // starts-up an IPython Comm through the \"matplotlib\" channel.\n",
       "\n",
       "    var id = msg.content.data.id;\n",
       "    // Get hold of the div created by the display call when the Comm\n",
       "    // socket was opened in Python.\n",
       "    var element = $(\"#\" + id);\n",
       "    var ws_proxy = comm_websocket_adapter(comm)\n",
       "\n",
       "    function ondownload(figure, format) {\n",
       "        window.open(figure.imageObj.src);\n",
       "    }\n",
       "\n",
       "    var fig = new mpl.figure(id, ws_proxy,\n",
       "                           ondownload,\n",
       "                           element.get(0));\n",
       "\n",
       "    // Call onopen now - mpl needs it, as it is assuming we've passed it a real\n",
       "    // web socket which is closed, not our websocket->open comm proxy.\n",
       "    ws_proxy.onopen();\n",
       "\n",
       "    fig.parent_element = element.get(0);\n",
       "    fig.cell_info = mpl.find_output_cell(\"<div id='\" + id + \"'></div>\");\n",
       "    if (!fig.cell_info) {\n",
       "        console.error(\"Failed to find cell for figure\", id, fig);\n",
       "        return;\n",
       "    }\n",
       "\n",
       "    var output_index = fig.cell_info[2]\n",
       "    var cell = fig.cell_info[0];\n",
       "\n",
       "};\n",
       "\n",
       "mpl.figure.prototype.handle_close = function(fig, msg) {\n",
       "    var width = fig.canvas.width/mpl.ratio\n",
       "    fig.root.unbind('remove')\n",
       "\n",
       "    // Update the output cell to use the data from the current canvas.\n",
       "    fig.push_to_output();\n",
       "    var dataURL = fig.canvas.toDataURL();\n",
       "    // Re-enable the keyboard manager in IPython - without this line, in FF,\n",
       "    // the notebook keyboard shortcuts fail.\n",
       "    IPython.keyboard_manager.enable()\n",
       "    $(fig.parent_element).html('<img src=\"' + dataURL + '\" width=\"' + width + '\">');\n",
       "    fig.close_ws(fig, msg);\n",
       "}\n",
       "\n",
       "mpl.figure.prototype.close_ws = function(fig, msg){\n",
       "    fig.send_message('closing', msg);\n",
       "    // fig.ws.close()\n",
       "}\n",
       "\n",
       "mpl.figure.prototype.push_to_output = function(remove_interactive) {\n",
       "    // Turn the data on the canvas into data in the output cell.\n",
       "    var width = this.canvas.width/mpl.ratio\n",
       "    var dataURL = this.canvas.toDataURL();\n",
       "    this.cell_info[1]['text/html'] = '<img src=\"' + dataURL + '\" width=\"' + width + '\">';\n",
       "}\n",
       "\n",
       "mpl.figure.prototype.updated_canvas_event = function() {\n",
       "    // Tell IPython that the notebook contents must change.\n",
       "    IPython.notebook.set_dirty(true);\n",
       "    this.send_message(\"ack\", {});\n",
       "    var fig = this;\n",
       "    // Wait a second, then push the new image to the DOM so\n",
       "    // that it is saved nicely (might be nice to debounce this).\n",
       "    setTimeout(function () { fig.push_to_output() }, 1000);\n",
       "}\n",
       "\n",
       "mpl.figure.prototype._init_toolbar = function() {\n",
       "    var fig = this;\n",
       "\n",
       "    var nav_element = $('<div/>');\n",
       "    nav_element.attr('style', 'width: 100%');\n",
       "    this.root.append(nav_element);\n",
       "\n",
       "    // Define a callback function for later on.\n",
       "    function toolbar_event(event) {\n",
       "        return fig.toolbar_button_onclick(event['data']);\n",
       "    }\n",
       "    function toolbar_mouse_event(event) {\n",
       "        return fig.toolbar_button_onmouseover(event['data']);\n",
       "    }\n",
       "\n",
       "    for(var toolbar_ind in mpl.toolbar_items){\n",
       "        var name = mpl.toolbar_items[toolbar_ind][0];\n",
       "        var tooltip = mpl.toolbar_items[toolbar_ind][1];\n",
       "        var image = mpl.toolbar_items[toolbar_ind][2];\n",
       "        var method_name = mpl.toolbar_items[toolbar_ind][3];\n",
       "\n",
       "        if (!name) { continue; };\n",
       "\n",
       "        var button = $('<button class=\"btn btn-default\" href=\"#\" title=\"' + name + '\"><i class=\"fa ' + image + ' fa-lg\"></i></button>');\n",
       "        button.click(method_name, toolbar_event);\n",
       "        button.mouseover(tooltip, toolbar_mouse_event);\n",
       "        nav_element.append(button);\n",
       "    }\n",
       "\n",
       "    // Add the status bar.\n",
       "    var status_bar = $('<span class=\"mpl-message\" style=\"text-align:right; float: right;\"/>');\n",
       "    nav_element.append(status_bar);\n",
       "    this.message = status_bar[0];\n",
       "\n",
       "    // Add the close button to the window.\n",
       "    var buttongrp = $('<div class=\"btn-group inline pull-right\"></div>');\n",
       "    var button = $('<button class=\"btn btn-mini btn-primary\" href=\"#\" title=\"Stop Interaction\"><i class=\"fa fa-power-off icon-remove icon-large\"></i></button>');\n",
       "    button.click(function (evt) { fig.handle_close(fig, {}); } );\n",
       "    button.mouseover('Stop Interaction', toolbar_mouse_event);\n",
       "    buttongrp.append(button);\n",
       "    var titlebar = this.root.find($('.ui-dialog-titlebar'));\n",
       "    titlebar.prepend(buttongrp);\n",
       "}\n",
       "\n",
       "mpl.figure.prototype._root_extra_style = function(el){\n",
       "    var fig = this\n",
       "    el.on(\"remove\", function(){\n",
       "\tfig.close_ws(fig, {});\n",
       "    });\n",
       "}\n",
       "\n",
       "mpl.figure.prototype._canvas_extra_style = function(el){\n",
       "    // this is important to make the div 'focusable\n",
       "    el.attr('tabindex', 0)\n",
       "    // reach out to IPython and tell the keyboard manager to turn it's self\n",
       "    // off when our div gets focus\n",
       "\n",
       "    // location in version 3\n",
       "    if (IPython.notebook.keyboard_manager) {\n",
       "        IPython.notebook.keyboard_manager.register_events(el);\n",
       "    }\n",
       "    else {\n",
       "        // location in version 2\n",
       "        IPython.keyboard_manager.register_events(el);\n",
       "    }\n",
       "\n",
       "}\n",
       "\n",
       "mpl.figure.prototype._key_event_extra = function(event, name) {\n",
       "    var manager = IPython.notebook.keyboard_manager;\n",
       "    if (!manager)\n",
       "        manager = IPython.keyboard_manager;\n",
       "\n",
       "    // Check for shift+enter\n",
       "    if (event.shiftKey && event.which == 13) {\n",
       "        this.canvas_div.blur();\n",
       "        event.shiftKey = false;\n",
       "        // Send a \"J\" for go to next cell\n",
       "        event.which = 74;\n",
       "        event.keyCode = 74;\n",
       "        manager.command_mode();\n",
       "        manager.handle_keydown(event);\n",
       "    }\n",
       "}\n",
       "\n",
       "mpl.figure.prototype.handle_save = function(fig, msg) {\n",
       "    fig.ondownload(fig, null);\n",
       "}\n",
       "\n",
       "\n",
       "mpl.find_output_cell = function(html_output) {\n",
       "    // Return the cell and output element which can be found *uniquely* in the notebook.\n",
       "    // Note - this is a bit hacky, but it is done because the \"notebook_saving.Notebook\"\n",
       "    // IPython event is triggered only after the cells have been serialised, which for\n",
       "    // our purposes (turning an active figure into a static one), is too late.\n",
       "    var cells = IPython.notebook.get_cells();\n",
       "    var ncells = cells.length;\n",
       "    for (var i=0; i<ncells; i++) {\n",
       "        var cell = cells[i];\n",
       "        if (cell.cell_type === 'code'){\n",
       "            for (var j=0; j<cell.output_area.outputs.length; j++) {\n",
       "                var data = cell.output_area.outputs[j];\n",
       "                if (data.data) {\n",
       "                    // IPython >= 3 moved mimebundle to data attribute of output\n",
       "                    data = data.data;\n",
       "                }\n",
       "                if (data['text/html'] == html_output) {\n",
       "                    return [cell, data, j];\n",
       "                }\n",
       "            }\n",
       "        }\n",
       "    }\n",
       "}\n",
       "\n",
       "// Register the function which deals with the matplotlib target/channel.\n",
       "// The kernel may be null if the page has been refreshed.\n",
       "if (IPython.notebook.kernel != null) {\n",
       "    IPython.notebook.kernel.comm_manager.register_target('matplotlib', mpl.mpl_figure_comm);\n",
       "}\n"
      ],
      "text/plain": [
       "<IPython.core.display.Javascript object>"
      ]
     },
     "metadata": {},
     "output_type": "display_data"
    },
    {
     "data": {
      "text/html": [
       "<img src=\"data:image/png;base64,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\" width=\"1200\">"
      ],
      "text/plain": [
       "<IPython.core.display.HTML object>"
      ]
     },
     "metadata": {},
     "output_type": "display_data"
    },
    {
     "data": {
      "text/latex": [
       "$G(\\vec{x}) = G_{\\begin{bmatrix}{[(0, 64), (0, 64)]} \\cr {[(0, 64), (32, 96)]} \\cr {[(0, 64), (64, 128)]}\\end{bmatrix}} \\times \\vec{x}$"
      ],
      "text/plain": [
       "<IPython.core.display.Latex object>"
      ]
     },
     "metadata": {},
     "output_type": "display_data"
    },
    {
     "data": {
      "text/latex": [
       "$ \\nabla_xG(\\vec{x}) = G_{\\begin{bmatrix}{[(0, 64), (0, 64)]} \\cr {[(0, 64), (32, 96)]} \\cr {[(0, 64), (64, 128)]}\\end{bmatrix}}^H \\times \\vec{x}$"
      ],
      "text/plain": [
       "<IPython.core.display.Latex object>"
      ]
     },
     "metadata": {},
     "output_type": "display_data"
    }
   ],
   "source": [
    "crop_size = crop_size = (image_size[0], image_size[0])\n",
    "\n",
    "roi_list = [yp.Roi(crop_size, start=(0,0), input_shape=image_size),\n",
    "            yp.Roi(crop_size, start=(0,image_size[1] // 4), input_shape=image_size),\n",
    "            yp.Roi(crop_size, start=(0,image_size[1] // 2), input_shape=image_size)]\n",
    "\n",
    "# roi_list[0] -= 5\n",
    "\n",
    "# Create segmentation operatoe\n",
    "G = ops.Segmentation(roi_list, image_size, alpha_blend_size=0, backend=None)\n",
    "\n",
    "# Generate measurements\n",
    "y = G * x\n",
    "\n",
    "# Apply some mis-calibration to measurement\n",
    "y_list = ops.VecSplit(y, len(roi_list))\n",
    "\n",
    "# y_list[1] = yp.circshift(y_list[1], (3, -1))\n",
    "# y_list[1] *= 1.1\n",
    "# y_list[2] *= 0.9\n",
    "\n",
    "y = ops.VecStack(y_list)\n",
    "\n",
    "# Show figures\n",
    "plt.figure()\n",
    "plt.subplot(131)\n",
    "plt.imshow(yp.real(y))\n",
    "plt.title('Forward')\n",
    "plt.subplot(132)\n",
    "plt.imshow(yp.real(G.H * y))\n",
    "plt.title('Adjoint * Forward')\n",
    "plt.subplot(133)\n",
    "plt.imshow(yp.real(G.inv * y))\n",
    "plt.title('Inverse * Forward')\n",
    "\n",
    "# Perform gradient check\n",
    "G.gradient_check()\n",
    "\n",
    "# Show latex\n",
    "G.latex()\n",
    "\n",
    "# Show latex\n",
    "G.latex(gradient=True)"
   ]
  },
  {
   "cell_type": "markdown",
   "metadata": {},
   "source": [
    "# Operator Algebra"
   ]
  },
  {
   "cell_type": "markdown",
   "metadata": {},
   "source": [
    "## Inner Operators"
   ]
  },
  {
   "cell_type": "code",
   "execution_count": 25,
   "metadata": {
    "ExecuteTime": {
     "end_time": "2019-05-02T17:11:41.934343Z",
     "start_time": "2019-05-02T17:11:41.903198Z"
    }
   },
   "outputs": [
    {
     "data": {
      "text/latex": [
       "$d(\\vec{x}) = diag(e^{-i2\\pi \\vec{k} d})\\times \\vec{x}$"
      ],
      "text/plain": [
       "<IPython.core.display.Latex object>"
      ]
     },
     "metadata": {},
     "output_type": "display_data"
    },
    {
     "data": {
      "text/latex": [
       "$ \\nabla_xd(\\vec{x}) = diag(e^{-i2\\pi \\vec{k} d})^H \\times \\vec{x}$"
      ],
      "text/plain": [
       "<IPython.core.display.Latex object>"
      ]
     },
     "metadata": {},
     "output_type": "display_data"
    }
   ],
   "source": [
    "# Create phase ramp to diagonalize\n",
    "H = ops.PhaseRamp(image_size)\n",
    "s = yp.rand((2,1))\n",
    "\n",
    "# Create diagonalized phase ramp operator\n",
    "D = ops.Diagonalize(s, inside_operator=H)\n",
    "\n",
    "# Check that inside operator is set correctly\n",
    "assert yp.sum(yp.abs(D * x - ((H * s) * x))) == 0.0\n",
    "\n",
    "# Check gradient\n",
    "D.gradient_check()\n",
    "\n",
    "# Render Latex\n",
    "D.latex()\n",
    "\n",
    "# Render gradient\n",
    "D.latex(gradient=True)"
   ]
  },
  {
   "cell_type": "markdown",
   "metadata": {},
   "source": [
    "## Operator-Vector Sum"
   ]
  },
  {
   "cell_type": "code",
   "execution_count": 26,
   "metadata": {
    "ExecuteTime": {
     "end_time": "2019-05-02T17:11:43.437037Z",
     "start_time": "2019-05-02T17:11:43.398793Z"
    },
    "scrolled": false
   },
   "outputs": [
    {
     "data": {
      "text/latex": [
       "$A(\\vec{x}) = (C \\times \\vec{x} + \\vec{y} )$"
      ],
      "text/plain": [
       "<IPython.core.display.Latex object>"
      ]
     },
     "metadata": {},
     "output_type": "display_data"
    },
    {
     "data": {
      "text/latex": [
       "$ \\nabla_xA(\\vec{x}) = C^H \\times \\vec{x}$"
      ],
      "text/plain": [
       "<IPython.core.display.Latex object>"
      ]
     },
     "metadata": {},
     "output_type": "display_data"
    }
   ],
   "source": [
    "# Test sum operations here\n",
    "F = ops.FourierTransform(image_size, center=False)\n",
    "y = F * x\n",
    "A_s = A + y\n",
    "\n",
    "# Forward operator\n",
    "assert yp.sum(yp.abs(A_s * x - (A * x + y))) < eps\n",
    "\n",
    "# Adjoint\n",
    "assert yp.sum(yp.abs(A_s.H * x - A.H * x)) < eps\n",
    "\n",
    "# Gradient Numerical Check\n",
    "A.gradient_check()\n",
    "  \n",
    "# Render forward model\n",
    "A_s.latex()\n",
    "\n",
    "# Render gradient\n",
    "A_s.latex(gradient=True)"
   ]
  },
  {
   "cell_type": "markdown",
   "metadata": {},
   "source": [
    "# Operator Mechanics"
   ]
  },
  {
   "cell_type": "markdown",
   "metadata": {},
   "source": [
    "## Linearity Flag"
   ]
  },
  {
   "cell_type": "code",
   "execution_count": 27,
   "metadata": {
    "ExecuteTime": {
     "end_time": "2019-05-02T17:11:49.353442Z",
     "start_time": "2019-05-02T17:11:49.328379Z"
    }
   },
   "outputs": [],
   "source": [
    "F = ops.FourierTransform(image_size) # Linear Operator\n",
    "L2 = ops.L2Norm(image_size[0] * image_size[1]) # Non-linear operator\n",
    "\n",
    "assert F.linear\n",
    "assert not L2.linear\n",
    "assert not (L2 * F).linear\n",
    "assert (F + F).linear\n",
    "assert not (L2 * F + L2 * F).linear"
   ]
  },
  {
   "cell_type": "markdown",
   "metadata": {},
   "source": [
    "## Smoothness Flag"
   ]
  },
  {
   "cell_type": "code",
   "execution_count": 28,
   "metadata": {
    "ExecuteTime": {
     "end_time": "2019-05-02T17:11:50.381139Z",
     "start_time": "2019-05-02T17:11:50.356445Z"
    }
   },
   "outputs": [],
   "source": [
    "F = ops.FourierTransform(image_size) # Linear Operator\n",
    "L1 = ops.L1Norm(image_size) # Non-linear operator\n",
    "\n",
    "assert F.smooth\n",
    "assert not L1.smooth\n",
    "assert not (L1 * F).smooth\n",
    "assert (F + F).smooth\n",
    "assert not (L1 * F + L2 * F).smooth\n",
    "assert not (L1 * F + L1 * F).smooth"
   ]
  },
  {
   "cell_type": "markdown",
   "metadata": {},
   "source": [
    "## Operator Indexing (Suboperators)"
   ]
  },
  {
   "cell_type": "code",
   "execution_count": 29,
   "metadata": {
    "ExecuteTime": {
     "end_time": "2019-05-02T17:11:51.628456Z",
     "start_time": "2019-05-02T17:11:51.600340Z"
    }
   },
   "outputs": [
    {
     "data": {
      "text/latex": [
       "$A(\\vec{x}) = F^H \\times diag(\\vec{K})\\times F \\times \\vec{x}$"
      ],
      "text/plain": [
       "<IPython.core.display.Latex object>"
      ]
     },
     "metadata": {},
     "output_type": "display_data"
    },
    {
     "data": {
      "text/latex": [
       "$ \\nabla_xA(\\vec{x}) = F^H \\times diag(\\vec{K})^H \\times F \\times \\vec{x}$"
      ],
      "text/plain": [
       "<IPython.core.display.Latex object>"
      ]
     },
     "metadata": {},
     "output_type": "display_data"
    }
   ],
   "source": [
    "K = ops.Diagonalize(h, label='K')\n",
    "K_2 = ops.Diagonalize(h, label='Q')\n",
    "F = ops.FourierTransform(image_size)\n",
    "\n",
    "A = F.H * K * F\n",
    "A.label = 'A'\n",
    "\n",
    "A.suboperators[1].argument = yp.ones(h.shape)\n",
    "\n",
    "# Render forward model\n",
    "A.latex()\n",
    "\n",
    "# Render gradient\n",
    "A.latex(gradient=True)"
   ]
  },
  {
   "cell_type": "markdown",
   "metadata": {},
   "source": [
    "# Condition Number Calculation\n",
    "The condition number of a matrix product $AB$ is bounded by the following relation:\n",
    "$$\\kappa\\{AB\\} \\geq \\kappa\\{B\\}\\kappa\\{B\\}$$\n",
    "\n",
    "Unless either $A$ or $B$ is unitary ($\\kappa\\{\\cdot\\}=1$), we cannot know the condition number exactly since the spectrum basis (eigenvectors) are not common between these two matricies. In the future, we could store the whole spectrum and check this, but this would be complicated to implement."
   ]
  },
  {
   "cell_type": "code",
   "execution_count": 30,
   "metadata": {
    "ExecuteTime": {
     "end_time": "2019-05-02T17:11:54.386366Z",
     "start_time": "2019-05-02T17:11:54.357284Z"
    }
   },
   "outputs": [],
   "source": [
    "# Unitary Matrix\n",
    "F = ops.FourierTransform(image_size)\n",
    "assert F.condition_number == 1\n",
    "assert not F.condition_number_is_upper_bound\n",
    "\n",
    "# Matrix with a condition number\n",
    "hh = yp.changeBackend((np.random.rand(image_size[0], image_size[1]) + 0.1).astype(np.complex64), global_backend)\n",
    "D = ops.Diagonalize(hh) \n",
    "assert not D.condition_number_is_upper_bound\n",
    "\n",
    "# Product of two unitary matricies\n",
    "assert (F * F).condition_number == 1\n",
    "# assert not (F * F).condition_number_is_upper_bound\n",
    "\n",
    "# Product of one unitary and one non-singular matrix\n",
    "assert (F * D).condition_number == D.condition_number\n",
    "# assert not (F * D).condition_number_is_upper_bound # because one matrix is unitary, this condition number is NOT an upper bound. This can be checked numerically.\n",
    "\n",
    "# Product of two non-singular matricies.\n",
    "hh_2 = yp.changeBackend((np.random.rand(image_size[0], image_size[1]) + 0.1).astype(np.complex64), global_backend)\n",
    "D2 = ops.Diagonalize(hh_2) \n",
    "assert (D * D2).condition_number >= D.condition_number\n",
    "# assert not (D * D2).condition_number_is_upper_bound\n",
    "\n",
    "# Product of two diagonal matricies seperated by a F.T.\n",
    "assert (D * F * D2).condition_number >= D.condition_number\n",
    "assert (D * F * D2).condition_number_is_upper_bound"
   ]
  },
  {
   "cell_type": "markdown",
   "metadata": {},
   "source": [
    "## Check if an Operator is the Inverse of another operator"
   ]
  },
  {
   "cell_type": "code",
   "execution_count": 32,
   "metadata": {
    "ExecuteTime": {
     "end_time": "2019-05-02T17:13:28.464271Z",
     "start_time": "2019-05-02T17:13:28.440173Z"
    }
   },
   "outputs": [
    {
     "name": "stdout",
     "output_type": "stream",
     "text": [
      "True\n",
      "True\n"
     ]
    }
   ],
   "source": [
    "F = ops.FourierTransform(h.shape)\n",
    "F = ops.FourierTransform(h.shape)\n",
    "print(F.isAdjointOf(F.H))\n",
    "print((F.isInverseOf(F.H)))"
   ]
  },
  {
   "cell_type": "markdown",
   "metadata": {},
   "source": [
    "## Removal of Inverses and Redundant Products"
   ]
  },
  {
   "cell_type": "code",
   "execution_count": 33,
   "metadata": {
    "ExecuteTime": {
     "end_time": "2019-05-02T17:13:29.277525Z",
     "start_time": "2019-05-02T17:13:29.249376Z"
    }
   },
   "outputs": [],
   "source": [
    "F = ops.FourierTransform(image_size)\n",
    "D = ops.Diagonalize(h)\n",
    "L2 = ops.L2Norm(h.shape)\n",
    "I = ops.Identity(image_size)\n",
    "y = F * x\n",
    "\n",
    "# Simple introspection\n",
    "A = F.H * F\n",
    "assert 'Identity' in str(A)\n",
    "\n",
    "# Introspection with extra operators on right\n",
    "A = F.H * F * D\n",
    "assert 'Fourier' not in str(A)\n",
    "\n",
    "# Introspection with extra operators on left\n",
    "A = D * F.H * F\n",
    "assert 'Fourier' not in str(A)\n",
    "\n",
    "# Introspection wiht several opposites\n",
    "A = F.H * F * D * F.H * F\n",
    "assert 'Fourier' not in str(A)"
   ]
  },
  {
   "cell_type": "markdown",
   "metadata": {},
   "source": [
    "# Inverses"
   ]
  },
  {
   "cell_type": "markdown",
   "metadata": {},
   "source": [
    "## Linear Inverses"
   ]
  },
  {
   "cell_type": "code",
   "execution_count": 37,
   "metadata": {
    "ExecuteTime": {
     "end_time": "2019-05-02T17:19:40.424980Z",
     "start_time": "2019-05-02T17:19:40.392846Z"
    }
   },
   "outputs": [],
   "source": [
    "# Fourier Transform\n",
    "A = ops.FourierTransform(x.shape)\n",
    "assert yp.sum(yp.abs(A.inv * A * x - x)) < 1e-3\n",
    "\n",
    "# Identity\n",
    "A = ops.Identity(x.shape)\n",
    "assert yp.sum(yp.abs(A.inv * A * x - x)) < 1e-3\n",
    "\n",
    "# Shift\n",
    "A = ops.Shift(x.shape, (10,10))\n",
    "assert yp.sum(yp.abs(A.inv * A * x - x)) < 1e-3\n",
    "\n",
    "# Convolution (explicit)\n",
    "F = ops.FourierTransform(h.shape)\n",
    "A = F.H * ops.Diagonalize((F * h), inverse_regularizer=1e-10) * F\n",
    "assert yp.sum(yp.abs(A.inv * A * x - x)) < 1\n",
    "\n",
    "# Convolution (implicit)\n",
    "A = ops.Convolution(h, inverse_regularizer=0)\n",
    "assert yp.sum(yp.abs(A.inv * A * x - x)) < 1e-3"
   ]
  },
  {
   "cell_type": "markdown",
   "metadata": {},
   "source": [
    "# Gradients"
   ]
  },
  {
   "cell_type": "markdown",
   "metadata": {},
   "source": [
    "## Gradients of Linear Operators\n",
    "We'll assume that if the adjoint is provided, the gradient operator is just the adjoint operating on the input (x), or current iterate. This allows us to specify either the adjoint (linear operator) OR the gradient (non-linear operator) for each operator, and the rest will be handled by the metaclass."
   ]
  },
  {
   "cell_type": "code",
   "execution_count": null,
   "metadata": {
    "ExecuteTime": {
     "end_time": "2019-05-02T16:22:46.454668Z",
     "start_time": "2019-05-02T16:22:46.424262Z"
    },
    "scrolled": false
   },
   "outputs": [],
   "source": [
    "# Simple test case (linear operator)\n",
    "A = ops.FourierTransform(image_size)\n",
    "\n",
    "# Check validity of gradient operator (and several short-hand pass-through functions)\n",
    "A.gradient_check()\n",
    "\n",
    "# Render forward model\n",
    "A.latex()\n",
    "\n",
    "# Render gradient\n",
    "A.latex(gradient=True)"
   ]
  },
  {
   "cell_type": "markdown",
   "metadata": {},
   "source": [
    "## Chained Linear Gradients"
   ]
  },
  {
   "cell_type": "code",
   "execution_count": null,
   "metadata": {
    "ExecuteTime": {
     "end_time": "2019-05-02T16:22:47.371150Z",
     "start_time": "2019-05-02T16:22:47.336536Z"
    },
    "scrolled": false
   },
   "outputs": [],
   "source": [
    "# Chained linear operators\n",
    "F = ops.FourierTransform(image_size)\n",
    "D = ops.Diagonalize(yp.asbackend(h, global_backend))\n",
    "A = F.H * D * F\n",
    "A.label = 'A'\n",
    "\n",
    "# Check gradient numerically\n",
    "A.gradient_check()\n",
    "\n",
    "# Render forward model\n",
    "A.latex()\n",
    "\n",
    "# Render gradient\n",
    "A.latex(gradient=True)"
   ]
  },
  {
   "cell_type": "markdown",
   "metadata": {},
   "source": [
    "## Chained Nonlinear Gradients"
   ]
  },
  {
   "cell_type": "markdown",
   "metadata": {},
   "source": [
    "### Inner convolution (linear) operator with outer L2 Norm (non-linear) operator"
   ]
  },
  {
   "cell_type": "code",
   "execution_count": null,
   "metadata": {
    "ExecuteTime": {
     "end_time": "2019-05-02T16:22:48.687932Z",
     "start_time": "2019-05-02T16:22:48.652099Z"
    },
    "scrolled": false
   },
   "outputs": [],
   "source": [
    "# Inner convolution (linear) operator with outer L2 Norm (non-linear) operator\n",
    "L2 = ops.L2Norm(image_size)\n",
    "F = ops.FourierTransform(image_size)\n",
    "D = ops.Diagonalize(h)\n",
    "A_linear = F.H * D * F\n",
    "# A_linear.label = 'A_{linear}'\n",
    "A = L2 * A_linear\n",
    "\n",
    "# Check forward operator\n",
    "assert np.all(yp.abs(A * x - 0.5 * yp.norm(A_linear * x) ** 2) < eps)\n",
    "\n",
    "# Check gradient operator\n",
    "A.gradient_check()\n",
    "\n",
    "# Render forward model\n",
    "A.latex()\n",
    "\n",
    "# Render gradient\n",
    "A.latex(gradient=True)"
   ]
  },
  {
   "cell_type": "markdown",
   "metadata": {},
   "source": [
    "### Inner convolution and vector subtraction (linear) operator with outer L2 Norm (non-linear) operator"
   ]
  },
  {
   "cell_type": "code",
   "execution_count": null,
   "metadata": {
    "ExecuteTime": {
     "end_time": "2019-05-02T16:22:49.616055Z",
     "start_time": "2019-05-02T16:22:49.580176Z"
    },
    "scrolled": false
   },
   "outputs": [],
   "source": [
    "L2 = ops.L2Norm(image_size)\n",
    "F = ops.FourierTransform(image_size)\n",
    "D = ops.Diagonalize(h)\n",
    "A = F.H * D * F\n",
    "\n",
    "# Data difference function\n",
    "Delta = (A - y)\n",
    "\n",
    "# Objective Function\n",
    "O = L2 * Delta\n",
    "\n",
    "# Check forward operator\n",
    "assert np.all(yp.abs(O * x - 0.5 * yp.norm(Delta * x) ** 2) < eps)\n",
    "\n",
    "# Check gradient operator (adjoint form)\n",
    "O.gradient_check()\n",
    "\n",
    "# Render forward model\n",
    "O.latex()\n",
    "\n",
    "# Render gradient\n",
    "O.latex(gradient=True)"
   ]
  },
  {
   "cell_type": "markdown",
   "metadata": {},
   "source": [
    "### Inner non-linear operator, linear operator in middle, and norm on outside"
   ]
  },
  {
   "cell_type": "code",
   "execution_count": null,
   "metadata": {
    "ExecuteTime": {
     "end_time": "2019-05-02T16:22:50.426752Z",
     "start_time": "2019-05-02T16:22:50.386727Z"
    },
    "scrolled": false
   },
   "outputs": [],
   "source": [
    "phase_ramp_dtype = 'complex32'\n",
    "x_long = yp.astype(x, phase_ramp_dtype)\n",
    "\n",
    "# Inner non-linear operator, linear operator in middle, and norm on outside\n",
    "shift_true = yp.changeBackend(np.asarray((-5,3)).astype(yp.getNativeDatatype(phase_ramp_dtype, 'numpy')), global_backend)\n",
    "\n",
    "# Inner non-linear operator, linear operator in middle, and norm on outside\n",
    "F = ops.FourierTransform(image_size, dtype=phase_ramp_dtype, backend=global_backend)\n",
    "D_object = ops.Diagonalize(F * x_long, label='object', dtype=phase_ramp_dtype, backend=global_backend)\n",
    "R = ops.PhaseRamp(image_size, dtype=phase_ramp_dtype, backend=global_backend)\n",
    "A_shift = F.H * D_object * R\n",
    "\n",
    "y1 = A_shift(shift_true)\n",
    "L2 = ops.L2Norm(image_size, dtype=phase_ramp_dtype, backend=global_backend)\n",
    "objective = L2 * (A_shift - y1)\n",
    "\n",
    "# Check gradient\n",
    "objective.gradient_check()\n",
    "\n",
    "# Render forward model\n",
    "objective.latex()\n",
    "\n",
    "# Render gradient\n",
    "objective.latex(gradient=True)"
   ]
  },
  {
   "cell_type": "markdown",
   "metadata": {},
   "source": [
    "## Sum of Phase Ramps"
   ]
  },
  {
   "cell_type": "code",
   "execution_count": null,
   "metadata": {
    "ExecuteTime": {
     "end_time": "2019-05-02T16:22:51.478761Z",
     "start_time": "2019-05-02T16:22:51.427553Z"
    },
    "scrolled": false
   },
   "outputs": [],
   "source": [
    "phase_ramp_dtype = 'complex32'\n",
    "x_long = yp.astype(x, phase_ramp_dtype)\n",
    "\n",
    "# Inner non-linear operator, linear operator in middle, and norm on outside\n",
    "shift_true = yp.changeBackend(np.asarray((-5,3)).astype(yp.getNativeDatatype(phase_ramp_dtype, 'numpy')), global_backend)\n",
    "\n",
    "# Inner non-linear operator, linear operator in middle, and norm on outside\n",
    "F = ops.FourierTransform(image_size, dtype=phase_ramp_dtype, backend=global_backend)\n",
    "D_object = ops.Diagonalize(yp.reshape(F * vec(x_long), image_size), label='D_{object}', dtype=phase_ramp_dtype, backend=global_backend)\n",
    "R = ops.PhaseRamp(image_size, dtype=phase_ramp_dtype, backend=global_backend)\n",
    "H = ops.Hstack((R, R, R))\n",
    "A_shift = F.H * D_object * H\n",
    "\n",
    "xx = yp.changeBackend(np.hstack((np.asarray(shift_true), np.asarray(shift_true), np.asarray(shift_true))), global_backend)\n",
    "y_sum = A_shift * yp.changeBackend(np.hstack((np.asarray(shift_true), np.asarray(shift_true), np.asarray(shift_true))), global_backend)\n",
    "L2 = ops.L2Norm(image_size, dtype=phase_ramp_dtype, backend=global_backend)\n",
    "objective = L2 * (A_shift - y_sum)\n",
    "\n",
    "# Check gradient\n",
    "objective.gradient_check()\n",
    "\n",
    "# Render forward model\n",
    "objective.latex()\n",
    "\n",
    "# Render gradient\n",
    "objective.latex(gradient=True)"
   ]
  },
  {
   "cell_type": "markdown",
   "metadata": {},
   "source": [
    "### Scaling a Norm"
   ]
  },
  {
   "cell_type": "code",
   "execution_count": null,
   "metadata": {
    "ExecuteTime": {
     "end_time": "2019-05-02T16:22:52.608268Z",
     "start_time": "2019-05-02T16:22:52.577958Z"
    },
    "scrolled": false
   },
   "outputs": [],
   "source": [
    "L2 = ops.L2Norm(image_size, dtype=global_dtype)\n",
    "F = ops.FourierTransform(image_size, dtype=global_dtype, axes=(0, 1))\n",
    "D = ops.Diagonalize(h, dtype=global_dtype)\n",
    "\n",
    "O_2 = L2 * F\n",
    "O = 0.1 * O_2\n",
    "\n",
    "# Check gradient operator (adjoint form)\n",
    "O.gradient_check()\n",
    "\n",
    "# Render forward model\n",
    "O.latex()\n",
    "\n",
    "# Render gradient\n",
    "O.latex(gradient=True)"
   ]
  },
  {
   "cell_type": "markdown",
   "metadata": {},
   "source": [
    "### Sum of Norms (E.g. regularization)"
   ]
  },
  {
   "cell_type": "code",
   "execution_count": null,
   "metadata": {
    "ExecuteTime": {
     "end_time": "2019-05-02T16:22:53.622919Z",
     "start_time": "2019-05-02T16:22:53.580714Z"
    },
    "scrolled": false
   },
   "outputs": [],
   "source": [
    "L2 = ops.L2Norm(image_size)\n",
    "F = ops.FourierTransform(image_size)\n",
    "D = ops.Diagonalize(h)\n",
    "\n",
    "O_1 = L2 * ((F.H * D * F) - y)\n",
    "O_2 = 1e-3 * L2 * F\n",
    "O = O_2 + O_1\n",
    "\n",
    "# Check gradient operator (adjoint form)\n",
    "O.gradient_check()\n",
    "\n",
    "# Render forward model\n",
    "O.latex()\n",
    "\n",
    "# Render gradient\n",
    "O.latex(gradient=True)"
   ]
  },
  {
   "cell_type": "markdown",
   "metadata": {},
   "source": [
    "# Stacking Operators\n",
    "\n",
    "Stacking operators are tricky - they need to take or return a VectorStack class, which is simply a container for images of different sizes to be operated on independently.\n",
    "\n",
    "Hstack - operates on a vectorstack (or vector) class, returns a vector\n",
    "\n",
    "Vstack - operates on a vector, returns a vectorstack class\n",
    "\n",
    "Diagstack - operates on a vectorstack, returns a vectorstack"
   ]
  },
  {
   "cell_type": "code",
   "execution_count": null,
   "metadata": {
    "ExecuteTime": {
     "end_time": "2019-05-02T16:22:58.743370Z",
     "start_time": "2019-05-02T16:22:58.719986Z"
    },
    "scrolled": false
   },
   "outputs": [],
   "source": [
    "# Create list of operators\n",
    "op_list_nonlinear = [\n",
    "            ops.FourierTransform(image_size),\n",
    "            ops.Identity(image_size),\n",
    "            ops.Exponential(image_size)\n",
    "]\n",
    "\n",
    "op_list_linear = [\n",
    "            ops.FourierTransform(image_size),\n",
    "            ops.Identity(image_size),\n",
    "            ops.Diagonalize(h)\n",
    "]"
   ]
  },
  {
   "cell_type": "markdown",
   "metadata": {},
   "source": [
    "## Horizontal Stacking"
   ]
  },
  {
   "cell_type": "markdown",
   "metadata": {},
   "source": [
    "### Linear Stacking"
   ]
  },
  {
   "cell_type": "code",
   "execution_count": null,
   "metadata": {
    "ExecuteTime": {
     "end_time": "2019-05-02T16:22:59.985445Z",
     "start_time": "2019-05-02T16:22:59.945888Z"
    },
    "scrolled": false
   },
   "outputs": [],
   "source": [
    "# Horizontally stacked operators\n",
    "H_l = ops.Hstack(op_list_linear)\n",
    "\n",
    "# Vertically stack x for forward operator\n",
    "x_np = yp.changeBackend(x, 'numpy')\n",
    "x3 = yp.changeBackend(np.vstack((x_np,x_np, x_np)), global_backend)\n",
    "\n",
    "# Check forward operation\n",
    "y2 = yp.zeros(op_list_linear[0].N, op_list_linear[0].dtype, op_list_linear[0].backend)\n",
    "\n",
    "for op in op_list_linear:\n",
    "    y2 = y2 + op * x\n",
    "\n",
    "# Check equality\n",
    "yp.assert_equality(H_l(x3), y2)\n",
    "\n",
    "# Check gradient\n",
    "H_l.gradient_check()\n",
    "\n",
    "# Render forward model\n",
    "H_l.latex()\n",
    "\n",
    "# Render gradient\n",
    "H_l.latex(gradient=True)"
   ]
  },
  {
   "cell_type": "markdown",
   "metadata": {},
   "source": [
    "### Non-linear operators"
   ]
  },
  {
   "cell_type": "code",
   "execution_count": null,
   "metadata": {
    "ExecuteTime": {
     "end_time": "2019-05-02T16:23:01.000124Z",
     "start_time": "2019-05-02T16:23:00.963646Z"
    },
    "scrolled": false
   },
   "outputs": [],
   "source": [
    "# Horizontally stacked operators\n",
    "H_nl = ops.Hstack(op_list_nonlinear)\n",
    "\n",
    "# Vertically stack x for forward operator\n",
    "x3 = yp.changeBackend(np.vstack((x, x, x)), global_backend)\n",
    "\n",
    "# Check forward operation\n",
    "y2 = yp.zeros(op_list_nonlinear[0].shape[0], op_list_nonlinear[0].dtype, op_list_nonlinear[0].backend)\n",
    "for op in op_list_nonlinear:\n",
    "    y2 += op * x\n",
    "    \n",
    "assert yp.sum(yp.abs(H_nl(x3) - y2)) < eps, \"%.4e\" % yp.sum(yp.abs(H_nl(x3)) - y2)\n",
    "\n",
    "# Check gradient\n",
    "H_nl.gradient_check()\n",
    "\n",
    "# Render forward model\n",
    "H_nl.latex()\n",
    "\n",
    "# Render gradient\n",
    "H_nl.latex(gradient=True)"
   ]
  },
  {
   "cell_type": "markdown",
   "metadata": {},
   "source": [
    "## Vertical Stacking"
   ]
  },
  {
   "cell_type": "markdown",
   "metadata": {},
   "source": [
    "### Linear Operators"
   ]
  },
  {
   "cell_type": "code",
   "execution_count": null,
   "metadata": {
    "ExecuteTime": {
     "end_time": "2019-05-02T16:23:02.426294Z",
     "start_time": "2019-05-02T16:23:02.386633Z"
    },
    "scrolled": false
   },
   "outputs": [],
   "source": [
    "# Create vertically stacked operator\n",
    "V_l = ops.Vstack(op_list_linear)\n",
    "\n",
    "# Check forward operator\n",
    "y3 = np.empty((0,image_size[1]), dtype=yp.getNativeDatatype(global_dtype, 'numpy'))\n",
    "for index, op in enumerate(op_list_linear):\n",
    "    y3 = np.append(y3, (op * x), axis=0)\n",
    "    \n",
    "y3 = yp.changeBackend(y3, global_backend)\n",
    "assert yp.sum(yp.abs(V_l * x - y3)) < eps, \"%.4e\" % yp.sum(yp.abs(V_l * vec(x) - y3))\n",
    "\n",
    "# Check gradient\n",
    "V_l.gradient_check()\n",
    "\n",
    "# Render forward model\n",
    "V_l.latex()\n",
    "\n",
    "# Render gradient\n",
    "V_l.latex(gradient=True)"
   ]
  },
  {
   "cell_type": "markdown",
   "metadata": {},
   "source": [
    "### Nonlinear Operators"
   ]
  },
  {
   "cell_type": "code",
   "execution_count": null,
   "metadata": {
    "ExecuteTime": {
     "end_time": "2019-05-02T16:23:03.268120Z",
     "start_time": "2019-05-02T16:23:03.232112Z"
    },
    "scrolled": false
   },
   "outputs": [],
   "source": [
    "# Create list of operators\n",
    "op_list_nonlinear = [\n",
    "            ops.FourierTransform(image_size),\n",
    "            ops.Identity(image_size),\n",
    "            ops.Exponential(image_size)\n",
    "]\n",
    "\n",
    "# Create vertically stacked operator\n",
    "V_nl = ops.Vstack(op_list_nonlinear)\n",
    "\n",
    "# Check forward operator\n",
    "y3 = np.empty((0,image_size[1]), dtype=yp.getNativeDatatype(global_dtype, 'numpy'))\n",
    "for index, op in enumerate(op_list_nonlinear):\n",
    "    y3 = np.append(y3, (op * x), axis=0)\n",
    "    \n",
    "y3 = yp.changeBackend(y3, global_backend)\n",
    "\n",
    "yp.assert_equality(V_nl * x, y3)\n",
    "\n",
    "# Check gradient\n",
    "V_nl.gradient_check()\n",
    "\n",
    "# Render forward model\n",
    "V_nl.latex()\n",
    "\n",
    "# Render gradient\n",
    "V_nl.latex(gradient=True)"
   ]
  },
  {
   "cell_type": "markdown",
   "metadata": {},
   "source": [
    "## Diagonal Stacking"
   ]
  },
  {
   "cell_type": "markdown",
   "metadata": {},
   "source": [
    "### Linear Operators"
   ]
  },
  {
   "cell_type": "code",
   "execution_count": null,
   "metadata": {
    "ExecuteTime": {
     "end_time": "2019-05-02T16:23:04.616578Z",
     "start_time": "2019-05-02T16:23:04.581100Z"
    },
    "scrolled": false
   },
   "outputs": [],
   "source": [
    "# Horizontally stacked operators\n",
    "D_l = ops.Dstack(op_list_linear)\n",
    "\n",
    "# Vertically stack x for forward operator\n",
    "x3 = yp.changeBackend(np.vstack((x, x, x)), global_backend)\n",
    "\n",
    "# Check forward operation\n",
    "y4 = np.empty((0,image_size[1]), dtype=yp.getNativeDatatype(global_dtype, 'numpy'))\n",
    "for index, op in enumerate(op_list_linear):\n",
    "    y4 = np.append(y4, (op * x), axis=0)\n",
    "    \n",
    "y4 = yp.changeBackend(y4, global_backend)\n",
    "\n",
    "# Check forward\n",
    "yp.assert_equality(D_l(x3), y4)\n",
    "\n",
    "# Check gradient\n",
    "D_l.gradient_check()\n",
    "\n",
    "# Render forward model\n",
    "D_l.latex()\n",
    "\n",
    "# Render gradient\n",
    "D_l.latex(gradient=True)"
   ]
  },
  {
   "cell_type": "markdown",
   "metadata": {},
   "source": [
    "### Nonlinear operators"
   ]
  },
  {
   "cell_type": "code",
   "execution_count": null,
   "metadata": {
    "ExecuteTime": {
     "end_time": "2019-05-02T16:23:30.890182Z",
     "start_time": "2019-05-02T16:23:30.830831Z"
    },
    "scrolled": false
   },
   "outputs": [],
   "source": [
    "# Horizontally stacked operators\n",
    "D_nl = ops.Dstack(op_list_nonlinear)\n",
    "\n",
    "# Vertically stack x for forward operator\n",
    "x3 = yp.changeBackend(np.vstack((x, x, x)), global_backend)\n",
    "\n",
    "# Check forward operation\n",
    "y4 = np.empty((0,image_size[1]), dtype=yp.getNativeDatatype(global_dtype, 'numpy'))\n",
    "for index, op in enumerate(op_list_nonlinear):\n",
    "    y4 = np.append(y4, (op * x), axis=0)\n",
    "    \n",
    "y4 = yp.changeBackend(y4, global_backend)\n",
    "\n",
    "# Check forward operation\n",
    "yp.assert_equality(D_nl(x3), y4)\n",
    "\n",
    "# Check gradient\n",
    "# D_nl.gradient_check()\n",
    "\n",
    "# Render forward model\n",
    "D_nl.latex()\n",
    "\n",
    "# Render gradient\n",
    "D_nl.latex(gradient=True)"
   ]
  },
  {
   "cell_type": "markdown",
   "metadata": {},
   "source": [
    "## Sum of Operators"
   ]
  },
  {
   "cell_type": "code",
   "execution_count": null,
   "metadata": {
    "ExecuteTime": {
     "end_time": "2019-05-02T16:24:22.602390Z",
     "start_time": "2019-05-02T16:24:22.562825Z"
    },
    "scrolled": false
   },
   "outputs": [],
   "source": [
    "# Sum of operators\n",
    "S = ops.OperatorSum(op_list_nonlinear)\n",
    "\n",
    "# Check forward operator\n",
    "assert yp.sum(yp.abs(S * x - sum([op_list_nonlinear[i] * x for i in range(len(op_list_nonlinear))]))) < eps, '%f' % yp.sum(yp.abs(S * x - sum([op_list_nonlinear[i] * x for i in range(len(op_list_nonlinear))])))\n",
    "\n",
    "# Check gradient\n",
    "S.gradient_check()\n",
    "\n",
    "# Render forward model\n",
    "S.latex()\n",
    "\n",
    "# Render gradient\n",
    "S.latex(gradient=True)"
   ]
  },
  {
   "cell_type": "markdown",
   "metadata": {},
   "source": [
    "### Sum of Exponentials"
   ]
  },
  {
   "cell_type": "code",
   "execution_count": null,
   "metadata": {
    "ExecuteTime": {
     "end_time": "2019-05-02T16:24:23.770602Z",
     "start_time": "2019-05-02T16:24:23.639804Z"
    },
    "scrolled": false
   },
   "outputs": [],
   "source": [
    "EXP = ops.Exponential(image_size)\n",
    "exp_list = [EXP] * 5\n",
    "\n",
    "# Sum of operators\n",
    "S = ops.OperatorSum(exp_list)\n",
    "\n",
    "# Check forward operator\n",
    "assert yp.sum(yp.abs(S * x - sum([exp_list[i] * x for i in range(len(exp_list))]))) < eps, '%f' % yp.sum(yp.abs(S * x - sum([exp_list[i] * x for i in range(len(exp_list))])))\n",
    "\n",
    "# Check gradient\n",
    "S.gradient_check()\n",
    "\n",
    "# print latex\n",
    "S.latex()"
   ]
  },
  {
   "cell_type": "markdown",
   "metadata": {
    "ExecuteTime": {
     "end_time": "2018-04-26T23:08:19.089223Z",
     "start_time": "2018-04-26T23:08:19.036646Z"
    }
   },
   "source": [
    "### Sum of Phase Ramps"
   ]
  },
  {
   "cell_type": "code",
   "execution_count": null,
   "metadata": {
    "ExecuteTime": {
     "end_time": "2019-05-02T16:24:26.924723Z",
     "start_time": "2019-05-02T16:24:26.866044Z"
    },
    "scrolled": false
   },
   "outputs": [],
   "source": [
    "phase_ramp_dtype = 'complex32'\n",
    "x_long = yp.astype(x, phase_ramp_dtype)\n",
    "shift = yp.changeBackend(np.asarray((-5,3)).astype(yp.getNativeDatatype(phase_ramp_dtype, 'numpy')), global_backend)\n",
    "\n",
    "R = ops.PhaseRamp(image_size, dtype=phase_ramp_dtype, backend=global_backend)\n",
    "r_list = [R] * 3\n",
    "\n",
    "# Sum of operators\n",
    "S = ops.OperatorSum(r_list)\n",
    "\n",
    "# Check forward operator\n",
    "assert yp.sum(yp.abs(S * shift - sum([r_list[i] * shift for i in range(len(r_list))]))) < eps, '%f' % yp.sum(yp.abs(S * shift - sum([r_list[i] * vec(shift) for i in range(len(exp_list))]))) \n",
    "\n",
    "# Check gradient\n",
    "S.gradient_check(eps=1)\n",
    "\n",
    "# Render forward model\n",
    "S.latex()\n",
    "\n",
    "# Render gradient\n",
    "S.latex(gradient=True)"
   ]
  }
 ],
 "metadata": {
  "kernelspec": {
   "display_name": "Python 3",
   "language": "python",
   "name": "python3"
  },
  "language_info": {
   "codemirror_mode": {
    "name": "ipython",
    "version": 3
   },
   "file_extension": ".py",
   "mimetype": "text/x-python",
   "name": "python",
   "nbconvert_exporter": "python",
   "pygments_lexer": "ipython3",
   "version": "3.7.3"
  },
  "latex_envs": {
   "LaTeX_envs_menu_present": true,
   "autocomplete": true,
   "bibliofile": "biblio.bib",
   "cite_by": "apalike",
   "current_citInitial": 1,
   "eqLabelWithNumbers": true,
   "eqNumInitial": 1,
   "hotkeys": {
    "equation": "Ctrl-E",
    "itemize": "Ctrl-I"
   },
   "labels_anchors": false,
   "latex_user_defs": false,
   "report_style_numbering": false,
   "user_envs_cfg": false
  },
  "varInspector": {
   "cols": {
    "lenName": 16,
    "lenType": 16,
    "lenVar": 40
   },
   "kernels_config": {
    "python": {
     "delete_cmd_postfix": "",
     "delete_cmd_prefix": "del ",
     "library": "var_list.py",
     "varRefreshCmd": "print(var_dic_list())"
    },
    "r": {
     "delete_cmd_postfix": ") ",
     "delete_cmd_prefix": "rm(",
     "library": "var_list.r",
     "varRefreshCmd": "cat(var_dic_list()) "
    }
   },
   "types_to_exclude": [
    "module",
    "function",
    "builtin_function_or_method",
    "instance",
    "_Feature"
   ],
   "window_display": true
  }
 },
 "nbformat": 4,
 "nbformat_minor": 2
}
